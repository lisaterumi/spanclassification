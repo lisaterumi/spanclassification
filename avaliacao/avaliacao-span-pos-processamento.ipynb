{
 "cells": [
  {
   "cell_type": "code",
   "execution_count": 121,
   "metadata": {},
   "outputs": [],
   "source": [
    "from sklearn.metrics import classification_report, accuracy_score, confusion_matrix\n",
    "import os\n",
    "from pathlib import Path\n",
    "import re\n",
    "import pickle\n",
    "# ver qtos o modelo apenas de ner acertaria\n",
    "from transformers import AutoTokenizer, AutoModelForTokenClassification\n",
    "import nltk    \n",
    "from nltk import tokenize \n",
    "import torch\n",
    "from transformers import BertTokenizer,BertForTokenClassification\n",
    "import numpy as np\n",
    "import json   \n",
    "from importlib import reload  # Python 3.4+\n",
    "import random\n",
    "from model import BertForChunkClassification\n",
    "from transformers import AdamW, BertConfig, get_linear_schedule_with_warmup\n",
    "\n",
    "from torch.utils.data import DataLoader\n",
    "from importlib import reload \n",
    "#from eval import predict\n",
    "import eval\n",
    "#import importlib\n",
    "#importlib.reload(module)\n",
    "import dataset\n",
    "from dataset import InputFeatures, load_and_cache_examples\n",
    "import functionsAval as f"
   ]
  },
  {
   "cell_type": "code",
   "execution_count": 122,
   "metadata": {},
   "outputs": [
    {
     "data": {
      "text/plain": [
       "<module 'eval' from 'C:\\\\Users\\\\lisat\\\\OneDrive\\\\jupyter notebook\\\\spanclassification\\\\avaliacao\\\\eval.py'>"
      ]
     },
     "execution_count": 122,
     "metadata": {},
     "output_type": "execute_result"
    }
   ],
   "source": [
    "f = reload(f)\n",
    "reload(dataset)\n",
    "reload(eval)\n"
   ]
  },
  {
   "cell_type": "code",
   "execution_count": 63,
   "metadata": {},
   "outputs": [
    {
     "name": "stdout",
     "output_type": "stream",
     "text": [
      "BATCH: 100\n",
      "Pegando sentencas de teste gabarito: dic_sentencesTest.pkl\n",
      "506\n",
      "[[['Nega', 0, 422], ['sincope', 1, 427], ['.', 2, 434]], [['sincope', [1], 'Problema']]]\n",
      "numero de sentencas no total: 100\n"
     ]
    }
   ],
   "source": [
    "# em numero de frases\n",
    "#BATCH=30\n",
    "BATCH=100 \n",
    "#BATCH=800\n",
    "#BATCH=8000 \n",
    "print('BATCH:', BATCH)\n",
    "\n",
    "dicSentences_new_test = f.loadSentencesTest()\n",
    "print(len(dicSentences_new_test))\n",
    "dicSentences_new_test = {k: v for k, v in dicSentences_new_test.items() if k<BATCH}\n",
    "#print(dicSentences_new_test[0])\n",
    "print(dicSentences_new_test[27])\n",
    "print('numero de sentencas no total:', len(dicSentences_new_test))\n",
    "\n",
    "\n",
    "sentences=list()\n",
    "for key, value in dicSentences_new_test.items():\n",
    "    if key<BATCH:\n",
    "        tokens = value[0]\n",
    "        tokens = [tok[0] for tok in tokens]\n",
    "        sentences.append(' '.join(tokens).strip())\n",
    "#print(sentences[0])\n",
    "\n"
   ]
  },
  {
   "cell_type": "code",
   "execution_count": 64,
   "metadata": {},
   "outputs": [
    {
     "name": "stdout",
     "output_type": "stream",
     "text": [
      "idx2tag: {0: 'Teste', 1: 'Anatomia', 2: 'O', 3: 'Problema', 4: 'Tratamento', 5: '<pad>'}\n",
      "[[['Lucas', 0], [',', 1], ['74', 2], ['anos', 3], ['.', 4]], []]\n",
      "len(dic_predictions): 100\n"
     ]
    }
   ],
   "source": [
    "tags, tokens = f.predictBERTNER_IO(sentences, 'all')\n",
    "dic_predictions = f.getDicPredictions(tags, tokens)\n",
    "print(dic_predictions[0])\n",
    "print('len(dic_predictions):', len(dic_predictions))\n"
   ]
  },
  {
   "cell_type": "code",
   "execution_count": 65,
   "metadata": {},
   "outputs": [
    {
     "data": {
      "text/plain": [
       "[[['Abd', 0],\n",
       "  ['globoso', 1],\n",
       "  [',', 2],\n",
       "  ['flacido', 3],\n",
       "  [',', 4],\n",
       "  ['indolor', 5],\n",
       "  ['a', 6],\n",
       "  ['palpacao', 7],\n",
       "  [',', 8],\n",
       "  ['sem', 9],\n",
       "  ['VCM', 10],\n",
       "  ['.', 11]],\n",
       " [['Abd', [0], 'Anatomia'], ['VCM', [10], 'Problema']]]"
      ]
     },
     "execution_count": 65,
     "metadata": {},
     "output_type": "execute_result"
    }
   ],
   "source": [
    "dic_predictions[9]"
   ]
  },
  {
   "cell_type": "code",
   "execution_count": 56,
   "metadata": {},
   "outputs": [],
   "source": [
    "f.save_obj('dic_predictions_results_ner_'+str(BATCH), dic_predictions)\n",
    "#all_predictions = f.load_obj('all_predictions_results_binarios_batch_'+str(BATCH))"
   ]
  },
  {
   "cell_type": "code",
   "execution_count": 66,
   "metadata": {},
   "outputs": [
    {
     "name": "stdout",
     "output_type": "stream",
     "text": [
      "key: 0\n",
      "[[['Lucas', 0], [',', 1], ['74', 2], ['anos', 3], ['.', 4]], []]\n",
      "key: 1\n",
      "[[['Em', 0], ['acompanhamento', 1], ['no', 2], ['ambualtorio', 3], ['há', 4], ['5', 5], ['anos', 6], ['por', 7], ['FA', 8], [',', 9], ['uso', 10], ['de', 11], ['marevan', 12], ['5mg', 13], ['1', 14], ['x', 15], ['ao', 16], ['dia', 17], ['.', 18]], [['FA', [8], 'Problema'], ['marevan 5mg', [12, 13], 'Tratamento']]]\n",
      "key: 2\n",
      "[[['Comorbidades', 0], [':', 1], ['DM', 2], ['há', 3], ['10', 4], ['anos', 5], ['em', 6], ['uso', 7], ['de', 8], ['metformina', 9], ['850mg', 10], ['3', 11], ['cp', 12], ['/', 13], ['dia', 14], [',', 15], ['acarbose', 16], ['1', 17], ['cp', 18], ['/', 19], ['dia', 20], ['e', 21], ['glicazida', 22], ['60mg', 23], ['2', 24], ['cp', 25], ['/', 26], ['dia', 27], ['e', 28], ['insulina', 29], ['(', 30], ['24', 31], ['-', 32], ['0', 33], ['-', 34], ['24', 35], [')', 36], ['.', 37]], [['Comorbidades', [0], 'Problema'], ['DM', [2], 'Problema'], ['metformina 850mg', [9, 10], 'Tratamento'], ['acarbose', [16], 'Tratamento'], ['glicazida 60mg', [22, 23], 'Tratamento'], ['insulina', [29], 'Tratamento']]]\n",
      "key: 3\n",
      "[[['HAS', 0], ['há', 1], ['15', 2], ['anos', 3], ['em', 4], ['uso', 5], ['de', 6], ['losartana', 7], ['50mg', 8], ['/', 9], ['dia', 10], ['e', 11], ['digoxina', 12], ['1', 13], ['/', 14], ['2', 15], ['cp', 16], ['/', 17], ['dia', 18], [',', 19], ['carvedilol', 20], ['25', 21], ['12', 22], ['/', 23], ['12', 24], [',', 25], ['HCTZ', 26], ['.', 27]], [['HAS', [0], 'Problema'], ['losartana 50mg', [7, 8], 'Tratamento'], ['digoxina', [12], 'Tratamento'], ['carvedilol 25', [20, 21], 'Tratamento'], ['HCTZ', [26], 'Tratamento']]]\n",
      "key: 4\n",
      "[[['DSLP', 0], ['em', 1], ['uso', 2], ['de', 3], ['sinvastatina', 4], [',', 5], ['marevan', 6], ['1', 7], ['cp', 8], ['/', 9], ['dia', 10], ['seg', 11], ['-', 12], ['sab', 13], ['para', 14], ['no', 15], ['alvo', 16], ['sic', 17], ['.', 18]], [['DSLP', [0], 'Problema'], ['sinvastatina', [4], 'Tratamento'], ['marevan', [6], 'Tratamento']]]\n"
     ]
    }
   ],
   "source": [
    "for key, value in dic_predictions.items():\n",
    "    print('key:',key)\n",
    "    print(dic_predictions[key])\n",
    "    if key>3:\n",
    "        break"
   ]
  },
  {
   "cell_type": "code",
   "execution_count": 67,
   "metadata": {},
   "outputs": [
    {
     "data": {
      "text/plain": [
       "[['FA', [8], 'Problema'], ['marevan 5mg', [12, 13], 'Tratamento']]"
      ]
     },
     "execution_count": 67,
     "metadata": {},
     "output_type": "execute_result"
    }
   ],
   "source": [
    "dic_predictions[1][1]"
   ]
  },
  {
   "cell_type": "code",
   "execution_count": 68,
   "metadata": {},
   "outputs": [
    {
     "name": "stdout",
     "output_type": "stream",
     "text": [
      "100\n",
      "100\n"
     ]
    }
   ],
   "source": [
    "print(len(dicSentences_new_test))\n",
    "print(len(dic_predictions))"
   ]
  },
  {
   "cell_type": "code",
   "execution_count": 69,
   "metadata": {},
   "outputs": [],
   "source": [
    "region_true_list, region_pred_list, lista_erros = f.getListaRegionsTruePred(BATCH, dicSentences_new_test, dic_predictions)\n"
   ]
  },
  {
   "cell_type": "code",
   "execution_count": 70,
   "metadata": {},
   "outputs": [
    {
     "data": {
      "text/plain": [
       "['Problema', 'Tratamento', 'Problema', 'Problema']"
      ]
     },
     "execution_count": 70,
     "metadata": {},
     "output_type": "execute_result"
    }
   ],
   "source": [
    "region_pred_list[:4]"
   ]
  },
  {
   "cell_type": "code",
   "execution_count": 71,
   "metadata": {},
   "outputs": [
    {
     "data": {
      "text/plain": [
       "['Problema', 'Tratamento', 'Problema', 'Problema']"
      ]
     },
     "execution_count": 71,
     "metadata": {},
     "output_type": "execute_result"
    }
   ],
   "source": [
    "region_true_list[:4]"
   ]
  },
  {
   "cell_type": "code",
   "execution_count": 72,
   "metadata": {},
   "outputs": [
    {
     "data": {
      "text/plain": [
       "[7, 8, 13, 13, 14, 15, 15, 15]"
      ]
     },
     "execution_count": 72,
     "metadata": {},
     "output_type": "execute_result"
    }
   ],
   "source": [
    "lista_erros[:8]"
   ]
  },
  {
   "cell_type": "code",
   "execution_count": 73,
   "metadata": {},
   "outputs": [
    {
     "name": "stdout",
     "output_type": "stream",
     "text": [
      "114\n",
      "45\n"
     ]
    }
   ],
   "source": [
    "print(len(lista_erros))\n",
    "print(len(set(lista_erros)))"
   ]
  },
  {
   "cell_type": "code",
   "execution_count": 74,
   "metadata": {},
   "outputs": [
    {
     "name": "stdout",
     "output_type": "stream",
     "text": [
      "[[['BC', 0], ['arritmicas', 1], [',', 2], ['NF', 3], ['SS', 4], ['2T', 5], ['.', 6]], [['SS', [4], 'Problema']]]\n",
      "[['BC arritmicas', [0, 1], 'Problema'], ['SS', [4], 'Problema']]\n"
     ]
    }
   ],
   "source": [
    "print(dic_predictions[8])\n",
    "print(dicSentences_new_test[8][1])"
   ]
  },
  {
   "cell_type": "code",
   "execution_count": 75,
   "metadata": {},
   "outputs": [
    {
     "name": "stdout",
     "output_type": "stream",
     "text": [
      "[[['Exames', 0], ['-', 1], ['Holter', 2], [':', 3], ['FC', 4], ['controlada', 5], [',', 6], ['media', 7], ['92', 8], ['.', 9]], [['Exames', [0], 'Teste'], ['Holter', [2], 'Teste']]]\n",
      "[['Exames', [0], 'Teste'], ['Holter', [2], 'Teste']]\n"
     ]
    }
   ],
   "source": [
    "print(dic_predictions[11])\n",
    "print(dicSentences_new_test[11][1])"
   ]
  },
  {
   "cell_type": "code",
   "execution_count": 76,
   "metadata": {},
   "outputs": [
    {
     "name": "stdout",
     "output_type": "stream",
     "text": [
      "[[['Ecocardiograma', 0], ['-', 1], ['ventrículo', 2], ['esquerdo', 3], ['com', 4], ['hipertrofia', 5], ['concentrica', 6], ['de', 7], ['grau', 8], ['discreto', 9], ['e', 10], ['função', 11], ['sistólica', 12], ['preservada', 13], ['.', 14]], [['Ecocardiograma', [0], 'Teste'], ['ventrículo esquerdo', [2, 3], 'Anatomia'], ['hipertrofia concentrica de grau discreto', [5, 6, 7, 8, 9], 'Problema']]]\n",
      "[['Ecocardiograma', [0], 'Teste'], ['ventrículo esquerdo com hipertrofia concentrica de grau discreto', [2, 3, 4, 5, 6, 7, 8, 9], 'Problema'], ['ventrículo esquerdo', [2, 3], 'Anatomia']]\n"
     ]
    }
   ],
   "source": [
    "print(dic_predictions[13])\n",
    "print(dicSentences_new_test[13][1])"
   ]
  },
  {
   "cell_type": "code",
   "execution_count": 77,
   "metadata": {
    "scrolled": true
   },
   "outputs": [
    {
     "name": "stdout",
     "output_type": "stream",
     "text": [
      "len(region_true_list): 352\n",
      "len(region_pred_list): 352\n",
      "-----Avaliando só modelo de NER:-----\n",
      "              precision    recall  f1-score   support\n",
      "\n",
      "    Anatomia   0.789474  0.277778  0.410959        54\n",
      "           O   0.000000  0.000000  0.000000        38\n",
      "    Problema   0.853211  0.823009  0.837838       113\n",
      "       Teste   0.880952  0.891566  0.886228        83\n",
      "  Tratamento   0.828125  0.828125  0.828125        64\n",
      "\n",
      "    accuracy                       0.667614       352\n",
      "   macro avg   0.670352  0.564096  0.592630       352\n",
      "weighted avg   0.753305  0.667614  0.691546       352\n",
      "\n",
      "[[15 36  1  1  1]\n",
      " [ 4  0 15  9 10]\n",
      " [ 0 20 93  0  0]\n",
      " [ 0  9  0 74  0]\n",
      " [ 0 11  0  0 53]]\n"
     ]
    }
   ],
   "source": [
    "print('len(region_true_list):', len(region_true_list))\n",
    "print('len(region_pred_list):', len(region_pred_list))\n",
    "#print('pred:',region_pred_list[:15])\n",
    "#print('true:',region_true_list[:15])\n",
    "\n",
    "print('-----Avaliando só modelo de NER:-----')\n",
    "\n",
    "print(classification_report(region_true_list, region_pred_list, digits=6))\n",
    "print(confusion_matrix(region_true_list, region_pred_list))\n",
    "\n",
    "\n"
   ]
  },
  {
   "cell_type": "markdown",
   "metadata": {},
   "source": [
    "### Agora, modelo de SpanClassification"
   ]
  },
  {
   "cell_type": "code",
   "execution_count": 78,
   "metadata": {},
   "outputs": [
    {
     "name": "stdout",
     "output_type": "stream",
     "text": [
      "-----Avaliando só com modelo de Spam:-----\n",
      "loading model from C:\\Users\\lisat\\OneDrive\\jupyter notebook\\span-model\\model-exp3\n",
      "num_labels: 5\n"
     ]
    },
    {
     "name": "stderr",
     "output_type": "stream",
     "text": [
      "Some weights of the model checkpoint at C:\\Users\\lisat\\OneDrive\\jupyter notebook\\span-model\\model-exp3 were not used when initializing BertForChunkClassification: ['classifier.0.weight', 'classifier.0.bias']\n",
      "- This IS expected if you are initializing BertForChunkClassification from the checkpoint of a model trained on another task or with another architecture (e.g. initializing a BertForSequenceClassification model from a BertForPreTraining model).\n",
      "- This IS NOT expected if you are initializing BertForChunkClassification from the checkpoint of a model that you expect to be exactly identical (initializing a BertForSequenceClassification model from a BertForSequenceClassification model).\n",
      "Some weights of BertForChunkClassification were not initialized from the model checkpoint at C:\\Users\\lisat\\OneDrive\\jupyter notebook\\span-model\\model-exp3 and are newly initialized: ['classifier.1.weight', 'classifier.1.bias']\n",
      "You should probably TRAIN this model on a down-stream task to be able to use it for predictions and inference.\n"
     ]
    }
   ],
   "source": [
    "print('-----Avaliando só com modelo de Spam:-----')\n",
    "model = f.getModel()"
   ]
  },
  {
   "cell_type": "code",
   "execution_count": 79,
   "metadata": {},
   "outputs": [],
   "source": [
    "dic_sentencesTrainDev = f.load_obj('dic_sentencesTrainDev')\n",
    "dicPosTagger, _ = f.getDicPosTagger(dic_sentencesTrainDev)\n"
   ]
  },
  {
   "cell_type": "code",
   "execution_count": 85,
   "metadata": {},
   "outputs": [],
   "source": [
    "lista_postaggers_entidades = f.getListaPostaggerEntidades(dic_predictions, dicPosTagger)\n"
   ]
  },
  {
   "cell_type": "code",
   "execution_count": 86,
   "metadata": {},
   "outputs": [
    {
     "data": {
      "text/plain": [
       "['FA', [8], 'Problema']"
      ]
     },
     "execution_count": 86,
     "metadata": {},
     "output_type": "execute_result"
    }
   ],
   "source": [
    "dic_predictions[1][1][0]"
   ]
  },
  {
   "cell_type": "code",
   "execution_count": 133,
   "metadata": {},
   "outputs": [
    {
     "name": "stdout",
     "output_type": "stream",
     "text": [
      "Com filtro-postagger\n",
      "len(combinacaoEntidadesAll:) 100\n",
      "len(pulando_termos_postagger): 549\n",
      "numTotalEntidades: 455\n",
      "numFrases: 86\n",
      "gravando em: data/span.predict\n"
     ]
    }
   ],
   "source": [
    "# para gerar arquivo de predicoes (com as tags <e1>)\n",
    "combinacaoEntidadesAll, pullando_termos_pos_tagger = f.getCombinacaoEntidades(dic_predictions, True, dicPosTagger, lista_postaggers_entidades)\n",
    "f.gravaArquivoPredict(combinacaoEntidadesAll)"
   ]
  },
  {
   "cell_type": "code",
   "execution_count": 128,
   "metadata": {},
   "outputs": [
    {
     "data": {
      "text/plain": [
       "[[['FA', ','], '-N-PU'],\n",
       " [['Comorbidades', ':'], '-N-PU'],\n",
       " [['insulina', '('], '-N-PU'],\n",
       " [['losartana', '50mg', '/'], '-N-N-PU'],\n",
       " [['50mg', '/'], '-N-PU'],\n",
       " [['carvedilol', '25', '12'], '-N-NUM-NUM'],\n",
       " [['25', '12'], '-NUM-NUM'],\n",
       " [['HCTZ', '.'], '-N-PU'],\n",
       " [['DSLP', 'em'], '-N-PREP'],\n",
       " [['sinvastatina', ','], '-N-PU'],\n",
       " [['dispnéia', ','], '-N-PU'],\n",
       " [['DPN', 'e'], '-N-KC'],\n",
       " [['ortopneia', ','], '-N-PU'],\n",
       " [['palpitações', 'e'], '-N-KC'],\n",
       " [['sincope', '.'], '-N-PU']]"
      ]
     },
     "execution_count": 128,
     "metadata": {},
     "output_type": "execute_result"
    }
   ],
   "source": [
    "pullando_termos_pos_tagger[:15]"
   ]
  },
  {
   "cell_type": "code",
   "execution_count": 129,
   "metadata": {},
   "outputs": [
    {
     "name": "stdout",
     "output_type": "stream",
     "text": [
      "['Em acompanhamento no ambualtorio há 5 anos por FA , uso de marevan 5mg 1 x ao dia .', [['Em acompanhamento no ambualtorio há 5 anos por <e1> FA </e1> , uso de marevan 5mg 1 x ao dia .', 'Problema'], ['Em acompanhamento no ambualtorio há 5 anos por FA , uso de <e1> marevan 5mg </e1> 1 x ao dia .', 'Tratamento'], ['Em acompanhamento no ambualtorio há 5 anos por FA , uso de <e1> marevan </e1> 5mg 1 x ao dia .', 'O'], ['Em acompanhamento no ambualtorio há 5 anos por FA , uso de marevan <e1> 5mg </e1> 1 x ao dia .', 'O']]]\n"
     ]
    }
   ],
   "source": [
    "print(combinacaoEntidadesAll[1])\n"
   ]
  },
  {
   "cell_type": "code",
   "execution_count": 146,
   "metadata": {},
   "outputs": [
    {
     "name": "stdout",
     "output_type": "stream",
     "text": [
      "os.getcwd(): C:\\Users\\lisat\\OneDrive\\jupyter notebook\\spanclassification\\avaliacao\n",
      "LOOKING AT ./data\\span.predict\n",
      "os.getcwd(): C:\\Users\\lisat\\OneDrive\\jupyter notebook\\spanclassification\\avaliacao\n",
      "os.getcwd(): C:\\Users\\lisat\\OneDrive\\jupyter notebook\\spanclassification\\avaliacao\n",
      "*** Example ***\n",
      "tokens: ['[CLS]', 'Em', 'ac', '##om', '##pan', '##ham', '##ento', 'no', 'amb', '##ual', '##torio', 'há', '5', 'anos', 'por', 'FA', ',', 'uso', 'de', 'mare', '##van', '5', '##m', '##g', '1', 'x', 'ao', 'dia', '.', '[SEP]']\n",
      "lista_label: []\n",
      "indices_e1_sentenca: []\n",
      "*** Example ***\n",
      "tokens: ['[CLS]', 'Como', '##rb', '##idades', ':', 'DM', 'há', '10', 'anos', 'em', 'uso', 'de', 'met', '##form', '##ina', '850', '##m', '##g', '3', 'c', '##p', '/', 'dia', ',', 'ac', '##ar', '##bos', '##e', '1', 'c', '##p', '/', 'dia', 'e', 'gli', '##ca', '##zid', '##a', '60', '##m', '##g', '2', 'c', '##p', '/', 'dia', 'e', 'ins', '##ulin', '##a', '(', '24', '-', '0', '-', '24', ')', '.', '[SEP]']\n",
      "lista_label: []\n",
      "indices_e1_sentenca: []\n",
      "cont_pulando: 6\n",
      "len(pred_region_labels): 449\n"
     ]
    }
   ],
   "source": [
    "# chamar predict                \n",
    "pred_region_labels = f.predictSpan(model)\n",
    "print('len(pred_region_labels):', len(pred_region_labels))\n"
   ]
  },
  {
   "cell_type": "code",
   "execution_count": null,
   "metadata": {},
   "outputs": [],
   "source": [
    "f.save_obj('combinacaoEntidadesAll_'+str(BATCH), combinacaoEntidadesAll)\n"
   ]
  },
  {
   "cell_type": "code",
   "execution_count": 153,
   "metadata": {},
   "outputs": [
    {
     "data": {
      "text/plain": [
       "<module 'eval' from 'C:\\\\Users\\\\lisat\\\\OneDrive\\\\jupyter notebook\\\\spanclassification\\\\avaliacao\\\\eval.py'>"
      ]
     },
     "execution_count": 153,
     "metadata": {},
     "output_type": "execute_result"
    }
   ],
   "source": [
    "f = reload(f)\n",
    "reload(dataset)\n",
    "reload(eval)\n"
   ]
  },
  {
   "cell_type": "code",
   "execution_count": 157,
   "metadata": {},
   "outputs": [
    {
     "data": {
      "text/plain": [
       "tensor([3, 3, 3, 0, 3, 3, 3, 3, 3, 3, 3, 3, 3, 3, 3, 1, 3, 3, 3, 3, 3, 3, 3, 3,\n",
       "        1, 3, 4, 3, 3, 4, 0, 3, 3, 3, 3, 3, 3, 3, 3, 3, 3, 1, 3, 3, 3, 3, 3, 3,\n",
       "        3, 3])"
      ]
     },
     "execution_count": 157,
     "metadata": {},
     "output_type": "execute_result"
    }
   ],
   "source": [
    "pred_region_labels[:50]"
   ]
  },
  {
   "cell_type": "code",
   "execution_count": 155,
   "metadata": {},
   "outputs": [
    {
     "name": "stdout",
     "output_type": "stream",
     "text": [
      "combinacao: []\n",
      "combinacao: ['Em acompanhamento no ambualtorio há 5 anos por FA , uso de marevan 5mg 1 x ao dia .', [['Em acompanhamento no ambualtorio há 5 anos por <e1> FA </e1> , uso de marevan 5mg 1 x ao dia .', 'Problema'], ['Em acompanhamento no ambualtorio há 5 anos por FA , uso de <e1> marevan 5mg </e1> 1 x ao dia .', 'Tratamento'], ['Em acompanhamento no ambualtorio há 5 anos por FA , uso de <e1> marevan </e1> 5mg 1 x ao dia .', 'O'], ['Em acompanhamento no ambualtorio há 5 anos por FA , uso de marevan <e1> 5mg </e1> 1 x ao dia .', 'O']]]\n",
      "combinacao: ['Comorbidades : DM há 10 anos em uso de metformina 850mg 3 cp / dia , acarbose 1 cp / dia e glicazida 60mg 2 cp / dia e insulina ( 24 - 0 - 24 ) .', [['<e1> Comorbidades </e1> : DM há 10 anos em uso de metformina 850mg 3 cp / dia , acarbose 1 cp / dia e glicazida 60mg 2 cp / dia e insulina ( 24 - 0 - 24 ) .', 'Problema'], ['Comorbidades : <e1> DM </e1> há 10 anos em uso de metformina 850mg 3 cp / dia , acarbose 1 cp / dia e glicazida 60mg 2 cp / dia e insulina ( 24 - 0 - 24 ) .', 'Problema'], ['Comorbidades : DM há 10 anos em uso de <e1> metformina 850mg </e1> 3 cp / dia , acarbose 1 cp / dia e glicazida 60mg 2 cp / dia e insulina ( 24 - 0 - 24 ) .', 'Tratamento'], ['Comorbidades : DM há 10 anos em uso de metformina 850mg 3 cp / dia , <e1> acarbose </e1> 1 cp / dia e glicazida 60mg 2 cp / dia e insulina ( 24 - 0 - 24 ) .', 'Tratamento'], ['Comorbidades : DM há 10 anos em uso de metformina 850mg 3 cp / dia , acarbose 1 cp / dia e <e1> glicazida 60mg </e1> 2 cp / dia e insulina ( 24 - 0 - 24 ) .', 'Tratamento'], ['Comorbidades : DM há 10 anos em uso de metformina 850mg 3 cp / dia , acarbose 1 cp / dia e glicazida 60mg 2 cp / dia e <e1> insulina </e1> ( 24 - 0 - 24 ) .', 'Tratamento'], ['Comorbidades : DM há 10 anos em uso de <e1> metformina </e1> 850mg 3 cp / dia , acarbose 1 cp / dia e glicazida 60mg 2 cp / dia e insulina ( 24 - 0 - 24 ) .', 'O'], ['Comorbidades : DM há 10 anos em uso de metformina <e1> 850mg </e1> 3 cp / dia , acarbose 1 cp / dia e glicazida 60mg 2 cp / dia e insulina ( 24 - 0 - 24 ) .', 'O'], ['Comorbidades : DM há 10 anos em uso de metformina 850mg 3 cp / dia , acarbose 1 cp / dia e <e1> glicazida </e1> 60mg 2 cp / dia e insulina ( 24 - 0 - 24 ) .', 'O'], ['Comorbidades : DM há 10 anos em uso de metformina 850mg 3 cp / dia , acarbose 1 cp / dia e glicazida <e1> 60mg </e1> 2 cp / dia e insulina ( 24 - 0 - 24 ) .', 'O']]]\n",
      "combinacao: ['HAS há 15 anos em uso de losartana 50mg / dia e digoxina 1 / 2 cp / dia , carvedilol 25 12 / 12 , HCTZ .', [['<e1> HAS </e1> há 15 anos em uso de losartana 50mg / dia e digoxina 1 / 2 cp / dia , carvedilol 25 12 / 12 , HCTZ .', 'Problema'], ['HAS há 15 anos em uso de <e1> losartana 50mg </e1> / dia e digoxina 1 / 2 cp / dia , carvedilol 25 12 / 12 , HCTZ .', 'Tratamento'], ['HAS há 15 anos em uso de losartana 50mg / dia e <e1> digoxina </e1> 1 / 2 cp / dia , carvedilol 25 12 / 12 , HCTZ .', 'Tratamento'], ['HAS há 15 anos em uso de losartana 50mg / dia e digoxina 1 / 2 cp / dia , <e1> carvedilol 25 </e1> 12 / 12 , HCTZ .', 'Tratamento'], ['HAS há 15 anos em uso de losartana 50mg / dia e digoxina 1 / 2 cp / dia , carvedilol 25 12 / 12 , <e1> HCTZ </e1> .', 'Tratamento'], ['HAS há 15 anos em uso de <e1> losartana </e1> 50mg / dia e digoxina 1 / 2 cp / dia , carvedilol 25 12 / 12 , HCTZ .', 'O'], ['HAS há 15 anos em uso de losartana 50mg / dia e digoxina 1 / 2 cp / dia , <e1> carvedilol </e1> 25 12 / 12 , HCTZ .', 'O']]]\n",
      "combinacao: ['DSLP em uso de sinvastatina , marevan 1 cp / dia seg - sab para no alvo sic .', [['<e1> DSLP </e1> em uso de sinvastatina , marevan 1 cp / dia seg - sab para no alvo sic .', 'Problema'], ['DSLP em uso de <e1> sinvastatina </e1> , marevan 1 cp / dia seg - sab para no alvo sic .', 'Tratamento'], ['DSLP em uso de sinvastatina , <e1> marevan </e1> 1 cp / dia seg - sab para no alvo sic .', 'Tratamento']]]\n",
      "combinacao: []\n",
      "combinacao: ['Nega dispnéia , DPN e ortopneia , palpitações e sincope .', [['Nega <e1> dispnéia </e1> , DPN e ortopneia , palpitações e sincope .', 'Problema'], ['Nega dispnéia , <e1> DPN </e1> e ortopneia , palpitações e sincope .', 'Problema'], ['Nega dispnéia , DPN e <e1> ortopneia </e1> , palpitações e sincope .', 'Problema'], ['Nega dispnéia , DPN e ortopneia , <e1> palpitações </e1> e sincope .', 'Problema'], ['Nega dispnéia , DPN e ortopneia , palpitações e <e1> sincope </e1> .', 'Problema']]]\n",
      "combinacao: ['O : BEG , corada , hidtratada , afebril , fc 63 , so2 97 % , pa 130 / 80 ; MV presente , simétrico , sem RA .', [['O : BEG , corada , hidtratada , <e1> afebril </e1> , fc 63 , so2 97 % , pa 130 / 80 ; MV presente , simétrico , sem RA .', 'Problema'], ['O : BEG , corada , hidtratada , afebril , fc 63 , <e1> so2 </e1> 97 % , pa 130 / 80 ; MV presente , simétrico , sem RA .', 'Teste'], ['O : BEG , corada , hidtratada , afebril , fc 63 , so2 97 % , <e1> pa </e1> 130 / 80 ; MV presente , simétrico , sem RA .', 'Teste'], ['O : BEG , corada , hidtratada , afebril , fc 63 , so2 97 % , pa 130 / 80 ; MV presente , simétrico , sem <e1> RA </e1> .', 'Problema']]]\n",
      "combinacao: ['BC arritmicas , NF SS 2T .', [['BC arritmicas , NF <e1> SS </e1> 2T .', 'Problema']]]\n",
      "combinacao: ['Abd globoso , flacido , indolor a palpacao , sem VCM .', [['<e1> Abd </e1> globoso , flacido , indolor a palpacao , sem VCM .', 'Anatomia'], ['Abd globoso , flacido , indolor a palpacao , sem <e1> VCM </e1> .', 'Problema']]]\n",
      "combinacao: ['MMII sem edema , panturrilhas livres .', [['<e1> MMII </e1> sem edema , panturrilhas livres .', 'Anatomia'], ['MMII sem <e1> edema </e1> , panturrilhas livres .', 'Problema'], ['MMII sem edema , <e1> panturrilhas </e1> livres .', 'Anatomia']]]\n",
      "combinacao: ['Exames - Holter : FC controlada , media 92 .', [['<e1> Exames </e1> - Holter : FC controlada , media 92 .', 'Teste'], ['Exames - <e1> Holter </e1> : FC controlada , media 92 .', 'Teste']]]\n",
      "combinacao: ['Cr - 0 , 7 ; glic - 140 ; ureia - 33 ; CPK - 68 , Triglerideos - 335 ; HDL - 30 ; CT - 216 ; LDL - 119 ; K - 5 , 1 ; RNI - 2 , 07 ; Microalbuminúria 308 mg / g .', [['<e1> Cr </e1> - 0 , 7 ; glic - 140 ; ureia - 33 ; CPK - 68 , Triglerideos - 335 ; HDL - 30 ; CT - 216 ; LDL - 119 ; K - 5 , 1 ; RNI - 2 , 07 ; Microalbuminúria 308 mg / g .', 'Teste'], ['Cr - 0 , 7 ; <e1> glic </e1> - 140 ; ureia - 33 ; CPK - 68 , Triglerideos - 335 ; HDL - 30 ; CT - 216 ; LDL - 119 ; K - 5 , 1 ; RNI - 2 , 07 ; Microalbuminúria 308 mg / g .', 'Teste'], ['Cr - 0 , 7 ; glic - 140 ; <e1> ureia </e1> - 33 ; CPK - 68 , Triglerideos - 335 ; HDL - 30 ; CT - 216 ; LDL - 119 ; K - 5 , 1 ; RNI - 2 , 07 ; Microalbuminúria 308 mg / g .', 'Teste'], ['Cr - 0 , 7 ; glic - 140 ; ureia - 33 ; <e1> CPK </e1> - 68 , Triglerideos - 335 ; HDL - 30 ; CT - 216 ; LDL - 119 ; K - 5 , 1 ; RNI - 2 , 07 ; Microalbuminúria 308 mg / g .', 'Teste'], ['Cr - 0 , 7 ; glic - 140 ; ureia - 33 ; CPK - 68 , <e1> Triglerideos </e1> - 335 ; HDL - 30 ; CT - 216 ; LDL - 119 ; K - 5 , 1 ; RNI - 2 , 07 ; Microalbuminúria 308 mg / g .', 'Teste'], ['Cr - 0 , 7 ; glic - 140 ; ureia - 33 ; CPK - 68 , Triglerideos - 335 ; <e1> HDL </e1> - 30 ; CT - 216 ; LDL - 119 ; K - 5 , 1 ; RNI - 2 , 07 ; Microalbuminúria 308 mg / g .', 'Teste'], ['Cr - 0 , 7 ; glic - 140 ; ureia - 33 ; CPK - 68 , Triglerideos - 335 ; HDL - 30 ; <e1> CT </e1> - 216 ; LDL - 119 ; K - 5 , 1 ; RNI - 2 , 07 ; Microalbuminúria 308 mg / g .', 'Teste'], ['Cr - 0 , 7 ; glic - 140 ; ureia - 33 ; CPK - 68 , Triglerideos - 335 ; HDL - 30 ; CT - 216 ; <e1> LDL </e1> - 119 ; K - 5 , 1 ; RNI - 2 , 07 ; Microalbuminúria 308 mg / g .', 'Teste'], ['Cr - 0 , 7 ; glic - 140 ; ureia - 33 ; CPK - 68 , Triglerideos - 335 ; HDL - 30 ; CT - 216 ; LDL - 119 ; <e1> K </e1> - 5 , 1 ; RNI - 2 , 07 ; Microalbuminúria 308 mg / g .', 'Teste'], ['Cr - 0 , 7 ; glic - 140 ; ureia - 33 ; CPK - 68 , Triglerideos - 335 ; HDL - 30 ; CT - 216 ; LDL - 119 ; K - 5 , 1 ; <e1> RNI </e1> - 2 , 07 ; Microalbuminúria 308 mg / g .', 'Teste'], ['Cr - 0 , 7 ; glic - 140 ; ureia - 33 ; CPK - 68 , Triglerideos - 335 ; HDL - 30 ; CT - 216 ; LDL - 119 ; K - 5 , 1 ; RNI - 2 , 07 ; <e1> Microalbuminúria </e1> 308 mg / g .', 'Teste']]]\n",
      "combinacao: ['Ecocardiograma - ventrículo esquerdo com hipertrofia concentrica de grau discreto e função sistólica preservada .', [['<e1> Ecocardiograma </e1> - ventrículo esquerdo com hipertrofia concentrica de grau discreto e função sistólica preservada .', 'Teste'], ['Ecocardiograma - <e1> ventrículo esquerdo </e1> com hipertrofia concentrica de grau discreto e função sistólica preservada .', 'Anatomia'], ['Ecocardiograma - ventrículo esquerdo com <e1> hipertrofia concentrica de grau discreto </e1> e função sistólica preservada .', 'Problema'], ['Ecocardiograma - <e1> ventrículo </e1> esquerdo com hipertrofia concentrica de grau discreto e função sistólica preservada .', 'O'], ['Ecocardiograma - ventrículo esquerdo com <e1> hipertrofia </e1> concentrica de grau discreto e função sistólica preservada .', 'O'], ['Ecocardiograma - ventrículo esquerdo com <e1> hipertrofia concentrica de </e1> grau discreto e função sistólica preservada .', 'O'], ['Ecocardiograma - ventrículo esquerdo com <e1> hipertrofia concentrica de grau </e1> discreto e função sistólica preservada .', 'O'], ['Ecocardiograma - ventrículo esquerdo com hipertrofia <e1> concentrica de </e1> grau discreto e função sistólica preservada .', 'O'], ['Ecocardiograma - ventrículo esquerdo com hipertrofia concentrica de <e1> grau </e1> discreto e função sistólica preservada .', 'O']]]\n",
      "combinacao: ['aumento moderado de átrio esquerdo .', [['<e1> aumento moderado de átrio esquerdo </e1> .', 'Problema'], ['<e1> aumento moderado de átrio </e1> esquerdo .', 'O'], ['aumento <e1> moderado de </e1> átrio esquerdo .', 'O'], ['aumento moderado de <e1> átrio </e1> esquerdo .', 'O']]]\n",
      "combinacao: ['calcificação mitral e aórtica com refluxo leve .', [['<e1> calcificação </e1> mitral e aórtica com refluxo leve .', 'Problema'], ['calcificação <e1> mitral </e1> e aórtica com refluxo leve .', 'Tratamento'], ['calcificação mitral <e1> e </e1> aórtica com refluxo leve .', 'Problema'], ['calcificação mitral e <e1> aórtica </e1> com refluxo leve .', 'Anatomia'], ['calcificação mitral e aórtica com <e1> refluxo leve </e1> .', 'Problema'], ['calcificação mitral e aórtica com <e1> refluxo </e1> leve .', 'O']]]\n",
      "combinacao: ['A : FA .', [['A : <e1> FA </e1> .', 'Problema']]]\n",
      "combinacao: ['PA - 120 / 80 , P - 72 , bulhas arritimicas , normofonéticas , sem sopros .', [['<e1> PA </e1> - 120 / 80 , P - 72 , bulhas arritimicas , normofonéticas , sem sopros .', 'Teste'], ['PA - 120 / 80 , <e1> P </e1> - 72 , bulhas arritimicas , normofonéticas , sem sopros .', 'Teste'], ['PA - 120 / 80 , P - 72 , bulhas arritimicas , normofonéticas , sem <e1> sopros </e1> .', 'Problema']]]\n",
      "combinacao: ['Abdomen flácido , indolor , sem visceromegalias .', [['<e1> Abdomen </e1> flácido , indolor , sem visceromegalias .', 'Anatomia'], ['Abdomen flácido , indolor , sem <e1> visceromegalias </e1> .', 'Problema']]]\n",
      "combinacao: ['Sem alterações nos MMII .', [['Sem <e1> alterações nos MMII </e1> .', 'Problema'], ['Sem <e1> alterações nos </e1> MMII .', 'O']]]\n",
      "combinacao: ['Otimizo dose da sinvastatina para 40mg / dia .', [['Otimizo <e1> dose da sinvastatina para 40mg </e1> / dia .', 'Tratamento'], ['Otimizo <e1> dose da </e1> sinvastatina para 40mg / dia .', 'O'], ['Otimizo <e1> dose da sinvastatina para </e1> 40mg / dia .', 'O'], ['Otimizo dose da <e1> sinvastatina para </e1> 40mg / dia .', 'O']]]\n",
      "combinacao: []\n",
      "combinacao: []\n",
      "combinacao: ['# Lucas , 78 anos * HAS , * Gota , * DAC - IAM + ATC em 2012 ( angina instavel ) - Ecocardiograma mar / 14 : FE 42 % / comprometimento difuso do VE grau moderado , insuf Mi discreta , insuf Tri discreta , hipetensao pulmonar discreta .', [['# Lucas , 78 anos * <e1> HAS </e1> , * Gota , * DAC - IAM + ATC em 2012 ( angina instavel ) - Ecocardiograma mar / 14 : FE 42 % / comprometimento difuso do VE grau moderado , insuf Mi discreta , insuf Tri discreta , hipetensao pulmonar discreta .', 'Problema'], ['# Lucas , 78 anos * HAS , * <e1> Gota </e1> , * DAC - IAM + ATC em 2012 ( angina instavel ) - Ecocardiograma mar / 14 : FE 42 % / comprometimento difuso do VE grau moderado , insuf Mi discreta , insuf Tri discreta , hipetensao pulmonar discreta .', 'Problema'], ['# Lucas , 78 anos * HAS , * Gota , * <e1> DAC </e1> - IAM + ATC em 2012 ( angina instavel ) - Ecocardiograma mar / 14 : FE 42 % / comprometimento difuso do VE grau moderado , insuf Mi discreta , insuf Tri discreta , hipetensao pulmonar discreta .', 'Problema'], ['# Lucas , 78 anos * HAS , * Gota , * DAC - <e1> IAM </e1> + ATC em 2012 ( angina instavel ) - Ecocardiograma mar / 14 : FE 42 % / comprometimento difuso do VE grau moderado , insuf Mi discreta , insuf Tri discreta , hipetensao pulmonar discreta .', 'Problema'], ['# Lucas , 78 anos * HAS , * Gota , * DAC - IAM + <e1> ATC </e1> em 2012 ( angina instavel ) - Ecocardiograma mar / 14 : FE 42 % / comprometimento difuso do VE grau moderado , insuf Mi discreta , insuf Tri discreta , hipetensao pulmonar discreta .', 'Tratamento'], ['# Lucas , 78 anos * HAS , * Gota , * DAC - IAM + ATC em 2012 ( <e1> angina instavel </e1> ) - Ecocardiograma mar / 14 : FE 42 % / comprometimento difuso do VE grau moderado , insuf Mi discreta , insuf Tri discreta , hipetensao pulmonar discreta .', 'Problema'], ['# Lucas , 78 anos * HAS , * Gota , * DAC - IAM + ATC em 2012 ( angina instavel ) - <e1> Ecocardiograma </e1> mar / 14 : FE 42 % / comprometimento difuso do VE grau moderado , insuf Mi discreta , insuf Tri discreta , hipetensao pulmonar discreta .', 'Teste'], ['# Lucas , 78 anos * HAS , * Gota , * DAC - IAM + ATC em 2012 ( angina instavel ) - Ecocardiograma mar / 14 : FE 42 % / <e1> comprometimento difuso do VE grau moderado </e1> , insuf Mi discreta , insuf Tri discreta , hipetensao pulmonar discreta .', 'Problema'], ['# Lucas , 78 anos * HAS , * Gota , * DAC - IAM + ATC em 2012 ( angina instavel ) - Ecocardiograma mar / 14 : FE 42 % / comprometimento difuso do VE grau moderado , <e1> insuf Mi discreta </e1> , insuf Tri discreta , hipetensao pulmonar discreta .', 'Problema'], ['# Lucas , 78 anos * HAS , * Gota , * DAC - IAM + ATC em 2012 ( angina instavel ) - Ecocardiograma mar / 14 : FE 42 % / comprometimento difuso do VE grau moderado , insuf Mi discreta , <e1> insuf Tri discreta </e1> , hipetensao pulmonar discreta .', 'Problema'], ['# Lucas , 78 anos * HAS , * Gota , * DAC - IAM + ATC em 2012 ( angina instavel ) - Ecocardiograma mar / 14 : FE 42 % / comprometimento difuso do VE grau moderado , insuf Mi discreta , insuf Tri discreta , <e1> hipetensao pulmonar discreta </e1> .', 'Problema'], ['# Lucas , 78 anos * HAS , * Gota , * DAC - IAM + ATC em 2012 ( <e1> angina </e1> instavel ) - Ecocardiograma mar / 14 : FE 42 % / comprometimento difuso do VE grau moderado , insuf Mi discreta , insuf Tri discreta , hipetensao pulmonar discreta .', 'O'], ['# Lucas , 78 anos * HAS , * Gota , * DAC - IAM + ATC em 2012 ( angina instavel ) - Ecocardiograma mar / 14 : FE 42 % / <e1> comprometimento </e1> difuso do VE grau moderado , insuf Mi discreta , insuf Tri discreta , hipetensao pulmonar discreta .', 'O'], ['# Lucas , 78 anos * HAS , * Gota , * DAC - IAM + ATC em 2012 ( angina instavel ) - Ecocardiograma mar / 14 : FE 42 % / <e1> comprometimento difuso do VE grau </e1> moderado , insuf Mi discreta , insuf Tri discreta , hipetensao pulmonar discreta .', 'O'], ['# Lucas , 78 anos * HAS , * Gota , * DAC - IAM + ATC em 2012 ( angina instavel ) - Ecocardiograma mar / 14 : FE 42 % / comprometimento <e1> difuso do </e1> VE grau moderado , insuf Mi discreta , insuf Tri discreta , hipetensao pulmonar discreta .', 'O'], ['# Lucas , 78 anos * HAS , * Gota , * DAC - IAM + ATC em 2012 ( angina instavel ) - Ecocardiograma mar / 14 : FE 42 % / comprometimento difuso do <e1> VE </e1> grau moderado , insuf Mi discreta , insuf Tri discreta , hipetensao pulmonar discreta .', 'O'], ['# Lucas , 78 anos * HAS , * Gota , * DAC - IAM + ATC em 2012 ( angina instavel ) - Ecocardiograma mar / 14 : FE 42 % / comprometimento difuso do <e1> VE grau </e1> moderado , insuf Mi discreta , insuf Tri discreta , hipetensao pulmonar discreta .', 'O'], ['# Lucas , 78 anos * HAS , * Gota , * DAC - IAM + ATC em 2012 ( angina instavel ) - Ecocardiograma mar / 14 : FE 42 % / comprometimento difuso do VE <e1> grau </e1> moderado , insuf Mi discreta , insuf Tri discreta , hipetensao pulmonar discreta .', 'O'], ['# Lucas , 78 anos * HAS , * Gota , * DAC - IAM + ATC em 2012 ( angina instavel ) - Ecocardiograma mar / 14 : FE 42 % / comprometimento difuso do VE grau moderado , <e1> insuf </e1> Mi discreta , insuf Tri discreta , hipetensao pulmonar discreta .', 'O'], ['# Lucas , 78 anos * HAS , * Gota , * DAC - IAM + ATC em 2012 ( angina instavel ) - Ecocardiograma mar / 14 : FE 42 % / comprometimento difuso do VE grau moderado , <e1> insuf Mi </e1> discreta , insuf Tri discreta , hipetensao pulmonar discreta .', 'O'], ['# Lucas , 78 anos * HAS , * Gota , * DAC - IAM + ATC em 2012 ( angina instavel ) - Ecocardiograma mar / 14 : FE 42 % / comprometimento difuso do VE grau moderado , insuf <e1> Mi </e1> discreta , insuf Tri discreta , hipetensao pulmonar discreta .', 'O'], ['# Lucas , 78 anos * HAS , * Gota , * DAC - IAM + ATC em 2012 ( angina instavel ) - Ecocardiograma mar / 14 : FE 42 % / comprometimento difuso do VE grau moderado , insuf Mi discreta , <e1> insuf </e1> Tri discreta , hipetensao pulmonar discreta .', 'O'], ['# Lucas , 78 anos * HAS , * Gota , * DAC - IAM + ATC em 2012 ( angina instavel ) - Ecocardiograma mar / 14 : FE 42 % / comprometimento difuso do VE grau moderado , insuf Mi discreta , <e1> insuf Tri </e1> discreta , hipetensao pulmonar discreta .', 'O'], ['# Lucas , 78 anos * HAS , * Gota , * DAC - IAM + ATC em 2012 ( angina instavel ) - Ecocardiograma mar / 14 : FE 42 % / comprometimento difuso do VE grau moderado , insuf Mi discreta , insuf <e1> Tri </e1> discreta , hipetensao pulmonar discreta .', 'O'], ['# Lucas , 78 anos * HAS , * Gota , * DAC - IAM + ATC em 2012 ( angina instavel ) - Ecocardiograma mar / 14 : FE 42 % / comprometimento difuso do VE grau moderado , insuf Mi discreta , insuf Tri discreta , <e1> hipetensao </e1> pulmonar discreta .', 'O'], ['# Lucas , 78 anos * HAS , * Gota , * DAC - IAM + ATC em 2012 ( angina instavel ) - Ecocardiograma mar / 14 : FE 42 % / comprometimento difuso do VE grau moderado , insuf Mi discreta , insuf Tri discreta , <e1> hipetensao pulmonar </e1> discreta .', 'O']]]\n",
      "combinacao: ['Paciente refere fraqueza intermitente em MMII , associada a tontura , turvação visual e epigastralgia .', [['Paciente refere <e1> fraqueza intermitente em MMII </e1> , associada a tontura , turvação visual e epigastralgia .', 'Problema'], ['Paciente refere fraqueza intermitente em MMII , associada a <e1> tontura </e1> , turvação visual e epigastralgia .', 'Problema'], ['Paciente refere fraqueza intermitente em MMII , associada a tontura , <e1> turvação visual </e1> e epigastralgia .', 'Problema'], ['Paciente refere fraqueza intermitente em MMII , associada a tontura , turvação visual e <e1> epigastralgia </e1> .', 'Problema'], ['Paciente refere <e1> fraqueza </e1> intermitente em MMII , associada a tontura , turvação visual e epigastralgia .', 'O'], ['Paciente refere <e1> fraqueza intermitente em </e1> MMII , associada a tontura , turvação visual e epigastralgia .', 'O'], ['Paciente refere fraqueza <e1> intermitente em </e1> MMII , associada a tontura , turvação visual e epigastralgia .', 'O'], ['Paciente refere fraqueza intermitente em MMII , associada a tontura , <e1> turvação </e1> visual e epigastralgia .', 'O']]]\n",
      "combinacao: ['Nega dor toracica associada ou dispneia .', [['Nega <e1> dor toracica associada </e1> ou dispneia .', 'Problema'], ['Nega dor toracica associada ou <e1> dispneia </e1> .', 'Problema'], ['Nega <e1> dor toracica </e1> associada ou dispneia .', 'O']]]\n",
      "combinacao: ['Nega DPN .', [['Nega <e1> DPN </e1> .', 'Problema']]]\n",
      "combinacao: ['Nega sincope .', [['Nega <e1> sincope </e1> .', 'Problema']]]\n",
      "combinacao: ['Nega edema de MMII .', [['Nega <e1> edema de MMII </e1> .', 'Problema'], ['Nega <e1> edema de </e1> MMII .', 'O']]]\n",
      "combinacao: []\n",
      "combinacao: ['Nega queixas urinarias e gastrointestinais .', [['Nega <e1> queixas urinarias </e1> e gastrointestinais .', 'Problema'], ['Nega queixas urinarias e <e1> gastrointestinais </e1> .', 'Problema'], ['Nega <e1> queixas </e1> urinarias e gastrointestinais .', 'O']]]\n",
      "combinacao: ['Nega tabagismo atual e pregresso .', [['Nega <e1> tabagismo </e1> atual e pregresso .', 'Problema']]]\n",
      "combinacao: ['- Laboratorio Cr 1 , 5 / glicose 85 / ureia 70 / CPK 161 / acido urico 5 , 3 / TG 107 / TGP 23 / HDL 38 / Na 143 / TGO 26 / CT 103 / LDL 44 / K 5 , 1 / HB 16 , 1 / leucocitos 6800 / plaquetas 116000 / - Albumina / Cr isolada = 174 , 3 * * * CKD 44 ; Paciente encaminhado via UBS para nefrologia - aguarda consulta .', [['- <e1> Laboratorio Cr </e1> 1 , 5 / glicose 85 / ureia 70 / CPK 161 / acido urico 5 , 3 / TG 107 / TGP 23 / HDL 38 / Na 143 / TGO 26 / CT 103 / LDL 44 / K 5 , 1 / HB 16 , 1 / leucocitos 6800 / plaquetas 116000 / - Albumina / Cr isolada = 174 , 3 * * * CKD 44 ; Paciente encaminhado via UBS para nefrologia - aguarda consulta .', 'Teste'], ['- Laboratorio Cr 1 , 5 / <e1> glicose </e1> 85 / ureia 70 / CPK 161 / acido urico 5 , 3 / TG 107 / TGP 23 / HDL 38 / Na 143 / TGO 26 / CT 103 / LDL 44 / K 5 , 1 / HB 16 , 1 / leucocitos 6800 / plaquetas 116000 / - Albumina / Cr isolada = 174 , 3 * * * CKD 44 ; Paciente encaminhado via UBS para nefrologia - aguarda consulta .', 'Teste'], ['- Laboratorio Cr 1 , 5 / glicose 85 / <e1> ureia </e1> 70 / CPK 161 / acido urico 5 , 3 / TG 107 / TGP 23 / HDL 38 / Na 143 / TGO 26 / CT 103 / LDL 44 / K 5 , 1 / HB 16 , 1 / leucocitos 6800 / plaquetas 116000 / - Albumina / Cr isolada = 174 , 3 * * * CKD 44 ; Paciente encaminhado via UBS para nefrologia - aguarda consulta .', 'Teste'], ['- Laboratorio Cr 1 , 5 / glicose 85 / ureia 70 / <e1> CPK </e1> 161 / acido urico 5 , 3 / TG 107 / TGP 23 / HDL 38 / Na 143 / TGO 26 / CT 103 / LDL 44 / K 5 , 1 / HB 16 , 1 / leucocitos 6800 / plaquetas 116000 / - Albumina / Cr isolada = 174 , 3 * * * CKD 44 ; Paciente encaminhado via UBS para nefrologia - aguarda consulta .', 'Teste'], ['- Laboratorio Cr 1 , 5 / glicose 85 / ureia 70 / CPK 161 / <e1> acido urico </e1> 5 , 3 / TG 107 / TGP 23 / HDL 38 / Na 143 / TGO 26 / CT 103 / LDL 44 / K 5 , 1 / HB 16 , 1 / leucocitos 6800 / plaquetas 116000 / - Albumina / Cr isolada = 174 , 3 * * * CKD 44 ; Paciente encaminhado via UBS para nefrologia - aguarda consulta .', 'Teste'], ['- Laboratorio Cr 1 , 5 / glicose 85 / ureia 70 / CPK 161 / acido urico 5 , 3 / <e1> TG </e1> 107 / TGP 23 / HDL 38 / Na 143 / TGO 26 / CT 103 / LDL 44 / K 5 , 1 / HB 16 , 1 / leucocitos 6800 / plaquetas 116000 / - Albumina / Cr isolada = 174 , 3 * * * CKD 44 ; Paciente encaminhado via UBS para nefrologia - aguarda consulta .', 'Teste'], ['- Laboratorio Cr 1 , 5 / glicose 85 / ureia 70 / CPK 161 / acido urico 5 , 3 / TG 107 / <e1> TGP </e1> 23 / HDL 38 / Na 143 / TGO 26 / CT 103 / LDL 44 / K 5 , 1 / HB 16 , 1 / leucocitos 6800 / plaquetas 116000 / - Albumina / Cr isolada = 174 , 3 * * * CKD 44 ; Paciente encaminhado via UBS para nefrologia - aguarda consulta .', 'Teste'], ['- Laboratorio Cr 1 , 5 / glicose 85 / ureia 70 / CPK 161 / acido urico 5 , 3 / TG 107 / TGP 23 / <e1> HDL </e1> 38 / Na 143 / TGO 26 / CT 103 / LDL 44 / K 5 , 1 / HB 16 , 1 / leucocitos 6800 / plaquetas 116000 / - Albumina / Cr isolada = 174 , 3 * * * CKD 44 ; Paciente encaminhado via UBS para nefrologia - aguarda consulta .', 'Teste'], ['- Laboratorio Cr 1 , 5 / glicose 85 / ureia 70 / CPK 161 / acido urico 5 , 3 / TG 107 / TGP 23 / HDL 38 / <e1> Na </e1> 143 / TGO 26 / CT 103 / LDL 44 / K 5 , 1 / HB 16 , 1 / leucocitos 6800 / plaquetas 116000 / - Albumina / Cr isolada = 174 , 3 * * * CKD 44 ; Paciente encaminhado via UBS para nefrologia - aguarda consulta .', 'Teste'], ['- Laboratorio Cr 1 , 5 / glicose 85 / ureia 70 / CPK 161 / acido urico 5 , 3 / TG 107 / TGP 23 / HDL 38 / Na 143 / <e1> TGO </e1> 26 / CT 103 / LDL 44 / K 5 , 1 / HB 16 , 1 / leucocitos 6800 / plaquetas 116000 / - Albumina / Cr isolada = 174 , 3 * * * CKD 44 ; Paciente encaminhado via UBS para nefrologia - aguarda consulta .', 'Teste'], ['- Laboratorio Cr 1 , 5 / glicose 85 / ureia 70 / CPK 161 / acido urico 5 , 3 / TG 107 / TGP 23 / HDL 38 / Na 143 / TGO 26 / <e1> CT </e1> 103 / LDL 44 / K 5 , 1 / HB 16 , 1 / leucocitos 6800 / plaquetas 116000 / - Albumina / Cr isolada = 174 , 3 * * * CKD 44 ; Paciente encaminhado via UBS para nefrologia - aguarda consulta .', 'Teste'], ['- Laboratorio Cr 1 , 5 / glicose 85 / ureia 70 / CPK 161 / acido urico 5 , 3 / TG 107 / TGP 23 / HDL 38 / Na 143 / TGO 26 / CT 103 / <e1> LDL </e1> 44 / K 5 , 1 / HB 16 , 1 / leucocitos 6800 / plaquetas 116000 / - Albumina / Cr isolada = 174 , 3 * * * CKD 44 ; Paciente encaminhado via UBS para nefrologia - aguarda consulta .', 'Teste'], ['- Laboratorio Cr 1 , 5 / glicose 85 / ureia 70 / CPK 161 / acido urico 5 , 3 / TG 107 / TGP 23 / HDL 38 / Na 143 / TGO 26 / CT 103 / LDL 44 / <e1> K </e1> 5 , 1 / HB 16 , 1 / leucocitos 6800 / plaquetas 116000 / - Albumina / Cr isolada = 174 , 3 * * * CKD 44 ; Paciente encaminhado via UBS para nefrologia - aguarda consulta .', 'Teste'], ['- Laboratorio Cr 1 , 5 / glicose 85 / ureia 70 / CPK 161 / acido urico 5 , 3 / TG 107 / TGP 23 / HDL 38 / Na 143 / TGO 26 / CT 103 / LDL 44 / K 5 , 1 / <e1> HB </e1> 16 , 1 / leucocitos 6800 / plaquetas 116000 / - Albumina / Cr isolada = 174 , 3 * * * CKD 44 ; Paciente encaminhado via UBS para nefrologia - aguarda consulta .', 'Teste'], ['- Laboratorio Cr 1 , 5 / glicose 85 / ureia 70 / CPK 161 / acido urico 5 , 3 / TG 107 / TGP 23 / HDL 38 / Na 143 / TGO 26 / CT 103 / LDL 44 / K 5 , 1 / HB 16 , 1 / <e1> leucocitos </e1> 6800 / plaquetas 116000 / - Albumina / Cr isolada = 174 , 3 * * * CKD 44 ; Paciente encaminhado via UBS para nefrologia - aguarda consulta .', 'Teste'], ['- Laboratorio Cr 1 , 5 / glicose 85 / ureia 70 / CPK 161 / acido urico 5 , 3 / TG 107 / TGP 23 / HDL 38 / Na 143 / TGO 26 / CT 103 / LDL 44 / K 5 , 1 / HB 16 , 1 / leucocitos 6800 / <e1> plaquetas </e1> 116000 / - Albumina / Cr isolada = 174 , 3 * * * CKD 44 ; Paciente encaminhado via UBS para nefrologia - aguarda consulta .', 'Teste'], ['- Laboratorio Cr 1 , 5 / glicose 85 / ureia 70 / CPK 161 / acido urico 5 , 3 / TG 107 / TGP 23 / HDL 38 / Na 143 / TGO 26 / CT 103 / LDL 44 / K 5 , 1 / HB 16 , 1 / leucocitos 6800 / plaquetas 116000 / - <e1> Albumina </e1> / Cr isolada = 174 , 3 * * * CKD 44 ; Paciente encaminhado via UBS para nefrologia - aguarda consulta .', 'Teste'], ['- Laboratorio Cr 1 , 5 / glicose 85 / ureia 70 / CPK 161 / acido urico 5 , 3 / TG 107 / TGP 23 / HDL 38 / Na 143 / TGO 26 / CT 103 / LDL 44 / K 5 , 1 / HB 16 , 1 / leucocitos 6800 / plaquetas 116000 / - Albumina / <e1> Cr isolada </e1> = 174 , 3 * * * CKD 44 ; Paciente encaminhado via UBS para nefrologia - aguarda consulta .', 'Teste'], ['- Laboratorio Cr 1 , 5 / glicose 85 / ureia 70 / CPK 161 / acido urico 5 , 3 / TG 107 / TGP 23 / HDL 38 / Na 143 / TGO 26 / CT 103 / LDL 44 / K 5 , 1 / HB 16 , 1 / leucocitos 6800 / plaquetas 116000 / - Albumina / Cr isolada = 174 , 3 * * * <e1> CKD </e1> 44 ; Paciente encaminhado via UBS para nefrologia - aguarda consulta .', 'Teste'], ['- <e1> Laboratorio </e1> Cr 1 , 5 / glicose 85 / ureia 70 / CPK 161 / acido urico 5 , 3 / TG 107 / TGP 23 / HDL 38 / Na 143 / TGO 26 / CT 103 / LDL 44 / K 5 , 1 / HB 16 , 1 / leucocitos 6800 / plaquetas 116000 / - Albumina / Cr isolada = 174 , 3 * * * CKD 44 ; Paciente encaminhado via UBS para nefrologia - aguarda consulta .', 'O'], ['- Laboratorio <e1> Cr </e1> 1 , 5 / glicose 85 / ureia 70 / CPK 161 / acido urico 5 , 3 / TG 107 / TGP 23 / HDL 38 / Na 143 / TGO 26 / CT 103 / LDL 44 / K 5 , 1 / HB 16 , 1 / leucocitos 6800 / plaquetas 116000 / - Albumina / Cr isolada = 174 , 3 * * * CKD 44 ; Paciente encaminhado via UBS para nefrologia - aguarda consulta .', 'O'], ['- Laboratorio Cr 1 , 5 / glicose 85 / ureia 70 / CPK 161 / <e1> acido </e1> urico 5 , 3 / TG 107 / TGP 23 / HDL 38 / Na 143 / TGO 26 / CT 103 / LDL 44 / K 5 , 1 / HB 16 , 1 / leucocitos 6800 / plaquetas 116000 / - Albumina / Cr isolada = 174 , 3 * * * CKD 44 ; Paciente encaminhado via UBS para nefrologia - aguarda consulta .', 'O'], ['- Laboratorio Cr 1 , 5 / glicose 85 / ureia 70 / CPK 161 / acido urico 5 , 3 / TG 107 / TGP 23 / HDL 38 / Na 143 / TGO 26 / CT 103 / LDL 44 / K 5 , 1 / HB 16 , 1 / leucocitos 6800 / plaquetas 116000 / - Albumina / <e1> Cr </e1> isolada = 174 , 3 * * * CKD 44 ; Paciente encaminhado via UBS para nefrologia - aguarda consulta .', 'O']]]\n",
      "combinacao: ['Em uso de : alopurinol 150mg / dia , anlodipino 5mg / noite , enalapril 10mg 12 / 12 h , selozok 100mg / dia , AAS 100mg / dia , clopidogrel 75mg / dia , sinvastatina 40mg / dia , colecalciferol 10 gotas / semana .', [['Em uso de : <e1> alopurinol 150mg </e1> / dia , anlodipino 5mg / noite , enalapril 10mg 12 / 12 h , selozok 100mg / dia , AAS 100mg / dia , clopidogrel 75mg / dia , sinvastatina 40mg / dia , colecalciferol 10 gotas / semana .', 'Tratamento'], ['Em uso de : alopurinol 150mg / dia , <e1> anlodipino 5mg </e1> / noite , enalapril 10mg 12 / 12 h , selozok 100mg / dia , AAS 100mg / dia , clopidogrel 75mg / dia , sinvastatina 40mg / dia , colecalciferol 10 gotas / semana .', 'Tratamento'], ['Em uso de : alopurinol 150mg / dia , anlodipino 5mg / noite , <e1> enalapril 10mg </e1> 12 / 12 h , selozok 100mg / dia , AAS 100mg / dia , clopidogrel 75mg / dia , sinvastatina 40mg / dia , colecalciferol 10 gotas / semana .', 'Tratamento'], ['Em uso de : alopurinol 150mg / dia , anlodipino 5mg / noite , enalapril 10mg 12 / 12 h , <e1> selozok 100mg </e1> / dia , AAS 100mg / dia , clopidogrel 75mg / dia , sinvastatina 40mg / dia , colecalciferol 10 gotas / semana .', 'Tratamento'], ['Em uso de : alopurinol 150mg / dia , anlodipino 5mg / noite , enalapril 10mg 12 / 12 h , selozok 100mg / dia , <e1> AAS 100mg </e1> / dia , clopidogrel 75mg / dia , sinvastatina 40mg / dia , colecalciferol 10 gotas / semana .', 'Tratamento'], ['Em uso de : alopurinol 150mg / dia , anlodipino 5mg / noite , enalapril 10mg 12 / 12 h , selozok 100mg / dia , AAS 100mg / dia , <e1> clopidogrel 75mg </e1> / dia , sinvastatina 40mg / dia , colecalciferol 10 gotas / semana .', 'Tratamento'], ['Em uso de : alopurinol 150mg / dia , anlodipino 5mg / noite , enalapril 10mg 12 / 12 h , selozok 100mg / dia , AAS 100mg / dia , clopidogrel 75mg / dia , <e1> sinvastatina 40mg </e1> / dia , colecalciferol 10 gotas / semana .', 'Tratamento'], ['Em uso de : alopurinol 150mg / dia , anlodipino 5mg / noite , enalapril 10mg 12 / 12 h , selozok 100mg / dia , AAS 100mg / dia , clopidogrel 75mg / dia , sinvastatina 40mg / dia , <e1> colecalciferol 10 gotas </e1> / semana .', 'Tratamento'], ['Em uso de : <e1> alopurinol </e1> 150mg / dia , anlodipino 5mg / noite , enalapril 10mg 12 / 12 h , selozok 100mg / dia , AAS 100mg / dia , clopidogrel 75mg / dia , sinvastatina 40mg / dia , colecalciferol 10 gotas / semana .', 'O'], ['Em uso de : alopurinol 150mg / dia , <e1> anlodipino </e1> 5mg / noite , enalapril 10mg 12 / 12 h , selozok 100mg / dia , AAS 100mg / dia , clopidogrel 75mg / dia , sinvastatina 40mg / dia , colecalciferol 10 gotas / semana .', 'O'], ['Em uso de : alopurinol 150mg / dia , anlodipino 5mg / noite , <e1> enalapril </e1> 10mg 12 / 12 h , selozok 100mg / dia , AAS 100mg / dia , clopidogrel 75mg / dia , sinvastatina 40mg / dia , colecalciferol 10 gotas / semana .', 'O'], ['Em uso de : alopurinol 150mg / dia , anlodipino 5mg / noite , enalapril <e1> 10mg </e1> 12 / 12 h , selozok 100mg / dia , AAS 100mg / dia , clopidogrel 75mg / dia , sinvastatina 40mg / dia , colecalciferol 10 gotas / semana .', 'O'], ['Em uso de : alopurinol 150mg / dia , anlodipino 5mg / noite , enalapril 10mg 12 / 12 h , <e1> selozok </e1> 100mg / dia , AAS 100mg / dia , clopidogrel 75mg / dia , sinvastatina 40mg / dia , colecalciferol 10 gotas / semana .', 'O'], ['Em uso de : alopurinol 150mg / dia , anlodipino 5mg / noite , enalapril 10mg 12 / 12 h , selozok 100mg / dia , <e1> AAS </e1> 100mg / dia , clopidogrel 75mg / dia , sinvastatina 40mg / dia , colecalciferol 10 gotas / semana .', 'O'], ['Em uso de : alopurinol 150mg / dia , anlodipino 5mg / noite , enalapril 10mg 12 / 12 h , selozok 100mg / dia , AAS 100mg / dia , <e1> clopidogrel </e1> 75mg / dia , sinvastatina 40mg / dia , colecalciferol 10 gotas / semana .', 'O'], ['Em uso de : alopurinol 150mg / dia , anlodipino 5mg / noite , enalapril 10mg 12 / 12 h , selozok 100mg / dia , AAS 100mg / dia , clopidogrel 75mg / dia , <e1> sinvastatina </e1> 40mg / dia , colecalciferol 10 gotas / semana .', 'O'], ['Em uso de : alopurinol 150mg / dia , anlodipino 5mg / noite , enalapril 10mg 12 / 12 h , selozok 100mg / dia , AAS 100mg / dia , clopidogrel 75mg / dia , sinvastatina 40mg / dia , <e1> colecalciferol </e1> 10 gotas / semana .', 'O'], ['Em uso de : alopurinol 150mg / dia , anlodipino 5mg / noite , enalapril 10mg 12 / 12 h , selozok 100mg / dia , AAS 100mg / dia , clopidogrel 75mg / dia , sinvastatina 40mg / dia , <e1> colecalciferol 10 </e1> gotas / semana .', 'O']]]\n",
      "combinacao: ['Ao exame : PA : 90 / 60 mmHg / FC 55 bpm , BCRNF , SS , MV + bilateralmente , sem RA , MMII edema + / IV bilateral .', [['Ao <e1> exame </e1> : PA : 90 / 60 mmHg / FC 55 bpm , BCRNF , SS , MV + bilateralmente , sem RA , MMII edema + / IV bilateral .', 'Teste'], ['Ao exame : <e1> PA </e1> : 90 / 60 mmHg / FC 55 bpm , BCRNF , SS , MV + bilateralmente , sem RA , MMII edema + / IV bilateral .', 'Teste'], ['Ao exame : PA : 90 / 60 mmHg / <e1> FC </e1> 55 bpm , BCRNF , SS , MV + bilateralmente , sem RA , MMII edema + / IV bilateral .', 'Teste'], ['Ao exame : PA : 90 / 60 mmHg / FC 55 bpm , BCRNF , <e1> SS </e1> , MV + bilateralmente , sem RA , MMII edema + / IV bilateral .', 'Problema'], ['Ao exame : PA : 90 / 60 mmHg / FC 55 bpm , BCRNF , SS , MV + bilateralmente , sem <e1> RA </e1> , MMII edema + / IV bilateral .', 'Problema'], ['Ao exame : PA : 90 / 60 mmHg / FC 55 bpm , BCRNF , SS , MV + bilateralmente , sem RA , <e1> MMII edema + / IV bilateral </e1> .', 'Problema'], ['Ao exame : PA : 90 / 60 mmHg / FC 55 bpm , BCRNF , SS , MV + bilateralmente , sem RA , <e1> MMII </e1> edema + / IV bilateral .', 'O'], ['Ao exame : PA : 90 / 60 mmHg / FC 55 bpm , BCRNF , SS , MV + bilateralmente , sem RA , <e1> MMII edema </e1> + / IV bilateral .', 'O'], ['Ao exame : PA : 90 / 60 mmHg / FC 55 bpm , BCRNF , SS , MV + bilateralmente , sem RA , <e1> MMII edema + / IV </e1> bilateral .', 'O'], ['Ao exame : PA : 90 / 60 mmHg / FC 55 bpm , BCRNF , SS , MV + bilateralmente , sem RA , MMII <e1> edema </e1> + / IV bilateral .', 'O']]]\n",
      "combinacao: ['# # Reduzimos anlodipino para 2 , 5mg / dia .', [['# # Reduzimos <e1> anlodipino para 2 , 5mg </e1> / dia .', 'Tratamento']]]\n",
      "combinacao: ['Suspendemos clopidogrel .', [['Suspendemos <e1> clopidogrel </e1> .', 'Tratamento']]]\n",
      "combinacao: ['Mantemos demais medicações .', [['Mantemos <e1> demais medicações </e1> .', 'Tratamento'], ['Mantemos <e1> demais </e1> medicações .', 'O']]]\n",
      "combinacao: ['Retorno em 10 meses com a cardio com novos exames .', [['Retorno em 10 meses com a cardio com novos <e1> exames </e1> .', 'Teste']]]\n",
      "combinacao: []\n",
      "combinacao: []\n",
      "combinacao: ['* HAS * Gota * DAC - IAM + ATC em 2012 ( angina instavel ) .', [['* <e1> HAS </e1> * Gota * DAC - IAM + ATC em 2012 ( angina instavel ) .', 'Problema'], ['* HAS * <e1> Gota </e1> * DAC - IAM + ATC em 2012 ( angina instavel ) .', 'Problema'], ['* HAS * Gota * <e1> DAC </e1> - IAM + ATC em 2012 ( angina instavel ) .', 'Problema'], ['* HAS * Gota * DAC - <e1> IAM </e1> + ATC em 2012 ( angina instavel ) .', 'Problema'], ['* HAS * Gota * DAC - IAM + <e1> ATC </e1> em 2012 ( angina instavel ) .', 'Tratamento'], ['* HAS * Gota * DAC - IAM + ATC em 2012 ( <e1> angina instavel </e1> ) .', 'Problema'], ['* HAS * Gota * DAC - IAM + ATC em 2012 ( <e1> angina </e1> instavel ) .', 'O']]]\n",
      "combinacao: ['Paciente em tratamento para ICC diastólica há cerca de 5 a com melhora importante dos sintomas após início do tratamento .', [['Paciente em tratamento para <e1> ICC diastólica </e1> há cerca de 5 a com melhora importante dos sintomas após início do tratamento .', 'Problema'], ['Paciente em tratamento para ICC diastólica há cerca de 5 a com melhora importante dos sintomas após início do <e1> tratamento </e1> .', 'Tratamento'], ['Paciente em tratamento para <e1> ICC </e1> diastólica há cerca de 5 a com melhora importante dos sintomas após início do tratamento .', 'O']]]\n",
      "combinacao: ['Hoje relata dispneia aos moderados esforços , nega disnpneía paroxística notrna , dorme com apenas 1 travesseiro .', [['Hoje relata <e1> dispneia aos moderados esforços </e1> , nega disnpneía paroxística notrna , dorme com apenas 1 travesseiro .', 'Problema'], ['Hoje relata dispneia aos moderados esforços , nega <e1> disnpneía paroxística notrna </e1> , dorme com apenas 1 travesseiro .', 'Problema'], ['Hoje relata <e1> dispneia aos moderados </e1> esforços , nega disnpneía paroxística notrna , dorme com apenas 1 travesseiro .', 'O'], ['Hoje relata dispneia aos moderados esforços , nega <e1> disnpneía </e1> paroxística notrna , dorme com apenas 1 travesseiro .', 'O'], ['Hoje relata dispneia aos moderados esforços , nega <e1> disnpneía paroxística </e1> notrna , dorme com apenas 1 travesseiro .', 'O']]]\n",
      "combinacao: ['Nega precordialgia aos moderados esforços .', [['Nega <e1> precordialgia aos moderados esforços </e1> .', 'Problema'], ['Nega <e1> precordialgia aos moderados </e1> esforços .', 'O']]]\n",
      "combinacao: ['Nega episódios anginosos .', [['Nega <e1> episódios anginosos </e1> .', 'Problema'], ['Nega <e1> episódios </e1> anginosos .', 'O']]]\n",
      "combinacao: ['Nega outras queixas .', [['Nega <e1> outras queixas </e1> .', 'Problema'], ['Nega <e1> outras </e1> queixas .', 'O']]]\n",
      "combinacao: ['Rsultado de exames : 1 - Microalbuminúria 12 / 04 : 10 . 64 / G de creatinina 2 - US abdome total : rins com alterações tróficas 3 - ECG 19 / 03 / 14 : isquemia subepicárdica anterior , alteração de repolarização ventricular infero - lateral 4 - Laboratoriais 12 / 04 / 14 : K 5 . 1 , clearence creatinina 57 Ao EF : PA 170x100mmHg ( relata PA normal quando em ambiente não hospitalar ) , FC 63bpm AR : mv sem RA ACV : rcr em 2T sem sopros , com hipofonese de bulhas AD : abdome globos , normotenso , indolor , ausência de massas ou visceromegalias MMII sem edema HD : - ICC diastólica classe III - HAS - DMII - Dislipidemia CD : - mantenho medicação - retorno em 6 m com exames laboratoriais + ECG .', [['Rsultado de <e1> exames </e1> : 1 - Microalbuminúria 12 / 04 : 10 . 64 / G de creatinina 2 - US abdome total : rins com alterações tróficas 3 - ECG 19 / 03 / 14 : isquemia subepicárdica anterior , alteração de repolarização ventricular infero - lateral 4 - Laboratoriais 12 / 04 / 14 : K 5 . 1 , clearence creatinina 57 Ao EF : PA 170x100mmHg ( relata PA normal quando em ambiente não hospitalar ) , FC 63bpm AR : mv sem RA ACV : rcr em 2T sem sopros , com hipofonese de bulhas AD : abdome globos , normotenso , indolor , ausência de massas ou visceromegalias MMII sem edema HD : - ICC diastólica classe III - HAS - DMII - Dislipidemia CD : - mantenho medicação - retorno em 6 m com exames laboratoriais + ECG .', 'Teste'], ['Rsultado de exames : 1 - <e1> Microalbuminúria </e1> 12 / 04 : 10 . 64 / G de creatinina 2 - US abdome total : rins com alterações tróficas 3 - ECG 19 / 03 / 14 : isquemia subepicárdica anterior , alteração de repolarização ventricular infero - lateral 4 - Laboratoriais 12 / 04 / 14 : K 5 . 1 , clearence creatinina 57 Ao EF : PA 170x100mmHg ( relata PA normal quando em ambiente não hospitalar ) , FC 63bpm AR : mv sem RA ACV : rcr em 2T sem sopros , com hipofonese de bulhas AD : abdome globos , normotenso , indolor , ausência de massas ou visceromegalias MMII sem edema HD : - ICC diastólica classe III - HAS - DMII - Dislipidemia CD : - mantenho medicação - retorno em 6 m com exames laboratoriais + ECG .', 'Teste'], ['Rsultado de exames : 1 - Microalbuminúria 12 / 04 : 10 . 64 / G de <e1> creatinina </e1> 2 - US abdome total : rins com alterações tróficas 3 - ECG 19 / 03 / 14 : isquemia subepicárdica anterior , alteração de repolarização ventricular infero - lateral 4 - Laboratoriais 12 / 04 / 14 : K 5 . 1 , clearence creatinina 57 Ao EF : PA 170x100mmHg ( relata PA normal quando em ambiente não hospitalar ) , FC 63bpm AR : mv sem RA ACV : rcr em 2T sem sopros , com hipofonese de bulhas AD : abdome globos , normotenso , indolor , ausência de massas ou visceromegalias MMII sem edema HD : - ICC diastólica classe III - HAS - DMII - Dislipidemia CD : - mantenho medicação - retorno em 6 m com exames laboratoriais + ECG .', 'Teste'], ['Rsultado de exames : 1 - Microalbuminúria 12 / 04 : 10 . 64 / G de creatinina 2 - <e1> US abdome total </e1> : rins com alterações tróficas 3 - ECG 19 / 03 / 14 : isquemia subepicárdica anterior , alteração de repolarização ventricular infero - lateral 4 - Laboratoriais 12 / 04 / 14 : K 5 . 1 , clearence creatinina 57 Ao EF : PA 170x100mmHg ( relata PA normal quando em ambiente não hospitalar ) , FC 63bpm AR : mv sem RA ACV : rcr em 2T sem sopros , com hipofonese de bulhas AD : abdome globos , normotenso , indolor , ausência de massas ou visceromegalias MMII sem edema HD : - ICC diastólica classe III - HAS - DMII - Dislipidemia CD : - mantenho medicação - retorno em 6 m com exames laboratoriais + ECG .', 'Teste'], ['Rsultado de exames : 1 - Microalbuminúria 12 / 04 : 10 . 64 / G de creatinina 2 - US abdome total : rins com <e1> alterações tróficas </e1> 3 - ECG 19 / 03 / 14 : isquemia subepicárdica anterior , alteração de repolarização ventricular infero - lateral 4 - Laboratoriais 12 / 04 / 14 : K 5 . 1 , clearence creatinina 57 Ao EF : PA 170x100mmHg ( relata PA normal quando em ambiente não hospitalar ) , FC 63bpm AR : mv sem RA ACV : rcr em 2T sem sopros , com hipofonese de bulhas AD : abdome globos , normotenso , indolor , ausência de massas ou visceromegalias MMII sem edema HD : - ICC diastólica classe III - HAS - DMII - Dislipidemia CD : - mantenho medicação - retorno em 6 m com exames laboratoriais + ECG .', 'Problema'], ['Rsultado de exames : 1 - Microalbuminúria 12 / 04 : 10 . 64 / G de creatinina 2 - US abdome total : rins com alterações tróficas 3 - <e1> ECG </e1> 19 / 03 / 14 : isquemia subepicárdica anterior , alteração de repolarização ventricular infero - lateral 4 - Laboratoriais 12 / 04 / 14 : K 5 . 1 , clearence creatinina 57 Ao EF : PA 170x100mmHg ( relata PA normal quando em ambiente não hospitalar ) , FC 63bpm AR : mv sem RA ACV : rcr em 2T sem sopros , com hipofonese de bulhas AD : abdome globos , normotenso , indolor , ausência de massas ou visceromegalias MMII sem edema HD : - ICC diastólica classe III - HAS - DMII - Dislipidemia CD : - mantenho medicação - retorno em 6 m com exames laboratoriais + ECG .', 'Teste'], ['Rsultado de exames : 1 - Microalbuminúria 12 / 04 : 10 . 64 / G de creatinina 2 - US abdome total : rins com alterações tróficas 3 - ECG 19 / 03 / 14 : <e1> isquemia subepicárdica anterior </e1> , alteração de repolarização ventricular infero - lateral 4 - Laboratoriais 12 / 04 / 14 : K 5 . 1 , clearence creatinina 57 Ao EF : PA 170x100mmHg ( relata PA normal quando em ambiente não hospitalar ) , FC 63bpm AR : mv sem RA ACV : rcr em 2T sem sopros , com hipofonese de bulhas AD : abdome globos , normotenso , indolor , ausência de massas ou visceromegalias MMII sem edema HD : - ICC diastólica classe III - HAS - DMII - Dislipidemia CD : - mantenho medicação - retorno em 6 m com exames laboratoriais + ECG .', 'Problema'], ['Rsultado de exames : 1 - Microalbuminúria 12 / 04 : 10 . 64 / G de creatinina 2 - US abdome total : rins com alterações tróficas 3 - ECG 19 / 03 / 14 : isquemia subepicárdica anterior , <e1> alteração de repolarização ventricular infero - lateral </e1> 4 - Laboratoriais 12 / 04 / 14 : K 5 . 1 , clearence creatinina 57 Ao EF : PA 170x100mmHg ( relata PA normal quando em ambiente não hospitalar ) , FC 63bpm AR : mv sem RA ACV : rcr em 2T sem sopros , com hipofonese de bulhas AD : abdome globos , normotenso , indolor , ausência de massas ou visceromegalias MMII sem edema HD : - ICC diastólica classe III - HAS - DMII - Dislipidemia CD : - mantenho medicação - retorno em 6 m com exames laboratoriais + ECG .', 'Problema'], ['Rsultado de exames : 1 - Microalbuminúria 12 / 04 : 10 . 64 / G de creatinina 2 - US abdome total : rins com alterações tróficas 3 - ECG 19 / 03 / 14 : isquemia subepicárdica anterior , alteração de repolarização ventricular infero - lateral 4 - <e1> Laboratoriais </e1> 12 / 04 / 14 : K 5 . 1 , clearence creatinina 57 Ao EF : PA 170x100mmHg ( relata PA normal quando em ambiente não hospitalar ) , FC 63bpm AR : mv sem RA ACV : rcr em 2T sem sopros , com hipofonese de bulhas AD : abdome globos , normotenso , indolor , ausência de massas ou visceromegalias MMII sem edema HD : - ICC diastólica classe III - HAS - DMII - Dislipidemia CD : - mantenho medicação - retorno em 6 m com exames laboratoriais + ECG .', 'Teste'], ['Rsultado de exames : 1 - Microalbuminúria 12 / 04 : 10 . 64 / G de creatinina 2 - US abdome total : rins com alterações tróficas 3 - ECG 19 / 03 / 14 : isquemia subepicárdica anterior , alteração de repolarização ventricular infero - lateral 4 - Laboratoriais 12 / 04 / 14 : <e1> K </e1> 5 . 1 , clearence creatinina 57 Ao EF : PA 170x100mmHg ( relata PA normal quando em ambiente não hospitalar ) , FC 63bpm AR : mv sem RA ACV : rcr em 2T sem sopros , com hipofonese de bulhas AD : abdome globos , normotenso , indolor , ausência de massas ou visceromegalias MMII sem edema HD : - ICC diastólica classe III - HAS - DMII - Dislipidemia CD : - mantenho medicação - retorno em 6 m com exames laboratoriais + ECG .', 'Teste'], ['Rsultado de exames : 1 - Microalbuminúria 12 / 04 : 10 . 64 / G de creatinina 2 - US abdome total : rins com alterações tróficas 3 - ECG 19 / 03 / 14 : isquemia subepicárdica anterior , alteração de repolarização ventricular infero - lateral 4 - Laboratoriais 12 / 04 / 14 : K 5 . 1 , <e1> clearence creatinina </e1> 57 Ao EF : PA 170x100mmHg ( relata PA normal quando em ambiente não hospitalar ) , FC 63bpm AR : mv sem RA ACV : rcr em 2T sem sopros , com hipofonese de bulhas AD : abdome globos , normotenso , indolor , ausência de massas ou visceromegalias MMII sem edema HD : - ICC diastólica classe III - HAS - DMII - Dislipidemia CD : - mantenho medicação - retorno em 6 m com exames laboratoriais + ECG .', 'Teste'], ['Rsultado de exames : 1 - Microalbuminúria 12 / 04 : 10 . 64 / G de creatinina 2 - US abdome total : rins com alterações tróficas 3 - ECG 19 / 03 / 14 : isquemia subepicárdica anterior , alteração de repolarização ventricular infero - lateral 4 - Laboratoriais 12 / 04 / 14 : K 5 . 1 , clearence creatinina 57 Ao <e1> EF </e1> : PA 170x100mmHg ( relata PA normal quando em ambiente não hospitalar ) , FC 63bpm AR : mv sem RA ACV : rcr em 2T sem sopros , com hipofonese de bulhas AD : abdome globos , normotenso , indolor , ausência de massas ou visceromegalias MMII sem edema HD : - ICC diastólica classe III - HAS - DMII - Dislipidemia CD : - mantenho medicação - retorno em 6 m com exames laboratoriais + ECG .', 'Teste'], ['Rsultado de exames : 1 - Microalbuminúria 12 / 04 : 10 . 64 / G de creatinina 2 - US abdome total : rins com alterações tróficas 3 - ECG 19 / 03 / 14 : isquemia subepicárdica anterior , alteração de repolarização ventricular infero - lateral 4 - Laboratoriais 12 / 04 / 14 : K 5 . 1 , clearence creatinina 57 Ao EF : <e1> PA </e1> 170x100mmHg ( relata PA normal quando em ambiente não hospitalar ) , FC 63bpm AR : mv sem RA ACV : rcr em 2T sem sopros , com hipofonese de bulhas AD : abdome globos , normotenso , indolor , ausência de massas ou visceromegalias MMII sem edema HD : - ICC diastólica classe III - HAS - DMII - Dislipidemia CD : - mantenho medicação - retorno em 6 m com exames laboratoriais + ECG .', 'Teste'], ['Rsultado de exames : 1 - Microalbuminúria 12 / 04 : 10 . 64 / G de creatinina 2 - US abdome total : rins com alterações tróficas 3 - ECG 19 / 03 / 14 : isquemia subepicárdica anterior , alteração de repolarização ventricular infero - lateral 4 - Laboratoriais 12 / 04 / 14 : K 5 . 1 , clearence creatinina 57 Ao EF : PA 170x100mmHg ( relata <e1> PA </e1> normal quando em ambiente não hospitalar ) , FC 63bpm AR : mv sem RA ACV : rcr em 2T sem sopros , com hipofonese de bulhas AD : abdome globos , normotenso , indolor , ausência de massas ou visceromegalias MMII sem edema HD : - ICC diastólica classe III - HAS - DMII - Dislipidemia CD : - mantenho medicação - retorno em 6 m com exames laboratoriais + ECG .', 'Teste'], ['Rsultado de exames : 1 - Microalbuminúria 12 / 04 : 10 . 64 / G de creatinina 2 - US abdome total : rins com alterações tróficas 3 - ECG 19 / 03 / 14 : isquemia subepicárdica anterior , alteração de repolarização ventricular infero - lateral 4 - Laboratoriais 12 / 04 / 14 : K 5 . 1 , clearence creatinina 57 Ao EF : PA 170x100mmHg ( relata PA normal quando em ambiente não hospitalar ) , <e1> FC </e1> 63bpm AR : mv sem RA ACV : rcr em 2T sem sopros , com hipofonese de bulhas AD : abdome globos , normotenso , indolor , ausência de massas ou visceromegalias MMII sem edema HD : - ICC diastólica classe III - HAS - DMII - Dislipidemia CD : - mantenho medicação - retorno em 6 m com exames laboratoriais + ECG .', 'Teste'], ['Rsultado de exames : 1 - Microalbuminúria 12 / 04 : 10 . 64 / G de creatinina 2 - US abdome total : rins com alterações tróficas 3 - ECG 19 / 03 / 14 : isquemia subepicárdica anterior , alteração de repolarização ventricular infero - lateral 4 - Laboratoriais 12 / 04 / 14 : K 5 . 1 , clearence creatinina 57 Ao EF : PA 170x100mmHg ( relata PA normal quando em ambiente não hospitalar ) , FC 63bpm AR : mv sem <e1> RA </e1> ACV : rcr em 2T sem sopros , com hipofonese de bulhas AD : abdome globos , normotenso , indolor , ausência de massas ou visceromegalias MMII sem edema HD : - ICC diastólica classe III - HAS - DMII - Dislipidemia CD : - mantenho medicação - retorno em 6 m com exames laboratoriais + ECG .', 'Problema'], ['Rsultado de exames : 1 - Microalbuminúria 12 / 04 : 10 . 64 / G de creatinina 2 - US abdome total : rins com alterações tróficas 3 - ECG 19 / 03 / 14 : isquemia subepicárdica anterior , alteração de repolarização ventricular infero - lateral 4 - Laboratoriais 12 / 04 / 14 : K 5 . 1 , clearence creatinina 57 Ao EF : PA 170x100mmHg ( relata PA normal quando em ambiente não hospitalar ) , FC 63bpm AR : mv sem RA ACV : rcr em 2T sem <e1> sopros </e1> , com hipofonese de bulhas AD : abdome globos , normotenso , indolor , ausência de massas ou visceromegalias MMII sem edema HD : - ICC diastólica classe III - HAS - DMII - Dislipidemia CD : - mantenho medicação - retorno em 6 m com exames laboratoriais + ECG .', 'Problema'], ['Rsultado de exames : 1 - Microalbuminúria 12 / 04 : 10 . 64 / G de creatinina 2 - US abdome total : rins com alterações tróficas 3 - ECG 19 / 03 / 14 : isquemia subepicárdica anterior , alteração de repolarização ventricular infero - lateral 4 - Laboratoriais 12 / 04 / 14 : K 5 . 1 , clearence creatinina 57 Ao EF : PA 170x100mmHg ( relata PA normal quando em ambiente não hospitalar ) , FC 63bpm AR : mv sem RA ACV : rcr em 2T sem sopros , com <e1> hipofonese de bulhas </e1> AD : abdome globos , normotenso , indolor , ausência de massas ou visceromegalias MMII sem edema HD : - ICC diastólica classe III - HAS - DMII - Dislipidemia CD : - mantenho medicação - retorno em 6 m com exames laboratoriais + ECG .', 'Problema'], ['Rsultado de exames : 1 - Microalbuminúria 12 / 04 : 10 . 64 / G de creatinina 2 - US abdome total : rins com alterações tróficas 3 - ECG 19 / 03 / 14 : isquemia subepicárdica anterior , alteração de repolarização ventricular infero - lateral 4 - Laboratoriais 12 / 04 / 14 : K 5 . 1 , clearence creatinina 57 Ao EF : PA 170x100mmHg ( relata PA normal quando em ambiente não hospitalar ) , FC 63bpm AR : mv sem RA ACV : rcr em 2T sem sopros , com hipofonese de bulhas AD : <e1> abdome </e1> globos , normotenso , indolor , ausência de massas ou visceromegalias MMII sem edema HD : - ICC diastólica classe III - HAS - DMII - Dislipidemia CD : - mantenho medicação - retorno em 6 m com exames laboratoriais + ECG .', 'Anatomia'], ['Rsultado de exames : 1 - Microalbuminúria 12 / 04 : 10 . 64 / G de creatinina 2 - US abdome total : rins com alterações tróficas 3 - ECG 19 / 03 / 14 : isquemia subepicárdica anterior , alteração de repolarização ventricular infero - lateral 4 - Laboratoriais 12 / 04 / 14 : K 5 . 1 , clearence creatinina 57 Ao EF : PA 170x100mmHg ( relata PA normal quando em ambiente não hospitalar ) , FC 63bpm AR : mv sem RA ACV : rcr em 2T sem sopros , com hipofonese de bulhas AD : abdome globos , normotenso , indolor , ausência de <e1> massas </e1> ou visceromegalias MMII sem edema HD : - ICC diastólica classe III - HAS - DMII - Dislipidemia CD : - mantenho medicação - retorno em 6 m com exames laboratoriais + ECG .', 'Problema'], ['Rsultado de exames : 1 - Microalbuminúria 12 / 04 : 10 . 64 / G de creatinina 2 - US abdome total : rins com alterações tróficas 3 - ECG 19 / 03 / 14 : isquemia subepicárdica anterior , alteração de repolarização ventricular infero - lateral 4 - Laboratoriais 12 / 04 / 14 : K 5 . 1 , clearence creatinina 57 Ao EF : PA 170x100mmHg ( relata PA normal quando em ambiente não hospitalar ) , FC 63bpm AR : mv sem RA ACV : rcr em 2T sem sopros , com hipofonese de bulhas AD : abdome globos , normotenso , indolor , ausência de massas ou <e1> visceromegalias </e1> MMII sem edema HD : - ICC diastólica classe III - HAS - DMII - Dislipidemia CD : - mantenho medicação - retorno em 6 m com exames laboratoriais + ECG .', 'Problema'], ['Rsultado de exames : 1 - Microalbuminúria 12 / 04 : 10 . 64 / G de creatinina 2 - US abdome total : rins com alterações tróficas 3 - ECG 19 / 03 / 14 : isquemia subepicárdica anterior , alteração de repolarização ventricular infero - lateral 4 - Laboratoriais 12 / 04 / 14 : K 5 . 1 , clearence creatinina 57 Ao EF : PA 170x100mmHg ( relata PA normal quando em ambiente não hospitalar ) , FC 63bpm AR : mv sem RA ACV : rcr em 2T sem sopros , com hipofonese de bulhas AD : abdome globos , normotenso , indolor , ausência de massas ou visceromegalias <e1> MMII </e1> sem edema HD : - ICC diastólica classe III - HAS - DMII - Dislipidemia CD : - mantenho medicação - retorno em 6 m com exames laboratoriais + ECG .', 'Anatomia'], ['Rsultado de exames : 1 - Microalbuminúria 12 / 04 : 10 . 64 / G de creatinina 2 - US abdome total : rins com alterações tróficas 3 - ECG 19 / 03 / 14 : isquemia subepicárdica anterior , alteração de repolarização ventricular infero - lateral 4 - Laboratoriais 12 / 04 / 14 : K 5 . 1 , clearence creatinina 57 Ao EF : PA 170x100mmHg ( relata PA normal quando em ambiente não hospitalar ) , FC 63bpm AR : mv sem RA ACV : rcr em 2T sem sopros , com hipofonese de bulhas AD : abdome globos , normotenso , indolor , ausência de massas ou visceromegalias MMII sem <e1> edema </e1> HD : - ICC diastólica classe III - HAS - DMII - Dislipidemia CD : - mantenho medicação - retorno em 6 m com exames laboratoriais + ECG .', 'Problema'], ['Rsultado de exames : 1 - Microalbuminúria 12 / 04 : 10 . 64 / G de creatinina 2 - US abdome total : rins com alterações tróficas 3 - ECG 19 / 03 / 14 : isquemia subepicárdica anterior , alteração de repolarização ventricular infero - lateral 4 - Laboratoriais 12 / 04 / 14 : K 5 . 1 , clearence creatinina 57 Ao EF : PA 170x100mmHg ( relata PA normal quando em ambiente não hospitalar ) , FC 63bpm AR : mv sem RA ACV : rcr em 2T sem sopros , com hipofonese de bulhas AD : abdome globos , normotenso , indolor , ausência de massas ou visceromegalias MMII sem edema HD : - <e1> ICC diastólica classe III </e1> - HAS - DMII - Dislipidemia CD : - mantenho medicação - retorno em 6 m com exames laboratoriais + ECG .', 'Problema'], ['Rsultado de exames : 1 - Microalbuminúria 12 / 04 : 10 . 64 / G de creatinina 2 - US abdome total : rins com alterações tróficas 3 - ECG 19 / 03 / 14 : isquemia subepicárdica anterior , alteração de repolarização ventricular infero - lateral 4 - Laboratoriais 12 / 04 / 14 : K 5 . 1 , clearence creatinina 57 Ao EF : PA 170x100mmHg ( relata PA normal quando em ambiente não hospitalar ) , FC 63bpm AR : mv sem RA ACV : rcr em 2T sem sopros , com hipofonese de bulhas AD : abdome globos , normotenso , indolor , ausência de massas ou visceromegalias MMII sem edema HD : - ICC diastólica classe III - <e1> HAS </e1> - DMII - Dislipidemia CD : - mantenho medicação - retorno em 6 m com exames laboratoriais + ECG .', 'Problema'], ['Rsultado de exames : 1 - Microalbuminúria 12 / 04 : 10 . 64 / G de creatinina 2 - US abdome total : rins com alterações tróficas 3 - ECG 19 / 03 / 14 : isquemia subepicárdica anterior , alteração de repolarização ventricular infero - lateral 4 - Laboratoriais 12 / 04 / 14 : K 5 . 1 , clearence creatinina 57 Ao EF : PA 170x100mmHg ( relata PA normal quando em ambiente não hospitalar ) , FC 63bpm AR : mv sem RA ACV : rcr em 2T sem sopros , com hipofonese de bulhas AD : abdome globos , normotenso , indolor , ausência de massas ou visceromegalias MMII sem edema HD : - ICC diastólica classe III - HAS - <e1> DMII </e1> - Dislipidemia CD : - mantenho medicação - retorno em 6 m com exames laboratoriais + ECG .', 'Problema'], ['Rsultado de exames : 1 - Microalbuminúria 12 / 04 : 10 . 64 / G de creatinina 2 - US abdome total : rins com alterações tróficas 3 - ECG 19 / 03 / 14 : isquemia subepicárdica anterior , alteração de repolarização ventricular infero - lateral 4 - Laboratoriais 12 / 04 / 14 : K 5 . 1 , clearence creatinina 57 Ao EF : PA 170x100mmHg ( relata PA normal quando em ambiente não hospitalar ) , FC 63bpm AR : mv sem RA ACV : rcr em 2T sem sopros , com hipofonese de bulhas AD : abdome globos , normotenso , indolor , ausência de massas ou visceromegalias MMII sem edema HD : - ICC diastólica classe III - HAS - DMII - <e1> Dislipidemia </e1> CD : - mantenho medicação - retorno em 6 m com exames laboratoriais + ECG .', 'Problema'], ['Rsultado de exames : 1 - Microalbuminúria 12 / 04 : 10 . 64 / G de creatinina 2 - US abdome total : rins com alterações tróficas 3 - ECG 19 / 03 / 14 : isquemia subepicárdica anterior , alteração de repolarização ventricular infero - lateral 4 - Laboratoriais 12 / 04 / 14 : K 5 . 1 , clearence creatinina 57 Ao EF : PA 170x100mmHg ( relata PA normal quando em ambiente não hospitalar ) , FC 63bpm AR : mv sem RA ACV : rcr em 2T sem sopros , com hipofonese de bulhas AD : abdome globos , normotenso , indolor , ausência de massas ou visceromegalias MMII sem edema HD : - ICC diastólica classe III - HAS - DMII - Dislipidemia CD : - mantenho <e1> medicação </e1> - retorno em 6 m com exames laboratoriais + ECG .', 'Tratamento'], ['Rsultado de exames : 1 - Microalbuminúria 12 / 04 : 10 . 64 / G de creatinina 2 - US abdome total : rins com alterações tróficas 3 - ECG 19 / 03 / 14 : isquemia subepicárdica anterior , alteração de repolarização ventricular infero - lateral 4 - Laboratoriais 12 / 04 / 14 : K 5 . 1 , clearence creatinina 57 Ao EF : PA 170x100mmHg ( relata PA normal quando em ambiente não hospitalar ) , FC 63bpm AR : mv sem RA ACV : rcr em 2T sem sopros , com hipofonese de bulhas AD : abdome globos , normotenso , indolor , ausência de massas ou visceromegalias MMII sem edema HD : - ICC diastólica classe III - HAS - DMII - Dislipidemia CD : - mantenho medicação - retorno em 6 m com <e1> exames laboratoriais </e1> + ECG .', 'Teste'], ['Rsultado de exames : 1 - Microalbuminúria 12 / 04 : 10 . 64 / G de creatinina 2 - US abdome total : rins com alterações tróficas 3 - ECG 19 / 03 / 14 : isquemia subepicárdica anterior , alteração de repolarização ventricular infero - lateral 4 - Laboratoriais 12 / 04 / 14 : K 5 . 1 , clearence creatinina 57 Ao EF : PA 170x100mmHg ( relata PA normal quando em ambiente não hospitalar ) , FC 63bpm AR : mv sem RA ACV : rcr em 2T sem sopros , com hipofonese de bulhas AD : abdome globos , normotenso , indolor , ausência de massas ou visceromegalias MMII sem edema HD : - ICC diastólica classe III - HAS - DMII - Dislipidemia CD : - mantenho medicação - retorno em 6 m com exames laboratoriais + <e1> ECG </e1> .', 'Teste'], ['Rsultado de exames : 1 - Microalbuminúria 12 / 04 : 10 . 64 / G de creatinina 2 - <e1> US </e1> abdome total : rins com alterações tróficas 3 - ECG 19 / 03 / 14 : isquemia subepicárdica anterior , alteração de repolarização ventricular infero - lateral 4 - Laboratoriais 12 / 04 / 14 : K 5 . 1 , clearence creatinina 57 Ao EF : PA 170x100mmHg ( relata PA normal quando em ambiente não hospitalar ) , FC 63bpm AR : mv sem RA ACV : rcr em 2T sem sopros , com hipofonese de bulhas AD : abdome globos , normotenso , indolor , ausência de massas ou visceromegalias MMII sem edema HD : - ICC diastólica classe III - HAS - DMII - Dislipidemia CD : - mantenho medicação - retorno em 6 m com exames laboratoriais + ECG .', 'O'], ['Rsultado de exames : 1 - Microalbuminúria 12 / 04 : 10 . 64 / G de creatinina 2 - <e1> US abdome </e1> total : rins com alterações tróficas 3 - ECG 19 / 03 / 14 : isquemia subepicárdica anterior , alteração de repolarização ventricular infero - lateral 4 - Laboratoriais 12 / 04 / 14 : K 5 . 1 , clearence creatinina 57 Ao EF : PA 170x100mmHg ( relata PA normal quando em ambiente não hospitalar ) , FC 63bpm AR : mv sem RA ACV : rcr em 2T sem sopros , com hipofonese de bulhas AD : abdome globos , normotenso , indolor , ausência de massas ou visceromegalias MMII sem edema HD : - ICC diastólica classe III - HAS - DMII - Dislipidemia CD : - mantenho medicação - retorno em 6 m com exames laboratoriais + ECG .', 'O'], ['Rsultado de exames : 1 - Microalbuminúria 12 / 04 : 10 . 64 / G de creatinina 2 - US <e1> abdome </e1> total : rins com alterações tróficas 3 - ECG 19 / 03 / 14 : isquemia subepicárdica anterior , alteração de repolarização ventricular infero - lateral 4 - Laboratoriais 12 / 04 / 14 : K 5 . 1 , clearence creatinina 57 Ao EF : PA 170x100mmHg ( relata PA normal quando em ambiente não hospitalar ) , FC 63bpm AR : mv sem RA ACV : rcr em 2T sem sopros , com hipofonese de bulhas AD : abdome globos , normotenso , indolor , ausência de massas ou visceromegalias MMII sem edema HD : - ICC diastólica classe III - HAS - DMII - Dislipidemia CD : - mantenho medicação - retorno em 6 m com exames laboratoriais + ECG .', 'O'], ['Rsultado de exames : 1 - Microalbuminúria 12 / 04 : 10 . 64 / G de creatinina 2 - US abdome total : rins com <e1> alterações </e1> tróficas 3 - ECG 19 / 03 / 14 : isquemia subepicárdica anterior , alteração de repolarização ventricular infero - lateral 4 - Laboratoriais 12 / 04 / 14 : K 5 . 1 , clearence creatinina 57 Ao EF : PA 170x100mmHg ( relata PA normal quando em ambiente não hospitalar ) , FC 63bpm AR : mv sem RA ACV : rcr em 2T sem sopros , com hipofonese de bulhas AD : abdome globos , normotenso , indolor , ausência de massas ou visceromegalias MMII sem edema HD : - ICC diastólica classe III - HAS - DMII - Dislipidemia CD : - mantenho medicação - retorno em 6 m com exames laboratoriais + ECG .', 'O'], ['Rsultado de exames : 1 - Microalbuminúria 12 / 04 : 10 . 64 / G de creatinina 2 - US abdome total : rins com alterações <e1> tróficas </e1> 3 - ECG 19 / 03 / 14 : isquemia subepicárdica anterior , alteração de repolarização ventricular infero - lateral 4 - Laboratoriais 12 / 04 / 14 : K 5 . 1 , clearence creatinina 57 Ao EF : PA 170x100mmHg ( relata PA normal quando em ambiente não hospitalar ) , FC 63bpm AR : mv sem RA ACV : rcr em 2T sem sopros , com hipofonese de bulhas AD : abdome globos , normotenso , indolor , ausência de massas ou visceromegalias MMII sem edema HD : - ICC diastólica classe III - HAS - DMII - Dislipidemia CD : - mantenho medicação - retorno em 6 m com exames laboratoriais + ECG .', 'O'], ['Rsultado de exames : 1 - Microalbuminúria 12 / 04 : 10 . 64 / G de creatinina 2 - US abdome total : rins com alterações tróficas 3 - ECG 19 / 03 / 14 : <e1> isquemia </e1> subepicárdica anterior , alteração de repolarização ventricular infero - lateral 4 - Laboratoriais 12 / 04 / 14 : K 5 . 1 , clearence creatinina 57 Ao EF : PA 170x100mmHg ( relata PA normal quando em ambiente não hospitalar ) , FC 63bpm AR : mv sem RA ACV : rcr em 2T sem sopros , com hipofonese de bulhas AD : abdome globos , normotenso , indolor , ausência de massas ou visceromegalias MMII sem edema HD : - ICC diastólica classe III - HAS - DMII - Dislipidemia CD : - mantenho medicação - retorno em 6 m com exames laboratoriais + ECG .', 'O'], ['Rsultado de exames : 1 - Microalbuminúria 12 / 04 : 10 . 64 / G de creatinina 2 - US abdome total : rins com alterações tróficas 3 - ECG 19 / 03 / 14 : <e1> isquemia subepicárdica </e1> anterior , alteração de repolarização ventricular infero - lateral 4 - Laboratoriais 12 / 04 / 14 : K 5 . 1 , clearence creatinina 57 Ao EF : PA 170x100mmHg ( relata PA normal quando em ambiente não hospitalar ) , FC 63bpm AR : mv sem RA ACV : rcr em 2T sem sopros , com hipofonese de bulhas AD : abdome globos , normotenso , indolor , ausência de massas ou visceromegalias MMII sem edema HD : - ICC diastólica classe III - HAS - DMII - Dislipidemia CD : - mantenho medicação - retorno em 6 m com exames laboratoriais + ECG .', 'O'], ['Rsultado de exames : 1 - Microalbuminúria 12 / 04 : 10 . 64 / G de creatinina 2 - US abdome total : rins com alterações tróficas 3 - ECG 19 / 03 / 14 : isquemia <e1> subepicárdica </e1> anterior , alteração de repolarização ventricular infero - lateral 4 - Laboratoriais 12 / 04 / 14 : K 5 . 1 , clearence creatinina 57 Ao EF : PA 170x100mmHg ( relata PA normal quando em ambiente não hospitalar ) , FC 63bpm AR : mv sem RA ACV : rcr em 2T sem sopros , com hipofonese de bulhas AD : abdome globos , normotenso , indolor , ausência de massas ou visceromegalias MMII sem edema HD : - ICC diastólica classe III - HAS - DMII - Dislipidemia CD : - mantenho medicação - retorno em 6 m com exames laboratoriais + ECG .', 'O'], ['Rsultado de exames : 1 - Microalbuminúria 12 / 04 : 10 . 64 / G de creatinina 2 - US abdome total : rins com alterações tróficas 3 - ECG 19 / 03 / 14 : isquemia subepicárdica anterior , <e1> alteração de </e1> repolarização ventricular infero - lateral 4 - Laboratoriais 12 / 04 / 14 : K 5 . 1 , clearence creatinina 57 Ao EF : PA 170x100mmHg ( relata PA normal quando em ambiente não hospitalar ) , FC 63bpm AR : mv sem RA ACV : rcr em 2T sem sopros , com hipofonese de bulhas AD : abdome globos , normotenso , indolor , ausência de massas ou visceromegalias MMII sem edema HD : - ICC diastólica classe III - HAS - DMII - Dislipidemia CD : - mantenho medicação - retorno em 6 m com exames laboratoriais + ECG .', 'O'], ['Rsultado de exames : 1 - Microalbuminúria 12 / 04 : 10 . 64 / G de creatinina 2 - US abdome total : rins com alterações tróficas 3 - ECG 19 / 03 / 14 : isquemia subepicárdica anterior , alteração de <e1> repolarização </e1> ventricular infero - lateral 4 - Laboratoriais 12 / 04 / 14 : K 5 . 1 , clearence creatinina 57 Ao EF : PA 170x100mmHg ( relata PA normal quando em ambiente não hospitalar ) , FC 63bpm AR : mv sem RA ACV : rcr em 2T sem sopros , com hipofonese de bulhas AD : abdome globos , normotenso , indolor , ausência de massas ou visceromegalias MMII sem edema HD : - ICC diastólica classe III - HAS - DMII - Dislipidemia CD : - mantenho medicação - retorno em 6 m com exames laboratoriais + ECG .', 'O'], ['Rsultado de exames : 1 - Microalbuminúria 12 / 04 : 10 . 64 / G de creatinina 2 - US abdome total : rins com alterações tróficas 3 - ECG 19 / 03 / 14 : isquemia subepicárdica anterior , alteração de <e1> repolarização ventricular </e1> infero - lateral 4 - Laboratoriais 12 / 04 / 14 : K 5 . 1 , clearence creatinina 57 Ao EF : PA 170x100mmHg ( relata PA normal quando em ambiente não hospitalar ) , FC 63bpm AR : mv sem RA ACV : rcr em 2T sem sopros , com hipofonese de bulhas AD : abdome globos , normotenso , indolor , ausência de massas ou visceromegalias MMII sem edema HD : - ICC diastólica classe III - HAS - DMII - Dislipidemia CD : - mantenho medicação - retorno em 6 m com exames laboratoriais + ECG .', 'O'], ['Rsultado de exames : 1 - Microalbuminúria 12 / 04 : 10 . 64 / G de creatinina 2 - US abdome total : rins com alterações tróficas 3 - ECG 19 / 03 / 14 : isquemia subepicárdica anterior , alteração de repolarização ventricular infero - <e1> lateral </e1> 4 - Laboratoriais 12 / 04 / 14 : K 5 . 1 , clearence creatinina 57 Ao EF : PA 170x100mmHg ( relata PA normal quando em ambiente não hospitalar ) , FC 63bpm AR : mv sem RA ACV : rcr em 2T sem sopros , com hipofonese de bulhas AD : abdome globos , normotenso , indolor , ausência de massas ou visceromegalias MMII sem edema HD : - ICC diastólica classe III - HAS - DMII - Dislipidemia CD : - mantenho medicação - retorno em 6 m com exames laboratoriais + ECG .', 'O'], ['Rsultado de exames : 1 - Microalbuminúria 12 / 04 : 10 . 64 / G de creatinina 2 - US abdome total : rins com alterações tróficas 3 - ECG 19 / 03 / 14 : isquemia subepicárdica anterior , alteração de repolarização ventricular infero - lateral 4 - Laboratoriais 12 / 04 / 14 : K 5 . 1 , <e1> clearence </e1> creatinina 57 Ao EF : PA 170x100mmHg ( relata PA normal quando em ambiente não hospitalar ) , FC 63bpm AR : mv sem RA ACV : rcr em 2T sem sopros , com hipofonese de bulhas AD : abdome globos , normotenso , indolor , ausência de massas ou visceromegalias MMII sem edema HD : - ICC diastólica classe III - HAS - DMII - Dislipidemia CD : - mantenho medicação - retorno em 6 m com exames laboratoriais + ECG .', 'O'], ['Rsultado de exames : 1 - Microalbuminúria 12 / 04 : 10 . 64 / G de creatinina 2 - US abdome total : rins com alterações tróficas 3 - ECG 19 / 03 / 14 : isquemia subepicárdica anterior , alteração de repolarização ventricular infero - lateral 4 - Laboratoriais 12 / 04 / 14 : K 5 . 1 , clearence <e1> creatinina </e1> 57 Ao EF : PA 170x100mmHg ( relata PA normal quando em ambiente não hospitalar ) , FC 63bpm AR : mv sem RA ACV : rcr em 2T sem sopros , com hipofonese de bulhas AD : abdome globos , normotenso , indolor , ausência de massas ou visceromegalias MMII sem edema HD : - ICC diastólica classe III - HAS - DMII - Dislipidemia CD : - mantenho medicação - retorno em 6 m com exames laboratoriais + ECG .', 'O'], ['Rsultado de exames : 1 - Microalbuminúria 12 / 04 : 10 . 64 / G de creatinina 2 - US abdome total : rins com alterações tróficas 3 - ECG 19 / 03 / 14 : isquemia subepicárdica anterior , alteração de repolarização ventricular infero - lateral 4 - Laboratoriais 12 / 04 / 14 : K 5 . 1 , clearence creatinina 57 Ao EF : PA 170x100mmHg ( relata PA normal quando em ambiente não hospitalar ) , FC 63bpm AR : mv sem RA ACV : rcr em 2T sem sopros , com <e1> hipofonese de </e1> bulhas AD : abdome globos , normotenso , indolor , ausência de massas ou visceromegalias MMII sem edema HD : - ICC diastólica classe III - HAS - DMII - Dislipidemia CD : - mantenho medicação - retorno em 6 m com exames laboratoriais + ECG .', 'O'], ['Rsultado de exames : 1 - Microalbuminúria 12 / 04 : 10 . 64 / G de creatinina 2 - US abdome total : rins com alterações tróficas 3 - ECG 19 / 03 / 14 : isquemia subepicárdica anterior , alteração de repolarização ventricular infero - lateral 4 - Laboratoriais 12 / 04 / 14 : K 5 . 1 , clearence creatinina 57 Ao EF : PA 170x100mmHg ( relata PA normal quando em ambiente não hospitalar ) , FC 63bpm AR : mv sem RA ACV : rcr em 2T sem sopros , com hipofonese de <e1> bulhas </e1> AD : abdome globos , normotenso , indolor , ausência de massas ou visceromegalias MMII sem edema HD : - ICC diastólica classe III - HAS - DMII - Dislipidemia CD : - mantenho medicação - retorno em 6 m com exames laboratoriais + ECG .', 'O'], ['Rsultado de exames : 1 - Microalbuminúria 12 / 04 : 10 . 64 / G de creatinina 2 - US abdome total : rins com alterações tróficas 3 - ECG 19 / 03 / 14 : isquemia subepicárdica anterior , alteração de repolarização ventricular infero - lateral 4 - Laboratoriais 12 / 04 / 14 : K 5 . 1 , clearence creatinina 57 Ao EF : PA 170x100mmHg ( relata PA normal quando em ambiente não hospitalar ) , FC 63bpm AR : mv sem RA ACV : rcr em 2T sem sopros , com hipofonese de bulhas AD : abdome globos , normotenso , indolor , ausência de massas ou visceromegalias MMII sem edema HD : - <e1> ICC </e1> diastólica classe III - HAS - DMII - Dislipidemia CD : - mantenho medicação - retorno em 6 m com exames laboratoriais + ECG .', 'O'], ['Rsultado de exames : 1 - Microalbuminúria 12 / 04 : 10 . 64 / G de creatinina 2 - US abdome total : rins com alterações tróficas 3 - ECG 19 / 03 / 14 : isquemia subepicárdica anterior , alteração de repolarização ventricular infero - lateral 4 - Laboratoriais 12 / 04 / 14 : K 5 . 1 , clearence creatinina 57 Ao EF : PA 170x100mmHg ( relata PA normal quando em ambiente não hospitalar ) , FC 63bpm AR : mv sem RA ACV : rcr em 2T sem sopros , com hipofonese de bulhas AD : abdome globos , normotenso , indolor , ausência de massas ou visceromegalias MMII sem edema HD : - <e1> ICC diastólica </e1> classe III - HAS - DMII - Dislipidemia CD : - mantenho medicação - retorno em 6 m com exames laboratoriais + ECG .', 'O'], ['Rsultado de exames : 1 - Microalbuminúria 12 / 04 : 10 . 64 / G de creatinina 2 - US abdome total : rins com alterações tróficas 3 - ECG 19 / 03 / 14 : isquemia subepicárdica anterior , alteração de repolarização ventricular infero - lateral 4 - Laboratoriais 12 / 04 / 14 : K 5 . 1 , clearence creatinina 57 Ao EF : PA 170x100mmHg ( relata PA normal quando em ambiente não hospitalar ) , FC 63bpm AR : mv sem RA ACV : rcr em 2T sem sopros , com hipofonese de bulhas AD : abdome globos , normotenso , indolor , ausência de massas ou visceromegalias MMII sem edema HD : - <e1> ICC diastólica classe </e1> III - HAS - DMII - Dislipidemia CD : - mantenho medicação - retorno em 6 m com exames laboratoriais + ECG .', 'O'], ['Rsultado de exames : 1 - Microalbuminúria 12 / 04 : 10 . 64 / G de creatinina 2 - US abdome total : rins com alterações tróficas 3 - ECG 19 / 03 / 14 : isquemia subepicárdica anterior , alteração de repolarização ventricular infero - lateral 4 - Laboratoriais 12 / 04 / 14 : K 5 . 1 , clearence creatinina 57 Ao EF : PA 170x100mmHg ( relata PA normal quando em ambiente não hospitalar ) , FC 63bpm AR : mv sem RA ACV : rcr em 2T sem sopros , com hipofonese de bulhas AD : abdome globos , normotenso , indolor , ausência de massas ou visceromegalias MMII sem edema HD : - ICC <e1> diastólica classe </e1> III - HAS - DMII - Dislipidemia CD : - mantenho medicação - retorno em 6 m com exames laboratoriais + ECG .', 'O'], ['Rsultado de exames : 1 - Microalbuminúria 12 / 04 : 10 . 64 / G de creatinina 2 - US abdome total : rins com alterações tróficas 3 - ECG 19 / 03 / 14 : isquemia subepicárdica anterior , alteração de repolarização ventricular infero - lateral 4 - Laboratoriais 12 / 04 / 14 : K 5 . 1 , clearence creatinina 57 Ao EF : PA 170x100mmHg ( relata PA normal quando em ambiente não hospitalar ) , FC 63bpm AR : mv sem RA ACV : rcr em 2T sem sopros , com hipofonese de bulhas AD : abdome globos , normotenso , indolor , ausência de massas ou visceromegalias MMII sem edema HD : - ICC diastólica <e1> classe </e1> III - HAS - DMII - Dislipidemia CD : - mantenho medicação - retorno em 6 m com exames laboratoriais + ECG .', 'O'], ['Rsultado de exames : 1 - Microalbuminúria 12 / 04 : 10 . 64 / G de creatinina 2 - US abdome total : rins com alterações tróficas 3 - ECG 19 / 03 / 14 : isquemia subepicárdica anterior , alteração de repolarização ventricular infero - lateral 4 - Laboratoriais 12 / 04 / 14 : K 5 . 1 , clearence creatinina 57 Ao EF : PA 170x100mmHg ( relata PA normal quando em ambiente não hospitalar ) , FC 63bpm AR : mv sem RA ACV : rcr em 2T sem sopros , com hipofonese de bulhas AD : abdome globos , normotenso , indolor , ausência de massas ou visceromegalias MMII sem edema HD : - ICC diastólica classe III - HAS - DMII - Dislipidemia CD : - mantenho medicação - retorno em 6 m com <e1> exames </e1> laboratoriais + ECG .', 'O']]]\n",
      "combinacao: ['ICC classe III HAS , em uso de atenolol 100mg / dia , AAS , 100mg / dia , furosemida 40mg 1cp 12 / 12h , anlodipino 5mg 1 / 2 cp à noite , losartana 50mg 12 / 12h DMII , metformina 850mg 12 / 12h Dislipidemia , faz uso de sinvastatina 20mg 02 cp à noite .', [['<e1> ICC classe III HAS </e1> , em uso de atenolol 100mg / dia , AAS , 100mg / dia , furosemida 40mg 1cp 12 / 12h , anlodipino 5mg 1 / 2 cp à noite , losartana 50mg 12 / 12h DMII , metformina 850mg 12 / 12h Dislipidemia , faz uso de sinvastatina 20mg 02 cp à noite .', 'Problema'], ['ICC classe III HAS , em uso de <e1> atenolol 100mg </e1> / dia , AAS , 100mg / dia , furosemida 40mg 1cp 12 / 12h , anlodipino 5mg 1 / 2 cp à noite , losartana 50mg 12 / 12h DMII , metformina 850mg 12 / 12h Dislipidemia , faz uso de sinvastatina 20mg 02 cp à noite .', 'Tratamento'], ['ICC classe III HAS , em uso de atenolol 100mg / dia , <e1> AAS , 100mg </e1> / dia , furosemida 40mg 1cp 12 / 12h , anlodipino 5mg 1 / 2 cp à noite , losartana 50mg 12 / 12h DMII , metformina 850mg 12 / 12h Dislipidemia , faz uso de sinvastatina 20mg 02 cp à noite .', 'Tratamento'], ['ICC classe III HAS , em uso de atenolol 100mg / dia , AAS , 100mg / dia , <e1> furosemida 40mg </e1> 1cp 12 / 12h , anlodipino 5mg 1 / 2 cp à noite , losartana 50mg 12 / 12h DMII , metformina 850mg 12 / 12h Dislipidemia , faz uso de sinvastatina 20mg 02 cp à noite .', 'Tratamento'], ['ICC classe III HAS , em uso de atenolol 100mg / dia , AAS , 100mg / dia , furosemida 40mg 1cp 12 / 12h , <e1> anlodipino 5mg </e1> 1 / 2 cp à noite , losartana 50mg 12 / 12h DMII , metformina 850mg 12 / 12h Dislipidemia , faz uso de sinvastatina 20mg 02 cp à noite .', 'Tratamento'], ['ICC classe III HAS , em uso de atenolol 100mg / dia , AAS , 100mg / dia , furosemida 40mg 1cp 12 / 12h , anlodipino 5mg 1 / 2 cp à noite , <e1> losartana 50mg </e1> 12 / 12h DMII , metformina 850mg 12 / 12h Dislipidemia , faz uso de sinvastatina 20mg 02 cp à noite .', 'Tratamento'], ['ICC classe III HAS , em uso de atenolol 100mg / dia , AAS , 100mg / dia , furosemida 40mg 1cp 12 / 12h , anlodipino 5mg 1 / 2 cp à noite , losartana 50mg 12 / 12h DMII , <e1> metformina 850mg </e1> 12 / 12h Dislipidemia , faz uso de sinvastatina 20mg 02 cp à noite .', 'Tratamento'], ['ICC classe III HAS , em uso de atenolol 100mg / dia , AAS , 100mg / dia , furosemida 40mg 1cp 12 / 12h , anlodipino 5mg 1 / 2 cp à noite , losartana 50mg 12 / 12h DMII , metformina 850mg 12 / 12h <e1> Dislipidemia </e1> , faz uso de sinvastatina 20mg 02 cp à noite .', 'Problema'], ['ICC classe III HAS , em uso de atenolol 100mg / dia , AAS , 100mg / dia , furosemida 40mg 1cp 12 / 12h , anlodipino 5mg 1 / 2 cp à noite , losartana 50mg 12 / 12h DMII , metformina 850mg 12 / 12h Dislipidemia , faz uso de <e1> sinvastatina 20mg </e1> 02 cp à noite .', 'Tratamento'], ['<e1> ICC </e1> classe III HAS , em uso de atenolol 100mg / dia , AAS , 100mg / dia , furosemida 40mg 1cp 12 / 12h , anlodipino 5mg 1 / 2 cp à noite , losartana 50mg 12 / 12h DMII , metformina 850mg 12 / 12h Dislipidemia , faz uso de sinvastatina 20mg 02 cp à noite .', 'O'], ['<e1> ICC classe </e1> III HAS , em uso de atenolol 100mg / dia , AAS , 100mg / dia , furosemida 40mg 1cp 12 / 12h , anlodipino 5mg 1 / 2 cp à noite , losartana 50mg 12 / 12h DMII , metformina 850mg 12 / 12h Dislipidemia , faz uso de sinvastatina 20mg 02 cp à noite .', 'O'], ['<e1> ICC classe III </e1> HAS , em uso de atenolol 100mg / dia , AAS , 100mg / dia , furosemida 40mg 1cp 12 / 12h , anlodipino 5mg 1 / 2 cp à noite , losartana 50mg 12 / 12h DMII , metformina 850mg 12 / 12h Dislipidemia , faz uso de sinvastatina 20mg 02 cp à noite .', 'O'], ['ICC <e1> classe </e1> III HAS , em uso de atenolol 100mg / dia , AAS , 100mg / dia , furosemida 40mg 1cp 12 / 12h , anlodipino 5mg 1 / 2 cp à noite , losartana 50mg 12 / 12h DMII , metformina 850mg 12 / 12h Dislipidemia , faz uso de sinvastatina 20mg 02 cp à noite .', 'O'], ['ICC <e1> classe III </e1> HAS , em uso de atenolol 100mg / dia , AAS , 100mg / dia , furosemida 40mg 1cp 12 / 12h , anlodipino 5mg 1 / 2 cp à noite , losartana 50mg 12 / 12h DMII , metformina 850mg 12 / 12h Dislipidemia , faz uso de sinvastatina 20mg 02 cp à noite .', 'O'], ['ICC classe <e1> III </e1> HAS , em uso de atenolol 100mg / dia , AAS , 100mg / dia , furosemida 40mg 1cp 12 / 12h , anlodipino 5mg 1 / 2 cp à noite , losartana 50mg 12 / 12h DMII , metformina 850mg 12 / 12h Dislipidemia , faz uso de sinvastatina 20mg 02 cp à noite .', 'O'], ['ICC classe III HAS , em uso de <e1> atenolol </e1> 100mg / dia , AAS , 100mg / dia , furosemida 40mg 1cp 12 / 12h , anlodipino 5mg 1 / 2 cp à noite , losartana 50mg 12 / 12h DMII , metformina 850mg 12 / 12h Dislipidemia , faz uso de sinvastatina 20mg 02 cp à noite .', 'O'], ['ICC classe III HAS , em uso de atenolol 100mg / dia , AAS , 100mg / dia , <e1> furosemida </e1> 40mg 1cp 12 / 12h , anlodipino 5mg 1 / 2 cp à noite , losartana 50mg 12 / 12h DMII , metformina 850mg 12 / 12h Dislipidemia , faz uso de sinvastatina 20mg 02 cp à noite .', 'O'], ['ICC classe III HAS , em uso de atenolol 100mg / dia , AAS , 100mg / dia , furosemida <e1> 40mg </e1> 1cp 12 / 12h , anlodipino 5mg 1 / 2 cp à noite , losartana 50mg 12 / 12h DMII , metformina 850mg 12 / 12h Dislipidemia , faz uso de sinvastatina 20mg 02 cp à noite .', 'O'], ['ICC classe III HAS , em uso de atenolol 100mg / dia , AAS , 100mg / dia , furosemida 40mg 1cp 12 / 12h , <e1> anlodipino </e1> 5mg 1 / 2 cp à noite , losartana 50mg 12 / 12h DMII , metformina 850mg 12 / 12h Dislipidemia , faz uso de sinvastatina 20mg 02 cp à noite .', 'O'], ['ICC classe III HAS , em uso de atenolol 100mg / dia , AAS , 100mg / dia , furosemida 40mg 1cp 12 / 12h , anlodipino <e1> 5mg </e1> 1 / 2 cp à noite , losartana 50mg 12 / 12h DMII , metformina 850mg 12 / 12h Dislipidemia , faz uso de sinvastatina 20mg 02 cp à noite .', 'O'], ['ICC classe III HAS , em uso de atenolol 100mg / dia , AAS , 100mg / dia , furosemida 40mg 1cp 12 / 12h , anlodipino 5mg 1 / 2 cp à noite , <e1> losartana </e1> 50mg 12 / 12h DMII , metformina 850mg 12 / 12h Dislipidemia , faz uso de sinvastatina 20mg 02 cp à noite .', 'O'], ['ICC classe III HAS , em uso de atenolol 100mg / dia , AAS , 100mg / dia , furosemida 40mg 1cp 12 / 12h , anlodipino 5mg 1 / 2 cp à noite , losartana <e1> 50mg </e1> 12 / 12h DMII , metformina 850mg 12 / 12h Dislipidemia , faz uso de sinvastatina 20mg 02 cp à noite .', 'O'], ['ICC classe III HAS , em uso de atenolol 100mg / dia , AAS , 100mg / dia , furosemida 40mg 1cp 12 / 12h , anlodipino 5mg 1 / 2 cp à noite , losartana 50mg 12 / 12h DMII , <e1> metformina </e1> 850mg 12 / 12h Dislipidemia , faz uso de sinvastatina 20mg 02 cp à noite .', 'O'], ['ICC classe III HAS , em uso de atenolol 100mg / dia , AAS , 100mg / dia , furosemida 40mg 1cp 12 / 12h , anlodipino 5mg 1 / 2 cp à noite , losartana 50mg 12 / 12h DMII , metformina <e1> 850mg </e1> 12 / 12h Dislipidemia , faz uso de sinvastatina 20mg 02 cp à noite .', 'O'], ['ICC classe III HAS , em uso de atenolol 100mg / dia , AAS , 100mg / dia , furosemida 40mg 1cp 12 / 12h , anlodipino 5mg 1 / 2 cp à noite , losartana 50mg 12 / 12h DMII , metformina 850mg 12 / 12h Dislipidemia , faz uso de <e1> sinvastatina </e1> 20mg 02 cp à noite .', 'O'], ['ICC classe III HAS , em uso de atenolol 100mg / dia , AAS , 100mg / dia , furosemida 40mg 1cp 12 / 12h , anlodipino 5mg 1 / 2 cp à noite , losartana 50mg 12 / 12h DMII , metformina 850mg 12 / 12h Dislipidemia , faz uso de sinvastatina <e1> 20mg </e1> 02 cp à noite .', 'O']]]\n",
      "combinacao: ['POS TX CARDIACO HA 20 dias .', [['POS <e1> TX CARDIACO </e1> HA 20 dias .', 'Tratamento'], ['POS <e1> TX </e1> CARDIACO HA 20 dias .', 'O']]]\n",
      "combinacao: ['ULTIMA BIOPSIA AINDA SEM RESULTADO .', [['ULTIMA <e1> BIOPSIA </e1> AINDA SEM RESULTADO .', 'Teste']]]\n",
      "combinacao: ['EM USO DE EVEROLIMUS 0 , 75 DE 8 / 8 , AZATIOPRINA 50 / 50 E PREDNISONA 20MG / DIA .', [['EM USO DE <e1> EVEROLIMUS 0 , 75 </e1> DE 8 / 8 , AZATIOPRINA 50 / 50 E PREDNISONA 20MG / DIA .', 'Tratamento'], ['EM USO DE EVEROLIMUS 0 , 75 DE 8 / 8 , <e1> AZATIOPRINA 50 </e1> / 50 E PREDNISONA 20MG / DIA .', 'Tratamento'], ['EM USO DE EVEROLIMUS 0 , 75 DE 8 / 8 , AZATIOPRINA 50 / 50 E <e1> PREDNISONA 20MG </e1> / DIA .', 'Tratamento'], ['EM USO DE <e1> EVEROLIMUS </e1> 0 , 75 DE 8 / 8 , AZATIOPRINA 50 / 50 E PREDNISONA 20MG / DIA .', 'O'], ['EM USO DE EVEROLIMUS 0 , 75 DE 8 / 8 , <e1> AZATIOPRINA </e1> 50 / 50 E PREDNISONA 20MG / DIA .', 'O'], ['EM USO DE EVEROLIMUS 0 , 75 DE 8 / 8 , AZATIOPRINA 50 / 50 E <e1> PREDNISONA </e1> 20MG / DIA .', 'O']]]\n",
      "combinacao: ['USO DE FURO , AAS , SINVA .', [['USO DE <e1> FURO </e1> , AAS , SINVA .', 'Tratamento'], ['USO DE FURO , <e1> AAS </e1> , SINVA .', 'Tratamento'], ['USO DE FURO , AAS , <e1> SINVA </e1> .', 'Tratamento']]]\n",
      "combinacao: ['S # SEM QUEIXAS .', [['S # SEM <e1> QUEIXAS </e1> .', 'Problema']]]\n",
      "combinacao: ['REFERE QUEIMAÇÃO NAS PERNAS .', [['REFERE <e1> QUEIMAÇÃO NAS PERNAS </e1> .', 'Problema'], ['REFERE <e1> QUEIMAÇÃO NAS </e1> PERNAS .', 'O']]]\n",
      "combinacao: []\n",
      "combinacao: ['O # PA 120 / 80 , FC 89 .', [['O # <e1> PA </e1> 120 / 80 , FC 89 .', 'Teste'], ['O # PA 120 / 80 , <e1> FC </e1> 89 .', 'Teste']]]\n",
      "combinacao: []\n",
      "combinacao: ['CPP LIVRE .', [['<e1> CPP </e1> LIVRE .', 'Anatomia']]]\n",
      "combinacao: ['MMII SEM EDEMA .', [['<e1> MMII </e1> SEM EDEMA .', 'Anatomia'], ['MMII SEM <e1> EDEMA </e1> .', 'Problema']]]\n",
      "combinacao: ['A # POS TX CARDIACO , COM BOA EVOLUÇÃO .', [['A # POS <e1> TX CARDIACO </e1> , COM BOA EVOLUÇÃO .', 'Tratamento'], ['A # POS <e1> TX </e1> CARDIACO , COM BOA EVOLUÇÃO .', 'O']]]\n",
      "combinacao: ['P # NOVA BIOPSIA , ECO E LAB .', [['P # NOVA <e1> BIOPSIA </e1> , ECO E LAB .', 'Teste'], ['P # NOVA BIOPSIA , <e1> ECO </e1> E LAB .', 'Teste'], ['P # NOVA BIOPSIA , ECO E <e1> LAB </e1> .', 'Teste']]]\n",
      "combinacao: ['PROTESE VALVAR MI 2012 .', [['<e1> PROTESE VALVAR </e1> MI 2012 .', 'Tratamento'], ['<e1> PROTESE </e1> VALVAR MI 2012 .', 'O']]]\n",
      "combinacao: ['USA S MAREVAN ENL 20 12 - 12 ATL 50 12 - 12 ESPIRONOLACTONA 25 MG - D SVT 20 MG - D .', [['USA S <e1> MAREVAN ENL 20 </e1> 12 - 12 ATL 50 12 - 12 ESPIRONOLACTONA 25 MG - D SVT 20 MG - D .', 'Tratamento'], ['USA S MAREVAN ENL 20 12 - 12 <e1> ATL 50 </e1> 12 - 12 ESPIRONOLACTONA 25 MG - D SVT 20 MG - D .', 'Tratamento'], ['USA S MAREVAN ENL 20 12 - 12 ATL 50 12 - 12 <e1> ESPIRONOLACTONA 25 MG </e1> - D SVT 20 MG - D .', 'Tratamento'], ['USA S MAREVAN ENL 20 12 - 12 ATL 50 12 - 12 ESPIRONOLACTONA 25 MG - D <e1> SVT 20 MG </e1> - D .', 'Tratamento'], ['USA S <e1> MAREVAN </e1> ENL 20 12 - 12 ATL 50 12 - 12 ESPIRONOLACTONA 25 MG - D SVT 20 MG - D .', 'O'], ['USA S <e1> MAREVAN ENL </e1> 20 12 - 12 ATL 50 12 - 12 ESPIRONOLACTONA 25 MG - D SVT 20 MG - D .', 'O'], ['USA S MAREVAN <e1> ENL </e1> 20 12 - 12 ATL 50 12 - 12 ESPIRONOLACTONA 25 MG - D SVT 20 MG - D .', 'O'], ['USA S MAREVAN ENL 20 12 - 12 <e1> ATL </e1> 50 12 - 12 ESPIRONOLACTONA 25 MG - D SVT 20 MG - D .', 'O'], ['USA S MAREVAN ENL 20 12 - 12 ATL 50 12 - 12 <e1> ESPIRONOLACTONA </e1> 25 MG - D SVT 20 MG - D .', 'O'], ['USA S MAREVAN ENL 20 12 - 12 ATL 50 12 - 12 <e1> ESPIRONOLACTONA 25 </e1> MG - D SVT 20 MG - D .', 'O'], ['USA S MAREVAN ENL 20 12 - 12 ATL 50 12 - 12 ESPIRONOLACTONA 25 MG - D <e1> SVT </e1> 20 MG - D .', 'O'], ['USA S MAREVAN ENL 20 12 - 12 ATL 50 12 - 12 ESPIRONOLACTONA 25 MG - D <e1> SVT 20 </e1> MG - D .', 'O']]]\n",
      "combinacao: ['SEM QX CARDIOLOGICAS .', [['SEM <e1> QX CARDIOLOGICAS </e1> .', 'Problema'], ['SEM <e1> QX </e1> CARDIOLOGICAS .', 'O']]]\n",
      "combinacao: ['27 - 01 - 15 FE 50 EP 25 AE 46 VE REMODELAMENTO CONCENTRICO AE E AD AUMENTADOS VD NL PROTESE AO NF REFLUXO DISCRETO = DUPLA LESAO MI COM ESTENOSE E INSUF MODERADAS - INSUF TRI MODERADA A IMPORTANTE = HIPERTENSAO PULMONAR .', [['27 - 01 - 15 FE 50 EP 25 <e1> AE </e1> 46 VE REMODELAMENTO CONCENTRICO AE E AD AUMENTADOS VD NL PROTESE AO NF REFLUXO DISCRETO = DUPLA LESAO MI COM ESTENOSE E INSUF MODERADAS - INSUF TRI MODERADA A IMPORTANTE = HIPERTENSAO PULMONAR .', 'Anatomia'], ['27 - 01 - 15 FE 50 EP 25 AE 46 <e1> VE </e1> REMODELAMENTO CONCENTRICO AE E AD AUMENTADOS VD NL PROTESE AO NF REFLUXO DISCRETO = DUPLA LESAO MI COM ESTENOSE E INSUF MODERADAS - INSUF TRI MODERADA A IMPORTANTE = HIPERTENSAO PULMONAR .', 'Anatomia'], ['27 - 01 - 15 FE 50 EP 25 AE 46 VE REMODELAMENTO CONCENTRICO <e1> AE E AD </e1> AUMENTADOS VD NL PROTESE AO NF REFLUXO DISCRETO = DUPLA LESAO MI COM ESTENOSE E INSUF MODERADAS - INSUF TRI MODERADA A IMPORTANTE = HIPERTENSAO PULMONAR .', 'Anatomia'], ['27 - 01 - 15 FE 50 EP 25 AE 46 VE REMODELAMENTO CONCENTRICO AE E AD AUMENTADOS <e1> VD </e1> NL PROTESE AO NF REFLUXO DISCRETO = DUPLA LESAO MI COM ESTENOSE E INSUF MODERADAS - INSUF TRI MODERADA A IMPORTANTE = HIPERTENSAO PULMONAR .', 'Anatomia'], ['27 - 01 - 15 FE 50 EP 25 AE 46 VE REMODELAMENTO CONCENTRICO AE E AD AUMENTADOS VD NL PROTESE <e1> AO </e1> NF REFLUXO DISCRETO = DUPLA LESAO MI COM ESTENOSE E INSUF MODERADAS - INSUF TRI MODERADA A IMPORTANTE = HIPERTENSAO PULMONAR .', 'Problema'], ['27 - 01 - 15 FE 50 EP 25 AE 46 VE REMODELAMENTO CONCENTRICO AE E AD AUMENTADOS VD NL PROTESE AO NF <e1> REFLUXO DISCRETO </e1> = DUPLA LESAO MI COM ESTENOSE E INSUF MODERADAS - INSUF TRI MODERADA A IMPORTANTE = HIPERTENSAO PULMONAR .', 'Problema'], ['27 - 01 - 15 FE 50 EP 25 AE 46 VE REMODELAMENTO CONCENTRICO AE E AD AUMENTADOS VD NL PROTESE AO NF REFLUXO DISCRETO = <e1> DUPLA LESAO MI </e1> COM ESTENOSE E INSUF MODERADAS - INSUF TRI MODERADA A IMPORTANTE = HIPERTENSAO PULMONAR .', 'Problema'], ['27 - 01 - 15 FE 50 EP 25 AE 46 VE REMODELAMENTO CONCENTRICO AE E AD AUMENTADOS VD NL PROTESE AO NF REFLUXO DISCRETO = DUPLA LESAO MI COM <e1> ESTENOSE </e1> E INSUF MODERADAS - INSUF TRI MODERADA A IMPORTANTE = HIPERTENSAO PULMONAR .', 'Problema'], ['27 - 01 - 15 FE 50 EP 25 AE 46 VE REMODELAMENTO CONCENTRICO AE E AD AUMENTADOS VD NL PROTESE AO NF REFLUXO DISCRETO = DUPLA LESAO MI COM ESTENOSE E <e1> INSUF MODERADAS </e1> - INSUF TRI MODERADA A IMPORTANTE = HIPERTENSAO PULMONAR .', 'Problema'], ['27 - 01 - 15 FE 50 EP 25 AE 46 VE REMODELAMENTO CONCENTRICO AE E AD AUMENTADOS VD NL PROTESE AO NF REFLUXO DISCRETO = DUPLA LESAO MI COM ESTENOSE E INSUF MODERADAS - <e1> INSUF TRI MODERADA </e1> A IMPORTANTE = HIPERTENSAO PULMONAR .', 'Problema'], ['27 - 01 - 15 FE 50 EP 25 AE 46 VE REMODELAMENTO CONCENTRICO AE E AD AUMENTADOS VD NL PROTESE AO NF REFLUXO DISCRETO = DUPLA LESAO MI COM ESTENOSE E INSUF MODERADAS - INSUF TRI MODERADA A IMPORTANTE = <e1> HIPERTENSAO PULMONAR </e1> .', 'Problema'], ['27 - 01 - 15 FE 50 EP 25 AE 46 VE REMODELAMENTO CONCENTRICO <e1> AE E </e1> AD AUMENTADOS VD NL PROTESE AO NF REFLUXO DISCRETO = DUPLA LESAO MI COM ESTENOSE E INSUF MODERADAS - INSUF TRI MODERADA A IMPORTANTE = HIPERTENSAO PULMONAR .', 'O'], ['27 - 01 - 15 FE 50 EP 25 AE 46 VE REMODELAMENTO CONCENTRICO AE E <e1> AD </e1> AUMENTADOS VD NL PROTESE AO NF REFLUXO DISCRETO = DUPLA LESAO MI COM ESTENOSE E INSUF MODERADAS - INSUF TRI MODERADA A IMPORTANTE = HIPERTENSAO PULMONAR .', 'O'], ['27 - 01 - 15 FE 50 EP 25 AE 46 VE REMODELAMENTO CONCENTRICO AE E AD AUMENTADOS VD NL PROTESE AO NF <e1> REFLUXO </e1> DISCRETO = DUPLA LESAO MI COM ESTENOSE E INSUF MODERADAS - INSUF TRI MODERADA A IMPORTANTE = HIPERTENSAO PULMONAR .', 'O'], ['27 - 01 - 15 FE 50 EP 25 AE 46 VE REMODELAMENTO CONCENTRICO AE E AD AUMENTADOS VD NL PROTESE AO NF REFLUXO DISCRETO = <e1> DUPLA LESAO </e1> MI COM ESTENOSE E INSUF MODERADAS - INSUF TRI MODERADA A IMPORTANTE = HIPERTENSAO PULMONAR .', 'O'], ['27 - 01 - 15 FE 50 EP 25 AE 46 VE REMODELAMENTO CONCENTRICO AE E AD AUMENTADOS VD NL PROTESE AO NF REFLUXO DISCRETO = DUPLA <e1> LESAO </e1> MI COM ESTENOSE E INSUF MODERADAS - INSUF TRI MODERADA A IMPORTANTE = HIPERTENSAO PULMONAR .', 'O'], ['27 - 01 - 15 FE 50 EP 25 AE 46 VE REMODELAMENTO CONCENTRICO AE E AD AUMENTADOS VD NL PROTESE AO NF REFLUXO DISCRETO = DUPLA LESAO MI COM ESTENOSE E <e1> INSUF </e1> MODERADAS - INSUF TRI MODERADA A IMPORTANTE = HIPERTENSAO PULMONAR .', 'O'], ['27 - 01 - 15 FE 50 EP 25 AE 46 VE REMODELAMENTO CONCENTRICO AE E AD AUMENTADOS VD NL PROTESE AO NF REFLUXO DISCRETO = DUPLA LESAO MI COM ESTENOSE E INSUF MODERADAS - <e1> INSUF </e1> TRI MODERADA A IMPORTANTE = HIPERTENSAO PULMONAR .', 'O'], ['27 - 01 - 15 FE 50 EP 25 AE 46 VE REMODELAMENTO CONCENTRICO AE E AD AUMENTADOS VD NL PROTESE AO NF REFLUXO DISCRETO = DUPLA LESAO MI COM ESTENOSE E INSUF MODERADAS - <e1> INSUF TRI </e1> MODERADA A IMPORTANTE = HIPERTENSAO PULMONAR .', 'O'], ['27 - 01 - 15 FE 50 EP 25 AE 46 VE REMODELAMENTO CONCENTRICO AE E AD AUMENTADOS VD NL PROTESE AO NF REFLUXO DISCRETO = DUPLA LESAO MI COM ESTENOSE E INSUF MODERADAS - INSUF <e1> TRI </e1> MODERADA A IMPORTANTE = HIPERTENSAO PULMONAR .', 'O'], ['27 - 01 - 15 FE 50 EP 25 AE 46 VE REMODELAMENTO CONCENTRICO AE E AD AUMENTADOS VD NL PROTESE AO NF REFLUXO DISCRETO = DUPLA LESAO MI COM ESTENOSE E INSUF MODERADAS - INSUF TRI MODERADA A IMPORTANTE = <e1> HIPERTENSAO </e1> PULMONAR .', 'O']]]\n",
      "combinacao: ['CONTROLE NO AMB VALVAS E ACO .', [['CONTROLE NO AMB VALVAS E <e1> ACO </e1> .', 'Tratamento']]]\n",
      "combinacao: ['Protese Metalica Aortica em 2004 .', [['<e1> Protese Metalica Aortica </e1> em 2004 .', 'Tratamento'], ['<e1> Protese </e1> Metalica Aortica em 2004 .', 'O'], ['<e1> Protese Metalica </e1> Aortica em 2004 .', 'O'], ['Protese <e1> Metalica </e1> Aortica em 2004 .', 'O']]]\n",
      "combinacao: ['Uso : Enalapril 10 - 2cp - 12 / 12 / Atenolol 50 - 1cp = 12 / 12 ; Espironolactona 25 - 1xd ; Sinvastatina 20 - 1x noite ; Calcio 500 - 3x d ; Marevan 5 - amb da ACXO ; Trazodona 25 1x d .', [['Uso : <e1> Enalapril 10 </e1> - 2cp - 12 / 12 / Atenolol 50 - 1cp = 12 / 12 ; Espironolactona 25 - 1xd ; Sinvastatina 20 - 1x noite ; Calcio 500 - 3x d ; Marevan 5 - amb da ACXO ; Trazodona 25 1x d .', 'Tratamento'], ['Uso : Enalapril 10 - 2cp - 12 / 12 / <e1> Atenolol 50 </e1> - 1cp = 12 / 12 ; Espironolactona 25 - 1xd ; Sinvastatina 20 - 1x noite ; Calcio 500 - 3x d ; Marevan 5 - amb da ACXO ; Trazodona 25 1x d .', 'Tratamento'], ['Uso : Enalapril 10 - 2cp - 12 / 12 / Atenolol 50 - 1cp = 12 / 12 ; <e1> Espironolactona 25 </e1> - 1xd ; Sinvastatina 20 - 1x noite ; Calcio 500 - 3x d ; Marevan 5 - amb da ACXO ; Trazodona 25 1x d .', 'Tratamento'], ['Uso : Enalapril 10 - 2cp - 12 / 12 / Atenolol 50 - 1cp = 12 / 12 ; Espironolactona 25 - 1xd ; <e1> Sinvastatina 20 </e1> - 1x noite ; Calcio 500 - 3x d ; Marevan 5 - amb da ACXO ; Trazodona 25 1x d .', 'Tratamento'], ['Uso : Enalapril 10 - 2cp - 12 / 12 / Atenolol 50 - 1cp = 12 / 12 ; Espironolactona 25 - 1xd ; Sinvastatina 20 - 1x noite ; <e1> Calcio 500 </e1> - 3x d ; Marevan 5 - amb da ACXO ; Trazodona 25 1x d .', 'Tratamento'], ['Uso : Enalapril 10 - 2cp - 12 / 12 / Atenolol 50 - 1cp = 12 / 12 ; Espironolactona 25 - 1xd ; Sinvastatina 20 - 1x noite ; Calcio 500 - 3x d ; <e1> Marevan 5 </e1> - amb da ACXO ; Trazodona 25 1x d .', 'Tratamento'], ['Uso : Enalapril 10 - 2cp - 12 / 12 / Atenolol 50 - 1cp = 12 / 12 ; Espironolactona 25 - 1xd ; Sinvastatina 20 - 1x noite ; Calcio 500 - 3x d ; Marevan 5 - amb da ACXO ; <e1> Trazodona 25 </e1> 1x d .', 'Tratamento'], ['Uso : <e1> Enalapril </e1> 10 - 2cp - 12 / 12 / Atenolol 50 - 1cp = 12 / 12 ; Espironolactona 25 - 1xd ; Sinvastatina 20 - 1x noite ; Calcio 500 - 3x d ; Marevan 5 - amb da ACXO ; Trazodona 25 1x d .', 'O'], ['Uso : Enalapril 10 - 2cp - 12 / 12 / <e1> Atenolol </e1> 50 - 1cp = 12 / 12 ; Espironolactona 25 - 1xd ; Sinvastatina 20 - 1x noite ; Calcio 500 - 3x d ; Marevan 5 - amb da ACXO ; Trazodona 25 1x d .', 'O'], ['Uso : Enalapril 10 - 2cp - 12 / 12 / Atenolol 50 - 1cp = 12 / 12 ; <e1> Espironolactona </e1> 25 - 1xd ; Sinvastatina 20 - 1x noite ; Calcio 500 - 3x d ; Marevan 5 - amb da ACXO ; Trazodona 25 1x d .', 'O'], ['Uso : Enalapril 10 - 2cp - 12 / 12 / Atenolol 50 - 1cp = 12 / 12 ; Espironolactona 25 - 1xd ; <e1> Sinvastatina </e1> 20 - 1x noite ; Calcio 500 - 3x d ; Marevan 5 - amb da ACXO ; Trazodona 25 1x d .', 'O'], ['Uso : Enalapril 10 - 2cp - 12 / 12 / Atenolol 50 - 1cp = 12 / 12 ; Espironolactona 25 - 1xd ; Sinvastatina 20 - 1x noite ; <e1> Calcio </e1> 500 - 3x d ; Marevan 5 - amb da ACXO ; Trazodona 25 1x d .', 'O'], ['Uso : Enalapril 10 - 2cp - 12 / 12 / Atenolol 50 - 1cp = 12 / 12 ; Espironolactona 25 - 1xd ; Sinvastatina 20 - 1x noite ; Calcio 500 - 3x d ; <e1> Marevan </e1> 5 - amb da ACXO ; Trazodona 25 1x d .', 'O'], ['Uso : Enalapril 10 - 2cp - 12 / 12 / Atenolol 50 - 1cp = 12 / 12 ; Espironolactona 25 - 1xd ; Sinvastatina 20 - 1x noite ; Calcio 500 - 3x d ; Marevan 5 - amb da ACXO ; <e1> Trazodona </e1> 25 1x d .', 'O']]]\n",
      "combinacao: ['Dispnia esporadica , edema mmii eventual , sem palpitação , dor toracica quando epigastralgia que melhoram com paracetamol .', [['<e1> Dispnia esporadica </e1> , edema mmii eventual , sem palpitação , dor toracica quando epigastralgia que melhoram com paracetamol .', 'Problema'], ['Dispnia esporadica , <e1> edema mmii eventual </e1> , sem palpitação , dor toracica quando epigastralgia que melhoram com paracetamol .', 'Problema'], ['Dispnia esporadica , edema mmii eventual , sem <e1> palpitação </e1> , dor toracica quando epigastralgia que melhoram com paracetamol .', 'Problema'], ['Dispnia esporadica , edema mmii eventual , sem palpitação , <e1> dor toracica quando epigastralgia </e1> que melhoram com paracetamol .', 'Problema'], ['Dispnia esporadica , edema mmii eventual , sem palpitação , dor toracica quando epigastralgia que melhoram com <e1> paracetamol </e1> .', 'Tratamento'], ['<e1> Dispnia </e1> esporadica , edema mmii eventual , sem palpitação , dor toracica quando epigastralgia que melhoram com paracetamol .', 'O'], ['Dispnia esporadica , <e1> edema </e1> mmii eventual , sem palpitação , dor toracica quando epigastralgia que melhoram com paracetamol .', 'O'], ['Dispnia esporadica , <e1> edema mmii </e1> eventual , sem palpitação , dor toracica quando epigastralgia que melhoram com paracetamol .', 'O'], ['Dispnia esporadica , edema <e1> mmii </e1> eventual , sem palpitação , dor toracica quando epigastralgia que melhoram com paracetamol .', 'O'], ['Dispnia esporadica , edema mmii eventual , sem palpitação , <e1> dor toracica quando </e1> epigastralgia que melhoram com paracetamol .', 'O']]]\n",
      "combinacao: ['Lab ( 21 / 01 / 16 ) : Hbglic 6 , 34 ; TSH 2 , 15 ; Hb 13 , 5 ; VG 42 % leuco 9610 ; plaq 234000 ; Urina I ok ; K 4 , 4 ; Cr 1 , 1 ; Gli 71 ; U 69 ; Tri 67 ; HDL - C 77 ; ColT 160 ; LDL - C 70 ; .', [['<e1> Lab </e1> ( 21 / 01 / 16 ) : Hbglic 6 , 34 ; TSH 2 , 15 ; Hb 13 , 5 ; VG 42 % leuco 9610 ; plaq 234000 ; Urina I ok ; K 4 , 4 ; Cr 1 , 1 ; Gli 71 ; U 69 ; Tri 67 ; HDL - C 77 ; ColT 160 ; LDL - C 70 ; .', 'Teste'], ['Lab ( 21 / 01 / 16 ) : <e1> Hbglic </e1> 6 , 34 ; TSH 2 , 15 ; Hb 13 , 5 ; VG 42 % leuco 9610 ; plaq 234000 ; Urina I ok ; K 4 , 4 ; Cr 1 , 1 ; Gli 71 ; U 69 ; Tri 67 ; HDL - C 77 ; ColT 160 ; LDL - C 70 ; .', 'Teste'], ['Lab ( 21 / 01 / 16 ) : Hbglic 6 , 34 ; <e1> TSH </e1> 2 , 15 ; Hb 13 , 5 ; VG 42 % leuco 9610 ; plaq 234000 ; Urina I ok ; K 4 , 4 ; Cr 1 , 1 ; Gli 71 ; U 69 ; Tri 67 ; HDL - C 77 ; ColT 160 ; LDL - C 70 ; .', 'Teste'], ['Lab ( 21 / 01 / 16 ) : Hbglic 6 , 34 ; TSH 2 , 15 ; <e1> Hb </e1> 13 , 5 ; VG 42 % leuco 9610 ; plaq 234000 ; Urina I ok ; K 4 , 4 ; Cr 1 , 1 ; Gli 71 ; U 69 ; Tri 67 ; HDL - C 77 ; ColT 160 ; LDL - C 70 ; .', 'Teste'], ['Lab ( 21 / 01 / 16 ) : Hbglic 6 , 34 ; TSH 2 , 15 ; Hb 13 , 5 ; <e1> VG </e1> 42 % leuco 9610 ; plaq 234000 ; Urina I ok ; K 4 , 4 ; Cr 1 , 1 ; Gli 71 ; U 69 ; Tri 67 ; HDL - C 77 ; ColT 160 ; LDL - C 70 ; .', 'Teste'], ['Lab ( 21 / 01 / 16 ) : Hbglic 6 , 34 ; TSH 2 , 15 ; Hb 13 , 5 ; VG 42 % <e1> leuco </e1> 9610 ; plaq 234000 ; Urina I ok ; K 4 , 4 ; Cr 1 , 1 ; Gli 71 ; U 69 ; Tri 67 ; HDL - C 77 ; ColT 160 ; LDL - C 70 ; .', 'Teste'], ['Lab ( 21 / 01 / 16 ) : Hbglic 6 , 34 ; TSH 2 , 15 ; Hb 13 , 5 ; VG 42 % leuco 9610 ; <e1> plaq </e1> 234000 ; Urina I ok ; K 4 , 4 ; Cr 1 , 1 ; Gli 71 ; U 69 ; Tri 67 ; HDL - C 77 ; ColT 160 ; LDL - C 70 ; .', 'Teste'], ['Lab ( 21 / 01 / 16 ) : Hbglic 6 , 34 ; TSH 2 , 15 ; Hb 13 , 5 ; VG 42 % leuco 9610 ; plaq 234000 ; <e1> Urina I </e1> ok ; K 4 , 4 ; Cr 1 , 1 ; Gli 71 ; U 69 ; Tri 67 ; HDL - C 77 ; ColT 160 ; LDL - C 70 ; .', 'Teste'], ['Lab ( 21 / 01 / 16 ) : Hbglic 6 , 34 ; TSH 2 , 15 ; Hb 13 , 5 ; VG 42 % leuco 9610 ; plaq 234000 ; Urina I ok ; <e1> K </e1> 4 , 4 ; Cr 1 , 1 ; Gli 71 ; U 69 ; Tri 67 ; HDL - C 77 ; ColT 160 ; LDL - C 70 ; .', 'Teste'], ['Lab ( 21 / 01 / 16 ) : Hbglic 6 , 34 ; TSH 2 , 15 ; Hb 13 , 5 ; VG 42 % leuco 9610 ; plaq 234000 ; Urina I ok ; K 4 , 4 ; <e1> Cr </e1> 1 , 1 ; Gli 71 ; U 69 ; Tri 67 ; HDL - C 77 ; ColT 160 ; LDL - C 70 ; .', 'Teste'], ['Lab ( 21 / 01 / 16 ) : Hbglic 6 , 34 ; TSH 2 , 15 ; Hb 13 , 5 ; VG 42 % leuco 9610 ; plaq 234000 ; Urina I ok ; K 4 , 4 ; Cr 1 , 1 ; <e1> Gli </e1> 71 ; U 69 ; Tri 67 ; HDL - C 77 ; ColT 160 ; LDL - C 70 ; .', 'Teste'], ['Lab ( 21 / 01 / 16 ) : Hbglic 6 , 34 ; TSH 2 , 15 ; Hb 13 , 5 ; VG 42 % leuco 9610 ; plaq 234000 ; Urina I ok ; K 4 , 4 ; Cr 1 , 1 ; Gli 71 ; <e1> U </e1> 69 ; Tri 67 ; HDL - C 77 ; ColT 160 ; LDL - C 70 ; .', 'Teste'], ['Lab ( 21 / 01 / 16 ) : Hbglic 6 , 34 ; TSH 2 , 15 ; Hb 13 , 5 ; VG 42 % leuco 9610 ; plaq 234000 ; Urina I ok ; K 4 , 4 ; Cr 1 , 1 ; Gli 71 ; U 69 ; <e1> Tri </e1> 67 ; HDL - C 77 ; ColT 160 ; LDL - C 70 ; .', 'Teste'], ['Lab ( 21 / 01 / 16 ) : Hbglic 6 , 34 ; TSH 2 , 15 ; Hb 13 , 5 ; VG 42 % leuco 9610 ; plaq 234000 ; Urina I ok ; K 4 , 4 ; Cr 1 , 1 ; Gli 71 ; U 69 ; Tri 67 ; <e1> HDL </e1> - C 77 ; ColT 160 ; LDL - C 70 ; .', 'Teste'], ['Lab ( 21 / 01 / 16 ) : Hbglic 6 , 34 ; TSH 2 , 15 ; Hb 13 , 5 ; VG 42 % leuco 9610 ; plaq 234000 ; Urina I ok ; K 4 , 4 ; Cr 1 , 1 ; Gli 71 ; U 69 ; Tri 67 ; HDL - C 77 ; <e1> ColT </e1> 160 ; LDL - C 70 ; .', 'Teste'], ['Lab ( 21 / 01 / 16 ) : Hbglic 6 , 34 ; TSH 2 , 15 ; Hb 13 , 5 ; VG 42 % leuco 9610 ; plaq 234000 ; Urina I ok ; K 4 , 4 ; Cr 1 , 1 ; Gli 71 ; U 69 ; Tri 67 ; HDL - C 77 ; ColT 160 ; <e1> LDL </e1> - C 70 ; .', 'Teste'], ['Lab ( 21 / 01 / 16 ) : Hbglic 6 , 34 ; TSH 2 , 15 ; Hb 13 , 5 ; VG 42 % leuco 9610 ; plaq 234000 ; <e1> Urina </e1> I ok ; K 4 , 4 ; Cr 1 , 1 ; Gli 71 ; U 69 ; Tri 67 ; HDL - C 77 ; ColT 160 ; LDL - C 70 ; .', 'O']]]\n",
      "combinacao: ['Ecocardio ( 04 / 12 / 15 ) : AE 42 ; DDVE 39 ; DSVE 23 ; FE 73 % ; VMi area 1 , 65 ; calcificada , refluxo discreto .', [['<e1> Ecocardio </e1> ( 04 / 12 / 15 ) : AE 42 ; DDVE 39 ; DSVE 23 ; FE 73 % ; VMi area 1 , 65 ; calcificada , refluxo discreto .', 'Teste'], ['Ecocardio ( 04 / 12 / 15 ) : <e1> AE </e1> 42 ; DDVE 39 ; DSVE 23 ; FE 73 % ; VMi area 1 , 65 ; calcificada , refluxo discreto .', 'Anatomia'], ['Ecocardio ( 04 / 12 / 15 ) : AE 42 ; DDVE 39 ; DSVE 23 ; FE 73 % ; <e1> VMi </e1> area 1 , 65 ; calcificada , refluxo discreto .', 'Teste'], ['Ecocardio ( 04 / 12 / 15 ) : AE 42 ; DDVE 39 ; DSVE 23 ; FE 73 % ; VMi area 1 , 65 ; calcificada , <e1> refluxo discreto </e1> .', 'Problema'], ['Ecocardio ( 04 / 12 / 15 ) : AE 42 ; DDVE 39 ; DSVE 23 ; FE 73 % ; VMi area 1 , 65 ; calcificada , <e1> refluxo </e1> discreto .', 'O']]]\n",
      "combinacao: ['VAo protese metalica com espessamento , e relfuxo discreto .', [['<e1> VAo </e1> protese metalica com espessamento , e relfuxo discreto .', 'Anatomia'], ['VAo <e1> protese metalica </e1> com espessamento , e relfuxo discreto .', 'Tratamento'], ['VAo protese metalica com <e1> espessamento </e1> , e relfuxo discreto .', 'Problema'], ['VAo protese metalica com espessamento , e <e1> relfuxo discreto </e1> .', 'Problema'], ['VAo <e1> protese </e1> metalica com espessamento , e relfuxo discreto .', 'O'], ['VAo protese metalica com espessamento , e <e1> relfuxo </e1> discreto .', 'O']]]\n",
      "combinacao: []\n",
      "combinacao: ['ARea de 1 , 12 .', [['<e1> ARea </e1> de 1 , 12 .', 'Teste']]]\n",
      "combinacao: ['VTri = refluxo discreto com PSAP 56mmHg .', [['<e1> VTri </e1> = refluxo discreto com PSAP 56mmHg .', 'Anatomia'], ['VTri = <e1> refluxo discreto </e1> com PSAP 56mmHg .', 'Problema'], ['VTri = <e1> refluxo </e1> discreto com PSAP 56mmHg .', 'O']]]\n",
      "combinacao: ['VP refluxo minimo .', [['<e1> VP refluxo minimo </e1> .', 'Problema'], ['<e1> VP </e1> refluxo minimo .', 'O'], ['<e1> VP refluxo </e1> minimo .', 'O'], ['VP <e1> refluxo </e1> minimo .', 'O']]]\n",
      "combinacao: ['VE hipertrofiado .', [['<e1> VE hipertrofiado </e1> .', 'Problema'], ['<e1> VE </e1> hipertrofiado .', 'O']]]\n",
      "combinacao: [', SIv 13 .', [[', <e1> SIv </e1> 13 .', 'Anatomia']]]\n",
      "combinacao: ['PPVE 14 .', [['<e1> PPVE </e1> 14 .', 'Anatomia']]]\n",
      "combinacao: ['PA ( sentada ) : 140x60mmHg , P 76 .', [['<e1> PA </e1> ( sentada ) : 140x60mmHg , P 76 .', 'Teste'], ['PA ( sentada ) : 140x60mmHg , <e1> P </e1> 76 .', 'Teste']]]\n",
      "combinacao: []\n",
      "combinacao: ['MV normodist sem ruidos adsventicios .', [['MV normodist sem <e1> ruidos adsventicios </e1> .', 'Problema'], ['MV normodist sem <e1> ruidos </e1> adsventicios .', 'O']]]\n",
      "combinacao: ['RCR , 2T , BNF ss + + / 6 + FAo e Mi ( + / 6 + .', [['RCR , 2T , BNF <e1> ss + + / 6 + FAo e Mi ( + / 6 + </e1> .', 'Problema'], ['RCR , 2T , BNF <e1> ss </e1> + + / 6 + FAo e Mi ( + / 6 + .', 'O'], ['RCR , 2T , BNF <e1> ss + </e1> + / 6 + FAo e Mi ( + / 6 + .', 'O'], ['RCR , 2T , BNF <e1> ss + + / 6 + FAo e Mi ( + / 6 </e1> + .', 'O'], ['RCR , 2T , BNF ss <e1> + </e1> + / 6 + FAo e Mi ( + / 6 + .', 'O'], ['RCR , 2T , BNF ss + + / 6 <e1> + </e1> FAo e Mi ( + / 6 + .', 'O'], ['RCR , 2T , BNF ss + + / 6 + <e1> FAo e </e1> Mi ( + / 6 + .', 'O']]]\n",
      "combinacao: ['BEG , eupneica , acianotica , orientada , Sem edema mmii .', [['BEG , eupneica , acianotica , orientada , Sem <e1> edema mmii </e1> .', 'Problema'], ['BEG , eupneica , acianotica , orientada , Sem <e1> edema </e1> mmii .', 'O']]]\n",
      "combinacao: ['HD : protese Metalica AOrtoca normofuncionante .', [['HD : <e1> protese Metalica AOrtoca </e1> normofuncionante .', 'Tratamento'], ['HD : <e1> protese </e1> Metalica AOrtoca normofuncionante .', 'O'], ['HD : <e1> protese Metalica </e1> AOrtoca normofuncionante .', 'O'], ['HD : protese <e1> Metalica </e1> AOrtoca normofuncionante .', 'O'], ['HD : protese <e1> Metalica AOrtoca </e1> normofuncionante .', 'O'], ['HD : protese Metalica <e1> AOrtoca </e1> normofuncionante .', 'O']]]\n",
      "combinacao: ['Disfunbção diastolica .', [['<e1> Disfunbção diastolica </e1> .', 'Problema'], ['<e1> Disfunbção </e1> diastolica .', 'O']]]\n",
      "combinacao: ['CD : Suspendo Espironolactona .', [['CD : Suspendo <e1> Espironolactona </e1> .', 'Tratamento']]]\n",
      "combinacao: ['Reduzo Sinvastatina para 10mg / noite .', [['Reduzo <e1> Sinvastatina para 10mg </e1> / noite .', 'Tratamento'], ['Reduzo <e1> Sinvastatina para </e1> 10mg / noite .', 'O']]]\n",
      "combinacao: ['ACrescento Omeprazol 20 - 1x d .', [['ACrescento <e1> Omeprazol 20 </e1> - 1x d .', 'Tratamento'], ['ACrescento <e1> Omeprazol </e1> 20 - 1x d .', 'O']]]\n",
      "combinacao: ['Retonro em 6m com lab .', [['Retonro em 6m com <e1> lab </e1> .', 'Teste']]]\n",
      "combinacao: []\n",
      "combinacao: []\n",
      "combinacao: ['# DÇ DE CHAGAS .', [['# <e1> DÇ DE CHAGAS </e1> .', 'Problema'], ['# <e1> DÇ DE </e1> CHAGAS .', 'O']]]\n",
      "combinacao: ['# BAVT .', [['# <e1> BAVT </e1> .', 'Problema']]]\n",
      "combinacao: ['# MARCA - PASSO DUPLACAMARA EM DDD 50 - 60 DESDE 2007 .', [['# <e1> MARCA - PASSO </e1> DUPLACAMARA EM DDD 50 - 60 DESDE 2007 .', 'Tratamento'], ['# MARCA - <e1> PASSO </e1> DUPLACAMARA EM DDD 50 - 60 DESDE 2007 .', 'O']]]\n",
      "combinacao: []\n",
      "combinacao: ['PACIENTE NEGA DISPNEIA , NEGA ORTOPNEIA , NEGA DPN .', [['PACIENTE NEGA <e1> DISPNEIA </e1> , NEGA ORTOPNEIA , NEGA DPN .', 'Problema'], ['PACIENTE NEGA DISPNEIA , NEGA <e1> ORTOPNEIA </e1> , NEGA DPN .', 'Problema'], ['PACIENTE NEGA DISPNEIA , NEGA ORTOPNEIA , NEGA <e1> DPN </e1> .', 'Problema']]]\n",
      "combinacao: ['SEM OUTRAS QUEIXAS .', [['SEM <e1> OUTRAS QUEIXAS </e1> .', 'Problema'], ['SEM <e1> OUTRAS </e1> QUEIXAS .', 'O']]]\n"
     ]
    },
    {
     "ename": "IndexError",
     "evalue": "index 449 is out of bounds for dimension 0 with size 449",
     "output_type": "error",
     "traceback": [
      "\u001b[1;31m---------------------------------------------------------------------------\u001b[0m",
      "\u001b[1;31mIndexError\u001b[0m                                Traceback (most recent call last)",
      "\u001b[1;32m<ipython-input-155-1b5ba247da82>\u001b[0m in \u001b[0;36m<module>\u001b[1;34m\u001b[0m\n\u001b[0;32m      2\u001b[0m \u001b[1;33m\u001b[0m\u001b[0m\n\u001b[0;32m      3\u001b[0m \u001b[1;31m# combinacaoEntidadesAll_pred = predicoes do SpanClassification no formato para comparar com gabarito\u001b[0m\u001b[1;33m\u001b[0m\u001b[1;33m\u001b[0m\u001b[1;33m\u001b[0m\u001b[0m\n\u001b[1;32m----> 4\u001b[1;33m \u001b[0mcombinacaoEntidadesAll_pred\u001b[0m \u001b[1;33m=\u001b[0m \u001b[0mf\u001b[0m\u001b[1;33m.\u001b[0m\u001b[0mgetCombinacaoEntidadesAll_pred\u001b[0m\u001b[1;33m(\u001b[0m\u001b[0mcombinacaoEntidadesAll\u001b[0m\u001b[1;33m,\u001b[0m \u001b[0mpred_region_labels\u001b[0m\u001b[1;33m)\u001b[0m\u001b[1;33m\u001b[0m\u001b[1;33m\u001b[0m\u001b[0m\n\u001b[0m\u001b[0;32m      5\u001b[0m \u001b[1;33m\u001b[0m\u001b[0m\n\u001b[0;32m      6\u001b[0m \u001b[0mdic_predictions_span\u001b[0m \u001b[1;33m=\u001b[0m \u001b[0mf\u001b[0m\u001b[1;33m.\u001b[0m\u001b[0mgetDicPredictionsSpan\u001b[0m\u001b[1;33m(\u001b[0m\u001b[0mcombinacaoEntidadesAll_pred\u001b[0m\u001b[1;33m,\u001b[0m \u001b[0mdic_predictions\u001b[0m\u001b[1;33m)\u001b[0m\u001b[1;33m\u001b[0m\u001b[1;33m\u001b[0m\u001b[0m\n",
      "\u001b[1;32m~\\OneDrive\\jupyter notebook\\spanclassification\\avaliacao\\functionsAval.py\u001b[0m in \u001b[0;36mgetCombinacaoEntidadesAll_pred\u001b[1;34m(combinacaoEntidadesAll, pred_region_labels)\u001b[0m\n\u001b[0;32m    575\u001b[0m         \u001b[1;32mif\u001b[0m \u001b[0mcombinacao\u001b[0m\u001b[1;33m:\u001b[0m\u001b[1;33m\u001b[0m\u001b[1;33m\u001b[0m\u001b[0m\n\u001b[0;32m    576\u001b[0m             \u001b[1;32mfor\u001b[0m \u001b[0ment\u001b[0m \u001b[1;32min\u001b[0m \u001b[0mcombinacao\u001b[0m\u001b[1;33m[\u001b[0m\u001b[1;36m1\u001b[0m\u001b[1;33m]\u001b[0m\u001b[1;33m:\u001b[0m\u001b[1;33m\u001b[0m\u001b[1;33m\u001b[0m\u001b[0m\n\u001b[1;32m--> 577\u001b[1;33m                 \u001b[0mtag\u001b[0m \u001b[1;33m=\u001b[0m \u001b[0mint\u001b[0m\u001b[1;33m(\u001b[0m\u001b[0mpred_region_labels\u001b[0m\u001b[1;33m[\u001b[0m\u001b[0mnum\u001b[0m\u001b[1;33m]\u001b[0m\u001b[1;33m)\u001b[0m\u001b[1;33m\u001b[0m\u001b[1;33m\u001b[0m\u001b[0m\n\u001b[0m\u001b[0;32m    578\u001b[0m                 \u001b[0mnum\u001b[0m\u001b[1;33m=\u001b[0m\u001b[0mnum\u001b[0m\u001b[1;33m+\u001b[0m\u001b[1;36m1\u001b[0m\u001b[1;33m\u001b[0m\u001b[1;33m\u001b[0m\u001b[0m\n\u001b[0;32m    579\u001b[0m                 \u001b[1;31m#new = [combinacao[1][0][0], combinacao[1][0][1]]\u001b[0m\u001b[1;33m\u001b[0m\u001b[1;33m\u001b[0m\u001b[1;33m\u001b[0m\u001b[0m\n",
      "\u001b[1;31mIndexError\u001b[0m: index 449 is out of bounds for dimension 0 with size 449"
     ]
    }
   ],
   "source": [
    "#combinacaoEntidadesAll = load_obj(combinacaoEntidadesAll_'+str(BATCH))\n",
    "\n",
    "# combinacaoEntidadesAll_pred = predicoes do SpanClassification no formato para comparar com gabarito\n",
    "combinacaoEntidadesAll_pred = f.getCombinacaoEntidadesAll_pred(combinacaoEntidadesAll, pred_region_labels)\n",
    "\n",
    "dic_predictions_span = f.getDicPredictionsSpan(combinacaoEntidadesAll_pred, dic_predictions)\n",
    "\n",
    "region_true_list, region_pred_list = f.AvalFinal(dicSentences_new_test, dic_predictions_span, BATCH)\n",
    "\n"
   ]
  },
  {
   "cell_type": "code",
   "execution_count": null,
   "metadata": {},
   "outputs": [],
   "source": [
    "\n",
    "# tbm sem o postagger pra ver\n",
    "\n",
    "print('-----Avaliando os dois modelos juntos:-----')\n",
    "\n",
    "# dic_predictions_all = mesclando o resultado dos dois modelos (dic_predictions + combinacaoEntidadesAll_pred)\n",
    "dic_predictions_all = f.getDicPredictionsAll(combinacaoEntidadesAll_pred, dic_predictions)\n",
    "f.save_obj('dic_predictions_all_io_bkp', dic_predictions_all)\n",
    "#dic_predictions_all = load_obj('dic_predictions_all_io_bkp')"
   ]
  },
  {
   "cell_type": "code",
   "execution_count": 137,
   "metadata": {},
   "outputs": [],
   "source": [
    "# juntar all_predictions\n",
    "dic_predictions = {}\n",
    "for num, prediction in enumerate(all_predictions):\n",
    "    if num==0:\n",
    "        dic_predictions = prediction.copy()\n",
    "        continue\n",
    "    for key, value in prediction.items():\n",
    "        entidadesJaEstavam=dic_predictions[key][1]\n",
    "        tokens=dic_predictions[key][0]\n",
    "        lista_entidade = [e for e in entidadesJaEstavam]\n",
    "        #print('lista_entidade:', lista_entidade)\n",
    "        entidades = value[1].copy()\n",
    "        if len(entidades)>0:\n",
    "            #print(entidades)\n",
    "            for entidade in entidades:\n",
    "                lista_entidade.append(entidade)\n",
    "            dic_predictions[key]=[tokens,lista_entidade]\n"
   ]
  }
 ],
 "metadata": {
  "kernelspec": {
   "display_name": "Python 3",
   "language": "python",
   "name": "python3"
  },
  "language_info": {
   "codemirror_mode": {
    "name": "ipython",
    "version": 3
   },
   "file_extension": ".py",
   "mimetype": "text/x-python",
   "name": "python",
   "nbconvert_exporter": "python",
   "pygments_lexer": "ipython3",
   "version": "3.8.5"
  }
 },
 "nbformat": 4,
 "nbformat_minor": 4
}
