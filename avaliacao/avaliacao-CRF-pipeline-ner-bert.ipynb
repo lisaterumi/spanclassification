{
 "cells": [
  {
   "cell_type": "code",
   "execution_count": 1,
   "metadata": {},
   "outputs": [],
   "source": [
    "from sklearn.metrics import classification_report, accuracy_score, confusion_matrix\n",
    "import os\n",
    "from pathlib import Path\n",
    "import re\n",
    "import pickle\n",
    "# ver qtos o modelo apenas de ner acertaria\n",
    "from transformers import AutoTokenizer, AutoModelForTokenClassification\n",
    "import nltk    \n",
    "from nltk import tokenize \n",
    "import torch\n",
    "from transformers import BertTokenizer,BertForTokenClassification\n",
    "import numpy as np\n",
    "import json   \n",
    "from importlib import reload  # Python 3.4+\n",
    "import random\n",
    "import model as mod\n",
    "from model import BertForChunkClassification\n",
    "from transformers import AdamW, BertConfig, get_linear_schedule_with_warmup\n",
    "\n",
    "from torch.utils.data import DataLoader\n",
    "from importlib import reload \n",
    "#from eval import predict\n",
    "import eval\n",
    "#import importlib\n",
    "#importlib.reload(module)\n",
    "import dataset\n",
    "from dataset import InputFeatures, load_and_cache_examples\n",
    "import functionsAval as f\n",
    "from sklearn_crfsuite.metrics import flat_f1_score, flat_classification_report\n",
    "import joblib\n",
    "import os\n"
   ]
  },
  {
   "cell_type": "code",
   "execution_count": 8,
   "metadata": {},
   "outputs": [
    {
     "name": "stdout",
     "output_type": "stream",
     "text": [
      "True\n",
      "True\n"
     ]
    },
    {
     "name": "stderr",
     "output_type": "stream",
     "text": [
      "[nltk_data] Downloading package stopwords to\n",
      "[nltk_data]     C:\\Users\\lisat\\AppData\\Roaming\\nltk_data...\n",
      "[nltk_data]   Package stopwords is already up-to-date!\n"
     ]
    }
   ],
   "source": [
    "import nltk\n",
    "nltk.download('stopwords')\n",
    "from nltk.corpus import stopwords\n",
    "\n",
    "import re\n",
    "def has_numbers(inputString):\n",
    "    return str(bool(re.search(r'\\d', inputString)))\n",
    "\n",
    "print(has_numbers('metionina 5mg'))\n",
    "\n",
    "def isstopword(p):\n",
    "  return str(p in stopwords.words('portuguese'))\n",
    "\n",
    "print(isstopword('pelo'))\n"
   ]
  },
  {
   "cell_type": "code",
   "execution_count": 9,
   "metadata": {},
   "outputs": [
    {
     "name": "stdout",
     "output_type": "stream",
     "text": [
      "[['dor'], ['no'], ['peito'], ['dor', 'no'], ['no', 'peito'], ['dor', 'no', 'peito']]\n"
     ]
    }
   ],
   "source": [
    "def powerset(entidade):    \n",
    "    lista=list()\n",
    "    for i in range(1, len(entidade)+1):\n",
    "        #lista.append(entidade[i-1])\n",
    "        for j in range(len(entidade) - i + 1):\n",
    "            lista.append(entidade[j:j + i])\n",
    "    return lista\n",
    "        \n",
    "#print(list(powerset([4, 5, 6])))\n",
    "print(powerset(['dor', 'no', 'peito']))"
   ]
  },
  {
   "cell_type": "code",
   "execution_count": 2,
   "metadata": {},
   "outputs": [
    {
     "name": "stdout",
     "output_type": "stream",
     "text": [
      "BATCH: 506\n"
     ]
    }
   ],
   "source": [
    "f = reload(f)\n",
    "reload(dataset)\n",
    "reload(eval)\n",
    "reload(mod)\n",
    "\n",
    "# em numero de frases\n",
    "BATCH=506\n",
    "#BATCH=5\n",
    "#BATCH=800\n",
    "#BATCH=8000 \n",
    "print('BATCH:', BATCH)"
   ]
  },
  {
   "cell_type": "code",
   "execution_count": 3,
   "metadata": {},
   "outputs": [
    {
     "name": "stdout",
     "output_type": "stream",
     "text": [
      "Pegando sentencas de teste gabarito: dic_sentencesTest.pkl\n",
      "506\n",
      "[[['Lucas', 0, 43], [',', 1, 48], ['74', 2, 50], ['anos', 3, 53], ['.', 4, 57]], []]\n",
      "numero de sentencas no total: 506\n",
      "idx2tag: {0: 'Teste', 1: 'Anatomia', 2: 'O', 3: 'Problema', 4: 'Tratamento', 5: '<pad>'}\n",
      "[[['Lucas', 0], [',', 1], ['74', 2], ['anos', 3], ['.', 4]], []]\n",
      "len(dic_predictions): 506\n",
      "len(dicSentences_new_test): 506\n",
      "len(dic_predictions): 506\n",
      "region_pred_list[:4]: ['Problema', 'Tratamento', 'Problema', 'Problema']\n",
      "region_true_list[:4]: ['Problema', 'Tratamento', 'Problema', 'Problema']\n",
      "lista_erros[:8]: [7, 8, 13, 13, 14, 15, 15, 15]\n",
      "len(lista_erros): 383\n",
      "len(set(lista_erros)): 169\n",
      "len(region_true_list): 1140\n",
      "len(region_pred_list): 1140\n",
      "-----Avaliando nested só com modelo de NER com BERT:-----\n",
      "              precision    recall  f1-score   support\n",
      "\n",
      "    Anatomia   0.829268  0.346939  0.489209       196\n",
      "           O   0.000000  0.000000  0.000000       149\n",
      "    Problema   0.798319  0.843195  0.820144       338\n",
      "       Teste   0.878049  0.888889  0.883436       243\n",
      "  Tratamento   0.800905  0.827103  0.813793       214\n",
      "\n",
      "    accuracy                       0.654386      1140\n",
      "   macro avg   0.661308  0.581225  0.601316      1140\n",
      "weighted avg   0.716779  0.654386  0.668351      1140\n",
      "\n",
      "[[ 68 122   4   1   1]\n",
      " [ 14   0  64  29  42]\n",
      " [  0  53 285   0   0]\n",
      " [  0  26   0 216   1]\n",
      " [  0  33   4   0 177]]\n"
     ]
    }
   ],
   "source": [
    "dicSentences_new_test = f.loadSentencesTest()\n",
    "print(len(dicSentences_new_test))\n",
    "dicSentences_new_test = {k: v for k, v in dicSentences_new_test.items() if k<BATCH}\n",
    "print(dicSentences_new_test[0])\n",
    "#print(dicSentences_new_test[27])\n",
    "print('numero de sentencas no total:', len(dicSentences_new_test))\n",
    "\n",
    "sentences=list()\n",
    "for key, value in dicSentences_new_test.items():\n",
    "    if key<BATCH:\n",
    "        tokens = value[0]\n",
    "        tokens = [tok[0] for tok in tokens]\n",
    "        sentences.append(' '.join(tokens).strip())\n",
    "#print(sentences[0])\n",
    "\n",
    "tags, tokens = f.predictBERTNER_IO(sentences, 'all')\n",
    "dic_predictions = f.getDicPredictions(tags, tokens)\n",
    "dic_predictions_ner_bert = f.getDicPredictions(tags, tokens)\n",
    "print(dic_predictions[0])\n",
    "print('len(dic_predictions):', len(dic_predictions))\n",
    "#print(dic_predictions[9])\n",
    "f.save_obj('dic_predictions_results_ner_'+str(BATCH), dic_predictions)\n",
    "#dic_predictions = f.load_obj('dic_predictions_results_ner_'+str(BATCH))\n",
    "\n",
    "print('len(dicSentences_new_test):', len(dicSentences_new_test))\n",
    "print('len(dic_predictions):', len(dic_predictions))\n",
    "\n",
    "region_true_list, region_pred_list, lista_erros = f.getListaRegionsTruePred(BATCH, dicSentences_new_test, dic_predictions)\n",
    "f.save_obj('region_true_list'+str(BATCH), region_true_list)\n",
    "print('region_pred_list[:4]:', region_pred_list[:4])\n",
    "print('region_true_list[:4]:', region_true_list[:4])\n",
    "print('lista_erros[:8]:', lista_erros[:8])\n",
    "print('len(lista_erros):', len(lista_erros))\n",
    "print('len(set(lista_erros)):', len(set(lista_erros)))\n",
    "print('len(region_true_list):', len(region_true_list))\n",
    "print('len(region_pred_list):', len(region_pred_list))\n",
    "\n",
    "print('-----Avaliando nested só com modelo de NER com BERT:-----')\n",
    "\n",
    "print(classification_report(region_true_list, region_pred_list, digits=6))\n",
    "print(confusion_matrix(region_true_list, region_pred_list))\n"
   ]
  },
  {
   "cell_type": "code",
   "execution_count": 4,
   "metadata": {},
   "outputs": [
    {
     "data": {
      "text/plain": [
       "['O', 'O', 'O', 'O', 'O']"
      ]
     },
     "execution_count": 4,
     "metadata": {},
     "output_type": "execute_result"
    }
   ],
   "source": [
    "tags[0]"
   ]
  },
  {
   "cell_type": "code",
   "execution_count": 5,
   "metadata": {},
   "outputs": [
    {
     "data": {
      "text/plain": [
       "['Lucas', ',', '74', 'anos', '.']"
      ]
     },
     "execution_count": 5,
     "metadata": {},
     "output_type": "execute_result"
    }
   ],
   "source": [
    "tokens[0]"
   ]
  },
  {
   "cell_type": "markdown",
   "metadata": {},
   "source": [
    "### AVAL spans / regioes"
   ]
  },
  {
   "cell_type": "code",
   "execution_count": 11,
   "metadata": {},
   "outputs": [
    {
     "data": {
      "text/plain": [
       "[[['Comorbidades', 0, 142],\n",
       "  [':', 1, 154],\n",
       "  ['DM', 2, 156],\n",
       "  ['há', 3, 159],\n",
       "  ['10', 4, 162],\n",
       "  ['anos', 5, 165],\n",
       "  ['em', 6, 170],\n",
       "  ['uso', 7, 173],\n",
       "  ['de', 8, 177],\n",
       "  ['metformina', 9, 180],\n",
       "  ['850mg', 10, 191],\n",
       "  ['3', 11, 197],\n",
       "  ['cp', 12, 199],\n",
       "  ['/', 13, 201],\n",
       "  ['dia', 14, 202],\n",
       "  [',', 15, 205],\n",
       "  ['acarbose', 16, 207],\n",
       "  ['1', 17, 216],\n",
       "  ['cp', 18, 218],\n",
       "  ['/', 19, 220],\n",
       "  ['dia', 20, 221],\n",
       "  ['e', 21, 225],\n",
       "  ['glicazida', 22, 227],\n",
       "  ['60mg', 23, 237],\n",
       "  ['2', 24, 242],\n",
       "  ['cp', 25, 244],\n",
       "  ['/', 26, 246],\n",
       "  ['dia', 27, 247],\n",
       "  ['e', 28, 251],\n",
       "  ['insulina', 29, 253],\n",
       "  ['(', 30, 262],\n",
       "  ['24', 31, 263],\n",
       "  ['-', 32, 266],\n",
       "  ['0', 33, 268],\n",
       "  ['-', 34, 270],\n",
       "  ['24', 35, 272],\n",
       "  [')', 36, 274],\n",
       "  ['.', 37, 275]],\n",
       " [['Comorbidades', [0], 'Problema'],\n",
       "  ['DM', [2], 'Problema'],\n",
       "  ['metformina 850mg', [9, 10], 'Tratamento'],\n",
       "  ['acarbose', [16], 'Tratamento'],\n",
       "  ['glicazida 60mg', [22, 23], 'Tratamento'],\n",
       "  ['insulina', [29], 'Tratamento']]]"
      ]
     },
     "execution_count": 11,
     "metadata": {},
     "output_type": "execute_result"
    }
   ],
   "source": [
    "dic_sentencesTest = dicSentences_new_test.copy()\n",
    "dic_sentencesTest[2]"
   ]
  },
  {
   "cell_type": "code",
   "execution_count": 18,
   "metadata": {},
   "outputs": [
    {
     "name": "stdout",
     "output_type": "stream",
     "text": [
      "[[['FA', ['há', '5', 'anos', 'por'], [',', 'uso', 'de', 'marevan'], 'Problema'], ['marevan 5mg', ['FA', ',', 'uso', 'de'], ['1', 'x', 'ao', 'dia'], 'Tratamento'], ['marevan', ['FA', ',', 'uso', 'de'], ['5mg', '1', 'x', 'ao'], 'O'], ['5mg', [',', 'uso', 'de', 'marevan'], ['1', 'x', 'ao', 'dia'], 'O']], [['Comorbidades', [], [':', 'DM', 'há', '10'], 'Problema'], ['DM', ['Comorbidades', ':'], ['há', '10', 'anos', 'em'], 'Problema'], ['metformina 850mg', ['anos', 'em', 'uso', 'de'], ['3', 'cp', '/', 'dia'], 'Tratamento'], ['metformina', ['anos', 'em', 'uso', 'de'], ['850mg', '3', 'cp', '/'], 'O'], ['850mg', ['em', 'uso', 'de', 'metformina'], ['3', 'cp', '/', 'dia'], 'O'], ['acarbose', ['cp', '/', 'dia', ','], ['1', 'cp', '/', 'dia'], 'Tratamento'], ['glicazida 60mg', ['cp', '/', 'dia', 'e'], ['2', 'cp', '/', 'dia'], 'Tratamento'], ['glicazida', ['cp', '/', 'dia', 'e'], ['60mg', '2', 'cp', '/'], 'O'], ['60mg', ['/', 'dia', 'e', 'glicazida'], ['2', 'cp', '/', 'dia'], 'O'], ['insulina', ['cp', '/', 'dia', 'e'], ['(', '24', '-', '0'], 'Tratamento']]]\n"
     ]
    }
   ],
   "source": [
    "NUM_JANELA=4\n",
    "\n",
    "#def getListaPositiva(dic_sentences):\n",
    "#dic_sentences = dic_sentencesTest\n",
    "def getListaCombinacoesOld(dic_sentences):\n",
    "    listaSentencas=list()\n",
    "    lista=list()\n",
    "    numJanela=NUM_JANELA\n",
    "    for key, value in dic_sentences.items():\n",
    "        #print('value:', value)\n",
    "        entidades = value[1]\n",
    "        if len(entidades)==0:\n",
    "            continue\n",
    "        listaIndicesEntidadesFrase=list()\n",
    "        for entidade in entidades:\n",
    "          listaIndicesEntidadesFrase.append(entidade[1])\n",
    "        dicTokens={}\n",
    "        for token in value[0]:\n",
    "          #print('token:', token)\n",
    "          dicTokens[token[1]]=token[0]\n",
    "        for entidade in entidades:\n",
    "            #print('entidade:', entidade)\n",
    "            label = entidade[2]\n",
    "            indiceEntidade1=entidade[1][0]\n",
    "            indiceEntidade2=entidade[1][-1]\n",
    "            vizinhosAntes = list()\n",
    "            vizinhosDepois = list()\n",
    "            #print('indiceEntidade:', indiceEntidade)\n",
    "            for tokens in value[0]:\n",
    "                indice=tokens[1]\n",
    "                #print('token: {}, indice: {}'.format(tokens[0], indice))\n",
    "                if indice+4>=indiceEntidade1 and indice<indiceEntidade1:\n",
    "                    vizinhosAntes.append(tokens[0])\n",
    "                if indice-4<=indiceEntidade2 and indice>indiceEntidade2:\n",
    "                    vizinhosDepois.append(tokens[0])\n",
    "            lista.append([entidade[0], vizinhosAntes, vizinhosDepois, label])\n",
    "            # agora, os negativos, para entidades com mais de um token\n",
    "            if len(entidade[0].split())>1:\n",
    "              #print('entidade[0] mais de um token: {}'.format(entidade[0].split()))\n",
    "              #listaCombinacoes = powerset(entidade[0].split())\n",
    "              listaCombinacoes = powerset(entidade[1])\n",
    "              #print(listaCombinacoes)\n",
    "              # ver se alguma dessas é positiva\n",
    "              for combinacao in listaCombinacoes:\n",
    "                #print('combinacao:', combinacao)\n",
    "                if combinacao in listaIndicesEntidadesFrase:\n",
    "                  #print('teeeem:', combinacao)\n",
    "                  pass\n",
    "                else:\n",
    "                  combinacaoTokens = [dicTokens[t] for t in combinacao]\n",
    "                  vizinhosAntes = list()\n",
    "                  vizinhosDepois = list()\n",
    "                  indiceEntidade1=combinacao[0]\n",
    "                  indiceEntidade2=combinacao[-1]\n",
    "                  for tokens in value[0]:\n",
    "                    indice=tokens[1]\n",
    "                    #print('token: {}, indice: {}'.format(tokens[0], indice))\n",
    "                    if indice+4>=indiceEntidade1 and indice<indiceEntidade1:\n",
    "                        vizinhosAntes.append(tokens[0])\n",
    "                    if indice-4<=indiceEntidade2 and indice>indiceEntidade2:\n",
    "                        vizinhosDepois.append(tokens[0])\n",
    "                  lista.append([' '.join(combinacaoTokens), vizinhosAntes, vizinhosDepois, 'O'])\n",
    "        listaSentencas.append(lista)\n",
    "        lista=list()\n",
    "        #break\n",
    "    return listaSentencas\n",
    "listacombinacoes = getListaCombinacoesOld(dic_sentencesTest)\n",
    "print(listacombinacoes[:2])"
   ]
  },
  {
   "cell_type": "code",
   "execution_count": 13,
   "metadata": {},
   "outputs": [
    {
     "data": {
      "text/plain": [
       "[[['Comorbidades', 0],\n",
       "  [':', 1],\n",
       "  ['DM', 2],\n",
       "  ['há', 3],\n",
       "  ['10', 4],\n",
       "  ['anos', 5],\n",
       "  ['em', 6],\n",
       "  ['uso', 7],\n",
       "  ['de', 8],\n",
       "  ['metformina', 9],\n",
       "  ['850mg', 10],\n",
       "  ['3', 11],\n",
       "  ['cp', 12],\n",
       "  ['/', 13],\n",
       "  ['dia', 14],\n",
       "  [',', 15],\n",
       "  ['acarbose', 16],\n",
       "  ['1', 17],\n",
       "  ['cp', 18],\n",
       "  ['/', 19],\n",
       "  ['dia', 20],\n",
       "  ['e', 21],\n",
       "  ['glicazida', 22],\n",
       "  ['60mg', 23],\n",
       "  ['2', 24],\n",
       "  ['cp', 25],\n",
       "  ['/', 26],\n",
       "  ['dia', 27],\n",
       "  ['e', 28],\n",
       "  ['insulina', 29],\n",
       "  ['(', 30],\n",
       "  ['24', 31],\n",
       "  ['-', 32],\n",
       "  ['0', 33],\n",
       "  ['-', 34],\n",
       "  ['24', 35],\n",
       "  [')', 36],\n",
       "  ['.', 37]],\n",
       " [['Comorbidades', [0], 'Problema'],\n",
       "  ['DM', [2], 'Problema'],\n",
       "  ['metformina 850mg', [9, 10], 'Tratamento'],\n",
       "  ['acarbose', [16], 'Tratamento'],\n",
       "  ['glicazida 60mg', [22, 23], 'Tratamento'],\n",
       "  ['insulina', [29], 'Tratamento']]]"
      ]
     },
     "execution_count": 13,
     "metadata": {},
     "output_type": "execute_result"
    }
   ],
   "source": [
    "dic_predictions[2]"
   ]
  },
  {
   "cell_type": "code",
   "execution_count": 26,
   "metadata": {},
   "outputs": [],
   "source": [
    "#def getListaPositiva(dic_sentences):\n",
    "#dic_sentences = dic_sentencesTest\n",
    "def getListaCombinacoes(dic_sentences):\n",
    "    listaSentencas=list()\n",
    "    lista=list()\n",
    "    dicPred={}\n",
    "    #numJanela=NUM_JANELA\n",
    "    numJanela=4\n",
    "    num1=-1\n",
    "    num2=0\n",
    "    for key, value in dic_sentences.items():\n",
    "        num1=num1+1\n",
    "        #print('value:', value)\n",
    "        entidades = value[1]\n",
    "        if len(entidades)==0:\n",
    "            dicPred[num2]=num1\n",
    "            continue\n",
    "        dicPred[num2]=num1\n",
    "        num2=num2+1\n",
    "        listaIndicesEntidadesFrase=list()\n",
    "        for entidade in entidades:\n",
    "          listaIndicesEntidadesFrase.append(entidade[1])\n",
    "        dicTokens={}\n",
    "        for token in value[0]:\n",
    "          #print('token:', token)\n",
    "          dicTokens[token[1]]=token[0]\n",
    "        for entidade in entidades:\n",
    "            #print('entidade:', entidade)\n",
    "            #label = entidade[2]\n",
    "            label = 'ENT'\n",
    "            indiceEntidade1=entidade[1][0]\n",
    "            indiceEntidade2=entidade[1][-1]\n",
    "            vizinhosAntes = list()\n",
    "            vizinhosDepois = list()\n",
    "            #print('indiceEntidade:', indiceEntidade)\n",
    "            for tokens in value[0]:\n",
    "                indice=tokens[1]\n",
    "                #print('token: {}, indice: {}'.format(tokens[0], indice))\n",
    "                if indice+numJanela>=indiceEntidade1 and indice<indiceEntidade1:\n",
    "                    vizinhosAntes.append(tokens[0])\n",
    "                if indice-numJanela<=indiceEntidade2 and indice>indiceEntidade2:\n",
    "                    vizinhosDepois.append(tokens[0])\n",
    "            lista.append([entidade[0], vizinhosAntes, vizinhosDepois, label])\n",
    "            # agora, os negativos, para entidades com mais de um token\n",
    "            if len(entidade[0].split())>1:\n",
    "              #print('entidade[0] mais de um token: {}'.format(entidade[0].split()))\n",
    "              #listaCombinacoes = powerset(entidade[0].split())\n",
    "              listaCombinacoes = powerset(entidade[1])\n",
    "              #print(listaCombinacoes)\n",
    "              # ver se alguma dessas é positiva\n",
    "              for combinacao in listaCombinacoes:\n",
    "                #print('combinacao:', combinacao)\n",
    "                if combinacao in listaIndicesEntidadesFrase:\n",
    "                  #print('teeeem:', combinacao)\n",
    "                  pass\n",
    "                else:\n",
    "                  combinacaoTokens = [dicTokens[t] for t in combinacao]\n",
    "                  vizinhosAntes = list()\n",
    "                  vizinhosDepois = list()\n",
    "                  indiceEntidade1=combinacao[0]\n",
    "                  indiceEntidade2=combinacao[-1]\n",
    "                  for tokens in value[0]:\n",
    "                    indice=tokens[1]\n",
    "                    #print('token: {}, indice: {}'.format(tokens[0], indice))\n",
    "                    if indice+numJanela>=indiceEntidade1 and indice<indiceEntidade1:\n",
    "                        vizinhosAntes.append(tokens[0])\n",
    "                    if indice-numJanela<=indiceEntidade2 and indice>indiceEntidade2:\n",
    "                        vizinhosDepois.append(tokens[0])\n",
    "                  lista.append([' '.join(combinacaoTokens), vizinhosAntes, vizinhosDepois, 'O'])\n",
    "        listaSentencas.append(lista)\n",
    "        lista=list()\n",
    "        #break\n",
    "    return listaSentencas, dicPred\n"
   ]
  },
  {
   "cell_type": "code",
   "execution_count": 27,
   "metadata": {},
   "outputs": [
    {
     "data": {
      "text/plain": [
       "[[['FA', ['há', '5', 'anos', 'por'], [',', 'uso', 'de', 'marevan'], 'ENT'],\n",
       "  ['marevan 5mg', ['FA', ',', 'uso', 'de'], ['1', 'x', 'ao', 'dia'], 'ENT'],\n",
       "  ['marevan', ['FA', ',', 'uso', 'de'], ['5mg', '1', 'x', 'ao'], 'O'],\n",
       "  ['5mg', [',', 'uso', 'de', 'marevan'], ['1', 'x', 'ao', 'dia'], 'O']],\n",
       " [['Comorbidades', [], [':', 'DM', 'há', '10'], 'ENT'],\n",
       "  ['DM', ['Comorbidades', ':'], ['há', '10', 'anos', 'em'], 'ENT'],\n",
       "  ['metformina 850mg',\n",
       "   ['anos', 'em', 'uso', 'de'],\n",
       "   ['3', 'cp', '/', 'dia'],\n",
       "   'ENT'],\n",
       "  ['metformina', ['anos', 'em', 'uso', 'de'], ['850mg', '3', 'cp', '/'], 'O'],\n",
       "  ['850mg', ['em', 'uso', 'de', 'metformina'], ['3', 'cp', '/', 'dia'], 'O'],\n",
       "  ['acarbose', ['cp', '/', 'dia', ','], ['1', 'cp', '/', 'dia'], 'ENT'],\n",
       "  ['glicazida 60mg', ['cp', '/', 'dia', 'e'], ['2', 'cp', '/', 'dia'], 'ENT'],\n",
       "  ['glicazida', ['cp', '/', 'dia', 'e'], ['60mg', '2', 'cp', '/'], 'O'],\n",
       "  ['60mg', ['/', 'dia', 'e', 'glicazida'], ['2', 'cp', '/', 'dia'], 'O'],\n",
       "  ['insulina', ['cp', '/', 'dia', 'e'], ['(', '24', '-', '0'], 'ENT']]]"
      ]
     },
     "execution_count": 27,
     "metadata": {},
     "output_type": "execute_result"
    }
   ],
   "source": [
    "listacombinacoesTest, dicPred = getListaCombinacoes(dic_sentencesTest)\n",
    "listacombinacoesTest[0:2]"
   ]
  },
  {
   "cell_type": "code",
   "execution_count": 19,
   "metadata": {},
   "outputs": [],
   "source": [
    "def getTiposEntidadeBinario():\n",
    "    return ['O','ENT']\n",
    "\n",
    "def getTiposEntidade():\n",
    "    return ['Problema','Teste','Tratamento','Anatomia']\n",
    "    \n",
    "def read_clusters(cluster_file):\n",
    "    word2cluster = {}\n",
    "    try:\n",
    "        with open(cluster_file, encoding='utf-8') as i:\n",
    "            for num, line in enumerate(i):\n",
    "                if line:\n",
    "                    word, cluster = line.strip().split('\\t')\n",
    "                    word2cluster[word] = cluster\n",
    "    except:\n",
    "        print(line)\n",
    "        print(num)\n",
    "        raise\n",
    "    return word2cluster\n",
    "\n",
    "\n",
    "def word2features(sent, word2cluster, dicPostagger):\n",
    "    try:\n",
    "        features = list()\n",
    "        entidades = sent[0]\n",
    "        for entidade in entidades.split():\n",
    "            postag = tipoPostaggerTokens(entidade, dicPostagger)\n",
    "            features.extend([\n",
    "            'bias',\n",
    "            'word.lower=' + entidade.lower(),\n",
    "            'word[-3:]=' + entidade[-3:],\n",
    "            'word[:3]=' + entidade[:3],\n",
    "            'word.isupper=%s' % entidade.isupper(),\n",
    "            'word.istitle=%s' % entidade.istitle(),\n",
    "            'word.isdigit=%s' % entidade.isdigit(),\n",
    "            'word.cluster=%s' % word2cluster[entidade.lower()] if entidade.lower() in word2cluster else \"0\",\n",
    "            'postag=' + postag\n",
    "            ])\n",
    "        # palavras anteriores\n",
    "        vizinhosAntes = sent[1] \n",
    "        if len(vizinhosAntes)>0:\n",
    "            for num, vizinhoAntes in enumerate(vizinhosAntes):\n",
    "                word1 = vizinhoAntes\n",
    "                postag1 =  tipoPostaggerTokens(vizinhoAntes, dicPostagger)\n",
    "                features.extend([\n",
    "                    '-'+str(num+1)+':word.lower=' + word1.lower(),\n",
    "                    '-'+str(num+1)+':word.istitle=%s' % word1.istitle(),\n",
    "                    '-'+str(num+1)+':word.isupper=%s' % word1.isupper(),\n",
    "                    '-'+str(num+1)+':postag=' + postag1\n",
    "                ])\n",
    "        else:\n",
    "            features.append('BOS')\n",
    "\n",
    "        # próximas palavras\n",
    "        vizinhosDepois = sent[2]\n",
    "        if len(vizinhosDepois)>0:\n",
    "            for num, vizinhoDepois in enumerate(vizinhosDepois):\n",
    "                word1 = vizinhoDepois\n",
    "                postag1 =  tipoPostaggerTokens(vizinhoDepois, dicPostagger)\n",
    "                features.extend([\n",
    "                    '+'+str(num+1)+':word.lower=' + word1.lower(),\n",
    "                    '+'+str(num+1)+':word.istitle=%s' % word1.istitle(),\n",
    "                    '+'+str(num+1)+':word.isupper=%s' % word1.isupper(),\n",
    "                    '+'+str(num+1)+':postag=' + postag1\n",
    "                ])\n",
    "        else:\n",
    "            features.append('EOS')\n",
    "    except:\n",
    "        print('sent:', sent)\n",
    "        raise\n",
    "    return features\n",
    "\n",
    "\n",
    "def sent2features(lista, word2cluster, dicPostagger):\n",
    "    #return word2features(lista, word2cluster, dicPostagger)\n",
    "    return [word2features(lista[i], word2cluster, dicPostagger) for i in range(len(lista))]\n",
    "\n",
    "def sent2labels(lista):\n",
    "    #return [label for _, _, _, label in lista]\n",
    "    return [label for _, _, _, label in lista]\n",
    "\n",
    "#def sent2tokens(sent):\n",
    "#    return [token for token, postag, label in sent]\n",
    "\n",
    "#word2cluster = read_clusters(r\"cluster/cluster-50.tsv\")\n",
    "#word2cluster = read_clusters(r\"clusters/cluster-5.tsv\")\n",
    "#word2cluster = read_clusters(r\"clusters/cluster-10.tsv\")\n",
    "#word2cluster = read_clusters(r\"clusters/cluster-100.tsv\")\n",
    "#word2cluster = read_clusters(r\"clusters/cluster-300.tsv\")"
   ]
  },
  {
   "cell_type": "code",
   "execution_count": 28,
   "metadata": {},
   "outputs": [
    {
     "name": "stdout",
     "output_type": "stream",
     "text": [
      "regiao CRF binario, cluster 300, janela 4 => sem estar no pipeline\n",
      "              precision    recall  f1-score   support\n",
      "\n",
      "           O      0.948     0.944     0.946      2730\n",
      "         ENT      0.848     0.859     0.853       991\n",
      "\n",
      "    accuracy                          0.921      3721\n",
      "   macro avg      0.898     0.901     0.900      3721\n",
      "weighted avg      0.922     0.921     0.921      3721\n",
      "\n"
     ]
    }
   ],
   "source": [
    "import joblib\n",
    "import os\n",
    "\n",
    "CLUSTER=300\n",
    "word2cluster = read_clusters(r\"cluster/cluster-300.tsv\")\n",
    "\n",
    "X_test = [sent2features(s, word2cluster, dicPostagger) for s in listacombinacoesTest]\n",
    "y_test = [sent2labels(s) for s in listacombinacoesTest]\n",
    "\n",
    "print('regiao CRF binario, cluster 300, janela 4 => sem estar no pipeline')\n",
    "\n",
    "OUTPUT_PATH = \"CRF\"\n",
    "OUTPUT_FILE = \"crf_model_binario_regiao\"\n",
    "crf = joblib.load(os.path.join(OUTPUT_PATH, OUTPUT_FILE))\n",
    "y_pred = crf.predict(X_test)\n",
    "print(flat_classification_report(\n",
    "    y_test, y_pred, labels=getTiposEntidadeBinario(), digits=3\n",
    "))"
   ]
  },
  {
   "cell_type": "code",
   "execution_count": 147,
   "metadata": {},
   "outputs": [
    {
     "data": {
      "text/plain": [
       "[[['calcificação', 0],\n",
       "  ['mitral', 1],\n",
       "  ['e', 2],\n",
       "  ['aórtica', 3],\n",
       "  ['com', 4],\n",
       "  ['refluxo', 5],\n",
       "  ['leve', 6],\n",
       "  ['.', 7]],\n",
       " [['calcificação', [0], 'Problema'],\n",
       "  ['mitral', [1], 'Tratamento'],\n",
       "  ['e', [2], 'Problema'],\n",
       "  ['aórtica', [3], 'Anatomia'],\n",
       "  ['refluxo leve', [5, 6], 'Problema']]]"
      ]
     },
     "execution_count": 147,
     "metadata": {},
     "output_type": "execute_result"
    }
   ],
   "source": [
    "dic_predictions_ner_bert[15]"
   ]
  },
  {
   "cell_type": "code",
   "execution_count": 146,
   "metadata": {},
   "outputs": [
    {
     "data": {
      "text/plain": [
       "[['calcificação', [], ['mitral', 'e', 'aórtica', 'com'], 'ENT'],\n",
       " ['mitral', ['calcificação'], ['e', 'aórtica', 'com', 'refluxo'], 'ENT'],\n",
       " ['e',\n",
       "  ['calcificação', 'mitral'],\n",
       "  ['aórtica', 'com', 'refluxo', 'leve'],\n",
       "  'ENT'],\n",
       " ['aórtica',\n",
       "  ['calcificação', 'mitral', 'e'],\n",
       "  ['com', 'refluxo', 'leve', '.'],\n",
       "  'ENT'],\n",
       " ['refluxo leve', ['mitral', 'e', 'aórtica', 'com'], ['.'], 'ENT'],\n",
       " ['refluxo', ['mitral', 'e', 'aórtica', 'com'], ['leve', '.'], 'O'],\n",
       " ['leve', ['e', 'aórtica', 'com', 'refluxo'], ['.'], 'O']]"
      ]
     },
     "execution_count": 146,
     "metadata": {},
     "output_type": "execute_result"
    }
   ],
   "source": [
    "listacombinacoesTestPred[13]"
   ]
  },
  {
   "cell_type": "code",
   "execution_count": 141,
   "metadata": {},
   "outputs": [
    {
     "name": "stdout",
     "output_type": "stream",
     "text": [
      "agora, com pipeline... regiao CRF binario, cluster 300, janela 4 => com pipeline\n",
      "len(regiao_pred): 3355\n",
      "len(regiao_true): 3355\n",
      "regiao_pred[:4]: ['1', '1', '0', '0']\n",
      "regiao_true[:4]: ['1', '1', '0', '0']\n",
      "              precision    recall  f1-score   support\n",
      "\n",
      "           1      0.841     0.849     0.845       906\n",
      "           0      0.944     0.941     0.942      2449\n",
      "\n",
      "    accuracy                          0.916      3355\n",
      "   macro avg      0.893     0.895     0.894      3355\n",
      "weighted avg      0.916     0.916     0.916      3355\n",
      "\n"
     ]
    }
   ],
   "source": [
    "CLUSTER=300\n",
    "word2cluster = read_clusters(r\"cluster/cluster-300.tsv\")\n",
    "#dic_predictions = f.getDicPredictions(y_pred, allTokens)\n",
    "\n",
    "print('agora, com pipeline... regiao CRF binario, cluster 300, janela 4 => com pipeline')\n",
    "\n",
    "#listacombinacoesTestPred, dicPred = getListaCombinacoes(dic_predictions)\n",
    "listacombinacoesTestPred, dicPred = getListaCombinacoes(dic_predictions_ner_bert)\n",
    "\n",
    "X_test = [sent2features(s, word2cluster, dicPostagger) for s in listacombinacoesTestPred]\n",
    "#y_test = [sent2labels(s) for s in listacombinacoesTest]\n",
    "\n",
    "OUTPUT_PATH = \"CRF\"\n",
    "OUTPUT_FILE = \"crf_model_binario_regiao\"\n",
    "crf = joblib.load(os.path.join(OUTPUT_PATH, OUTPUT_FILE))\n",
    "y_pred = crf.predict(X_test)\n",
    "\n",
    "dic_sentencesTest2={}\n",
    "num=0\n",
    "for key, value in dic_sentencesTest.items():\n",
    "    if value[1]:\n",
    "        dic_sentencesTest2[num] = dic_sentencesTest[key]\n",
    "        num=num+1\n",
    "        \n",
    "        #dic_sentencesTest\n",
    "    \n",
    "regiao_true=list()\n",
    "regiao_pred=list()\n",
    "\n",
    "dicLabels={'O':'0', 'ENT':'1', 'Problema':'1', 'Tratamento':'1', 'Teste':'1', 'Anatomia':'1'}\n",
    "\n",
    "num=0\n",
    "for ent, label in zip(listacombinacoesTestPred, y_pred):\n",
    "    #print(num)\n",
    "    #print(ent)\n",
    "    numKey=dicPred[num]\n",
    "    listaTrue=dic_sentencesTest[numKey][1]\n",
    "    num=num+1\n",
    "    #print(listaTrue)\n",
    "    for entidade in ent:\n",
    "        textoEntidade=entidade[0]\n",
    "        labelEntidade=dicLabels[entidade[3]]\n",
    "        labelEntidadeTrue='0'\n",
    "        #print(textoEntidade)\n",
    "        tem=0\n",
    "        for entTrue in listaTrue:\n",
    "            textoEntidadeTrue=entTrue[0]\n",
    "            if textoEntidade == textoEntidadeTrue:\n",
    "                #print('temmm:', textoEntidade)\n",
    "                labelEntidadeTrue = dicLabels[entTrue[2]]\n",
    "                tem=1\n",
    "                break\n",
    "        if tem==1:\n",
    "            if labelEntidade == labelEntidadeTrue:\n",
    "                regiao_true.append(labelEntidadeTrue)\n",
    "                regiao_pred.append(labelEntidade)\n",
    "            else:\n",
    "                #print('aaaaaaaaaaaaa',textoEntidade)\n",
    "                #print(num)\n",
    "                regiao_true.append(labelEntidadeTrue)\n",
    "                regiao_pred.append(labelEntidade)\n",
    "        else:\n",
    "            #if labelEntidade!='0':\n",
    "                #print('nao temmm:{}, {}'.format(textoEntidade,labelEntidade))\n",
    "                #print(num)\n",
    "            regiao_true.append(labelEntidadeTrue)\n",
    "            regiao_pred.append(labelEntidade)\n",
    "                \n",
    "    #if num>40:\n",
    "    #    break\n",
    "print('len(regiao_pred):', len(regiao_pred))\n",
    "print('len(regiao_true):', len(regiao_true))\n",
    "\n",
    "print('regiao_pred[:4]:', regiao_pred[:4])\n",
    "print('regiao_true[:4]:', regiao_true[:4])\n",
    "\n",
    "print(flat_classification_report(\n",
    "    regiao_pred, regiao_true, labels=['1','0'], digits=3\n",
    "))"
   ]
  },
  {
   "cell_type": "code",
   "execution_count": 137,
   "metadata": {},
   "outputs": [
    {
     "data": {
      "text/plain": [
       "[[['calcificação', 0],\n",
       "  ['mitral', 1],\n",
       "  ['e', 2],\n",
       "  ['aórtica', 3],\n",
       "  ['com', 4],\n",
       "  ['refluxo', 5],\n",
       "  ['leve', 6],\n",
       "  ['.', 7]],\n",
       " [['calcificação', [0], 'Problema'],\n",
       "  ['mitral', [1], 'Tratamento'],\n",
       "  ['e', [2], 'Problema'],\n",
       "  ['aórtica', [3], 'Anatomia'],\n",
       "  ['refluxo leve', [5, 6], 'Problema']]]"
      ]
     },
     "execution_count": 137,
     "metadata": {},
     "output_type": "execute_result"
    }
   ],
   "source": [
    "dic_predictions[15]"
   ]
  },
  {
   "cell_type": "code",
   "execution_count": 156,
   "metadata": {},
   "outputs": [
    {
     "data": {
      "text/plain": [
       "[['calcificação', [], ['mitral', 'e', 'aórtica', 'com'], 'ENT'],\n",
       " ['mitral', ['calcificação'], ['e', 'aórtica', 'com', 'refluxo'], 'ENT'],\n",
       " ['e',\n",
       "  ['calcificação', 'mitral'],\n",
       "  ['aórtica', 'com', 'refluxo', 'leve'],\n",
       "  'ENT'],\n",
       " ['aórtica',\n",
       "  ['calcificação', 'mitral', 'e'],\n",
       "  ['com', 'refluxo', 'leve', '.'],\n",
       "  'ENT'],\n",
       " ['refluxo leve', ['mitral', 'e', 'aórtica', 'com'], ['.'], 'ENT'],\n",
       " ['refluxo', ['mitral', 'e', 'aórtica', 'com'], ['leve', '.'], 'O'],\n",
       " ['leve', ['e', 'aórtica', 'com', 'refluxo'], ['.'], 'O']]"
      ]
     },
     "execution_count": 156,
     "metadata": {},
     "output_type": "execute_result"
    }
   ],
   "source": [
    "listacombinacoesTestPred[13]"
   ]
  },
  {
   "cell_type": "code",
   "execution_count": 157,
   "metadata": {},
   "outputs": [
    {
     "data": {
      "text/plain": [
       "['O', 'O', 'O', 'O', 'O', 'O', 'O']"
      ]
     },
     "execution_count": 157,
     "metadata": {},
     "output_type": "execute_result"
    }
   ],
   "source": [
    "y_pred[13]"
   ]
  },
  {
   "cell_type": "code",
   "execution_count": 203,
   "metadata": {},
   "outputs": [
    {
     "data": {
      "text/plain": [
       "{0: 1,\n",
       " 1: 2,\n",
       " 2: 3,\n",
       " 3: 4,\n",
       " 4: 6,\n",
       " 5: 7,\n",
       " 6: 8,\n",
       " 7: 9,\n",
       " 8: 10,\n",
       " 9: 11,\n",
       " 10: 12,\n",
       " 11: 13,\n",
       " 12: 14,\n",
       " 13: 15,\n",
       " 14: 16,\n",
       " 15: 17,\n",
       " 16: 18,\n",
       " 17: 19,\n",
       " 18: 20,\n",
       " 19: 23,\n",
       " 20: 24,\n",
       " 21: 25,\n",
       " 22: 26,\n",
       " 23: 27,\n",
       " 24: 28,\n",
       " 25: 30,\n",
       " 26: 31,\n",
       " 27: 32,\n",
       " 28: 33,\n",
       " 29: 34,\n",
       " 30: 35,\n",
       " 31: 36,\n",
       " 32: 37,\n",
       " 33: 38,\n",
       " 34: 41,\n",
       " 35: 42,\n",
       " 36: 43,\n",
       " 37: 44,\n",
       " 38: 45,\n",
       " 39: 46,\n",
       " 40: 47,\n",
       " 41: 48,\n",
       " 42: 49,\n",
       " 43: 50,\n",
       " 44: 51,\n",
       " 45: 52,\n",
       " 46: 53,\n",
       " 47: 54,\n",
       " 48: 56,\n",
       " 49: 58,\n",
       " 50: 59,\n",
       " 51: 60,\n",
       " 52: 61,\n",
       " 53: 62,\n",
       " 54: 63,\n",
       " 55: 64,\n",
       " 56: 65,\n",
       " 57: 66,\n",
       " 58: 67,\n",
       " 59: 68,\n",
       " 60: 69,\n",
       " 61: 70,\n",
       " 62: 71,\n",
       " 63: 72,\n",
       " 64: 74,\n",
       " 65: 75,\n",
       " 66: 76,\n",
       " 67: 77,\n",
       " 68: 78,\n",
       " 69: 79,\n",
       " 70: 80,\n",
       " 71: 82,\n",
       " 72: 83,\n",
       " 73: 84,\n",
       " 74: 85,\n",
       " 75: 86,\n",
       " 76: 87,\n",
       " 77: 88,\n",
       " 78: 89,\n",
       " 79: 90,\n",
       " 80: 93,\n",
       " 81: 94,\n",
       " 82: 95,\n",
       " 83: 97,\n",
       " 84: 98,\n",
       " 85: 99,\n",
       " 86: 101,\n",
       " 87: 103,\n",
       " 88: 104,\n",
       " 89: 105,\n",
       " 90: 106,\n",
       " 91: 107,\n",
       " 92: 109,\n",
       " 93: 110,\n",
       " 94: 111,\n",
       " 95: 112,\n",
       " 96: 113,\n",
       " 97: 114,\n",
       " 98: 115,\n",
       " 99: 116,\n",
       " 100: 117,\n",
       " 101: 118,\n",
       " 102: 119,\n",
       " 103: 121,\n",
       " 104: 123,\n",
       " 105: 124,\n",
       " 106: 130,\n",
       " 107: 131,\n",
       " 108: 132,\n",
       " 109: 133,\n",
       " 110: 134,\n",
       " 111: 135,\n",
       " 112: 136,\n",
       " 113: 137,\n",
       " 114: 138,\n",
       " 115: 139,\n",
       " 116: 140,\n",
       " 117: 141,\n",
       " 118: 142,\n",
       " 119: 143,\n",
       " 120: 144,\n",
       " 121: 145,\n",
       " 122: 146,\n",
       " 123: 148,\n",
       " 124: 149,\n",
       " 125: 150,\n",
       " 126: 151,\n",
       " 127: 152,\n",
       " 128: 153,\n",
       " 129: 154,\n",
       " 130: 155,\n",
       " 131: 157,\n",
       " 132: 158,\n",
       " 133: 159,\n",
       " 134: 161,\n",
       " 135: 162,\n",
       " 136: 163,\n",
       " 137: 164,\n",
       " 138: 165,\n",
       " 139: 166,\n",
       " 140: 167,\n",
       " 141: 168,\n",
       " 142: 170,\n",
       " 143: 171,\n",
       " 144: 172,\n",
       " 145: 173,\n",
       " 146: 174,\n",
       " 147: 175,\n",
       " 148: 177,\n",
       " 149: 178,\n",
       " 150: 180,\n",
       " 151: 181,\n",
       " 152: 182,\n",
       " 153: 183,\n",
       " 154: 184,\n",
       " 155: 185,\n",
       " 156: 188,\n",
       " 157: 189,\n",
       " 158: 190,\n",
       " 159: 192,\n",
       " 160: 194,\n",
       " 161: 195,\n",
       " 162: 198,\n",
       " 163: 199,\n",
       " 164: 200,\n",
       " 165: 201,\n",
       " 166: 202,\n",
       " 167: 203,\n",
       " 168: 204,\n",
       " 169: 205,\n",
       " 170: 206,\n",
       " 171: 207,\n",
       " 172: 208,\n",
       " 173: 209,\n",
       " 174: 211,\n",
       " 175: 212,\n",
       " 176: 213,\n",
       " 177: 215,\n",
       " 178: 216,\n",
       " 179: 217,\n",
       " 180: 218,\n",
       " 181: 220,\n",
       " 182: 221,\n",
       " 183: 222,\n",
       " 184: 223,\n",
       " 185: 224,\n",
       " 186: 225,\n",
       " 187: 227,\n",
       " 188: 228,\n",
       " 189: 229,\n",
       " 190: 230,\n",
       " 191: 231,\n",
       " 192: 233,\n",
       " 193: 234,\n",
       " 194: 235,\n",
       " 195: 236,\n",
       " 196: 237,\n",
       " 197: 238,\n",
       " 198: 239,\n",
       " 199: 240,\n",
       " 200: 242,\n",
       " 201: 243,\n",
       " 202: 244,\n",
       " 203: 245,\n",
       " 204: 246,\n",
       " 205: 247,\n",
       " 206: 248,\n",
       " 207: 249,\n",
       " 208: 250,\n",
       " 209: 251,\n",
       " 210: 252,\n",
       " 211: 253,\n",
       " 212: 254,\n",
       " 213: 255,\n",
       " 214: 256,\n",
       " 215: 257,\n",
       " 216: 258,\n",
       " 217: 259,\n",
       " 218: 260,\n",
       " 219: 261,\n",
       " 220: 263,\n",
       " 221: 264,\n",
       " 222: 265,\n",
       " 223: 266,\n",
       " 224: 267,\n",
       " 225: 269,\n",
       " 226: 270,\n",
       " 227: 272,\n",
       " 228: 273,\n",
       " 229: 274,\n",
       " 230: 276,\n",
       " 231: 277,\n",
       " 232: 278,\n",
       " 233: 279,\n",
       " 234: 280,\n",
       " 235: 281,\n",
       " 236: 282,\n",
       " 237: 283,\n",
       " 238: 284,\n",
       " 239: 286,\n",
       " 240: 287,\n",
       " 241: 288,\n",
       " 242: 289,\n",
       " 243: 290,\n",
       " 244: 293,\n",
       " 245: 294,\n",
       " 246: 295,\n",
       " 247: 296,\n",
       " 248: 298,\n",
       " 249: 299,\n",
       " 250: 300,\n",
       " 251: 301,\n",
       " 252: 302,\n",
       " 253: 303,\n",
       " 254: 304,\n",
       " 255: 305,\n",
       " 256: 308,\n",
       " 257: 309,\n",
       " 258: 310,\n",
       " 259: 311,\n",
       " 260: 312,\n",
       " 261: 313,\n",
       " 262: 314,\n",
       " 263: 315,\n",
       " 264: 316,\n",
       " 265: 317,\n",
       " 266: 318,\n",
       " 267: 319,\n",
       " 268: 320,\n",
       " 269: 321,\n",
       " 270: 322,\n",
       " 271: 323,\n",
       " 272: 324,\n",
       " 273: 325,\n",
       " 274: 327,\n",
       " 275: 328,\n",
       " 276: 331,\n",
       " 277: 332,\n",
       " 278: 333,\n",
       " 279: 334,\n",
       " 280: 335,\n",
       " 281: 336,\n",
       " 282: 337,\n",
       " 283: 338,\n",
       " 284: 339,\n",
       " 285: 340,\n",
       " 286: 341,\n",
       " 287: 342,\n",
       " 288: 344,\n",
       " 289: 345,\n",
       " 290: 346,\n",
       " 291: 349,\n",
       " 292: 350,\n",
       " 293: 351,\n",
       " 294: 352,\n",
       " 295: 353,\n",
       " 296: 354,\n",
       " 297: 355,\n",
       " 298: 356,\n",
       " 299: 357,\n",
       " 300: 358,\n",
       " 301: 359,\n",
       " 302: 360,\n",
       " 303: 361,\n",
       " 304: 362,\n",
       " 305: 363,\n",
       " 306: 364,\n",
       " 307: 365,\n",
       " 308: 366,\n",
       " 309: 368,\n",
       " 310: 369,\n",
       " 311: 370,\n",
       " 312: 371,\n",
       " 313: 372,\n",
       " 314: 373,\n",
       " 315: 374,\n",
       " 316: 375,\n",
       " 317: 376,\n",
       " 318: 377,\n",
       " 319: 378,\n",
       " 320: 379,\n",
       " 321: 380,\n",
       " 322: 381,\n",
       " 323: 384,\n",
       " 324: 385,\n",
       " 325: 386,\n",
       " 326: 387,\n",
       " 327: 388,\n",
       " 328: 390,\n",
       " 329: 392,\n",
       " 330: 393,\n",
       " 331: 394,\n",
       " 332: 395,\n",
       " 333: 399,\n",
       " 334: 401,\n",
       " 335: 402,\n",
       " 336: 404,\n",
       " 337: 407,\n",
       " 338: 408,\n",
       " 339: 409,\n",
       " 340: 410,\n",
       " 341: 412,\n",
       " 342: 413,\n",
       " 343: 414,\n",
       " 344: 415,\n",
       " 345: 416,\n",
       " 346: 418,\n",
       " 347: 419,\n",
       " 348: 420,\n",
       " 349: 421,\n",
       " 350: 422,\n",
       " 351: 423,\n",
       " 352: 424,\n",
       " 353: 425,\n",
       " 354: 426,\n",
       " 355: 430,\n",
       " 356: 431,\n",
       " 357: 432,\n",
       " 358: 438,\n",
       " 359: 439,\n",
       " 360: 440,\n",
       " 361: 442,\n",
       " 362: 443,\n",
       " 363: 444,\n",
       " 364: 445,\n",
       " 365: 446,\n",
       " 366: 447,\n",
       " 367: 448,\n",
       " 368: 449,\n",
       " 369: 450,\n",
       " 370: 451,\n",
       " 371: 452,\n",
       " 372: 453,\n",
       " 373: 454,\n",
       " 374: 455,\n",
       " 375: 456,\n",
       " 376: 457,\n",
       " 377: 458,\n",
       " 378: 459,\n",
       " 379: 461,\n",
       " 380: 462,\n",
       " 381: 463,\n",
       " 382: 464,\n",
       " 383: 465,\n",
       " 384: 469,\n",
       " 385: 470,\n",
       " 386: 471,\n",
       " 387: 472,\n",
       " 388: 473,\n",
       " 389: 474,\n",
       " 390: 476,\n",
       " 391: 477,\n",
       " 392: 478,\n",
       " 393: 479,\n",
       " 394: 480,\n",
       " 395: 481,\n",
       " 396: 482,\n",
       " 397: 483,\n",
       " 398: 484,\n",
       " 399: 486,\n",
       " 400: 488,\n",
       " 401: 489,\n",
       " 402: 490,\n",
       " 403: 491,\n",
       " 404: 492,\n",
       " 405: 496,\n",
       " 406: 498,\n",
       " 407: 499,\n",
       " 408: 500,\n",
       " 409: 501,\n",
       " 410: 503,\n",
       " 411: 505}"
      ]
     },
     "execution_count": 203,
     "metadata": {},
     "output_type": "execute_result"
    }
   ],
   "source": [
    "dicPred"
   ]
  },
  {
   "cell_type": "code",
   "execution_count": 226,
   "metadata": {},
   "outputs": [
    {
     "name": "stdout",
     "output_type": "stream",
     "text": [
      "[]\n"
     ]
    }
   ],
   "source": [
    "#formato:\n",
    "#dicPred\n",
    "listaPredictRegiao = list()\n",
    "listaPredictFrases = list()\n",
    "#dicPred2={}\n",
    "num=0\n",
    "for labels, regioes in zip(y_pred, listacombinacoesTestPred):\n",
    "    #print('labels:', labels)\n",
    "    #print('regioes:', regioes)\n",
    "    #print('num:', num)\n",
    "    numKey=dicPred[num]\n",
    "    #listaTrue=dic_sentencesTest[numKey][1]\n",
    "    allTokens = dic_sentencesTest[numKey][0]\n",
    "    #allTokens = dic_sentencesTest[num][0]\n",
    "    frase=' '.join([a[0] for a in allTokens])\n",
    "    #print('frase:', frase)\n",
    "    for label, regiao in zip(labels, regioes):\n",
    "        #print(label)\n",
    "        #print(regiao)\n",
    "        #listaPredictRegiao.append([regiao, frase, indices, label])\n",
    "        if label == 'ENT':\n",
    "            listaPredictRegiao.append([regiao[0], frase])\n",
    "    #if len(listaPredictRegiao)>0:\n",
    "    #    listaPredictFrases.append(listaPredictRegiao)\n",
    "    #    listaPredictRegiao = list()\n",
    "    listaPredictFrases.append(listaPredictRegiao)\n",
    "    listaPredictRegiao = list()\n",
    "    #else:\n",
    "    #    print('naooo tem num:', num)\n",
    "    num=num+1\n",
    "    #dicPred2[num] = numKey\n",
    "    \n",
    "print(listaPredictFrases[13])\n",
    "#dicPred2\n"
   ]
  },
  {
   "cell_type": "code",
   "execution_count": 234,
   "metadata": {},
   "outputs": [
    {
     "data": {
      "text/plain": [
       "[[['aumento moderado de átrio esquerdo',\n",
       "   'aumento moderado de átrio esquerdo .']],\n",
       " [],\n",
       " [['FA', 'A : FA .']]]"
      ]
     },
     "execution_count": 234,
     "metadata": {},
     "output_type": "execute_result"
    }
   ],
   "source": [
    "listaPredictFrases[12:15]"
   ]
  },
  {
   "cell_type": "markdown",
   "metadata": {},
   "source": [
    "# Agora,  pipeline completo"
   ]
  },
  {
   "cell_type": "code",
   "execution_count": 42,
   "metadata": {},
   "outputs": [
    {
     "name": "stdout",
     "output_type": "stream",
     "text": [
      "-----Avaliando só com modelo de Sentence Pairs:-----\n"
     ]
    }
   ],
   "source": [
    "from simpletransformers.classification import (\n",
    "    ClassificationModel, ClassificationArgs\n",
    ")\n",
    "import pandas as pd\n",
    "import logging\n",
    "\n",
    "print('-----Avaliando só com modelo de Sentence Pairs:-----')\n",
    "model = ClassificationModel('bert', 'lisaterumi/sentence_pairs_nested_positivos', use_cuda=False)\n"
   ]
  },
  {
   "cell_type": "code",
   "execution_count": 43,
   "metadata": {},
   "outputs": [
    {
     "data": {
      "application/vnd.jupyter.widget-view+json": {
       "model_id": "3d230cbb907148c587663753d5cd0daf",
       "version_major": 2,
       "version_minor": 0
      },
      "text/plain": [
       "  0%|          | 0/6 [00:00<?, ?it/s]"
      ]
     },
     "metadata": {},
     "output_type": "display_data"
    },
    {
     "data": {
      "application/vnd.jupyter.widget-view+json": {
       "model_id": "f60d928746c446a0886a02b44bb1ee6c",
       "version_major": 2,
       "version_minor": 0
      },
      "text/plain": [
       "  0%|          | 0/1 [00:00<?, ?it/s]"
      ]
     },
     "metadata": {},
     "output_type": "display_data"
    },
    {
     "data": {
      "text/plain": [
       "array([0, 0, 1, 1, 1, 1], dtype=int64)"
      ]
     },
     "execution_count": 43,
     "metadata": {},
     "output_type": "execute_result"
    }
   ],
   "source": [
    "predictions_teste, _ = model.predict([['Comorbidades', 'Comorbidades : DM há 10 anos em uso de metformina 850mg 3 cp / dia , acarbose 1 cp / dia e glicazida 60mg 2 cp / dia e insulina ( 24 - 0 - 24 ) .'], ['DM', 'Comorbidades : DM há 10 anos em uso de metformina 850mg 3 cp / dia , acarbose 1 cp / dia e glicazida 60mg 2 cp / dia e insulina ( 24 - 0 - 24 ) .'], ['metformina 850mg', 'Comorbidades : DM há 10 anos em uso de metformina 850mg 3 cp / dia , acarbose 1 cp / dia e glicazida 60mg 2 cp / dia e insulina ( 24 - 0 - 24 ) .'], ['acarbose', 'Comorbidades : DM há 10 anos em uso de metformina 850mg 3 cp / dia , acarbose 1 cp / dia e glicazida 60mg 2 cp / dia e insulina ( 24 - 0 - 24 ) .'], ['glicazida 60mg', 'Comorbidades : DM há 10 anos em uso de metformina 850mg 3 cp / dia , acarbose 1 cp / dia e glicazida 60mg 2 cp / dia e insulina ( 24 - 0 - 24 ) .'], ['insulina', 'Comorbidades : DM há 10 anos em uso de metformina 850mg 3 cp / dia , acarbose 1 cp / dia e glicazida 60mg 2 cp / dia e insulina ( 24 - 0 - 24 ) .']]) \n",
    "predictions_teste"
   ]
  },
  {
   "cell_type": "code",
   "execution_count": 114,
   "metadata": {},
   "outputs": [
    {
     "data": {
      "application/vnd.jupyter.widget-view+json": {
       "model_id": "09c72e2a455847af956d07706b376352",
       "version_major": 2,
       "version_minor": 0
      },
      "text/plain": [
       "  0%|          | 0/3 [00:00<?, ?it/s]"
      ]
     },
     "metadata": {},
     "output_type": "display_data"
    },
    {
     "data": {
      "application/vnd.jupyter.widget-view+json": {
       "model_id": "e1276f568dc140cc842a08e3ed8dac6e",
       "version_major": 2,
       "version_minor": 0
      },
      "text/plain": [
       "  0%|          | 0/1 [00:00<?, ?it/s]"
      ]
     },
     "metadata": {},
     "output_type": "display_data"
    },
    {
     "data": {
      "text/plain": [
       "array([2, 2, 0], dtype=int64)"
      ]
     },
     "execution_count": 114,
     "metadata": {},
     "output_type": "execute_result"
    }
   ],
   "source": [
    "predictions_teste, _ = model.predict([['PA',\n",
    "  'PA - 120 / 80 , P - 72 , bulhas arritimicas , normofonéticas , sem sopros .'],\n",
    " ['P',\n",
    "  'PA - 120 / 80 , P - 72 , bulhas arritimicas , normofonéticas , sem sopros .'],\n",
    " ['sopros',\n",
    "  'PA - 120 / 80 , P - 72 , bulhas arritimicas , normofonéticas , sem sopros .']]) \n",
    "predictions_teste"
   ]
  },
  {
   "cell_type": "code",
   "execution_count": 286,
   "metadata": {},
   "outputs": [
    {
     "name": "stdout",
     "output_type": "stream",
     "text": [
      "Chamando predict\n",
      "lista: [['FA', 'Em acompanhamento no ambualtorio há 5 anos por FA , uso de marevan 5mg 1 x ao dia .'], ['marevan 5mg', 'Em acompanhamento no ambualtorio há 5 anos por FA , uso de marevan 5mg 1 x ao dia .']]\n"
     ]
    },
    {
     "data": {
      "application/vnd.jupyter.widget-view+json": {
       "model_id": "af11867487874591889df6909a9d8a0c",
       "version_major": 2,
       "version_minor": 0
      },
      "text/plain": [
       "  0%|          | 0/2 [00:00<?, ?it/s]"
      ]
     },
     "metadata": {},
     "output_type": "display_data"
    },
    {
     "data": {
      "application/vnd.jupyter.widget-view+json": {
       "model_id": "19fc87c53a1d4028b7b7f67c052cff6f",
       "version_major": 2,
       "version_minor": 0
      },
      "text/plain": [
       "  0%|          | 0/1 [00:00<?, ?it/s]"
      ]
     },
     "metadata": {},
     "output_type": "display_data"
    },
    {
     "name": "stdout",
     "output_type": "stream",
     "text": [
      "predictions: [0 1]\n",
      "lista: [['Comorbidades', 'Comorbidades : DM há 10 anos em uso de metformina 850mg 3 cp / dia , acarbose 1 cp / dia e glicazida 60mg 2 cp / dia e insulina ( 24 - 0 - 24 ) .'], ['DM', 'Comorbidades : DM há 10 anos em uso de metformina 850mg 3 cp / dia , acarbose 1 cp / dia e glicazida 60mg 2 cp / dia e insulina ( 24 - 0 - 24 ) .'], ['metformina 850mg', 'Comorbidades : DM há 10 anos em uso de metformina 850mg 3 cp / dia , acarbose 1 cp / dia e glicazida 60mg 2 cp / dia e insulina ( 24 - 0 - 24 ) .'], ['acarbose', 'Comorbidades : DM há 10 anos em uso de metformina 850mg 3 cp / dia , acarbose 1 cp / dia e glicazida 60mg 2 cp / dia e insulina ( 24 - 0 - 24 ) .'], ['glicazida 60mg', 'Comorbidades : DM há 10 anos em uso de metformina 850mg 3 cp / dia , acarbose 1 cp / dia e glicazida 60mg 2 cp / dia e insulina ( 24 - 0 - 24 ) .'], ['insulina', 'Comorbidades : DM há 10 anos em uso de metformina 850mg 3 cp / dia , acarbose 1 cp / dia e glicazida 60mg 2 cp / dia e insulina ( 24 - 0 - 24 ) .']]\n"
     ]
    },
    {
     "data": {
      "application/vnd.jupyter.widget-view+json": {
       "model_id": "e845c46fee074bf6b30677a9beeca261",
       "version_major": 2,
       "version_minor": 0
      },
      "text/plain": [
       "  0%|          | 0/6 [00:00<?, ?it/s]"
      ]
     },
     "metadata": {},
     "output_type": "display_data"
    },
    {
     "data": {
      "application/vnd.jupyter.widget-view+json": {
       "model_id": "93184ed1906f49b59ea55c42c949dc81",
       "version_major": 2,
       "version_minor": 0
      },
      "text/plain": [
       "  0%|          | 0/1 [00:00<?, ?it/s]"
      ]
     },
     "metadata": {},
     "output_type": "display_data"
    },
    {
     "name": "stdout",
     "output_type": "stream",
     "text": [
      "predictions: [0 0 1 1 1 1]\n",
      "lista: [['HAS', 'HAS há 15 anos em uso de losartana 50mg / dia e digoxina 1 / 2 cp / dia , carvedilol 25 12 / 12 , HCTZ .'], ['losartana 50mg', 'HAS há 15 anos em uso de losartana 50mg / dia e digoxina 1 / 2 cp / dia , carvedilol 25 12 / 12 , HCTZ .'], ['digoxina', 'HAS há 15 anos em uso de losartana 50mg / dia e digoxina 1 / 2 cp / dia , carvedilol 25 12 / 12 , HCTZ .'], ['carvedilol 25', 'HAS há 15 anos em uso de losartana 50mg / dia e digoxina 1 / 2 cp / dia , carvedilol 25 12 / 12 , HCTZ .'], ['HCTZ', 'HAS há 15 anos em uso de losartana 50mg / dia e digoxina 1 / 2 cp / dia , carvedilol 25 12 / 12 , HCTZ .']]\n"
     ]
    },
    {
     "data": {
      "application/vnd.jupyter.widget-view+json": {
       "model_id": "199b1eeba0e44ec0bfff0d3f057c92fe",
       "version_major": 2,
       "version_minor": 0
      },
      "text/plain": [
       "  0%|          | 0/5 [00:00<?, ?it/s]"
      ]
     },
     "metadata": {},
     "output_type": "display_data"
    },
    {
     "data": {
      "application/vnd.jupyter.widget-view+json": {
       "model_id": "b05cbc3bc1f04f7c985d3ba54fc5f66e",
       "version_major": 2,
       "version_minor": 0
      },
      "text/plain": [
       "  0%|          | 0/1 [00:00<?, ?it/s]"
      ]
     },
     "metadata": {},
     "output_type": "display_data"
    },
    {
     "name": "stdout",
     "output_type": "stream",
     "text": [
      "predictions: [0 1 1 1 1]\n",
      "lista: [['DSLP', 'DSLP em uso de sinvastatina , marevan 1 cp / dia seg - sab para no alvo sic .'], ['sinvastatina', 'DSLP em uso de sinvastatina , marevan 1 cp / dia seg - sab para no alvo sic .'], ['marevan', 'DSLP em uso de sinvastatina , marevan 1 cp / dia seg - sab para no alvo sic .']]\n"
     ]
    },
    {
     "data": {
      "application/vnd.jupyter.widget-view+json": {
       "model_id": "84ed9fe1fd9e44bab6f60cf8a34f9649",
       "version_major": 2,
       "version_minor": 0
      },
      "text/plain": [
       "  0%|          | 0/3 [00:00<?, ?it/s]"
      ]
     },
     "metadata": {},
     "output_type": "display_data"
    },
    {
     "data": {
      "application/vnd.jupyter.widget-view+json": {
       "model_id": "14305d14bf22485fa6ad495027653655",
       "version_major": 2,
       "version_minor": 0
      },
      "text/plain": [
       "  0%|          | 0/1 [00:00<?, ?it/s]"
      ]
     },
     "metadata": {},
     "output_type": "display_data"
    },
    {
     "name": "stdout",
     "output_type": "stream",
     "text": [
      "predictions: [0 1 1]\n",
      "lista: [['dispnéia', 'Nega dispnéia , DPN e ortopneia , palpitações e sincope .'], ['DPN', 'Nega dispnéia , DPN e ortopneia , palpitações e sincope .'], ['ortopneia', 'Nega dispnéia , DPN e ortopneia , palpitações e sincope .'], ['palpitações', 'Nega dispnéia , DPN e ortopneia , palpitações e sincope .'], ['sincope', 'Nega dispnéia , DPN e ortopneia , palpitações e sincope .']]\n"
     ]
    },
    {
     "data": {
      "application/vnd.jupyter.widget-view+json": {
       "model_id": "315accd19a374cc19de238de47040251",
       "version_major": 2,
       "version_minor": 0
      },
      "text/plain": [
       "  0%|          | 0/5 [00:00<?, ?it/s]"
      ]
     },
     "metadata": {},
     "output_type": "display_data"
    },
    {
     "data": {
      "application/vnd.jupyter.widget-view+json": {
       "model_id": "3543586291ad415eb68631c663ee4c29",
       "version_major": 2,
       "version_minor": 0
      },
      "text/plain": [
       "  0%|          | 0/1 [00:00<?, ?it/s]"
      ]
     },
     "metadata": {},
     "output_type": "display_data"
    },
    {
     "name": "stdout",
     "output_type": "stream",
     "text": [
      "predictions: [0 0 0 0 0]\n",
      "lista: [['afebril', 'O : BEG , corada , hidtratada , afebril , fc 63 , so2 97 % , pa 130 / 80 ; MV presente , simétrico , sem RA .'], ['so2', 'O : BEG , corada , hidtratada , afebril , fc 63 , so2 97 % , pa 130 / 80 ; MV presente , simétrico , sem RA .'], ['pa', 'O : BEG , corada , hidtratada , afebril , fc 63 , so2 97 % , pa 130 / 80 ; MV presente , simétrico , sem RA .'], ['RA', 'O : BEG , corada , hidtratada , afebril , fc 63 , so2 97 % , pa 130 / 80 ; MV presente , simétrico , sem RA .']]\n"
     ]
    },
    {
     "data": {
      "application/vnd.jupyter.widget-view+json": {
       "model_id": "c8e3c2dc67434a28b024b1649f914a33",
       "version_major": 2,
       "version_minor": 0
      },
      "text/plain": [
       "  0%|          | 0/4 [00:00<?, ?it/s]"
      ]
     },
     "metadata": {},
     "output_type": "display_data"
    },
    {
     "data": {
      "application/vnd.jupyter.widget-view+json": {
       "model_id": "208f4b6e8d184dbfb2b670b556fce882",
       "version_major": 2,
       "version_minor": 0
      },
      "text/plain": [
       "  0%|          | 0/1 [00:00<?, ?it/s]"
      ]
     },
     "metadata": {},
     "output_type": "display_data"
    },
    {
     "name": "stdout",
     "output_type": "stream",
     "text": [
      "predictions: [0 2 2 0]\n",
      "lista: [['SS', 'BC arritmicas , NF SS 2T .']]\n"
     ]
    },
    {
     "data": {
      "application/vnd.jupyter.widget-view+json": {
       "model_id": "35ee022f9c9345a3a2fc8091deab263a",
       "version_major": 2,
       "version_minor": 0
      },
      "text/plain": [
       "  0%|          | 0/1 [00:00<?, ?it/s]"
      ]
     },
     "metadata": {},
     "output_type": "display_data"
    },
    {
     "data": {
      "application/vnd.jupyter.widget-view+json": {
       "model_id": "161ea01ed5a648439938340db713958b",
       "version_major": 2,
       "version_minor": 0
      },
      "text/plain": [
       "  0%|          | 0/1 [00:00<?, ?it/s]"
      ]
     },
     "metadata": {},
     "output_type": "display_data"
    },
    {
     "name": "stdout",
     "output_type": "stream",
     "text": [
      "predictions: [0]\n",
      "lista: [['Abd', 'Abd globoso , flacido , indolor a palpacao , sem VCM .'], ['VCM', 'Abd globoso , flacido , indolor a palpacao , sem VCM .']]\n"
     ]
    },
    {
     "data": {
      "application/vnd.jupyter.widget-view+json": {
       "model_id": "a5617b0cbd3f46ec8345799b6fd20cd1",
       "version_major": 2,
       "version_minor": 0
      },
      "text/plain": [
       "  0%|          | 0/2 [00:00<?, ?it/s]"
      ]
     },
     "metadata": {},
     "output_type": "display_data"
    },
    {
     "data": {
      "application/vnd.jupyter.widget-view+json": {
       "model_id": "cb2cfa67c884402ba1c3416029453001",
       "version_major": 2,
       "version_minor": 0
      },
      "text/plain": [
       "  0%|          | 0/1 [00:00<?, ?it/s]"
      ]
     },
     "metadata": {},
     "output_type": "display_data"
    },
    {
     "name": "stdout",
     "output_type": "stream",
     "text": [
      "predictions: [3 0]\n",
      "lista: [['MMII', 'MMII sem edema , panturrilhas livres .']]\n"
     ]
    },
    {
     "data": {
      "application/vnd.jupyter.widget-view+json": {
       "model_id": "5b0149fedc2a46f5a41e6cd2cfa74224",
       "version_major": 2,
       "version_minor": 0
      },
      "text/plain": [
       "  0%|          | 0/1 [00:00<?, ?it/s]"
      ]
     },
     "metadata": {},
     "output_type": "display_data"
    },
    {
     "data": {
      "application/vnd.jupyter.widget-view+json": {
       "model_id": "a5738cd88c6341c0a7e2d1d3efcdb965",
       "version_major": 2,
       "version_minor": 0
      },
      "text/plain": [
       "  0%|          | 0/1 [00:00<?, ?it/s]"
      ]
     },
     "metadata": {},
     "output_type": "display_data"
    },
    {
     "name": "stdout",
     "output_type": "stream",
     "text": [
      "predictions: [3]\n",
      "lista: [['Exames', 'Exames - Holter : FC controlada , media 92 .'], ['Holter', 'Exames - Holter : FC controlada , media 92 .']]\n"
     ]
    },
    {
     "data": {
      "application/vnd.jupyter.widget-view+json": {
       "model_id": "ac6f8558c0334e0491b5daa420390667",
       "version_major": 2,
       "version_minor": 0
      },
      "text/plain": [
       "  0%|          | 0/2 [00:00<?, ?it/s]"
      ]
     },
     "metadata": {},
     "output_type": "display_data"
    },
    {
     "data": {
      "application/vnd.jupyter.widget-view+json": {
       "model_id": "c30280ca8afd45a19aa684803ea818e9",
       "version_major": 2,
       "version_minor": 0
      },
      "text/plain": [
       "  0%|          | 0/1 [00:00<?, ?it/s]"
      ]
     },
     "metadata": {},
     "output_type": "display_data"
    },
    {
     "name": "stdout",
     "output_type": "stream",
     "text": [
      "predictions: [2 2]\n",
      "lista: [['Cr', 'Cr - 0 , 7 ; glic - 140 ; ureia - 33 ; CPK - 68 , Triglerideos - 335 ; HDL - 30 ; CT - 216 ; LDL - 119 ; K - 5 , 1 ; RNI - 2 , 07 ; Microalbuminúria 308 mg / g .'], ['glic', 'Cr - 0 , 7 ; glic - 140 ; ureia - 33 ; CPK - 68 , Triglerideos - 335 ; HDL - 30 ; CT - 216 ; LDL - 119 ; K - 5 , 1 ; RNI - 2 , 07 ; Microalbuminúria 308 mg / g .'], ['ureia', 'Cr - 0 , 7 ; glic - 140 ; ureia - 33 ; CPK - 68 , Triglerideos - 335 ; HDL - 30 ; CT - 216 ; LDL - 119 ; K - 5 , 1 ; RNI - 2 , 07 ; Microalbuminúria 308 mg / g .'], ['CPK', 'Cr - 0 , 7 ; glic - 140 ; ureia - 33 ; CPK - 68 , Triglerideos - 335 ; HDL - 30 ; CT - 216 ; LDL - 119 ; K - 5 , 1 ; RNI - 2 , 07 ; Microalbuminúria 308 mg / g .'], ['Triglerideos', 'Cr - 0 , 7 ; glic - 140 ; ureia - 33 ; CPK - 68 , Triglerideos - 335 ; HDL - 30 ; CT - 216 ; LDL - 119 ; K - 5 , 1 ; RNI - 2 , 07 ; Microalbuminúria 308 mg / g .'], ['HDL', 'Cr - 0 , 7 ; glic - 140 ; ureia - 33 ; CPK - 68 , Triglerideos - 335 ; HDL - 30 ; CT - 216 ; LDL - 119 ; K - 5 , 1 ; RNI - 2 , 07 ; Microalbuminúria 308 mg / g .'], ['CT', 'Cr - 0 , 7 ; glic - 140 ; ureia - 33 ; CPK - 68 , Triglerideos - 335 ; HDL - 30 ; CT - 216 ; LDL - 119 ; K - 5 , 1 ; RNI - 2 , 07 ; Microalbuminúria 308 mg / g .'], ['LDL', 'Cr - 0 , 7 ; glic - 140 ; ureia - 33 ; CPK - 68 , Triglerideos - 335 ; HDL - 30 ; CT - 216 ; LDL - 119 ; K - 5 , 1 ; RNI - 2 , 07 ; Microalbuminúria 308 mg / g .'], ['K', 'Cr - 0 , 7 ; glic - 140 ; ureia - 33 ; CPK - 68 , Triglerideos - 335 ; HDL - 30 ; CT - 216 ; LDL - 119 ; K - 5 , 1 ; RNI - 2 , 07 ; Microalbuminúria 308 mg / g .'], ['RNI', 'Cr - 0 , 7 ; glic - 140 ; ureia - 33 ; CPK - 68 , Triglerideos - 335 ; HDL - 30 ; CT - 216 ; LDL - 119 ; K - 5 , 1 ; RNI - 2 , 07 ; Microalbuminúria 308 mg / g .']]\n"
     ]
    },
    {
     "data": {
      "application/vnd.jupyter.widget-view+json": {
       "model_id": "3a5da4bc2153498ba1054923b8a704f3",
       "version_major": 2,
       "version_minor": 0
      },
      "text/plain": [
       "  0%|          | 0/10 [00:00<?, ?it/s]"
      ]
     },
     "metadata": {},
     "output_type": "display_data"
    },
    {
     "data": {
      "application/vnd.jupyter.widget-view+json": {
       "model_id": "8e351248c1e34ddb90a05e1bf4b7d970",
       "version_major": 2,
       "version_minor": 0
      },
      "text/plain": [
       "  0%|          | 0/2 [00:00<?, ?it/s]"
      ]
     },
     "metadata": {},
     "output_type": "display_data"
    },
    {
     "name": "stdout",
     "output_type": "stream",
     "text": [
      "predictions: [2 2 2 2 2 2 2 2 2 2]\n",
      "lista: [['Ecocardiograma', 'Ecocardiograma - ventrículo esquerdo com hipertrofia concentrica de grau discreto e função sistólica preservada .'], ['concentrica de grau discreto', 'Ecocardiograma - ventrículo esquerdo com hipertrofia concentrica de grau discreto e função sistólica preservada .']]\n"
     ]
    },
    {
     "data": {
      "application/vnd.jupyter.widget-view+json": {
       "model_id": "41045f026e4049fb9a65d9f18508ed96",
       "version_major": 2,
       "version_minor": 0
      },
      "text/plain": [
       "  0%|          | 0/2 [00:00<?, ?it/s]"
      ]
     },
     "metadata": {},
     "output_type": "display_data"
    },
    {
     "data": {
      "application/vnd.jupyter.widget-view+json": {
       "model_id": "1131e752661047aaa177d8bf0eeed502",
       "version_major": 2,
       "version_minor": 0
      },
      "text/plain": [
       "  0%|          | 0/1 [00:00<?, ?it/s]"
      ]
     },
     "metadata": {},
     "output_type": "display_data"
    },
    {
     "name": "stdout",
     "output_type": "stream",
     "text": [
      "predictions: [2 0]\n",
      "lista: [['aumento moderado de átrio esquerdo', 'aumento moderado de átrio esquerdo .']]\n"
     ]
    },
    {
     "data": {
      "application/vnd.jupyter.widget-view+json": {
       "model_id": "71755ae1b84546be8ea0202f4b789a3c",
       "version_major": 2,
       "version_minor": 0
      },
      "text/plain": [
       "  0%|          | 0/1 [00:00<?, ?it/s]"
      ]
     },
     "metadata": {},
     "output_type": "display_data"
    },
    {
     "data": {
      "application/vnd.jupyter.widget-view+json": {
       "model_id": "84c27578516b47ef95d8835864a3139d",
       "version_major": 2,
       "version_minor": 0
      },
      "text/plain": [
       "  0%|          | 0/1 [00:00<?, ?it/s]"
      ]
     },
     "metadata": {},
     "output_type": "display_data"
    },
    {
     "name": "stdout",
     "output_type": "stream",
     "text": [
      "predictions: [0]\n",
      "combinacao vazia, key:  13\n",
      "lista: [['FA', 'A : FA .']]\n"
     ]
    },
    {
     "data": {
      "application/vnd.jupyter.widget-view+json": {
       "model_id": "2ca801fdbfb047e8aac2d53852ae4e3e",
       "version_major": 2,
       "version_minor": 0
      },
      "text/plain": [
       "  0%|          | 0/1 [00:00<?, ?it/s]"
      ]
     },
     "metadata": {},
     "output_type": "display_data"
    },
    {
     "data": {
      "application/vnd.jupyter.widget-view+json": {
       "model_id": "ad0cda98ce7648a99436f29e37eee048",
       "version_major": 2,
       "version_minor": 0
      },
      "text/plain": [
       "  0%|          | 0/1 [00:00<?, ?it/s]"
      ]
     },
     "metadata": {},
     "output_type": "display_data"
    },
    {
     "name": "stdout",
     "output_type": "stream",
     "text": [
      "predictions: [0]\n",
      "lista: [['PA', 'PA - 120 / 80 , P - 72 , bulhas arritimicas , normofonéticas , sem sopros .'], ['P', 'PA - 120 / 80 , P - 72 , bulhas arritimicas , normofonéticas , sem sopros .'], ['sopros', 'PA - 120 / 80 , P - 72 , bulhas arritimicas , normofonéticas , sem sopros .']]\n"
     ]
    },
    {
     "data": {
      "application/vnd.jupyter.widget-view+json": {
       "model_id": "aeb7d98f0a9f4006b3d00ceeb65147d9",
       "version_major": 2,
       "version_minor": 0
      },
      "text/plain": [
       "  0%|          | 0/3 [00:00<?, ?it/s]"
      ]
     },
     "metadata": {},
     "output_type": "display_data"
    },
    {
     "data": {
      "application/vnd.jupyter.widget-view+json": {
       "model_id": "26a1d2cd9fcf44ca81ba968406cfee1e",
       "version_major": 2,
       "version_minor": 0
      },
      "text/plain": [
       "  0%|          | 0/1 [00:00<?, ?it/s]"
      ]
     },
     "metadata": {},
     "output_type": "display_data"
    },
    {
     "name": "stdout",
     "output_type": "stream",
     "text": [
      "predictions: [2 2 0]\n",
      "lista: [['Abdomen', 'Abdomen flácido , indolor , sem visceromegalias .'], ['visceromegalias', 'Abdomen flácido , indolor , sem visceromegalias .']]\n"
     ]
    },
    {
     "data": {
      "application/vnd.jupyter.widget-view+json": {
       "model_id": "249e75f1b22e4c72964513e4c9136628",
       "version_major": 2,
       "version_minor": 0
      },
      "text/plain": [
       "  0%|          | 0/2 [00:00<?, ?it/s]"
      ]
     },
     "metadata": {},
     "output_type": "display_data"
    },
    {
     "data": {
      "application/vnd.jupyter.widget-view+json": {
       "model_id": "4686f4ea734246ed951bb9960a582930",
       "version_major": 2,
       "version_minor": 0
      },
      "text/plain": [
       "  0%|          | 0/1 [00:00<?, ?it/s]"
      ]
     },
     "metadata": {},
     "output_type": "display_data"
    },
    {
     "name": "stdout",
     "output_type": "stream",
     "text": [
      "predictions: [3 0]\n",
      "lista: [['alterações nos MMII', 'Sem alterações nos MMII .'], ['nos MMII', 'Sem alterações nos MMII .']]\n"
     ]
    },
    {
     "data": {
      "application/vnd.jupyter.widget-view+json": {
       "model_id": "6707367726784deebf24e676cd5328f6",
       "version_major": 2,
       "version_minor": 0
      },
      "text/plain": [
       "  0%|          | 0/2 [00:00<?, ?it/s]"
      ]
     },
     "metadata": {},
     "output_type": "display_data"
    },
    {
     "data": {
      "application/vnd.jupyter.widget-view+json": {
       "model_id": "82a8942d0a894e61a07efdb6ba3645a1",
       "version_major": 2,
       "version_minor": 0
      },
      "text/plain": [
       "  0%|          | 0/1 [00:00<?, ?it/s]"
      ]
     },
     "metadata": {},
     "output_type": "display_data"
    },
    {
     "name": "stdout",
     "output_type": "stream",
     "text": [
      "predictions: [0 3]\n",
      "lista: [['dose da sinvastatina para 40mg', 'Otimizo dose da sinvastatina para 40mg / dia .']]\n"
     ]
    },
    {
     "data": {
      "application/vnd.jupyter.widget-view+json": {
       "model_id": "32f36c1f5e0749f2b7ceb973d9955f47",
       "version_major": 2,
       "version_minor": 0
      },
      "text/plain": [
       "  0%|          | 0/1 [00:00<?, ?it/s]"
      ]
     },
     "metadata": {},
     "output_type": "display_data"
    },
    {
     "data": {
      "application/vnd.jupyter.widget-view+json": {
       "model_id": "dd22f3b81f584ee1ae2d12fa87b6f113",
       "version_major": 2,
       "version_minor": 0
      },
      "text/plain": [
       "  0%|          | 0/1 [00:00<?, ?it/s]"
      ]
     },
     "metadata": {},
     "output_type": "display_data"
    },
    {
     "name": "stdout",
     "output_type": "stream",
     "text": [
      "predictions: [1]\n",
      "lista: [['HAS', '# Lucas , 78 anos * HAS , * Gota , * DAC - IAM + ATC em 2012 ( angina instavel ) - Ecocardiograma mar / 14 : FE 42 % / comprometimento difuso do VE grau moderado , insuf Mi discreta , insuf Tri discreta , hipetensao pulmonar discreta .'], ['Gota', '# Lucas , 78 anos * HAS , * Gota , * DAC - IAM + ATC em 2012 ( angina instavel ) - Ecocardiograma mar / 14 : FE 42 % / comprometimento difuso do VE grau moderado , insuf Mi discreta , insuf Tri discreta , hipetensao pulmonar discreta .'], ['DAC', '# Lucas , 78 anos * HAS , * Gota , * DAC - IAM + ATC em 2012 ( angina instavel ) - Ecocardiograma mar / 14 : FE 42 % / comprometimento difuso do VE grau moderado , insuf Mi discreta , insuf Tri discreta , hipetensao pulmonar discreta .'], ['IAM', '# Lucas , 78 anos * HAS , * Gota , * DAC - IAM + ATC em 2012 ( angina instavel ) - Ecocardiograma mar / 14 : FE 42 % / comprometimento difuso do VE grau moderado , insuf Mi discreta , insuf Tri discreta , hipetensao pulmonar discreta .'], ['ATC', '# Lucas , 78 anos * HAS , * Gota , * DAC - IAM + ATC em 2012 ( angina instavel ) - Ecocardiograma mar / 14 : FE 42 % / comprometimento difuso do VE grau moderado , insuf Mi discreta , insuf Tri discreta , hipetensao pulmonar discreta .'], ['angina instavel', '# Lucas , 78 anos * HAS , * Gota , * DAC - IAM + ATC em 2012 ( angina instavel ) - Ecocardiograma mar / 14 : FE 42 % / comprometimento difuso do VE grau moderado , insuf Mi discreta , insuf Tri discreta , hipetensao pulmonar discreta .'], ['angina', '# Lucas , 78 anos * HAS , * Gota , * DAC - IAM + ATC em 2012 ( angina instavel ) - Ecocardiograma mar / 14 : FE 42 % / comprometimento difuso do VE grau moderado , insuf Mi discreta , insuf Tri discreta , hipetensao pulmonar discreta .'], ['instavel', '# Lucas , 78 anos * HAS , * Gota , * DAC - IAM + ATC em 2012 ( angina instavel ) - Ecocardiograma mar / 14 : FE 42 % / comprometimento difuso do VE grau moderado , insuf Mi discreta , insuf Tri discreta , hipetensao pulmonar discreta .'], ['Ecocardiograma', '# Lucas , 78 anos * HAS , * Gota , * DAC - IAM + ATC em 2012 ( angina instavel ) - Ecocardiograma mar / 14 : FE 42 % / comprometimento difuso do VE grau moderado , insuf Mi discreta , insuf Tri discreta , hipetensao pulmonar discreta .'], ['comprometimento difuso do VE grau moderado', '# Lucas , 78 anos * HAS , * Gota , * DAC - IAM + ATC em 2012 ( angina instavel ) - Ecocardiograma mar / 14 : FE 42 % / comprometimento difuso do VE grau moderado , insuf Mi discreta , insuf Tri discreta , hipetensao pulmonar discreta .'], ['VE grau moderado', '# Lucas , 78 anos * HAS , * Gota , * DAC - IAM + ATC em 2012 ( angina instavel ) - Ecocardiograma mar / 14 : FE 42 % / comprometimento difuso do VE grau moderado , insuf Mi discreta , insuf Tri discreta , hipetensao pulmonar discreta .'], ['comprometimento difuso do VE', '# Lucas , 78 anos * HAS , * Gota , * DAC - IAM + ATC em 2012 ( angina instavel ) - Ecocardiograma mar / 14 : FE 42 % / comprometimento difuso do VE grau moderado , insuf Mi discreta , insuf Tri discreta , hipetensao pulmonar discreta .'], ['comprometimento difuso do VE grau', '# Lucas , 78 anos * HAS , * Gota , * DAC - IAM + ATC em 2012 ( angina instavel ) - Ecocardiograma mar / 14 : FE 42 % / comprometimento difuso do VE grau moderado , insuf Mi discreta , insuf Tri discreta , hipetensao pulmonar discreta .'], ['difuso do VE grau moderado', '# Lucas , 78 anos * HAS , * Gota , * DAC - IAM + ATC em 2012 ( angina instavel ) - Ecocardiograma mar / 14 : FE 42 % / comprometimento difuso do VE grau moderado , insuf Mi discreta , insuf Tri discreta , hipetensao pulmonar discreta .'], ['insuf Mi discreta', '# Lucas , 78 anos * HAS , * Gota , * DAC - IAM + ATC em 2012 ( angina instavel ) - Ecocardiograma mar / 14 : FE 42 % / comprometimento difuso do VE grau moderado , insuf Mi discreta , insuf Tri discreta , hipetensao pulmonar discreta .'], ['insuf Mi', '# Lucas , 78 anos * HAS , * Gota , * DAC - IAM + ATC em 2012 ( angina instavel ) - Ecocardiograma mar / 14 : FE 42 % / comprometimento difuso do VE grau moderado , insuf Mi discreta , insuf Tri discreta , hipetensao pulmonar discreta .'], ['Mi discreta', '# Lucas , 78 anos * HAS , * Gota , * DAC - IAM + ATC em 2012 ( angina instavel ) - Ecocardiograma mar / 14 : FE 42 % / comprometimento difuso do VE grau moderado , insuf Mi discreta , insuf Tri discreta , hipetensao pulmonar discreta .'], ['insuf Tri discreta', '# Lucas , 78 anos * HAS , * Gota , * DAC - IAM + ATC em 2012 ( angina instavel ) - Ecocardiograma mar / 14 : FE 42 % / comprometimento difuso do VE grau moderado , insuf Mi discreta , insuf Tri discreta , hipetensao pulmonar discreta .'], ['insuf Tri', '# Lucas , 78 anos * HAS , * Gota , * DAC - IAM + ATC em 2012 ( angina instavel ) - Ecocardiograma mar / 14 : FE 42 % / comprometimento difuso do VE grau moderado , insuf Mi discreta , insuf Tri discreta , hipetensao pulmonar discreta .'], ['Tri discreta', '# Lucas , 78 anos * HAS , * Gota , * DAC - IAM + ATC em 2012 ( angina instavel ) - Ecocardiograma mar / 14 : FE 42 % / comprometimento difuso do VE grau moderado , insuf Mi discreta , insuf Tri discreta , hipetensao pulmonar discreta .'], ['hipetensao pulmonar discreta', '# Lucas , 78 anos * HAS , * Gota , * DAC - IAM + ATC em 2012 ( angina instavel ) - Ecocardiograma mar / 14 : FE 42 % / comprometimento difuso do VE grau moderado , insuf Mi discreta , insuf Tri discreta , hipetensao pulmonar discreta .'], ['hipetensao pulmonar', '# Lucas , 78 anos * HAS , * Gota , * DAC - IAM + ATC em 2012 ( angina instavel ) - Ecocardiograma mar / 14 : FE 42 % / comprometimento difuso do VE grau moderado , insuf Mi discreta , insuf Tri discreta , hipetensao pulmonar discreta .'], ['pulmonar discreta', '# Lucas , 78 anos * HAS , * Gota , * DAC - IAM + ATC em 2012 ( angina instavel ) - Ecocardiograma mar / 14 : FE 42 % / comprometimento difuso do VE grau moderado , insuf Mi discreta , insuf Tri discreta , hipetensao pulmonar discreta .']]\n"
     ]
    },
    {
     "data": {
      "application/vnd.jupyter.widget-view+json": {
       "model_id": "d56ddf32e36046a49e09c5fae5ccc1ee",
       "version_major": 2,
       "version_minor": 0
      },
      "text/plain": [
       "  0%|          | 0/23 [00:00<?, ?it/s]"
      ]
     },
     "metadata": {},
     "output_type": "display_data"
    },
    {
     "data": {
      "application/vnd.jupyter.widget-view+json": {
       "model_id": "e293a581e61044949c3c2eda3bfd866a",
       "version_major": 2,
       "version_minor": 0
      },
      "text/plain": [
       "  0%|          | 0/3 [00:00<?, ?it/s]"
      ]
     },
     "metadata": {},
     "output_type": "display_data"
    },
    {
     "name": "stdout",
     "output_type": "stream",
     "text": [
      "predictions: [0 0 0 0 1 0 0 0 2 0 0 0 0 0 0 0 0 0 0 0 0 0 0]\n",
      "lista: [['fraqueza intermitente em MMII', 'Paciente refere fraqueza intermitente em MMII , associada a tontura , turvação visual e epigastralgia .'], ['MMII', 'Paciente refere fraqueza intermitente em MMII , associada a tontura , turvação visual e epigastralgia .'], ['intermitente em MMII', 'Paciente refere fraqueza intermitente em MMII , associada a tontura , turvação visual e epigastralgia .'], ['tontura', 'Paciente refere fraqueza intermitente em MMII , associada a tontura , turvação visual e epigastralgia .'], ['turvação visual', 'Paciente refere fraqueza intermitente em MMII , associada a tontura , turvação visual e epigastralgia .'], ['epigastralgia', 'Paciente refere fraqueza intermitente em MMII , associada a tontura , turvação visual e epigastralgia .']]\n"
     ]
    },
    {
     "data": {
      "application/vnd.jupyter.widget-view+json": {
       "model_id": "23e044e788a24fe3b6195a7fa5efb2d1",
       "version_major": 2,
       "version_minor": 0
      },
      "text/plain": [
       "  0%|          | 0/6 [00:00<?, ?it/s]"
      ]
     },
     "metadata": {},
     "output_type": "display_data"
    },
    {
     "data": {
      "application/vnd.jupyter.widget-view+json": {
       "model_id": "bda805d9e583433ba22223ca1ef71f3a",
       "version_major": 2,
       "version_minor": 0
      },
      "text/plain": [
       "  0%|          | 0/1 [00:00<?, ?it/s]"
      ]
     },
     "metadata": {},
     "output_type": "display_data"
    },
    {
     "name": "stdout",
     "output_type": "stream",
     "text": [
      "predictions: [0 3 0 0 0 0]\n",
      "lista: [['dor toracica associada', 'Nega dor toracica associada ou dispneia .'], ['dispneia', 'Nega dor toracica associada ou dispneia .']]\n"
     ]
    },
    {
     "data": {
      "application/vnd.jupyter.widget-view+json": {
       "model_id": "bb6b3effe1954938b36437fc83ddab2f",
       "version_major": 2,
       "version_minor": 0
      },
      "text/plain": [
       "  0%|          | 0/2 [00:00<?, ?it/s]"
      ]
     },
     "metadata": {},
     "output_type": "display_data"
    },
    {
     "data": {
      "application/vnd.jupyter.widget-view+json": {
       "model_id": "0ca052d735ae43daafde6f1e015dcb17",
       "version_major": 2,
       "version_minor": 0
      },
      "text/plain": [
       "  0%|          | 0/1 [00:00<?, ?it/s]"
      ]
     },
     "metadata": {},
     "output_type": "display_data"
    },
    {
     "name": "stdout",
     "output_type": "stream",
     "text": [
      "predictions: [0 0]\n",
      "lista: [['DPN', 'Nega DPN .']]\n"
     ]
    },
    {
     "data": {
      "application/vnd.jupyter.widget-view+json": {
       "model_id": "426af28f57a44b5a9ccbef68e008af08",
       "version_major": 2,
       "version_minor": 0
      },
      "text/plain": [
       "  0%|          | 0/1 [00:00<?, ?it/s]"
      ]
     },
     "metadata": {},
     "output_type": "display_data"
    },
    {
     "data": {
      "application/vnd.jupyter.widget-view+json": {
       "model_id": "7ecac801d06f457b95868e7966133da4",
       "version_major": 2,
       "version_minor": 0
      },
      "text/plain": [
       "  0%|          | 0/1 [00:00<?, ?it/s]"
      ]
     },
     "metadata": {},
     "output_type": "display_data"
    },
    {
     "name": "stdout",
     "output_type": "stream",
     "text": [
      "predictions: [0]\n",
      "lista: [['sincope', 'Nega sincope .']]\n"
     ]
    },
    {
     "data": {
      "application/vnd.jupyter.widget-view+json": {
       "model_id": "72b1a578c8574ba487a3e92e0ee15198",
       "version_major": 2,
       "version_minor": 0
      },
      "text/plain": [
       "  0%|          | 0/1 [00:00<?, ?it/s]"
      ]
     },
     "metadata": {},
     "output_type": "display_data"
    },
    {
     "data": {
      "application/vnd.jupyter.widget-view+json": {
       "model_id": "a88bfc25393f4b14a162703fa90a7763",
       "version_major": 2,
       "version_minor": 0
      },
      "text/plain": [
       "  0%|          | 0/1 [00:00<?, ?it/s]"
      ]
     },
     "metadata": {},
     "output_type": "display_data"
    },
    {
     "name": "stdout",
     "output_type": "stream",
     "text": [
      "predictions: [0]\n",
      "lista: [['edema de MMII', 'Nega edema de MMII .'], ['de MMII', 'Nega edema de MMII .']]\n"
     ]
    },
    {
     "data": {
      "application/vnd.jupyter.widget-view+json": {
       "model_id": "4edbe38ccf6745c1b1dbd0d35c3ae37e",
       "version_major": 2,
       "version_minor": 0
      },
      "text/plain": [
       "  0%|          | 0/2 [00:00<?, ?it/s]"
      ]
     },
     "metadata": {},
     "output_type": "display_data"
    },
    {
     "data": {
      "application/vnd.jupyter.widget-view+json": {
       "model_id": "972568824c5a4dd29e062d1189c85eaf",
       "version_major": 2,
       "version_minor": 0
      },
      "text/plain": [
       "  0%|          | 0/1 [00:00<?, ?it/s]"
      ]
     },
     "metadata": {},
     "output_type": "display_data"
    },
    {
     "name": "stdout",
     "output_type": "stream",
     "text": [
      "predictions: [0 3]\n",
      "lista: [['queixas urinarias', 'Nega queixas urinarias e gastrointestinais .'], ['gastrointestinais', 'Nega queixas urinarias e gastrointestinais .']]\n"
     ]
    },
    {
     "data": {
      "application/vnd.jupyter.widget-view+json": {
       "model_id": "455d7420da094c0d8dfc6ca175fd4c1e",
       "version_major": 2,
       "version_minor": 0
      },
      "text/plain": [
       "  0%|          | 0/2 [00:00<?, ?it/s]"
      ]
     },
     "metadata": {},
     "output_type": "display_data"
    },
    {
     "data": {
      "application/vnd.jupyter.widget-view+json": {
       "model_id": "6e0a54e2109d48e792549cac21fcbbaf",
       "version_major": 2,
       "version_minor": 0
      },
      "text/plain": [
       "  0%|          | 0/1 [00:00<?, ?it/s]"
      ]
     },
     "metadata": {},
     "output_type": "display_data"
    },
    {
     "name": "stdout",
     "output_type": "stream",
     "text": [
      "predictions: [0 3]\n",
      "lista: [['tabagismo', 'Nega tabagismo atual e pregresso .']]\n"
     ]
    },
    {
     "data": {
      "application/vnd.jupyter.widget-view+json": {
       "model_id": "58cf48a49a7649ddb5bb8b7cf6459df9",
       "version_major": 2,
       "version_minor": 0
      },
      "text/plain": [
       "  0%|          | 0/1 [00:00<?, ?it/s]"
      ]
     },
     "metadata": {},
     "output_type": "display_data"
    },
    {
     "data": {
      "application/vnd.jupyter.widget-view+json": {
       "model_id": "39260117ae3c4ca7a86803dbdcb2bc52",
       "version_major": 2,
       "version_minor": 0
      },
      "text/plain": [
       "  0%|          | 0/1 [00:00<?, ?it/s]"
      ]
     },
     "metadata": {},
     "output_type": "display_data"
    },
    {
     "name": "stdout",
     "output_type": "stream",
     "text": [
      "predictions: [0]\n",
      "lista: [['Laboratorio Cr', '- Laboratorio Cr 1 , 5 / glicose 85 / ureia 70 / CPK 161 / acido urico 5 , 3 / TG 107 / TGP 23 / HDL 38 / Na 143 / TGO 26 / CT 103 / LDL 44 / K 5 , 1 / HB 16 , 1 / leucocitos 6800 / plaquetas 116000 / - Albumina / Cr isolada = 174 , 3 *** CKD 44 ; Paciente encaminhado via UBS para nefrologia - aguarda consulta .'], ['glicose', '- Laboratorio Cr 1 , 5 / glicose 85 / ureia 70 / CPK 161 / acido urico 5 , 3 / TG 107 / TGP 23 / HDL 38 / Na 143 / TGO 26 / CT 103 / LDL 44 / K 5 , 1 / HB 16 , 1 / leucocitos 6800 / plaquetas 116000 / - Albumina / Cr isolada = 174 , 3 *** CKD 44 ; Paciente encaminhado via UBS para nefrologia - aguarda consulta .'], ['ureia', '- Laboratorio Cr 1 , 5 / glicose 85 / ureia 70 / CPK 161 / acido urico 5 , 3 / TG 107 / TGP 23 / HDL 38 / Na 143 / TGO 26 / CT 103 / LDL 44 / K 5 , 1 / HB 16 , 1 / leucocitos 6800 / plaquetas 116000 / - Albumina / Cr isolada = 174 , 3 *** CKD 44 ; Paciente encaminhado via UBS para nefrologia - aguarda consulta .'], ['CPK', '- Laboratorio Cr 1 , 5 / glicose 85 / ureia 70 / CPK 161 / acido urico 5 , 3 / TG 107 / TGP 23 / HDL 38 / Na 143 / TGO 26 / CT 103 / LDL 44 / K 5 , 1 / HB 16 , 1 / leucocitos 6800 / plaquetas 116000 / - Albumina / Cr isolada = 174 , 3 *** CKD 44 ; Paciente encaminhado via UBS para nefrologia - aguarda consulta .'], ['acido urico', '- Laboratorio Cr 1 , 5 / glicose 85 / ureia 70 / CPK 161 / acido urico 5 , 3 / TG 107 / TGP 23 / HDL 38 / Na 143 / TGO 26 / CT 103 / LDL 44 / K 5 , 1 / HB 16 , 1 / leucocitos 6800 / plaquetas 116000 / - Albumina / Cr isolada = 174 , 3 *** CKD 44 ; Paciente encaminhado via UBS para nefrologia - aguarda consulta .'], ['TG', '- Laboratorio Cr 1 , 5 / glicose 85 / ureia 70 / CPK 161 / acido urico 5 , 3 / TG 107 / TGP 23 / HDL 38 / Na 143 / TGO 26 / CT 103 / LDL 44 / K 5 , 1 / HB 16 , 1 / leucocitos 6800 / plaquetas 116000 / - Albumina / Cr isolada = 174 , 3 *** CKD 44 ; Paciente encaminhado via UBS para nefrologia - aguarda consulta .'], ['TGP', '- Laboratorio Cr 1 , 5 / glicose 85 / ureia 70 / CPK 161 / acido urico 5 , 3 / TG 107 / TGP 23 / HDL 38 / Na 143 / TGO 26 / CT 103 / LDL 44 / K 5 , 1 / HB 16 , 1 / leucocitos 6800 / plaquetas 116000 / - Albumina / Cr isolada = 174 , 3 *** CKD 44 ; Paciente encaminhado via UBS para nefrologia - aguarda consulta .'], ['HDL', '- Laboratorio Cr 1 , 5 / glicose 85 / ureia 70 / CPK 161 / acido urico 5 , 3 / TG 107 / TGP 23 / HDL 38 / Na 143 / TGO 26 / CT 103 / LDL 44 / K 5 , 1 / HB 16 , 1 / leucocitos 6800 / plaquetas 116000 / - Albumina / Cr isolada = 174 , 3 *** CKD 44 ; Paciente encaminhado via UBS para nefrologia - aguarda consulta .'], ['TGO', '- Laboratorio Cr 1 , 5 / glicose 85 / ureia 70 / CPK 161 / acido urico 5 , 3 / TG 107 / TGP 23 / HDL 38 / Na 143 / TGO 26 / CT 103 / LDL 44 / K 5 , 1 / HB 16 , 1 / leucocitos 6800 / plaquetas 116000 / - Albumina / Cr isolada = 174 , 3 *** CKD 44 ; Paciente encaminhado via UBS para nefrologia - aguarda consulta .'], ['CT', '- Laboratorio Cr 1 , 5 / glicose 85 / ureia 70 / CPK 161 / acido urico 5 , 3 / TG 107 / TGP 23 / HDL 38 / Na 143 / TGO 26 / CT 103 / LDL 44 / K 5 , 1 / HB 16 , 1 / leucocitos 6800 / plaquetas 116000 / - Albumina / Cr isolada = 174 , 3 *** CKD 44 ; Paciente encaminhado via UBS para nefrologia - aguarda consulta .'], ['LDL', '- Laboratorio Cr 1 , 5 / glicose 85 / ureia 70 / CPK 161 / acido urico 5 , 3 / TG 107 / TGP 23 / HDL 38 / Na 143 / TGO 26 / CT 103 / LDL 44 / K 5 , 1 / HB 16 , 1 / leucocitos 6800 / plaquetas 116000 / - Albumina / Cr isolada = 174 , 3 *** CKD 44 ; Paciente encaminhado via UBS para nefrologia - aguarda consulta .'], ['K', '- Laboratorio Cr 1 , 5 / glicose 85 / ureia 70 / CPK 161 / acido urico 5 , 3 / TG 107 / TGP 23 / HDL 38 / Na 143 / TGO 26 / CT 103 / LDL 44 / K 5 , 1 / HB 16 , 1 / leucocitos 6800 / plaquetas 116000 / - Albumina / Cr isolada = 174 , 3 *** CKD 44 ; Paciente encaminhado via UBS para nefrologia - aguarda consulta .'], ['HB', '- Laboratorio Cr 1 , 5 / glicose 85 / ureia 70 / CPK 161 / acido urico 5 , 3 / TG 107 / TGP 23 / HDL 38 / Na 143 / TGO 26 / CT 103 / LDL 44 / K 5 , 1 / HB 16 , 1 / leucocitos 6800 / plaquetas 116000 / - Albumina / Cr isolada = 174 , 3 *** CKD 44 ; Paciente encaminhado via UBS para nefrologia - aguarda consulta .'], ['leucocitos', '- Laboratorio Cr 1 , 5 / glicose 85 / ureia 70 / CPK 161 / acido urico 5 , 3 / TG 107 / TGP 23 / HDL 38 / Na 143 / TGO 26 / CT 103 / LDL 44 / K 5 , 1 / HB 16 , 1 / leucocitos 6800 / plaquetas 116000 / - Albumina / Cr isolada = 174 , 3 *** CKD 44 ; Paciente encaminhado via UBS para nefrologia - aguarda consulta .'], ['plaquetas', '- Laboratorio Cr 1 , 5 / glicose 85 / ureia 70 / CPK 161 / acido urico 5 , 3 / TG 107 / TGP 23 / HDL 38 / Na 143 / TGO 26 / CT 103 / LDL 44 / K 5 , 1 / HB 16 , 1 / leucocitos 6800 / plaquetas 116000 / - Albumina / Cr isolada = 174 , 3 *** CKD 44 ; Paciente encaminhado via UBS para nefrologia - aguarda consulta .'], ['Albumina', '- Laboratorio Cr 1 , 5 / glicose 85 / ureia 70 / CPK 161 / acido urico 5 , 3 / TG 107 / TGP 23 / HDL 38 / Na 143 / TGO 26 / CT 103 / LDL 44 / K 5 , 1 / HB 16 , 1 / leucocitos 6800 / plaquetas 116000 / - Albumina / Cr isolada = 174 , 3 *** CKD 44 ; Paciente encaminhado via UBS para nefrologia - aguarda consulta .'], ['Cr isolada', '- Laboratorio Cr 1 , 5 / glicose 85 / ureia 70 / CPK 161 / acido urico 5 , 3 / TG 107 / TGP 23 / HDL 38 / Na 143 / TGO 26 / CT 103 / LDL 44 / K 5 , 1 / HB 16 , 1 / leucocitos 6800 / plaquetas 116000 / - Albumina / Cr isolada = 174 , 3 *** CKD 44 ; Paciente encaminhado via UBS para nefrologia - aguarda consulta .'], ['Cr', '- Laboratorio Cr 1 , 5 / glicose 85 / ureia 70 / CPK 161 / acido urico 5 , 3 / TG 107 / TGP 23 / HDL 38 / Na 143 / TGO 26 / CT 103 / LDL 44 / K 5 , 1 / HB 16 , 1 / leucocitos 6800 / plaquetas 116000 / - Albumina / Cr isolada = 174 , 3 *** CKD 44 ; Paciente encaminhado via UBS para nefrologia - aguarda consulta .']]\n"
     ]
    },
    {
     "data": {
      "application/vnd.jupyter.widget-view+json": {
       "model_id": "361ec7748e564d9b974ff64d6e9899a4",
       "version_major": 2,
       "version_minor": 0
      },
      "text/plain": [
       "  0%|          | 0/18 [00:00<?, ?it/s]"
      ]
     },
     "metadata": {},
     "output_type": "display_data"
    },
    {
     "data": {
      "application/vnd.jupyter.widget-view+json": {
       "model_id": "9e2ca62fb6604a3aa739c420d322f212",
       "version_major": 2,
       "version_minor": 0
      },
      "text/plain": [
       "  0%|          | 0/3 [00:00<?, ?it/s]"
      ]
     },
     "metadata": {},
     "output_type": "display_data"
    },
    {
     "name": "stdout",
     "output_type": "stream",
     "text": [
      "predictions: [2 2 2 2 2 2 2 2 2 2 2 2 2 2 2 2 2 2]\n",
      "lista: [['alopurinol 150mg', 'Em uso de : alopurinol 150mg / dia , anlodipino 5mg / noite , enalapril 10mg 12 / 12 h , selozok 100mg / dia , AAS 100mg / dia , clopidogrel 75mg / dia , sinvastatina 40mg / dia , colecalciferol 10 gotas / semana .'], ['anlodipino 5mg', 'Em uso de : alopurinol 150mg / dia , anlodipino 5mg / noite , enalapril 10mg 12 / 12 h , selozok 100mg / dia , AAS 100mg / dia , clopidogrel 75mg / dia , sinvastatina 40mg / dia , colecalciferol 10 gotas / semana .'], ['enalapril 10mg', 'Em uso de : alopurinol 150mg / dia , anlodipino 5mg / noite , enalapril 10mg 12 / 12 h , selozok 100mg / dia , AAS 100mg / dia , clopidogrel 75mg / dia , sinvastatina 40mg / dia , colecalciferol 10 gotas / semana .'], ['selozok 100mg', 'Em uso de : alopurinol 150mg / dia , anlodipino 5mg / noite , enalapril 10mg 12 / 12 h , selozok 100mg / dia , AAS 100mg / dia , clopidogrel 75mg / dia , sinvastatina 40mg / dia , colecalciferol 10 gotas / semana .'], ['AAS 100mg', 'Em uso de : alopurinol 150mg / dia , anlodipino 5mg / noite , enalapril 10mg 12 / 12 h , selozok 100mg / dia , AAS 100mg / dia , clopidogrel 75mg / dia , sinvastatina 40mg / dia , colecalciferol 10 gotas / semana .'], ['clopidogrel 75mg', 'Em uso de : alopurinol 150mg / dia , anlodipino 5mg / noite , enalapril 10mg 12 / 12 h , selozok 100mg / dia , AAS 100mg / dia , clopidogrel 75mg / dia , sinvastatina 40mg / dia , colecalciferol 10 gotas / semana .'], ['sinvastatina 40mg', 'Em uso de : alopurinol 150mg / dia , anlodipino 5mg / noite , enalapril 10mg 12 / 12 h , selozok 100mg / dia , AAS 100mg / dia , clopidogrel 75mg / dia , sinvastatina 40mg / dia , colecalciferol 10 gotas / semana .'], ['colecalciferol 10 gotas', 'Em uso de : alopurinol 150mg / dia , anlodipino 5mg / noite , enalapril 10mg 12 / 12 h , selozok 100mg / dia , AAS 100mg / dia , clopidogrel 75mg / dia , sinvastatina 40mg / dia , colecalciferol 10 gotas / semana .'], ['colecalciferol', 'Em uso de : alopurinol 150mg / dia , anlodipino 5mg / noite , enalapril 10mg 12 / 12 h , selozok 100mg / dia , AAS 100mg / dia , clopidogrel 75mg / dia , sinvastatina 40mg / dia , colecalciferol 10 gotas / semana .']]\n"
     ]
    },
    {
     "data": {
      "application/vnd.jupyter.widget-view+json": {
       "model_id": "8ee2b6af52c44da19ace6b9284641558",
       "version_major": 2,
       "version_minor": 0
      },
      "text/plain": [
       "  0%|          | 0/9 [00:00<?, ?it/s]"
      ]
     },
     "metadata": {},
     "output_type": "display_data"
    },
    {
     "data": {
      "application/vnd.jupyter.widget-view+json": {
       "model_id": "5e4d42be84f641c5b8656d479fec69cb",
       "version_major": 2,
       "version_minor": 0
      },
      "text/plain": [
       "  0%|          | 0/2 [00:00<?, ?it/s]"
      ]
     },
     "metadata": {},
     "output_type": "display_data"
    },
    {
     "name": "stdout",
     "output_type": "stream",
     "text": [
      "predictions: [1 1 1 1 1 1 1 1 1]\n",
      "lista: [['exame', 'Ao exame : PA : 90 / 60 mmHg / FC 55 bpm , BCRNF , SS , MV + bilateralmente , sem RA , MMII edema + / IV bilateral .'], ['PA', 'Ao exame : PA : 90 / 60 mmHg / FC 55 bpm , BCRNF , SS , MV + bilateralmente , sem RA , MMII edema + / IV bilateral .'], ['FC', 'Ao exame : PA : 90 / 60 mmHg / FC 55 bpm , BCRNF , SS , MV + bilateralmente , sem RA , MMII edema + / IV bilateral .'], ['SS', 'Ao exame : PA : 90 / 60 mmHg / FC 55 bpm , BCRNF , SS , MV + bilateralmente , sem RA , MMII edema + / IV bilateral .'], ['RA', 'Ao exame : PA : 90 / 60 mmHg / FC 55 bpm , BCRNF , SS , MV + bilateralmente , sem RA , MMII edema + / IV bilateral .'], ['MMII edema + / IV bilateral', 'Ao exame : PA : 90 / 60 mmHg / FC 55 bpm , BCRNF , SS , MV + bilateralmente , sem RA , MMII edema + / IV bilateral .'], ['MMII', 'Ao exame : PA : 90 / 60 mmHg / FC 55 bpm , BCRNF , SS , MV + bilateralmente , sem RA , MMII edema + / IV bilateral .'], ['MMII edema', 'Ao exame : PA : 90 / 60 mmHg / FC 55 bpm , BCRNF , SS , MV + bilateralmente , sem RA , MMII edema + / IV bilateral .'], ['IV bilateral', 'Ao exame : PA : 90 / 60 mmHg / FC 55 bpm , BCRNF , SS , MV + bilateralmente , sem RA , MMII edema + / IV bilateral .'], ['MMII edema +', 'Ao exame : PA : 90 / 60 mmHg / FC 55 bpm , BCRNF , SS , MV + bilateralmente , sem RA , MMII edema + / IV bilateral .'], ['MMII edema + / IV', 'Ao exame : PA : 90 / 60 mmHg / FC 55 bpm , BCRNF , SS , MV + bilateralmente , sem RA , MMII edema + / IV bilateral .'], ['edema + / IV bilateral', 'Ao exame : PA : 90 / 60 mmHg / FC 55 bpm , BCRNF , SS , MV + bilateralmente , sem RA , MMII edema + / IV bilateral .']]\n"
     ]
    },
    {
     "data": {
      "application/vnd.jupyter.widget-view+json": {
       "model_id": "dc75c99c0bcd4439b449517395849977",
       "version_major": 2,
       "version_minor": 0
      },
      "text/plain": [
       "  0%|          | 0/12 [00:00<?, ?it/s]"
      ]
     },
     "metadata": {},
     "output_type": "display_data"
    },
    {
     "data": {
      "application/vnd.jupyter.widget-view+json": {
       "model_id": "2556534be47442898d5566bfa4f018e9",
       "version_major": 2,
       "version_minor": 0
      },
      "text/plain": [
       "  0%|          | 0/2 [00:00<?, ?it/s]"
      ]
     },
     "metadata": {},
     "output_type": "display_data"
    },
    {
     "name": "stdout",
     "output_type": "stream",
     "text": [
      "predictions: [2 2 2 0 0 0 3 0 0 0 0 0]\n",
      "lista: [['anlodipino para 2 , 5mg', '# # Reduzimos anlodipino para 2 , 5mg / dia .']]\n"
     ]
    },
    {
     "data": {
      "application/vnd.jupyter.widget-view+json": {
       "model_id": "ed06ec794f3740bd854a3e694abfcb0a",
       "version_major": 2,
       "version_minor": 0
      },
      "text/plain": [
       "  0%|          | 0/1 [00:00<?, ?it/s]"
      ]
     },
     "metadata": {},
     "output_type": "display_data"
    },
    {
     "data": {
      "application/vnd.jupyter.widget-view+json": {
       "model_id": "fb833c87262349ab88dc1be31d5f09bb",
       "version_major": 2,
       "version_minor": 0
      },
      "text/plain": [
       "  0%|          | 0/1 [00:00<?, ?it/s]"
      ]
     },
     "metadata": {},
     "output_type": "display_data"
    },
    {
     "name": "stdout",
     "output_type": "stream",
     "text": [
      "predictions: [1]\n",
      "lista: [['clopidogrel', 'Suspendemos clopidogrel .']]\n"
     ]
    },
    {
     "data": {
      "application/vnd.jupyter.widget-view+json": {
       "model_id": "57a4ea1bfc864659a545a3f3a531cb4e",
       "version_major": 2,
       "version_minor": 0
      },
      "text/plain": [
       "  0%|          | 0/1 [00:00<?, ?it/s]"
      ]
     },
     "metadata": {},
     "output_type": "display_data"
    },
    {
     "data": {
      "application/vnd.jupyter.widget-view+json": {
       "model_id": "5aadaec096c5409ca721f2b98efd3ff8",
       "version_major": 2,
       "version_minor": 0
      },
      "text/plain": [
       "  0%|          | 0/1 [00:00<?, ?it/s]"
      ]
     },
     "metadata": {},
     "output_type": "display_data"
    },
    {
     "name": "stdout",
     "output_type": "stream",
     "text": [
      "predictions: [1]\n",
      "lista: [['demais medicações', 'Mantemos demais medicações .']]\n"
     ]
    },
    {
     "data": {
      "application/vnd.jupyter.widget-view+json": {
       "model_id": "e4b050f3142a4715be69966f8e598c92",
       "version_major": 2,
       "version_minor": 0
      },
      "text/plain": [
       "  0%|          | 0/1 [00:00<?, ?it/s]"
      ]
     },
     "metadata": {},
     "output_type": "display_data"
    },
    {
     "data": {
      "application/vnd.jupyter.widget-view+json": {
       "model_id": "5dbaad34b89b4ed5826afbae1d06593e",
       "version_major": 2,
       "version_minor": 0
      },
      "text/plain": [
       "  0%|          | 0/1 [00:00<?, ?it/s]"
      ]
     },
     "metadata": {},
     "output_type": "display_data"
    },
    {
     "name": "stdout",
     "output_type": "stream",
     "text": [
      "predictions: [1]\n",
      "lista: [['exames', 'Retorno em 10 meses com a cardio com novos exames .']]\n"
     ]
    },
    {
     "data": {
      "application/vnd.jupyter.widget-view+json": {
       "model_id": "ed88b3e56e7649cabaa71ad89e49e744",
       "version_major": 2,
       "version_minor": 0
      },
      "text/plain": [
       "  0%|          | 0/1 [00:00<?, ?it/s]"
      ]
     },
     "metadata": {},
     "output_type": "display_data"
    },
    {
     "data": {
      "application/vnd.jupyter.widget-view+json": {
       "model_id": "b0f537e99c73489d9a6394e40a94803c",
       "version_major": 2,
       "version_minor": 0
      },
      "text/plain": [
       "  0%|          | 0/1 [00:00<?, ?it/s]"
      ]
     },
     "metadata": {},
     "output_type": "display_data"
    },
    {
     "name": "stdout",
     "output_type": "stream",
     "text": [
      "predictions: [2]\n",
      "lista: [['HAS', '* HAS * Gota * DAC - IAM + ATC em 2012 ( angina instavel ) .'], ['Gota', '* HAS * Gota * DAC - IAM + ATC em 2012 ( angina instavel ) .'], ['DAC', '* HAS * Gota * DAC - IAM + ATC em 2012 ( angina instavel ) .'], ['IAM', '* HAS * Gota * DAC - IAM + ATC em 2012 ( angina instavel ) .'], ['ATC', '* HAS * Gota * DAC - IAM + ATC em 2012 ( angina instavel ) .'], ['angina instavel', '* HAS * Gota * DAC - IAM + ATC em 2012 ( angina instavel ) .'], ['angina', '* HAS * Gota * DAC - IAM + ATC em 2012 ( angina instavel ) .'], ['instavel', '* HAS * Gota * DAC - IAM + ATC em 2012 ( angina instavel ) .']]\n"
     ]
    },
    {
     "data": {
      "application/vnd.jupyter.widget-view+json": {
       "model_id": "fab69c7f373d49178715a2da1d362701",
       "version_major": 2,
       "version_minor": 0
      },
      "text/plain": [
       "  0%|          | 0/8 [00:00<?, ?it/s]"
      ]
     },
     "metadata": {},
     "output_type": "display_data"
    },
    {
     "data": {
      "application/vnd.jupyter.widget-view+json": {
       "model_id": "2663f30f75754d02b31a713f9c9e37b8",
       "version_major": 2,
       "version_minor": 0
      },
      "text/plain": [
       "  0%|          | 0/1 [00:00<?, ?it/s]"
      ]
     },
     "metadata": {},
     "output_type": "display_data"
    },
    {
     "name": "stdout",
     "output_type": "stream",
     "text": [
      "predictions: [0 0 0 0 1 0 0 0]\n",
      "lista: [['ICC diastólica', 'Paciente em tratamento para ICC diastólica há cerca de 5 a com melhora importante dos sintomas após início do tratamento .'], ['tratamento', 'Paciente em tratamento para ICC diastólica há cerca de 5 a com melhora importante dos sintomas após início do tratamento .']]\n"
     ]
    },
    {
     "data": {
      "application/vnd.jupyter.widget-view+json": {
       "model_id": "166f7aefd58f4872abbc8b03263fd45b",
       "version_major": 2,
       "version_minor": 0
      },
      "text/plain": [
       "  0%|          | 0/2 [00:00<?, ?it/s]"
      ]
     },
     "metadata": {},
     "output_type": "display_data"
    },
    {
     "data": {
      "application/vnd.jupyter.widget-view+json": {
       "model_id": "5c4e9e34870d415e8ad706f8191d38de",
       "version_major": 2,
       "version_minor": 0
      },
      "text/plain": [
       "  0%|          | 0/1 [00:00<?, ?it/s]"
      ]
     },
     "metadata": {},
     "output_type": "display_data"
    },
    {
     "name": "stdout",
     "output_type": "stream",
     "text": [
      "predictions: [0 1]\n",
      "lista: [['dispneia aos moderados esforços', 'Hoje relata dispneia aos moderados esforços , nega disnpneía paroxística notrna , dorme com apenas 1 travesseiro .'], ['disnpneía paroxística notrna', 'Hoje relata dispneia aos moderados esforços , nega disnpneía paroxística notrna , dorme com apenas 1 travesseiro .']]\n"
     ]
    },
    {
     "data": {
      "application/vnd.jupyter.widget-view+json": {
       "model_id": "3148d372517d472cbc5c6a82e4472029",
       "version_major": 2,
       "version_minor": 0
      },
      "text/plain": [
       "  0%|          | 0/2 [00:00<?, ?it/s]"
      ]
     },
     "metadata": {},
     "output_type": "display_data"
    },
    {
     "data": {
      "application/vnd.jupyter.widget-view+json": {
       "model_id": "8015174bcbe445d1bbcdd7d551c097fa",
       "version_major": 2,
       "version_minor": 0
      },
      "text/plain": [
       "  0%|          | 0/1 [00:00<?, ?it/s]"
      ]
     },
     "metadata": {},
     "output_type": "display_data"
    },
    {
     "name": "stdout",
     "output_type": "stream",
     "text": [
      "predictions: [0 0]\n",
      "lista: [['precordialgia aos moderados esforços', 'Nega precordialgia aos moderados esforços .']]\n"
     ]
    },
    {
     "data": {
      "application/vnd.jupyter.widget-view+json": {
       "model_id": "8b341129006047e3b800815a4c68b0a0",
       "version_major": 2,
       "version_minor": 0
      },
      "text/plain": [
       "  0%|          | 0/1 [00:00<?, ?it/s]"
      ]
     },
     "metadata": {},
     "output_type": "display_data"
    },
    {
     "data": {
      "application/vnd.jupyter.widget-view+json": {
       "model_id": "84ddeb282f544f4399535c87cd36631c",
       "version_major": 2,
       "version_minor": 0
      },
      "text/plain": [
       "  0%|          | 0/1 [00:00<?, ?it/s]"
      ]
     },
     "metadata": {},
     "output_type": "display_data"
    },
    {
     "name": "stdout",
     "output_type": "stream",
     "text": [
      "predictions: [0]\n",
      "lista: [['episódios anginosos', 'Nega episódios anginosos .']]\n"
     ]
    },
    {
     "data": {
      "application/vnd.jupyter.widget-view+json": {
       "model_id": "c27ef39bea424950ade2105f8ff2d2b5",
       "version_major": 2,
       "version_minor": 0
      },
      "text/plain": [
       "  0%|          | 0/1 [00:00<?, ?it/s]"
      ]
     },
     "metadata": {},
     "output_type": "display_data"
    },
    {
     "data": {
      "application/vnd.jupyter.widget-view+json": {
       "model_id": "914eed9a22484ff191007e56ff93bba0",
       "version_major": 2,
       "version_minor": 0
      },
      "text/plain": [
       "  0%|          | 0/1 [00:00<?, ?it/s]"
      ]
     },
     "metadata": {},
     "output_type": "display_data"
    },
    {
     "name": "stdout",
     "output_type": "stream",
     "text": [
      "predictions: [0]\n",
      "lista: [['outras queixas', 'Nega outras queixas .']]\n"
     ]
    },
    {
     "data": {
      "application/vnd.jupyter.widget-view+json": {
       "model_id": "fed7eaf658ba40c8948dfbb4f3efb732",
       "version_major": 2,
       "version_minor": 0
      },
      "text/plain": [
       "  0%|          | 0/1 [00:00<?, ?it/s]"
      ]
     },
     "metadata": {},
     "output_type": "display_data"
    },
    {
     "data": {
      "application/vnd.jupyter.widget-view+json": {
       "model_id": "132cc43460bb4d74bf648ee4cdc23420",
       "version_major": 2,
       "version_minor": 0
      },
      "text/plain": [
       "  0%|          | 0/1 [00:00<?, ?it/s]"
      ]
     },
     "metadata": {},
     "output_type": "display_data"
    },
    {
     "name": "stdout",
     "output_type": "stream",
     "text": [
      "predictions: [0]\n",
      "lista: [['exames', 'Rsultado de exames : 1 - Microalbuminúria 12 / 04 : 10 . 64 / G de creatinina 2 - US abdome total : rins com alterações tróficas 3 - ECG 19 / 03 / 14 : isquemia subepicárdica anterior , alteração de repolarização ventricular infero - lateral 4 - Laboratoriais 12 / 04 / 14 : K 5 . 1 , clearence creatinina 57 Ao EF : PA 170x100mmHg ( relata PA normal quando em ambiente não hospitalar ) , FC 63bpm AR : mv sem RA ACV : rcr em 2T sem sopros , com hipofonese de bulhas AD : abdome globos , normotenso , indolor , ausência de massas ou visceromegalias MMII sem edema HD : - ICC diastólica classe III - HAS - DMII - Dislipidemia CD : - mantenho medicação - retorno em 6 m com exames laboratoriais + ECG .'], ['Microalbuminúria', 'Rsultado de exames : 1 - Microalbuminúria 12 / 04 : 10 . 64 / G de creatinina 2 - US abdome total : rins com alterações tróficas 3 - ECG 19 / 03 / 14 : isquemia subepicárdica anterior , alteração de repolarização ventricular infero - lateral 4 - Laboratoriais 12 / 04 / 14 : K 5 . 1 , clearence creatinina 57 Ao EF : PA 170x100mmHg ( relata PA normal quando em ambiente não hospitalar ) , FC 63bpm AR : mv sem RA ACV : rcr em 2T sem sopros , com hipofonese de bulhas AD : abdome globos , normotenso , indolor , ausência de massas ou visceromegalias MMII sem edema HD : - ICC diastólica classe III - HAS - DMII - Dislipidemia CD : - mantenho medicação - retorno em 6 m com exames laboratoriais + ECG .'], ['creatinina', 'Rsultado de exames : 1 - Microalbuminúria 12 / 04 : 10 . 64 / G de creatinina 2 - US abdome total : rins com alterações tróficas 3 - ECG 19 / 03 / 14 : isquemia subepicárdica anterior , alteração de repolarização ventricular infero - lateral 4 - Laboratoriais 12 / 04 / 14 : K 5 . 1 , clearence creatinina 57 Ao EF : PA 170x100mmHg ( relata PA normal quando em ambiente não hospitalar ) , FC 63bpm AR : mv sem RA ACV : rcr em 2T sem sopros , com hipofonese de bulhas AD : abdome globos , normotenso , indolor , ausência de massas ou visceromegalias MMII sem edema HD : - ICC diastólica classe III - HAS - DMII - Dislipidemia CD : - mantenho medicação - retorno em 6 m com exames laboratoriais + ECG .'], ['US abdome total', 'Rsultado de exames : 1 - Microalbuminúria 12 / 04 : 10 . 64 / G de creatinina 2 - US abdome total : rins com alterações tróficas 3 - ECG 19 / 03 / 14 : isquemia subepicárdica anterior , alteração de repolarização ventricular infero - lateral 4 - Laboratoriais 12 / 04 / 14 : K 5 . 1 , clearence creatinina 57 Ao EF : PA 170x100mmHg ( relata PA normal quando em ambiente não hospitalar ) , FC 63bpm AR : mv sem RA ACV : rcr em 2T sem sopros , com hipofonese de bulhas AD : abdome globos , normotenso , indolor , ausência de massas ou visceromegalias MMII sem edema HD : - ICC diastólica classe III - HAS - DMII - Dislipidemia CD : - mantenho medicação - retorno em 6 m com exames laboratoriais + ECG .'], ['US', 'Rsultado de exames : 1 - Microalbuminúria 12 / 04 : 10 . 64 / G de creatinina 2 - US abdome total : rins com alterações tróficas 3 - ECG 19 / 03 / 14 : isquemia subepicárdica anterior , alteração de repolarização ventricular infero - lateral 4 - Laboratoriais 12 / 04 / 14 : K 5 . 1 , clearence creatinina 57 Ao EF : PA 170x100mmHg ( relata PA normal quando em ambiente não hospitalar ) , FC 63bpm AR : mv sem RA ACV : rcr em 2T sem sopros , com hipofonese de bulhas AD : abdome globos , normotenso , indolor , ausência de massas ou visceromegalias MMII sem edema HD : - ICC diastólica classe III - HAS - DMII - Dislipidemia CD : - mantenho medicação - retorno em 6 m com exames laboratoriais + ECG .'], ['US abdome', 'Rsultado de exames : 1 - Microalbuminúria 12 / 04 : 10 . 64 / G de creatinina 2 - US abdome total : rins com alterações tróficas 3 - ECG 19 / 03 / 14 : isquemia subepicárdica anterior , alteração de repolarização ventricular infero - lateral 4 - Laboratoriais 12 / 04 / 14 : K 5 . 1 , clearence creatinina 57 Ao EF : PA 170x100mmHg ( relata PA normal quando em ambiente não hospitalar ) , FC 63bpm AR : mv sem RA ACV : rcr em 2T sem sopros , com hipofonese de bulhas AD : abdome globos , normotenso , indolor , ausência de massas ou visceromegalias MMII sem edema HD : - ICC diastólica classe III - HAS - DMII - Dislipidemia CD : - mantenho medicação - retorno em 6 m com exames laboratoriais + ECG .'], ['abdome total', 'Rsultado de exames : 1 - Microalbuminúria 12 / 04 : 10 . 64 / G de creatinina 2 - US abdome total : rins com alterações tróficas 3 - ECG 19 / 03 / 14 : isquemia subepicárdica anterior , alteração de repolarização ventricular infero - lateral 4 - Laboratoriais 12 / 04 / 14 : K 5 . 1 , clearence creatinina 57 Ao EF : PA 170x100mmHg ( relata PA normal quando em ambiente não hospitalar ) , FC 63bpm AR : mv sem RA ACV : rcr em 2T sem sopros , com hipofonese de bulhas AD : abdome globos , normotenso , indolor , ausência de massas ou visceromegalias MMII sem edema HD : - ICC diastólica classe III - HAS - DMII - Dislipidemia CD : - mantenho medicação - retorno em 6 m com exames laboratoriais + ECG .'], ['alterações tróficas', 'Rsultado de exames : 1 - Microalbuminúria 12 / 04 : 10 . 64 / G de creatinina 2 - US abdome total : rins com alterações tróficas 3 - ECG 19 / 03 / 14 : isquemia subepicárdica anterior , alteração de repolarização ventricular infero - lateral 4 - Laboratoriais 12 / 04 / 14 : K 5 . 1 , clearence creatinina 57 Ao EF : PA 170x100mmHg ( relata PA normal quando em ambiente não hospitalar ) , FC 63bpm AR : mv sem RA ACV : rcr em 2T sem sopros , com hipofonese de bulhas AD : abdome globos , normotenso , indolor , ausência de massas ou visceromegalias MMII sem edema HD : - ICC diastólica classe III - HAS - DMII - Dislipidemia CD : - mantenho medicação - retorno em 6 m com exames laboratoriais + ECG .'], ['ECG', 'Rsultado de exames : 1 - Microalbuminúria 12 / 04 : 10 . 64 / G de creatinina 2 - US abdome total : rins com alterações tróficas 3 - ECG 19 / 03 / 14 : isquemia subepicárdica anterior , alteração de repolarização ventricular infero - lateral 4 - Laboratoriais 12 / 04 / 14 : K 5 . 1 , clearence creatinina 57 Ao EF : PA 170x100mmHg ( relata PA normal quando em ambiente não hospitalar ) , FC 63bpm AR : mv sem RA ACV : rcr em 2T sem sopros , com hipofonese de bulhas AD : abdome globos , normotenso , indolor , ausência de massas ou visceromegalias MMII sem edema HD : - ICC diastólica classe III - HAS - DMII - Dislipidemia CD : - mantenho medicação - retorno em 6 m com exames laboratoriais + ECG .'], ['isquemia subepicárdica anterior', 'Rsultado de exames : 1 - Microalbuminúria 12 / 04 : 10 . 64 / G de creatinina 2 - US abdome total : rins com alterações tróficas 3 - ECG 19 / 03 / 14 : isquemia subepicárdica anterior , alteração de repolarização ventricular infero - lateral 4 - Laboratoriais 12 / 04 / 14 : K 5 . 1 , clearence creatinina 57 Ao EF : PA 170x100mmHg ( relata PA normal quando em ambiente não hospitalar ) , FC 63bpm AR : mv sem RA ACV : rcr em 2T sem sopros , com hipofonese de bulhas AD : abdome globos , normotenso , indolor , ausência de massas ou visceromegalias MMII sem edema HD : - ICC diastólica classe III - HAS - DMII - Dislipidemia CD : - mantenho medicação - retorno em 6 m com exames laboratoriais + ECG .'], ['ventricular infero', 'Rsultado de exames : 1 - Microalbuminúria 12 / 04 : 10 . 64 / G de creatinina 2 - US abdome total : rins com alterações tróficas 3 - ECG 19 / 03 / 14 : isquemia subepicárdica anterior , alteração de repolarização ventricular infero - lateral 4 - Laboratoriais 12 / 04 / 14 : K 5 . 1 , clearence creatinina 57 Ao EF : PA 170x100mmHg ( relata PA normal quando em ambiente não hospitalar ) , FC 63bpm AR : mv sem RA ACV : rcr em 2T sem sopros , com hipofonese de bulhas AD : abdome globos , normotenso , indolor , ausência de massas ou visceromegalias MMII sem edema HD : - ICC diastólica classe III - HAS - DMII - Dislipidemia CD : - mantenho medicação - retorno em 6 m com exames laboratoriais + ECG .'], ['repolarização ventricular infero', 'Rsultado de exames : 1 - Microalbuminúria 12 / 04 : 10 . 64 / G de creatinina 2 - US abdome total : rins com alterações tróficas 3 - ECG 19 / 03 / 14 : isquemia subepicárdica anterior , alteração de repolarização ventricular infero - lateral 4 - Laboratoriais 12 / 04 / 14 : K 5 . 1 , clearence creatinina 57 Ao EF : PA 170x100mmHg ( relata PA normal quando em ambiente não hospitalar ) , FC 63bpm AR : mv sem RA ACV : rcr em 2T sem sopros , com hipofonese de bulhas AD : abdome globos , normotenso , indolor , ausência de massas ou visceromegalias MMII sem edema HD : - ICC diastólica classe III - HAS - DMII - Dislipidemia CD : - mantenho medicação - retorno em 6 m com exames laboratoriais + ECG .'], ['alteração de repolarização ventricular', 'Rsultado de exames : 1 - Microalbuminúria 12 / 04 : 10 . 64 / G de creatinina 2 - US abdome total : rins com alterações tróficas 3 - ECG 19 / 03 / 14 : isquemia subepicárdica anterior , alteração de repolarização ventricular infero - lateral 4 - Laboratoriais 12 / 04 / 14 : K 5 . 1 , clearence creatinina 57 Ao EF : PA 170x100mmHg ( relata PA normal quando em ambiente não hospitalar ) , FC 63bpm AR : mv sem RA ACV : rcr em 2T sem sopros , com hipofonese de bulhas AD : abdome globos , normotenso , indolor , ausência de massas ou visceromegalias MMII sem edema HD : - ICC diastólica classe III - HAS - DMII - Dislipidemia CD : - mantenho medicação - retorno em 6 m com exames laboratoriais + ECG .'], ['de repolarização ventricular infero', 'Rsultado de exames : 1 - Microalbuminúria 12 / 04 : 10 . 64 / G de creatinina 2 - US abdome total : rins com alterações tróficas 3 - ECG 19 / 03 / 14 : isquemia subepicárdica anterior , alteração de repolarização ventricular infero - lateral 4 - Laboratoriais 12 / 04 / 14 : K 5 . 1 , clearence creatinina 57 Ao EF : PA 170x100mmHg ( relata PA normal quando em ambiente não hospitalar ) , FC 63bpm AR : mv sem RA ACV : rcr em 2T sem sopros , com hipofonese de bulhas AD : abdome globos , normotenso , indolor , ausência de massas ou visceromegalias MMII sem edema HD : - ICC diastólica classe III - HAS - DMII - Dislipidemia CD : - mantenho medicação - retorno em 6 m com exames laboratoriais + ECG .'], ['repolarização ventricular infero -', 'Rsultado de exames : 1 - Microalbuminúria 12 / 04 : 10 . 64 / G de creatinina 2 - US abdome total : rins com alterações tróficas 3 - ECG 19 / 03 / 14 : isquemia subepicárdica anterior , alteração de repolarização ventricular infero - lateral 4 - Laboratoriais 12 / 04 / 14 : K 5 . 1 , clearence creatinina 57 Ao EF : PA 170x100mmHg ( relata PA normal quando em ambiente não hospitalar ) , FC 63bpm AR : mv sem RA ACV : rcr em 2T sem sopros , com hipofonese de bulhas AD : abdome globos , normotenso , indolor , ausência de massas ou visceromegalias MMII sem edema HD : - ICC diastólica classe III - HAS - DMII - Dislipidemia CD : - mantenho medicação - retorno em 6 m com exames laboratoriais + ECG .'], ['ventricular infero - lateral', 'Rsultado de exames : 1 - Microalbuminúria 12 / 04 : 10 . 64 / G de creatinina 2 - US abdome total : rins com alterações tróficas 3 - ECG 19 / 03 / 14 : isquemia subepicárdica anterior , alteração de repolarização ventricular infero - lateral 4 - Laboratoriais 12 / 04 / 14 : K 5 . 1 , clearence creatinina 57 Ao EF : PA 170x100mmHg ( relata PA normal quando em ambiente não hospitalar ) , FC 63bpm AR : mv sem RA ACV : rcr em 2T sem sopros , com hipofonese de bulhas AD : abdome globos , normotenso , indolor , ausência de massas ou visceromegalias MMII sem edema HD : - ICC diastólica classe III - HAS - DMII - Dislipidemia CD : - mantenho medicação - retorno em 6 m com exames laboratoriais + ECG .'], ['alteração de repolarização ventricular infero', 'Rsultado de exames : 1 - Microalbuminúria 12 / 04 : 10 . 64 / G de creatinina 2 - US abdome total : rins com alterações tróficas 3 - ECG 19 / 03 / 14 : isquemia subepicárdica anterior , alteração de repolarização ventricular infero - lateral 4 - Laboratoriais 12 / 04 / 14 : K 5 . 1 , clearence creatinina 57 Ao EF : PA 170x100mmHg ( relata PA normal quando em ambiente não hospitalar ) , FC 63bpm AR : mv sem RA ACV : rcr em 2T sem sopros , com hipofonese de bulhas AD : abdome globos , normotenso , indolor , ausência de massas ou visceromegalias MMII sem edema HD : - ICC diastólica classe III - HAS - DMII - Dislipidemia CD : - mantenho medicação - retorno em 6 m com exames laboratoriais + ECG .'], ['de repolarização ventricular infero -', 'Rsultado de exames : 1 - Microalbuminúria 12 / 04 : 10 . 64 / G de creatinina 2 - US abdome total : rins com alterações tróficas 3 - ECG 19 / 03 / 14 : isquemia subepicárdica anterior , alteração de repolarização ventricular infero - lateral 4 - Laboratoriais 12 / 04 / 14 : K 5 . 1 , clearence creatinina 57 Ao EF : PA 170x100mmHg ( relata PA normal quando em ambiente não hospitalar ) , FC 63bpm AR : mv sem RA ACV : rcr em 2T sem sopros , com hipofonese de bulhas AD : abdome globos , normotenso , indolor , ausência de massas ou visceromegalias MMII sem edema HD : - ICC diastólica classe III - HAS - DMII - Dislipidemia CD : - mantenho medicação - retorno em 6 m com exames laboratoriais + ECG .'], ['repolarização ventricular infero - lateral', 'Rsultado de exames : 1 - Microalbuminúria 12 / 04 : 10 . 64 / G de creatinina 2 - US abdome total : rins com alterações tróficas 3 - ECG 19 / 03 / 14 : isquemia subepicárdica anterior , alteração de repolarização ventricular infero - lateral 4 - Laboratoriais 12 / 04 / 14 : K 5 . 1 , clearence creatinina 57 Ao EF : PA 170x100mmHg ( relata PA normal quando em ambiente não hospitalar ) , FC 63bpm AR : mv sem RA ACV : rcr em 2T sem sopros , com hipofonese de bulhas AD : abdome globos , normotenso , indolor , ausência de massas ou visceromegalias MMII sem edema HD : - ICC diastólica classe III - HAS - DMII - Dislipidemia CD : - mantenho medicação - retorno em 6 m com exames laboratoriais + ECG .'], ['alteração de repolarização ventricular infero -', 'Rsultado de exames : 1 - Microalbuminúria 12 / 04 : 10 . 64 / G de creatinina 2 - US abdome total : rins com alterações tróficas 3 - ECG 19 / 03 / 14 : isquemia subepicárdica anterior , alteração de repolarização ventricular infero - lateral 4 - Laboratoriais 12 / 04 / 14 : K 5 . 1 , clearence creatinina 57 Ao EF : PA 170x100mmHg ( relata PA normal quando em ambiente não hospitalar ) , FC 63bpm AR : mv sem RA ACV : rcr em 2T sem sopros , com hipofonese de bulhas AD : abdome globos , normotenso , indolor , ausência de massas ou visceromegalias MMII sem edema HD : - ICC diastólica classe III - HAS - DMII - Dislipidemia CD : - mantenho medicação - retorno em 6 m com exames laboratoriais + ECG .'], ['de repolarização ventricular infero - lateral', 'Rsultado de exames : 1 - Microalbuminúria 12 / 04 : 10 . 64 / G de creatinina 2 - US abdome total : rins com alterações tróficas 3 - ECG 19 / 03 / 14 : isquemia subepicárdica anterior , alteração de repolarização ventricular infero - lateral 4 - Laboratoriais 12 / 04 / 14 : K 5 . 1 , clearence creatinina 57 Ao EF : PA 170x100mmHg ( relata PA normal quando em ambiente não hospitalar ) , FC 63bpm AR : mv sem RA ACV : rcr em 2T sem sopros , com hipofonese de bulhas AD : abdome globos , normotenso , indolor , ausência de massas ou visceromegalias MMII sem edema HD : - ICC diastólica classe III - HAS - DMII - Dislipidemia CD : - mantenho medicação - retorno em 6 m com exames laboratoriais + ECG .'], ['Laboratoriais', 'Rsultado de exames : 1 - Microalbuminúria 12 / 04 : 10 . 64 / G de creatinina 2 - US abdome total : rins com alterações tróficas 3 - ECG 19 / 03 / 14 : isquemia subepicárdica anterior , alteração de repolarização ventricular infero - lateral 4 - Laboratoriais 12 / 04 / 14 : K 5 . 1 , clearence creatinina 57 Ao EF : PA 170x100mmHg ( relata PA normal quando em ambiente não hospitalar ) , FC 63bpm AR : mv sem RA ACV : rcr em 2T sem sopros , com hipofonese de bulhas AD : abdome globos , normotenso , indolor , ausência de massas ou visceromegalias MMII sem edema HD : - ICC diastólica classe III - HAS - DMII - Dislipidemia CD : - mantenho medicação - retorno em 6 m com exames laboratoriais + ECG .'], ['K', 'Rsultado de exames : 1 - Microalbuminúria 12 / 04 : 10 . 64 / G de creatinina 2 - US abdome total : rins com alterações tróficas 3 - ECG 19 / 03 / 14 : isquemia subepicárdica anterior , alteração de repolarização ventricular infero - lateral 4 - Laboratoriais 12 / 04 / 14 : K 5 . 1 , clearence creatinina 57 Ao EF : PA 170x100mmHg ( relata PA normal quando em ambiente não hospitalar ) , FC 63bpm AR : mv sem RA ACV : rcr em 2T sem sopros , com hipofonese de bulhas AD : abdome globos , normotenso , indolor , ausência de massas ou visceromegalias MMII sem edema HD : - ICC diastólica classe III - HAS - DMII - Dislipidemia CD : - mantenho medicação - retorno em 6 m com exames laboratoriais + ECG .'], ['clearence creatinina', 'Rsultado de exames : 1 - Microalbuminúria 12 / 04 : 10 . 64 / G de creatinina 2 - US abdome total : rins com alterações tróficas 3 - ECG 19 / 03 / 14 : isquemia subepicárdica anterior , alteração de repolarização ventricular infero - lateral 4 - Laboratoriais 12 / 04 / 14 : K 5 . 1 , clearence creatinina 57 Ao EF : PA 170x100mmHg ( relata PA normal quando em ambiente não hospitalar ) , FC 63bpm AR : mv sem RA ACV : rcr em 2T sem sopros , com hipofonese de bulhas AD : abdome globos , normotenso , indolor , ausência de massas ou visceromegalias MMII sem edema HD : - ICC diastólica classe III - HAS - DMII - Dislipidemia CD : - mantenho medicação - retorno em 6 m com exames laboratoriais + ECG .'], ['EF', 'Rsultado de exames : 1 - Microalbuminúria 12 / 04 : 10 . 64 / G de creatinina 2 - US abdome total : rins com alterações tróficas 3 - ECG 19 / 03 / 14 : isquemia subepicárdica anterior , alteração de repolarização ventricular infero - lateral 4 - Laboratoriais 12 / 04 / 14 : K 5 . 1 , clearence creatinina 57 Ao EF : PA 170x100mmHg ( relata PA normal quando em ambiente não hospitalar ) , FC 63bpm AR : mv sem RA ACV : rcr em 2T sem sopros , com hipofonese de bulhas AD : abdome globos , normotenso , indolor , ausência de massas ou visceromegalias MMII sem edema HD : - ICC diastólica classe III - HAS - DMII - Dislipidemia CD : - mantenho medicação - retorno em 6 m com exames laboratoriais + ECG .'], ['PA', 'Rsultado de exames : 1 - Microalbuminúria 12 / 04 : 10 . 64 / G de creatinina 2 - US abdome total : rins com alterações tróficas 3 - ECG 19 / 03 / 14 : isquemia subepicárdica anterior , alteração de repolarização ventricular infero - lateral 4 - Laboratoriais 12 / 04 / 14 : K 5 . 1 , clearence creatinina 57 Ao EF : PA 170x100mmHg ( relata PA normal quando em ambiente não hospitalar ) , FC 63bpm AR : mv sem RA ACV : rcr em 2T sem sopros , com hipofonese de bulhas AD : abdome globos , normotenso , indolor , ausência de massas ou visceromegalias MMII sem edema HD : - ICC diastólica classe III - HAS - DMII - Dislipidemia CD : - mantenho medicação - retorno em 6 m com exames laboratoriais + ECG .'], ['PA', 'Rsultado de exames : 1 - Microalbuminúria 12 / 04 : 10 . 64 / G de creatinina 2 - US abdome total : rins com alterações tróficas 3 - ECG 19 / 03 / 14 : isquemia subepicárdica anterior , alteração de repolarização ventricular infero - lateral 4 - Laboratoriais 12 / 04 / 14 : K 5 . 1 , clearence creatinina 57 Ao EF : PA 170x100mmHg ( relata PA normal quando em ambiente não hospitalar ) , FC 63bpm AR : mv sem RA ACV : rcr em 2T sem sopros , com hipofonese de bulhas AD : abdome globos , normotenso , indolor , ausência de massas ou visceromegalias MMII sem edema HD : - ICC diastólica classe III - HAS - DMII - Dislipidemia CD : - mantenho medicação - retorno em 6 m com exames laboratoriais + ECG .'], ['FC', 'Rsultado de exames : 1 - Microalbuminúria 12 / 04 : 10 . 64 / G de creatinina 2 - US abdome total : rins com alterações tróficas 3 - ECG 19 / 03 / 14 : isquemia subepicárdica anterior , alteração de repolarização ventricular infero - lateral 4 - Laboratoriais 12 / 04 / 14 : K 5 . 1 , clearence creatinina 57 Ao EF : PA 170x100mmHg ( relata PA normal quando em ambiente não hospitalar ) , FC 63bpm AR : mv sem RA ACV : rcr em 2T sem sopros , com hipofonese de bulhas AD : abdome globos , normotenso , indolor , ausência de massas ou visceromegalias MMII sem edema HD : - ICC diastólica classe III - HAS - DMII - Dislipidemia CD : - mantenho medicação - retorno em 6 m com exames laboratoriais + ECG .'], ['RA', 'Rsultado de exames : 1 - Microalbuminúria 12 / 04 : 10 . 64 / G de creatinina 2 - US abdome total : rins com alterações tróficas 3 - ECG 19 / 03 / 14 : isquemia subepicárdica anterior , alteração de repolarização ventricular infero - lateral 4 - Laboratoriais 12 / 04 / 14 : K 5 . 1 , clearence creatinina 57 Ao EF : PA 170x100mmHg ( relata PA normal quando em ambiente não hospitalar ) , FC 63bpm AR : mv sem RA ACV : rcr em 2T sem sopros , com hipofonese de bulhas AD : abdome globos , normotenso , indolor , ausência de massas ou visceromegalias MMII sem edema HD : - ICC diastólica classe III - HAS - DMII - Dislipidemia CD : - mantenho medicação - retorno em 6 m com exames laboratoriais + ECG .'], ['sopros', 'Rsultado de exames : 1 - Microalbuminúria 12 / 04 : 10 . 64 / G de creatinina 2 - US abdome total : rins com alterações tróficas 3 - ECG 19 / 03 / 14 : isquemia subepicárdica anterior , alteração de repolarização ventricular infero - lateral 4 - Laboratoriais 12 / 04 / 14 : K 5 . 1 , clearence creatinina 57 Ao EF : PA 170x100mmHg ( relata PA normal quando em ambiente não hospitalar ) , FC 63bpm AR : mv sem RA ACV : rcr em 2T sem sopros , com hipofonese de bulhas AD : abdome globos , normotenso , indolor , ausência de massas ou visceromegalias MMII sem edema HD : - ICC diastólica classe III - HAS - DMII - Dislipidemia CD : - mantenho medicação - retorno em 6 m com exames laboratoriais + ECG .'], ['hipofonese de bulhas', 'Rsultado de exames : 1 - Microalbuminúria 12 / 04 : 10 . 64 / G de creatinina 2 - US abdome total : rins com alterações tróficas 3 - ECG 19 / 03 / 14 : isquemia subepicárdica anterior , alteração de repolarização ventricular infero - lateral 4 - Laboratoriais 12 / 04 / 14 : K 5 . 1 , clearence creatinina 57 Ao EF : PA 170x100mmHg ( relata PA normal quando em ambiente não hospitalar ) , FC 63bpm AR : mv sem RA ACV : rcr em 2T sem sopros , com hipofonese de bulhas AD : abdome globos , normotenso , indolor , ausência de massas ou visceromegalias MMII sem edema HD : - ICC diastólica classe III - HAS - DMII - Dislipidemia CD : - mantenho medicação - retorno em 6 m com exames laboratoriais + ECG .'], ['ICC diastólica classe III', 'Rsultado de exames : 1 - Microalbuminúria 12 / 04 : 10 . 64 / G de creatinina 2 - US abdome total : rins com alterações tróficas 3 - ECG 19 / 03 / 14 : isquemia subepicárdica anterior , alteração de repolarização ventricular infero - lateral 4 - Laboratoriais 12 / 04 / 14 : K 5 . 1 , clearence creatinina 57 Ao EF : PA 170x100mmHg ( relata PA normal quando em ambiente não hospitalar ) , FC 63bpm AR : mv sem RA ACV : rcr em 2T sem sopros , com hipofonese de bulhas AD : abdome globos , normotenso , indolor , ausência de massas ou visceromegalias MMII sem edema HD : - ICC diastólica classe III - HAS - DMII - Dislipidemia CD : - mantenho medicação - retorno em 6 m com exames laboratoriais + ECG .'], ['HAS', 'Rsultado de exames : 1 - Microalbuminúria 12 / 04 : 10 . 64 / G de creatinina 2 - US abdome total : rins com alterações tróficas 3 - ECG 19 / 03 / 14 : isquemia subepicárdica anterior , alteração de repolarização ventricular infero - lateral 4 - Laboratoriais 12 / 04 / 14 : K 5 . 1 , clearence creatinina 57 Ao EF : PA 170x100mmHg ( relata PA normal quando em ambiente não hospitalar ) , FC 63bpm AR : mv sem RA ACV : rcr em 2T sem sopros , com hipofonese de bulhas AD : abdome globos , normotenso , indolor , ausência de massas ou visceromegalias MMII sem edema HD : - ICC diastólica classe III - HAS - DMII - Dislipidemia CD : - mantenho medicação - retorno em 6 m com exames laboratoriais + ECG .'], ['DMII', 'Rsultado de exames : 1 - Microalbuminúria 12 / 04 : 10 . 64 / G de creatinina 2 - US abdome total : rins com alterações tróficas 3 - ECG 19 / 03 / 14 : isquemia subepicárdica anterior , alteração de repolarização ventricular infero - lateral 4 - Laboratoriais 12 / 04 / 14 : K 5 . 1 , clearence creatinina 57 Ao EF : PA 170x100mmHg ( relata PA normal quando em ambiente não hospitalar ) , FC 63bpm AR : mv sem RA ACV : rcr em 2T sem sopros , com hipofonese de bulhas AD : abdome globos , normotenso , indolor , ausência de massas ou visceromegalias MMII sem edema HD : - ICC diastólica classe III - HAS - DMII - Dislipidemia CD : - mantenho medicação - retorno em 6 m com exames laboratoriais + ECG .'], ['Dislipidemia', 'Rsultado de exames : 1 - Microalbuminúria 12 / 04 : 10 . 64 / G de creatinina 2 - US abdome total : rins com alterações tróficas 3 - ECG 19 / 03 / 14 : isquemia subepicárdica anterior , alteração de repolarização ventricular infero - lateral 4 - Laboratoriais 12 / 04 / 14 : K 5 . 1 , clearence creatinina 57 Ao EF : PA 170x100mmHg ( relata PA normal quando em ambiente não hospitalar ) , FC 63bpm AR : mv sem RA ACV : rcr em 2T sem sopros , com hipofonese de bulhas AD : abdome globos , normotenso , indolor , ausência de massas ou visceromegalias MMII sem edema HD : - ICC diastólica classe III - HAS - DMII - Dislipidemia CD : - mantenho medicação - retorno em 6 m com exames laboratoriais + ECG .'], ['medicação', 'Rsultado de exames : 1 - Microalbuminúria 12 / 04 : 10 . 64 / G de creatinina 2 - US abdome total : rins com alterações tróficas 3 - ECG 19 / 03 / 14 : isquemia subepicárdica anterior , alteração de repolarização ventricular infero - lateral 4 - Laboratoriais 12 / 04 / 14 : K 5 . 1 , clearence creatinina 57 Ao EF : PA 170x100mmHg ( relata PA normal quando em ambiente não hospitalar ) , FC 63bpm AR : mv sem RA ACV : rcr em 2T sem sopros , com hipofonese de bulhas AD : abdome globos , normotenso , indolor , ausência de massas ou visceromegalias MMII sem edema HD : - ICC diastólica classe III - HAS - DMII - Dislipidemia CD : - mantenho medicação - retorno em 6 m com exames laboratoriais + ECG .'], ['exames laboratoriais', 'Rsultado de exames : 1 - Microalbuminúria 12 / 04 : 10 . 64 / G de creatinina 2 - US abdome total : rins com alterações tróficas 3 - ECG 19 / 03 / 14 : isquemia subepicárdica anterior , alteração de repolarização ventricular infero - lateral 4 - Laboratoriais 12 / 04 / 14 : K 5 . 1 , clearence creatinina 57 Ao EF : PA 170x100mmHg ( relata PA normal quando em ambiente não hospitalar ) , FC 63bpm AR : mv sem RA ACV : rcr em 2T sem sopros , com hipofonese de bulhas AD : abdome globos , normotenso , indolor , ausência de massas ou visceromegalias MMII sem edema HD : - ICC diastólica classe III - HAS - DMII - Dislipidemia CD : - mantenho medicação - retorno em 6 m com exames laboratoriais + ECG .'], ['ECG', 'Rsultado de exames : 1 - Microalbuminúria 12 / 04 : 10 . 64 / G de creatinina 2 - US abdome total : rins com alterações tróficas 3 - ECG 19 / 03 / 14 : isquemia subepicárdica anterior , alteração de repolarização ventricular infero - lateral 4 - Laboratoriais 12 / 04 / 14 : K 5 . 1 , clearence creatinina 57 Ao EF : PA 170x100mmHg ( relata PA normal quando em ambiente não hospitalar ) , FC 63bpm AR : mv sem RA ACV : rcr em 2T sem sopros , com hipofonese de bulhas AD : abdome globos , normotenso , indolor , ausência de massas ou visceromegalias MMII sem edema HD : - ICC diastólica classe III - HAS - DMII - Dislipidemia CD : - mantenho medicação - retorno em 6 m com exames laboratoriais + ECG .']]\n"
     ]
    },
    {
     "data": {
      "application/vnd.jupyter.widget-view+json": {
       "model_id": "c41f3f7dee984a56a3580867133e14aa",
       "version_major": 2,
       "version_minor": 0
      },
      "text/plain": [
       "  0%|          | 0/38 [00:00<?, ?it/s]"
      ]
     },
     "metadata": {},
     "output_type": "display_data"
    },
    {
     "data": {
      "application/vnd.jupyter.widget-view+json": {
       "model_id": "388f4c57fce24f1f87bfa7d0a8b539bf",
       "version_major": 2,
       "version_minor": 0
      },
      "text/plain": [
       "  0%|          | 0/5 [00:00<?, ?it/s]"
      ]
     },
     "metadata": {},
     "output_type": "display_data"
    },
    {
     "name": "stdout",
     "output_type": "stream",
     "text": [
      "predictions: [2 2 2 2 2 2 3 0 2 0 3 0 0 0 0 3 0 0 0 0 0 2 2 2 2 2 2 2 0 0 0 0 0 0 0 1 2\n",
      " 2]\n",
      "lista: [['ICC classe III HAS', 'ICC classe III HAS , em uso de atenolol 100mg / dia , AAS , 100mg / dia , furosemida 40mg 1cp 12 / 12h , anlodipino 5mg 1 / 2 cp à noite , losartana 50mg 12 / 12h DMII , metformina 850mg 12 / 12h Dislipidemia , faz uso de sinvastatina 20mg 02 cp à noite .'], ['classe III HAS', 'ICC classe III HAS , em uso de atenolol 100mg / dia , AAS , 100mg / dia , furosemida 40mg 1cp 12 / 12h , anlodipino 5mg 1 / 2 cp à noite , losartana 50mg 12 / 12h DMII , metformina 850mg 12 / 12h Dislipidemia , faz uso de sinvastatina 20mg 02 cp à noite .'], ['atenolol 100mg', 'ICC classe III HAS , em uso de atenolol 100mg / dia , AAS , 100mg / dia , furosemida 40mg 1cp 12 / 12h , anlodipino 5mg 1 / 2 cp à noite , losartana 50mg 12 / 12h DMII , metformina 850mg 12 / 12h Dislipidemia , faz uso de sinvastatina 20mg 02 cp à noite .'], ['AAS , 100mg', 'ICC classe III HAS , em uso de atenolol 100mg / dia , AAS , 100mg / dia , furosemida 40mg 1cp 12 / 12h , anlodipino 5mg 1 / 2 cp à noite , losartana 50mg 12 / 12h DMII , metformina 850mg 12 / 12h Dislipidemia , faz uso de sinvastatina 20mg 02 cp à noite .'], ['AAS', 'ICC classe III HAS , em uso de atenolol 100mg / dia , AAS , 100mg / dia , furosemida 40mg 1cp 12 / 12h , anlodipino 5mg 1 / 2 cp à noite , losartana 50mg 12 / 12h DMII , metformina 850mg 12 / 12h Dislipidemia , faz uso de sinvastatina 20mg 02 cp à noite .'], ['furosemida 40mg', 'ICC classe III HAS , em uso de atenolol 100mg / dia , AAS , 100mg / dia , furosemida 40mg 1cp 12 / 12h , anlodipino 5mg 1 / 2 cp à noite , losartana 50mg 12 / 12h DMII , metformina 850mg 12 / 12h Dislipidemia , faz uso de sinvastatina 20mg 02 cp à noite .'], ['anlodipino 5mg', 'ICC classe III HAS , em uso de atenolol 100mg / dia , AAS , 100mg / dia , furosemida 40mg 1cp 12 / 12h , anlodipino 5mg 1 / 2 cp à noite , losartana 50mg 12 / 12h DMII , metformina 850mg 12 / 12h Dislipidemia , faz uso de sinvastatina 20mg 02 cp à noite .'], ['losartana 50mg', 'ICC classe III HAS , em uso de atenolol 100mg / dia , AAS , 100mg / dia , furosemida 40mg 1cp 12 / 12h , anlodipino 5mg 1 / 2 cp à noite , losartana 50mg 12 / 12h DMII , metformina 850mg 12 / 12h Dislipidemia , faz uso de sinvastatina 20mg 02 cp à noite .'], ['metformina 850mg', 'ICC classe III HAS , em uso de atenolol 100mg / dia , AAS , 100mg / dia , furosemida 40mg 1cp 12 / 12h , anlodipino 5mg 1 / 2 cp à noite , losartana 50mg 12 / 12h DMII , metformina 850mg 12 / 12h Dislipidemia , faz uso de sinvastatina 20mg 02 cp à noite .']]\n"
     ]
    },
    {
     "data": {
      "application/vnd.jupyter.widget-view+json": {
       "model_id": "9ec9d09a0c914586ba189774db818822",
       "version_major": 2,
       "version_minor": 0
      },
      "text/plain": [
       "  0%|          | 0/9 [00:00<?, ?it/s]"
      ]
     },
     "metadata": {},
     "output_type": "display_data"
    },
    {
     "data": {
      "application/vnd.jupyter.widget-view+json": {
       "model_id": "f8a48306867c4926a9d1c5d474453434",
       "version_major": 2,
       "version_minor": 0
      },
      "text/plain": [
       "  0%|          | 0/2 [00:00<?, ?it/s]"
      ]
     },
     "metadata": {},
     "output_type": "display_data"
    },
    {
     "name": "stdout",
     "output_type": "stream",
     "text": [
      "predictions: [0 0 1 1 1 1 1 1 1]\n",
      "lista: [['TX CARDIACO', 'POS TX CARDIACO HA 20 dias .'], ['CARDIACO', 'POS TX CARDIACO HA 20 dias .']]\n"
     ]
    },
    {
     "data": {
      "application/vnd.jupyter.widget-view+json": {
       "model_id": "6b3b5d0a005141edbface29bc00743d5",
       "version_major": 2,
       "version_minor": 0
      },
      "text/plain": [
       "  0%|          | 0/2 [00:00<?, ?it/s]"
      ]
     },
     "metadata": {},
     "output_type": "display_data"
    },
    {
     "data": {
      "application/vnd.jupyter.widget-view+json": {
       "model_id": "a1ef754b3a584039872c9ff4a8602083",
       "version_major": 2,
       "version_minor": 0
      },
      "text/plain": [
       "  0%|          | 0/1 [00:00<?, ?it/s]"
      ]
     },
     "metadata": {},
     "output_type": "display_data"
    },
    {
     "name": "stdout",
     "output_type": "stream",
     "text": [
      "predictions: [1 3]\n",
      "lista: [['BIOPSIA', 'ULTIMA BIOPSIA AINDA SEM RESULTADO .']]\n"
     ]
    },
    {
     "data": {
      "application/vnd.jupyter.widget-view+json": {
       "model_id": "c9136a7f87b04c268704a8352a673d06",
       "version_major": 2,
       "version_minor": 0
      },
      "text/plain": [
       "  0%|          | 0/1 [00:00<?, ?it/s]"
      ]
     },
     "metadata": {},
     "output_type": "display_data"
    },
    {
     "data": {
      "application/vnd.jupyter.widget-view+json": {
       "model_id": "9d95c9afbc214a40b898fa4f9c695ee6",
       "version_major": 2,
       "version_minor": 0
      },
      "text/plain": [
       "  0%|          | 0/1 [00:00<?, ?it/s]"
      ]
     },
     "metadata": {},
     "output_type": "display_data"
    },
    {
     "name": "stdout",
     "output_type": "stream",
     "text": [
      "predictions: [2]\n",
      "lista: [['EVEROLIMUS 0 , 75', 'EM USO DE EVEROLIMUS 0 , 75 DE 8 / 8 , AZATIOPRINA 50 / 50 E PREDNISONA 20MG / DIA .'], ['AZATIOPRINA 50', 'EM USO DE EVEROLIMUS 0 , 75 DE 8 / 8 , AZATIOPRINA 50 / 50 E PREDNISONA 20MG / DIA .'], ['AZATIOPRINA', 'EM USO DE EVEROLIMUS 0 , 75 DE 8 / 8 , AZATIOPRINA 50 / 50 E PREDNISONA 20MG / DIA .'], ['PREDNISONA 20MG', 'EM USO DE EVEROLIMUS 0 , 75 DE 8 / 8 , AZATIOPRINA 50 / 50 E PREDNISONA 20MG / DIA .']]\n"
     ]
    },
    {
     "data": {
      "application/vnd.jupyter.widget-view+json": {
       "model_id": "d7989b994c6c4cfda0510c9a894119c3",
       "version_major": 2,
       "version_minor": 0
      },
      "text/plain": [
       "  0%|          | 0/4 [00:00<?, ?it/s]"
      ]
     },
     "metadata": {},
     "output_type": "display_data"
    },
    {
     "data": {
      "application/vnd.jupyter.widget-view+json": {
       "model_id": "567c073b668a4aae9202bf8c632206ad",
       "version_major": 2,
       "version_minor": 0
      },
      "text/plain": [
       "  0%|          | 0/1 [00:00<?, ?it/s]"
      ]
     },
     "metadata": {},
     "output_type": "display_data"
    },
    {
     "name": "stdout",
     "output_type": "stream",
     "text": [
      "predictions: [1 1 1 1]\n",
      "lista: [['FURO', 'USO DE FURO , AAS , SINVA .'], ['AAS', 'USO DE FURO , AAS , SINVA .'], ['SINVA', 'USO DE FURO , AAS , SINVA .']]\n"
     ]
    },
    {
     "data": {
      "application/vnd.jupyter.widget-view+json": {
       "model_id": "4955228f234d4238a556b9bfe2067db0",
       "version_major": 2,
       "version_minor": 0
      },
      "text/plain": [
       "  0%|          | 0/3 [00:00<?, ?it/s]"
      ]
     },
     "metadata": {},
     "output_type": "display_data"
    },
    {
     "data": {
      "application/vnd.jupyter.widget-view+json": {
       "model_id": "6dcdde3368a44340b902cd5878307460",
       "version_major": 2,
       "version_minor": 0
      },
      "text/plain": [
       "  0%|          | 0/1 [00:00<?, ?it/s]"
      ]
     },
     "metadata": {},
     "output_type": "display_data"
    },
    {
     "name": "stdout",
     "output_type": "stream",
     "text": [
      "predictions: [1 1 1]\n",
      "lista: [['QUEIXAS', 'S # SEM QUEIXAS .']]\n"
     ]
    },
    {
     "data": {
      "application/vnd.jupyter.widget-view+json": {
       "model_id": "4d9ef04a37744be2ad3e510ea6579952",
       "version_major": 2,
       "version_minor": 0
      },
      "text/plain": [
       "  0%|          | 0/1 [00:00<?, ?it/s]"
      ]
     },
     "metadata": {},
     "output_type": "display_data"
    },
    {
     "data": {
      "application/vnd.jupyter.widget-view+json": {
       "model_id": "7b4c778ff2ae4640b29916080e15717a",
       "version_major": 2,
       "version_minor": 0
      },
      "text/plain": [
       "  0%|          | 0/1 [00:00<?, ?it/s]"
      ]
     },
     "metadata": {},
     "output_type": "display_data"
    },
    {
     "name": "stdout",
     "output_type": "stream",
     "text": [
      "predictions: [0]\n",
      "lista: [['QUEIMAÇÃO NAS PERNAS', 'REFERE QUEIMAÇÃO NAS PERNAS .']]\n"
     ]
    },
    {
     "data": {
      "application/vnd.jupyter.widget-view+json": {
       "model_id": "18b4f8649e7749ebaa6b10e21ecaae77",
       "version_major": 2,
       "version_minor": 0
      },
      "text/plain": [
       "  0%|          | 0/1 [00:00<?, ?it/s]"
      ]
     },
     "metadata": {},
     "output_type": "display_data"
    },
    {
     "data": {
      "application/vnd.jupyter.widget-view+json": {
       "model_id": "b9c35ef2dec54e668fc516bd81651cc2",
       "version_major": 2,
       "version_minor": 0
      },
      "text/plain": [
       "  0%|          | 0/1 [00:00<?, ?it/s]"
      ]
     },
     "metadata": {},
     "output_type": "display_data"
    },
    {
     "name": "stdout",
     "output_type": "stream",
     "text": [
      "predictions: [0]\n",
      "lista: [['PA', 'O # PA 120 / 80 , FC 89 .'], ['FC', 'O # PA 120 / 80 , FC 89 .']]\n"
     ]
    },
    {
     "data": {
      "application/vnd.jupyter.widget-view+json": {
       "model_id": "fbef00ec9149415da6b8c378229973b1",
       "version_major": 2,
       "version_minor": 0
      },
      "text/plain": [
       "  0%|          | 0/2 [00:00<?, ?it/s]"
      ]
     },
     "metadata": {},
     "output_type": "display_data"
    },
    {
     "data": {
      "application/vnd.jupyter.widget-view+json": {
       "model_id": "3c01bfedf21e4a4eaed8ba991248fba8",
       "version_major": 2,
       "version_minor": 0
      },
      "text/plain": [
       "  0%|          | 0/1 [00:00<?, ?it/s]"
      ]
     },
     "metadata": {},
     "output_type": "display_data"
    },
    {
     "name": "stdout",
     "output_type": "stream",
     "text": [
      "predictions: [2 2]\n",
      "lista: [['CPP', 'CPP LIVRE .']]\n"
     ]
    },
    {
     "data": {
      "application/vnd.jupyter.widget-view+json": {
       "model_id": "fe041ab706b443f59f64c19a756889ed",
       "version_major": 2,
       "version_minor": 0
      },
      "text/plain": [
       "  0%|          | 0/1 [00:00<?, ?it/s]"
      ]
     },
     "metadata": {},
     "output_type": "display_data"
    },
    {
     "data": {
      "application/vnd.jupyter.widget-view+json": {
       "model_id": "218cbc18ede94a54b6ee430b9fe5ea0f",
       "version_major": 2,
       "version_minor": 0
      },
      "text/plain": [
       "  0%|          | 0/1 [00:00<?, ?it/s]"
      ]
     },
     "metadata": {},
     "output_type": "display_data"
    },
    {
     "name": "stdout",
     "output_type": "stream",
     "text": [
      "predictions: [3]\n",
      "lista: [['MMII', 'MMII SEM EDEMA .'], ['EDEMA', 'MMII SEM EDEMA .']]\n"
     ]
    },
    {
     "data": {
      "application/vnd.jupyter.widget-view+json": {
       "model_id": "24bf464bf2784a69a0ff5f77ce64bf9c",
       "version_major": 2,
       "version_minor": 0
      },
      "text/plain": [
       "  0%|          | 0/2 [00:00<?, ?it/s]"
      ]
     },
     "metadata": {},
     "output_type": "display_data"
    },
    {
     "data": {
      "application/vnd.jupyter.widget-view+json": {
       "model_id": "b46b5918b4f94c29a5ba358797650149",
       "version_major": 2,
       "version_minor": 0
      },
      "text/plain": [
       "  0%|          | 0/1 [00:00<?, ?it/s]"
      ]
     },
     "metadata": {},
     "output_type": "display_data"
    },
    {
     "name": "stdout",
     "output_type": "stream",
     "text": [
      "predictions: [3 0]\n",
      "lista: [['TX CARDIACO', 'A # POS TX CARDIACO , COM BOA EVOLUÇÃO .'], ['CARDIACO', 'A # POS TX CARDIACO , COM BOA EVOLUÇÃO .']]\n"
     ]
    },
    {
     "data": {
      "application/vnd.jupyter.widget-view+json": {
       "model_id": "cc74af93a26247e9bfa365d3a9ac5e11",
       "version_major": 2,
       "version_minor": 0
      },
      "text/plain": [
       "  0%|          | 0/2 [00:00<?, ?it/s]"
      ]
     },
     "metadata": {},
     "output_type": "display_data"
    },
    {
     "data": {
      "application/vnd.jupyter.widget-view+json": {
       "model_id": "daa01aa4f77f479f88e794ebf97654d4",
       "version_major": 2,
       "version_minor": 0
      },
      "text/plain": [
       "  0%|          | 0/1 [00:00<?, ?it/s]"
      ]
     },
     "metadata": {},
     "output_type": "display_data"
    },
    {
     "name": "stdout",
     "output_type": "stream",
     "text": [
      "predictions: [1 3]\n",
      "lista: [['BIOPSIA', 'P # NOVA BIOPSIA , ECO E LAB .'], ['ECO', 'P # NOVA BIOPSIA , ECO E LAB .'], ['LAB', 'P # NOVA BIOPSIA , ECO E LAB .']]\n"
     ]
    },
    {
     "data": {
      "application/vnd.jupyter.widget-view+json": {
       "model_id": "a87fbac6199d47f2940cdeb8d4a67215",
       "version_major": 2,
       "version_minor": 0
      },
      "text/plain": [
       "  0%|          | 0/3 [00:00<?, ?it/s]"
      ]
     },
     "metadata": {},
     "output_type": "display_data"
    },
    {
     "data": {
      "application/vnd.jupyter.widget-view+json": {
       "model_id": "8b36069ce9ba4e988e9a573d4206d766",
       "version_major": 2,
       "version_minor": 0
      },
      "text/plain": [
       "  0%|          | 0/1 [00:00<?, ?it/s]"
      ]
     },
     "metadata": {},
     "output_type": "display_data"
    },
    {
     "name": "stdout",
     "output_type": "stream",
     "text": [
      "predictions: [2 2 2]\n",
      "lista: [['PROTESE VALVAR', 'PROTESE VALVAR MI 2012 .']]\n"
     ]
    },
    {
     "data": {
      "application/vnd.jupyter.widget-view+json": {
       "model_id": "2f15cf0f750749b69ffd287785fbcad2",
       "version_major": 2,
       "version_minor": 0
      },
      "text/plain": [
       "  0%|          | 0/1 [00:00<?, ?it/s]"
      ]
     },
     "metadata": {},
     "output_type": "display_data"
    },
    {
     "data": {
      "application/vnd.jupyter.widget-view+json": {
       "model_id": "e1eae4543c7049da8e0acd6e6ed76c23",
       "version_major": 2,
       "version_minor": 0
      },
      "text/plain": [
       "  0%|          | 0/1 [00:00<?, ?it/s]"
      ]
     },
     "metadata": {},
     "output_type": "display_data"
    },
    {
     "name": "stdout",
     "output_type": "stream",
     "text": [
      "predictions: [0]\n",
      "lista: [['MAREVAN ENL 20', 'USA S MAREVAN ENL 20 12 - 12 ATL 50 12 - 12 ESPIRONOLACTONA 25 MG - D SVT 20 MG - D .'], ['ESPIRONOLACTONA 25 MG', 'USA S MAREVAN ENL 20 12 - 12 ATL 50 12 - 12 ESPIRONOLACTONA 25 MG - D SVT 20 MG - D .']]\n"
     ]
    },
    {
     "data": {
      "application/vnd.jupyter.widget-view+json": {
       "model_id": "32a12a42c53545228c0cddef815a56db",
       "version_major": 2,
       "version_minor": 0
      },
      "text/plain": [
       "  0%|          | 0/2 [00:00<?, ?it/s]"
      ]
     },
     "metadata": {},
     "output_type": "display_data"
    },
    {
     "data": {
      "application/vnd.jupyter.widget-view+json": {
       "model_id": "3cf4d72f123e4e5cb5d9c808c0dd083d",
       "version_major": 2,
       "version_minor": 0
      },
      "text/plain": [
       "  0%|          | 0/1 [00:00<?, ?it/s]"
      ]
     },
     "metadata": {},
     "output_type": "display_data"
    },
    {
     "name": "stdout",
     "output_type": "stream",
     "text": [
      "predictions: [1 1]\n",
      "lista: [['QX CARDIOLOGICAS', 'SEM QX CARDIOLOGICAS .'], ['CARDIOLOGICAS', 'SEM QX CARDIOLOGICAS .']]\n"
     ]
    },
    {
     "data": {
      "application/vnd.jupyter.widget-view+json": {
       "model_id": "c7a45ca40be347f5b5b505d358bbd1b2",
       "version_major": 2,
       "version_minor": 0
      },
      "text/plain": [
       "  0%|          | 0/2 [00:00<?, ?it/s]"
      ]
     },
     "metadata": {},
     "output_type": "display_data"
    },
    {
     "data": {
      "application/vnd.jupyter.widget-view+json": {
       "model_id": "717e982bbab04ae6a80659cfd4fe533c",
       "version_major": 2,
       "version_minor": 0
      },
      "text/plain": [
       "  0%|          | 0/1 [00:00<?, ?it/s]"
      ]
     },
     "metadata": {},
     "output_type": "display_data"
    },
    {
     "name": "stdout",
     "output_type": "stream",
     "text": [
      "predictions: [0 3]\n",
      "lista: [['AE', '27 - 01 - 15 FE 50 EP 25 AE 46 VE REMODELAMENTO CONCENTRICO AE E AD AUMENTADOS VD NL PROTESE AO NF REFLUXO DISCRETO = DUPLA LESAO MI COM ESTENOSE E INSUF MODERADAS - INSUF TRI MODERADA A IMPORTANTE = HIPERTENSAO PULMONAR .'], ['VE', '27 - 01 - 15 FE 50 EP 25 AE 46 VE REMODELAMENTO CONCENTRICO AE E AD AUMENTADOS VD NL PROTESE AO NF REFLUXO DISCRETO = DUPLA LESAO MI COM ESTENOSE E INSUF MODERADAS - INSUF TRI MODERADA A IMPORTANTE = HIPERTENSAO PULMONAR .'], ['DUPLA LESAO MI', '27 - 01 - 15 FE 50 EP 25 AE 46 VE REMODELAMENTO CONCENTRICO AE E AD AUMENTADOS VD NL PROTESE AO NF REFLUXO DISCRETO = DUPLA LESAO MI COM ESTENOSE E INSUF MODERADAS - INSUF TRI MODERADA A IMPORTANTE = HIPERTENSAO PULMONAR .'], ['DUPLA LESAO', '27 - 01 - 15 FE 50 EP 25 AE 46 VE REMODELAMENTO CONCENTRICO AE E AD AUMENTADOS VD NL PROTESE AO NF REFLUXO DISCRETO = DUPLA LESAO MI COM ESTENOSE E INSUF MODERADAS - INSUF TRI MODERADA A IMPORTANTE = HIPERTENSAO PULMONAR .'], ['LESAO MI', '27 - 01 - 15 FE 50 EP 25 AE 46 VE REMODELAMENTO CONCENTRICO AE E AD AUMENTADOS VD NL PROTESE AO NF REFLUXO DISCRETO = DUPLA LESAO MI COM ESTENOSE E INSUF MODERADAS - INSUF TRI MODERADA A IMPORTANTE = HIPERTENSAO PULMONAR .'], ['ESTENOSE', '27 - 01 - 15 FE 50 EP 25 AE 46 VE REMODELAMENTO CONCENTRICO AE E AD AUMENTADOS VD NL PROTESE AO NF REFLUXO DISCRETO = DUPLA LESAO MI COM ESTENOSE E INSUF MODERADAS - INSUF TRI MODERADA A IMPORTANTE = HIPERTENSAO PULMONAR .'], ['INSUF MODERADAS', '27 - 01 - 15 FE 50 EP 25 AE 46 VE REMODELAMENTO CONCENTRICO AE E AD AUMENTADOS VD NL PROTESE AO NF REFLUXO DISCRETO = DUPLA LESAO MI COM ESTENOSE E INSUF MODERADAS - INSUF TRI MODERADA A IMPORTANTE = HIPERTENSAO PULMONAR .'], ['HIPERTENSAO PULMONAR', '27 - 01 - 15 FE 50 EP 25 AE 46 VE REMODELAMENTO CONCENTRICO AE E AD AUMENTADOS VD NL PROTESE AO NF REFLUXO DISCRETO = DUPLA LESAO MI COM ESTENOSE E INSUF MODERADAS - INSUF TRI MODERADA A IMPORTANTE = HIPERTENSAO PULMONAR .'], ['PULMONAR', '27 - 01 - 15 FE 50 EP 25 AE 46 VE REMODELAMENTO CONCENTRICO AE E AD AUMENTADOS VD NL PROTESE AO NF REFLUXO DISCRETO = DUPLA LESAO MI COM ESTENOSE E INSUF MODERADAS - INSUF TRI MODERADA A IMPORTANTE = HIPERTENSAO PULMONAR .']]\n"
     ]
    },
    {
     "data": {
      "application/vnd.jupyter.widget-view+json": {
       "model_id": "d4072a65f578441793c70afe4c2c5565",
       "version_major": 2,
       "version_minor": 0
      },
      "text/plain": [
       "  0%|          | 0/9 [00:00<?, ?it/s]"
      ]
     },
     "metadata": {},
     "output_type": "display_data"
    },
    {
     "data": {
      "application/vnd.jupyter.widget-view+json": {
       "model_id": "0a7bc6561a0d4bf3a119b109b4748538",
       "version_major": 2,
       "version_minor": 0
      },
      "text/plain": [
       "  0%|          | 0/2 [00:00<?, ?it/s]"
      ]
     },
     "metadata": {},
     "output_type": "display_data"
    },
    {
     "name": "stdout",
     "output_type": "stream",
     "text": [
      "predictions: [3 3 0 0 0 0 0 0 3]\n",
      "lista: [['ACO', 'CONTROLE NO AMB VALVAS E ACO .']]\n"
     ]
    },
    {
     "data": {
      "application/vnd.jupyter.widget-view+json": {
       "model_id": "c1eaf2223cb54e12bca3dee3f90af325",
       "version_major": 2,
       "version_minor": 0
      },
      "text/plain": [
       "  0%|          | 0/1 [00:00<?, ?it/s]"
      ]
     },
     "metadata": {},
     "output_type": "display_data"
    },
    {
     "data": {
      "application/vnd.jupyter.widget-view+json": {
       "model_id": "dbed6b5686314188b6a02cad1fbd9743",
       "version_major": 2,
       "version_minor": 0
      },
      "text/plain": [
       "  0%|          | 0/1 [00:00<?, ?it/s]"
      ]
     },
     "metadata": {},
     "output_type": "display_data"
    },
    {
     "name": "stdout",
     "output_type": "stream",
     "text": [
      "predictions: [1]\n",
      "lista: [['Protese Metalica Aortica', 'Protese Metalica Aortica em 2004 .']]\n"
     ]
    },
    {
     "data": {
      "application/vnd.jupyter.widget-view+json": {
       "model_id": "24f30eaa187a4817abbcb4ce3eb8d689",
       "version_major": 2,
       "version_minor": 0
      },
      "text/plain": [
       "  0%|          | 0/1 [00:00<?, ?it/s]"
      ]
     },
     "metadata": {},
     "output_type": "display_data"
    },
    {
     "data": {
      "application/vnd.jupyter.widget-view+json": {
       "model_id": "08bd79f7995649c08f09ffcb280a67c2",
       "version_major": 2,
       "version_minor": 0
      },
      "text/plain": [
       "  0%|          | 0/1 [00:00<?, ?it/s]"
      ]
     },
     "metadata": {},
     "output_type": "display_data"
    },
    {
     "name": "stdout",
     "output_type": "stream",
     "text": [
      "predictions: [0]\n",
      "lista: [['Enalapril 10', 'Uso : Enalapril 10 - 2cp - 12 / 12 / Atenolol 50 - 1cp = 12 / 12 ; Espironolactona 25 - 1xd ; Sinvastatina 20 - 1x noite ; Calcio 500 - 3x d ; Marevan 5 - amb da ACXO ; Trazodona 25 1x d .'], ['Atenolol 50', 'Uso : Enalapril 10 - 2cp - 12 / 12 / Atenolol 50 - 1cp = 12 / 12 ; Espironolactona 25 - 1xd ; Sinvastatina 20 - 1x noite ; Calcio 500 - 3x d ; Marevan 5 - amb da ACXO ; Trazodona 25 1x d .'], ['Espironolactona 25', 'Uso : Enalapril 10 - 2cp - 12 / 12 / Atenolol 50 - 1cp = 12 / 12 ; Espironolactona 25 - 1xd ; Sinvastatina 20 - 1x noite ; Calcio 500 - 3x d ; Marevan 5 - amb da ACXO ; Trazodona 25 1x d .'], ['Sinvastatina 20', 'Uso : Enalapril 10 - 2cp - 12 / 12 / Atenolol 50 - 1cp = 12 / 12 ; Espironolactona 25 - 1xd ; Sinvastatina 20 - 1x noite ; Calcio 500 - 3x d ; Marevan 5 - amb da ACXO ; Trazodona 25 1x d .']]\n"
     ]
    },
    {
     "data": {
      "application/vnd.jupyter.widget-view+json": {
       "model_id": "342e2a084e3c4821b6a102493c27398f",
       "version_major": 2,
       "version_minor": 0
      },
      "text/plain": [
       "  0%|          | 0/4 [00:00<?, ?it/s]"
      ]
     },
     "metadata": {},
     "output_type": "display_data"
    },
    {
     "data": {
      "application/vnd.jupyter.widget-view+json": {
       "model_id": "727d4b682439482bb129fe7319fd21cb",
       "version_major": 2,
       "version_minor": 0
      },
      "text/plain": [
       "  0%|          | 0/1 [00:00<?, ?it/s]"
      ]
     },
     "metadata": {},
     "output_type": "display_data"
    },
    {
     "name": "stdout",
     "output_type": "stream",
     "text": [
      "predictions: [1 1 1 1]\n",
      "lista: [['Dispnia esporadica', 'Dispnia esporadica , edema mmii eventual , sem palpitação , dor toracica quando epigastralgia que melhoram com paracetamol .'], ['edema mmii eventual', 'Dispnia esporadica , edema mmii eventual , sem palpitação , dor toracica quando epigastralgia que melhoram com paracetamol .'], ['mmii eventual', 'Dispnia esporadica , edema mmii eventual , sem palpitação , dor toracica quando epigastralgia que melhoram com paracetamol .'], ['palpitação', 'Dispnia esporadica , edema mmii eventual , sem palpitação , dor toracica quando epigastralgia que melhoram com paracetamol .'], ['dor toracica quando epigastralgia', 'Dispnia esporadica , edema mmii eventual , sem palpitação , dor toracica quando epigastralgia que melhoram com paracetamol .'], ['toracica quando epigastralgia', 'Dispnia esporadica , edema mmii eventual , sem palpitação , dor toracica quando epigastralgia que melhoram com paracetamol .'], ['paracetamol', 'Dispnia esporadica , edema mmii eventual , sem palpitação , dor toracica quando epigastralgia que melhoram com paracetamol .']]\n"
     ]
    },
    {
     "data": {
      "application/vnd.jupyter.widget-view+json": {
       "model_id": "c8260cdebe824a059022fcb359537680",
       "version_major": 2,
       "version_minor": 0
      },
      "text/plain": [
       "  0%|          | 0/7 [00:00<?, ?it/s]"
      ]
     },
     "metadata": {},
     "output_type": "display_data"
    },
    {
     "data": {
      "application/vnd.jupyter.widget-view+json": {
       "model_id": "dde2a56de3284fcf9c0df930b8a8f6ce",
       "version_major": 2,
       "version_minor": 0
      },
      "text/plain": [
       "  0%|          | 0/1 [00:00<?, ?it/s]"
      ]
     },
     "metadata": {},
     "output_type": "display_data"
    },
    {
     "name": "stdout",
     "output_type": "stream",
     "text": [
      "predictions: [0 0 3 0 0 0 1]\n",
      "lista: [['Lab', 'Lab ( 21 / 01 / 16 ) : Hbglic 6 , 34 ; TSH 2 , 15 ; Hb 13 , 5 ; VG 42 % leuco 9610 ; plaq 234000 ; Urina I ok ; K 4 , 4 ; Cr 1 , 1 ; Gli 71 ; U 69 ; Tri 67 ; HDL - C 77 ; ColT 160 ; LDL - C 70 ; .'], ['Hbglic', 'Lab ( 21 / 01 / 16 ) : Hbglic 6 , 34 ; TSH 2 , 15 ; Hb 13 , 5 ; VG 42 % leuco 9610 ; plaq 234000 ; Urina I ok ; K 4 , 4 ; Cr 1 , 1 ; Gli 71 ; U 69 ; Tri 67 ; HDL - C 77 ; ColT 160 ; LDL - C 70 ; .'], ['TSH', 'Lab ( 21 / 01 / 16 ) : Hbglic 6 , 34 ; TSH 2 , 15 ; Hb 13 , 5 ; VG 42 % leuco 9610 ; plaq 234000 ; Urina I ok ; K 4 , 4 ; Cr 1 , 1 ; Gli 71 ; U 69 ; Tri 67 ; HDL - C 77 ; ColT 160 ; LDL - C 70 ; .'], ['Hb', 'Lab ( 21 / 01 / 16 ) : Hbglic 6 , 34 ; TSH 2 , 15 ; Hb 13 , 5 ; VG 42 % leuco 9610 ; plaq 234000 ; Urina I ok ; K 4 , 4 ; Cr 1 , 1 ; Gli 71 ; U 69 ; Tri 67 ; HDL - C 77 ; ColT 160 ; LDL - C 70 ; .'], ['VG', 'Lab ( 21 / 01 / 16 ) : Hbglic 6 , 34 ; TSH 2 , 15 ; Hb 13 , 5 ; VG 42 % leuco 9610 ; plaq 234000 ; Urina I ok ; K 4 , 4 ; Cr 1 , 1 ; Gli 71 ; U 69 ; Tri 67 ; HDL - C 77 ; ColT 160 ; LDL - C 70 ; .'], ['leuco', 'Lab ( 21 / 01 / 16 ) : Hbglic 6 , 34 ; TSH 2 , 15 ; Hb 13 , 5 ; VG 42 % leuco 9610 ; plaq 234000 ; Urina I ok ; K 4 , 4 ; Cr 1 , 1 ; Gli 71 ; U 69 ; Tri 67 ; HDL - C 77 ; ColT 160 ; LDL - C 70 ; .'], ['plaq', 'Lab ( 21 / 01 / 16 ) : Hbglic 6 , 34 ; TSH 2 , 15 ; Hb 13 , 5 ; VG 42 % leuco 9610 ; plaq 234000 ; Urina I ok ; K 4 , 4 ; Cr 1 , 1 ; Gli 71 ; U 69 ; Tri 67 ; HDL - C 77 ; ColT 160 ; LDL - C 70 ; .'], ['Urina I', 'Lab ( 21 / 01 / 16 ) : Hbglic 6 , 34 ; TSH 2 , 15 ; Hb 13 , 5 ; VG 42 % leuco 9610 ; plaq 234000 ; Urina I ok ; K 4 , 4 ; Cr 1 , 1 ; Gli 71 ; U 69 ; Tri 67 ; HDL - C 77 ; ColT 160 ; LDL - C 70 ; .'], ['K', 'Lab ( 21 / 01 / 16 ) : Hbglic 6 , 34 ; TSH 2 , 15 ; Hb 13 , 5 ; VG 42 % leuco 9610 ; plaq 234000 ; Urina I ok ; K 4 , 4 ; Cr 1 , 1 ; Gli 71 ; U 69 ; Tri 67 ; HDL - C 77 ; ColT 160 ; LDL - C 70 ; .'], ['Cr', 'Lab ( 21 / 01 / 16 ) : Hbglic 6 , 34 ; TSH 2 , 15 ; Hb 13 , 5 ; VG 42 % leuco 9610 ; plaq 234000 ; Urina I ok ; K 4 , 4 ; Cr 1 , 1 ; Gli 71 ; U 69 ; Tri 67 ; HDL - C 77 ; ColT 160 ; LDL - C 70 ; .'], ['Gli', 'Lab ( 21 / 01 / 16 ) : Hbglic 6 , 34 ; TSH 2 , 15 ; Hb 13 , 5 ; VG 42 % leuco 9610 ; plaq 234000 ; Urina I ok ; K 4 , 4 ; Cr 1 , 1 ; Gli 71 ; U 69 ; Tri 67 ; HDL - C 77 ; ColT 160 ; LDL - C 70 ; .'], ['U', 'Lab ( 21 / 01 / 16 ) : Hbglic 6 , 34 ; TSH 2 , 15 ; Hb 13 , 5 ; VG 42 % leuco 9610 ; plaq 234000 ; Urina I ok ; K 4 , 4 ; Cr 1 , 1 ; Gli 71 ; U 69 ; Tri 67 ; HDL - C 77 ; ColT 160 ; LDL - C 70 ; .'], ['Tri', 'Lab ( 21 / 01 / 16 ) : Hbglic 6 , 34 ; TSH 2 , 15 ; Hb 13 , 5 ; VG 42 % leuco 9610 ; plaq 234000 ; Urina I ok ; K 4 , 4 ; Cr 1 , 1 ; Gli 71 ; U 69 ; Tri 67 ; HDL - C 77 ; ColT 160 ; LDL - C 70 ; .'], ['HDL', 'Lab ( 21 / 01 / 16 ) : Hbglic 6 , 34 ; TSH 2 , 15 ; Hb 13 , 5 ; VG 42 % leuco 9610 ; plaq 234000 ; Urina I ok ; K 4 , 4 ; Cr 1 , 1 ; Gli 71 ; U 69 ; Tri 67 ; HDL - C 77 ; ColT 160 ; LDL - C 70 ; .'], ['ColT', 'Lab ( 21 / 01 / 16 ) : Hbglic 6 , 34 ; TSH 2 , 15 ; Hb 13 , 5 ; VG 42 % leuco 9610 ; plaq 234000 ; Urina I ok ; K 4 , 4 ; Cr 1 , 1 ; Gli 71 ; U 69 ; Tri 67 ; HDL - C 77 ; ColT 160 ; LDL - C 70 ; .'], ['LDL', 'Lab ( 21 / 01 / 16 ) : Hbglic 6 , 34 ; TSH 2 , 15 ; Hb 13 , 5 ; VG 42 % leuco 9610 ; plaq 234000 ; Urina I ok ; K 4 , 4 ; Cr 1 , 1 ; Gli 71 ; U 69 ; Tri 67 ; HDL - C 77 ; ColT 160 ; LDL - C 70 ; .']]\n"
     ]
    },
    {
     "data": {
      "application/vnd.jupyter.widget-view+json": {
       "model_id": "76d1c7a187bc42218b952ee61ae44642",
       "version_major": 2,
       "version_minor": 0
      },
      "text/plain": [
       "  0%|          | 0/16 [00:00<?, ?it/s]"
      ]
     },
     "metadata": {},
     "output_type": "display_data"
    },
    {
     "data": {
      "application/vnd.jupyter.widget-view+json": {
       "model_id": "08d6383758b748e19ebea05d10a688a6",
       "version_major": 2,
       "version_minor": 0
      },
      "text/plain": [
       "  0%|          | 0/2 [00:00<?, ?it/s]"
      ]
     },
     "metadata": {},
     "output_type": "display_data"
    },
    {
     "name": "stdout",
     "output_type": "stream",
     "text": [
      "predictions: [2 2 2 2 2 2 2 2 2 2 2 2 2 2 2 2]\n",
      "lista: [['Ecocardio', 'Ecocardio ( 04 / 12 / 15 ) : AE 42 ; DDVE 39 ; DSVE 23 ; FE 73 % ; VMi area 1 , 65 ; calcificada , refluxo discreto .'], ['AE', 'Ecocardio ( 04 / 12 / 15 ) : AE 42 ; DDVE 39 ; DSVE 23 ; FE 73 % ; VMi area 1 , 65 ; calcificada , refluxo discreto .']]\n"
     ]
    },
    {
     "data": {
      "application/vnd.jupyter.widget-view+json": {
       "model_id": "b5fa5435ace0483b91af5f77a2c035e1",
       "version_major": 2,
       "version_minor": 0
      },
      "text/plain": [
       "  0%|          | 0/2 [00:00<?, ?it/s]"
      ]
     },
     "metadata": {},
     "output_type": "display_data"
    },
    {
     "data": {
      "application/vnd.jupyter.widget-view+json": {
       "model_id": "1851987a719a4931b8a5c8892c17b3bc",
       "version_major": 2,
       "version_minor": 0
      },
      "text/plain": [
       "  0%|          | 0/1 [00:00<?, ?it/s]"
      ]
     },
     "metadata": {},
     "output_type": "display_data"
    },
    {
     "name": "stdout",
     "output_type": "stream",
     "text": [
      "predictions: [2 3]\n",
      "lista: [['VAo', 'VAo protese metalica com espessamento , e relfuxo discreto .']]\n"
     ]
    },
    {
     "data": {
      "application/vnd.jupyter.widget-view+json": {
       "model_id": "51ec831f2dd745bc9f75b97d75b714db",
       "version_major": 2,
       "version_minor": 0
      },
      "text/plain": [
       "  0%|          | 0/1 [00:00<?, ?it/s]"
      ]
     },
     "metadata": {},
     "output_type": "display_data"
    },
    {
     "data": {
      "application/vnd.jupyter.widget-view+json": {
       "model_id": "24d4fafd9ba343ba8693465e4c5df08f",
       "version_major": 2,
       "version_minor": 0
      },
      "text/plain": [
       "  0%|          | 0/1 [00:00<?, ?it/s]"
      ]
     },
     "metadata": {},
     "output_type": "display_data"
    },
    {
     "name": "stdout",
     "output_type": "stream",
     "text": [
      "predictions: [3]\n",
      "lista: [['ARea', 'ARea de 1 , 12 .']]\n"
     ]
    },
    {
     "data": {
      "application/vnd.jupyter.widget-view+json": {
       "model_id": "fb69315e735a4901b3648ae1d8288cf2",
       "version_major": 2,
       "version_minor": 0
      },
      "text/plain": [
       "  0%|          | 0/1 [00:00<?, ?it/s]"
      ]
     },
     "metadata": {},
     "output_type": "display_data"
    },
    {
     "data": {
      "application/vnd.jupyter.widget-view+json": {
       "model_id": "cda8cad309f74b2591323f877d382ec8",
       "version_major": 2,
       "version_minor": 0
      },
      "text/plain": [
       "  0%|          | 0/1 [00:00<?, ?it/s]"
      ]
     },
     "metadata": {},
     "output_type": "display_data"
    },
    {
     "name": "stdout",
     "output_type": "stream",
     "text": [
      "predictions: [2]\n",
      "lista: [['VTri', 'VTri = refluxo discreto com PSAP 56mmHg .'], ['refluxo discreto', 'VTri = refluxo discreto com PSAP 56mmHg .'], ['refluxo', 'VTri = refluxo discreto com PSAP 56mmHg .'], ['discreto', 'VTri = refluxo discreto com PSAP 56mmHg .']]\n"
     ]
    },
    {
     "data": {
      "application/vnd.jupyter.widget-view+json": {
       "model_id": "2c32120f355c47d4b0bafabec2dcc5a0",
       "version_major": 2,
       "version_minor": 0
      },
      "text/plain": [
       "  0%|          | 0/4 [00:00<?, ?it/s]"
      ]
     },
     "metadata": {},
     "output_type": "display_data"
    },
    {
     "data": {
      "application/vnd.jupyter.widget-view+json": {
       "model_id": "97cb746f99a94f28a68188c08ef0472d",
       "version_major": 2,
       "version_minor": 0
      },
      "text/plain": [
       "  0%|          | 0/1 [00:00<?, ?it/s]"
      ]
     },
     "metadata": {},
     "output_type": "display_data"
    },
    {
     "name": "stdout",
     "output_type": "stream",
     "text": [
      "predictions: [3 0 0 0]\n",
      "lista: [['VP refluxo minimo', 'VP refluxo minimo .']]\n"
     ]
    },
    {
     "data": {
      "application/vnd.jupyter.widget-view+json": {
       "model_id": "8dca10d07a754b379d2dd59752b91d7f",
       "version_major": 2,
       "version_minor": 0
      },
      "text/plain": [
       "  0%|          | 0/1 [00:00<?, ?it/s]"
      ]
     },
     "metadata": {},
     "output_type": "display_data"
    },
    {
     "data": {
      "application/vnd.jupyter.widget-view+json": {
       "model_id": "e88615255bc94bb58e99796e6b448f6f",
       "version_major": 2,
       "version_minor": 0
      },
      "text/plain": [
       "  0%|          | 0/1 [00:00<?, ?it/s]"
      ]
     },
     "metadata": {},
     "output_type": "display_data"
    },
    {
     "name": "stdout",
     "output_type": "stream",
     "text": [
      "predictions: [0]\n",
      "lista: [['VE hipertrofiado', 'VE hipertrofiado .']]\n"
     ]
    },
    {
     "data": {
      "application/vnd.jupyter.widget-view+json": {
       "model_id": "63133431be474009b928799167587469",
       "version_major": 2,
       "version_minor": 0
      },
      "text/plain": [
       "  0%|          | 0/1 [00:00<?, ?it/s]"
      ]
     },
     "metadata": {},
     "output_type": "display_data"
    },
    {
     "data": {
      "application/vnd.jupyter.widget-view+json": {
       "model_id": "61f98447c59f446cbb7820beafcbcd4b",
       "version_major": 2,
       "version_minor": 0
      },
      "text/plain": [
       "  0%|          | 0/1 [00:00<?, ?it/s]"
      ]
     },
     "metadata": {},
     "output_type": "display_data"
    },
    {
     "name": "stdout",
     "output_type": "stream",
     "text": [
      "predictions: [0]\n",
      "lista: [['SIv', ', SIv 13 .']]\n"
     ]
    },
    {
     "data": {
      "application/vnd.jupyter.widget-view+json": {
       "model_id": "d958352b05b9403fa24cc4f505502da1",
       "version_major": 2,
       "version_minor": 0
      },
      "text/plain": [
       "  0%|          | 0/1 [00:00<?, ?it/s]"
      ]
     },
     "metadata": {},
     "output_type": "display_data"
    },
    {
     "data": {
      "application/vnd.jupyter.widget-view+json": {
       "model_id": "2ab060abdc454e7b950ccef20a0c5061",
       "version_major": 2,
       "version_minor": 0
      },
      "text/plain": [
       "  0%|          | 0/1 [00:00<?, ?it/s]"
      ]
     },
     "metadata": {},
     "output_type": "display_data"
    },
    {
     "name": "stdout",
     "output_type": "stream",
     "text": [
      "predictions: [1]\n",
      "lista: [['PPVE', 'PPVE 14 .']]\n"
     ]
    },
    {
     "data": {
      "application/vnd.jupyter.widget-view+json": {
       "model_id": "0985a873ce234d889bb139b3f25c9500",
       "version_major": 2,
       "version_minor": 0
      },
      "text/plain": [
       "  0%|          | 0/1 [00:00<?, ?it/s]"
      ]
     },
     "metadata": {},
     "output_type": "display_data"
    },
    {
     "data": {
      "application/vnd.jupyter.widget-view+json": {
       "model_id": "727a8905b4f44b2da6c5fb330f1ade3e",
       "version_major": 2,
       "version_minor": 0
      },
      "text/plain": [
       "  0%|          | 0/1 [00:00<?, ?it/s]"
      ]
     },
     "metadata": {},
     "output_type": "display_data"
    },
    {
     "name": "stdout",
     "output_type": "stream",
     "text": [
      "predictions: [3]\n",
      "lista: [['PA', 'PA ( sentada ) : 140x60mmHg , P 76 .'], ['P', 'PA ( sentada ) : 140x60mmHg , P 76 .']]\n"
     ]
    },
    {
     "data": {
      "application/vnd.jupyter.widget-view+json": {
       "model_id": "7713832061ac4dddb20b8738f3c97bad",
       "version_major": 2,
       "version_minor": 0
      },
      "text/plain": [
       "  0%|          | 0/2 [00:00<?, ?it/s]"
      ]
     },
     "metadata": {},
     "output_type": "display_data"
    },
    {
     "data": {
      "application/vnd.jupyter.widget-view+json": {
       "model_id": "d68a8e7529af48019cbf11b7f47ff806",
       "version_major": 2,
       "version_minor": 0
      },
      "text/plain": [
       "  0%|          | 0/1 [00:00<?, ?it/s]"
      ]
     },
     "metadata": {},
     "output_type": "display_data"
    },
    {
     "name": "stdout",
     "output_type": "stream",
     "text": [
      "predictions: [2 2]\n",
      "lista: [['ruidos adsventicios', 'MV normodist sem ruidos adsventicios .']]\n"
     ]
    },
    {
     "data": {
      "application/vnd.jupyter.widget-view+json": {
       "model_id": "9f2370c3a1dc4f58838b923a5fd2f11c",
       "version_major": 2,
       "version_minor": 0
      },
      "text/plain": [
       "  0%|          | 0/1 [00:00<?, ?it/s]"
      ]
     },
     "metadata": {},
     "output_type": "display_data"
    },
    {
     "data": {
      "application/vnd.jupyter.widget-view+json": {
       "model_id": "73f316b8e2a949f0b2e868c5813d595f",
       "version_major": 2,
       "version_minor": 0
      },
      "text/plain": [
       "  0%|          | 0/1 [00:00<?, ?it/s]"
      ]
     },
     "metadata": {},
     "output_type": "display_data"
    },
    {
     "name": "stdout",
     "output_type": "stream",
     "text": [
      "predictions: [0]\n",
      "combinacao vazia, key:  72\n",
      "lista: [['edema mmii', 'BEG , eupneica , acianotica , orientada , Sem edema mmii .'], ['mmii', 'BEG , eupneica , acianotica , orientada , Sem edema mmii .']]\n"
     ]
    },
    {
     "data": {
      "application/vnd.jupyter.widget-view+json": {
       "model_id": "1116c080bfde4a41bee55e806dacb9af",
       "version_major": 2,
       "version_minor": 0
      },
      "text/plain": [
       "  0%|          | 0/2 [00:00<?, ?it/s]"
      ]
     },
     "metadata": {},
     "output_type": "display_data"
    },
    {
     "data": {
      "application/vnd.jupyter.widget-view+json": {
       "model_id": "8dfe609fd3fe4c11b8805b2e030dbe9d",
       "version_major": 2,
       "version_minor": 0
      },
      "text/plain": [
       "  0%|          | 0/1 [00:00<?, ?it/s]"
      ]
     },
     "metadata": {},
     "output_type": "display_data"
    },
    {
     "name": "stdout",
     "output_type": "stream",
     "text": [
      "predictions: [0 3]\n",
      "lista: [['protese Metalica AOrtoca', 'HD : protese Metalica AOrtoca normofuncionante .']]\n"
     ]
    },
    {
     "data": {
      "application/vnd.jupyter.widget-view+json": {
       "model_id": "f61d2c2a87d84a9caec698c99b23527c",
       "version_major": 2,
       "version_minor": 0
      },
      "text/plain": [
       "  0%|          | 0/1 [00:00<?, ?it/s]"
      ]
     },
     "metadata": {},
     "output_type": "display_data"
    },
    {
     "data": {
      "application/vnd.jupyter.widget-view+json": {
       "model_id": "2f4ba8c39a084afe8cfad58c5f210c18",
       "version_major": 2,
       "version_minor": 0
      },
      "text/plain": [
       "  0%|          | 0/1 [00:00<?, ?it/s]"
      ]
     },
     "metadata": {},
     "output_type": "display_data"
    },
    {
     "name": "stdout",
     "output_type": "stream",
     "text": [
      "predictions: [0]\n",
      "lista: [['Disfunbção diastolica', 'Disfunbção diastolica .']]\n"
     ]
    },
    {
     "data": {
      "application/vnd.jupyter.widget-view+json": {
       "model_id": "218d3d328b454001986f67699f942f52",
       "version_major": 2,
       "version_minor": 0
      },
      "text/plain": [
       "  0%|          | 0/1 [00:00<?, ?it/s]"
      ]
     },
     "metadata": {},
     "output_type": "display_data"
    },
    {
     "data": {
      "application/vnd.jupyter.widget-view+json": {
       "model_id": "e546412f2d8347ddae67aa6b345ae184",
       "version_major": 2,
       "version_minor": 0
      },
      "text/plain": [
       "  0%|          | 0/1 [00:00<?, ?it/s]"
      ]
     },
     "metadata": {},
     "output_type": "display_data"
    },
    {
     "name": "stdout",
     "output_type": "stream",
     "text": [
      "predictions: [0]\n",
      "lista: [['Espironolactona', 'CD : Suspendo Espironolactona .']]\n"
     ]
    },
    {
     "data": {
      "application/vnd.jupyter.widget-view+json": {
       "model_id": "08d44c3ecc6746e4941c404f4a49db50",
       "version_major": 2,
       "version_minor": 0
      },
      "text/plain": [
       "  0%|          | 0/1 [00:00<?, ?it/s]"
      ]
     },
     "metadata": {},
     "output_type": "display_data"
    },
    {
     "data": {
      "application/vnd.jupyter.widget-view+json": {
       "model_id": "af6299f4ba3d4f8f9b5754d3af28997d",
       "version_major": 2,
       "version_minor": 0
      },
      "text/plain": [
       "  0%|          | 0/1 [00:00<?, ?it/s]"
      ]
     },
     "metadata": {},
     "output_type": "display_data"
    },
    {
     "name": "stdout",
     "output_type": "stream",
     "text": [
      "predictions: [1]\n",
      "lista: [['Sinvastatina para 10mg', 'Reduzo Sinvastatina para 10mg / noite .']]\n"
     ]
    },
    {
     "data": {
      "application/vnd.jupyter.widget-view+json": {
       "model_id": "445dedaa04a04da7bf55832c8c9c358c",
       "version_major": 2,
       "version_minor": 0
      },
      "text/plain": [
       "  0%|          | 0/1 [00:00<?, ?it/s]"
      ]
     },
     "metadata": {},
     "output_type": "display_data"
    },
    {
     "data": {
      "application/vnd.jupyter.widget-view+json": {
       "model_id": "ddf1b07d9b2e4aedafc606b99bc27b8a",
       "version_major": 2,
       "version_minor": 0
      },
      "text/plain": [
       "  0%|          | 0/1 [00:00<?, ?it/s]"
      ]
     },
     "metadata": {},
     "output_type": "display_data"
    },
    {
     "name": "stdout",
     "output_type": "stream",
     "text": [
      "predictions: [1]\n",
      "lista: [['Omeprazol 20', 'ACrescento Omeprazol 20 - 1x d .']]\n"
     ]
    },
    {
     "data": {
      "application/vnd.jupyter.widget-view+json": {
       "model_id": "d044b04c4ba547dfbd2fd9b211a7706c",
       "version_major": 2,
       "version_minor": 0
      },
      "text/plain": [
       "  0%|          | 0/1 [00:00<?, ?it/s]"
      ]
     },
     "metadata": {},
     "output_type": "display_data"
    },
    {
     "data": {
      "application/vnd.jupyter.widget-view+json": {
       "model_id": "38c8fd4f1c874518a288ad5046b94237",
       "version_major": 2,
       "version_minor": 0
      },
      "text/plain": [
       "  0%|          | 0/1 [00:00<?, ?it/s]"
      ]
     },
     "metadata": {},
     "output_type": "display_data"
    },
    {
     "name": "stdout",
     "output_type": "stream",
     "text": [
      "predictions: [1]\n",
      "lista: [['lab', 'Retonro em 6m com lab .']]\n"
     ]
    },
    {
     "data": {
      "application/vnd.jupyter.widget-view+json": {
       "model_id": "b272bd2bbd7549b7bb2c955b24745f94",
       "version_major": 2,
       "version_minor": 0
      },
      "text/plain": [
       "  0%|          | 0/1 [00:00<?, ?it/s]"
      ]
     },
     "metadata": {},
     "output_type": "display_data"
    },
    {
     "data": {
      "application/vnd.jupyter.widget-view+json": {
       "model_id": "7779bed52fd14dd3afefdc049fc7e6d0",
       "version_major": 2,
       "version_minor": 0
      },
      "text/plain": [
       "  0%|          | 0/1 [00:00<?, ?it/s]"
      ]
     },
     "metadata": {},
     "output_type": "display_data"
    },
    {
     "name": "stdout",
     "output_type": "stream",
     "text": [
      "predictions: [2]\n",
      "lista: [['DÇ DE CHAGAS', '# DÇ DE CHAGAS .']]\n"
     ]
    },
    {
     "data": {
      "application/vnd.jupyter.widget-view+json": {
       "model_id": "d70ba94c848b401ab2cfe85ae01e0c3f",
       "version_major": 2,
       "version_minor": 0
      },
      "text/plain": [
       "  0%|          | 0/1 [00:00<?, ?it/s]"
      ]
     },
     "metadata": {},
     "output_type": "display_data"
    },
    {
     "data": {
      "application/vnd.jupyter.widget-view+json": {
       "model_id": "79fac92aa25749d7b21459041a89e635",
       "version_major": 2,
       "version_minor": 0
      },
      "text/plain": [
       "  0%|          | 0/1 [00:00<?, ?it/s]"
      ]
     },
     "metadata": {},
     "output_type": "display_data"
    },
    {
     "name": "stdout",
     "output_type": "stream",
     "text": [
      "predictions: [0]\n",
      "lista: [['BAVT', '# BAVT .']]\n"
     ]
    },
    {
     "data": {
      "application/vnd.jupyter.widget-view+json": {
       "model_id": "2f2af4ab46024be6849104a8c358d933",
       "version_major": 2,
       "version_minor": 0
      },
      "text/plain": [
       "  0%|          | 0/1 [00:00<?, ?it/s]"
      ]
     },
     "metadata": {},
     "output_type": "display_data"
    },
    {
     "data": {
      "application/vnd.jupyter.widget-view+json": {
       "model_id": "096c259443984f4fa2e2167e2b02f3df",
       "version_major": 2,
       "version_minor": 0
      },
      "text/plain": [
       "  0%|          | 0/1 [00:00<?, ?it/s]"
      ]
     },
     "metadata": {},
     "output_type": "display_data"
    },
    {
     "name": "stdout",
     "output_type": "stream",
     "text": [
      "predictions: [0]\n",
      "lista: [['MARCA - PASSO', '# MARCA - PASSO DUPLACAMARA EM DDD 50 - 60 DESDE 2007 .']]\n"
     ]
    },
    {
     "data": {
      "application/vnd.jupyter.widget-view+json": {
       "model_id": "b7aab2fad8f14ebe8aa7779b355d68c1",
       "version_major": 2,
       "version_minor": 0
      },
      "text/plain": [
       "  0%|          | 0/1 [00:00<?, ?it/s]"
      ]
     },
     "metadata": {},
     "output_type": "display_data"
    },
    {
     "data": {
      "application/vnd.jupyter.widget-view+json": {
       "model_id": "216d5094cf304deb8aa1b173a30ae543",
       "version_major": 2,
       "version_minor": 0
      },
      "text/plain": [
       "  0%|          | 0/1 [00:00<?, ?it/s]"
      ]
     },
     "metadata": {},
     "output_type": "display_data"
    },
    {
     "name": "stdout",
     "output_type": "stream",
     "text": [
      "predictions: [1]\n",
      "lista: [['DISPNEIA', 'PACIENTE NEGA DISPNEIA , NEGA ORTOPNEIA , NEGA DPN .'], ['ORTOPNEIA', 'PACIENTE NEGA DISPNEIA , NEGA ORTOPNEIA , NEGA DPN .'], ['DPN', 'PACIENTE NEGA DISPNEIA , NEGA ORTOPNEIA , NEGA DPN .']]\n"
     ]
    },
    {
     "data": {
      "application/vnd.jupyter.widget-view+json": {
       "model_id": "e9ee2def24f84ed592d10c9663bca0e8",
       "version_major": 2,
       "version_minor": 0
      },
      "text/plain": [
       "  0%|          | 0/3 [00:00<?, ?it/s]"
      ]
     },
     "metadata": {},
     "output_type": "display_data"
    },
    {
     "data": {
      "application/vnd.jupyter.widget-view+json": {
       "model_id": "4dd6dedf1bcc44778a9b6d7d1404ecf7",
       "version_major": 2,
       "version_minor": 0
      },
      "text/plain": [
       "  0%|          | 0/1 [00:00<?, ?it/s]"
      ]
     },
     "metadata": {},
     "output_type": "display_data"
    },
    {
     "name": "stdout",
     "output_type": "stream",
     "text": [
      "predictions: [0 0 0]\n",
      "lista: [['OUTRAS QUEIXAS', 'SEM OUTRAS QUEIXAS .']]\n"
     ]
    },
    {
     "data": {
      "application/vnd.jupyter.widget-view+json": {
       "model_id": "6e693380dde44da78f6eed012d1e2a82",
       "version_major": 2,
       "version_minor": 0
      },
      "text/plain": [
       "  0%|          | 0/1 [00:00<?, ?it/s]"
      ]
     },
     "metadata": {},
     "output_type": "display_data"
    },
    {
     "data": {
      "application/vnd.jupyter.widget-view+json": {
       "model_id": "cc672c2585704365878b4d620cdd7153",
       "version_major": 2,
       "version_minor": 0
      },
      "text/plain": [
       "  0%|          | 0/1 [00:00<?, ?it/s]"
      ]
     },
     "metadata": {},
     "output_type": "display_data"
    },
    {
     "name": "stdout",
     "output_type": "stream",
     "text": [
      "predictions: [0]\n",
      "lista: [['HAS', '# NEGA HX DE HAS , DM , DISLIPIDEMIA E TIREOIDOPATIAS .'], ['DM', '# NEGA HX DE HAS , DM , DISLIPIDEMIA E TIREOIDOPATIAS .'], ['DISLIPIDEMIA', '# NEGA HX DE HAS , DM , DISLIPIDEMIA E TIREOIDOPATIAS .'], ['TIREOIDOPATIAS', '# NEGA HX DE HAS , DM , DISLIPIDEMIA E TIREOIDOPATIAS .']]\n"
     ]
    },
    {
     "data": {
      "application/vnd.jupyter.widget-view+json": {
       "model_id": "404d3f6eeae94660bf85b1ca17887a8e",
       "version_major": 2,
       "version_minor": 0
      },
      "text/plain": [
       "  0%|          | 0/4 [00:00<?, ?it/s]"
      ]
     },
     "metadata": {},
     "output_type": "display_data"
    },
    {
     "data": {
      "application/vnd.jupyter.widget-view+json": {
       "model_id": "aac1c176f5574a3f965936130dc03bf1",
       "version_major": 2,
       "version_minor": 0
      },
      "text/plain": [
       "  0%|          | 0/1 [00:00<?, ?it/s]"
      ]
     },
     "metadata": {},
     "output_type": "display_data"
    },
    {
     "name": "stdout",
     "output_type": "stream",
     "text": [
      "predictions: [0 0 0 0]\n",
      "lista: [['CX DE APENDICITE', '# CX DE APENDICITE E HERNIAS PARAMEDIANAS HÁ > 20 ANOS .'], ['HERNIAS PARAMEDIANAS', '# CX DE APENDICITE E HERNIAS PARAMEDIANAS HÁ > 20 ANOS .'], ['HERNIAS', '# CX DE APENDICITE E HERNIAS PARAMEDIANAS HÁ > 20 ANOS .'], ['PARAMEDIANAS', '# CX DE APENDICITE E HERNIAS PARAMEDIANAS HÁ > 20 ANOS .']]\n"
     ]
    },
    {
     "data": {
      "application/vnd.jupyter.widget-view+json": {
       "model_id": "d1923241f58f41aa99fb589a19c50fbc",
       "version_major": 2,
       "version_minor": 0
      },
      "text/plain": [
       "  0%|          | 0/4 [00:00<?, ?it/s]"
      ]
     },
     "metadata": {},
     "output_type": "display_data"
    },
    {
     "data": {
      "application/vnd.jupyter.widget-view+json": {
       "model_id": "08a56baf2b174c0cbd27a001a062c6e3",
       "version_major": 2,
       "version_minor": 0
      },
      "text/plain": [
       "  0%|          | 0/1 [00:00<?, ?it/s]"
      ]
     },
     "metadata": {},
     "output_type": "display_data"
    },
    {
     "name": "stdout",
     "output_type": "stream",
     "text": [
      "predictions: [1 0 0 3]\n",
      "lista: [['METOPROLOL 50MG', 'METOPROLOL 50MG 12 / 12HS .']]\n"
     ]
    },
    {
     "data": {
      "application/vnd.jupyter.widget-view+json": {
       "model_id": "53ad89b55e20481c9d627daef13b2424",
       "version_major": 2,
       "version_minor": 0
      },
      "text/plain": [
       "  0%|          | 0/1 [00:00<?, ?it/s]"
      ]
     },
     "metadata": {},
     "output_type": "display_data"
    },
    {
     "data": {
      "application/vnd.jupyter.widget-view+json": {
       "model_id": "0ec35e4216df4d2b98c182d3871c9784",
       "version_major": 2,
       "version_minor": 0
      },
      "text/plain": [
       "  0%|          | 0/1 [00:00<?, ?it/s]"
      ]
     },
     "metadata": {},
     "output_type": "display_data"
    },
    {
     "name": "stdout",
     "output_type": "stream",
     "text": [
      "predictions: [1]\n",
      "lista: [['ENALAPRIL 10 MG', 'ENALAPRIL 10 MG 12 / 12HS .']]\n"
     ]
    },
    {
     "data": {
      "application/vnd.jupyter.widget-view+json": {
       "model_id": "905681fe916b44ccb936d16ba5c7be27",
       "version_major": 2,
       "version_minor": 0
      },
      "text/plain": [
       "  0%|          | 0/1 [00:00<?, ?it/s]"
      ]
     },
     "metadata": {},
     "output_type": "display_data"
    },
    {
     "data": {
      "application/vnd.jupyter.widget-view+json": {
       "model_id": "5d60a447bced4d8e95c95eb427778c67",
       "version_major": 2,
       "version_minor": 0
      },
      "text/plain": [
       "  0%|          | 0/1 [00:00<?, ?it/s]"
      ]
     },
     "metadata": {},
     "output_type": "display_data"
    },
    {
     "name": "stdout",
     "output_type": "stream",
     "text": [
      "predictions: [1]\n",
      "lista: [['ESPIRONO 25', 'ESPIRONO 25 .']]\n"
     ]
    },
    {
     "data": {
      "application/vnd.jupyter.widget-view+json": {
       "model_id": "39e320a309d541e388077a975791c3c9",
       "version_major": 2,
       "version_minor": 0
      },
      "text/plain": [
       "  0%|          | 0/1 [00:00<?, ?it/s]"
      ]
     },
     "metadata": {},
     "output_type": "display_data"
    },
    {
     "data": {
      "application/vnd.jupyter.widget-view+json": {
       "model_id": "49c6bae9ef38461aa649eb2c01c9c2fa",
       "version_major": 2,
       "version_minor": 0
      },
      "text/plain": [
       "  0%|          | 0/1 [00:00<?, ?it/s]"
      ]
     },
     "metadata": {},
     "output_type": "display_data"
    },
    {
     "name": "stdout",
     "output_type": "stream",
     "text": [
      "predictions: [1]\n",
      "lista: [['SVT 20', 'SVT 20 .']]\n"
     ]
    },
    {
     "data": {
      "application/vnd.jupyter.widget-view+json": {
       "model_id": "3246df70984942faa42e694c353a4c61",
       "version_major": 2,
       "version_minor": 0
      },
      "text/plain": [
       "  0%|          | 0/1 [00:00<?, ?it/s]"
      ]
     },
     "metadata": {},
     "output_type": "display_data"
    },
    {
     "data": {
      "application/vnd.jupyter.widget-view+json": {
       "model_id": "49bbf4399c7c4850a94f9c6b7c34856d",
       "version_major": 2,
       "version_minor": 0
      },
      "text/plain": [
       "  0%|          | 0/1 [00:00<?, ?it/s]"
      ]
     },
     "metadata": {},
     "output_type": "display_data"
    },
    {
     "name": "stdout",
     "output_type": "stream",
     "text": [
      "predictions: [1]\n",
      "lista: [['EXAMES LAB', 'EXAMES LAB 11 / 11 : CREAT 1 ; UR 58 ; GLI 71 ; TG 88 ; HDL 52 ; CT 160 ; LDL 90 ; Na 140 ; K 5 , 2 ; Hb 14 , 8 / Ht 46 , 6 / LEUC 5150 .'], ['CREAT', 'EXAMES LAB 11 / 11 : CREAT 1 ; UR 58 ; GLI 71 ; TG 88 ; HDL 52 ; CT 160 ; LDL 90 ; Na 140 ; K 5 , 2 ; Hb 14 , 8 / Ht 46 , 6 / LEUC 5150 .'], ['UR', 'EXAMES LAB 11 / 11 : CREAT 1 ; UR 58 ; GLI 71 ; TG 88 ; HDL 52 ; CT 160 ; LDL 90 ; Na 140 ; K 5 , 2 ; Hb 14 , 8 / Ht 46 , 6 / LEUC 5150 .'], ['GLI', 'EXAMES LAB 11 / 11 : CREAT 1 ; UR 58 ; GLI 71 ; TG 88 ; HDL 52 ; CT 160 ; LDL 90 ; Na 140 ; K 5 , 2 ; Hb 14 , 8 / Ht 46 , 6 / LEUC 5150 .'], ['TG', 'EXAMES LAB 11 / 11 : CREAT 1 ; UR 58 ; GLI 71 ; TG 88 ; HDL 52 ; CT 160 ; LDL 90 ; Na 140 ; K 5 , 2 ; Hb 14 , 8 / Ht 46 , 6 / LEUC 5150 .'], ['HDL', 'EXAMES LAB 11 / 11 : CREAT 1 ; UR 58 ; GLI 71 ; TG 88 ; HDL 52 ; CT 160 ; LDL 90 ; Na 140 ; K 5 , 2 ; Hb 14 , 8 / Ht 46 , 6 / LEUC 5150 .'], ['CT', 'EXAMES LAB 11 / 11 : CREAT 1 ; UR 58 ; GLI 71 ; TG 88 ; HDL 52 ; CT 160 ; LDL 90 ; Na 140 ; K 5 , 2 ; Hb 14 , 8 / Ht 46 , 6 / LEUC 5150 .'], ['LDL', 'EXAMES LAB 11 / 11 : CREAT 1 ; UR 58 ; GLI 71 ; TG 88 ; HDL 52 ; CT 160 ; LDL 90 ; Na 140 ; K 5 , 2 ; Hb 14 , 8 / Ht 46 , 6 / LEUC 5150 .'], ['Na', 'EXAMES LAB 11 / 11 : CREAT 1 ; UR 58 ; GLI 71 ; TG 88 ; HDL 52 ; CT 160 ; LDL 90 ; Na 140 ; K 5 , 2 ; Hb 14 , 8 / Ht 46 , 6 / LEUC 5150 .'], ['K', 'EXAMES LAB 11 / 11 : CREAT 1 ; UR 58 ; GLI 71 ; TG 88 ; HDL 52 ; CT 160 ; LDL 90 ; Na 140 ; K 5 , 2 ; Hb 14 , 8 / Ht 46 , 6 / LEUC 5150 .'], ['Hb', 'EXAMES LAB 11 / 11 : CREAT 1 ; UR 58 ; GLI 71 ; TG 88 ; HDL 52 ; CT 160 ; LDL 90 ; Na 140 ; K 5 , 2 ; Hb 14 , 8 / Ht 46 , 6 / LEUC 5150 .'], ['Ht', 'EXAMES LAB 11 / 11 : CREAT 1 ; UR 58 ; GLI 71 ; TG 88 ; HDL 52 ; CT 160 ; LDL 90 ; Na 140 ; K 5 , 2 ; Hb 14 , 8 / Ht 46 , 6 / LEUC 5150 .'], ['LEUC', 'EXAMES LAB 11 / 11 : CREAT 1 ; UR 58 ; GLI 71 ; TG 88 ; HDL 52 ; CT 160 ; LDL 90 ; Na 140 ; K 5 , 2 ; Hb 14 , 8 / Ht 46 , 6 / LEUC 5150 .']]\n"
     ]
    },
    {
     "data": {
      "application/vnd.jupyter.widget-view+json": {
       "model_id": "7a33992808264d66b01302e8b80b54db",
       "version_major": 2,
       "version_minor": 0
      },
      "text/plain": [
       "  0%|          | 0/13 [00:00<?, ?it/s]"
      ]
     },
     "metadata": {},
     "output_type": "display_data"
    },
    {
     "data": {
      "application/vnd.jupyter.widget-view+json": {
       "model_id": "caa777246cbc4f09a59ff666d8a33e4c",
       "version_major": 2,
       "version_minor": 0
      },
      "text/plain": [
       "  0%|          | 0/2 [00:00<?, ?it/s]"
      ]
     },
     "metadata": {},
     "output_type": "display_data"
    },
    {
     "name": "stdout",
     "output_type": "stream",
     "text": [
      "predictions: [2 2 2 2 2 2 2 2 2 2 2 2 2]\n",
      "lista: [['PA', 'PA : 90 / 60MMHG ; P : 72 .'], ['P', 'PA : 90 / 60MMHG ; P : 72 .']]\n"
     ]
    },
    {
     "data": {
      "application/vnd.jupyter.widget-view+json": {
       "model_id": "59a66cbecd2e46c19290a4e82964a8be",
       "version_major": 2,
       "version_minor": 0
      },
      "text/plain": [
       "  0%|          | 0/2 [00:00<?, ?it/s]"
      ]
     },
     "metadata": {},
     "output_type": "display_data"
    },
    {
     "data": {
      "application/vnd.jupyter.widget-view+json": {
       "model_id": "4e7d89c7bdf64d02889ca76e0314a835",
       "version_major": 2,
       "version_minor": 0
      },
      "text/plain": [
       "  0%|          | 0/1 [00:00<?, ?it/s]"
      ]
     },
     "metadata": {},
     "output_type": "display_data"
    },
    {
     "name": "stdout",
     "output_type": "stream",
     "text": [
      "predictions: [2 2]\n",
      "lista: [['TURGÊNCIA JUGULAR', 'AUSENCIA DE TURGÊNCIA JUGULAR .'], ['JUGULAR', 'AUSENCIA DE TURGÊNCIA JUGULAR .']]\n"
     ]
    },
    {
     "data": {
      "application/vnd.jupyter.widget-view+json": {
       "model_id": "18851470d46242b39ee17a7eae1b44b6",
       "version_major": 2,
       "version_minor": 0
      },
      "text/plain": [
       "  0%|          | 0/2 [00:00<?, ?it/s]"
      ]
     },
     "metadata": {},
     "output_type": "display_data"
    },
    {
     "data": {
      "application/vnd.jupyter.widget-view+json": {
       "model_id": "be6361bc6a8a45a889876bb1e4bfc51f",
       "version_major": 2,
       "version_minor": 0
      },
      "text/plain": [
       "  0%|          | 0/1 [00:00<?, ?it/s]"
      ]
     },
     "metadata": {},
     "output_type": "display_data"
    },
    {
     "name": "stdout",
     "output_type": "stream",
     "text": [
      "predictions: [0 3]\n",
      "lista: [['ICTUS PALPÁVEL EM 7º EIC EM LINHA HEMIAXILAR E', 'ICTUS PALPÁVEL EM 7º EIC EM LINHA HEMIAXILAR E .'], ['7º EIC EM LINHA HEMIAXILAR', 'ICTUS PALPÁVEL EM 7º EIC EM LINHA HEMIAXILAR E .'], ['ICTUS PALPÁVEL EM 7º EIC EM LINHA HEMIAXILAR', 'ICTUS PALPÁVEL EM 7º EIC EM LINHA HEMIAXILAR E .'], ['PALPÁVEL EM 7º EIC EM LINHA HEMIAXILAR E', 'ICTUS PALPÁVEL EM 7º EIC EM LINHA HEMIAXILAR E .']]\n"
     ]
    },
    {
     "data": {
      "application/vnd.jupyter.widget-view+json": {
       "model_id": "9d924a34fae046d29ecf3dc69a9efb82",
       "version_major": 2,
       "version_minor": 0
      },
      "text/plain": [
       "  0%|          | 0/4 [00:00<?, ?it/s]"
      ]
     },
     "metadata": {},
     "output_type": "display_data"
    },
    {
     "data": {
      "application/vnd.jupyter.widget-view+json": {
       "model_id": "0e2740fb5a9343fc8d8e3dff20c5c67b",
       "version_major": 2,
       "version_minor": 0
      },
      "text/plain": [
       "  0%|          | 0/1 [00:00<?, ?it/s]"
      ]
     },
     "metadata": {},
     "output_type": "display_data"
    },
    {
     "name": "stdout",
     "output_type": "stream",
     "text": [
      "predictions: [0 3 0 0]\n",
      "lista: [['SS', 'BCRNF 2T SS .']]\n"
     ]
    },
    {
     "data": {
      "application/vnd.jupyter.widget-view+json": {
       "model_id": "0ad88b5de2c84c4fb4b0fbd467410155",
       "version_major": 2,
       "version_minor": 0
      },
      "text/plain": [
       "  0%|          | 0/1 [00:00<?, ?it/s]"
      ]
     },
     "metadata": {},
     "output_type": "display_data"
    },
    {
     "data": {
      "application/vnd.jupyter.widget-view+json": {
       "model_id": "44b00b86d8ab4bb48af1b46dabe48b76",
       "version_major": 2,
       "version_minor": 0
      },
      "text/plain": [
       "  0%|          | 0/1 [00:00<?, ?it/s]"
      ]
     },
     "metadata": {},
     "output_type": "display_data"
    },
    {
     "name": "stdout",
     "output_type": "stream",
     "text": [
      "predictions: [0]\n",
      "lista: [['PULMONAR', 'AUSCULTA PULMONAR SEM ALTERAÇÕES .'], ['ALTERAÇÕES', 'AUSCULTA PULMONAR SEM ALTERAÇÕES .']]\n"
     ]
    },
    {
     "data": {
      "application/vnd.jupyter.widget-view+json": {
       "model_id": "d5a2a2b3241e47aa8ee229b14a952f14",
       "version_major": 2,
       "version_minor": 0
      },
      "text/plain": [
       "  0%|          | 0/2 [00:00<?, ?it/s]"
      ]
     },
     "metadata": {},
     "output_type": "display_data"
    },
    {
     "data": {
      "application/vnd.jupyter.widget-view+json": {
       "model_id": "7ea39917821a477cadfc46a80962f072",
       "version_major": 2,
       "version_minor": 0
      },
      "text/plain": [
       "  0%|          | 0/1 [00:00<?, ?it/s]"
      ]
     },
     "metadata": {},
     "output_type": "display_data"
    },
    {
     "name": "stdout",
     "output_type": "stream",
     "text": [
      "predictions: [3 0]\n",
      "lista: [['ABDOME', 'ABDOME INOCENTE .']]\n"
     ]
    },
    {
     "data": {
      "application/vnd.jupyter.widget-view+json": {
       "model_id": "9bef36d2352f4e93a6a3d8aae9828777",
       "version_major": 2,
       "version_minor": 0
      },
      "text/plain": [
       "  0%|          | 0/1 [00:00<?, ?it/s]"
      ]
     },
     "metadata": {},
     "output_type": "display_data"
    },
    {
     "data": {
      "application/vnd.jupyter.widget-view+json": {
       "model_id": "fd61899b50c04cf0880e3b3f9aa87164",
       "version_major": 2,
       "version_minor": 0
      },
      "text/plain": [
       "  0%|          | 0/1 [00:00<?, ?it/s]"
      ]
     },
     "metadata": {},
     "output_type": "display_data"
    },
    {
     "name": "stdout",
     "output_type": "stream",
     "text": [
      "predictions: [3]\n",
      "lista: [['EDEMA EM MMII', 'SEM EDEMA EM MMII .'], ['MMII', 'SEM EDEMA EM MMII .'], ['EM MMII', 'SEM EDEMA EM MMII .']]\n"
     ]
    },
    {
     "data": {
      "application/vnd.jupyter.widget-view+json": {
       "model_id": "e847720ef7e44f309875baddb6bb7e7f",
       "version_major": 2,
       "version_minor": 0
      },
      "text/plain": [
       "  0%|          | 0/3 [00:00<?, ?it/s]"
      ]
     },
     "metadata": {},
     "output_type": "display_data"
    },
    {
     "data": {
      "application/vnd.jupyter.widget-view+json": {
       "model_id": "acfb1b8ddead4ecfac8fb7131d7349c2",
       "version_major": 2,
       "version_minor": 0
      },
      "text/plain": [
       "  0%|          | 0/1 [00:00<?, ?it/s]"
      ]
     },
     "metadata": {},
     "output_type": "display_data"
    },
    {
     "name": "stdout",
     "output_type": "stream",
     "text": [
      "predictions: [0 3 3]\n",
      "lista: [['PULSOS', 'PULSOS + BL , SIMÉTRICOS .']]\n"
     ]
    },
    {
     "data": {
      "application/vnd.jupyter.widget-view+json": {
       "model_id": "a153ce4eef4a41418ef23e124b2e0027",
       "version_major": 2,
       "version_minor": 0
      },
      "text/plain": [
       "  0%|          | 0/1 [00:00<?, ?it/s]"
      ]
     },
     "metadata": {},
     "output_type": "display_data"
    },
    {
     "data": {
      "application/vnd.jupyter.widget-view+json": {
       "model_id": "f37efaa31e874bf1a9b621996873cff5",
       "version_major": 2,
       "version_minor": 0
      },
      "text/plain": [
       "  0%|          | 0/1 [00:00<?, ?it/s]"
      ]
     },
     "metadata": {},
     "output_type": "display_data"
    },
    {
     "name": "stdout",
     "output_type": "stream",
     "text": [
      "predictions: [3]\n",
      "lista: [['DÇA CHAGAS', 'A : DÇA CHAGAS .']]\n"
     ]
    },
    {
     "data": {
      "application/vnd.jupyter.widget-view+json": {
       "model_id": "3df6c344228147f8909991435fa4d495",
       "version_major": 2,
       "version_minor": 0
      },
      "text/plain": [
       "  0%|          | 0/1 [00:00<?, ?it/s]"
      ]
     },
     "metadata": {},
     "output_type": "display_data"
    },
    {
     "data": {
      "application/vnd.jupyter.widget-view+json": {
       "model_id": "356a52b0ba5a49699a9c7b856ee23020",
       "version_major": 2,
       "version_minor": 0
      },
      "text/plain": [
       "  0%|          | 0/1 [00:00<?, ?it/s]"
      ]
     },
     "metadata": {},
     "output_type": "display_data"
    },
    {
     "name": "stdout",
     "output_type": "stream",
     "text": [
      "predictions: [0]\n",
      "lista: [['MEDICAÇÕES', 'P : MANTENHO MEDICAÇÕES .']]\n"
     ]
    },
    {
     "data": {
      "application/vnd.jupyter.widget-view+json": {
       "model_id": "24fb81183b3944c4a815b40971e15e99",
       "version_major": 2,
       "version_minor": 0
      },
      "text/plain": [
       "  0%|          | 0/1 [00:00<?, ?it/s]"
      ]
     },
     "metadata": {},
     "output_type": "display_data"
    },
    {
     "data": {
      "application/vnd.jupyter.widget-view+json": {
       "model_id": "6d4f328aff644e9d9598455673ef493e",
       "version_major": 2,
       "version_minor": 0
      },
      "text/plain": [
       "  0%|          | 0/1 [00:00<?, ?it/s]"
      ]
     },
     "metadata": {},
     "output_type": "display_data"
    },
    {
     "name": "stdout",
     "output_type": "stream",
     "text": [
      "predictions: [1]\n",
      "lista: [['ECOCARDIO', 'SOLICITO ECOCARDIO .']]\n"
     ]
    },
    {
     "data": {
      "application/vnd.jupyter.widget-view+json": {
       "model_id": "842364f670e3415b9077791c1b5f00cb",
       "version_major": 2,
       "version_minor": 0
      },
      "text/plain": [
       "  0%|          | 0/1 [00:00<?, ?it/s]"
      ]
     },
     "metadata": {},
     "output_type": "display_data"
    },
    {
     "data": {
      "application/vnd.jupyter.widget-view+json": {
       "model_id": "a894baa87ace42498eea6df59cacf83f",
       "version_major": 2,
       "version_minor": 0
      },
      "text/plain": [
       "  0%|          | 0/1 [00:00<?, ?it/s]"
      ]
     },
     "metadata": {},
     "output_type": "display_data"
    },
    {
     "name": "stdout",
     "output_type": "stream",
     "text": [
      "predictions: [2]\n",
      "lista: [['queixas', 'sem queixas .']]\n"
     ]
    },
    {
     "data": {
      "application/vnd.jupyter.widget-view+json": {
       "model_id": "4f0e03070e3d470aadba7b76577d66e9",
       "version_major": 2,
       "version_minor": 0
      },
      "text/plain": [
       "  0%|          | 0/1 [00:00<?, ?it/s]"
      ]
     },
     "metadata": {},
     "output_type": "display_data"
    },
    {
     "data": {
      "application/vnd.jupyter.widget-view+json": {
       "model_id": "93538469649c405a964ce3ac628e1beb",
       "version_major": 2,
       "version_minor": 0
      },
      "text/plain": [
       "  0%|          | 0/1 [00:00<?, ?it/s]"
      ]
     },
     "metadata": {},
     "output_type": "display_data"
    },
    {
     "name": "stdout",
     "output_type": "stream",
     "text": [
      "predictions: [0]\n",
      "lista: [['avaliação exclusiva de mp', '# hoje avaliação exclusiva de mp .']]\n"
     ]
    },
    {
     "data": {
      "application/vnd.jupyter.widget-view+json": {
       "model_id": "e53cbd391107465dad90b2426bfcdf4f",
       "version_major": 2,
       "version_minor": 0
      },
      "text/plain": [
       "  0%|          | 0/1 [00:00<?, ?it/s]"
      ]
     },
     "metadata": {},
     "output_type": "display_data"
    },
    {
     "data": {
      "application/vnd.jupyter.widget-view+json": {
       "model_id": "437e61bcf7db4fdf8c8b764b83447a71",
       "version_major": 2,
       "version_minor": 0
      },
      "text/plain": [
       "  0%|          | 0/1 [00:00<?, ?it/s]"
      ]
     },
     "metadata": {},
     "output_type": "display_data"
    },
    {
     "name": "stdout",
     "output_type": "stream",
     "text": [
      "predictions: [2]\n",
      "lista: [['mp camara - dupla', '# mp camara - dupla .']]\n"
     ]
    },
    {
     "data": {
      "application/vnd.jupyter.widget-view+json": {
       "model_id": "780fe685baef444d8b4d1fa894918ca6",
       "version_major": 2,
       "version_minor": 0
      },
      "text/plain": [
       "  0%|          | 0/1 [00:00<?, ?it/s]"
      ]
     },
     "metadata": {},
     "output_type": "display_data"
    },
    {
     "data": {
      "application/vnd.jupyter.widget-view+json": {
       "model_id": "27d571380f02465aa205a0fe9193ab8c",
       "version_major": 2,
       "version_minor": 0
      },
      "text/plain": [
       "  0%|          | 0/1 [00:00<?, ?it/s]"
      ]
     },
     "metadata": {},
     "output_type": "display_data"
    },
    {
     "name": "stdout",
     "output_type": "stream",
     "text": [
      "predictions: [1]\n",
      "lista: [['avaliar bat', '# cd = retorno como encaixe para avaliar bat - pcte ciente que NÃO PODE DIXAR DE VIR , se intercorrencias = procura direta .'], ['intercorrencias', '# cd = retorno como encaixe para avaliar bat - pcte ciente que NÃO PODE DIXAR DE VIR , se intercorrencias = procura direta .']]\n"
     ]
    },
    {
     "data": {
      "application/vnd.jupyter.widget-view+json": {
       "model_id": "91d932f8bbc14146b23281edc9458731",
       "version_major": 2,
       "version_minor": 0
      },
      "text/plain": [
       "  0%|          | 0/2 [00:00<?, ?it/s]"
      ]
     },
     "metadata": {},
     "output_type": "display_data"
    },
    {
     "data": {
      "application/vnd.jupyter.widget-view+json": {
       "model_id": "a63ae84657954a1cb0b0a4ee50f50b94",
       "version_major": 2,
       "version_minor": 0
      },
      "text/plain": [
       "  0%|          | 0/1 [00:00<?, ?it/s]"
      ]
     },
     "metadata": {},
     "output_type": "display_data"
    },
    {
     "name": "stdout",
     "output_type": "stream",
     "text": [
      "predictions: [2 0]\n",
      "lista: [['ABLAÇÃO DE TAQUICARDIA ATRIAL', 'ABLAÇÃO DE TAQUICARDIA ATRIAL 2009 E A SEGUNDA EM 2010 .'], ['DE TAQUICARDIA ATRIAL', 'ABLAÇÃO DE TAQUICARDIA ATRIAL 2009 E A SEGUNDA EM 2010 .']]\n"
     ]
    },
    {
     "data": {
      "application/vnd.jupyter.widget-view+json": {
       "model_id": "895ced38cc1a4a49abe9152eeb9f8939",
       "version_major": 2,
       "version_minor": 0
      },
      "text/plain": [
       "  0%|          | 0/2 [00:00<?, ?it/s]"
      ]
     },
     "metadata": {},
     "output_type": "display_data"
    },
    {
     "data": {
      "application/vnd.jupyter.widget-view+json": {
       "model_id": "55b3a456527545808be6d2ffa3d158f8",
       "version_major": 2,
       "version_minor": 0
      },
      "text/plain": [
       "  0%|          | 0/1 [00:00<?, ?it/s]"
      ]
     },
     "metadata": {},
     "output_type": "display_data"
    },
    {
     "name": "stdout",
     "output_type": "stream",
     "text": [
      "predictions: [0 0]\n",
      "lista: [['HAS', 'HAS , NEGA DM , DLPD , TABAGISMO , ALERGIA MEDICAMENTOSA .'], ['DM', 'HAS , NEGA DM , DLPD , TABAGISMO , ALERGIA MEDICAMENTOSA .'], ['DLPD', 'HAS , NEGA DM , DLPD , TABAGISMO , ALERGIA MEDICAMENTOSA .'], ['TABAGISMO', 'HAS , NEGA DM , DLPD , TABAGISMO , ALERGIA MEDICAMENTOSA .']]\n"
     ]
    },
    {
     "data": {
      "application/vnd.jupyter.widget-view+json": {
       "model_id": "8c102e81e82745cfb87b936e7ca4fc99",
       "version_major": 2,
       "version_minor": 0
      },
      "text/plain": [
       "  0%|          | 0/4 [00:00<?, ?it/s]"
      ]
     },
     "metadata": {},
     "output_type": "display_data"
    },
    {
     "data": {
      "application/vnd.jupyter.widget-view+json": {
       "model_id": "1781f105e86a474cbbc39b7e54f1eb45",
       "version_major": 2,
       "version_minor": 0
      },
      "text/plain": [
       "  0%|          | 0/1 [00:00<?, ?it/s]"
      ]
     },
     "metadata": {},
     "output_type": "display_data"
    },
    {
     "name": "stdout",
     "output_type": "stream",
     "text": [
      "predictions: [0 0 0 0]\n",
      "lista: [['CATETERISMO', 'CATETERISMO COM AUSENCIA DE CORONARIOPATIA .'], ['CORONARIOPATIA', 'CATETERISMO COM AUSENCIA DE CORONARIOPATIA .']]\n"
     ]
    },
    {
     "data": {
      "application/vnd.jupyter.widget-view+json": {
       "model_id": "e70a7317f8f440f78b17738eabd58ae9",
       "version_major": 2,
       "version_minor": 0
      },
      "text/plain": [
       "  0%|          | 0/2 [00:00<?, ?it/s]"
      ]
     },
     "metadata": {},
     "output_type": "display_data"
    },
    {
     "data": {
      "application/vnd.jupyter.widget-view+json": {
       "model_id": "009d2bfddabe4d90b5cf6b5c8dabaea7",
       "version_major": 2,
       "version_minor": 0
      },
      "text/plain": [
       "  0%|          | 0/1 [00:00<?, ?it/s]"
      ]
     },
     "metadata": {},
     "output_type": "display_data"
    },
    {
     "name": "stdout",
     "output_type": "stream",
     "text": [
      "predictions: [2 0]\n",
      "lista: [['ATENOLOL 100MG', 'FAZ USO DE ATENOLOL 100MG 12 / 12H , DILTIAZEN 60MG 12 / 12H , ENALAPRIL 10MG 12 / 12H , HCTZ 25MG , MAREVAN 5MG .'], ['DILTIAZEN 60MG', 'FAZ USO DE ATENOLOL 100MG 12 / 12H , DILTIAZEN 60MG 12 / 12H , ENALAPRIL 10MG 12 / 12H , HCTZ 25MG , MAREVAN 5MG .'], ['ENALAPRIL 10MG', 'FAZ USO DE ATENOLOL 100MG 12 / 12H , DILTIAZEN 60MG 12 / 12H , ENALAPRIL 10MG 12 / 12H , HCTZ 25MG , MAREVAN 5MG .'], ['HCTZ 25MG', 'FAZ USO DE ATENOLOL 100MG 12 / 12H , DILTIAZEN 60MG 12 / 12H , ENALAPRIL 10MG 12 / 12H , HCTZ 25MG , MAREVAN 5MG .'], ['MAREVAN 5MG', 'FAZ USO DE ATENOLOL 100MG 12 / 12H , DILTIAZEN 60MG 12 / 12H , ENALAPRIL 10MG 12 / 12H , HCTZ 25MG , MAREVAN 5MG .']]\n"
     ]
    },
    {
     "data": {
      "application/vnd.jupyter.widget-view+json": {
       "model_id": "e7edb8943b824eb3ae59e030e35c215e",
       "version_major": 2,
       "version_minor": 0
      },
      "text/plain": [
       "  0%|          | 0/5 [00:00<?, ?it/s]"
      ]
     },
     "metadata": {},
     "output_type": "display_data"
    },
    {
     "data": {
      "application/vnd.jupyter.widget-view+json": {
       "model_id": "36bff8aadf834c4c9d462ae38b5961e5",
       "version_major": 2,
       "version_minor": 0
      },
      "text/plain": [
       "  0%|          | 0/1 [00:00<?, ?it/s]"
      ]
     },
     "metadata": {},
     "output_type": "display_data"
    },
    {
     "name": "stdout",
     "output_type": "stream",
     "text": [
      "predictions: [1 1 1 1 1]\n",
      "lista: [['HOLTER', 'HOLTER COM PRESENCA DE EV E ESV RARAS COM EPISODIOS NAO SUSTENTADOS DE TAQUICARDIA ATRIAL SEM PRESENCA DE SINTOMAS .'], ['RARAS', 'HOLTER COM PRESENCA DE EV E ESV RARAS COM EPISODIOS NAO SUSTENTADOS DE TAQUICARDIA ATRIAL SEM PRESENCA DE SINTOMAS .'], ['TAQUICARDIA ATRIAL', 'HOLTER COM PRESENCA DE EV E ESV RARAS COM EPISODIOS NAO SUSTENTADOS DE TAQUICARDIA ATRIAL SEM PRESENCA DE SINTOMAS .'], ['SINTOMAS', 'HOLTER COM PRESENCA DE EV E ESV RARAS COM EPISODIOS NAO SUSTENTADOS DE TAQUICARDIA ATRIAL SEM PRESENCA DE SINTOMAS .']]\n"
     ]
    },
    {
     "data": {
      "application/vnd.jupyter.widget-view+json": {
       "model_id": "5bea3c27d41e485d8ecca30de2be28ba",
       "version_major": 2,
       "version_minor": 0
      },
      "text/plain": [
       "  0%|          | 0/4 [00:00<?, ?it/s]"
      ]
     },
     "metadata": {},
     "output_type": "display_data"
    },
    {
     "data": {
      "application/vnd.jupyter.widget-view+json": {
       "model_id": "4e8bd36a26944f9aa1f5dffb1787c8f3",
       "version_major": 2,
       "version_minor": 0
      },
      "text/plain": [
       "  0%|          | 0/1 [00:00<?, ?it/s]"
      ]
     },
     "metadata": {},
     "output_type": "display_data"
    },
    {
     "name": "stdout",
     "output_type": "stream",
     "text": [
      "predictions: [2 3 0 0]\n",
      "lista: [['MEDICAÇÕES', '# PACIENTE REFERE ESTAR SE SENTINDO BEM COM AS MEDICAÇÕES .']]\n"
     ]
    },
    {
     "data": {
      "application/vnd.jupyter.widget-view+json": {
       "model_id": "1d0cb2e117de4f8daa8b42992e016954",
       "version_major": 2,
       "version_minor": 0
      },
      "text/plain": [
       "  0%|          | 0/1 [00:00<?, ?it/s]"
      ]
     },
     "metadata": {},
     "output_type": "display_data"
    },
    {
     "data": {
      "application/vnd.jupyter.widget-view+json": {
       "model_id": "3a1775a74ebb4e1798473bfca1282eb2",
       "version_major": 2,
       "version_minor": 0
      },
      "text/plain": [
       "  0%|          | 0/1 [00:00<?, ?it/s]"
      ]
     },
     "metadata": {},
     "output_type": "display_data"
    },
    {
     "name": "stdout",
     "output_type": "stream",
     "text": [
      "predictions: [1]\n",
      "lista: [['SINTOMAS DE PALPITAÇÕES', 'NEGA SINTOMAS DE PALPITAÇÕES .']]\n"
     ]
    },
    {
     "data": {
      "application/vnd.jupyter.widget-view+json": {
       "model_id": "a2a312ba2a4049eea86d10aa715217ac",
       "version_major": 2,
       "version_minor": 0
      },
      "text/plain": [
       "  0%|          | 0/1 [00:00<?, ?it/s]"
      ]
     },
     "metadata": {},
     "output_type": "display_data"
    },
    {
     "data": {
      "application/vnd.jupyter.widget-view+json": {
       "model_id": "1c7257b93aec4180949031ef5ccee27c",
       "version_major": 2,
       "version_minor": 0
      },
      "text/plain": [
       "  0%|          | 0/1 [00:00<?, ?it/s]"
      ]
     },
     "metadata": {},
     "output_type": "display_data"
    },
    {
     "name": "stdout",
     "output_type": "stream",
     "text": [
      "predictions: [0]\n",
      "lista: [['DISPNEIA AOS GRANDES ESFORCOS', 'RELATA DISPNEIA AOS GRANDES ESFORCOS , COM MELHORA COM REPOUSO .']]\n"
     ]
    },
    {
     "data": {
      "application/vnd.jupyter.widget-view+json": {
       "model_id": "d8077c42434a4e08b22d6fda719c1de4",
       "version_major": 2,
       "version_minor": 0
      },
      "text/plain": [
       "  0%|          | 0/1 [00:00<?, ?it/s]"
      ]
     },
     "metadata": {},
     "output_type": "display_data"
    },
    {
     "data": {
      "application/vnd.jupyter.widget-view+json": {
       "model_id": "127097f19cc243bcb7ea45b682362a23",
       "version_major": 2,
       "version_minor": 0
      },
      "text/plain": [
       "  0%|          | 0/1 [00:00<?, ?it/s]"
      ]
     },
     "metadata": {},
     "output_type": "display_data"
    },
    {
     "name": "stdout",
     "output_type": "stream",
     "text": [
      "predictions: [0]\n",
      "lista: [['HIPOTENSAO', 'RELATA QUE APRESENTOU 1 EPISODIO DE HIPOTENSAO .']]\n"
     ]
    },
    {
     "data": {
      "application/vnd.jupyter.widget-view+json": {
       "model_id": "d6c3eb18c9884b5baf74e7d8476c2a29",
       "version_major": 2,
       "version_minor": 0
      },
      "text/plain": [
       "  0%|          | 0/1 [00:00<?, ?it/s]"
      ]
     },
     "metadata": {},
     "output_type": "display_data"
    },
    {
     "data": {
      "application/vnd.jupyter.widget-view+json": {
       "model_id": "a14672c6a936423eb23b60f3ddbb8be0",
       "version_major": 2,
       "version_minor": 0
      },
      "text/plain": [
       "  0%|          | 0/1 [00:00<?, ?it/s]"
      ]
     },
     "metadata": {},
     "output_type": "display_data"
    },
    {
     "name": "stdout",
     "output_type": "stream",
     "text": [
      "predictions: [0]\n",
      "lista: [['CEFALEIA', 'RELATA CEFALEIA .']]\n"
     ]
    },
    {
     "data": {
      "application/vnd.jupyter.widget-view+json": {
       "model_id": "0adfc83958b74cbd9a66383e72707990",
       "version_major": 2,
       "version_minor": 0
      },
      "text/plain": [
       "  0%|          | 0/1 [00:00<?, ?it/s]"
      ]
     },
     "metadata": {},
     "output_type": "display_data"
    },
    {
     "data": {
      "application/vnd.jupyter.widget-view+json": {
       "model_id": "602d9eea9eaa40f3becf16264c17c3c4",
       "version_major": 2,
       "version_minor": 0
      },
      "text/plain": [
       "  0%|          | 0/1 [00:00<?, ?it/s]"
      ]
     },
     "metadata": {},
     "output_type": "display_data"
    },
    {
     "name": "stdout",
     "output_type": "stream",
     "text": [
      "predictions: [0]\n",
      "lista: [['PA', '# BEG , PA 120 / 80MMHG , FC 70 .'], ['FC', '# BEG , PA 120 / 80MMHG , FC 70 .']]\n"
     ]
    },
    {
     "data": {
      "application/vnd.jupyter.widget-view+json": {
       "model_id": "39620965db4e4d038d60de9ec8a63469",
       "version_major": 2,
       "version_minor": 0
      },
      "text/plain": [
       "  0%|          | 0/2 [00:00<?, ?it/s]"
      ]
     },
     "metadata": {},
     "output_type": "display_data"
    },
    {
     "data": {
      "application/vnd.jupyter.widget-view+json": {
       "model_id": "03fb6686b12a47028616213be770fa4d",
       "version_major": 2,
       "version_minor": 0
      },
      "text/plain": [
       "  0%|          | 0/1 [00:00<?, ?it/s]"
      ]
     },
     "metadata": {},
     "output_type": "display_data"
    },
    {
     "name": "stdout",
     "output_type": "stream",
     "text": [
      "predictions: [2 2]\n",
      "lista: [['P', 'C / P : SEM ALT .'], ['ALT', 'C / P : SEM ALT .']]\n"
     ]
    },
    {
     "data": {
      "application/vnd.jupyter.widget-view+json": {
       "model_id": "76cb702e041f4c6ba69ddcded939838e",
       "version_major": 2,
       "version_minor": 0
      },
      "text/plain": [
       "  0%|          | 0/2 [00:00<?, ?it/s]"
      ]
     },
     "metadata": {},
     "output_type": "display_data"
    },
    {
     "data": {
      "application/vnd.jupyter.widget-view+json": {
       "model_id": "2d1ea6bc4f794c54884b5d37d55876e3",
       "version_major": 2,
       "version_minor": 0
      },
      "text/plain": [
       "  0%|          | 0/1 [00:00<?, ?it/s]"
      ]
     },
     "metadata": {},
     "output_type": "display_data"
    },
    {
     "name": "stdout",
     "output_type": "stream",
     "text": [
      "predictions: [2 0]\n",
      "lista: [['CORAÇÃO', 'CORAÇÃO : BRNF 2T , SEM SOPRO .'], ['SOPRO', 'CORAÇÃO : BRNF 2T , SEM SOPRO .']]\n"
     ]
    },
    {
     "data": {
      "application/vnd.jupyter.widget-view+json": {
       "model_id": "a5f539aad2a14a288a65612b44dd6270",
       "version_major": 2,
       "version_minor": 0
      },
      "text/plain": [
       "  0%|          | 0/2 [00:00<?, ?it/s]"
      ]
     },
     "metadata": {},
     "output_type": "display_data"
    },
    {
     "data": {
      "application/vnd.jupyter.widget-view+json": {
       "model_id": "0707f0a6be644545b82b0c528d0cab28",
       "version_major": 2,
       "version_minor": 0
      },
      "text/plain": [
       "  0%|          | 0/1 [00:00<?, ?it/s]"
      ]
     },
     "metadata": {},
     "output_type": "display_data"
    },
    {
     "name": "stdout",
     "output_type": "stream",
     "text": [
      "predictions: [3 0]\n",
      "lista: [['PULMAO', 'PULMAO : MV + , SEM RA .'], ['RA', 'PULMAO : MV + , SEM RA .']]\n"
     ]
    },
    {
     "data": {
      "application/vnd.jupyter.widget-view+json": {
       "model_id": "b3737036ed824fc68651b3d1c460fde0",
       "version_major": 2,
       "version_minor": 0
      },
      "text/plain": [
       "  0%|          | 0/2 [00:00<?, ?it/s]"
      ]
     },
     "metadata": {},
     "output_type": "display_data"
    },
    {
     "data": {
      "application/vnd.jupyter.widget-view+json": {
       "model_id": "f435785c2e254907aac29dd50234923b",
       "version_major": 2,
       "version_minor": 0
      },
      "text/plain": [
       "  0%|          | 0/1 [00:00<?, ?it/s]"
      ]
     },
     "metadata": {},
     "output_type": "display_data"
    },
    {
     "name": "stdout",
     "output_type": "stream",
     "text": [
      "predictions: [3 0]\n",
      "lista: [['MEDICAÇÃO', 'CD : MEDICAÇÃO MANTIDA .']]\n"
     ]
    },
    {
     "data": {
      "application/vnd.jupyter.widget-view+json": {
       "model_id": "a4cfddcc8f384cff8d04cf31e70a86e9",
       "version_major": 2,
       "version_minor": 0
      },
      "text/plain": [
       "  0%|          | 0/1 [00:00<?, ?it/s]"
      ]
     },
     "metadata": {},
     "output_type": "display_data"
    },
    {
     "data": {
      "application/vnd.jupyter.widget-view+json": {
       "model_id": "6bc45a888e2f443da2f6df5a655e3a69",
       "version_major": 2,
       "version_minor": 0
      },
      "text/plain": [
       "  0%|          | 0/1 [00:00<?, ?it/s]"
      ]
     },
     "metadata": {},
     "output_type": "display_data"
    },
    {
     "name": "stdout",
     "output_type": "stream",
     "text": [
      "predictions: [1]\n",
      "lista: [['HOLTER', 'SOLICITO NOVO HOLTER E ECOCARDIO .'], ['ECOCARDIO', 'SOLICITO NOVO HOLTER E ECOCARDIO .']]\n"
     ]
    },
    {
     "data": {
      "application/vnd.jupyter.widget-view+json": {
       "model_id": "5d279c3dccea4bb7afcbecc1574d19b3",
       "version_major": 2,
       "version_minor": 0
      },
      "text/plain": [
       "  0%|          | 0/2 [00:00<?, ?it/s]"
      ]
     },
     "metadata": {},
     "output_type": "display_data"
    },
    {
     "data": {
      "application/vnd.jupyter.widget-view+json": {
       "model_id": "e073d123ee6246de8dcc384ca0ec761b",
       "version_major": 2,
       "version_minor": 0
      },
      "text/plain": [
       "  0%|          | 0/1 [00:00<?, ?it/s]"
      ]
     },
     "metadata": {},
     "output_type": "display_data"
    },
    {
     "name": "stdout",
     "output_type": "stream",
     "text": [
      "predictions: [2 2]\n",
      "lista: [['Comorbidades', 'Comorbidades : HAS .'], ['HAS', 'Comorbidades : HAS .']]\n"
     ]
    },
    {
     "data": {
      "application/vnd.jupyter.widget-view+json": {
       "model_id": "dc15dea74a214edcb0d48265a2d41353",
       "version_major": 2,
       "version_minor": 0
      },
      "text/plain": [
       "  0%|          | 0/2 [00:00<?, ?it/s]"
      ]
     },
     "metadata": {},
     "output_type": "display_data"
    },
    {
     "data": {
      "application/vnd.jupyter.widget-view+json": {
       "model_id": "12d12d7cc99a487497bcd859efae4575",
       "version_major": 2,
       "version_minor": 0
      },
      "text/plain": [
       "  0%|          | 0/1 [00:00<?, ?it/s]"
      ]
     },
     "metadata": {},
     "output_type": "display_data"
    },
    {
     "name": "stdout",
     "output_type": "stream",
     "text": [
      "predictions: [0 0]\n",
      "lista: [['Medicamentos atenolol 100mg', 'Medicamentos atenolol 100mg , 12 - 12h , .'], ['atenolol 100mg', 'Medicamentos atenolol 100mg , 12 - 12h , .']]\n"
     ]
    },
    {
     "data": {
      "application/vnd.jupyter.widget-view+json": {
       "model_id": "7ed11ee686d041ed9ec944c4c23b9c69",
       "version_major": 2,
       "version_minor": 0
      },
      "text/plain": [
       "  0%|          | 0/2 [00:00<?, ?it/s]"
      ]
     },
     "metadata": {},
     "output_type": "display_data"
    },
    {
     "data": {
      "application/vnd.jupyter.widget-view+json": {
       "model_id": "cfc4822c13a64f9db429daf03306244d",
       "version_major": 2,
       "version_minor": 0
      },
      "text/plain": [
       "  0%|          | 0/1 [00:00<?, ?it/s]"
      ]
     },
     "metadata": {},
     "output_type": "display_data"
    },
    {
     "name": "stdout",
     "output_type": "stream",
     "text": [
      "predictions: [1 1]\n",
      "lista: [['diltiazen 60mg', 'diltiazen 60mg , 12 - 12h , .']]\n"
     ]
    },
    {
     "data": {
      "application/vnd.jupyter.widget-view+json": {
       "model_id": "9c2ad42cb2c9481abb540054038fafe8",
       "version_major": 2,
       "version_minor": 0
      },
      "text/plain": [
       "  0%|          | 0/1 [00:00<?, ?it/s]"
      ]
     },
     "metadata": {},
     "output_type": "display_data"
    },
    {
     "data": {
      "application/vnd.jupyter.widget-view+json": {
       "model_id": "2ab49af8fd1349cb9b3565b481666bd8",
       "version_major": 2,
       "version_minor": 0
      },
      "text/plain": [
       "  0%|          | 0/1 [00:00<?, ?it/s]"
      ]
     },
     "metadata": {},
     "output_type": "display_data"
    },
    {
     "name": "stdout",
     "output_type": "stream",
     "text": [
      "predictions: [1]\n",
      "lista: [['Enalapril 10mg', 'Enalapril 10mg , 12 - 12h , .']]\n"
     ]
    },
    {
     "data": {
      "application/vnd.jupyter.widget-view+json": {
       "model_id": "90fe82d8ea544e19ab6a38976c2e4de4",
       "version_major": 2,
       "version_minor": 0
      },
      "text/plain": [
       "  0%|          | 0/1 [00:00<?, ?it/s]"
      ]
     },
     "metadata": {},
     "output_type": "display_data"
    },
    {
     "data": {
      "application/vnd.jupyter.widget-view+json": {
       "model_id": "eb151ba657244647906e10e9f81c0fe0",
       "version_major": 2,
       "version_minor": 0
      },
      "text/plain": [
       "  0%|          | 0/1 [00:00<?, ?it/s]"
      ]
     },
     "metadata": {},
     "output_type": "display_data"
    },
    {
     "name": "stdout",
     "output_type": "stream",
     "text": [
      "predictions: [1]\n",
      "lista: [['HCTZ 25mg', 'HCTZ 25mg , .']]\n"
     ]
    },
    {
     "data": {
      "application/vnd.jupyter.widget-view+json": {
       "model_id": "6ddc583082c24b67a792665175f32ab3",
       "version_major": 2,
       "version_minor": 0
      },
      "text/plain": [
       "  0%|          | 0/1 [00:00<?, ?it/s]"
      ]
     },
     "metadata": {},
     "output_type": "display_data"
    },
    {
     "data": {
      "application/vnd.jupyter.widget-view+json": {
       "model_id": "7ac48818ff2b41b3973710f681218b74",
       "version_major": 2,
       "version_minor": 0
      },
      "text/plain": [
       "  0%|          | 0/1 [00:00<?, ?it/s]"
      ]
     },
     "metadata": {},
     "output_type": "display_data"
    },
    {
     "name": "stdout",
     "output_type": "stream",
     "text": [
      "predictions: [1]\n",
      "lista: [['Marevan 5mg', 'Marevan 5mg .']]\n"
     ]
    },
    {
     "data": {
      "application/vnd.jupyter.widget-view+json": {
       "model_id": "74fda8e59db54a758679993a65bea4ed",
       "version_major": 2,
       "version_minor": 0
      },
      "text/plain": [
       "  0%|          | 0/1 [00:00<?, ?it/s]"
      ]
     },
     "metadata": {},
     "output_type": "display_data"
    },
    {
     "data": {
      "application/vnd.jupyter.widget-view+json": {
       "model_id": "52c5b0efef1f439ba3c3a7dd7a94a9b5",
       "version_major": 2,
       "version_minor": 0
      },
      "text/plain": [
       "  0%|          | 0/1 [00:00<?, ?it/s]"
      ]
     },
     "metadata": {},
     "output_type": "display_data"
    },
    {
     "name": "stdout",
     "output_type": "stream",
     "text": [
      "predictions: [1]\n",
      "lista: [['ablações', 'HMA : fez 02 ablações ( 2009 e 2010 ) POR PALPITAÇÕES com taquicardia atrial ; .'], ['PALPITAÇÕES', 'HMA : fez 02 ablações ( 2009 e 2010 ) POR PALPITAÇÕES com taquicardia atrial ; .'], ['taquicardia atrial', 'HMA : fez 02 ablações ( 2009 e 2010 ) POR PALPITAÇÕES com taquicardia atrial ; .']]\n"
     ]
    },
    {
     "data": {
      "application/vnd.jupyter.widget-view+json": {
       "model_id": "c2479e7112ce4573b6df7af5b722d98f",
       "version_major": 2,
       "version_minor": 0
      },
      "text/plain": [
       "  0%|          | 0/3 [00:00<?, ?it/s]"
      ]
     },
     "metadata": {},
     "output_type": "display_data"
    },
    {
     "data": {
      "application/vnd.jupyter.widget-view+json": {
       "model_id": "be9c3ad315724414917c2646ecc492b3",
       "version_major": 2,
       "version_minor": 0
      },
      "text/plain": [
       "  0%|          | 0/1 [00:00<?, ?it/s]"
      ]
     },
     "metadata": {},
     "output_type": "display_data"
    },
    {
     "name": "stdout",
     "output_type": "stream",
     "text": [
      "predictions: [0 0 0]\n",
      "lista: [['palpitações quando faz grandes esforços', 'Atualmente sente palpitações quando faz grandes esforços ; dor de cabeça que melhora com analgésico comum .']]\n"
     ]
    },
    {
     "data": {
      "application/vnd.jupyter.widget-view+json": {
       "model_id": "0b9fed1a6f0a4493adafba592edfcbf5",
       "version_major": 2,
       "version_minor": 0
      },
      "text/plain": [
       "  0%|          | 0/1 [00:00<?, ?it/s]"
      ]
     },
     "metadata": {},
     "output_type": "display_data"
    },
    {
     "data": {
      "application/vnd.jupyter.widget-view+json": {
       "model_id": "52c6f700075d49da84068b62c330db28",
       "version_major": 2,
       "version_minor": 0
      },
      "text/plain": [
       "  0%|          | 0/1 [00:00<?, ?it/s]"
      ]
     },
     "metadata": {},
     "output_type": "display_data"
    },
    {
     "name": "stdout",
     "output_type": "stream",
     "text": [
      "predictions: [0]\n",
      "lista: [['FC', 'FC : 88 .']]\n"
     ]
    },
    {
     "data": {
      "application/vnd.jupyter.widget-view+json": {
       "model_id": "938332490f444527b1c359cafabcae5d",
       "version_major": 2,
       "version_minor": 0
      },
      "text/plain": [
       "  0%|          | 0/1 [00:00<?, ?it/s]"
      ]
     },
     "metadata": {},
     "output_type": "display_data"
    },
    {
     "data": {
      "application/vnd.jupyter.widget-view+json": {
       "model_id": "cd8ccf74aef743d6a525c0ed0d77f0e6",
       "version_major": 2,
       "version_minor": 0
      },
      "text/plain": [
       "  0%|          | 0/1 [00:00<?, ?it/s]"
      ]
     },
     "metadata": {},
     "output_type": "display_data"
    },
    {
     "name": "stdout",
     "output_type": "stream",
     "text": [
      "predictions: [2]\n",
      "lista: [['Edema discreto mmi', 'Edema discreto mmi .']]\n"
     ]
    },
    {
     "data": {
      "application/vnd.jupyter.widget-view+json": {
       "model_id": "4f112e8b4aa74a54a15e1c746c843e87",
       "version_major": 2,
       "version_minor": 0
      },
      "text/plain": [
       "  0%|          | 0/1 [00:00<?, ?it/s]"
      ]
     },
     "metadata": {},
     "output_type": "display_data"
    },
    {
     "data": {
      "application/vnd.jupyter.widget-view+json": {
       "model_id": "16a5e1bc457a43ffbadec3687e2c2d46",
       "version_major": 2,
       "version_minor": 0
      },
      "text/plain": [
       "  0%|          | 0/1 [00:00<?, ?it/s]"
      ]
     },
     "metadata": {},
     "output_type": "display_data"
    },
    {
     "name": "stdout",
     "output_type": "stream",
     "text": [
      "predictions: [0]\n",
      "lista: [['pulmonar', 'Ausculta pulmonar e cardiaca normais .']]\n"
     ]
    },
    {
     "data": {
      "application/vnd.jupyter.widget-view+json": {
       "model_id": "d27839dc2c0644a2b63aec56cacd25c7",
       "version_major": 2,
       "version_minor": 0
      },
      "text/plain": [
       "  0%|          | 0/1 [00:00<?, ?it/s]"
      ]
     },
     "metadata": {},
     "output_type": "display_data"
    },
    {
     "data": {
      "application/vnd.jupyter.widget-view+json": {
       "model_id": "a8897d230bc44bbebeb85dd6d87ea2af",
       "version_major": 2,
       "version_minor": 0
      },
      "text/plain": [
       "  0%|          | 0/1 [00:00<?, ?it/s]"
      ]
     },
     "metadata": {},
     "output_type": "display_data"
    },
    {
     "name": "stdout",
     "output_type": "stream",
     "text": [
      "predictions: [3]\n",
      "lista: [['Homoenxerto aortico', 'Homoenxerto aortico ( por EAo ) + MIE - DA ; RAD - CD ; SAF - MG em 2006 - Doutor Vital Brazil .'], ['EAo', 'Homoenxerto aortico ( por EAo ) + MIE - DA ; RAD - CD ; SAF - MG em 2006 - Doutor Vital Brazil .']]\n"
     ]
    },
    {
     "data": {
      "application/vnd.jupyter.widget-view+json": {
       "model_id": "151ad780b6da4f39a6b41b42065fbc24",
       "version_major": 2,
       "version_minor": 0
      },
      "text/plain": [
       "  0%|          | 0/2 [00:00<?, ?it/s]"
      ]
     },
     "metadata": {},
     "output_type": "display_data"
    },
    {
     "data": {
      "application/vnd.jupyter.widget-view+json": {
       "model_id": "347314a3b3364374947e10593ddcfd76",
       "version_major": 2,
       "version_minor": 0
      },
      "text/plain": [
       "  0%|          | 0/1 [00:00<?, ?it/s]"
      ]
     },
     "metadata": {},
     "output_type": "display_data"
    },
    {
     "name": "stdout",
     "output_type": "stream",
     "text": [
      "predictions: [1 0]\n",
      "lista: [['Hipertenso', 'Hipertenso , .']]\n"
     ]
    },
    {
     "data": {
      "application/vnd.jupyter.widget-view+json": {
       "model_id": "0223feefc2ce4a84a283606a6b72252f",
       "version_major": 2,
       "version_minor": 0
      },
      "text/plain": [
       "  0%|          | 0/1 [00:00<?, ?it/s]"
      ]
     },
     "metadata": {},
     "output_type": "display_data"
    },
    {
     "data": {
      "application/vnd.jupyter.widget-view+json": {
       "model_id": "129ab2442de04a3ebea4bd14f9d993ac",
       "version_major": 2,
       "version_minor": 0
      },
      "text/plain": [
       "  0%|          | 0/1 [00:00<?, ?it/s]"
      ]
     },
     "metadata": {},
     "output_type": "display_data"
    },
    {
     "name": "stdout",
     "output_type": "stream",
     "text": [
      "predictions: [0]\n",
      "lista: [['AAS 100 mg', 'Em uso de : AAS 100 mg dia , losartana 100 mg dia , atovastatina 20 mg 4CP / DIA , atenolol 25mg / dia , furosemida 40mg / dia , omeoprazol 40mg ao dia , ezatimibe 10 mg , Hidantal 100mg - por cisticercose .'], ['atenolol 25mg', 'Em uso de : AAS 100 mg dia , losartana 100 mg dia , atovastatina 20 mg 4CP / DIA , atenolol 25mg / dia , furosemida 40mg / dia , omeoprazol 40mg ao dia , ezatimibe 10 mg , Hidantal 100mg - por cisticercose .'], ['furosemida 40mg', 'Em uso de : AAS 100 mg dia , losartana 100 mg dia , atovastatina 20 mg 4CP / DIA , atenolol 25mg / dia , furosemida 40mg / dia , omeoprazol 40mg ao dia , ezatimibe 10 mg , Hidantal 100mg - por cisticercose .'], ['omeoprazol 40mg', 'Em uso de : AAS 100 mg dia , losartana 100 mg dia , atovastatina 20 mg 4CP / DIA , atenolol 25mg / dia , furosemida 40mg / dia , omeoprazol 40mg ao dia , ezatimibe 10 mg , Hidantal 100mg - por cisticercose .'], ['ezatimibe 10 mg', 'Em uso de : AAS 100 mg dia , losartana 100 mg dia , atovastatina 20 mg 4CP / DIA , atenolol 25mg / dia , furosemida 40mg / dia , omeoprazol 40mg ao dia , ezatimibe 10 mg , Hidantal 100mg - por cisticercose .'], ['Hidantal 100mg', 'Em uso de : AAS 100 mg dia , losartana 100 mg dia , atovastatina 20 mg 4CP / DIA , atenolol 25mg / dia , furosemida 40mg / dia , omeoprazol 40mg ao dia , ezatimibe 10 mg , Hidantal 100mg - por cisticercose .'], ['cisticercose', 'Em uso de : AAS 100 mg dia , losartana 100 mg dia , atovastatina 20 mg 4CP / DIA , atenolol 25mg / dia , furosemida 40mg / dia , omeoprazol 40mg ao dia , ezatimibe 10 mg , Hidantal 100mg - por cisticercose .']]\n"
     ]
    },
    {
     "data": {
      "application/vnd.jupyter.widget-view+json": {
       "model_id": "811f750fc1d44f02ba770abb6ea94d5e",
       "version_major": 2,
       "version_minor": 0
      },
      "text/plain": [
       "  0%|          | 0/7 [00:00<?, ?it/s]"
      ]
     },
     "metadata": {},
     "output_type": "display_data"
    },
    {
     "data": {
      "application/vnd.jupyter.widget-view+json": {
       "model_id": "b0fec9e0e5df44e1a813d8f217ed6bb2",
       "version_major": 2,
       "version_minor": 0
      },
      "text/plain": [
       "  0%|          | 0/1 [00:00<?, ?it/s]"
      ]
     },
     "metadata": {},
     "output_type": "display_data"
    },
    {
     "name": "stdout",
     "output_type": "stream",
     "text": [
      "predictions: [1 1 1 1 1 1 0]\n",
      "lista: [['Penicilina G benzatina 1 , 200 , 000U IM', 'Penicilina G benzatina 1 , 200 , 000U IM a cada 21 dia - suspenso em 2013 .']]\n"
     ]
    },
    {
     "data": {
      "application/vnd.jupyter.widget-view+json": {
       "model_id": "ed2969c58f324f0790dad4a768a44625",
       "version_major": 2,
       "version_minor": 0
      },
      "text/plain": [
       "  0%|          | 0/1 [00:00<?, ?it/s]"
      ]
     },
     "metadata": {},
     "output_type": "display_data"
    },
    {
     "data": {
      "application/vnd.jupyter.widget-view+json": {
       "model_id": "e7130454edd64dc7b1895d7aa3e2b3a9",
       "version_major": 2,
       "version_minor": 0
      },
      "text/plain": [
       "  0%|          | 0/1 [00:00<?, ?it/s]"
      ]
     },
     "metadata": {},
     "output_type": "display_data"
    },
    {
     "name": "stdout",
     "output_type": "stream",
     "text": [
      "predictions: [1]\n",
      "lista: [['DOR REGIAO ESTERNAL , EM FO , LOCAL FIOS AÇO , EM QUEIMAÇÃO', 'DOR REGIAO ESTERNAL , EM FO , LOCAL FIOS AÇO , EM QUEIMAÇÃO .'], ['DOR REGIAO ESTERNAL', 'DOR REGIAO ESTERNAL , EM FO , LOCAL FIOS AÇO , EM QUEIMAÇÃO .'], ['LOCAL FIOS AÇO', 'DOR REGIAO ESTERNAL , EM FO , LOCAL FIOS AÇO , EM QUEIMAÇÃO .'], ['FO , LOCAL FIOS', 'DOR REGIAO ESTERNAL , EM FO , LOCAL FIOS AÇO , EM QUEIMAÇÃO .'], [', LOCAL FIOS AÇO', 'DOR REGIAO ESTERNAL , EM FO , LOCAL FIOS AÇO , EM QUEIMAÇÃO .'], ['LOCAL FIOS AÇO ,', 'DOR REGIAO ESTERNAL , EM FO , LOCAL FIOS AÇO , EM QUEIMAÇÃO .'], ['EM FO , LOCAL FIOS', 'DOR REGIAO ESTERNAL , EM FO , LOCAL FIOS AÇO , EM QUEIMAÇÃO .'], ['FO , LOCAL FIOS AÇO', 'DOR REGIAO ESTERNAL , EM FO , LOCAL FIOS AÇO , EM QUEIMAÇÃO .'], ['DOR REGIAO ESTERNAL , EM FO', 'DOR REGIAO ESTERNAL , EM FO , LOCAL FIOS AÇO , EM QUEIMAÇÃO .'], ['EM FO , LOCAL FIOS AÇO', 'DOR REGIAO ESTERNAL , EM FO , LOCAL FIOS AÇO , EM QUEIMAÇÃO .'], ['FO , LOCAL FIOS AÇO ,', 'DOR REGIAO ESTERNAL , EM FO , LOCAL FIOS AÇO , EM QUEIMAÇÃO .'], ['LOCAL FIOS AÇO , EM QUEIMAÇÃO', 'DOR REGIAO ESTERNAL , EM FO , LOCAL FIOS AÇO , EM QUEIMAÇÃO .'], ['DOR REGIAO ESTERNAL , EM FO ,', 'DOR REGIAO ESTERNAL , EM FO , LOCAL FIOS AÇO , EM QUEIMAÇÃO .'], ['REGIAO ESTERNAL , EM FO , LOCAL', 'DOR REGIAO ESTERNAL , EM FO , LOCAL FIOS AÇO , EM QUEIMAÇÃO .'], ['ESTERNAL , EM FO , LOCAL FIOS', 'DOR REGIAO ESTERNAL , EM FO , LOCAL FIOS AÇO , EM QUEIMAÇÃO .'], [', EM FO , LOCAL FIOS AÇO', 'DOR REGIAO ESTERNAL , EM FO , LOCAL FIOS AÇO , EM QUEIMAÇÃO .'], ['EM FO , LOCAL FIOS AÇO ,', 'DOR REGIAO ESTERNAL , EM FO , LOCAL FIOS AÇO , EM QUEIMAÇÃO .'], ['FO , LOCAL FIOS AÇO , EM', 'DOR REGIAO ESTERNAL , EM FO , LOCAL FIOS AÇO , EM QUEIMAÇÃO .'], [', LOCAL FIOS AÇO , EM QUEIMAÇÃO', 'DOR REGIAO ESTERNAL , EM FO , LOCAL FIOS AÇO , EM QUEIMAÇÃO .'], ['DOR REGIAO ESTERNAL , EM FO , LOCAL', 'DOR REGIAO ESTERNAL , EM FO , LOCAL FIOS AÇO , EM QUEIMAÇÃO .'], ['REGIAO ESTERNAL , EM FO , LOCAL FIOS', 'DOR REGIAO ESTERNAL , EM FO , LOCAL FIOS AÇO , EM QUEIMAÇÃO .'], ['ESTERNAL , EM FO , LOCAL FIOS AÇO', 'DOR REGIAO ESTERNAL , EM FO , LOCAL FIOS AÇO , EM QUEIMAÇÃO .'], [', EM FO , LOCAL FIOS AÇO ,', 'DOR REGIAO ESTERNAL , EM FO , LOCAL FIOS AÇO , EM QUEIMAÇÃO .'], ['EM FO , LOCAL FIOS AÇO , EM', 'DOR REGIAO ESTERNAL , EM FO , LOCAL FIOS AÇO , EM QUEIMAÇÃO .'], ['FO , LOCAL FIOS AÇO , EM QUEIMAÇÃO', 'DOR REGIAO ESTERNAL , EM FO , LOCAL FIOS AÇO , EM QUEIMAÇÃO .'], ['DOR REGIAO ESTERNAL , EM FO , LOCAL FIOS', 'DOR REGIAO ESTERNAL , EM FO , LOCAL FIOS AÇO , EM QUEIMAÇÃO .'], ['REGIAO ESTERNAL , EM FO , LOCAL FIOS AÇO', 'DOR REGIAO ESTERNAL , EM FO , LOCAL FIOS AÇO , EM QUEIMAÇÃO .'], ['ESTERNAL , EM FO , LOCAL FIOS AÇO ,', 'DOR REGIAO ESTERNAL , EM FO , LOCAL FIOS AÇO , EM QUEIMAÇÃO .'], ['EM FO , LOCAL FIOS AÇO , EM QUEIMAÇÃO', 'DOR REGIAO ESTERNAL , EM FO , LOCAL FIOS AÇO , EM QUEIMAÇÃO .'], ['DOR REGIAO ESTERNAL , EM FO , LOCAL FIOS AÇO', 'DOR REGIAO ESTERNAL , EM FO , LOCAL FIOS AÇO , EM QUEIMAÇÃO .'], ['REGIAO ESTERNAL , EM FO , LOCAL FIOS AÇO ,', 'DOR REGIAO ESTERNAL , EM FO , LOCAL FIOS AÇO , EM QUEIMAÇÃO .'], ['ESTERNAL , EM FO , LOCAL FIOS AÇO , EM', 'DOR REGIAO ESTERNAL , EM FO , LOCAL FIOS AÇO , EM QUEIMAÇÃO .'], [', EM FO , LOCAL FIOS AÇO , EM QUEIMAÇÃO', 'DOR REGIAO ESTERNAL , EM FO , LOCAL FIOS AÇO , EM QUEIMAÇÃO .'], ['DOR REGIAO ESTERNAL , EM FO , LOCAL FIOS AÇO ,', 'DOR REGIAO ESTERNAL , EM FO , LOCAL FIOS AÇO , EM QUEIMAÇÃO .'], ['REGIAO ESTERNAL , EM FO , LOCAL FIOS AÇO , EM', 'DOR REGIAO ESTERNAL , EM FO , LOCAL FIOS AÇO , EM QUEIMAÇÃO .'], ['ESTERNAL , EM FO , LOCAL FIOS AÇO , EM QUEIMAÇÃO', 'DOR REGIAO ESTERNAL , EM FO , LOCAL FIOS AÇO , EM QUEIMAÇÃO .'], ['DOR REGIAO ESTERNAL , EM FO , LOCAL FIOS AÇO , EM', 'DOR REGIAO ESTERNAL , EM FO , LOCAL FIOS AÇO , EM QUEIMAÇÃO .'], ['REGIAO ESTERNAL , EM FO , LOCAL FIOS AÇO , EM QUEIMAÇÃO', 'DOR REGIAO ESTERNAL , EM FO , LOCAL FIOS AÇO , EM QUEIMAÇÃO .']]\n"
     ]
    },
    {
     "data": {
      "application/vnd.jupyter.widget-view+json": {
       "model_id": "9f7b434743e44dccbba1c7032ae204bf",
       "version_major": 2,
       "version_minor": 0
      },
      "text/plain": [
       "  0%|          | 0/38 [00:00<?, ?it/s]"
      ]
     },
     "metadata": {},
     "output_type": "display_data"
    },
    {
     "data": {
      "application/vnd.jupyter.widget-view+json": {
       "model_id": "887092c054344eb084a600f689049bb7",
       "version_major": 2,
       "version_minor": 0
      },
      "text/plain": [
       "  0%|          | 0/5 [00:00<?, ?it/s]"
      ]
     },
     "metadata": {},
     "output_type": "display_data"
    },
    {
     "name": "stdout",
     "output_type": "stream",
     "text": [
      "predictions: [0 0 3 3 3 3 3 3 0 3 3 0 0 3 3 3 3 3 0 0 3 3 3 3 0 0 3 3 0 0 3 3 0 0 3 0 0\n",
      " 0]\n",
      "lista: [['Labs', '- Labs : tg 221 / ct 166 / ldl 76 , demais ok .'], ['ct', '- Labs : tg 221 / ct 166 / ldl 76 , demais ok .']]\n"
     ]
    },
    {
     "data": {
      "application/vnd.jupyter.widget-view+json": {
       "model_id": "1f7b8e8b1d0848df86ef8e6b323b2325",
       "version_major": 2,
       "version_minor": 0
      },
      "text/plain": [
       "  0%|          | 0/2 [00:00<?, ?it/s]"
      ]
     },
     "metadata": {},
     "output_type": "display_data"
    },
    {
     "data": {
      "application/vnd.jupyter.widget-view+json": {
       "model_id": "c7e46cf56adc48939966e8165e83220a",
       "version_major": 2,
       "version_minor": 0
      },
      "text/plain": [
       "  0%|          | 0/1 [00:00<?, ?it/s]"
      ]
     },
     "metadata": {},
     "output_type": "display_data"
    },
    {
     "name": "stdout",
     "output_type": "stream",
     "text": [
      "predictions: [2 2]\n",
      "lista: [['Ecocardio', '- Ecocardio 12 / 08 / 15 : A0 / VD 22 / Septo 11 / FE 66 .'], ['VD', '- Ecocardio 12 / 08 / 15 : A0 / VD 22 / Septo 11 / FE 66 .'], ['Septo', '- Ecocardio 12 / 08 / 15 : A0 / VD 22 / Septo 11 / FE 66 .']]\n"
     ]
    },
    {
     "data": {
      "application/vnd.jupyter.widget-view+json": {
       "model_id": "0102ac93ad6c4d029cc5c553b561aea7",
       "version_major": 2,
       "version_minor": 0
      },
      "text/plain": [
       "  0%|          | 0/3 [00:00<?, ?it/s]"
      ]
     },
     "metadata": {},
     "output_type": "display_data"
    },
    {
     "data": {
      "application/vnd.jupyter.widget-view+json": {
       "model_id": "f1f5d2a2c4b64242aa56aa1e7b342849",
       "version_major": 2,
       "version_minor": 0
      },
      "text/plain": [
       "  0%|          | 0/1 [00:00<?, ?it/s]"
      ]
     },
     "metadata": {},
     "output_type": "display_data"
    },
    {
     "name": "stdout",
     "output_type": "stream",
     "text": [
      "predictions: [2 3 3]\n",
      "lista: [['Homoenxerto aortico', 'Homoenxerto aortico com mobilidade ampla folhetps .']]\n"
     ]
    },
    {
     "data": {
      "application/vnd.jupyter.widget-view+json": {
       "model_id": "ce474c5a3f2541bc8211d106b1a8e9cb",
       "version_major": 2,
       "version_minor": 0
      },
      "text/plain": [
       "  0%|          | 0/1 [00:00<?, ?it/s]"
      ]
     },
     "metadata": {},
     "output_type": "display_data"
    },
    {
     "data": {
      "application/vnd.jupyter.widget-view+json": {
       "model_id": "eb804d4a3e2f4e429bd8525c9a6d9ba2",
       "version_major": 2,
       "version_minor": 0
      },
      "text/plain": [
       "  0%|          | 0/1 [00:00<?, ?it/s]"
      ]
     },
     "metadata": {},
     "output_type": "display_data"
    },
    {
     "name": "stdout",
     "output_type": "stream",
     "text": [
      "predictions: [1]\n",
      "lista: [['Regurgitacao grau leve a moderada', 'Regurgitacao grau leve a moderada com jato dirigido valva mitral ( ? ) .'], ['mitral', 'Regurgitacao grau leve a moderada com jato dirigido valva mitral ( ? ) .']]\n"
     ]
    },
    {
     "data": {
      "application/vnd.jupyter.widget-view+json": {
       "model_id": "1cba48842fc74becb11ed8ed6e30f8e7",
       "version_major": 2,
       "version_minor": 0
      },
      "text/plain": [
       "  0%|          | 0/2 [00:00<?, ?it/s]"
      ]
     },
     "metadata": {},
     "output_type": "display_data"
    },
    {
     "data": {
      "application/vnd.jupyter.widget-view+json": {
       "model_id": "a1146a3d0efa4f37bbcc1663f9122371",
       "version_major": 2,
       "version_minor": 0
      },
      "text/plain": [
       "  0%|          | 0/1 [00:00<?, ?it/s]"
      ]
     },
     "metadata": {},
     "output_type": "display_data"
    },
    {
     "name": "stdout",
     "output_type": "stream",
     "text": [
      "predictions: [0 3]\n",
      "lista: [['Exames', 'Exames : .']]\n"
     ]
    },
    {
     "data": {
      "application/vnd.jupyter.widget-view+json": {
       "model_id": "06a2ebbd5a6d4a9fb53adbbcc2e83acd",
       "version_major": 2,
       "version_minor": 0
      },
      "text/plain": [
       "  0%|          | 0/1 [00:00<?, ?it/s]"
      ]
     },
     "metadata": {},
     "output_type": "display_data"
    },
    {
     "data": {
      "application/vnd.jupyter.widget-view+json": {
       "model_id": "572c092f468c426385a013b342823a1e",
       "version_major": 2,
       "version_minor": 0
      },
      "text/plain": [
       "  0%|          | 0/1 [00:00<?, ?it/s]"
      ]
     },
     "metadata": {},
     "output_type": "display_data"
    },
    {
     "name": "stdout",
     "output_type": "stream",
     "text": [
      "predictions: [2]\n",
      "lista: [['Ecocardiograma', 'Ecocardiograma - 26 / 06 / 2013 : Homoenxerto em posição aórtica normofuncionante .']]\n"
     ]
    },
    {
     "data": {
      "application/vnd.jupyter.widget-view+json": {
       "model_id": "bd84655d0c644bc8a7fa9ab5343d9c02",
       "version_major": 2,
       "version_minor": 0
      },
      "text/plain": [
       "  0%|          | 0/1 [00:00<?, ?it/s]"
      ]
     },
     "metadata": {},
     "output_type": "display_data"
    },
    {
     "data": {
      "application/vnd.jupyter.widget-view+json": {
       "model_id": "b04a3b8aba7f4ce6abf990ed12a2b8cb",
       "version_major": 2,
       "version_minor": 0
      },
      "text/plain": [
       "  0%|          | 0/1 [00:00<?, ?it/s]"
      ]
     },
     "metadata": {},
     "output_type": "display_data"
    },
    {
     "name": "stdout",
     "output_type": "stream",
     "text": [
      "predictions: [2]\n",
      "lista: [['VE hipertrofiado', 'VE hipertrofiado com dimensões normais e fumção sistólica preservada .']]\n"
     ]
    },
    {
     "data": {
      "application/vnd.jupyter.widget-view+json": {
       "model_id": "2e9514fd7809460a8e0e78e2ca4e1147",
       "version_major": 2,
       "version_minor": 0
      },
      "text/plain": [
       "  0%|          | 0/1 [00:00<?, ?it/s]"
      ]
     },
     "metadata": {},
     "output_type": "display_data"
    },
    {
     "data": {
      "application/vnd.jupyter.widget-view+json": {
       "model_id": "eddd345c0e7849ce976263e9f96ee9be",
       "version_major": 2,
       "version_minor": 0
      },
      "text/plain": [
       "  0%|          | 0/1 [00:00<?, ?it/s]"
      ]
     },
     "metadata": {},
     "output_type": "display_data"
    },
    {
     "name": "stdout",
     "output_type": "stream",
     "text": [
      "predictions: [0]\n",
      "lista: [['ALteração do relaxamento do VE AE dilatado', 'ALteração do relaxamento do VE AE dilatado .'], ['VE AE', 'ALteração do relaxamento do VE AE dilatado .'], ['AE dilatado', 'ALteração do relaxamento do VE AE dilatado .'], ['do VE AE', 'ALteração do relaxamento do VE AE dilatado .'], ['VE AE dilatado', 'ALteração do relaxamento do VE AE dilatado .'], ['relaxamento do VE AE', 'ALteração do relaxamento do VE AE dilatado .'], ['do VE AE dilatado', 'ALteração do relaxamento do VE AE dilatado .'], ['relaxamento do VE AE dilatado', 'ALteração do relaxamento do VE AE dilatado .'], ['ALteração do relaxamento do VE AE', 'ALteração do relaxamento do VE AE dilatado .'], ['do relaxamento do VE AE dilatado', 'ALteração do relaxamento do VE AE dilatado .']]\n"
     ]
    },
    {
     "data": {
      "application/vnd.jupyter.widget-view+json": {
       "model_id": "1219f8fb4c7b4c02addd2ccaeafbb5d7",
       "version_major": 2,
       "version_minor": 0
      },
      "text/plain": [
       "  0%|          | 0/10 [00:00<?, ?it/s]"
      ]
     },
     "metadata": {},
     "output_type": "display_data"
    },
    {
     "data": {
      "application/vnd.jupyter.widget-view+json": {
       "model_id": "5505ff1bee0c466da65b187041883c6f",
       "version_major": 2,
       "version_minor": 0
      },
      "text/plain": [
       "  0%|          | 0/2 [00:00<?, ?it/s]"
      ]
     },
     "metadata": {},
     "output_type": "display_data"
    },
    {
     "name": "stdout",
     "output_type": "stream",
     "text": [
      "predictions: [0 3 0 3 0 0 0 0 0 0]\n",
      "lista: [['Homoenxerto', 'Homoenxerto com mobilidade adequada .']]\n"
     ]
    },
    {
     "data": {
      "application/vnd.jupyter.widget-view+json": {
       "model_id": "c14eba1716db414995ac480e098a7085",
       "version_major": 2,
       "version_minor": 0
      },
      "text/plain": [
       "  0%|          | 0/1 [00:00<?, ?it/s]"
      ]
     },
     "metadata": {},
     "output_type": "display_data"
    },
    {
     "data": {
      "application/vnd.jupyter.widget-view+json": {
       "model_id": "33cad9895a5a4f628898f4fea6dcdba4",
       "version_major": 2,
       "version_minor": 0
      },
      "text/plain": [
       "  0%|          | 0/1 [00:00<?, ?it/s]"
      ]
     },
     "metadata": {},
     "output_type": "display_data"
    },
    {
     "name": "stdout",
     "output_type": "stream",
     "text": [
      "predictions: [1]\n",
      "lista: [['Lab', '- Lab ( 05 / 02 / 15 ) : Cr 0 , 91 , CT 174 , TGC 197 , HDL 44 , K 4 , 8 , LDL 90 , Glic 107 .'], ['Cr', '- Lab ( 05 / 02 / 15 ) : Cr 0 , 91 , CT 174 , TGC 197 , HDL 44 , K 4 , 8 , LDL 90 , Glic 107 .'], ['CT', '- Lab ( 05 / 02 / 15 ) : Cr 0 , 91 , CT 174 , TGC 197 , HDL 44 , K 4 , 8 , LDL 90 , Glic 107 .'], ['TGC', '- Lab ( 05 / 02 / 15 ) : Cr 0 , 91 , CT 174 , TGC 197 , HDL 44 , K 4 , 8 , LDL 90 , Glic 107 .'], ['HDL', '- Lab ( 05 / 02 / 15 ) : Cr 0 , 91 , CT 174 , TGC 197 , HDL 44 , K 4 , 8 , LDL 90 , Glic 107 .'], ['K', '- Lab ( 05 / 02 / 15 ) : Cr 0 , 91 , CT 174 , TGC 197 , HDL 44 , K 4 , 8 , LDL 90 , Glic 107 .'], ['LDL', '- Lab ( 05 / 02 / 15 ) : Cr 0 , 91 , CT 174 , TGC 197 , HDL 44 , K 4 , 8 , LDL 90 , Glic 107 .'], ['Glic', '- Lab ( 05 / 02 / 15 ) : Cr 0 , 91 , CT 174 , TGC 197 , HDL 44 , K 4 , 8 , LDL 90 , Glic 107 .']]\n"
     ]
    },
    {
     "data": {
      "application/vnd.jupyter.widget-view+json": {
       "model_id": "c50da0bc32094259b28ac86e5a856821",
       "version_major": 2,
       "version_minor": 0
      },
      "text/plain": [
       "  0%|          | 0/8 [00:00<?, ?it/s]"
      ]
     },
     "metadata": {},
     "output_type": "display_data"
    },
    {
     "data": {
      "application/vnd.jupyter.widget-view+json": {
       "model_id": "d6d3b30b75684331979680cd2c40aa2d",
       "version_major": 2,
       "version_minor": 0
      },
      "text/plain": [
       "  0%|          | 0/1 [00:00<?, ?it/s]"
      ]
     },
     "metadata": {},
     "output_type": "display_data"
    },
    {
     "name": "stdout",
     "output_type": "stream",
     "text": [
      "predictions: [2 2 2 2 2 2 2 2]\n",
      "lista: [['exame', 'Ao exame : .']]\n"
     ]
    },
    {
     "data": {
      "application/vnd.jupyter.widget-view+json": {
       "model_id": "523f0b67192c47b4aa101a25dde120a0",
       "version_major": 2,
       "version_minor": 0
      },
      "text/plain": [
       "  0%|          | 0/1 [00:00<?, ?it/s]"
      ]
     },
     "metadata": {},
     "output_type": "display_data"
    },
    {
     "data": {
      "application/vnd.jupyter.widget-view+json": {
       "model_id": "334c5e45f6744454b8a67220694137d1",
       "version_major": 2,
       "version_minor": 0
      },
      "text/plain": [
       "  0%|          | 0/1 [00:00<?, ?it/s]"
      ]
     },
     "metadata": {},
     "output_type": "display_data"
    },
    {
     "name": "stdout",
     "output_type": "stream",
     "text": [
      "predictions: [2]\n",
      "lista: [['FC79 PA', 'FC79 PA : 130 / 80 .'], ['PA', 'FC79 PA : 130 / 80 .']]\n"
     ]
    },
    {
     "data": {
      "application/vnd.jupyter.widget-view+json": {
       "model_id": "1d8916561288493ab0932f9c932f5b5a",
       "version_major": 2,
       "version_minor": 0
      },
      "text/plain": [
       "  0%|          | 0/2 [00:00<?, ?it/s]"
      ]
     },
     "metadata": {},
     "output_type": "display_data"
    },
    {
     "data": {
      "application/vnd.jupyter.widget-view+json": {
       "model_id": "6fb312bc7bc24a22b2ec69d288f95956",
       "version_major": 2,
       "version_minor": 0
      },
      "text/plain": [
       "  0%|          | 0/1 [00:00<?, ?it/s]"
      ]
     },
     "metadata": {},
     "output_type": "display_data"
    },
    {
     "name": "stdout",
     "output_type": "stream",
     "text": [
      "predictions: [2 2]\n",
      "lista: [['estase jugular', 'CP : sem estase jugular .'], ['jugular', 'CP : sem estase jugular .']]\n"
     ]
    },
    {
     "data": {
      "application/vnd.jupyter.widget-view+json": {
       "model_id": "62d0726447ac47bf98b6e37d3cfa0dc8",
       "version_major": 2,
       "version_minor": 0
      },
      "text/plain": [
       "  0%|          | 0/2 [00:00<?, ?it/s]"
      ]
     },
     "metadata": {},
     "output_type": "display_data"
    },
    {
     "data": {
      "application/vnd.jupyter.widget-view+json": {
       "model_id": "ab23e97f3ff5455ab0a2d8bd5c88209e",
       "version_major": 2,
       "version_minor": 0
      },
      "text/plain": [
       "  0%|          | 0/1 [00:00<?, ?it/s]"
      ]
     },
     "metadata": {},
     "output_type": "display_data"
    },
    {
     "name": "stdout",
     "output_type": "stream",
     "text": [
      "predictions: [0 3]\n",
      "lista: [['sopros', 'AC : BCRNF sem sopros .']]\n"
     ]
    },
    {
     "data": {
      "application/vnd.jupyter.widget-view+json": {
       "model_id": "9253f71fb4254efea015a6db30a754f4",
       "version_major": 2,
       "version_minor": 0
      },
      "text/plain": [
       "  0%|          | 0/1 [00:00<?, ?it/s]"
      ]
     },
     "metadata": {},
     "output_type": "display_data"
    },
    {
     "data": {
      "application/vnd.jupyter.widget-view+json": {
       "model_id": "63f99f9ada7c42b5a5341b1522e12642",
       "version_major": 2,
       "version_minor": 0
      },
      "text/plain": [
       "  0%|          | 0/1 [00:00<?, ?it/s]"
      ]
     },
     "metadata": {},
     "output_type": "display_data"
    },
    {
     "name": "stdout",
     "output_type": "stream",
     "text": [
      "predictions: [0]\n",
      "lista: [['RA', 'AP : MV presente bilateralmente , sem RA .']]\n"
     ]
    },
    {
     "data": {
      "application/vnd.jupyter.widget-view+json": {
       "model_id": "0078c07f9c9246ffb19620d6e3d173dc",
       "version_major": 2,
       "version_minor": 0
      },
      "text/plain": [
       "  0%|          | 0/1 [00:00<?, ?it/s]"
      ]
     },
     "metadata": {},
     "output_type": "display_data"
    },
    {
     "data": {
      "application/vnd.jupyter.widget-view+json": {
       "model_id": "2c1622fd702d44bb8d60a6154d964d3e",
       "version_major": 2,
       "version_minor": 0
      },
      "text/plain": [
       "  0%|          | 0/1 [00:00<?, ?it/s]"
      ]
     },
     "metadata": {},
     "output_type": "display_data"
    },
    {
     "name": "stdout",
     "output_type": "stream",
     "text": [
      "predictions: [0]\n",
      "lista: [['medicações', 'mantenho medicações .']]\n"
     ]
    },
    {
     "data": {
      "application/vnd.jupyter.widget-view+json": {
       "model_id": "8e9a6bac198a41aa9f46343e83e74d94",
       "version_major": 2,
       "version_minor": 0
      },
      "text/plain": [
       "  0%|          | 0/1 [00:00<?, ?it/s]"
      ]
     },
     "metadata": {},
     "output_type": "display_data"
    },
    {
     "data": {
      "application/vnd.jupyter.widget-view+json": {
       "model_id": "1791c622f7d94573bac60a709c597cca",
       "version_major": 2,
       "version_minor": 0
      },
      "text/plain": [
       "  0%|          | 0/1 [00:00<?, ?it/s]"
      ]
     },
     "metadata": {},
     "output_type": "display_data"
    },
    {
     "name": "stdout",
     "output_type": "stream",
     "text": [
      "predictions: [1]\n",
      "lista: [['pontos suttura esterno', 'encaminho para cir cardiaca para retirada pontos suttura esterno .'], ['suttura esterno', 'encaminho para cir cardiaca para retirada pontos suttura esterno .']]\n"
     ]
    },
    {
     "data": {
      "application/vnd.jupyter.widget-view+json": {
       "model_id": "49735ff046d14a698f3b97655a04b7c0",
       "version_major": 2,
       "version_minor": 0
      },
      "text/plain": [
       "  0%|          | 0/2 [00:00<?, ?it/s]"
      ]
     },
     "metadata": {},
     "output_type": "display_data"
    },
    {
     "data": {
      "application/vnd.jupyter.widget-view+json": {
       "model_id": "0e513fef8da7499e9295faf46033f7dd",
       "version_major": 2,
       "version_minor": 0
      },
      "text/plain": [
       "  0%|          | 0/1 [00:00<?, ?it/s]"
      ]
     },
     "metadata": {},
     "output_type": "display_data"
    },
    {
     "name": "stdout",
     "output_type": "stream",
     "text": [
      "predictions: [1 1]\n",
      "lista: [['MAREVAN', \"USUÁRIA DE MAREVAN DEVIDO ' ARRITMIA ' , NÃO SABE INFORMAR MAIORES DETALHES .\"], ['ARRITMIA', \"USUÁRIA DE MAREVAN DEVIDO ' ARRITMIA ' , NÃO SABE INFORMAR MAIORES DETALHES .\"]]\n"
     ]
    },
    {
     "data": {
      "application/vnd.jupyter.widget-view+json": {
       "model_id": "6df5d8fb2518465188c973f07e674883",
       "version_major": 2,
       "version_minor": 0
      },
      "text/plain": [
       "  0%|          | 0/2 [00:00<?, ?it/s]"
      ]
     },
     "metadata": {},
     "output_type": "display_data"
    },
    {
     "data": {
      "application/vnd.jupyter.widget-view+json": {
       "model_id": "069bed319b864e47860479d9a443c94f",
       "version_major": 2,
       "version_minor": 0
      },
      "text/plain": [
       "  0%|          | 0/1 [00:00<?, ?it/s]"
      ]
     },
     "metadata": {},
     "output_type": "display_data"
    },
    {
     "name": "stdout",
     "output_type": "stream",
     "text": [
      "predictions: [1 0]\n",
      "lista: [['QUEIXAS', 'sEM QUEIXAS .']]\n"
     ]
    },
    {
     "data": {
      "application/vnd.jupyter.widget-view+json": {
       "model_id": "fbc47e835480457fa5a2c50e041357d3",
       "version_major": 2,
       "version_minor": 0
      },
      "text/plain": [
       "  0%|          | 0/1 [00:00<?, ?it/s]"
      ]
     },
     "metadata": {},
     "output_type": "display_data"
    },
    {
     "data": {
      "application/vnd.jupyter.widget-view+json": {
       "model_id": "809d95c8da5d4cbb8ac8868c4688ecae",
       "version_major": 2,
       "version_minor": 0
      },
      "text/plain": [
       "  0%|          | 0/1 [00:00<?, ?it/s]"
      ]
     },
     "metadata": {},
     "output_type": "display_data"
    },
    {
     "name": "stdout",
     "output_type": "stream",
     "text": [
      "predictions: [0]\n",
      "lista: [['RELATO DE SANGRAMENTOS', 'SEM RELATO DE SANGRAMENTOS .']]\n"
     ]
    },
    {
     "data": {
      "application/vnd.jupyter.widget-view+json": {
       "model_id": "17570cea08c34b38be17bc436438db80",
       "version_major": 2,
       "version_minor": 0
      },
      "text/plain": [
       "  0%|          | 0/1 [00:00<?, ?it/s]"
      ]
     },
     "metadata": {},
     "output_type": "display_data"
    },
    {
     "data": {
      "application/vnd.jupyter.widget-view+json": {
       "model_id": "9aff4f99972540b9b471e78f811a2362",
       "version_major": 2,
       "version_minor": 0
      },
      "text/plain": [
       "  0%|          | 0/1 [00:00<?, ?it/s]"
      ]
     },
     "metadata": {},
     "output_type": "display_data"
    },
    {
     "name": "stdout",
     "output_type": "stream",
     "text": [
      "predictions: [0]\n",
      "lista: [['RNI', 'RNI 3 , 40 .']]\n"
     ]
    },
    {
     "data": {
      "application/vnd.jupyter.widget-view+json": {
       "model_id": "52cae2d1b7f94326b05b2cc3819c253d",
       "version_major": 2,
       "version_minor": 0
      },
      "text/plain": [
       "  0%|          | 0/1 [00:00<?, ?it/s]"
      ]
     },
     "metadata": {},
     "output_type": "display_data"
    },
    {
     "data": {
      "application/vnd.jupyter.widget-view+json": {
       "model_id": "ac092a48125b405b8027f4ed5489e203",
       "version_major": 2,
       "version_minor": 0
      },
      "text/plain": [
       "  0%|          | 0/1 [00:00<?, ?it/s]"
      ]
     },
     "metadata": {},
     "output_type": "display_data"
    },
    {
     "name": "stdout",
     "output_type": "stream",
     "text": [
      "predictions: [2]\n",
      "lista: [['DE GRAVIDADE', 'ALERTO SINAIS DE GRAVIDADE .']]\n"
     ]
    },
    {
     "data": {
      "application/vnd.jupyter.widget-view+json": {
       "model_id": "46d156e297be4d95bab88504b62b7ce0",
       "version_major": 2,
       "version_minor": 0
      },
      "text/plain": [
       "  0%|          | 0/1 [00:00<?, ?it/s]"
      ]
     },
     "metadata": {},
     "output_type": "display_data"
    },
    {
     "data": {
      "application/vnd.jupyter.widget-view+json": {
       "model_id": "7eff50a51fb84a54a0dc2bec90f7dbbb",
       "version_major": 2,
       "version_minor": 0
      },
      "text/plain": [
       "  0%|          | 0/1 [00:00<?, ?it/s]"
      ]
     },
     "metadata": {},
     "output_type": "display_data"
    },
    {
     "name": "stdout",
     "output_type": "stream",
     "text": [
      "predictions: [0]\n",
      "lista: [['MEDICAÇÃO DE USO', 'MANTER AS MEDICAÇÃO DE USO , COM AJUSTE DE COSE .']]\n"
     ]
    },
    {
     "data": {
      "application/vnd.jupyter.widget-view+json": {
       "model_id": "ca1dc5b492004b4db09a67f2f9b8b34f",
       "version_major": 2,
       "version_minor": 0
      },
      "text/plain": [
       "  0%|          | 0/1 [00:00<?, ?it/s]"
      ]
     },
     "metadata": {},
     "output_type": "display_data"
    },
    {
     "data": {
      "application/vnd.jupyter.widget-view+json": {
       "model_id": "2917020dbb1f4057970a01cee0a66df5",
       "version_major": 2,
       "version_minor": 0
      },
      "text/plain": [
       "  0%|          | 0/1 [00:00<?, ?it/s]"
      ]
     },
     "metadata": {},
     "output_type": "display_data"
    },
    {
     "name": "stdout",
     "output_type": "stream",
     "text": [
      "predictions: [1]\n",
      "lista: [['EAo', '# EAo .']]\n"
     ]
    },
    {
     "data": {
      "application/vnd.jupyter.widget-view+json": {
       "model_id": "0b986482e9614dae9d5fef43cd25ea77",
       "version_major": 2,
       "version_minor": 0
      },
      "text/plain": [
       "  0%|          | 0/1 [00:00<?, ?it/s]"
      ]
     },
     "metadata": {},
     "output_type": "display_data"
    },
    {
     "data": {
      "application/vnd.jupyter.widget-view+json": {
       "model_id": "b069d99ce620421786f19687a5fa914d",
       "version_major": 2,
       "version_minor": 0
      },
      "text/plain": [
       "  0%|          | 0/1 [00:00<?, ?it/s]"
      ]
     },
     "metadata": {},
     "output_type": "display_data"
    },
    {
     "name": "stdout",
     "output_type": "stream",
     "text": [
      "predictions: [0]\n",
      "lista: [['HAS', '# HAS .']]\n"
     ]
    },
    {
     "data": {
      "application/vnd.jupyter.widget-view+json": {
       "model_id": "5cb080c366094fd08113ed55aa512ba2",
       "version_major": 2,
       "version_minor": 0
      },
      "text/plain": [
       "  0%|          | 0/1 [00:00<?, ?it/s]"
      ]
     },
     "metadata": {},
     "output_type": "display_data"
    },
    {
     "data": {
      "application/vnd.jupyter.widget-view+json": {
       "model_id": "fd77f79029324e5daea8c2f859c9b5d3",
       "version_major": 2,
       "version_minor": 0
      },
      "text/plain": [
       "  0%|          | 0/1 [00:00<?, ?it/s]"
      ]
     },
     "metadata": {},
     "output_type": "display_data"
    },
    {
     "name": "stdout",
     "output_type": "stream",
     "text": [
      "predictions: [0]\n",
      "lista: [['Atenol 50', '# Uso : Atenol 50 - 1xd .']]\n"
     ]
    },
    {
     "data": {
      "application/vnd.jupyter.widget-view+json": {
       "model_id": "0b80e19e0aae4718bd8548be35aeb3f4",
       "version_major": 2,
       "version_minor": 0
      },
      "text/plain": [
       "  0%|          | 0/1 [00:00<?, ?it/s]"
      ]
     },
     "metadata": {},
     "output_type": "display_data"
    },
    {
     "data": {
      "application/vnd.jupyter.widget-view+json": {
       "model_id": "e7a88563cd5a4ec0b4df04d5e0823c59",
       "version_major": 2,
       "version_minor": 0
      },
      "text/plain": [
       "  0%|          | 0/1 [00:00<?, ?it/s]"
      ]
     },
     "metadata": {},
     "output_type": "display_data"
    },
    {
     "name": "stdout",
     "output_type": "stream",
     "text": [
      "predictions: [1]\n",
      "lista: [['Enalapril 5', 'Enalapril 5 - 12 / 12h .']]\n"
     ]
    },
    {
     "data": {
      "application/vnd.jupyter.widget-view+json": {
       "model_id": "10ab2ade071f40fa822ad665d8885c5c",
       "version_major": 2,
       "version_minor": 0
      },
      "text/plain": [
       "  0%|          | 0/1 [00:00<?, ?it/s]"
      ]
     },
     "metadata": {},
     "output_type": "display_data"
    },
    {
     "data": {
      "application/vnd.jupyter.widget-view+json": {
       "model_id": "e49db7ec27c041f791a008ab910556eb",
       "version_major": 2,
       "version_minor": 0
      },
      "text/plain": [
       "  0%|          | 0/1 [00:00<?, ?it/s]"
      ]
     },
     "metadata": {},
     "output_type": "display_data"
    },
    {
     "name": "stdout",
     "output_type": "stream",
     "text": [
      "predictions: [1]\n",
      "lista: [['queixas cardiovasculares', '# Sem queixas cardiovasculares .']]\n"
     ]
    },
    {
     "data": {
      "application/vnd.jupyter.widget-view+json": {
       "model_id": "1379f5fabf7a45e090821a0bcf3f1b57",
       "version_major": 2,
       "version_minor": 0
      },
      "text/plain": [
       "  0%|          | 0/1 [00:00<?, ?it/s]"
      ]
     },
     "metadata": {},
     "output_type": "display_data"
    },
    {
     "data": {
      "application/vnd.jupyter.widget-view+json": {
       "model_id": "85cd1c0ec3c84bceb02f928f4f72dccc",
       "version_major": 2,
       "version_minor": 0
      },
      "text/plain": [
       "  0%|          | 0/1 [00:00<?, ?it/s]"
      ]
     },
     "metadata": {},
     "output_type": "display_data"
    },
    {
     "name": "stdout",
     "output_type": "stream",
     "text": [
      "predictions: [0]\n",
      "lista: [['Ecocardio', 'Ecocardio ( 13 / 02 / 15 ) : AE = 45 ; SIV = PPVE = 14mm ; DDVE = 48 ; DSVE = 29 ; FE = 69 % .'], ['AE', 'Ecocardio ( 13 / 02 / 15 ) : AE = 45 ; SIV = PPVE = 14mm ; DDVE = 48 ; DSVE = 29 ; FE = 69 % .'], ['SIV', 'Ecocardio ( 13 / 02 / 15 ) : AE = 45 ; SIV = PPVE = 14mm ; DDVE = 48 ; DSVE = 29 ; FE = 69 % .'], ['PPVE', 'Ecocardio ( 13 / 02 / 15 ) : AE = 45 ; SIV = PPVE = 14mm ; DDVE = 48 ; DSVE = 29 ; FE = 69 % .']]\n"
     ]
    },
    {
     "data": {
      "application/vnd.jupyter.widget-view+json": {
       "model_id": "b62c0092bd584bdb930d3e438b7a8b1e",
       "version_major": 2,
       "version_minor": 0
      },
      "text/plain": [
       "  0%|          | 0/4 [00:00<?, ?it/s]"
      ]
     },
     "metadata": {},
     "output_type": "display_data"
    },
    {
     "data": {
      "application/vnd.jupyter.widget-view+json": {
       "model_id": "8e56c9a2f8af4b85a0f439cacf732e30",
       "version_major": 2,
       "version_minor": 0
      },
      "text/plain": [
       "  0%|          | 0/1 [00:00<?, ?it/s]"
      ]
     },
     "metadata": {},
     "output_type": "display_data"
    },
    {
     "name": "stdout",
     "output_type": "stream",
     "text": [
      "predictions: [2 3 3 3]\n",
      "lista: [['VMi', 'VMi = folhetos espessados , abertura preservada , refluxo discreto , fluxo diastólico com padrão E < A VAo = cúspides calcificadas , com dupla lesão ; Grad max de 54 e medio de 28mmHg .']]\n"
     ]
    },
    {
     "data": {
      "application/vnd.jupyter.widget-view+json": {
       "model_id": "4c145c85fab54bd1bccd0c5e5e07c1e1",
       "version_major": 2,
       "version_minor": 0
      },
      "text/plain": [
       "  0%|          | 0/1 [00:00<?, ?it/s]"
      ]
     },
     "metadata": {},
     "output_type": "display_data"
    },
    {
     "data": {
      "application/vnd.jupyter.widget-view+json": {
       "model_id": "1964f7b5b8e7480298679cdb1384ab21",
       "version_major": 2,
       "version_minor": 0
      },
      "text/plain": [
       "  0%|          | 0/1 [00:00<?, ?it/s]"
      ]
     },
     "metadata": {},
     "output_type": "display_data"
    },
    {
     "name": "stdout",
     "output_type": "stream",
     "text": [
      "predictions: [3]\n",
      "lista: [['VP', 'VP = ok ; Vtri = folhetos espessados , abertura preservada , insuficiente , PSAP = 39mmHg .'], ['Vtri', 'VP = ok ; Vtri = folhetos espessados , abertura preservada , insuficiente , PSAP = 39mmHg .'], ['folhetos espessados', 'VP = ok ; Vtri = folhetos espessados , abertura preservada , insuficiente , PSAP = 39mmHg .']]\n"
     ]
    },
    {
     "data": {
      "application/vnd.jupyter.widget-view+json": {
       "model_id": "9145c10225344446808abfd077ce9b49",
       "version_major": 2,
       "version_minor": 0
      },
      "text/plain": [
       "  0%|          | 0/3 [00:00<?, ?it/s]"
      ]
     },
     "metadata": {},
     "output_type": "display_data"
    },
    {
     "data": {
      "application/vnd.jupyter.widget-view+json": {
       "model_id": "cf0918dc96b142b49f3355e342525c24",
       "version_major": 2,
       "version_minor": 0
      },
      "text/plain": [
       "  0%|          | 0/1 [00:00<?, ?it/s]"
      ]
     },
     "metadata": {},
     "output_type": "display_data"
    },
    {
     "name": "stdout",
     "output_type": "stream",
     "text": [
      "predictions: [3 3 0]\n",
      "lista: [['VE', 'VE = hipertrofiado , cavidade , função sistólica e contração preservadas , alt de relaxamento .']]\n"
     ]
    },
    {
     "data": {
      "application/vnd.jupyter.widget-view+json": {
       "model_id": "e5caf7af77ce41adbbf076aea8a6bee9",
       "version_major": 2,
       "version_minor": 0
      },
      "text/plain": [
       "  0%|          | 0/1 [00:00<?, ?it/s]"
      ]
     },
     "metadata": {},
     "output_type": "display_data"
    },
    {
     "data": {
      "application/vnd.jupyter.widget-view+json": {
       "model_id": "028c80349ea542adafd1dbea0214f8af",
       "version_major": 2,
       "version_minor": 0
      },
      "text/plain": [
       "  0%|          | 0/1 [00:00<?, ?it/s]"
      ]
     },
     "metadata": {},
     "output_type": "display_data"
    },
    {
     "name": "stdout",
     "output_type": "stream",
     "text": [
      "predictions: [3]\n",
      "lista: [['AD', 'AD = aumentado .'], ['aumentado', 'AD = aumentado .']]\n"
     ]
    },
    {
     "data": {
      "application/vnd.jupyter.widget-view+json": {
       "model_id": "1c080498025043fe89c83704bf59c7d5",
       "version_major": 2,
       "version_minor": 0
      },
      "text/plain": [
       "  0%|          | 0/2 [00:00<?, ?it/s]"
      ]
     },
     "metadata": {},
     "output_type": "display_data"
    },
    {
     "data": {
      "application/vnd.jupyter.widget-view+json": {
       "model_id": "615479834277410d8d844ed9b4d35911",
       "version_major": 2,
       "version_minor": 0
      },
      "text/plain": [
       "  0%|          | 0/1 [00:00<?, ?it/s]"
      ]
     },
     "metadata": {},
     "output_type": "display_data"
    },
    {
     "name": "stdout",
     "output_type": "stream",
     "text": [
      "predictions: [0 0]\n",
      "lista: [['Eco', 'Eco ( 14 / 04 / 16 ) RA : 38 AE : 45 VD : 20 S : 14 PP : 14 VE : 50 / 30 FE : 70 % .'], ['RA', 'Eco ( 14 / 04 / 16 ) RA : 38 AE : 45 VD : 20 S : 14 PP : 14 VE : 50 / 30 FE : 70 % .'], ['AE', 'Eco ( 14 / 04 / 16 ) RA : 38 AE : 45 VD : 20 S : 14 PP : 14 VE : 50 / 30 FE : 70 % .'], ['VD', 'Eco ( 14 / 04 / 16 ) RA : 38 AE : 45 VD : 20 S : 14 PP : 14 VE : 50 / 30 FE : 70 % .'], ['PP', 'Eco ( 14 / 04 / 16 ) RA : 38 AE : 45 VD : 20 S : 14 PP : 14 VE : 50 / 30 FE : 70 % .']]\n"
     ]
    },
    {
     "data": {
      "application/vnd.jupyter.widget-view+json": {
       "model_id": "b4ceb8ccc2f24f8199e37b1d13a40e6d",
       "version_major": 2,
       "version_minor": 0
      },
      "text/plain": [
       "  0%|          | 0/5 [00:00<?, ?it/s]"
      ]
     },
     "metadata": {},
     "output_type": "display_data"
    },
    {
     "data": {
      "application/vnd.jupyter.widget-view+json": {
       "model_id": "eed5c80bee154d46969891417f4cd44a",
       "version_major": 2,
       "version_minor": 0
      },
      "text/plain": [
       "  0%|          | 0/1 [00:00<?, ?it/s]"
      ]
     },
     "metadata": {},
     "output_type": "display_data"
    },
    {
     "name": "stdout",
     "output_type": "stream",
     "text": [
      "predictions: [2 3 3 3 3]\n",
      "lista: [['CUSPIDES CALCIFICADAS', 'AO : CUSPIDES CALCIFICADAS , COM DUPLA LESAO .']]\n"
     ]
    },
    {
     "data": {
      "application/vnd.jupyter.widget-view+json": {
       "model_id": "d6596cafabb140f5b34353b597709989",
       "version_major": 2,
       "version_minor": 0
      },
      "text/plain": [
       "  0%|          | 0/1 [00:00<?, ?it/s]"
      ]
     },
     "metadata": {},
     "output_type": "display_data"
    },
    {
     "data": {
      "application/vnd.jupyter.widget-view+json": {
       "model_id": "277d0bf675a2447b917fdb500a81aa24",
       "version_major": 2,
       "version_minor": 0
      },
      "text/plain": [
       "  0%|          | 0/1 [00:00<?, ?it/s]"
      ]
     },
     "metadata": {},
     "output_type": "display_data"
    },
    {
     "name": "stdout",
     "output_type": "stream",
     "text": [
      "predictions: [0]\n",
      "lista: [['INSUF TRICU DISCRETA', 'INSUF TRICU DISCRETA ( PSAP 39 ) .']]\n"
     ]
    },
    {
     "data": {
      "application/vnd.jupyter.widget-view+json": {
       "model_id": "e40728f6924b4cc3b95b7df22d27bdcf",
       "version_major": 2,
       "version_minor": 0
      },
      "text/plain": [
       "  0%|          | 0/1 [00:00<?, ?it/s]"
      ]
     },
     "metadata": {},
     "output_type": "display_data"
    },
    {
     "data": {
      "application/vnd.jupyter.widget-view+json": {
       "model_id": "339337bd9b3c4aac997ff29ab56b6f6b",
       "version_major": 2,
       "version_minor": 0
      },
      "text/plain": [
       "  0%|          | 0/1 [00:00<?, ?it/s]"
      ]
     },
     "metadata": {},
     "output_type": "display_data"
    },
    {
     "name": "stdout",
     "output_type": "stream",
     "text": [
      "predictions: [0]\n",
      "lista: [['REFLUXO MITRAL DISCRETO', 'REFLUXO MITRAL DISCRETO .'], ['MITRAL DISCRETO', 'REFLUXO MITRAL DISCRETO .']]\n"
     ]
    },
    {
     "data": {
      "application/vnd.jupyter.widget-view+json": {
       "model_id": "07359d1a1aa34cd5a87cc7d38fabd06b",
       "version_major": 2,
       "version_minor": 0
      },
      "text/plain": [
       "  0%|          | 0/2 [00:00<?, ?it/s]"
      ]
     },
     "metadata": {},
     "output_type": "display_data"
    },
    {
     "data": {
      "application/vnd.jupyter.widget-view+json": {
       "model_id": "e04a07e6a3f04cf79568d5ead8171cb8",
       "version_major": 2,
       "version_minor": 0
      },
      "text/plain": [
       "  0%|          | 0/1 [00:00<?, ?it/s]"
      ]
     },
     "metadata": {},
     "output_type": "display_data"
    },
    {
     "name": "stdout",
     "output_type": "stream",
     "text": [
      "predictions: [0 0]\n",
      "lista: [['ASC', 'AO ASC : 41MM .']]\n"
     ]
    },
    {
     "data": {
      "application/vnd.jupyter.widget-view+json": {
       "model_id": "d8ee3fcb49744710b2c50d311b331693",
       "version_major": 2,
       "version_minor": 0
      },
      "text/plain": [
       "  0%|          | 0/1 [00:00<?, ?it/s]"
      ]
     },
     "metadata": {},
     "output_type": "display_data"
    },
    {
     "data": {
      "application/vnd.jupyter.widget-view+json": {
       "model_id": "74742b0e977d41f197b4e5d2ef316740",
       "version_major": 2,
       "version_minor": 0
      },
      "text/plain": [
       "  0%|          | 0/1 [00:00<?, ?it/s]"
      ]
     },
     "metadata": {},
     "output_type": "display_data"
    },
    {
     "name": "stdout",
     "output_type": "stream",
     "text": [
      "predictions: [2]\n",
      "lista: [['dispneia', 'Nega dispneia , dor toracica , sincope .'], ['dor toracica', 'Nega dispneia , dor toracica , sincope .'], ['toracica', 'Nega dispneia , dor toracica , sincope .'], ['sincope', 'Nega dispneia , dor toracica , sincope .']]\n"
     ]
    },
    {
     "data": {
      "application/vnd.jupyter.widget-view+json": {
       "model_id": "4b64e6c512b8497185836ca06de7f932",
       "version_major": 2,
       "version_minor": 0
      },
      "text/plain": [
       "  0%|          | 0/4 [00:00<?, ?it/s]"
      ]
     },
     "metadata": {},
     "output_type": "display_data"
    },
    {
     "data": {
      "application/vnd.jupyter.widget-view+json": {
       "model_id": "7a683c1976d243fabbb48e6cddff22f6",
       "version_major": 2,
       "version_minor": 0
      },
      "text/plain": [
       "  0%|          | 0/1 [00:00<?, ?it/s]"
      ]
     },
     "metadata": {},
     "output_type": "display_data"
    },
    {
     "name": "stdout",
     "output_type": "stream",
     "text": [
      "predictions: [0 0 3 0]\n",
      "lista: [['edema de MMII', 'Nega edema de MMII .'], ['de MMII', 'Nega edema de MMII .']]\n"
     ]
    },
    {
     "data": {
      "application/vnd.jupyter.widget-view+json": {
       "model_id": "67d62ac3f2f04bffa005f4cd99231fd4",
       "version_major": 2,
       "version_minor": 0
      },
      "text/plain": [
       "  0%|          | 0/2 [00:00<?, ?it/s]"
      ]
     },
     "metadata": {},
     "output_type": "display_data"
    },
    {
     "data": {
      "application/vnd.jupyter.widget-view+json": {
       "model_id": "f69e1f0ec624464da4b2f88ed5873204",
       "version_major": 2,
       "version_minor": 0
      },
      "text/plain": [
       "  0%|          | 0/1 [00:00<?, ?it/s]"
      ]
     },
     "metadata": {},
     "output_type": "display_data"
    },
    {
     "name": "stdout",
     "output_type": "stream",
     "text": [
      "predictions: [0 3]\n",
      "lista: [['elevação de PA', 'Refere controle pressorico bom em casa , porem nas consultas sempre apresenta elevação de PA .']]\n"
     ]
    },
    {
     "data": {
      "application/vnd.jupyter.widget-view+json": {
       "model_id": "84d173b17b4045148cb443687d0cbdc3",
       "version_major": 2,
       "version_minor": 0
      },
      "text/plain": [
       "  0%|          | 0/1 [00:00<?, ?it/s]"
      ]
     },
     "metadata": {},
     "output_type": "display_data"
    },
    {
     "data": {
      "application/vnd.jupyter.widget-view+json": {
       "model_id": "ed266f15becb4921a966d7d2d6e68def",
       "version_major": 2,
       "version_minor": 0
      },
      "text/plain": [
       "  0%|          | 0/1 [00:00<?, ?it/s]"
      ]
     },
     "metadata": {},
     "output_type": "display_data"
    },
    {
     "name": "stdout",
     "output_type": "stream",
     "text": [
      "predictions: [0]\n",
      "lista: [['Sd Jaleco Branco', 'Sd Jaleco Branco ? ) .'], ['Jaleco Branco', 'Sd Jaleco Branco ? ) .']]\n"
     ]
    },
    {
     "data": {
      "application/vnd.jupyter.widget-view+json": {
       "model_id": "0e64d21cab61497ab6b5403b0ba4bb77",
       "version_major": 2,
       "version_minor": 0
      },
      "text/plain": [
       "  0%|          | 0/2 [00:00<?, ?it/s]"
      ]
     },
     "metadata": {},
     "output_type": "display_data"
    },
    {
     "data": {
      "application/vnd.jupyter.widget-view+json": {
       "model_id": "102024c9ef5e4c80828c87fde979a5f6",
       "version_major": 2,
       "version_minor": 0
      },
      "text/plain": [
       "  0%|          | 0/1 [00:00<?, ?it/s]"
      ]
     },
     "metadata": {},
     "output_type": "display_data"
    },
    {
     "name": "stdout",
     "output_type": "stream",
     "text": [
      "predictions: [0 0]\n",
      "lista: [['PA', 'PA : 170 / 100 mmHg , P = 99 spm .'], ['P', 'PA : 170 / 100 mmHg , P = 99 spm .']]\n"
     ]
    },
    {
     "data": {
      "application/vnd.jupyter.widget-view+json": {
       "model_id": "0e025850798c4959b2c69a0477bd7109",
       "version_major": 2,
       "version_minor": 0
      },
      "text/plain": [
       "  0%|          | 0/2 [00:00<?, ?it/s]"
      ]
     },
     "metadata": {},
     "output_type": "display_data"
    },
    {
     "data": {
      "application/vnd.jupyter.widget-view+json": {
       "model_id": "98edb28b505b42b49aff95518ad7ffe4",
       "version_major": 2,
       "version_minor": 0
      },
      "text/plain": [
       "  0%|          | 0/1 [00:00<?, ?it/s]"
      ]
     },
     "metadata": {},
     "output_type": "display_data"
    },
    {
     "name": "stdout",
     "output_type": "stream",
     "text": [
      "predictions: [2 2]\n",
      "lista: [['ruidos', 'MV normodist sem ruidos .']]\n"
     ]
    },
    {
     "data": {
      "application/vnd.jupyter.widget-view+json": {
       "model_id": "1e6645dfcde94f9baa5a04852ed6ac3a",
       "version_major": 2,
       "version_minor": 0
      },
      "text/plain": [
       "  0%|          | 0/1 [00:00<?, ?it/s]"
      ]
     },
     "metadata": {},
     "output_type": "display_data"
    },
    {
     "data": {
      "application/vnd.jupyter.widget-view+json": {
       "model_id": "6411dda647344b6aa1f2a23bf5ea07eb",
       "version_major": 2,
       "version_minor": 0
      },
      "text/plain": [
       "  0%|          | 0/1 [00:00<?, ?it/s]"
      ]
     },
     "metadata": {},
     "output_type": "display_data"
    },
    {
     "name": "stdout",
     "output_type": "stream",
     "text": [
      "predictions: [0]\n",
      "lista: [['taquicardico', 'RCR , 2T , taquicardico , ss + + / 6 + , crsec / decres , FAO , irradiação para todo o precórdio .']]\n"
     ]
    },
    {
     "data": {
      "application/vnd.jupyter.widget-view+json": {
       "model_id": "2d65b7259ccc476ea5c71ad4dc5bc6c0",
       "version_major": 2,
       "version_minor": 0
      },
      "text/plain": [
       "  0%|          | 0/1 [00:00<?, ?it/s]"
      ]
     },
     "metadata": {},
     "output_type": "display_data"
    },
    {
     "data": {
      "application/vnd.jupyter.widget-view+json": {
       "model_id": "9adf6f58e73f484e8e70452a4a3a2ed6",
       "version_major": 2,
       "version_minor": 0
      },
      "text/plain": [
       "  0%|          | 0/1 [00:00<?, ?it/s]"
      ]
     },
     "metadata": {},
     "output_type": "display_data"
    },
    {
     "name": "stdout",
     "output_type": "stream",
     "text": [
      "predictions: [0]\n",
      "lista: [['DUPLA LESAO AO ESTENOSE MOD + INSUF DISCRETA', 'A # DUPLA LESAO AO ESTENOSE MOD + INSUF DISCRETA .'], ['ESTENOSE MOD + INSUF', 'A # DUPLA LESAO AO ESTENOSE MOD + INSUF DISCRETA .'], ['MOD + INSUF DISCRETA', 'A # DUPLA LESAO AO ESTENOSE MOD + INSUF DISCRETA .'], ['DUPLA LESAO AO ESTENOSE MOD', 'A # DUPLA LESAO AO ESTENOSE MOD + INSUF DISCRETA .'], ['LESAO AO ESTENOSE MOD +', 'A # DUPLA LESAO AO ESTENOSE MOD + INSUF DISCRETA .'], ['AO ESTENOSE MOD + INSUF', 'A # DUPLA LESAO AO ESTENOSE MOD + INSUF DISCRETA .'], ['ESTENOSE MOD + INSUF DISCRETA', 'A # DUPLA LESAO AO ESTENOSE MOD + INSUF DISCRETA .'], ['DUPLA LESAO AO ESTENOSE MOD +', 'A # DUPLA LESAO AO ESTENOSE MOD + INSUF DISCRETA .'], ['LESAO AO ESTENOSE MOD + INSUF', 'A # DUPLA LESAO AO ESTENOSE MOD + INSUF DISCRETA .'], ['AO ESTENOSE MOD + INSUF DISCRETA', 'A # DUPLA LESAO AO ESTENOSE MOD + INSUF DISCRETA .'], ['DUPLA LESAO AO ESTENOSE MOD + INSUF', 'A # DUPLA LESAO AO ESTENOSE MOD + INSUF DISCRETA .'], ['LESAO AO ESTENOSE MOD + INSUF DISCRETA', 'A # DUPLA LESAO AO ESTENOSE MOD + INSUF DISCRETA .']]\n"
     ]
    },
    {
     "data": {
      "application/vnd.jupyter.widget-view+json": {
       "model_id": "af7df151eb93452e81ca7c402cb675eb",
       "version_major": 2,
       "version_minor": 0
      },
      "text/plain": [
       "  0%|          | 0/12 [00:00<?, ?it/s]"
      ]
     },
     "metadata": {},
     "output_type": "display_data"
    },
    {
     "data": {
      "application/vnd.jupyter.widget-view+json": {
       "model_id": "2dc22ec6ac884b3bbb25827e5c19a741",
       "version_major": 2,
       "version_minor": 0
      },
      "text/plain": [
       "  0%|          | 0/2 [00:00<?, ?it/s]"
      ]
     },
     "metadata": {},
     "output_type": "display_data"
    },
    {
     "name": "stdout",
     "output_type": "stream",
     "text": [
      "predictions: [0 0 0 0 0 0 0 0 0 0 0 0]\n",
      "lista: [['Enalapril 20mg', 'P # aumento Enalapril 20mg 2x d e inicio HCTZ 25mg / dia .']]\n"
     ]
    },
    {
     "data": {
      "application/vnd.jupyter.widget-view+json": {
       "model_id": "8ac97777ada0400fa6c23d436e13aedf",
       "version_major": 2,
       "version_minor": 0
      },
      "text/plain": [
       "  0%|          | 0/1 [00:00<?, ?it/s]"
      ]
     },
     "metadata": {},
     "output_type": "display_data"
    },
    {
     "data": {
      "application/vnd.jupyter.widget-view+json": {
       "model_id": "084138796da54747bacabfe0b607ae4c",
       "version_major": 2,
       "version_minor": 0
      },
      "text/plain": [
       "  0%|          | 0/1 [00:00<?, ?it/s]"
      ]
     },
     "metadata": {},
     "output_type": "display_data"
    },
    {
     "name": "stdout",
     "output_type": "stream",
     "text": [
      "predictions: [1]\n",
      "lista: [['eco', 'retorno em 1 ano com novo eco .']]\n"
     ]
    },
    {
     "data": {
      "application/vnd.jupyter.widget-view+json": {
       "model_id": "ac39814fa4fe458084b92f952f8976c2",
       "version_major": 2,
       "version_minor": 0
      },
      "text/plain": [
       "  0%|          | 0/1 [00:00<?, ?it/s]"
      ]
     },
     "metadata": {},
     "output_type": "display_data"
    },
    {
     "data": {
      "application/vnd.jupyter.widget-view+json": {
       "model_id": "689cb81bc83149f99791a37b685ba06b",
       "version_major": 2,
       "version_minor": 0
      },
      "text/plain": [
       "  0%|          | 0/1 [00:00<?, ?it/s]"
      ]
     },
     "metadata": {},
     "output_type": "display_data"
    },
    {
     "name": "stdout",
     "output_type": "stream",
     "text": [
      "predictions: [2]\n",
      "lista: [['MCP dilatada - IDIOPÁTICA', '# MCP dilatada - IDIOPÁTICA .']]\n"
     ]
    },
    {
     "data": {
      "application/vnd.jupyter.widget-view+json": {
       "model_id": "adfaee62429a440d92fa146557078dc9",
       "version_major": 2,
       "version_minor": 0
      },
      "text/plain": [
       "  0%|          | 0/1 [00:00<?, ?it/s]"
      ]
     },
     "metadata": {},
     "output_type": "display_data"
    },
    {
     "data": {
      "application/vnd.jupyter.widget-view+json": {
       "model_id": "909ba7c17c794091870bb5d8a014eee8",
       "version_major": 2,
       "version_minor": 0
      },
      "text/plain": [
       "  0%|          | 0/1 [00:00<?, ?it/s]"
      ]
     },
     "metadata": {},
     "output_type": "display_data"
    },
    {
     "name": "stdout",
     "output_type": "stream",
     "text": [
      "predictions: [0]\n",
      "lista: [['CF II - III OSCILANTE', 'CF II - III OSCILANTE .']]\n"
     ]
    },
    {
     "data": {
      "application/vnd.jupyter.widget-view+json": {
       "model_id": "5b3c24e00fcb428d93ad9c4b1390cd05",
       "version_major": 2,
       "version_minor": 0
      },
      "text/plain": [
       "  0%|          | 0/1 [00:00<?, ?it/s]"
      ]
     },
     "metadata": {},
     "output_type": "display_data"
    },
    {
     "data": {
      "application/vnd.jupyter.widget-view+json": {
       "model_id": "4bbd183f72b74d93857da24d7ea6f79c",
       "version_major": 2,
       "version_minor": 0
      },
      "text/plain": [
       "  0%|          | 0/1 [00:00<?, ?it/s]"
      ]
     },
     "metadata": {},
     "output_type": "display_data"
    },
    {
     "name": "stdout",
     "output_type": "stream",
     "text": [
      "predictions: [0]\n",
      "lista: [['TX CARDIACO', '** PROTOCOLO DE TX CARDIACO - INDICE CARDIACO .'], ['CARDIACO', '** PROTOCOLO DE TX CARDIACO - INDICE CARDIACO .'], ['INDICE CARDIACO', '** PROTOCOLO DE TX CARDIACO - INDICE CARDIACO .'], ['CARDIACO', '** PROTOCOLO DE TX CARDIACO - INDICE CARDIACO .']]\n"
     ]
    },
    {
     "data": {
      "application/vnd.jupyter.widget-view+json": {
       "model_id": "ab127081af324ae89db82d758cd12014",
       "version_major": 2,
       "version_minor": 0
      },
      "text/plain": [
       "  0%|          | 0/4 [00:00<?, ?it/s]"
      ]
     },
     "metadata": {},
     "output_type": "display_data"
    },
    {
     "data": {
      "application/vnd.jupyter.widget-view+json": {
       "model_id": "0ae91b3c1bdc40faa05b4e3608c666af",
       "version_major": 2,
       "version_minor": 0
      },
      "text/plain": [
       "  0%|          | 0/1 [00:00<?, ?it/s]"
      ]
     },
     "metadata": {},
     "output_type": "display_data"
    },
    {
     "name": "stdout",
     "output_type": "stream",
     "text": [
      "predictions: [1 3 2 3]\n",
      "lista: [['Omeprazol 20mg', '*** Em uso de : Omeprazol 20mg / d , AAS 100mg / d , Losartan 50mg 12 / 12hs , Espironolactona 25mg / d , Hidralazina 50mg 12 / 12hs , Carvedilol 12 , 5mg 12 / 12hs .'], ['AAS 100mg', '*** Em uso de : Omeprazol 20mg / d , AAS 100mg / d , Losartan 50mg 12 / 12hs , Espironolactona 25mg / d , Hidralazina 50mg 12 / 12hs , Carvedilol 12 , 5mg 12 / 12hs .'], ['Losartan 50mg', '*** Em uso de : Omeprazol 20mg / d , AAS 100mg / d , Losartan 50mg 12 / 12hs , Espironolactona 25mg / d , Hidralazina 50mg 12 / 12hs , Carvedilol 12 , 5mg 12 / 12hs .'], ['Espironolactona 25mg', '*** Em uso de : Omeprazol 20mg / d , AAS 100mg / d , Losartan 50mg 12 / 12hs , Espironolactona 25mg / d , Hidralazina 50mg 12 / 12hs , Carvedilol 12 , 5mg 12 / 12hs .'], ['Hidralazina 50mg', '*** Em uso de : Omeprazol 20mg / d , AAS 100mg / d , Losartan 50mg 12 / 12hs , Espironolactona 25mg / d , Hidralazina 50mg 12 / 12hs , Carvedilol 12 , 5mg 12 / 12hs .']]\n"
     ]
    },
    {
     "data": {
      "application/vnd.jupyter.widget-view+json": {
       "model_id": "617c57e3acf44705b9170ca181ff4a47",
       "version_major": 2,
       "version_minor": 0
      },
      "text/plain": [
       "  0%|          | 0/5 [00:00<?, ?it/s]"
      ]
     },
     "metadata": {},
     "output_type": "display_data"
    },
    {
     "data": {
      "application/vnd.jupyter.widget-view+json": {
       "model_id": "292c30c935614a408893e64724b2b5ce",
       "version_major": 2,
       "version_minor": 0
      },
      "text/plain": [
       "  0%|          | 0/1 [00:00<?, ?it/s]"
      ]
     },
     "metadata": {},
     "output_type": "display_data"
    },
    {
     "name": "stdout",
     "output_type": "stream",
     "text": [
      "predictions: [1 1 1 1 1]\n",
      "lista: [['CANSAÇO AOS ESFORÇOS', 'S # QUEIXA DE CANSAÇO AOS ESFORÇOS .']]\n"
     ]
    },
    {
     "data": {
      "application/vnd.jupyter.widget-view+json": {
       "model_id": "95bf0bbd40bb42bb9c1ed0fa726a379c",
       "version_major": 2,
       "version_minor": 0
      },
      "text/plain": [
       "  0%|          | 0/1 [00:00<?, ?it/s]"
      ]
     },
     "metadata": {},
     "output_type": "display_data"
    },
    {
     "data": {
      "application/vnd.jupyter.widget-view+json": {
       "model_id": "7f7ef0c4b9bc4210b53d114b8557cd76",
       "version_major": 2,
       "version_minor": 0
      },
      "text/plain": [
       "  0%|          | 0/1 [00:00<?, ?it/s]"
      ]
     },
     "metadata": {},
     "output_type": "display_data"
    },
    {
     "name": "stdout",
     "output_type": "stream",
     "text": [
      "predictions: [0]\n",
      "lista: [['TG', 'TG 111 , HDL 37 , K 4 , 7 , CT 162 , LDL 103 , TSH 1 , 59 , HB 13 , HB GLICASADA 5 , 87 , NA 145 , TGP 28 , TGO 26 , CREAT 0 , 98 .'], ['HDL', 'TG 111 , HDL 37 , K 4 , 7 , CT 162 , LDL 103 , TSH 1 , 59 , HB 13 , HB GLICASADA 5 , 87 , NA 145 , TGP 28 , TGO 26 , CREAT 0 , 98 .'], ['K', 'TG 111 , HDL 37 , K 4 , 7 , CT 162 , LDL 103 , TSH 1 , 59 , HB 13 , HB GLICASADA 5 , 87 , NA 145 , TGP 28 , TGO 26 , CREAT 0 , 98 .'], ['CT', 'TG 111 , HDL 37 , K 4 , 7 , CT 162 , LDL 103 , TSH 1 , 59 , HB 13 , HB GLICASADA 5 , 87 , NA 145 , TGP 28 , TGO 26 , CREAT 0 , 98 .'], ['LDL', 'TG 111 , HDL 37 , K 4 , 7 , CT 162 , LDL 103 , TSH 1 , 59 , HB 13 , HB GLICASADA 5 , 87 , NA 145 , TGP 28 , TGO 26 , CREAT 0 , 98 .'], ['TSH', 'TG 111 , HDL 37 , K 4 , 7 , CT 162 , LDL 103 , TSH 1 , 59 , HB 13 , HB GLICASADA 5 , 87 , NA 145 , TGP 28 , TGO 26 , CREAT 0 , 98 .'], ['HB', 'TG 111 , HDL 37 , K 4 , 7 , CT 162 , LDL 103 , TSH 1 , 59 , HB 13 , HB GLICASADA 5 , 87 , NA 145 , TGP 28 , TGO 26 , CREAT 0 , 98 .'], ['HB GLICASADA', 'TG 111 , HDL 37 , K 4 , 7 , CT 162 , LDL 103 , TSH 1 , 59 , HB 13 , HB GLICASADA 5 , 87 , NA 145 , TGP 28 , TGO 26 , CREAT 0 , 98 .'], ['TGP', 'TG 111 , HDL 37 , K 4 , 7 , CT 162 , LDL 103 , TSH 1 , 59 , HB 13 , HB GLICASADA 5 , 87 , NA 145 , TGP 28 , TGO 26 , CREAT 0 , 98 .'], ['TGO', 'TG 111 , HDL 37 , K 4 , 7 , CT 162 , LDL 103 , TSH 1 , 59 , HB 13 , HB GLICASADA 5 , 87 , NA 145 , TGP 28 , TGO 26 , CREAT 0 , 98 .'], ['CREAT', 'TG 111 , HDL 37 , K 4 , 7 , CT 162 , LDL 103 , TSH 1 , 59 , HB 13 , HB GLICASADA 5 , 87 , NA 145 , TGP 28 , TGO 26 , CREAT 0 , 98 .']]\n"
     ]
    },
    {
     "data": {
      "application/vnd.jupyter.widget-view+json": {
       "model_id": "a2f5f5147d4c4d79ac85bf96dadff7b4",
       "version_major": 2,
       "version_minor": 0
      },
      "text/plain": [
       "  0%|          | 0/11 [00:00<?, ?it/s]"
      ]
     },
     "metadata": {},
     "output_type": "display_data"
    },
    {
     "data": {
      "application/vnd.jupyter.widget-view+json": {
       "model_id": "44a6df64423343f395eab8f3e4b57d53",
       "version_major": 2,
       "version_minor": 0
      },
      "text/plain": [
       "  0%|          | 0/2 [00:00<?, ?it/s]"
      ]
     },
     "metadata": {},
     "output_type": "display_data"
    },
    {
     "name": "stdout",
     "output_type": "stream",
     "text": [
      "predictions: [2 2 2 2 2 2 2 2 2 2 2]\n",
      "lista: [['PA', 'AO EAXME PA 110 / 70 FC 64 .'], ['FC', 'AO EAXME PA 110 / 70 FC 64 .']]\n"
     ]
    },
    {
     "data": {
      "application/vnd.jupyter.widget-view+json": {
       "model_id": "de247b1bb3ce4f14a844e1d4032dc532",
       "version_major": 2,
       "version_minor": 0
      },
      "text/plain": [
       "  0%|          | 0/2 [00:00<?, ?it/s]"
      ]
     },
     "metadata": {},
     "output_type": "display_data"
    },
    {
     "data": {
      "application/vnd.jupyter.widget-view+json": {
       "model_id": "c606088d88e9495d8797245311f5bdd8",
       "version_major": 2,
       "version_minor": 0
      },
      "text/plain": [
       "  0%|          | 0/1 [00:00<?, ?it/s]"
      ]
     },
     "metadata": {},
     "output_type": "display_data"
    },
    {
     "name": "stdout",
     "output_type": "stream",
     "text": [
      "predictions: [2 2]\n",
      "lista: [['TURGÊNCIA JUGULAR', 'SEM TURGÊNCIA JUGULAR .'], ['JUGULAR', 'SEM TURGÊNCIA JUGULAR .']]\n"
     ]
    },
    {
     "data": {
      "application/vnd.jupyter.widget-view+json": {
       "model_id": "71b04fe76d234232ba5d2b109dbe9ad1",
       "version_major": 2,
       "version_minor": 0
      },
      "text/plain": [
       "  0%|          | 0/2 [00:00<?, ?it/s]"
      ]
     },
     "metadata": {},
     "output_type": "display_data"
    },
    {
     "data": {
      "application/vnd.jupyter.widget-view+json": {
       "model_id": "efbb377db9c34f57868d49cfbfcbb4d1",
       "version_major": 2,
       "version_minor": 0
      },
      "text/plain": [
       "  0%|          | 0/1 [00:00<?, ?it/s]"
      ]
     },
     "metadata": {},
     "output_type": "display_data"
    },
    {
     "name": "stdout",
     "output_type": "stream",
     "text": [
      "predictions: [0 3]\n",
      "lista: [['CPP', 'CPP - MV + BILATERAL , .']]\n"
     ]
    },
    {
     "data": {
      "application/vnd.jupyter.widget-view+json": {
       "model_id": "c127b91245054ee696258dfed546bf7e",
       "version_major": 2,
       "version_minor": 0
      },
      "text/plain": [
       "  0%|          | 0/1 [00:00<?, ?it/s]"
      ]
     },
     "metadata": {},
     "output_type": "display_data"
    },
    {
     "data": {
      "application/vnd.jupyter.widget-view+json": {
       "model_id": "95361eae115943cd8e5cbf61f0b4251a",
       "version_major": 2,
       "version_minor": 0
      },
      "text/plain": [
       "  0%|          | 0/1 [00:00<?, ?it/s]"
      ]
     },
     "metadata": {},
     "output_type": "display_data"
    },
    {
     "name": "stdout",
     "output_type": "stream",
     "text": [
      "predictions: [3]\n",
      "lista: [['SOPROS', 'PC - BCR SEM SOPROS , .']]\n"
     ]
    },
    {
     "data": {
      "application/vnd.jupyter.widget-view+json": {
       "model_id": "b2c0a224a43040cea05c193cc2f9180f",
       "version_major": 2,
       "version_minor": 0
      },
      "text/plain": [
       "  0%|          | 0/1 [00:00<?, ?it/s]"
      ]
     },
     "metadata": {},
     "output_type": "display_data"
    },
    {
     "data": {
      "application/vnd.jupyter.widget-view+json": {
       "model_id": "99ad424cd0204d8196e26d9d77082021",
       "version_major": 2,
       "version_minor": 0
      },
      "text/plain": [
       "  0%|          | 0/1 [00:00<?, ?it/s]"
      ]
     },
     "metadata": {},
     "output_type": "display_data"
    },
    {
     "name": "stdout",
     "output_type": "stream",
     "text": [
      "predictions: [0]\n",
      "lista: [['MMII', 'MMII - SEM EDEM .'], ['EDEM', 'MMII - SEM EDEM .']]\n"
     ]
    },
    {
     "data": {
      "application/vnd.jupyter.widget-view+json": {
       "model_id": "aad239551b074c93a6233023a71fe117",
       "version_major": 2,
       "version_minor": 0
      },
      "text/plain": [
       "  0%|          | 0/2 [00:00<?, ?it/s]"
      ]
     },
     "metadata": {},
     "output_type": "display_data"
    },
    {
     "data": {
      "application/vnd.jupyter.widget-view+json": {
       "model_id": "742c1433d445410baa8fb4ee147c6912",
       "version_major": 2,
       "version_minor": 0
      },
      "text/plain": [
       "  0%|          | 0/1 [00:00<?, ?it/s]"
      ]
     },
     "metadata": {},
     "output_type": "display_data"
    },
    {
     "name": "stdout",
     "output_type": "stream",
     "text": [
      "predictions: [3 0]\n",
      "lista: [['MCP dilatada CF II / III', 'A # MCP dilatada CF II / III .']]\n"
     ]
    },
    {
     "data": {
      "application/vnd.jupyter.widget-view+json": {
       "model_id": "8165d2659b93473e9abf7e2f4f9665d5",
       "version_major": 2,
       "version_minor": 0
      },
      "text/plain": [
       "  0%|          | 0/1 [00:00<?, ?it/s]"
      ]
     },
     "metadata": {},
     "output_type": "display_data"
    },
    {
     "data": {
      "application/vnd.jupyter.widget-view+json": {
       "model_id": "02e2f86ed0ff4bc887447b0e892be162",
       "version_major": 2,
       "version_minor": 0
      },
      "text/plain": [
       "  0%|          | 0/1 [00:00<?, ?it/s]"
      ]
     },
     "metadata": {},
     "output_type": "display_data"
    },
    {
     "name": "stdout",
     "output_type": "stream",
     "text": [
      "predictions: [0]\n",
      "lista: [['MEDICAÇÕES', 'P # MEDICAÇÕES MANTIDAS .']]\n"
     ]
    },
    {
     "data": {
      "application/vnd.jupyter.widget-view+json": {
       "model_id": "6cfdbf6dcbf340b7aabe6d23e648b27b",
       "version_major": 2,
       "version_minor": 0
      },
      "text/plain": [
       "  0%|          | 0/1 [00:00<?, ?it/s]"
      ]
     },
     "metadata": {},
     "output_type": "display_data"
    },
    {
     "data": {
      "application/vnd.jupyter.widget-view+json": {
       "model_id": "3ad5d34d9a1243e996dcb93a7b1a807a",
       "version_major": 2,
       "version_minor": 0
      },
      "text/plain": [
       "  0%|          | 0/1 [00:00<?, ?it/s]"
      ]
     },
     "metadata": {},
     "output_type": "display_data"
    },
    {
     "name": "stdout",
     "output_type": "stream",
     "text": [
      "predictions: [1]\n",
      "lista: [['TX CARDÍACO', '# PO DE TX CARDÍACO ( 23 / 10 / 15 ) - ( IC DILATADA IDIOPÁTICA ) .']]\n"
     ]
    },
    {
     "data": {
      "application/vnd.jupyter.widget-view+json": {
       "model_id": "a15c123b99224d0089e1d5ae80afd33c",
       "version_major": 2,
       "version_minor": 0
      },
      "text/plain": [
       "  0%|          | 0/1 [00:00<?, ?it/s]"
      ]
     },
     "metadata": {},
     "output_type": "display_data"
    },
    {
     "data": {
      "application/vnd.jupyter.widget-view+json": {
       "model_id": "2a4be5cad2a14223a54632b9bcbefd40",
       "version_major": 2,
       "version_minor": 0
      },
      "text/plain": [
       "  0%|          | 0/1 [00:00<?, ?it/s]"
      ]
     },
     "metadata": {},
     "output_type": "display_data"
    },
    {
     "name": "stdout",
     "output_type": "stream",
     "text": [
      "predictions: [1]\n",
      "lista: [['CICLOSPORINA 150MG', '# EM USO DE : CICLOSPORINA 150MG 12 / 12H , MICOFENOLATO 720MG 8 / 8H , PREDNISONA 20MG / DIA .'], ['PREDNISONA 20MG', '# EM USO DE : CICLOSPORINA 150MG 12 / 12H , MICOFENOLATO 720MG 8 / 8H , PREDNISONA 20MG / DIA .']]\n"
     ]
    },
    {
     "data": {
      "application/vnd.jupyter.widget-view+json": {
       "model_id": "cf5b334e41c24e02ac6e578f2aedb03a",
       "version_major": 2,
       "version_minor": 0
      },
      "text/plain": [
       "  0%|          | 0/2 [00:00<?, ?it/s]"
      ]
     },
     "metadata": {},
     "output_type": "display_data"
    },
    {
     "data": {
      "application/vnd.jupyter.widget-view+json": {
       "model_id": "bb20ec1f341845cf996fca7686f4c5ad",
       "version_major": 2,
       "version_minor": 0
      },
      "text/plain": [
       "  0%|          | 0/1 [00:00<?, ?it/s]"
      ]
     },
     "metadata": {},
     "output_type": "display_data"
    },
    {
     "name": "stdout",
     "output_type": "stream",
     "text": [
      "predictions: [1 1]\n",
      "lista: [['AAS 100MG', 'AAS 100MG / DIA , OMZ 20MG / DIA .'], ['OMZ 20MG', 'AAS 100MG / DIA , OMZ 20MG / DIA .']]\n"
     ]
    },
    {
     "data": {
      "application/vnd.jupyter.widget-view+json": {
       "model_id": "49cb4fc53ca7468eb137485103355466",
       "version_major": 2,
       "version_minor": 0
      },
      "text/plain": [
       "  0%|          | 0/2 [00:00<?, ?it/s]"
      ]
     },
     "metadata": {},
     "output_type": "display_data"
    },
    {
     "data": {
      "application/vnd.jupyter.widget-view+json": {
       "model_id": "46be396e568747788b18402ff294bbc0",
       "version_major": 2,
       "version_minor": 0
      },
      "text/plain": [
       "  0%|          | 0/1 [00:00<?, ?it/s]"
      ]
     },
     "metadata": {},
     "output_type": "display_data"
    },
    {
     "name": "stdout",
     "output_type": "stream",
     "text": [
      "predictions: [1 1]\n",
      "lista: [['EXAMES', '- EXAMES - AVALIAÇÃO PRÉ - TRANSPLANTE : .']]\n"
     ]
    },
    {
     "data": {
      "application/vnd.jupyter.widget-view+json": {
       "model_id": "ddaf6918fe0a46a28edf4cd9864b18c6",
       "version_major": 2,
       "version_minor": 0
      },
      "text/plain": [
       "  0%|          | 0/1 [00:00<?, ?it/s]"
      ]
     },
     "metadata": {},
     "output_type": "display_data"
    },
    {
     "data": {
      "application/vnd.jupyter.widget-view+json": {
       "model_id": "c28d7a87603b4b1c96d6e89f07e4ae74",
       "version_major": 2,
       "version_minor": 0
      },
      "text/plain": [
       "  0%|          | 0/1 [00:00<?, ?it/s]"
      ]
     },
     "metadata": {},
     "output_type": "display_data"
    },
    {
     "name": "stdout",
     "output_type": "stream",
     "text": [
      "predictions: [2]\n",
      "lista: [['DOPPLER CAROTIDAS + VERTEBRAIS', '# DOPPLER CAROTIDAS + VERTEBRAIS : CERVICAL D : CAROTIDA : ESTENOSE 20 - 30 % NA BIFURCAÇÃO CAROTÍDEA ; .'], ['CAROTIDAS + VERTEBRAIS', '# DOPPLER CAROTIDAS + VERTEBRAIS : CERVICAL D : CAROTIDA : ESTENOSE 20 - 30 % NA BIFURCAÇÃO CAROTÍDEA ; .'], ['CERVICAL D', '# DOPPLER CAROTIDAS + VERTEBRAIS : CERVICAL D : CAROTIDA : ESTENOSE 20 - 30 % NA BIFURCAÇÃO CAROTÍDEA ; .'], ['CERVICAL', '# DOPPLER CAROTIDAS + VERTEBRAIS : CERVICAL D : CAROTIDA : ESTENOSE 20 - 30 % NA BIFURCAÇÃO CAROTÍDEA ; .'], ['D', '# DOPPLER CAROTIDAS + VERTEBRAIS : CERVICAL D : CAROTIDA : ESTENOSE 20 - 30 % NA BIFURCAÇÃO CAROTÍDEA ; .'], ['CAROTIDA', '# DOPPLER CAROTIDAS + VERTEBRAIS : CERVICAL D : CAROTIDA : ESTENOSE 20 - 30 % NA BIFURCAÇÃO CAROTÍDEA ; .'], ['ESTENOSE 20 - 30 % NA BIFURCAÇÃO CAROTÍDEA', '# DOPPLER CAROTIDAS + VERTEBRAIS : CERVICAL D : CAROTIDA : ESTENOSE 20 - 30 % NA BIFURCAÇÃO CAROTÍDEA ; .'], ['BIFURCAÇÃO CAROTÍDEA', '# DOPPLER CAROTIDAS + VERTEBRAIS : CERVICAL D : CAROTIDA : ESTENOSE 20 - 30 % NA BIFURCAÇÃO CAROTÍDEA ; .']]\n"
     ]
    },
    {
     "data": {
      "application/vnd.jupyter.widget-view+json": {
       "model_id": "11375540eb3b430fa215caaa0a4f1e33",
       "version_major": 2,
       "version_minor": 0
      },
      "text/plain": [
       "  0%|          | 0/8 [00:00<?, ?it/s]"
      ]
     },
     "metadata": {},
     "output_type": "display_data"
    },
    {
     "data": {
      "application/vnd.jupyter.widget-view+json": {
       "model_id": "4813f2fb1a7745518dcc847c33543af1",
       "version_major": 2,
       "version_minor": 0
      },
      "text/plain": [
       "  0%|          | 0/1 [00:00<?, ?it/s]"
      ]
     },
     "metadata": {},
     "output_type": "display_data"
    },
    {
     "name": "stdout",
     "output_type": "stream",
     "text": [
      "predictions: [2 3 3 3 3 0 0 3]\n",
      "lista: [['CATE', '# CATE 16 / 06 / 15 : PRÉ : RVP 2 , 19 / / RVS 24 , PÓS : RVP 2 , 08 / / RVS 12 , 59 .']]\n"
     ]
    },
    {
     "data": {
      "application/vnd.jupyter.widget-view+json": {
       "model_id": "9bb54ece966f46a0ad5a35825f4bc852",
       "version_major": 2,
       "version_minor": 0
      },
      "text/plain": [
       "  0%|          | 0/1 [00:00<?, ?it/s]"
      ]
     },
     "metadata": {},
     "output_type": "display_data"
    },
    {
     "data": {
      "application/vnd.jupyter.widget-view+json": {
       "model_id": "9e4c0d193d2d409bbc70e86a90749ca9",
       "version_major": 2,
       "version_minor": 0
      },
      "text/plain": [
       "  0%|          | 0/1 [00:00<?, ?it/s]"
      ]
     },
     "metadata": {},
     "output_type": "display_data"
    },
    {
     "name": "stdout",
     "output_type": "stream",
     "text": [
      "predictions: [2]\n",
      "lista: [['ECOTT', '# ECOTT 28 / 8 / 15 AE 46 / VD 26 / S / PP 10 / 10 VE 81 / 66 FE 37 % .'], ['AE', '# ECOTT 28 / 8 / 15 AE 46 / VD 26 / S / PP 10 / 10 VE 81 / 66 FE 37 % .'], ['VD', '# ECOTT 28 / 8 / 15 AE 46 / VD 26 / S / PP 10 / 10 VE 81 / 66 FE 37 % .'], ['PP', '# ECOTT 28 / 8 / 15 AE 46 / VD 26 / S / PP 10 / 10 VE 81 / 66 FE 37 % .'], ['VE', '# ECOTT 28 / 8 / 15 AE 46 / VD 26 / S / PP 10 / 10 VE 81 / 66 FE 37 % .']]\n"
     ]
    },
    {
     "data": {
      "application/vnd.jupyter.widget-view+json": {
       "model_id": "6bd393c1e6f145d59152fdb4cc55bf12",
       "version_major": 2,
       "version_minor": 0
      },
      "text/plain": [
       "  0%|          | 0/5 [00:00<?, ?it/s]"
      ]
     },
     "metadata": {},
     "output_type": "display_data"
    },
    {
     "data": {
      "application/vnd.jupyter.widget-view+json": {
       "model_id": "1006fd69ad1642e7bf1691e9ffe6a5f7",
       "version_major": 2,
       "version_minor": 0
      },
      "text/plain": [
       "  0%|          | 0/1 [00:00<?, ?it/s]"
      ]
     },
     "metadata": {},
     "output_type": "display_data"
    },
    {
     "name": "stdout",
     "output_type": "stream",
     "text": [
      "predictions: [2 3 3 3 3]\n",
      "lista: [['VE DILATADO', 'VE DILATADO COM HIPOCONTRATIBILIDADE DIFUSA MODERADA / I AO LEVE / IMI LEVE AMODERADA / PSAP 39 MMHG .']]\n"
     ]
    },
    {
     "data": {
      "application/vnd.jupyter.widget-view+json": {
       "model_id": "afc8ae94ec124463969451c5c417d768",
       "version_major": 2,
       "version_minor": 0
      },
      "text/plain": [
       "  0%|          | 0/1 [00:00<?, ?it/s]"
      ]
     },
     "metadata": {},
     "output_type": "display_data"
    },
    {
     "data": {
      "application/vnd.jupyter.widget-view+json": {
       "model_id": "3b0e0ace9e8c4a56a4073fa9e7356e8f",
       "version_major": 2,
       "version_minor": 0
      },
      "text/plain": [
       "  0%|          | 0/1 [00:00<?, ?it/s]"
      ]
     },
     "metadata": {},
     "output_type": "display_data"
    },
    {
     "name": "stdout",
     "output_type": "stream",
     "text": [
      "predictions: [0]\n",
      "lista: [['DOR NA FO SOMENTE AOS MOVIMENTOS E AO TOSSIR', 'S # SENTE BEM , DOR NA FO SOMENTE AOS MOVIMENTOS E AO TOSSIR .'], ['FO SOMENTE AOS MOVIMENTOS', 'S # SENTE BEM , DOR NA FO SOMENTE AOS MOVIMENTOS E AO TOSSIR .'], ['DOR NA FO SOMENTE AOS MOVIMENTOS', 'S # SENTE BEM , DOR NA FO SOMENTE AOS MOVIMENTOS E AO TOSSIR .'], ['FO SOMENTE AOS MOVIMENTOS E AO TOSSIR', 'S # SENTE BEM , DOR NA FO SOMENTE AOS MOVIMENTOS E AO TOSSIR .'], ['DOR NA FO SOMENTE AOS MOVIMENTOS E AO', 'S # SENTE BEM , DOR NA FO SOMENTE AOS MOVIMENTOS E AO TOSSIR .'], ['NA FO SOMENTE AOS MOVIMENTOS E AO TOSSIR', 'S # SENTE BEM , DOR NA FO SOMENTE AOS MOVIMENTOS E AO TOSSIR .']]\n"
     ]
    },
    {
     "data": {
      "application/vnd.jupyter.widget-view+json": {
       "model_id": "202daa80d91b4e458917e31f529e7964",
       "version_major": 2,
       "version_minor": 0
      },
      "text/plain": [
       "  0%|          | 0/6 [00:00<?, ?it/s]"
      ]
     },
     "metadata": {},
     "output_type": "display_data"
    },
    {
     "data": {
      "application/vnd.jupyter.widget-view+json": {
       "model_id": "b33026e2e11040aea2fb746fd5a2f52e",
       "version_major": 2,
       "version_minor": 0
      },
      "text/plain": [
       "  0%|          | 0/1 [00:00<?, ?it/s]"
      ]
     },
     "metadata": {},
     "output_type": "display_data"
    },
    {
     "name": "stdout",
     "output_type": "stream",
     "text": [
      "predictions: [0 0 0 0 0 0]\n",
      "lista: [['DISPNÉIA', 'NEGA DISPNÉIA .']]\n"
     ]
    },
    {
     "data": {
      "application/vnd.jupyter.widget-view+json": {
       "model_id": "5ae58bc9da694f428e5bd56b5ff79195",
       "version_major": 2,
       "version_minor": 0
      },
      "text/plain": [
       "  0%|          | 0/1 [00:00<?, ?it/s]"
      ]
     },
     "metadata": {},
     "output_type": "display_data"
    },
    {
     "data": {
      "application/vnd.jupyter.widget-view+json": {
       "model_id": "9c797f90f908452889f48d0715ac7c92",
       "version_major": 2,
       "version_minor": 0
      },
      "text/plain": [
       "  0%|          | 0/1 [00:00<?, ?it/s]"
      ]
     },
     "metadata": {},
     "output_type": "display_data"
    },
    {
     "name": "stdout",
     "output_type": "stream",
     "text": [
      "predictions: [0]\n",
      "lista: [['SINAIS FLOGÍSTICOS', 'RELATA QUE FO ESTÁ SECA , SEM SINAIS FLOGÍSTICOS .']]\n"
     ]
    },
    {
     "data": {
      "application/vnd.jupyter.widget-view+json": {
       "model_id": "3d8f71f05a4b40d68399ae78f15e70ea",
       "version_major": 2,
       "version_minor": 0
      },
      "text/plain": [
       "  0%|          | 0/1 [00:00<?, ?it/s]"
      ]
     },
     "metadata": {},
     "output_type": "display_data"
    },
    {
     "data": {
      "application/vnd.jupyter.widget-view+json": {
       "model_id": "59e14d8df8f845b1be038e376800d566",
       "version_major": 2,
       "version_minor": 0
      },
      "text/plain": [
       "  0%|          | 0/1 [00:00<?, ?it/s]"
      ]
     },
     "metadata": {},
     "output_type": "display_data"
    },
    {
     "name": "stdout",
     "output_type": "stream",
     "text": [
      "predictions: [0]\n",
      "lista: [['FEBRE', 'NEGA FEBRE .']]\n"
     ]
    },
    {
     "data": {
      "application/vnd.jupyter.widget-view+json": {
       "model_id": "0ad4ca0f8cef4890a74a7935ea48dee6",
       "version_major": 2,
       "version_minor": 0
      },
      "text/plain": [
       "  0%|          | 0/1 [00:00<?, ?it/s]"
      ]
     },
     "metadata": {},
     "output_type": "display_data"
    },
    {
     "data": {
      "application/vnd.jupyter.widget-view+json": {
       "model_id": "fc71010c3ccf473b9efecc7693f1106d",
       "version_major": 2,
       "version_minor": 0
      },
      "text/plain": [
       "  0%|          | 0/1 [00:00<?, ?it/s]"
      ]
     },
     "metadata": {},
     "output_type": "display_data"
    },
    {
     "name": "stdout",
     "output_type": "stream",
     "text": [
      "predictions: [0]\n",
      "lista: [['HIPOCORADO + / 4 +', 'O # BEG , HIPOCORADO + / 4 + , EUPNEICO , AFEBRIL .'], ['AFEBRIL', 'O # BEG , HIPOCORADO + / 4 + , EUPNEICO , AFEBRIL .']]\n"
     ]
    },
    {
     "data": {
      "application/vnd.jupyter.widget-view+json": {
       "model_id": "2ca7fdf6c1cd4aaa85e34bf9ecfb6812",
       "version_major": 2,
       "version_minor": 0
      },
      "text/plain": [
       "  0%|          | 0/2 [00:00<?, ?it/s]"
      ]
     },
     "metadata": {},
     "output_type": "display_data"
    },
    {
     "data": {
      "application/vnd.jupyter.widget-view+json": {
       "model_id": "e762981dc3d8473d9ad3bebbcace9983",
       "version_major": 2,
       "version_minor": 0
      },
      "text/plain": [
       "  0%|          | 0/1 [00:00<?, ?it/s]"
      ]
     },
     "metadata": {},
     "output_type": "display_data"
    },
    {
     "name": "stdout",
     "output_type": "stream",
     "text": [
      "predictions: [0 0]\n",
      "lista: [['PA', 'PA : 110X70 / / FC : 80 .'], ['FC', 'PA : 110X70 / / FC : 80 .']]\n"
     ]
    },
    {
     "data": {
      "application/vnd.jupyter.widget-view+json": {
       "model_id": "842eb588871c4052bf62dfa979509689",
       "version_major": 2,
       "version_minor": 0
      },
      "text/plain": [
       "  0%|          | 0/2 [00:00<?, ?it/s]"
      ]
     },
     "metadata": {},
     "output_type": "display_data"
    },
    {
     "data": {
      "application/vnd.jupyter.widget-view+json": {
       "model_id": "a8e90fb5f2a644979d586829891ab05c",
       "version_major": 2,
       "version_minor": 0
      },
      "text/plain": [
       "  0%|          | 0/1 [00:00<?, ?it/s]"
      ]
     },
     "metadata": {},
     "output_type": "display_data"
    },
    {
     "name": "stdout",
     "output_type": "stream",
     "text": [
      "predictions: [2 2]\n",
      "lista: [['SS', 'CV : BRNF SS .']]\n"
     ]
    },
    {
     "data": {
      "application/vnd.jupyter.widget-view+json": {
       "model_id": "ddf2396589d74c14afddb8c1429de68f",
       "version_major": 2,
       "version_minor": 0
      },
      "text/plain": [
       "  0%|          | 0/1 [00:00<?, ?it/s]"
      ]
     },
     "metadata": {},
     "output_type": "display_data"
    },
    {
     "data": {
      "application/vnd.jupyter.widget-view+json": {
       "model_id": "f8b6e3a51c0744b584c40a5f796bbaa2",
       "version_major": 2,
       "version_minor": 0
      },
      "text/plain": [
       "  0%|          | 0/1 [00:00<?, ?it/s]"
      ]
     },
     "metadata": {},
     "output_type": "display_data"
    },
    {
     "name": "stdout",
     "output_type": "stream",
     "text": [
      "predictions: [0]\n",
      "lista: [['CPP', 'CPP : MV + BILATERAL , SEM RA .'], ['RA', 'CPP : MV + BILATERAL , SEM RA .']]\n"
     ]
    },
    {
     "data": {
      "application/vnd.jupyter.widget-view+json": {
       "model_id": "d74255d89b934b94b17a6cb51cda8890",
       "version_major": 2,
       "version_minor": 0
      },
      "text/plain": [
       "  0%|          | 0/2 [00:00<?, ?it/s]"
      ]
     },
     "metadata": {},
     "output_type": "display_data"
    },
    {
     "data": {
      "application/vnd.jupyter.widget-view+json": {
       "model_id": "c62248dc9f124346bebbd56a536ea0e6",
       "version_major": 2,
       "version_minor": 0
      },
      "text/plain": [
       "  0%|          | 0/1 [00:00<?, ?it/s]"
      ]
     },
     "metadata": {},
     "output_type": "display_data"
    },
    {
     "name": "stdout",
     "output_type": "stream",
     "text": [
      "predictions: [3 0]\n",
      "lista: [['SECREÇÃO', 'FO LIMPA E SECA , SEM PRESENÇA DE SECREÇÃO .']]\n"
     ]
    },
    {
     "data": {
      "application/vnd.jupyter.widget-view+json": {
       "model_id": "f1f13f01033e4c679b8458c0951415ff",
       "version_major": 2,
       "version_minor": 0
      },
      "text/plain": [
       "  0%|          | 0/1 [00:00<?, ?it/s]"
      ]
     },
     "metadata": {},
     "output_type": "display_data"
    },
    {
     "data": {
      "application/vnd.jupyter.widget-view+json": {
       "model_id": "76613b6483244b1c869b30fe3b7e79be",
       "version_major": 2,
       "version_minor": 0
      },
      "text/plain": [
       "  0%|          | 0/1 [00:00<?, ?it/s]"
      ]
     },
     "metadata": {},
     "output_type": "display_data"
    },
    {
     "name": "stdout",
     "output_type": "stream",
     "text": [
      "predictions: [0]\n",
      "lista: [['ABD', 'ABD : RHA + , INDOLOR .']]\n"
     ]
    },
    {
     "data": {
      "application/vnd.jupyter.widget-view+json": {
       "model_id": "7552939b45b24cf8a432cd633c045255",
       "version_major": 2,
       "version_minor": 0
      },
      "text/plain": [
       "  0%|          | 0/1 [00:00<?, ?it/s]"
      ]
     },
     "metadata": {},
     "output_type": "display_data"
    },
    {
     "data": {
      "application/vnd.jupyter.widget-view+json": {
       "model_id": "07d454d339bb47518e8daabf131d93e0",
       "version_major": 2,
       "version_minor": 0
      },
      "text/plain": [
       "  0%|          | 0/1 [00:00<?, ?it/s]"
      ]
     },
     "metadata": {},
     "output_type": "display_data"
    },
    {
     "name": "stdout",
     "output_type": "stream",
     "text": [
      "predictions: [3]\n",
      "lista: [['MMII', 'MMII : SEM EDEMA OU EMPASTAMENTO .'], ['EDEMA', 'MMII : SEM EDEMA OU EMPASTAMENTO .'], ['EMPASTAMENTO', 'MMII : SEM EDEMA OU EMPASTAMENTO .']]\n"
     ]
    },
    {
     "data": {
      "application/vnd.jupyter.widget-view+json": {
       "model_id": "750c2385f09747a39702338f43ca65b3",
       "version_major": 2,
       "version_minor": 0
      },
      "text/plain": [
       "  0%|          | 0/3 [00:00<?, ?it/s]"
      ]
     },
     "metadata": {},
     "output_type": "display_data"
    },
    {
     "data": {
      "application/vnd.jupyter.widget-view+json": {
       "model_id": "8e4235d7ed7040baad8fdd58f2a9983a",
       "version_major": 2,
       "version_minor": 0
      },
      "text/plain": [
       "  0%|          | 0/1 [00:00<?, ?it/s]"
      ]
     },
     "metadata": {},
     "output_type": "display_data"
    },
    {
     "name": "stdout",
     "output_type": "stream",
     "text": [
      "predictions: [3 0 0]\n",
      "lista: [['TX CARDIACO', 'A # PO DE TX CARDIACO ( 23 / 10 / 15 ) .'], ['CARDIACO', 'A # PO DE TX CARDIACO ( 23 / 10 / 15 ) .']]\n"
     ]
    },
    {
     "data": {
      "application/vnd.jupyter.widget-view+json": {
       "model_id": "e56dc01bfa6643c78e45272534611b3a",
       "version_major": 2,
       "version_minor": 0
      },
      "text/plain": [
       "  0%|          | 0/2 [00:00<?, ?it/s]"
      ]
     },
     "metadata": {},
     "output_type": "display_data"
    },
    {
     "data": {
      "application/vnd.jupyter.widget-view+json": {
       "model_id": "73920a9c15f243c183219eb04c6b7e93",
       "version_major": 2,
       "version_minor": 0
      },
      "text/plain": [
       "  0%|          | 0/1 [00:00<?, ?it/s]"
      ]
     },
     "metadata": {},
     "output_type": "display_data"
    },
    {
     "name": "stdout",
     "output_type": "stream",
     "text": [
      "predictions: [1 3]\n",
      "lista: [['TX CARDIACO', 'POS TX CARDIACO HA 3 ANOS e 7 MESES .'], ['CARDIACO', 'POS TX CARDIACO HA 3 ANOS e 7 MESES .']]\n"
     ]
    },
    {
     "data": {
      "application/vnd.jupyter.widget-view+json": {
       "model_id": "2bb896c99a534a52ae9de0a700a23ac3",
       "version_major": 2,
       "version_minor": 0
      },
      "text/plain": [
       "  0%|          | 0/2 [00:00<?, ?it/s]"
      ]
     },
     "metadata": {},
     "output_type": "display_data"
    },
    {
     "data": {
      "application/vnd.jupyter.widget-view+json": {
       "model_id": "021012a5ef3b4647af792fd8cc033212",
       "version_major": 2,
       "version_minor": 0
      },
      "text/plain": [
       "  0%|          | 0/1 [00:00<?, ?it/s]"
      ]
     },
     "metadata": {},
     "output_type": "display_data"
    },
    {
     "name": "stdout",
     "output_type": "stream",
     "text": [
      "predictions: [1 3]\n",
      "lista: [['BIOPSIA', 'ULTIMA BIOPSIA .']]\n"
     ]
    },
    {
     "data": {
      "application/vnd.jupyter.widget-view+json": {
       "model_id": "cc086d17da6b4d53b7739e60fe859b48",
       "version_major": 2,
       "version_minor": 0
      },
      "text/plain": [
       "  0%|          | 0/1 [00:00<?, ?it/s]"
      ]
     },
     "metadata": {},
     "output_type": "display_data"
    },
    {
     "data": {
      "application/vnd.jupyter.widget-view+json": {
       "model_id": "04c7d7d0e6c44af18d37f2e0b1e95a94",
       "version_major": 2,
       "version_minor": 0
      },
      "text/plain": [
       "  0%|          | 0/1 [00:00<?, ?it/s]"
      ]
     },
     "metadata": {},
     "output_type": "display_data"
    },
    {
     "name": "stdout",
     "output_type": "stream",
     "text": [
      "predictions: [2]\n",
      "lista: [['CICLOSPORINA 100', 'EM USO DE CICLOSPORINA 100 / 100 , MYFORTIC 360 / 360 ( REDUZIU PARA ESSA DOSE POR ENGANO ) , E PREDNISONA 5 MG / DIA .']]\n"
     ]
    },
    {
     "data": {
      "application/vnd.jupyter.widget-view+json": {
       "model_id": "1c3aed9b1b5649509ded6ad3df042b83",
       "version_major": 2,
       "version_minor": 0
      },
      "text/plain": [
       "  0%|          | 0/1 [00:00<?, ?it/s]"
      ]
     },
     "metadata": {},
     "output_type": "display_data"
    },
    {
     "data": {
      "application/vnd.jupyter.widget-view+json": {
       "model_id": "70df69b1660c42cdbe78cfda739fcc2f",
       "version_major": 2,
       "version_minor": 0
      },
      "text/plain": [
       "  0%|          | 0/1 [00:00<?, ?it/s]"
      ]
     },
     "metadata": {},
     "output_type": "display_data"
    },
    {
     "name": "stdout",
     "output_type": "stream",
     "text": [
      "predictions: [1]\n",
      "lista: [['AAS 100', 'USO DE AAS 100 / DIA .']]\n"
     ]
    },
    {
     "data": {
      "application/vnd.jupyter.widget-view+json": {
       "model_id": "f4d63b4ac5064dbc9d8f03a0da9eabb6",
       "version_major": 2,
       "version_minor": 0
      },
      "text/plain": [
       "  0%|          | 0/1 [00:00<?, ?it/s]"
      ]
     },
     "metadata": {},
     "output_type": "display_data"
    },
    {
     "data": {
      "application/vnd.jupyter.widget-view+json": {
       "model_id": "6df6d9082a5f414292a4446f0071f939",
       "version_major": 2,
       "version_minor": 0
      },
      "text/plain": [
       "  0%|          | 0/1 [00:00<?, ?it/s]"
      ]
     },
     "metadata": {},
     "output_type": "display_data"
    },
    {
     "name": "stdout",
     "output_type": "stream",
     "text": [
      "predictions: [1]\n",
      "lista: [['QUEIXAS', 'S # SEM QUEIXAS .']]\n"
     ]
    },
    {
     "data": {
      "application/vnd.jupyter.widget-view+json": {
       "model_id": "0e8dc5d610cb4f0c873ddb58d6d25169",
       "version_major": 2,
       "version_minor": 0
      },
      "text/plain": [
       "  0%|          | 0/1 [00:00<?, ?it/s]"
      ]
     },
     "metadata": {},
     "output_type": "display_data"
    },
    {
     "data": {
      "application/vnd.jupyter.widget-view+json": {
       "model_id": "0b2ff71a4cd744608b88c81fb4739675",
       "version_major": 2,
       "version_minor": 0
      },
      "text/plain": [
       "  0%|          | 0/1 [00:00<?, ?it/s]"
      ]
     },
     "metadata": {},
     "output_type": "display_data"
    },
    {
     "name": "stdout",
     "output_type": "stream",
     "text": [
      "predictions: [0]\n",
      "lista: [['BIOPSIA', 'AGURADA BIOPSIA .']]\n"
     ]
    },
    {
     "data": {
      "application/vnd.jupyter.widget-view+json": {
       "model_id": "ee9833c519804dc3abca6ac4d41173b7",
       "version_major": 2,
       "version_minor": 0
      },
      "text/plain": [
       "  0%|          | 0/1 [00:00<?, ?it/s]"
      ]
     },
     "metadata": {},
     "output_type": "display_data"
    },
    {
     "data": {
      "application/vnd.jupyter.widget-view+json": {
       "model_id": "26890a14b76e4423889a06ac3fba1b8f",
       "version_major": 2,
       "version_minor": 0
      },
      "text/plain": [
       "  0%|          | 0/1 [00:00<?, ?it/s]"
      ]
     },
     "metadata": {},
     "output_type": "display_data"
    },
    {
     "name": "stdout",
     "output_type": "stream",
     "text": [
      "predictions: [2]\n",
      "lista: [['PA', 'O # PA 120 / 80 , FC 70 .'], ['FC', 'O # PA 120 / 80 , FC 70 .']]\n"
     ]
    },
    {
     "data": {
      "application/vnd.jupyter.widget-view+json": {
       "model_id": "e51a70e97ee7460ebbc22a62074dfc41",
       "version_major": 2,
       "version_minor": 0
      },
      "text/plain": [
       "  0%|          | 0/2 [00:00<?, ?it/s]"
      ]
     },
     "metadata": {},
     "output_type": "display_data"
    },
    {
     "data": {
      "application/vnd.jupyter.widget-view+json": {
       "model_id": "3bc84f9c7de54d48a648363b9d6654bf",
       "version_major": 2,
       "version_minor": 0
      },
      "text/plain": [
       "  0%|          | 0/1 [00:00<?, ?it/s]"
      ]
     },
     "metadata": {},
     "output_type": "display_data"
    },
    {
     "name": "stdout",
     "output_type": "stream",
     "text": [
      "predictions: [2 2]\n",
      "lista: [['CPP', 'CPP LIVRE .']]\n"
     ]
    },
    {
     "data": {
      "application/vnd.jupyter.widget-view+json": {
       "model_id": "79021d21015a466bae732088ef709d0e",
       "version_major": 2,
       "version_minor": 0
      },
      "text/plain": [
       "  0%|          | 0/1 [00:00<?, ?it/s]"
      ]
     },
     "metadata": {},
     "output_type": "display_data"
    },
    {
     "data": {
      "application/vnd.jupyter.widget-view+json": {
       "model_id": "1454590e6d1f4ad8b4a369a3a00c2568",
       "version_major": 2,
       "version_minor": 0
      },
      "text/plain": [
       "  0%|          | 0/1 [00:00<?, ?it/s]"
      ]
     },
     "metadata": {},
     "output_type": "display_data"
    },
    {
     "name": "stdout",
     "output_type": "stream",
     "text": [
      "predictions: [3]\n",
      "lista: [['MMII', 'MMII SEM EDEMA .'], ['EDEMA', 'MMII SEM EDEMA .']]\n"
     ]
    },
    {
     "data": {
      "application/vnd.jupyter.widget-view+json": {
       "model_id": "5f2d87dc669041b7b730d1badcf2b527",
       "version_major": 2,
       "version_minor": 0
      },
      "text/plain": [
       "  0%|          | 0/2 [00:00<?, ?it/s]"
      ]
     },
     "metadata": {},
     "output_type": "display_data"
    },
    {
     "data": {
      "application/vnd.jupyter.widget-view+json": {
       "model_id": "d59e206e00a34ad195d97ad509f9cba0",
       "version_major": 2,
       "version_minor": 0
      },
      "text/plain": [
       "  0%|          | 0/1 [00:00<?, ?it/s]"
      ]
     },
     "metadata": {},
     "output_type": "display_data"
    },
    {
     "name": "stdout",
     "output_type": "stream",
     "text": [
      "predictions: [3 0]\n",
      "lista: [['TX CARDIACO', 'A # POS TX CARDIACO , COM BOA EVOLUÇÃO .'], ['CARDIACO', 'A # POS TX CARDIACO , COM BOA EVOLUÇÃO .']]\n"
     ]
    },
    {
     "data": {
      "application/vnd.jupyter.widget-view+json": {
       "model_id": "26860bd4045e4de38a11b4d3d7daff5a",
       "version_major": 2,
       "version_minor": 0
      },
      "text/plain": [
       "  0%|          | 0/2 [00:00<?, ?it/s]"
      ]
     },
     "metadata": {},
     "output_type": "display_data"
    },
    {
     "data": {
      "application/vnd.jupyter.widget-view+json": {
       "model_id": "7f8b979153bd4012b98a71698a0f5c82",
       "version_major": 2,
       "version_minor": 0
      },
      "text/plain": [
       "  0%|          | 0/1 [00:00<?, ?it/s]"
      ]
     },
     "metadata": {},
     "output_type": "display_data"
    },
    {
     "name": "stdout",
     "output_type": "stream",
     "text": [
      "predictions: [1 3]\n",
      "lista: [['LAB', 'P # SOLICITO LAB E ECOCC .'], ['ECOCC', 'P # SOLICITO LAB E ECOCC .']]\n"
     ]
    },
    {
     "data": {
      "application/vnd.jupyter.widget-view+json": {
       "model_id": "2a1eaa7a13db4d849e007d5817407cec",
       "version_major": 2,
       "version_minor": 0
      },
      "text/plain": [
       "  0%|          | 0/2 [00:00<?, ?it/s]"
      ]
     },
     "metadata": {},
     "output_type": "display_data"
    },
    {
     "data": {
      "application/vnd.jupyter.widget-view+json": {
       "model_id": "0a557668a040412aaf000cb0211aa2ca",
       "version_major": 2,
       "version_minor": 0
      },
      "text/plain": [
       "  0%|          | 0/1 [00:00<?, ?it/s]"
      ]
     },
     "metadata": {},
     "output_type": "display_data"
    },
    {
     "name": "stdout",
     "output_type": "stream",
     "text": [
      "predictions: [2 2]\n",
      "lista: [['has', 'has / 10 anos / maço .']]\n"
     ]
    },
    {
     "data": {
      "application/vnd.jupyter.widget-view+json": {
       "model_id": "19cce4552d66441185229625e9f74e83",
       "version_major": 2,
       "version_minor": 0
      },
      "text/plain": [
       "  0%|          | 0/1 [00:00<?, ?it/s]"
      ]
     },
     "metadata": {},
     "output_type": "display_data"
    },
    {
     "data": {
      "application/vnd.jupyter.widget-view+json": {
       "model_id": "2c2483ea837e4564abb8ea80ef77fee1",
       "version_major": 2,
       "version_minor": 0
      },
      "text/plain": [
       "  0%|          | 0/1 [00:00<?, ?it/s]"
      ]
     },
     "metadata": {},
     "output_type": "display_data"
    },
    {
     "name": "stdout",
     "output_type": "stream",
     "text": [
      "predictions: [0]\n",
      "lista: [['aas 100', 'aas 100 / carvedilol 25 1x / d / sinva 40 mg 1 x / d / enalapril 1 cp 12 / 12 hs / furo 40 mg 1 x / d .'], ['sinva 40 mg', 'aas 100 / carvedilol 25 1x / d / sinva 40 mg 1 x / d / enalapril 1 cp 12 / 12 hs / furo 40 mg 1 x / d .'], ['enalapril', 'aas 100 / carvedilol 25 1x / d / sinva 40 mg 1 x / d / enalapril 1 cp 12 / 12 hs / furo 40 mg 1 x / d .'], ['furo 40 mg', 'aas 100 / carvedilol 25 1x / d / sinva 40 mg 1 x / d / enalapril 1 cp 12 / 12 hs / furo 40 mg 1 x / d .']]\n"
     ]
    },
    {
     "data": {
      "application/vnd.jupyter.widget-view+json": {
       "model_id": "1a14e167bc374936a7a24b8c14a6ff57",
       "version_major": 2,
       "version_minor": 0
      },
      "text/plain": [
       "  0%|          | 0/4 [00:00<?, ?it/s]"
      ]
     },
     "metadata": {},
     "output_type": "display_data"
    },
    {
     "data": {
      "application/vnd.jupyter.widget-view+json": {
       "model_id": "359d15bdeded4463a90aac409171b26b",
       "version_major": 2,
       "version_minor": 0
      },
      "text/plain": [
       "  0%|          | 0/1 [00:00<?, ?it/s]"
      ]
     },
     "metadata": {},
     "output_type": "display_data"
    },
    {
     "name": "stdout",
     "output_type": "stream",
     "text": [
      "predictions: [1 1 1 1]\n",
      "lista: [['cat', 'fez cat + angioplastia 2013 .'], ['angioplastia', 'fez cat + angioplastia 2013 .']]\n"
     ]
    },
    {
     "data": {
      "application/vnd.jupyter.widget-view+json": {
       "model_id": "0b98d3dfd34b4a2bb1d0df0416b8ec59",
       "version_major": 2,
       "version_minor": 0
      },
      "text/plain": [
       "  0%|          | 0/2 [00:00<?, ?it/s]"
      ]
     },
     "metadata": {},
     "output_type": "display_data"
    },
    {
     "data": {
      "application/vnd.jupyter.widget-view+json": {
       "model_id": "dc1c9f7fd80d4f4babd3c492d6998fa6",
       "version_major": 2,
       "version_minor": 0
      },
      "text/plain": [
       "  0%|          | 0/1 [00:00<?, ?it/s]"
      ]
     },
     "metadata": {},
     "output_type": "display_data"
    },
    {
     "name": "stdout",
     "output_type": "stream",
     "text": [
      "predictions: [2 1]\n",
      "lista: [['ECOCARDIO', 'ECOCARDIO 25 / 11 / 13 - VE HIPERTROFIADO COM DIMENSÃO INTERNA AUMENTADA E FUNÇÃO GLOBAL MODERADAMENTE DIMINUIDA POR ACINESIA MEDIO APICAL PAREDE ANTERO SEPTAL .'], ['VE HIPERTROFIADO COM DIMENSÃO INTERNA AUMENTADA', 'ECOCARDIO 25 / 11 / 13 - VE HIPERTROFIADO COM DIMENSÃO INTERNA AUMENTADA E FUNÇÃO GLOBAL MODERADAMENTE DIMINUIDA POR ACINESIA MEDIO APICAL PAREDE ANTERO SEPTAL .'], ['VE', 'ECOCARDIO 25 / 11 / 13 - VE HIPERTROFIADO COM DIMENSÃO INTERNA AUMENTADA E FUNÇÃO GLOBAL MODERADAMENTE DIMINUIDA POR ACINESIA MEDIO APICAL PAREDE ANTERO SEPTAL .'], ['FUNÇÃO GLOBAL MODERADAMENTE DIMINUIDA', 'ECOCARDIO 25 / 11 / 13 - VE HIPERTROFIADO COM DIMENSÃO INTERNA AUMENTADA E FUNÇÃO GLOBAL MODERADAMENTE DIMINUIDA POR ACINESIA MEDIO APICAL PAREDE ANTERO SEPTAL .'], ['ACINESIA MEDIO APICAL PAREDE ANTERO SEPTAL', 'ECOCARDIO 25 / 11 / 13 - VE HIPERTROFIADO COM DIMENSÃO INTERNA AUMENTADA E FUNÇÃO GLOBAL MODERADAMENTE DIMINUIDA POR ACINESIA MEDIO APICAL PAREDE ANTERO SEPTAL .'], ['MEDIO APICAL PAREDE ANTERO SEPTAL', 'ECOCARDIO 25 / 11 / 13 - VE HIPERTROFIADO COM DIMENSÃO INTERNA AUMENTADA E FUNÇÃO GLOBAL MODERADAMENTE DIMINUIDA POR ACINESIA MEDIO APICAL PAREDE ANTERO SEPTAL .']]\n"
     ]
    },
    {
     "data": {
      "application/vnd.jupyter.widget-view+json": {
       "model_id": "804b25b20b434eb187fc0b9d203e2894",
       "version_major": 2,
       "version_minor": 0
      },
      "text/plain": [
       "  0%|          | 0/6 [00:00<?, ?it/s]"
      ]
     },
     "metadata": {},
     "output_type": "display_data"
    },
    {
     "data": {
      "application/vnd.jupyter.widget-view+json": {
       "model_id": "f59fab6232674964b0e7dabacb473287",
       "version_major": 2,
       "version_minor": 0
      },
      "text/plain": [
       "  0%|          | 0/1 [00:00<?, ?it/s]"
      ]
     },
     "metadata": {},
     "output_type": "display_data"
    },
    {
     "name": "stdout",
     "output_type": "stream",
     "text": [
      "predictions: [2 0 3 0 0 3]\n",
      "lista: [['AUMENTO DE AE', 'AUMENTO DE AE .']]\n"
     ]
    },
    {
     "data": {
      "application/vnd.jupyter.widget-view+json": {
       "model_id": "ddd327ca1f6b4920983deeec77c80f4d",
       "version_major": 2,
       "version_minor": 0
      },
      "text/plain": [
       "  0%|          | 0/1 [00:00<?, ?it/s]"
      ]
     },
     "metadata": {},
     "output_type": "display_data"
    },
    {
     "data": {
      "application/vnd.jupyter.widget-view+json": {
       "model_id": "e7d57fc28e0b44ae81b98f93e9de3476",
       "version_major": 2,
       "version_minor": 0
      },
      "text/plain": [
       "  0%|          | 0/1 [00:00<?, ?it/s]"
      ]
     },
     "metadata": {},
     "output_type": "display_data"
    },
    {
     "name": "stdout",
     "output_type": "stream",
     "text": [
      "predictions: [0]\n",
      "lista: [['REFLUXO MITRAL DISCRETO', 'REFLUXO MITRAL DISCRETO .'], ['MITRAL DISCRETO', 'REFLUXO MITRAL DISCRETO .']]\n"
     ]
    },
    {
     "data": {
      "application/vnd.jupyter.widget-view+json": {
       "model_id": "4f1758a783e5400ab239557752f44423",
       "version_major": 2,
       "version_minor": 0
      },
      "text/plain": [
       "  0%|          | 0/2 [00:00<?, ?it/s]"
      ]
     },
     "metadata": {},
     "output_type": "display_data"
    },
    {
     "data": {
      "application/vnd.jupyter.widget-view+json": {
       "model_id": "dfd489a0261e47c49ef330ee5bc30b27",
       "version_major": 2,
       "version_minor": 0
      },
      "text/plain": [
       "  0%|          | 0/1 [00:00<?, ?it/s]"
      ]
     },
     "metadata": {},
     "output_type": "display_data"
    },
    {
     "name": "stdout",
     "output_type": "stream",
     "text": [
      "predictions: [0 0]\n",
      "lista: [['ECTASIA DA RAIZ AÓRTICA', 'ECTASIA DA RAIZ AÓRTICA .']]\n"
     ]
    },
    {
     "data": {
      "application/vnd.jupyter.widget-view+json": {
       "model_id": "49d03459f5cd4827a17934ffbc2950cb",
       "version_major": 2,
       "version_minor": 0
      },
      "text/plain": [
       "  0%|          | 0/1 [00:00<?, ?it/s]"
      ]
     },
     "metadata": {},
     "output_type": "display_data"
    },
    {
     "data": {
      "application/vnd.jupyter.widget-view+json": {
       "model_id": "d611ac1f874e442b95ed0a54d78acb38",
       "version_major": 2,
       "version_minor": 0
      },
      "text/plain": [
       "  0%|          | 0/1 [00:00<?, ?it/s]"
      ]
     },
     "metadata": {},
     "output_type": "display_data"
    },
    {
     "name": "stdout",
     "output_type": "stream",
     "text": [
      "predictions: [0]\n",
      "lista: [['REFLUXO AÓRTICO DISCRETO', 'REFLUXO AÓRTICO DISCRETO .']]\n"
     ]
    },
    {
     "data": {
      "application/vnd.jupyter.widget-view+json": {
       "model_id": "905407ede97445918e012d573959be0b",
       "version_major": 2,
       "version_minor": 0
      },
      "text/plain": [
       "  0%|          | 0/1 [00:00<?, ?it/s]"
      ]
     },
     "metadata": {},
     "output_type": "display_data"
    },
    {
     "data": {
      "application/vnd.jupyter.widget-view+json": {
       "model_id": "b6cd3f5293ac4817b3d65d1affed2514",
       "version_major": 2,
       "version_minor": 0
      },
      "text/plain": [
       "  0%|          | 0/1 [00:00<?, ?it/s]"
      ]
     },
     "metadata": {},
     "output_type": "display_data"
    },
    {
     "name": "stdout",
     "output_type": "stream",
     "text": [
      "predictions: [0]\n",
      "lista: [['ECODOPPLER ARTERIAR MMII ESQ', '01 / 03 / 11 : ECODOPPLER ARTERIAR MMII ESQ : ESTENOSE APROX DE 75 % DA BIFURCAÇÃO DOS VASOS FEMORAIS .'], ['ECODOPPLER ARTERIAR', '01 / 03 / 11 : ECODOPPLER ARTERIAR MMII ESQ : ESTENOSE APROX DE 75 % DA BIFURCAÇÃO DOS VASOS FEMORAIS .'], ['ARTERIAR MMII', '01 / 03 / 11 : ECODOPPLER ARTERIAR MMII ESQ : ESTENOSE APROX DE 75 % DA BIFURCAÇÃO DOS VASOS FEMORAIS .'], ['MMII ESQ', '01 / 03 / 11 : ECODOPPLER ARTERIAR MMII ESQ : ESTENOSE APROX DE 75 % DA BIFURCAÇÃO DOS VASOS FEMORAIS .'], ['ECODOPPLER ARTERIAR MMII', '01 / 03 / 11 : ECODOPPLER ARTERIAR MMII ESQ : ESTENOSE APROX DE 75 % DA BIFURCAÇÃO DOS VASOS FEMORAIS .'], ['ARTERIAR MMII ESQ', '01 / 03 / 11 : ECODOPPLER ARTERIAR MMII ESQ : ESTENOSE APROX DE 75 % DA BIFURCAÇÃO DOS VASOS FEMORAIS .'], ['ESTENOSE APROX DE 75 % DA BIFURCAÇÃO DOS VASOS FEMORAIS', '01 / 03 / 11 : ECODOPPLER ARTERIAR MMII ESQ : ESTENOSE APROX DE 75 % DA BIFURCAÇÃO DOS VASOS FEMORAIS .'], ['BIFURCAÇÃO DOS VASOS FEMORAIS', '01 / 03 / 11 : ECODOPPLER ARTERIAR MMII ESQ : ESTENOSE APROX DE 75 % DA BIFURCAÇÃO DOS VASOS FEMORAIS .'], ['DA BIFURCAÇÃO DOS VASOS FEMORAIS', '01 / 03 / 11 : ECODOPPLER ARTERIAR MMII ESQ : ESTENOSE APROX DE 75 % DA BIFURCAÇÃO DOS VASOS FEMORAIS .']]\n"
     ]
    },
    {
     "data": {
      "application/vnd.jupyter.widget-view+json": {
       "model_id": "c6d77f64916c44dfa6484ad822207bfb",
       "version_major": 2,
       "version_minor": 0
      },
      "text/plain": [
       "  0%|          | 0/9 [00:00<?, ?it/s]"
      ]
     },
     "metadata": {},
     "output_type": "display_data"
    },
    {
     "data": {
      "application/vnd.jupyter.widget-view+json": {
       "model_id": "2ca56acc0c8d4c8dbea2035e72714b93",
       "version_major": 2,
       "version_minor": 0
      },
      "text/plain": [
       "  0%|          | 0/2 [00:00<?, ?it/s]"
      ]
     },
     "metadata": {},
     "output_type": "display_data"
    },
    {
     "name": "stdout",
     "output_type": "stream",
     "text": [
      "predictions: [2 2 3 3 2 3 0 3 3]\n",
      "lista: [['LESOES SUBSEGMENTARES DAS ART , TIBIAL ANTERIOR E FIBULAR', 'LESOES SUBSEGMENTARES DAS ART , TIBIAL ANTERIOR E FIBULAR .']]\n"
     ]
    },
    {
     "data": {
      "application/vnd.jupyter.widget-view+json": {
       "model_id": "a6f162f0e4ef4223812eb57dcd149bdd",
       "version_major": 2,
       "version_minor": 0
      },
      "text/plain": [
       "  0%|          | 0/1 [00:00<?, ?it/s]"
      ]
     },
     "metadata": {},
     "output_type": "display_data"
    },
    {
     "data": {
      "application/vnd.jupyter.widget-view+json": {
       "model_id": "df9d8fa6014642c987bad01461fa379d",
       "version_major": 2,
       "version_minor": 0
      },
      "text/plain": [
       "  0%|          | 0/1 [00:00<?, ?it/s]"
      ]
     },
     "metadata": {},
     "output_type": "display_data"
    },
    {
     "name": "stdout",
     "output_type": "stream",
     "text": [
      "predictions: [0]\n",
      "lista: [['OCLUSÃO DA ARTERIA POPLITEA MEDIO DISTAL', 'OCLUSÃO DA ARTERIA POPLITEA MEDIO DISTAL .'], ['DA ARTERIA POPLITEA MEDIO DISTAL', 'OCLUSÃO DA ARTERIA POPLITEA MEDIO DISTAL .']]\n"
     ]
    },
    {
     "data": {
      "application/vnd.jupyter.widget-view+json": {
       "model_id": "0086f64077e2497f94c18bc35de88b5d",
       "version_major": 2,
       "version_minor": 0
      },
      "text/plain": [
       "  0%|          | 0/2 [00:00<?, ?it/s]"
      ]
     },
     "metadata": {},
     "output_type": "display_data"
    },
    {
     "data": {
      "application/vnd.jupyter.widget-view+json": {
       "model_id": "cd6305a07a204bc89c0454aac9304200",
       "version_major": 2,
       "version_minor": 0
      },
      "text/plain": [
       "  0%|          | 0/1 [00:00<?, ?it/s]"
      ]
     },
     "metadata": {},
     "output_type": "display_data"
    },
    {
     "name": "stdout",
     "output_type": "stream",
     "text": [
      "predictions: [0 3]\n",
      "lista: [['ESTENOSE', 'ESTENOSE > A OCLUSAO DA ARTERIA TIBIAL POSTERIOR .'], ['OCLUSAO DA ARTERIA TIBIAL POSTERIOR', 'ESTENOSE > A OCLUSAO DA ARTERIA TIBIAL POSTERIOR .'], ['ARTERIA TIBIAL POSTERIOR', 'ESTENOSE > A OCLUSAO DA ARTERIA TIBIAL POSTERIOR .'], ['OCLUSAO DA ARTERIA TIBIAL', 'ESTENOSE > A OCLUSAO DA ARTERIA TIBIAL POSTERIOR .'], ['DA ARTERIA TIBIAL POSTERIOR', 'ESTENOSE > A OCLUSAO DA ARTERIA TIBIAL POSTERIOR .']]\n"
     ]
    },
    {
     "data": {
      "application/vnd.jupyter.widget-view+json": {
       "model_id": "55ac8f9ede744395aed28ae0b33b398c",
       "version_major": 2,
       "version_minor": 0
      },
      "text/plain": [
       "  0%|          | 0/5 [00:00<?, ?it/s]"
      ]
     },
     "metadata": {},
     "output_type": "display_data"
    },
    {
     "data": {
      "application/vnd.jupyter.widget-view+json": {
       "model_id": "6f7ad237e9fe4c29973128678f5ef4a9",
       "version_major": 2,
       "version_minor": 0
      },
      "text/plain": [
       "  0%|          | 0/1 [00:00<?, ?it/s]"
      ]
     },
     "metadata": {},
     "output_type": "display_data"
    },
    {
     "name": "stdout",
     "output_type": "stream",
     "text": [
      "predictions: [0 0 3 0 3]\n",
      "lista: [['disfunção sistólica', 'quadro de disfunção sistólica após iam , perdeu seguimento .'], ['iam', 'quadro de disfunção sistólica após iam , perdeu seguimento .']]\n"
     ]
    },
    {
     "data": {
      "application/vnd.jupyter.widget-view+json": {
       "model_id": "26825c9b90774ab5bb6fe8c6717ec17b",
       "version_major": 2,
       "version_minor": 0
      },
      "text/plain": [
       "  0%|          | 0/2 [00:00<?, ?it/s]"
      ]
     },
     "metadata": {},
     "output_type": "display_data"
    },
    {
     "data": {
      "application/vnd.jupyter.widget-view+json": {
       "model_id": "037151541cb14d06b089c6e618dddbb2",
       "version_major": 2,
       "version_minor": 0
      },
      "text/plain": [
       "  0%|          | 0/1 [00:00<?, ?it/s]"
      ]
     },
     "metadata": {},
     "output_type": "display_data"
    },
    {
     "name": "stdout",
     "output_type": "stream",
     "text": [
      "predictions: [0 0]\n",
      "lista: [['Diclin', 'Em uso de : Diclin ( ACO ) .'], ['ACO', 'Em uso de : Diclin ( ACO ) .']]\n"
     ]
    },
    {
     "data": {
      "application/vnd.jupyter.widget-view+json": {
       "model_id": "b2a05eb9f33e40f09abdb5568095ee6a",
       "version_major": 2,
       "version_minor": 0
      },
      "text/plain": [
       "  0%|          | 0/2 [00:00<?, ?it/s]"
      ]
     },
     "metadata": {},
     "output_type": "display_data"
    },
    {
     "data": {
      "application/vnd.jupyter.widget-view+json": {
       "model_id": "50914b08a5674398879890fe6c29a480",
       "version_major": 2,
       "version_minor": 0
      },
      "text/plain": [
       "  0%|          | 0/1 [00:00<?, ?it/s]"
      ]
     },
     "metadata": {},
     "output_type": "display_data"
    },
    {
     "name": "stdout",
     "output_type": "stream",
     "text": [
      "predictions: [1 1]\n",
      "lista: [['síncope inicio', 'HMA : Pcte relata síncope inicio em janeiro mais com o calor .']]\n"
     ]
    },
    {
     "data": {
      "application/vnd.jupyter.widget-view+json": {
       "model_id": "09988384d29c464a8bcb1c1856e5f30d",
       "version_major": 2,
       "version_minor": 0
      },
      "text/plain": [
       "  0%|          | 0/1 [00:00<?, ?it/s]"
      ]
     },
     "metadata": {},
     "output_type": "display_data"
    },
    {
     "data": {
      "application/vnd.jupyter.widget-view+json": {
       "model_id": "bc8a2080a90d40bcb03f2ce32b7488ed",
       "version_major": 2,
       "version_minor": 0
      },
      "text/plain": [
       "  0%|          | 0/1 [00:00<?, ?it/s]"
      ]
     },
     "metadata": {},
     "output_type": "display_data"
    },
    {
     "name": "stdout",
     "output_type": "stream",
     "text": [
      "predictions: [0]\n",
      "lista: [['tontura', 'pródromos : tontura e sudorese e escurecimento visual .'], ['sudorese', 'pródromos : tontura e sudorese e escurecimento visual .'], ['escurecimento visual', 'pródromos : tontura e sudorese e escurecimento visual .']]\n"
     ]
    },
    {
     "data": {
      "application/vnd.jupyter.widget-view+json": {
       "model_id": "8ca3efe532974be8a40bf81c77e59877",
       "version_major": 2,
       "version_minor": 0
      },
      "text/plain": [
       "  0%|          | 0/3 [00:00<?, ?it/s]"
      ]
     },
     "metadata": {},
     "output_type": "display_data"
    },
    {
     "data": {
      "application/vnd.jupyter.widget-view+json": {
       "model_id": "0a54c4d4cdc44de3bf9731e7efabbefd",
       "version_major": 2,
       "version_minor": 0
      },
      "text/plain": [
       "  0%|          | 0/1 [00:00<?, ?it/s]"
      ]
     },
     "metadata": {},
     "output_type": "display_data"
    },
    {
     "name": "stdout",
     "output_type": "stream",
     "text": [
      "predictions: [0 0 0]\n",
      "lista: [['nervosismo', 'Refere exacerbação dos sintomas com nervosismo .']]\n"
     ]
    },
    {
     "data": {
      "application/vnd.jupyter.widget-view+json": {
       "model_id": "235a78391cc0423cb35bd7ecfa67a309",
       "version_major": 2,
       "version_minor": 0
      },
      "text/plain": [
       "  0%|          | 0/1 [00:00<?, ?it/s]"
      ]
     },
     "metadata": {},
     "output_type": "display_data"
    },
    {
     "data": {
      "application/vnd.jupyter.widget-view+json": {
       "model_id": "69470c62536e42639c66a2938ae31654",
       "version_major": 2,
       "version_minor": 0
      },
      "text/plain": [
       "  0%|          | 0/1 [00:00<?, ?it/s]"
      ]
     },
     "metadata": {},
     "output_type": "display_data"
    },
    {
     "name": "stdout",
     "output_type": "stream",
     "text": [
      "predictions: [0]\n",
      "lista: [['confusão mental', 'Nega confusão mental ou salivação após .'], ['salivação', 'Nega confusão mental ou salivação após .']]\n"
     ]
    },
    {
     "data": {
      "application/vnd.jupyter.widget-view+json": {
       "model_id": "f17b2bb13d6b4d59b24d4c30793c480e",
       "version_major": 2,
       "version_minor": 0
      },
      "text/plain": [
       "  0%|          | 0/2 [00:00<?, ?it/s]"
      ]
     },
     "metadata": {},
     "output_type": "display_data"
    },
    {
     "data": {
      "application/vnd.jupyter.widget-view+json": {
       "model_id": "4836c96ba25747769b635f8d66aac98a",
       "version_major": 2,
       "version_minor": 0
      },
      "text/plain": [
       "  0%|          | 0/1 [00:00<?, ?it/s]"
      ]
     },
     "metadata": {},
     "output_type": "display_data"
    },
    {
     "name": "stdout",
     "output_type": "stream",
     "text": [
      "predictions: [0 0]\n",
      "lista: [['medicação', 'Nega uso de medicação .']]\n"
     ]
    },
    {
     "data": {
      "application/vnd.jupyter.widget-view+json": {
       "model_id": "50f125f3c4834abb886ac5d1140a5215",
       "version_major": 2,
       "version_minor": 0
      },
      "text/plain": [
       "  0%|          | 0/1 [00:00<?, ?it/s]"
      ]
     },
     "metadata": {},
     "output_type": "display_data"
    },
    {
     "data": {
      "application/vnd.jupyter.widget-view+json": {
       "model_id": "de7d3bdd97c845d38fa1133fe0955ecc",
       "version_major": 2,
       "version_minor": 0
      },
      "text/plain": [
       "  0%|          | 0/1 [00:00<?, ?it/s]"
      ]
     },
     "metadata": {},
     "output_type": "display_data"
    },
    {
     "name": "stdout",
     "output_type": "stream",
     "text": [
      "predictions: [1]\n",
      "lista: [['outros sintomas', 'Nega outros sintomas .']]\n"
     ]
    },
    {
     "data": {
      "application/vnd.jupyter.widget-view+json": {
       "model_id": "3278639cbc4442b790a44a547e5793d5",
       "version_major": 2,
       "version_minor": 0
      },
      "text/plain": [
       "  0%|          | 0/1 [00:00<?, ?it/s]"
      ]
     },
     "metadata": {},
     "output_type": "display_data"
    },
    {
     "data": {
      "application/vnd.jupyter.widget-view+json": {
       "model_id": "7b0aec67331b4aa790a8fbef8023d67f",
       "version_major": 2,
       "version_minor": 0
      },
      "text/plain": [
       "  0%|          | 0/1 [00:00<?, ?it/s]"
      ]
     },
     "metadata": {},
     "output_type": "display_data"
    },
    {
     "name": "stdout",
     "output_type": "stream",
     "text": [
      "predictions: [0]\n",
      "lista: [['sintomas', 'Refere que continua apresentando sintomas , com ultimo ha 1 semana , durante atividades domesticas .']]\n"
     ]
    },
    {
     "data": {
      "application/vnd.jupyter.widget-view+json": {
       "model_id": "d5984f9142b3438a9cc8c4f01e4db824",
       "version_major": 2,
       "version_minor": 0
      },
      "text/plain": [
       "  0%|          | 0/1 [00:00<?, ?it/s]"
      ]
     },
     "metadata": {},
     "output_type": "display_data"
    },
    {
     "data": {
      "application/vnd.jupyter.widget-view+json": {
       "model_id": "099138caa43b49b886c4a0627860c4e7",
       "version_major": 2,
       "version_minor": 0
      },
      "text/plain": [
       "  0%|          | 0/1 [00:00<?, ?it/s]"
      ]
     },
     "metadata": {},
     "output_type": "display_data"
    },
    {
     "name": "stdout",
     "output_type": "stream",
     "text": [
      "predictions: [0]\n",
      "lista: [['Ecocardio', 'Ecocardio 18 / 02 / 15 : RA 20 , AE 26 , VD 17 , Septo 08 , PP 08 , VE 39 , FE 63 % .'], ['RA', 'Ecocardio 18 / 02 / 15 : RA 20 , AE 26 , VD 17 , Septo 08 , PP 08 , VE 39 , FE 63 % .'], ['AE', 'Ecocardio 18 / 02 / 15 : RA 20 , AE 26 , VD 17 , Septo 08 , PP 08 , VE 39 , FE 63 % .'], ['VD', 'Ecocardio 18 / 02 / 15 : RA 20 , AE 26 , VD 17 , Septo 08 , PP 08 , VE 39 , FE 63 % .'], ['Septo', 'Ecocardio 18 / 02 / 15 : RA 20 , AE 26 , VD 17 , Septo 08 , PP 08 , VE 39 , FE 63 % .'], ['PP', 'Ecocardio 18 / 02 / 15 : RA 20 , AE 26 , VD 17 , Septo 08 , PP 08 , VE 39 , FE 63 % .'], ['VE', 'Ecocardio 18 / 02 / 15 : RA 20 , AE 26 , VD 17 , Septo 08 , PP 08 , VE 39 , FE 63 % .']]\n"
     ]
    },
    {
     "data": {
      "application/vnd.jupyter.widget-view+json": {
       "model_id": "851b595a343f4a67a58758ef999afc08",
       "version_major": 2,
       "version_minor": 0
      },
      "text/plain": [
       "  0%|          | 0/7 [00:00<?, ?it/s]"
      ]
     },
     "metadata": {},
     "output_type": "display_data"
    },
    {
     "data": {
      "application/vnd.jupyter.widget-view+json": {
       "model_id": "019a94a5211048248217444a56623ace",
       "version_major": 2,
       "version_minor": 0
      },
      "text/plain": [
       "  0%|          | 0/1 [00:00<?, ?it/s]"
      ]
     },
     "metadata": {},
     "output_type": "display_data"
    },
    {
     "name": "stdout",
     "output_type": "stream",
     "text": [
      "predictions: [2 3 3 3 3 3 3]\n",
      "lista: [['Exame', 'Exame dentro da normalidade .']]\n"
     ]
    },
    {
     "data": {
      "application/vnd.jupyter.widget-view+json": {
       "model_id": "f3003d461c444ae29c582b5ef65e1e19",
       "version_major": 2,
       "version_minor": 0
      },
      "text/plain": [
       "  0%|          | 0/1 [00:00<?, ?it/s]"
      ]
     },
     "metadata": {},
     "output_type": "display_data"
    },
    {
     "data": {
      "application/vnd.jupyter.widget-view+json": {
       "model_id": "7056b61785564b9c9471b8c69ad9a24b",
       "version_major": 2,
       "version_minor": 0
      },
      "text/plain": [
       "  0%|          | 0/1 [00:00<?, ?it/s]"
      ]
     },
     "metadata": {},
     "output_type": "display_data"
    },
    {
     "name": "stdout",
     "output_type": "stream",
     "text": [
      "predictions: [2]\n",
      "lista: [['Teste ergometrico', 'Teste ergometrico : Resposta cardiovascular normal ao esforço fisico , atingiu 11 METS .']]\n"
     ]
    },
    {
     "data": {
      "application/vnd.jupyter.widget-view+json": {
       "model_id": "98a3288192e841339d4d72f6b7373e70",
       "version_major": 2,
       "version_minor": 0
      },
      "text/plain": [
       "  0%|          | 0/1 [00:00<?, ?it/s]"
      ]
     },
     "metadata": {},
     "output_type": "display_data"
    },
    {
     "data": {
      "application/vnd.jupyter.widget-view+json": {
       "model_id": "d37ee916c94f4580b761645423d16fdf",
       "version_major": 2,
       "version_minor": 0
      },
      "text/plain": [
       "  0%|          | 0/1 [00:00<?, ?it/s]"
      ]
     },
     "metadata": {},
     "output_type": "display_data"
    },
    {
     "name": "stdout",
     "output_type": "stream",
     "text": [
      "predictions: [2]\n",
      "lista: [['ECG', 'ECG : DCRD .'], ['DCRD', 'ECG : DCRD .']]\n"
     ]
    },
    {
     "data": {
      "application/vnd.jupyter.widget-view+json": {
       "model_id": "f4b2481063184b5da05e4e98052749a7",
       "version_major": 2,
       "version_minor": 0
      },
      "text/plain": [
       "  0%|          | 0/2 [00:00<?, ?it/s]"
      ]
     },
     "metadata": {},
     "output_type": "display_data"
    },
    {
     "data": {
      "application/vnd.jupyter.widget-view+json": {
       "model_id": "d2c504d377744fbf87961f4210538de1",
       "version_major": 2,
       "version_minor": 0
      },
      "text/plain": [
       "  0%|          | 0/1 [00:00<?, ?it/s]"
      ]
     },
     "metadata": {},
     "output_type": "display_data"
    },
    {
     "name": "stdout",
     "output_type": "stream",
     "text": [
      "predictions: [2 0]\n",
      "lista: [['FC', 'FC 80 , FR 18 , PA : 120 / 70 , SAT 98 % AA .'], ['FR', 'FC 80 , FR 18 , PA : 120 / 70 , SAT 98 % AA .'], ['PA', 'FC 80 , FR 18 , PA : 120 / 70 , SAT 98 % AA .'], ['SAT', 'FC 80 , FR 18 , PA : 120 / 70 , SAT 98 % AA .']]\n"
     ]
    },
    {
     "data": {
      "application/vnd.jupyter.widget-view+json": {
       "model_id": "fb4b5fedcfae4c0cb22c015b86ea707b",
       "version_major": 2,
       "version_minor": 0
      },
      "text/plain": [
       "  0%|          | 0/4 [00:00<?, ?it/s]"
      ]
     },
     "metadata": {},
     "output_type": "display_data"
    },
    {
     "data": {
      "application/vnd.jupyter.widget-view+json": {
       "model_id": "8626d631fced45e6bef053169b8aaef5",
       "version_major": 2,
       "version_minor": 0
      },
      "text/plain": [
       "  0%|          | 0/1 [00:00<?, ?it/s]"
      ]
     },
     "metadata": {},
     "output_type": "display_data"
    },
    {
     "name": "stdout",
     "output_type": "stream",
     "text": [
      "predictions: [2 2 2 2]\n",
      "lista: [['ss', 'AC bnf em 2t e ss , .']]\n"
     ]
    },
    {
     "data": {
      "application/vnd.jupyter.widget-view+json": {
       "model_id": "f94d26e550f94e749e39e1b25841656b",
       "version_major": 2,
       "version_minor": 0
      },
      "text/plain": [
       "  0%|          | 0/1 [00:00<?, ?it/s]"
      ]
     },
     "metadata": {},
     "output_type": "display_data"
    },
    {
     "data": {
      "application/vnd.jupyter.widget-view+json": {
       "model_id": "079f49f5e1154fc0a90cf5f83803211e",
       "version_major": 2,
       "version_minor": 0
      },
      "text/plain": [
       "  0%|          | 0/1 [00:00<?, ?it/s]"
      ]
     },
     "metadata": {},
     "output_type": "display_data"
    },
    {
     "name": "stdout",
     "output_type": "stream",
     "text": [
      "predictions: [0]\n",
      "lista: [['ra', 'AP mv + simetrico s ra , .']]\n"
     ]
    },
    {
     "data": {
      "application/vnd.jupyter.widget-view+json": {
       "model_id": "b9efcea25baa4e80948af4222aad3ce4",
       "version_major": 2,
       "version_minor": 0
      },
      "text/plain": [
       "  0%|          | 0/1 [00:00<?, ?it/s]"
      ]
     },
     "metadata": {},
     "output_type": "display_data"
    },
    {
     "data": {
      "application/vnd.jupyter.widget-view+json": {
       "model_id": "5b43e65e76974244aef4e9e36edd6b30",
       "version_major": 2,
       "version_minor": 0
      },
      "text/plain": [
       "  0%|          | 0/1 [00:00<?, ?it/s]"
      ]
     },
     "metadata": {},
     "output_type": "display_data"
    },
    {
     "name": "stdout",
     "output_type": "stream",
     "text": [
      "predictions: [0]\n",
      "lista: [['Abd', 'Abd sp .']]\n"
     ]
    },
    {
     "data": {
      "application/vnd.jupyter.widget-view+json": {
       "model_id": "dadbea45cd7149d8b1fa3e955d2980ca",
       "version_major": 2,
       "version_minor": 0
      },
      "text/plain": [
       "  0%|          | 0/1 [00:00<?, ?it/s]"
      ]
     },
     "metadata": {},
     "output_type": "display_data"
    },
    {
     "data": {
      "application/vnd.jupyter.widget-view+json": {
       "model_id": "4aa3e101bddc48b8809fc11ac2ee19d3",
       "version_major": 2,
       "version_minor": 0
      },
      "text/plain": [
       "  0%|          | 0/1 [00:00<?, ?it/s]"
      ]
     },
     "metadata": {},
     "output_type": "display_data"
    },
    {
     "name": "stdout",
     "output_type": "stream",
     "text": [
      "predictions: [3]\n",
      "lista: [['mmii', 'mmii s edema , .'], ['edema', 'mmii s edema , .']]\n"
     ]
    },
    {
     "data": {
      "application/vnd.jupyter.widget-view+json": {
       "model_id": "87ecca4e0fb847539434ec72593da917",
       "version_major": 2,
       "version_minor": 0
      },
      "text/plain": [
       "  0%|          | 0/2 [00:00<?, ?it/s]"
      ]
     },
     "metadata": {},
     "output_type": "display_data"
    },
    {
     "data": {
      "application/vnd.jupyter.widget-view+json": {
       "model_id": "152053fdc3e64c508a0f1ae049403540",
       "version_major": 2,
       "version_minor": 0
      },
      "text/plain": [
       "  0%|          | 0/1 [00:00<?, ?it/s]"
      ]
     },
     "metadata": {},
     "output_type": "display_data"
    },
    {
     "name": "stdout",
     "output_type": "stream",
     "text": [
      "predictions: [3 0]\n",
      "lista: [['Vaso vagal', 'Vaso vagal ? .']]\n"
     ]
    },
    {
     "data": {
      "application/vnd.jupyter.widget-view+json": {
       "model_id": "72799fa003a2444c940e2f092089bcaa",
       "version_major": 2,
       "version_minor": 0
      },
      "text/plain": [
       "  0%|          | 0/1 [00:00<?, ?it/s]"
      ]
     },
     "metadata": {},
     "output_type": "display_data"
    },
    {
     "data": {
      "application/vnd.jupyter.widget-view+json": {
       "model_id": "8761d5c473e14119a909423c6bd40da7",
       "version_major": 2,
       "version_minor": 0
      },
      "text/plain": [
       "  0%|          | 0/1 [00:00<?, ?it/s]"
      ]
     },
     "metadata": {},
     "output_type": "display_data"
    },
    {
     "name": "stdout",
     "output_type": "stream",
     "text": [
      "predictions: [0]\n",
      "lista: [['holter', 'A : Aguarda holter .']]\n"
     ]
    },
    {
     "data": {
      "application/vnd.jupyter.widget-view+json": {
       "model_id": "bd8c6656e1334b8e950050d4b1af3214",
       "version_major": 2,
       "version_minor": 0
      },
      "text/plain": [
       "  0%|          | 0/1 [00:00<?, ?it/s]"
      ]
     },
     "metadata": {},
     "output_type": "display_data"
    },
    {
     "data": {
      "application/vnd.jupyter.widget-view+json": {
       "model_id": "fe3f5c3c80064d0d89dd56b62f6436aa",
       "version_major": 2,
       "version_minor": 0
      },
      "text/plain": [
       "  0%|          | 0/1 [00:00<?, ?it/s]"
      ]
     },
     "metadata": {},
     "output_type": "display_data"
    },
    {
     "name": "stdout",
     "output_type": "stream",
     "text": [
      "predictions: [2]\n",
      "lista: [['exames', 'Retorno com exames .']]\n"
     ]
    },
    {
     "data": {
      "application/vnd.jupyter.widget-view+json": {
       "model_id": "3327a12920e3466b940d672b941e5948",
       "version_major": 2,
       "version_minor": 0
      },
      "text/plain": [
       "  0%|          | 0/1 [00:00<?, ?it/s]"
      ]
     },
     "metadata": {},
     "output_type": "display_data"
    },
    {
     "data": {
      "application/vnd.jupyter.widget-view+json": {
       "model_id": "533e8b7dd5d54aea8059094ba06a5b4e",
       "version_major": 2,
       "version_minor": 0
      },
      "text/plain": [
       "  0%|          | 0/1 [00:00<?, ?it/s]"
      ]
     },
     "metadata": {},
     "output_type": "display_data"
    },
    {
     "name": "stdout",
     "output_type": "stream",
     "text": [
      "predictions: [2]\n",
      "lista: [['IAM', 'Paciente em acompanhamento com a cardiologia devido a 2 IAM previos ( em 2004 e 2012 ) .']]\n"
     ]
    },
    {
     "data": {
      "application/vnd.jupyter.widget-view+json": {
       "model_id": "1d0e3abd9f49457e85cbbeaeee29f08e",
       "version_major": 2,
       "version_minor": 0
      },
      "text/plain": [
       "  0%|          | 0/1 [00:00<?, ?it/s]"
      ]
     },
     "metadata": {},
     "output_type": "display_data"
    },
    {
     "data": {
      "application/vnd.jupyter.widget-view+json": {
       "model_id": "ea440be07792417db696aa718446ff08",
       "version_major": 2,
       "version_minor": 0
      },
      "text/plain": [
       "  0%|          | 0/1 [00:00<?, ?it/s]"
      ]
     },
     "metadata": {},
     "output_type": "display_data"
    },
    {
     "name": "stdout",
     "output_type": "stream",
     "text": [
      "predictions: [0]\n",
      "lista: [['carvediol 6 , 25 mg', 'Em uso de : carvediol 6 , 25 mg , AAS 100 mg , furosemida 40 mg , losartana 100 mg , atorvstatina 20 mg , omeprazol 20 mg .'], ['AAS 100 mg', 'Em uso de : carvediol 6 , 25 mg , AAS 100 mg , furosemida 40 mg , losartana 100 mg , atorvstatina 20 mg , omeprazol 20 mg .'], ['furosemida 40 mg', 'Em uso de : carvediol 6 , 25 mg , AAS 100 mg , furosemida 40 mg , losartana 100 mg , atorvstatina 20 mg , omeprazol 20 mg .'], ['losartana 100 mg', 'Em uso de : carvediol 6 , 25 mg , AAS 100 mg , furosemida 40 mg , losartana 100 mg , atorvstatina 20 mg , omeprazol 20 mg .'], ['atorvstatina 20 mg', 'Em uso de : carvediol 6 , 25 mg , AAS 100 mg , furosemida 40 mg , losartana 100 mg , atorvstatina 20 mg , omeprazol 20 mg .'], ['omeprazol 20 mg', 'Em uso de : carvediol 6 , 25 mg , AAS 100 mg , furosemida 40 mg , losartana 100 mg , atorvstatina 20 mg , omeprazol 20 mg .']]\n"
     ]
    },
    {
     "data": {
      "application/vnd.jupyter.widget-view+json": {
       "model_id": "0f78150c97e24c3aa959bcee03551007",
       "version_major": 2,
       "version_minor": 0
      },
      "text/plain": [
       "  0%|          | 0/6 [00:00<?, ?it/s]"
      ]
     },
     "metadata": {},
     "output_type": "display_data"
    },
    {
     "data": {
      "application/vnd.jupyter.widget-view+json": {
       "model_id": "c0338f24075a4ff496cd207a4a5442b3",
       "version_major": 2,
       "version_minor": 0
      },
      "text/plain": [
       "  0%|          | 0/1 [00:00<?, ?it/s]"
      ]
     },
     "metadata": {},
     "output_type": "display_data"
    },
    {
     "name": "stdout",
     "output_type": "stream",
     "text": [
      "predictions: [1 1 1 1 1 1]\n",
      "lista: [['dispnéia', 'Paciente relata dispnéia e cansaço aos minimos esforços .'], ['cansaço aos minimos esforços', 'Paciente relata dispnéia e cansaço aos minimos esforços .']]\n"
     ]
    },
    {
     "data": {
      "application/vnd.jupyter.widget-view+json": {
       "model_id": "d7d18eb043e84c5ab921e50cd174405e",
       "version_major": 2,
       "version_minor": 0
      },
      "text/plain": [
       "  0%|          | 0/2 [00:00<?, ?it/s]"
      ]
     },
     "metadata": {},
     "output_type": "display_data"
    },
    {
     "data": {
      "application/vnd.jupyter.widget-view+json": {
       "model_id": "76525855bea04dc8bbd32ab28ddec63a",
       "version_major": 2,
       "version_minor": 0
      },
      "text/plain": [
       "  0%|          | 0/1 [00:00<?, ?it/s]"
      ]
     },
     "metadata": {},
     "output_type": "display_data"
    },
    {
     "name": "stdout",
     "output_type": "stream",
     "text": [
      "predictions: [0 0]\n",
      "lista: [['parestesias em pé direito', 'Paciente relata parestesias em pé direito , dores musculares na panturrilha .'], ['dores musculares na panturrilha', 'Paciente relata parestesias em pé direito , dores musculares na panturrilha .'], ['musculares na panturrilha', 'Paciente relata parestesias em pé direito , dores musculares na panturrilha .']]\n"
     ]
    },
    {
     "data": {
      "application/vnd.jupyter.widget-view+json": {
       "model_id": "984f48cad0984f07942b7312aaa27c60",
       "version_major": 2,
       "version_minor": 0
      },
      "text/plain": [
       "  0%|          | 0/3 [00:00<?, ?it/s]"
      ]
     },
     "metadata": {},
     "output_type": "display_data"
    },
    {
     "data": {
      "application/vnd.jupyter.widget-view+json": {
       "model_id": "a24e3d0ca0ac4675a5cfdb970a035967",
       "version_major": 2,
       "version_minor": 0
      },
      "text/plain": [
       "  0%|          | 0/1 [00:00<?, ?it/s]"
      ]
     },
     "metadata": {},
     "output_type": "display_data"
    },
    {
     "name": "stdout",
     "output_type": "stream",
     "text": [
      "predictions: [0 0 3]\n",
      "lista: [['Comorbidades', 'Comorbidades : HAS , ICC , dislipidemia .'], ['HAS', 'Comorbidades : HAS , ICC , dislipidemia .'], ['ICC', 'Comorbidades : HAS , ICC , dislipidemia .'], ['dislipidemia', 'Comorbidades : HAS , ICC , dislipidemia .']]\n"
     ]
    },
    {
     "data": {
      "application/vnd.jupyter.widget-view+json": {
       "model_id": "095a4a04ca4b479db1211073a769fd6e",
       "version_major": 2,
       "version_minor": 0
      },
      "text/plain": [
       "  0%|          | 0/4 [00:00<?, ?it/s]"
      ]
     },
     "metadata": {},
     "output_type": "display_data"
    },
    {
     "data": {
      "application/vnd.jupyter.widget-view+json": {
       "model_id": "2d249bc64983441a9d8ac8ee859a8997",
       "version_major": 2,
       "version_minor": 0
      },
      "text/plain": [
       "  0%|          | 0/1 [00:00<?, ?it/s]"
      ]
     },
     "metadata": {},
     "output_type": "display_data"
    },
    {
     "name": "stdout",
     "output_type": "stream",
     "text": [
      "predictions: [0 0 0 0]\n",
      "lista: [['2 CATs', 'Eventos : 2 CATs e 3 angioplastias .']]\n"
     ]
    },
    {
     "data": {
      "application/vnd.jupyter.widget-view+json": {
       "model_id": "3dd1d45996924e9b8706d9741d33e1fa",
       "version_major": 2,
       "version_minor": 0
      },
      "text/plain": [
       "  0%|          | 0/1 [00:00<?, ?it/s]"
      ]
     },
     "metadata": {},
     "output_type": "display_data"
    },
    {
     "data": {
      "application/vnd.jupyter.widget-view+json": {
       "model_id": "1c7bbd0a5e5e49d480c473e63ca0ccca",
       "version_major": 2,
       "version_minor": 0
      },
      "text/plain": [
       "  0%|          | 0/1 [00:00<?, ?it/s]"
      ]
     },
     "metadata": {},
     "output_type": "display_data"
    },
    {
     "name": "stdout",
     "output_type": "stream",
     "text": [
      "predictions: [1]\n",
      "lista: [['sinvastatina', 'Na ultima consulta foi trocada sinvastatina por atorvastatina mas o paciente continua em uso de sinvastatina .'], ['atorvastatina', 'Na ultima consulta foi trocada sinvastatina por atorvastatina mas o paciente continua em uso de sinvastatina .'], ['sinvastatina', 'Na ultima consulta foi trocada sinvastatina por atorvastatina mas o paciente continua em uso de sinvastatina .']]\n"
     ]
    },
    {
     "data": {
      "application/vnd.jupyter.widget-view+json": {
       "model_id": "b0be1f92a287484290b0460e49336f93",
       "version_major": 2,
       "version_minor": 0
      },
      "text/plain": [
       "  0%|          | 0/3 [00:00<?, ?it/s]"
      ]
     },
     "metadata": {},
     "output_type": "display_data"
    },
    {
     "data": {
      "application/vnd.jupyter.widget-view+json": {
       "model_id": "ac45c2d15a934ad09ee2ea80318f227d",
       "version_major": 2,
       "version_minor": 0
      },
      "text/plain": [
       "  0%|          | 0/1 [00:00<?, ?it/s]"
      ]
     },
     "metadata": {},
     "output_type": "display_data"
    },
    {
     "name": "stdout",
     "output_type": "stream",
     "text": [
      "predictions: [1 1 1]\n",
      "lista: [['exames', 'Paciente nao traz exames .']]\n"
     ]
    },
    {
     "data": {
      "application/vnd.jupyter.widget-view+json": {
       "model_id": "02e7c94f1f0640c694ca9868bb6e955d",
       "version_major": 2,
       "version_minor": 0
      },
      "text/plain": [
       "  0%|          | 0/1 [00:00<?, ?it/s]"
      ]
     },
     "metadata": {},
     "output_type": "display_data"
    },
    {
     "data": {
      "application/vnd.jupyter.widget-view+json": {
       "model_id": "c28cb6abf92144a7a67c103687e3bc7f",
       "version_major": 2,
       "version_minor": 0
      },
      "text/plain": [
       "  0%|          | 0/1 [00:00<?, ?it/s]"
      ]
     },
     "metadata": {},
     "output_type": "display_data"
    },
    {
     "name": "stdout",
     "output_type": "stream",
     "text": [
      "predictions: [2]\n",
      "lista: [['EF', 'EF : .']]\n"
     ]
    },
    {
     "data": {
      "application/vnd.jupyter.widget-view+json": {
       "model_id": "21e5ca28ff1644cba460a8b86be69615",
       "version_major": 2,
       "version_minor": 0
      },
      "text/plain": [
       "  0%|          | 0/1 [00:00<?, ?it/s]"
      ]
     },
     "metadata": {},
     "output_type": "display_data"
    },
    {
     "data": {
      "application/vnd.jupyter.widget-view+json": {
       "model_id": "08235dd037314d6c87a566915944cf87",
       "version_major": 2,
       "version_minor": 0
      },
      "text/plain": [
       "  0%|          | 0/1 [00:00<?, ?it/s]"
      ]
     },
     "metadata": {},
     "output_type": "display_data"
    },
    {
     "name": "stdout",
     "output_type": "stream",
     "text": [
      "predictions: [2]\n",
      "lista: [['PA', 'PA : 120 / 80 mmhg .']]\n"
     ]
    },
    {
     "data": {
      "application/vnd.jupyter.widget-view+json": {
       "model_id": "e7e4940344504728b87802a32056d54b",
       "version_major": 2,
       "version_minor": 0
      },
      "text/plain": [
       "  0%|          | 0/1 [00:00<?, ?it/s]"
      ]
     },
     "metadata": {},
     "output_type": "display_data"
    },
    {
     "data": {
      "application/vnd.jupyter.widget-view+json": {
       "model_id": "32bd7c2baa5344e5884e4ddb0b275bc4",
       "version_major": 2,
       "version_minor": 0
      },
      "text/plain": [
       "  0%|          | 0/1 [00:00<?, ?it/s]"
      ]
     },
     "metadata": {},
     "output_type": "display_data"
    },
    {
     "name": "stdout",
     "output_type": "stream",
     "text": [
      "predictions: [2]\n",
      "lista: [['Pulso MMII pedioso poplíteo e femoral', 'Pulso MMII pedioso poplíteo e femoral presentes .'], ['Pulso MMII pedioso', 'Pulso MMII pedioso poplíteo e femoral presentes .'], ['MMII pedioso poplíteo', 'Pulso MMII pedioso poplíteo e femoral presentes .'], ['Pulso MMII pedioso poplíteo', 'Pulso MMII pedioso poplíteo e femoral presentes .'], ['MMII pedioso poplíteo e', 'Pulso MMII pedioso poplíteo e femoral presentes .'], ['Pulso MMII pedioso poplíteo e', 'Pulso MMII pedioso poplíteo e femoral presentes .'], ['MMII pedioso poplíteo e femoral', 'Pulso MMII pedioso poplíteo e femoral presentes .']]\n"
     ]
    },
    {
     "data": {
      "application/vnd.jupyter.widget-view+json": {
       "model_id": "77d97276d9e94ffcb44d56133023d357",
       "version_major": 2,
       "version_minor": 0
      },
      "text/plain": [
       "  0%|          | 0/7 [00:00<?, ?it/s]"
      ]
     },
     "metadata": {},
     "output_type": "display_data"
    },
    {
     "data": {
      "application/vnd.jupyter.widget-view+json": {
       "model_id": "fec721afaa274f9ba08e59e4ce3c7c19",
       "version_major": 2,
       "version_minor": 0
      },
      "text/plain": [
       "  0%|          | 0/1 [00:00<?, ?it/s]"
      ]
     },
     "metadata": {},
     "output_type": "display_data"
    },
    {
     "name": "stdout",
     "output_type": "stream",
     "text": [
      "predictions: [0 0 3 0 3 0 3]\n",
      "lista: [['sinvastatina', 'Conduta : troco sinvastatina por atorvastatina e solicito exames de sangue ( CT , LDL , HDL , TG ) ; mantenho as demais medicações .'], ['atorvastatina', 'Conduta : troco sinvastatina por atorvastatina e solicito exames de sangue ( CT , LDL , HDL , TG ) ; mantenho as demais medicações .'], ['exames de sangue', 'Conduta : troco sinvastatina por atorvastatina e solicito exames de sangue ( CT , LDL , HDL , TG ) ; mantenho as demais medicações .'], ['CT', 'Conduta : troco sinvastatina por atorvastatina e solicito exames de sangue ( CT , LDL , HDL , TG ) ; mantenho as demais medicações .'], ['LDL', 'Conduta : troco sinvastatina por atorvastatina e solicito exames de sangue ( CT , LDL , HDL , TG ) ; mantenho as demais medicações .'], ['HDL', 'Conduta : troco sinvastatina por atorvastatina e solicito exames de sangue ( CT , LDL , HDL , TG ) ; mantenho as demais medicações .'], ['TG', 'Conduta : troco sinvastatina por atorvastatina e solicito exames de sangue ( CT , LDL , HDL , TG ) ; mantenho as demais medicações .'], ['demais medicações', 'Conduta : troco sinvastatina por atorvastatina e solicito exames de sangue ( CT , LDL , HDL , TG ) ; mantenho as demais medicações .'], ['medicações', 'Conduta : troco sinvastatina por atorvastatina e solicito exames de sangue ( CT , LDL , HDL , TG ) ; mantenho as demais medicações .']]\n"
     ]
    },
    {
     "data": {
      "application/vnd.jupyter.widget-view+json": {
       "model_id": "e8e02cab006f44f0b7bcc1040e2041b9",
       "version_major": 2,
       "version_minor": 0
      },
      "text/plain": [
       "  0%|          | 0/9 [00:00<?, ?it/s]"
      ]
     },
     "metadata": {},
     "output_type": "display_data"
    },
    {
     "data": {
      "application/vnd.jupyter.widget-view+json": {
       "model_id": "c24ddd285a3d4a88be0b339bbe6c87b4",
       "version_major": 2,
       "version_minor": 0
      },
      "text/plain": [
       "  0%|          | 0/2 [00:00<?, ?it/s]"
      ]
     },
     "metadata": {},
     "output_type": "display_data"
    },
    {
     "name": "stdout",
     "output_type": "stream",
     "text": [
      "predictions: [1 1 2 2 2 2 2 1 1]\n",
      "lista: [['HAS', '# HAS .']]\n"
     ]
    },
    {
     "data": {
      "application/vnd.jupyter.widget-view+json": {
       "model_id": "8ae488a9c3d24dc2b4287c797580874d",
       "version_major": 2,
       "version_minor": 0
      },
      "text/plain": [
       "  0%|          | 0/1 [00:00<?, ?it/s]"
      ]
     },
     "metadata": {},
     "output_type": "display_data"
    },
    {
     "data": {
      "application/vnd.jupyter.widget-view+json": {
       "model_id": "36b2073fed354ce8a0d0f4526d518fd4",
       "version_major": 2,
       "version_minor": 0
      },
      "text/plain": [
       "  0%|          | 0/1 [00:00<?, ?it/s]"
      ]
     },
     "metadata": {},
     "output_type": "display_data"
    },
    {
     "name": "stdout",
     "output_type": "stream",
     "text": [
      "predictions: [0]\n",
      "lista: [['IC', '# IC .']]\n"
     ]
    },
    {
     "data": {
      "application/vnd.jupyter.widget-view+json": {
       "model_id": "3b722829a6dc4de89d989bcbc5f88090",
       "version_major": 2,
       "version_minor": 0
      },
      "text/plain": [
       "  0%|          | 0/1 [00:00<?, ?it/s]"
      ]
     },
     "metadata": {},
     "output_type": "display_data"
    },
    {
     "data": {
      "application/vnd.jupyter.widget-view+json": {
       "model_id": "dff22c684aa548ea903f0e084c789546",
       "version_major": 2,
       "version_minor": 0
      },
      "text/plain": [
       "  0%|          | 0/1 [00:00<?, ?it/s]"
      ]
     },
     "metadata": {},
     "output_type": "display_data"
    },
    {
     "name": "stdout",
     "output_type": "stream",
     "text": [
      "predictions: [0]\n",
      "lista: [['HIPOTIREOIDISMO', '# HIPOTIREOIDISMO .']]\n"
     ]
    },
    {
     "data": {
      "application/vnd.jupyter.widget-view+json": {
       "model_id": "f45f734093b040fb9966485198736014",
       "version_major": 2,
       "version_minor": 0
      },
      "text/plain": [
       "  0%|          | 0/1 [00:00<?, ?it/s]"
      ]
     },
     "metadata": {},
     "output_type": "display_data"
    },
    {
     "data": {
      "application/vnd.jupyter.widget-view+json": {
       "model_id": "e8c47eb98a5e495facb23e57ce7c761a",
       "version_major": 2,
       "version_minor": 0
      },
      "text/plain": [
       "  0%|          | 0/1 [00:00<?, ?it/s]"
      ]
     },
     "metadata": {},
     "output_type": "display_data"
    },
    {
     "name": "stdout",
     "output_type": "stream",
     "text": [
      "predictions: [0]\n",
      "lista: [['MIOCARDIOPATIA DILATADA', '# MIOCARDIOPATIA DILATADA .']]\n"
     ]
    },
    {
     "data": {
      "application/vnd.jupyter.widget-view+json": {
       "model_id": "142e9366fff94797afe5efa93f1d99b7",
       "version_major": 2,
       "version_minor": 0
      },
      "text/plain": [
       "  0%|          | 0/1 [00:00<?, ?it/s]"
      ]
     },
     "metadata": {},
     "output_type": "display_data"
    },
    {
     "data": {
      "application/vnd.jupyter.widget-view+json": {
       "model_id": "640d9eaa320446eab3cf4c12a7b42519",
       "version_major": 2,
       "version_minor": 0
      },
      "text/plain": [
       "  0%|          | 0/1 [00:00<?, ?it/s]"
      ]
     },
     "metadata": {},
     "output_type": "display_data"
    },
    {
     "name": "stdout",
     "output_type": "stream",
     "text": [
      "predictions: [0]\n",
      "lista: [['RESSINCRONIZADOR', '# IMPLANTE DE RESSINCRONIZADOR / DESFIBRILADOR EM MAIO / 2012 .'], ['DESFIBRILADOR', '# IMPLANTE DE RESSINCRONIZADOR / DESFIBRILADOR EM MAIO / 2012 .']]\n"
     ]
    },
    {
     "data": {
      "application/vnd.jupyter.widget-view+json": {
       "model_id": "a447a7c5ccd74dcd90c357552a92ffb9",
       "version_major": 2,
       "version_minor": 0
      },
      "text/plain": [
       "  0%|          | 0/2 [00:00<?, ?it/s]"
      ]
     },
     "metadata": {},
     "output_type": "display_data"
    },
    {
     "data": {
      "application/vnd.jupyter.widget-view+json": {
       "model_id": "07501bee5183451b90d1175de304dbdb",
       "version_major": 2,
       "version_minor": 0
      },
      "text/plain": [
       "  0%|          | 0/1 [00:00<?, ?it/s]"
      ]
     },
     "metadata": {},
     "output_type": "display_data"
    },
    {
     "name": "stdout",
     "output_type": "stream",
     "text": [
      "predictions: [1 0]\n",
      "lista: [['DEPRESSÃO', '# DEPRESSÃO .']]\n"
     ]
    },
    {
     "data": {
      "application/vnd.jupyter.widget-view+json": {
       "model_id": "d153cd71641b4af9b3e9b8f92b750108",
       "version_major": 2,
       "version_minor": 0
      },
      "text/plain": [
       "  0%|          | 0/1 [00:00<?, ?it/s]"
      ]
     },
     "metadata": {},
     "output_type": "display_data"
    },
    {
     "data": {
      "application/vnd.jupyter.widget-view+json": {
       "model_id": "63c6d65d6b0945a3a02292920dd1ba2e",
       "version_major": 2,
       "version_minor": 0
      },
      "text/plain": [
       "  0%|          | 0/1 [00:00<?, ?it/s]"
      ]
     },
     "metadata": {},
     "output_type": "display_data"
    },
    {
     "name": "stdout",
     "output_type": "stream",
     "text": [
      "predictions: [0]\n",
      "lista: [['CARVEDILOL 50 MG', 'EM USO : CARVEDILOL 50 MG 2X / D + MONONITRATO DE ISOSSORBITA 20 MG 2X / D + ANCORON ( AMIODARONA ) 200 MG 2X / D + ESPIRONOLACTONA 25 MG / D + FUROSEMIDA 40 MG 2X / D + LOSARTAN 50 MG 2X / D + DIGOXINA 0 , 25 MG / D + SINVASTATINA 40 MG / D + LEVOTIROXINA 50 MCG / D + RIVOTRIL 2 MG / D + CITALOPRAM 20MG 3X / DIA .'], ['ANCORON ( AMIODARONA ) 200 MG', 'EM USO : CARVEDILOL 50 MG 2X / D + MONONITRATO DE ISOSSORBITA 20 MG 2X / D + ANCORON ( AMIODARONA ) 200 MG 2X / D + ESPIRONOLACTONA 25 MG / D + FUROSEMIDA 40 MG 2X / D + LOSARTAN 50 MG 2X / D + DIGOXINA 0 , 25 MG / D + SINVASTATINA 40 MG / D + LEVOTIROXINA 50 MCG / D + RIVOTRIL 2 MG / D + CITALOPRAM 20MG 3X / DIA .'], ['ANCORON', 'EM USO : CARVEDILOL 50 MG 2X / D + MONONITRATO DE ISOSSORBITA 20 MG 2X / D + ANCORON ( AMIODARONA ) 200 MG 2X / D + ESPIRONOLACTONA 25 MG / D + FUROSEMIDA 40 MG 2X / D + LOSARTAN 50 MG 2X / D + DIGOXINA 0 , 25 MG / D + SINVASTATINA 40 MG / D + LEVOTIROXINA 50 MCG / D + RIVOTRIL 2 MG / D + CITALOPRAM 20MG 3X / DIA .'], ['ANCORON ( AMIODARONA', 'EM USO : CARVEDILOL 50 MG 2X / D + MONONITRATO DE ISOSSORBITA 20 MG 2X / D + ANCORON ( AMIODARONA ) 200 MG 2X / D + ESPIRONOLACTONA 25 MG / D + FUROSEMIDA 40 MG 2X / D + LOSARTAN 50 MG 2X / D + DIGOXINA 0 , 25 MG / D + SINVASTATINA 40 MG / D + LEVOTIROXINA 50 MCG / D + RIVOTRIL 2 MG / D + CITALOPRAM 20MG 3X / DIA .'], ['ESPIRONOLACTONA 25 MG', 'EM USO : CARVEDILOL 50 MG 2X / D + MONONITRATO DE ISOSSORBITA 20 MG 2X / D + ANCORON ( AMIODARONA ) 200 MG 2X / D + ESPIRONOLACTONA 25 MG / D + FUROSEMIDA 40 MG 2X / D + LOSARTAN 50 MG 2X / D + DIGOXINA 0 , 25 MG / D + SINVASTATINA 40 MG / D + LEVOTIROXINA 50 MCG / D + RIVOTRIL 2 MG / D + CITALOPRAM 20MG 3X / DIA .'], ['FUROSEMIDA 40 MG', 'EM USO : CARVEDILOL 50 MG 2X / D + MONONITRATO DE ISOSSORBITA 20 MG 2X / D + ANCORON ( AMIODARONA ) 200 MG 2X / D + ESPIRONOLACTONA 25 MG / D + FUROSEMIDA 40 MG 2X / D + LOSARTAN 50 MG 2X / D + DIGOXINA 0 , 25 MG / D + SINVASTATINA 40 MG / D + LEVOTIROXINA 50 MCG / D + RIVOTRIL 2 MG / D + CITALOPRAM 20MG 3X / DIA .'], ['LOSARTAN 50 MG', 'EM USO : CARVEDILOL 50 MG 2X / D + MONONITRATO DE ISOSSORBITA 20 MG 2X / D + ANCORON ( AMIODARONA ) 200 MG 2X / D + ESPIRONOLACTONA 25 MG / D + FUROSEMIDA 40 MG 2X / D + LOSARTAN 50 MG 2X / D + DIGOXINA 0 , 25 MG / D + SINVASTATINA 40 MG / D + LEVOTIROXINA 50 MCG / D + RIVOTRIL 2 MG / D + CITALOPRAM 20MG 3X / DIA .'], ['SINVASTATINA 40 MG', 'EM USO : CARVEDILOL 50 MG 2X / D + MONONITRATO DE ISOSSORBITA 20 MG 2X / D + ANCORON ( AMIODARONA ) 200 MG 2X / D + ESPIRONOLACTONA 25 MG / D + FUROSEMIDA 40 MG 2X / D + LOSARTAN 50 MG 2X / D + DIGOXINA 0 , 25 MG / D + SINVASTATINA 40 MG / D + LEVOTIROXINA 50 MCG / D + RIVOTRIL 2 MG / D + CITALOPRAM 20MG 3X / DIA .'], ['LEVOTIROXINA 50 MCG', 'EM USO : CARVEDILOL 50 MG 2X / D + MONONITRATO DE ISOSSORBITA 20 MG 2X / D + ANCORON ( AMIODARONA ) 200 MG 2X / D + ESPIRONOLACTONA 25 MG / D + FUROSEMIDA 40 MG 2X / D + LOSARTAN 50 MG 2X / D + DIGOXINA 0 , 25 MG / D + SINVASTATINA 40 MG / D + LEVOTIROXINA 50 MCG / D + RIVOTRIL 2 MG / D + CITALOPRAM 20MG 3X / DIA .']]\n"
     ]
    },
    {
     "data": {
      "application/vnd.jupyter.widget-view+json": {
       "model_id": "7c9b405cd5d0459d95c098a282866dd8",
       "version_major": 2,
       "version_minor": 0
      },
      "text/plain": [
       "  0%|          | 0/9 [00:00<?, ?it/s]"
      ]
     },
     "metadata": {},
     "output_type": "display_data"
    },
    {
     "data": {
      "application/vnd.jupyter.widget-view+json": {
       "model_id": "dc4f7ebda70843539fd8a47e3893c2c2",
       "version_major": 2,
       "version_minor": 0
      },
      "text/plain": [
       "  0%|          | 0/2 [00:00<?, ?it/s]"
      ]
     },
     "metadata": {},
     "output_type": "display_data"
    },
    {
     "name": "stdout",
     "output_type": "stream",
     "text": [
      "predictions: [1 1 1 1 1 1 1 1 1]\n",
      "lista: [['DOR PRECORDIAL LEVE A MODERADA DO TIPO QUEIMAÇÃO', 'REFERE DOR PRECORDIAL LEVE A MODERADA DO TIPO QUEIMAÇÃO , SEM IRRADIAÇÃO , SEM PIORA AOS ESFORÇOS .'], ['PIORA AOS ESFORÇOS', 'REFERE DOR PRECORDIAL LEVE A MODERADA DO TIPO QUEIMAÇÃO , SEM IRRADIAÇÃO , SEM PIORA AOS ESFORÇOS .']]\n"
     ]
    },
    {
     "data": {
      "application/vnd.jupyter.widget-view+json": {
       "model_id": "0cb2605fea3b4fb3924f965806119a1b",
       "version_major": 2,
       "version_minor": 0
      },
      "text/plain": [
       "  0%|          | 0/2 [00:00<?, ?it/s]"
      ]
     },
     "metadata": {},
     "output_type": "display_data"
    },
    {
     "data": {
      "application/vnd.jupyter.widget-view+json": {
       "model_id": "d897470f57cc49d4b2de2ffac35f45d3",
       "version_major": 2,
       "version_minor": 0
      },
      "text/plain": [
       "  0%|          | 0/1 [00:00<?, ?it/s]"
      ]
     },
     "metadata": {},
     "output_type": "display_data"
    },
    {
     "name": "stdout",
     "output_type": "stream",
     "text": [
      "predictions: [0 0]\n",
      "lista: [['DISPNEIA', 'DISPNEIA , MAL ESTAR E FADIGA AO SUBIR ESCADAS , ANDAR RÁPIDO .'], ['FADIGA AO SUBIR ESCADAS', 'DISPNEIA , MAL ESTAR E FADIGA AO SUBIR ESCADAS , ANDAR RÁPIDO .']]\n"
     ]
    },
    {
     "data": {
      "application/vnd.jupyter.widget-view+json": {
       "model_id": "fe2ce7f6e8474e429c0c1e36e8a2e759",
       "version_major": 2,
       "version_minor": 0
      },
      "text/plain": [
       "  0%|          | 0/2 [00:00<?, ?it/s]"
      ]
     },
     "metadata": {},
     "output_type": "display_data"
    },
    {
     "data": {
      "application/vnd.jupyter.widget-view+json": {
       "model_id": "4ab1575858e748e7879c14f1e5f21631",
       "version_major": 2,
       "version_minor": 0
      },
      "text/plain": [
       "  0%|          | 0/1 [00:00<?, ?it/s]"
      ]
     },
     "metadata": {},
     "output_type": "display_data"
    },
    {
     "name": "stdout",
     "output_type": "stream",
     "text": [
      "predictions: [0 0]\n",
      "lista: [['ORTOPNEIA', 'NEGA ORTOPNEIA E DPN .'], ['DPN', 'NEGA ORTOPNEIA E DPN .']]\n"
     ]
    },
    {
     "data": {
      "application/vnd.jupyter.widget-view+json": {
       "model_id": "9dd56f20bcaf4a77aa8068a97767b673",
       "version_major": 2,
       "version_minor": 0
      },
      "text/plain": [
       "  0%|          | 0/2 [00:00<?, ?it/s]"
      ]
     },
     "metadata": {},
     "output_type": "display_data"
    },
    {
     "data": {
      "application/vnd.jupyter.widget-view+json": {
       "model_id": "7305bc3d10f44d6cbfb474f541166abb",
       "version_major": 2,
       "version_minor": 0
      },
      "text/plain": [
       "  0%|          | 0/1 [00:00<?, ?it/s]"
      ]
     },
     "metadata": {},
     "output_type": "display_data"
    },
    {
     "name": "stdout",
     "output_type": "stream",
     "text": [
      "predictions: [0 0]\n",
      "lista: [['TOSSE', 'NEGA TOSSE E EDEMA .'], ['EDEMA', 'NEGA TOSSE E EDEMA .']]\n"
     ]
    },
    {
     "data": {
      "application/vnd.jupyter.widget-view+json": {
       "model_id": "06fcac298bed4c3bb87132fd5b9d3114",
       "version_major": 2,
       "version_minor": 0
      },
      "text/plain": [
       "  0%|          | 0/2 [00:00<?, ?it/s]"
      ]
     },
     "metadata": {},
     "output_type": "display_data"
    },
    {
     "data": {
      "application/vnd.jupyter.widget-view+json": {
       "model_id": "4d65bb6d1e9849e3a0867a12ce77dca1",
       "version_major": 2,
       "version_minor": 0
      },
      "text/plain": [
       "  0%|          | 0/1 [00:00<?, ?it/s]"
      ]
     },
     "metadata": {},
     "output_type": "display_data"
    },
    {
     "name": "stdout",
     "output_type": "stream",
     "text": [
      "predictions: [0 0]\n",
      "lista: [['MP', 'HÁ 2 ANOS NÃO FAZ REVISÃO DO MP .']]\n"
     ]
    },
    {
     "data": {
      "application/vnd.jupyter.widget-view+json": {
       "model_id": "e2576b461bde4a46a2b463752ccb2a5c",
       "version_major": 2,
       "version_minor": 0
      },
      "text/plain": [
       "  0%|          | 0/1 [00:00<?, ?it/s]"
      ]
     },
     "metadata": {},
     "output_type": "display_data"
    },
    {
     "data": {
      "application/vnd.jupyter.widget-view+json": {
       "model_id": "4965a8417c404500874997d031f5fb56",
       "version_major": 2,
       "version_minor": 0
      },
      "text/plain": [
       "  0%|          | 0/1 [00:00<?, ?it/s]"
      ]
     },
     "metadata": {},
     "output_type": "display_data"
    },
    {
     "name": "stdout",
     "output_type": "stream",
     "text": [
      "predictions: [1]\n",
      "lista: [['CESAREA', '1 CESAREA PRÉVIA , LIPOASPIRAÇÃO .'], ['LIPOASPIRAÇÃO', '1 CESAREA PRÉVIA , LIPOASPIRAÇÃO .']]\n"
     ]
    },
    {
     "data": {
      "application/vnd.jupyter.widget-view+json": {
       "model_id": "46c7c9a4438149ada87411934516d4c8",
       "version_major": 2,
       "version_minor": 0
      },
      "text/plain": [
       "  0%|          | 0/2 [00:00<?, ?it/s]"
      ]
     },
     "metadata": {},
     "output_type": "display_data"
    },
    {
     "data": {
      "application/vnd.jupyter.widget-view+json": {
       "model_id": "ac8e532967484c5aaa9d42d3810827e8",
       "version_major": 2,
       "version_minor": 0
      },
      "text/plain": [
       "  0%|          | 0/1 [00:00<?, ?it/s]"
      ]
     },
     "metadata": {},
     "output_type": "display_data"
    },
    {
     "name": "stdout",
     "output_type": "stream",
     "text": [
      "predictions: [0 0]\n",
      "lista: [['ALERGIAS', 'NEGA ALERGIAS .']]\n"
     ]
    },
    {
     "data": {
      "application/vnd.jupyter.widget-view+json": {
       "model_id": "cd39a6630e9f459298fb970ee48887d1",
       "version_major": 2,
       "version_minor": 0
      },
      "text/plain": [
       "  0%|          | 0/1 [00:00<?, ?it/s]"
      ]
     },
     "metadata": {},
     "output_type": "display_data"
    },
    {
     "data": {
      "application/vnd.jupyter.widget-view+json": {
       "model_id": "fe94e4a14a844995bded5e82d3f863da",
       "version_major": 2,
       "version_minor": 0
      },
      "text/plain": [
       "  0%|          | 0/1 [00:00<?, ?it/s]"
      ]
     },
     "metadata": {},
     "output_type": "display_data"
    },
    {
     "name": "stdout",
     "output_type": "stream",
     "text": [
      "predictions: [0]\n",
      "lista: [['CATETERISMOS', 'JÁ REALIZOU 3 CATETERISMOS , CINTILOGRAFIA E EXAMES PARA DOENÇA DE CHAGAS .'], ['CINTILOGRAFIA', 'JÁ REALIZOU 3 CATETERISMOS , CINTILOGRAFIA E EXAMES PARA DOENÇA DE CHAGAS .'], ['CHAGAS', 'JÁ REALIZOU 3 CATETERISMOS , CINTILOGRAFIA E EXAMES PARA DOENÇA DE CHAGAS .']]\n"
     ]
    },
    {
     "data": {
      "application/vnd.jupyter.widget-view+json": {
       "model_id": "be9267c91bc4495db466076aa6e40acb",
       "version_major": 2,
       "version_minor": 0
      },
      "text/plain": [
       "  0%|          | 0/3 [00:00<?, ?it/s]"
      ]
     },
     "metadata": {},
     "output_type": "display_data"
    },
    {
     "data": {
      "application/vnd.jupyter.widget-view+json": {
       "model_id": "f6da2ae57b3a447ebd21a604c6f25f4e",
       "version_major": 2,
       "version_minor": 0
      },
      "text/plain": [
       "  0%|          | 0/1 [00:00<?, ?it/s]"
      ]
     },
     "metadata": {},
     "output_type": "display_data"
    },
    {
     "name": "stdout",
     "output_type": "stream",
     "text": [
      "predictions: [2 2 0]\n",
      "lista: [['CHDV', '# CHDV .']]\n"
     ]
    },
    {
     "data": {
      "application/vnd.jupyter.widget-view+json": {
       "model_id": "d0329c9fceab49e59ce9384cfd43ec37",
       "version_major": 2,
       "version_minor": 0
      },
      "text/plain": [
       "  0%|          | 0/1 [00:00<?, ?it/s]"
      ]
     },
     "metadata": {},
     "output_type": "display_data"
    },
    {
     "data": {
      "application/vnd.jupyter.widget-view+json": {
       "model_id": "9640ac9dda7145b99c0bf84043a99e05",
       "version_major": 2,
       "version_minor": 0
      },
      "text/plain": [
       "  0%|          | 0/1 [00:00<?, ?it/s]"
      ]
     },
     "metadata": {},
     "output_type": "display_data"
    },
    {
     "name": "stdout",
     "output_type": "stream",
     "text": [
      "predictions: [0]\n",
      "lista: [['TABAGISMO', 'NEGA TABAGISMO , NEGA ETILISMO , NEGA EXERCÍCIO FÍSICO .'], ['ETILISMO', 'NEGA TABAGISMO , NEGA ETILISMO , NEGA EXERCÍCIO FÍSICO .'], ['EXERCÍCIO FÍSICO', 'NEGA TABAGISMO , NEGA ETILISMO , NEGA EXERCÍCIO FÍSICO .']]\n"
     ]
    },
    {
     "data": {
      "application/vnd.jupyter.widget-view+json": {
       "model_id": "80130aafae0a4c72bfcbe34c49308c8e",
       "version_major": 2,
       "version_minor": 0
      },
      "text/plain": [
       "  0%|          | 0/3 [00:00<?, ?it/s]"
      ]
     },
     "metadata": {},
     "output_type": "display_data"
    },
    {
     "data": {
      "application/vnd.jupyter.widget-view+json": {
       "model_id": "45bd449241a44e668e715371e7d03963",
       "version_major": 2,
       "version_minor": 0
      },
      "text/plain": [
       "  0%|          | 0/1 [00:00<?, ?it/s]"
      ]
     },
     "metadata": {},
     "output_type": "display_data"
    },
    {
     "name": "stdout",
     "output_type": "stream",
     "text": [
      "predictions: [0 0 0]\n",
      "lista: [['EXAMES', 'EXAMES : .']]\n"
     ]
    },
    {
     "data": {
      "application/vnd.jupyter.widget-view+json": {
       "model_id": "3d41f15bf8ec4a4c850e8f06789ddc7a",
       "version_major": 2,
       "version_minor": 0
      },
      "text/plain": [
       "  0%|          | 0/1 [00:00<?, ?it/s]"
      ]
     },
     "metadata": {},
     "output_type": "display_data"
    },
    {
     "data": {
      "application/vnd.jupyter.widget-view+json": {
       "model_id": "41765500f2f54cccbb7b697fdd974f00",
       "version_major": 2,
       "version_minor": 0
      },
      "text/plain": [
       "  0%|          | 0/1 [00:00<?, ?it/s]"
      ]
     },
     "metadata": {},
     "output_type": "display_data"
    },
    {
     "name": "stdout",
     "output_type": "stream",
     "text": [
      "predictions: [2]\n",
      "lista: [['HB', 'HB 14 , 7 .']]\n"
     ]
    },
    {
     "data": {
      "application/vnd.jupyter.widget-view+json": {
       "model_id": "d8d2bdcfdfac4ad48e851bbebd8a2bb0",
       "version_major": 2,
       "version_minor": 0
      },
      "text/plain": [
       "  0%|          | 0/1 [00:00<?, ?it/s]"
      ]
     },
     "metadata": {},
     "output_type": "display_data"
    },
    {
     "data": {
      "application/vnd.jupyter.widget-view+json": {
       "model_id": "d5efb22fec9a43cc8aef6ad191f19cc4",
       "version_major": 2,
       "version_minor": 0
      },
      "text/plain": [
       "  0%|          | 0/1 [00:00<?, ?it/s]"
      ]
     },
     "metadata": {},
     "output_type": "display_data"
    },
    {
     "name": "stdout",
     "output_type": "stream",
     "text": [
      "predictions: [2]\n",
      "lista: [['HT', 'HT 43 , 9 % .']]\n"
     ]
    },
    {
     "data": {
      "application/vnd.jupyter.widget-view+json": {
       "model_id": "2c537110748044538a7c157880adf622",
       "version_major": 2,
       "version_minor": 0
      },
      "text/plain": [
       "  0%|          | 0/1 [00:00<?, ?it/s]"
      ]
     },
     "metadata": {},
     "output_type": "display_data"
    },
    {
     "data": {
      "application/vnd.jupyter.widget-view+json": {
       "model_id": "c9dbf9941ee74e3ba898514ab59cd1e0",
       "version_major": 2,
       "version_minor": 0
      },
      "text/plain": [
       "  0%|          | 0/1 [00:00<?, ?it/s]"
      ]
     },
     "metadata": {},
     "output_type": "display_data"
    },
    {
     "name": "stdout",
     "output_type": "stream",
     "text": [
      "predictions: [2]\n",
      "lista: [['CREATININA', 'CREATININA 0 , 8 .']]\n"
     ]
    },
    {
     "data": {
      "application/vnd.jupyter.widget-view+json": {
       "model_id": "1396edcf6fde4f67a0f21b2883048fce",
       "version_major": 2,
       "version_minor": 0
      },
      "text/plain": [
       "  0%|          | 0/1 [00:00<?, ?it/s]"
      ]
     },
     "metadata": {},
     "output_type": "display_data"
    },
    {
     "data": {
      "application/vnd.jupyter.widget-view+json": {
       "model_id": "db5741a472a74e9eb301f9bca933a197",
       "version_major": 2,
       "version_minor": 0
      },
      "text/plain": [
       "  0%|          | 0/1 [00:00<?, ?it/s]"
      ]
     },
     "metadata": {},
     "output_type": "display_data"
    },
    {
     "name": "stdout",
     "output_type": "stream",
     "text": [
      "predictions: [2]\n",
      "lista: [['GLICOSE', 'GLICOSE 87 .']]\n"
     ]
    },
    {
     "data": {
      "application/vnd.jupyter.widget-view+json": {
       "model_id": "d05e91978a9c43eeba18b1d77ce1af97",
       "version_major": 2,
       "version_minor": 0
      },
      "text/plain": [
       "  0%|          | 0/1 [00:00<?, ?it/s]"
      ]
     },
     "metadata": {},
     "output_type": "display_data"
    },
    {
     "data": {
      "application/vnd.jupyter.widget-view+json": {
       "model_id": "5558e4781d964714ae8e1e9ff3bc18ed",
       "version_major": 2,
       "version_minor": 0
      },
      "text/plain": [
       "  0%|          | 0/1 [00:00<?, ?it/s]"
      ]
     },
     "metadata": {},
     "output_type": "display_data"
    },
    {
     "name": "stdout",
     "output_type": "stream",
     "text": [
      "predictions: [2]\n",
      "lista: [['UREIA', 'UREIA 48 48 .']]\n"
     ]
    },
    {
     "data": {
      "application/vnd.jupyter.widget-view+json": {
       "model_id": "2f92838334e249baae5229139ab7b956",
       "version_major": 2,
       "version_minor": 0
      },
      "text/plain": [
       "  0%|          | 0/1 [00:00<?, ?it/s]"
      ]
     },
     "metadata": {},
     "output_type": "display_data"
    },
    {
     "data": {
      "application/vnd.jupyter.widget-view+json": {
       "model_id": "392145a3bf56408ea64fcbfadd95a6ad",
       "version_major": 2,
       "version_minor": 0
      },
      "text/plain": [
       "  0%|          | 0/1 [00:00<?, ?it/s]"
      ]
     },
     "metadata": {},
     "output_type": "display_data"
    },
    {
     "name": "stdout",
     "output_type": "stream",
     "text": [
      "predictions: [2]\n",
      "lista: [['HDL', 'HDL 28 .']]\n"
     ]
    },
    {
     "data": {
      "application/vnd.jupyter.widget-view+json": {
       "model_id": "920555610fc642f085219521afef3d35",
       "version_major": 2,
       "version_minor": 0
      },
      "text/plain": [
       "  0%|          | 0/1 [00:00<?, ?it/s]"
      ]
     },
     "metadata": {},
     "output_type": "display_data"
    },
    {
     "data": {
      "application/vnd.jupyter.widget-view+json": {
       "model_id": "8932333d8d8c4a9ebf9d967e6e995b99",
       "version_major": 2,
       "version_minor": 0
      },
      "text/plain": [
       "  0%|          | 0/1 [00:00<?, ?it/s]"
      ]
     },
     "metadata": {},
     "output_type": "display_data"
    },
    {
     "name": "stdout",
     "output_type": "stream",
     "text": [
      "predictions: [2]\n",
      "lista: [['SODIO', 'SODIO 139 .']]\n"
     ]
    },
    {
     "data": {
      "application/vnd.jupyter.widget-view+json": {
       "model_id": "b880ba0b992c4677bc525e069e99d232",
       "version_major": 2,
       "version_minor": 0
      },
      "text/plain": [
       "  0%|          | 0/1 [00:00<?, ?it/s]"
      ]
     },
     "metadata": {},
     "output_type": "display_data"
    },
    {
     "data": {
      "application/vnd.jupyter.widget-view+json": {
       "model_id": "b7391eec86f94aaa8e2281fec475fcc4",
       "version_major": 2,
       "version_minor": 0
      },
      "text/plain": [
       "  0%|          | 0/1 [00:00<?, ?it/s]"
      ]
     },
     "metadata": {},
     "output_type": "display_data"
    },
    {
     "name": "stdout",
     "output_type": "stream",
     "text": [
      "predictions: [2]\n",
      "lista: [['POTASSIO', 'POTASSIO 4 , 8 .']]\n"
     ]
    },
    {
     "data": {
      "application/vnd.jupyter.widget-view+json": {
       "model_id": "2d7a3e574fae4d5583af37487f9f4ac5",
       "version_major": 2,
       "version_minor": 0
      },
      "text/plain": [
       "  0%|          | 0/1 [00:00<?, ?it/s]"
      ]
     },
     "metadata": {},
     "output_type": "display_data"
    },
    {
     "data": {
      "application/vnd.jupyter.widget-view+json": {
       "model_id": "a9589f0379fa4f6ba8449c65b3f57b3b",
       "version_major": 2,
       "version_minor": 0
      },
      "text/plain": [
       "  0%|          | 0/1 [00:00<?, ?it/s]"
      ]
     },
     "metadata": {},
     "output_type": "display_data"
    },
    {
     "name": "stdout",
     "output_type": "stream",
     "text": [
      "predictions: [2]\n",
      "lista: [['COLESTEROL TOTAL', 'COLESTEROL TOTAL 268 .']]\n"
     ]
    },
    {
     "data": {
      "application/vnd.jupyter.widget-view+json": {
       "model_id": "0132fac7230b407ba87ccca17da8ec66",
       "version_major": 2,
       "version_minor": 0
      },
      "text/plain": [
       "  0%|          | 0/1 [00:00<?, ?it/s]"
      ]
     },
     "metadata": {},
     "output_type": "display_data"
    },
    {
     "data": {
      "application/vnd.jupyter.widget-view+json": {
       "model_id": "3534a92aedb54e1b9416ec8053250f6d",
       "version_major": 2,
       "version_minor": 0
      },
      "text/plain": [
       "  0%|          | 0/1 [00:00<?, ?it/s]"
      ]
     },
     "metadata": {},
     "output_type": "display_data"
    },
    {
     "name": "stdout",
     "output_type": "stream",
     "text": [
      "predictions: [2]\n",
      "lista: [['TSH', 'TSH 5 , 87 .']]\n"
     ]
    },
    {
     "data": {
      "application/vnd.jupyter.widget-view+json": {
       "model_id": "be6fc20b01cf4a6f9ddf0e5fce89ffd4",
       "version_major": 2,
       "version_minor": 0
      },
      "text/plain": [
       "  0%|          | 0/1 [00:00<?, ?it/s]"
      ]
     },
     "metadata": {},
     "output_type": "display_data"
    },
    {
     "data": {
      "application/vnd.jupyter.widget-view+json": {
       "model_id": "58bd4d0704464a96ad37eefec4107948",
       "version_major": 2,
       "version_minor": 0
      },
      "text/plain": [
       "  0%|          | 0/1 [00:00<?, ?it/s]"
      ]
     },
     "metadata": {},
     "output_type": "display_data"
    },
    {
     "name": "stdout",
     "output_type": "stream",
     "text": [
      "predictions: [2]\n",
      "lista: [['T4 LIVRE', 'T4 LIVRE 0 , 86 .']]\n"
     ]
    },
    {
     "data": {
      "application/vnd.jupyter.widget-view+json": {
       "model_id": "cee620ef31774cb5bf25daca7f12e775",
       "version_major": 2,
       "version_minor": 0
      },
      "text/plain": [
       "  0%|          | 0/1 [00:00<?, ?it/s]"
      ]
     },
     "metadata": {},
     "output_type": "display_data"
    },
    {
     "data": {
      "application/vnd.jupyter.widget-view+json": {
       "model_id": "98321a16ed7b41f3a99f7f551c3adc67",
       "version_major": 2,
       "version_minor": 0
      },
      "text/plain": [
       "  0%|          | 0/1 [00:00<?, ?it/s]"
      ]
     },
     "metadata": {},
     "output_type": "display_data"
    },
    {
     "name": "stdout",
     "output_type": "stream",
     "text": [
      "predictions: [2]\n",
      "lista: [['TRIGLICERIDEOS', 'TRIGLICERIDEOS 626 .']]\n"
     ]
    },
    {
     "data": {
      "application/vnd.jupyter.widget-view+json": {
       "model_id": "3507be83c2474166b3d77cf816dbdc78",
       "version_major": 2,
       "version_minor": 0
      },
      "text/plain": [
       "  0%|          | 0/1 [00:00<?, ?it/s]"
      ]
     },
     "metadata": {},
     "output_type": "display_data"
    },
    {
     "data": {
      "application/vnd.jupyter.widget-view+json": {
       "model_id": "54dbac9a8c7d420e80795c7ddc062c54",
       "version_major": 2,
       "version_minor": 0
      },
      "text/plain": [
       "  0%|          | 0/1 [00:00<?, ?it/s]"
      ]
     },
     "metadata": {},
     "output_type": "display_data"
    },
    {
     "name": "stdout",
     "output_type": "stream",
     "text": [
      "predictions: [2]\n",
      "lista: [['STRESS', 'STRESS FARMACOLOGICO COM DIPIRIDAMOL : ECOCARDIOGRAMA DE STRESS FARMACOLOGICO SEM EVIDENCIA DE ISQUEMIA MIOCÁRDICA .'], ['DIPIRIDAMOL', 'STRESS FARMACOLOGICO COM DIPIRIDAMOL : ECOCARDIOGRAMA DE STRESS FARMACOLOGICO SEM EVIDENCIA DE ISQUEMIA MIOCÁRDICA .'], ['ISQUEMIA MIOCÁRDICA', 'STRESS FARMACOLOGICO COM DIPIRIDAMOL : ECOCARDIOGRAMA DE STRESS FARMACOLOGICO SEM EVIDENCIA DE ISQUEMIA MIOCÁRDICA .'], ['MIOCÁRDICA', 'STRESS FARMACOLOGICO COM DIPIRIDAMOL : ECOCARDIOGRAMA DE STRESS FARMACOLOGICO SEM EVIDENCIA DE ISQUEMIA MIOCÁRDICA .']]\n"
     ]
    },
    {
     "data": {
      "application/vnd.jupyter.widget-view+json": {
       "model_id": "33efd5370589414ba3f0c05617a545a4",
       "version_major": 2,
       "version_minor": 0
      },
      "text/plain": [
       "  0%|          | 0/4 [00:00<?, ?it/s]"
      ]
     },
     "metadata": {},
     "output_type": "display_data"
    },
    {
     "data": {
      "application/vnd.jupyter.widget-view+json": {
       "model_id": "f17979c0373e40888c0110cdb4f51b54",
       "version_major": 2,
       "version_minor": 0
      },
      "text/plain": [
       "  0%|          | 0/1 [00:00<?, ?it/s]"
      ]
     },
     "metadata": {},
     "output_type": "display_data"
    },
    {
     "name": "stdout",
     "output_type": "stream",
     "text": [
      "predictions: [0 1 0 3]\n",
      "lista: [['LEVOTIROXINA PARA 100 MCG', 'CONDUTA : AUMENTO DA DOSE DE LEVOTIROXINA PARA 100 MCG , CIPROFIBRATO 100MG 1X / DIA , FUROSEMIDA SE FALTA DE AR , SINVASTATINA PARA 40MG , HIDRALAZINA 25MG DE 8 / 8H .'], ['100 MCG', 'CONDUTA : AUMENTO DA DOSE DE LEVOTIROXINA PARA 100 MCG , CIPROFIBRATO 100MG 1X / DIA , FUROSEMIDA SE FALTA DE AR , SINVASTATINA PARA 40MG , HIDRALAZINA 25MG DE 8 / 8H .'], ['LEVOTIROXINA PARA 100', 'CONDUTA : AUMENTO DA DOSE DE LEVOTIROXINA PARA 100 MCG , CIPROFIBRATO 100MG 1X / DIA , FUROSEMIDA SE FALTA DE AR , SINVASTATINA PARA 40MG , HIDRALAZINA 25MG DE 8 / 8H .'], ['PARA 100 MCG', 'CONDUTA : AUMENTO DA DOSE DE LEVOTIROXINA PARA 100 MCG , CIPROFIBRATO 100MG 1X / DIA , FUROSEMIDA SE FALTA DE AR , SINVASTATINA PARA 40MG , HIDRALAZINA 25MG DE 8 / 8H .'], ['CIPROFIBRATO 100MG', 'CONDUTA : AUMENTO DA DOSE DE LEVOTIROXINA PARA 100 MCG , CIPROFIBRATO 100MG 1X / DIA , FUROSEMIDA SE FALTA DE AR , SINVASTATINA PARA 40MG , HIDRALAZINA 25MG DE 8 / 8H .'], ['FUROSEMIDA', 'CONDUTA : AUMENTO DA DOSE DE LEVOTIROXINA PARA 100 MCG , CIPROFIBRATO 100MG 1X / DIA , FUROSEMIDA SE FALTA DE AR , SINVASTATINA PARA 40MG , HIDRALAZINA 25MG DE 8 / 8H .'], ['SINVASTATINA PARA 40MG', 'CONDUTA : AUMENTO DA DOSE DE LEVOTIROXINA PARA 100 MCG , CIPROFIBRATO 100MG 1X / DIA , FUROSEMIDA SE FALTA DE AR , SINVASTATINA PARA 40MG , HIDRALAZINA 25MG DE 8 / 8H .'], ['SINVASTATINA', 'CONDUTA : AUMENTO DA DOSE DE LEVOTIROXINA PARA 100 MCG , CIPROFIBRATO 100MG 1X / DIA , FUROSEMIDA SE FALTA DE AR , SINVASTATINA PARA 40MG , HIDRALAZINA 25MG DE 8 / 8H .'], ['HIDRALAZINA 25MG', 'CONDUTA : AUMENTO DA DOSE DE LEVOTIROXINA PARA 100 MCG , CIPROFIBRATO 100MG 1X / DIA , FUROSEMIDA SE FALTA DE AR , SINVASTATINA PARA 40MG , HIDRALAZINA 25MG DE 8 / 8H .']]\n"
     ]
    },
    {
     "data": {
      "application/vnd.jupyter.widget-view+json": {
       "model_id": "ade4dd7e493e435491f56de8ea5a8e95",
       "version_major": 2,
       "version_minor": 0
      },
      "text/plain": [
       "  0%|          | 0/9 [00:00<?, ?it/s]"
      ]
     },
     "metadata": {},
     "output_type": "display_data"
    },
    {
     "data": {
      "application/vnd.jupyter.widget-view+json": {
       "model_id": "e3a46086454646d88441de50e7b675ef",
       "version_major": 2,
       "version_minor": 0
      },
      "text/plain": [
       "  0%|          | 0/2 [00:00<?, ?it/s]"
      ]
     },
     "metadata": {},
     "output_type": "display_data"
    },
    {
     "name": "stdout",
     "output_type": "stream",
     "text": [
      "predictions: [1 1 1 1 1 1 1 1 1]\n",
      "lista: [['EXAMES', 'EXAMES DE TSH , T4 LIVRE , CK , TGO E TGP E PERFIL LIPIDICO .'], ['TSH', 'EXAMES DE TSH , T4 LIVRE , CK , TGO E TGP E PERFIL LIPIDICO .'], ['T4', 'EXAMES DE TSH , T4 LIVRE , CK , TGO E TGP E PERFIL LIPIDICO .'], ['CK', 'EXAMES DE TSH , T4 LIVRE , CK , TGO E TGP E PERFIL LIPIDICO .'], ['TGO', 'EXAMES DE TSH , T4 LIVRE , CK , TGO E TGP E PERFIL LIPIDICO .'], ['TGP', 'EXAMES DE TSH , T4 LIVRE , CK , TGO E TGP E PERFIL LIPIDICO .']]\n"
     ]
    },
    {
     "data": {
      "application/vnd.jupyter.widget-view+json": {
       "model_id": "657bca5e5ab743869a073abdb96c0659",
       "version_major": 2,
       "version_minor": 0
      },
      "text/plain": [
       "  0%|          | 0/6 [00:00<?, ?it/s]"
      ]
     },
     "metadata": {},
     "output_type": "display_data"
    },
    {
     "data": {
      "application/vnd.jupyter.widget-view+json": {
       "model_id": "e51e5e348f384c04b8609e4f90e8d2a0",
       "version_major": 2,
       "version_minor": 0
      },
      "text/plain": [
       "  0%|          | 0/1 [00:00<?, ?it/s]"
      ]
     },
     "metadata": {},
     "output_type": "display_data"
    },
    {
     "name": "stdout",
     "output_type": "stream",
     "text": [
      "predictions: [2 2 2 2 2 2]\n",
      "lista: [['HAS', '# HAS HÁ 10 ANOS .']]\n"
     ]
    },
    {
     "data": {
      "application/vnd.jupyter.widget-view+json": {
       "model_id": "2114564cfa214cae9eca5c38eba7c470",
       "version_major": 2,
       "version_minor": 0
      },
      "text/plain": [
       "  0%|          | 0/1 [00:00<?, ?it/s]"
      ]
     },
     "metadata": {},
     "output_type": "display_data"
    },
    {
     "data": {
      "application/vnd.jupyter.widget-view+json": {
       "model_id": "b9b1a9970467453ca70c45e47b9a1f4e",
       "version_major": 2,
       "version_minor": 0
      },
      "text/plain": [
       "  0%|          | 0/1 [00:00<?, ?it/s]"
      ]
     },
     "metadata": {},
     "output_type": "display_data"
    },
    {
     "name": "stdout",
     "output_type": "stream",
     "text": [
      "predictions: [0]\n",
      "lista: [['DSLP', '# DSLP .']]\n"
     ]
    },
    {
     "data": {
      "application/vnd.jupyter.widget-view+json": {
       "model_id": "dcec3f47820c4a4c9891f74f60448858",
       "version_major": 2,
       "version_minor": 0
      },
      "text/plain": [
       "  0%|          | 0/1 [00:00<?, ?it/s]"
      ]
     },
     "metadata": {},
     "output_type": "display_data"
    },
    {
     "data": {
      "application/vnd.jupyter.widget-view+json": {
       "model_id": "56b9c099c24148f9bafadbd71c7aa6dd",
       "version_major": 2,
       "version_minor": 0
      },
      "text/plain": [
       "  0%|          | 0/1 [00:00<?, ?it/s]"
      ]
     },
     "metadata": {},
     "output_type": "display_data"
    },
    {
     "name": "stdout",
     "output_type": "stream",
     "text": [
      "predictions: [0]\n",
      "lista: [['HIPOTIREOIDISMO', '# HIPOTIREOIDISMO .']]\n"
     ]
    },
    {
     "data": {
      "application/vnd.jupyter.widget-view+json": {
       "model_id": "1b37984ce7a944709a77291d6f190244",
       "version_major": 2,
       "version_minor": 0
      },
      "text/plain": [
       "  0%|          | 0/1 [00:00<?, ?it/s]"
      ]
     },
     "metadata": {},
     "output_type": "display_data"
    },
    {
     "data": {
      "application/vnd.jupyter.widget-view+json": {
       "model_id": "cb376b97bd194157adbf95b4d8de3f70",
       "version_major": 2,
       "version_minor": 0
      },
      "text/plain": [
       "  0%|          | 0/1 [00:00<?, ?it/s]"
      ]
     },
     "metadata": {},
     "output_type": "display_data"
    },
    {
     "name": "stdout",
     "output_type": "stream",
     "text": [
      "predictions: [0]\n",
      "lista: [['DEPRESSÃO', '# DEPRESSÃO .']]\n"
     ]
    },
    {
     "data": {
      "application/vnd.jupyter.widget-view+json": {
       "model_id": "04a605eecd9c4d6e83d59617df4c0fe4",
       "version_major": 2,
       "version_minor": 0
      },
      "text/plain": [
       "  0%|          | 0/1 [00:00<?, ?it/s]"
      ]
     },
     "metadata": {},
     "output_type": "display_data"
    },
    {
     "data": {
      "application/vnd.jupyter.widget-view+json": {
       "model_id": "bf1217e3f4214d879cb3635cfa9b0dbb",
       "version_major": 2,
       "version_minor": 0
      },
      "text/plain": [
       "  0%|          | 0/1 [00:00<?, ?it/s]"
      ]
     },
     "metadata": {},
     "output_type": "display_data"
    },
    {
     "name": "stdout",
     "output_type": "stream",
     "text": [
      "predictions: [0]\n",
      "lista: [['OSTEOARTRITE DE MÃOS', '# OSTEOARTRITE DE MÃOS .']]\n"
     ]
    },
    {
     "data": {
      "application/vnd.jupyter.widget-view+json": {
       "model_id": "65b4d432c6ab42dfb122fc29f552ba13",
       "version_major": 2,
       "version_minor": 0
      },
      "text/plain": [
       "  0%|          | 0/1 [00:00<?, ?it/s]"
      ]
     },
     "metadata": {},
     "output_type": "display_data"
    },
    {
     "data": {
      "application/vnd.jupyter.widget-view+json": {
       "model_id": "91d62f46b2f247ff81a47130f27b6d7f",
       "version_major": 2,
       "version_minor": 0
      },
      "text/plain": [
       "  0%|          | 0/1 [00:00<?, ?it/s]"
      ]
     },
     "metadata": {},
     "output_type": "display_data"
    },
    {
     "name": "stdout",
     "output_type": "stream",
     "text": [
      "predictions: [0]\n",
      "lista: [['CAT', '# CAT EM JUNHO / 2011 : SEM INDICAÇÃO CIRÚRGICA .']]\n"
     ]
    },
    {
     "data": {
      "application/vnd.jupyter.widget-view+json": {
       "model_id": "4b14760d45a64643a648e4e2160b7c69",
       "version_major": 2,
       "version_minor": 0
      },
      "text/plain": [
       "  0%|          | 0/1 [00:00<?, ?it/s]"
      ]
     },
     "metadata": {},
     "output_type": "display_data"
    },
    {
     "data": {
      "application/vnd.jupyter.widget-view+json": {
       "model_id": "027232d0060b4a5b811c68fdbf0004eb",
       "version_major": 2,
       "version_minor": 0
      },
      "text/plain": [
       "  0%|          | 0/1 [00:00<?, ?it/s]"
      ]
     },
     "metadata": {},
     "output_type": "display_data"
    },
    {
     "name": "stdout",
     "output_type": "stream",
     "text": [
      "predictions: [2]\n",
      "lista: [['HÉRNIA DE DISCO', '# HÉRNIA DE DISCO HÁ 3 ANOS .']]\n"
     ]
    },
    {
     "data": {
      "application/vnd.jupyter.widget-view+json": {
       "model_id": "1440fc9a1b704377b7b1633df71aac49",
       "version_major": 2,
       "version_minor": 0
      },
      "text/plain": [
       "  0%|          | 0/1 [00:00<?, ?it/s]"
      ]
     },
     "metadata": {},
     "output_type": "display_data"
    },
    {
     "data": {
      "application/vnd.jupyter.widget-view+json": {
       "model_id": "8c67099a6efd4994b268397d0e99dd43",
       "version_major": 2,
       "version_minor": 0
      },
      "text/plain": [
       "  0%|          | 0/1 [00:00<?, ?it/s]"
      ]
     },
     "metadata": {},
     "output_type": "display_data"
    },
    {
     "name": "stdout",
     "output_type": "stream",
     "text": [
      "predictions: [0]\n",
      "lista: [['CINTILOGRAFIA MIOCÁRDICA', '# CINTILOGRAFIA MIOCÁRDICA COM DIPIRIDAMOL EM 2011 : HIPOCAPTAÇÃO APICAL , DO SEGMENTO ANTERIOR ( TRANSITÓRIO ) E BASAL DO SEGMENTO ANTERO - SEPTAL .'], ['MIOCÁRDICA', '# CINTILOGRAFIA MIOCÁRDICA COM DIPIRIDAMOL EM 2011 : HIPOCAPTAÇÃO APICAL , DO SEGMENTO ANTERIOR ( TRANSITÓRIO ) E BASAL DO SEGMENTO ANTERO - SEPTAL .'], ['DIPIRIDAMOL', '# CINTILOGRAFIA MIOCÁRDICA COM DIPIRIDAMOL EM 2011 : HIPOCAPTAÇÃO APICAL , DO SEGMENTO ANTERIOR ( TRANSITÓRIO ) E BASAL DO SEGMENTO ANTERO - SEPTAL .']]\n"
     ]
    },
    {
     "data": {
      "application/vnd.jupyter.widget-view+json": {
       "model_id": "38b9494ebb73442297a411576f75bc72",
       "version_major": 2,
       "version_minor": 0
      },
      "text/plain": [
       "  0%|          | 0/3 [00:00<?, ?it/s]"
      ]
     },
     "metadata": {},
     "output_type": "display_data"
    },
    {
     "data": {
      "application/vnd.jupyter.widget-view+json": {
       "model_id": "15af540b1619462b9b6380a173e7e633",
       "version_major": 2,
       "version_minor": 0
      },
      "text/plain": [
       "  0%|          | 0/1 [00:00<?, ?it/s]"
      ]
     },
     "metadata": {},
     "output_type": "display_data"
    },
    {
     "name": "stdout",
     "output_type": "stream",
     "text": [
      "predictions: [2 3 1]\n",
      "lista: [['FLUOXETINA 20MG', '# EM USO : FLUOXETINA 20MG / D ; ENALAPRIL 10MG 12 / 12H ; AAS 100MG / D ; CARVEDILOL 12 , 5MG 12 / 12H ; HCTZ 25MG / D ; SUSTRATE 10MG SN ; SINVASTATINA 40MG / D ; LEVOTIROXINA 25UCG / D ; HIDROXICLOROQUINA 400MG / D ; .'], ['ENALAPRIL 10MG', '# EM USO : FLUOXETINA 20MG / D ; ENALAPRIL 10MG 12 / 12H ; AAS 100MG / D ; CARVEDILOL 12 , 5MG 12 / 12H ; HCTZ 25MG / D ; SUSTRATE 10MG SN ; SINVASTATINA 40MG / D ; LEVOTIROXINA 25UCG / D ; HIDROXICLOROQUINA 400MG / D ; .'], ['AAS 100MG', '# EM USO : FLUOXETINA 20MG / D ; ENALAPRIL 10MG 12 / 12H ; AAS 100MG / D ; CARVEDILOL 12 , 5MG 12 / 12H ; HCTZ 25MG / D ; SUSTRATE 10MG SN ; SINVASTATINA 40MG / D ; LEVOTIROXINA 25UCG / D ; HIDROXICLOROQUINA 400MG / D ; .'], ['CARVEDILOL 12 , 5MG', '# EM USO : FLUOXETINA 20MG / D ; ENALAPRIL 10MG 12 / 12H ; AAS 100MG / D ; CARVEDILOL 12 , 5MG 12 / 12H ; HCTZ 25MG / D ; SUSTRATE 10MG SN ; SINVASTATINA 40MG / D ; LEVOTIROXINA 25UCG / D ; HIDROXICLOROQUINA 400MG / D ; .'], ['HCTZ 25MG', '# EM USO : FLUOXETINA 20MG / D ; ENALAPRIL 10MG 12 / 12H ; AAS 100MG / D ; CARVEDILOL 12 , 5MG 12 / 12H ; HCTZ 25MG / D ; SUSTRATE 10MG SN ; SINVASTATINA 40MG / D ; LEVOTIROXINA 25UCG / D ; HIDROXICLOROQUINA 400MG / D ; .'], ['SUSTRATE 10MG', '# EM USO : FLUOXETINA 20MG / D ; ENALAPRIL 10MG 12 / 12H ; AAS 100MG / D ; CARVEDILOL 12 , 5MG 12 / 12H ; HCTZ 25MG / D ; SUSTRATE 10MG SN ; SINVASTATINA 40MG / D ; LEVOTIROXINA 25UCG / D ; HIDROXICLOROQUINA 400MG / D ; .'], ['SINVASTATINA 40MG', '# EM USO : FLUOXETINA 20MG / D ; ENALAPRIL 10MG 12 / 12H ; AAS 100MG / D ; CARVEDILOL 12 , 5MG 12 / 12H ; HCTZ 25MG / D ; SUSTRATE 10MG SN ; SINVASTATINA 40MG / D ; LEVOTIROXINA 25UCG / D ; HIDROXICLOROQUINA 400MG / D ; .'], ['LEVOTIROXINA 25UCG', '# EM USO : FLUOXETINA 20MG / D ; ENALAPRIL 10MG 12 / 12H ; AAS 100MG / D ; CARVEDILOL 12 , 5MG 12 / 12H ; HCTZ 25MG / D ; SUSTRATE 10MG SN ; SINVASTATINA 40MG / D ; LEVOTIROXINA 25UCG / D ; HIDROXICLOROQUINA 400MG / D ; .'], ['HIDROXICLOROQUINA 400MG', '# EM USO : FLUOXETINA 20MG / D ; ENALAPRIL 10MG 12 / 12H ; AAS 100MG / D ; CARVEDILOL 12 , 5MG 12 / 12H ; HCTZ 25MG / D ; SUSTRATE 10MG SN ; SINVASTATINA 40MG / D ; LEVOTIROXINA 25UCG / D ; HIDROXICLOROQUINA 400MG / D ; .']]\n"
     ]
    },
    {
     "data": {
      "application/vnd.jupyter.widget-view+json": {
       "model_id": "18ca421a76534515957f424e17683260",
       "version_major": 2,
       "version_minor": 0
      },
      "text/plain": [
       "  0%|          | 0/9 [00:00<?, ?it/s]"
      ]
     },
     "metadata": {},
     "output_type": "display_data"
    },
    {
     "data": {
      "application/vnd.jupyter.widget-view+json": {
       "model_id": "d010d85ed4f44d15937212211ad6d65a",
       "version_major": 2,
       "version_minor": 0
      },
      "text/plain": [
       "  0%|          | 0/2 [00:00<?, ?it/s]"
      ]
     },
     "metadata": {},
     "output_type": "display_data"
    },
    {
     "name": "stdout",
     "output_type": "stream",
     "text": [
      "predictions: [1 1 1 1 1 1 1 1 1]\n",
      "lista: [['LAB', 'LAB 08 / 04 / 15 : TG 144 / HDL 50 / CT 178 / LDL 99 / .'], ['TG', 'LAB 08 / 04 / 15 : TG 144 / HDL 50 / CT 178 / LDL 99 / .'], ['HDL', 'LAB 08 / 04 / 15 : TG 144 / HDL 50 / CT 178 / LDL 99 / .'], ['CT', 'LAB 08 / 04 / 15 : TG 144 / HDL 50 / CT 178 / LDL 99 / .'], ['LDL', 'LAB 08 / 04 / 15 : TG 144 / HDL 50 / CT 178 / LDL 99 / .']]\n"
     ]
    },
    {
     "data": {
      "application/vnd.jupyter.widget-view+json": {
       "model_id": "90716f7c635f4eda812af7d3603ff909",
       "version_major": 2,
       "version_minor": 0
      },
      "text/plain": [
       "  0%|          | 0/5 [00:00<?, ?it/s]"
      ]
     },
     "metadata": {},
     "output_type": "display_data"
    },
    {
     "data": {
      "application/vnd.jupyter.widget-view+json": {
       "model_id": "69c8ea2a7c444b48b55f8511aebb76b6",
       "version_major": 2,
       "version_minor": 0
      },
      "text/plain": [
       "  0%|          | 0/1 [00:00<?, ?it/s]"
      ]
     },
     "metadata": {},
     "output_type": "display_data"
    },
    {
     "name": "stdout",
     "output_type": "stream",
     "text": [
      "predictions: [2 2 2 2 2]\n",
      "lista: [['DOR TORÁCICA PRECORDIAL TIPO QUEIMAÇÃO', 'S # REFERE DOR TORÁCICA PRECORDIAL TIPO QUEIMAÇÃO , COM MELHORA AO USO DE NITRATO , SEM IRRADIAÇÃO , SEM RELAÇÃO COM O ESFORÇO , 2 EPISÓDIOS AO MÊS .'], ['DOR TORÁCICA PRECORDIAL TIPO', 'S # REFERE DOR TORÁCICA PRECORDIAL TIPO QUEIMAÇÃO , COM MELHORA AO USO DE NITRATO , SEM IRRADIAÇÃO , SEM RELAÇÃO COM O ESFORÇO , 2 EPISÓDIOS AO MÊS .'], ['TORÁCICA PRECORDIAL TIPO QUEIMAÇÃO', 'S # REFERE DOR TORÁCICA PRECORDIAL TIPO QUEIMAÇÃO , COM MELHORA AO USO DE NITRATO , SEM IRRADIAÇÃO , SEM RELAÇÃO COM O ESFORÇO , 2 EPISÓDIOS AO MÊS .'], ['NITRATO', 'S # REFERE DOR TORÁCICA PRECORDIAL TIPO QUEIMAÇÃO , COM MELHORA AO USO DE NITRATO , SEM IRRADIAÇÃO , SEM RELAÇÃO COM O ESFORÇO , 2 EPISÓDIOS AO MÊS .'], ['RELAÇÃO COM O ESFORÇO', 'S # REFERE DOR TORÁCICA PRECORDIAL TIPO QUEIMAÇÃO , COM MELHORA AO USO DE NITRATO , SEM IRRADIAÇÃO , SEM RELAÇÃO COM O ESFORÇO , 2 EPISÓDIOS AO MÊS .']]\n"
     ]
    },
    {
     "data": {
      "application/vnd.jupyter.widget-view+json": {
       "model_id": "59a8988d703246b0a4863d2fa6b69e9a",
       "version_major": 2,
       "version_minor": 0
      },
      "text/plain": [
       "  0%|          | 0/5 [00:00<?, ?it/s]"
      ]
     },
     "metadata": {},
     "output_type": "display_data"
    },
    {
     "data": {
      "application/vnd.jupyter.widget-view+json": {
       "model_id": "679e6f7a668c4836b1fe203b1358ba9a",
       "version_major": 2,
       "version_minor": 0
      },
      "text/plain": [
       "  0%|          | 0/1 [00:00<?, ?it/s]"
      ]
     },
     "metadata": {},
     "output_type": "display_data"
    },
    {
     "name": "stdout",
     "output_type": "stream",
     "text": [
      "predictions: [0 0 0 1 0]\n",
      "lista: [['DISPNÉIA', 'NEGA DISPNÉIA , ORTOPNEIA OU DPN .'], ['ORTOPNEIA', 'NEGA DISPNÉIA , ORTOPNEIA OU DPN .'], ['DPN', 'NEGA DISPNÉIA , ORTOPNEIA OU DPN .']]\n"
     ]
    },
    {
     "data": {
      "application/vnd.jupyter.widget-view+json": {
       "model_id": "9d2c3c9b647e46509284ca1b15185f6a",
       "version_major": 2,
       "version_minor": 0
      },
      "text/plain": [
       "  0%|          | 0/3 [00:00<?, ?it/s]"
      ]
     },
     "metadata": {},
     "output_type": "display_data"
    },
    {
     "data": {
      "application/vnd.jupyter.widget-view+json": {
       "model_id": "1d1076700b6c49f29822f498e6206365",
       "version_major": 2,
       "version_minor": 0
      },
      "text/plain": [
       "  0%|          | 0/1 [00:00<?, ?it/s]"
      ]
     },
     "metadata": {},
     "output_type": "display_data"
    },
    {
     "name": "stdout",
     "output_type": "stream",
     "text": [
      "predictions: [0 0 0]\n",
      "lista: [['EDEMA DE MMII', 'NEGA EDEMA DE MMII .'], ['DE MMII', 'NEGA EDEMA DE MMII .']]\n"
     ]
    },
    {
     "data": {
      "application/vnd.jupyter.widget-view+json": {
       "model_id": "8644dcc2cc7f45fd994ccfa7fad6c640",
       "version_major": 2,
       "version_minor": 0
      },
      "text/plain": [
       "  0%|          | 0/2 [00:00<?, ?it/s]"
      ]
     },
     "metadata": {},
     "output_type": "display_data"
    },
    {
     "data": {
      "application/vnd.jupyter.widget-view+json": {
       "model_id": "ca29a987ec8544019d6ccece255924f0",
       "version_major": 2,
       "version_minor": 0
      },
      "text/plain": [
       "  0%|          | 0/1 [00:00<?, ?it/s]"
      ]
     },
     "metadata": {},
     "output_type": "display_data"
    },
    {
     "name": "stdout",
     "output_type": "stream",
     "text": [
      "predictions: [0 3]\n",
      "lista: [['ARTRALGIAS DIFUSAS', 'CONTA APRESENTAR ARTRALGIAS DIFUSAS PIORES AO FRIO .'], ['FRIO', 'CONTA APRESENTAR ARTRALGIAS DIFUSAS PIORES AO FRIO .']]\n"
     ]
    },
    {
     "data": {
      "application/vnd.jupyter.widget-view+json": {
       "model_id": "957a2a5d919e4fdc960bf6d2070f8fc2",
       "version_major": 2,
       "version_minor": 0
      },
      "text/plain": [
       "  0%|          | 0/2 [00:00<?, ?it/s]"
      ]
     },
     "metadata": {},
     "output_type": "display_data"
    },
    {
     "data": {
      "application/vnd.jupyter.widget-view+json": {
       "model_id": "d4e4787c7ade4bee839e284574f968c9",
       "version_major": 2,
       "version_minor": 0
      },
      "text/plain": [
       "  0%|          | 0/1 [00:00<?, ?it/s]"
      ]
     },
     "metadata": {},
     "output_type": "display_data"
    },
    {
     "name": "stdout",
     "output_type": "stream",
     "text": [
      "predictions: [0 3]\n",
      "lista: [['PA', 'PA 120 / 70 ; FC 62 ; SATO2 98 % EM AA .'], ['FC', 'PA 120 / 70 ; FC 62 ; SATO2 98 % EM AA .'], ['SATO2', 'PA 120 / 70 ; FC 62 ; SATO2 98 % EM AA .']]\n"
     ]
    },
    {
     "data": {
      "application/vnd.jupyter.widget-view+json": {
       "model_id": "3311fb1a71a0421fb1ba340821bc3214",
       "version_major": 2,
       "version_minor": 0
      },
      "text/plain": [
       "  0%|          | 0/3 [00:00<?, ?it/s]"
      ]
     },
     "metadata": {},
     "output_type": "display_data"
    },
    {
     "data": {
      "application/vnd.jupyter.widget-view+json": {
       "model_id": "28673a9f71204177969e0d9c58808bd7",
       "version_major": 2,
       "version_minor": 0
      },
      "text/plain": [
       "  0%|          | 0/1 [00:00<?, ?it/s]"
      ]
     },
     "metadata": {},
     "output_type": "display_data"
    },
    {
     "name": "stdout",
     "output_type": "stream",
     "text": [
      "predictions: [2 2 2]\n",
      "lista: [['RA', 'MV PRESENTE E SIMÉTRICO SEM RA .']]\n"
     ]
    },
    {
     "data": {
      "application/vnd.jupyter.widget-view+json": {
       "model_id": "3354872720f24a1e9bbf89057b29294d",
       "version_major": 2,
       "version_minor": 0
      },
      "text/plain": [
       "  0%|          | 0/1 [00:00<?, ?it/s]"
      ]
     },
     "metadata": {},
     "output_type": "display_data"
    },
    {
     "data": {
      "application/vnd.jupyter.widget-view+json": {
       "model_id": "e67ac261594943b79bb12d403d9d287e",
       "version_major": 2,
       "version_minor": 0
      },
      "text/plain": [
       "  0%|          | 0/1 [00:00<?, ?it/s]"
      ]
     },
     "metadata": {},
     "output_type": "display_data"
    },
    {
     "name": "stdout",
     "output_type": "stream",
     "text": [
      "predictions: [0]\n",
      "lista: [['SOPROS', 'BCRNF SEM SOPROS EM 2T .']]\n"
     ]
    },
    {
     "data": {
      "application/vnd.jupyter.widget-view+json": {
       "model_id": "c1eb9f6e56d94105b84ababdbe432508",
       "version_major": 2,
       "version_minor": 0
      },
      "text/plain": [
       "  0%|          | 0/1 [00:00<?, ?it/s]"
      ]
     },
     "metadata": {},
     "output_type": "display_data"
    },
    {
     "data": {
      "application/vnd.jupyter.widget-view+json": {
       "model_id": "5ae701d8e7b8465ba211cd5ad70ce4fa",
       "version_major": 2,
       "version_minor": 0
      },
      "text/plain": [
       "  0%|          | 0/1 [00:00<?, ?it/s]"
      ]
     },
     "metadata": {},
     "output_type": "display_data"
    },
    {
     "name": "stdout",
     "output_type": "stream",
     "text": [
      "predictions: [0]\n",
      "lista: [['ABDOME', 'ABDOME GLOBOSO , FLÁCIDO , INDOLOR , SEM VCM OU MASSAS PALPAVEIS .'], ['VCM', 'ABDOME GLOBOSO , FLÁCIDO , INDOLOR , SEM VCM OU MASSAS PALPAVEIS .'], ['MASSAS PALPAVEIS', 'ABDOME GLOBOSO , FLÁCIDO , INDOLOR , SEM VCM OU MASSAS PALPAVEIS .'], ['MASSAS', 'ABDOME GLOBOSO , FLÁCIDO , INDOLOR , SEM VCM OU MASSAS PALPAVEIS .'], ['PALPAVEIS', 'ABDOME GLOBOSO , FLÁCIDO , INDOLOR , SEM VCM OU MASSAS PALPAVEIS .']]\n"
     ]
    },
    {
     "data": {
      "application/vnd.jupyter.widget-view+json": {
       "model_id": "c10c30e907bd470eb5eeac97473ecc23",
       "version_major": 2,
       "version_minor": 0
      },
      "text/plain": [
       "  0%|          | 0/5 [00:00<?, ?it/s]"
      ]
     },
     "metadata": {},
     "output_type": "display_data"
    },
    {
     "data": {
      "application/vnd.jupyter.widget-view+json": {
       "model_id": "24f7e53356c64f1f8592f4e1aede6ec4",
       "version_major": 2,
       "version_minor": 0
      },
      "text/plain": [
       "  0%|          | 0/1 [00:00<?, ?it/s]"
      ]
     },
     "metadata": {},
     "output_type": "display_data"
    },
    {
     "name": "stdout",
     "output_type": "stream",
     "text": [
      "predictions: [3 0 0 0 0]\n",
      "lista: [['MMII', 'MMII SEM EDEMA OU EMPASTAMENTO .'], ['EDEMA', 'MMII SEM EDEMA OU EMPASTAMENTO .'], ['EMPASTAMENTO', 'MMII SEM EDEMA OU EMPASTAMENTO .']]\n"
     ]
    },
    {
     "data": {
      "application/vnd.jupyter.widget-view+json": {
       "model_id": "0abb89ce84974b42872160569b36dd66",
       "version_major": 2,
       "version_minor": 0
      },
      "text/plain": [
       "  0%|          | 0/3 [00:00<?, ?it/s]"
      ]
     },
     "metadata": {},
     "output_type": "display_data"
    },
    {
     "data": {
      "application/vnd.jupyter.widget-view+json": {
       "model_id": "3f64d543543f4632a5e1bc86d0c3f2a2",
       "version_major": 2,
       "version_minor": 0
      },
      "text/plain": [
       "  0%|          | 0/1 [00:00<?, ?it/s]"
      ]
     },
     "metadata": {},
     "output_type": "display_data"
    },
    {
     "name": "stdout",
     "output_type": "stream",
     "text": [
      "predictions: [3 0 0]\n",
      "lista: [['ANGINA INSTÁVEL', '- ANGINA INSTÁVEL ? .']]\n"
     ]
    },
    {
     "data": {
      "application/vnd.jupyter.widget-view+json": {
       "model_id": "4d18deb4f3e24248a4fe3af432fa3a43",
       "version_major": 2,
       "version_minor": 0
      },
      "text/plain": [
       "  0%|          | 0/1 [00:00<?, ?it/s]"
      ]
     },
     "metadata": {},
     "output_type": "display_data"
    },
    {
     "data": {
      "application/vnd.jupyter.widget-view+json": {
       "model_id": "0c12483bab4949f0a564fe83c04e5aef",
       "version_major": 2,
       "version_minor": 0
      },
      "text/plain": [
       "  0%|          | 0/1 [00:00<?, ?it/s]"
      ]
     },
     "metadata": {},
     "output_type": "display_data"
    },
    {
     "name": "stdout",
     "output_type": "stream",
     "text": [
      "predictions: [0]\n",
      "lista: [['MONOCORDIL 20MG', '- ACRESCENTO MONOCORDIL 20MG 12 / 12H .']]\n"
     ]
    },
    {
     "data": {
      "application/vnd.jupyter.widget-view+json": {
       "model_id": "128947bca0ac43a7a62892befa8c1889",
       "version_major": 2,
       "version_minor": 0
      },
      "text/plain": [
       "  0%|          | 0/1 [00:00<?, ?it/s]"
      ]
     },
     "metadata": {},
     "output_type": "display_data"
    },
    {
     "data": {
      "application/vnd.jupyter.widget-view+json": {
       "model_id": "d13e5e653a3b402eaaf91019b2e0b96c",
       "version_major": 2,
       "version_minor": 0
      },
      "text/plain": [
       "  0%|          | 0/1 [00:00<?, ?it/s]"
      ]
     },
     "metadata": {},
     "output_type": "display_data"
    },
    {
     "name": "stdout",
     "output_type": "stream",
     "text": [
      "predictions: [1]\n",
      "lista: [['CINTILOGRAFIA DE PERFUSÃO MIOCÁRDICA', '- SOLICITO NOVA CINTILOGRAFIA DE PERFUSÃO MIOCÁRDICA .'], ['PERFUSÃO MIOCÁRDICA', '- SOLICITO NOVA CINTILOGRAFIA DE PERFUSÃO MIOCÁRDICA .']]\n"
     ]
    },
    {
     "data": {
      "application/vnd.jupyter.widget-view+json": {
       "model_id": "535fa929a7294210b20248474934401a",
       "version_major": 2,
       "version_minor": 0
      },
      "text/plain": [
       "  0%|          | 0/2 [00:00<?, ?it/s]"
      ]
     },
     "metadata": {},
     "output_type": "display_data"
    },
    {
     "data": {
      "application/vnd.jupyter.widget-view+json": {
       "model_id": "0bd966d0d73f4ad8a4d9e9e42b7eb6c2",
       "version_major": 2,
       "version_minor": 0
      },
      "text/plain": [
       "  0%|          | 0/1 [00:00<?, ?it/s]"
      ]
     },
     "metadata": {},
     "output_type": "display_data"
    },
    {
     "name": "stdout",
     "output_type": "stream",
     "text": [
      "predictions: [2 0]\n",
      "lista: [['LAB', '- SOLICITO NOVO LAB .']]\n"
     ]
    },
    {
     "data": {
      "application/vnd.jupyter.widget-view+json": {
       "model_id": "2cb28d8d3054412cbe951ac4bc4fd8d4",
       "version_major": 2,
       "version_minor": 0
      },
      "text/plain": [
       "  0%|          | 0/1 [00:00<?, ?it/s]"
      ]
     },
     "metadata": {},
     "output_type": "display_data"
    },
    {
     "data": {
      "application/vnd.jupyter.widget-view+json": {
       "model_id": "ae0102f729ff4edeb1910aba2a228631",
       "version_major": 2,
       "version_minor": 0
      },
      "text/plain": [
       "  0%|          | 0/1 [00:00<?, ?it/s]"
      ]
     },
     "metadata": {},
     "output_type": "display_data"
    },
    {
     "name": "stdout",
     "output_type": "stream",
     "text": [
      "predictions: [2]\n",
      "lista: [['EXAMES', '- RETORNO COM EXAMES .']]\n"
     ]
    },
    {
     "data": {
      "application/vnd.jupyter.widget-view+json": {
       "model_id": "3c0f97249bca467dbc09f10159549e6d",
       "version_major": 2,
       "version_minor": 0
      },
      "text/plain": [
       "  0%|          | 0/1 [00:00<?, ?it/s]"
      ]
     },
     "metadata": {},
     "output_type": "display_data"
    },
    {
     "data": {
      "application/vnd.jupyter.widget-view+json": {
       "model_id": "393ba6df8c1a48e0b0b271bc28665538",
       "version_major": 2,
       "version_minor": 0
      },
      "text/plain": [
       "  0%|          | 0/1 [00:00<?, ?it/s]"
      ]
     },
     "metadata": {},
     "output_type": "display_data"
    },
    {
     "name": "stdout",
     "output_type": "stream",
     "text": [
      "predictions: [2]\n",
      "lista: [['SINCOPE', 'ACOMPANHANDO COM Doutor Vital Brazil SEM SINCOPE , SEM PALPITAÇÃO , SEM TERAPIAS .'], ['PALPITAÇÃO', 'ACOMPANHANDO COM Doutor Vital Brazil SEM SINCOPE , SEM PALPITAÇÃO , SEM TERAPIAS .'], ['TERAPIAS', 'ACOMPANHANDO COM Doutor Vital Brazil SEM SINCOPE , SEM PALPITAÇÃO , SEM TERAPIAS .']]\n"
     ]
    },
    {
     "data": {
      "application/vnd.jupyter.widget-view+json": {
       "model_id": "dba028ea49d048e5b3a1f4aa17895ee5",
       "version_major": 2,
       "version_minor": 0
      },
      "text/plain": [
       "  0%|          | 0/3 [00:00<?, ?it/s]"
      ]
     },
     "metadata": {},
     "output_type": "display_data"
    },
    {
     "data": {
      "application/vnd.jupyter.widget-view+json": {
       "model_id": "9b86677c41a84995bf2f77df053c37d7",
       "version_major": 2,
       "version_minor": 0
      },
      "text/plain": [
       "  0%|          | 0/1 [00:00<?, ?it/s]"
      ]
     },
     "metadata": {},
     "output_type": "display_data"
    },
    {
     "name": "stdout",
     "output_type": "stream",
     "text": [
      "predictions: [0 0 1]\n",
      "lista: [['avaliação de mp - cdi', '# hoje realizou avaliação de mp - cdi , .']]\n"
     ]
    },
    {
     "data": {
      "application/vnd.jupyter.widget-view+json": {
       "model_id": "64e903433cad458d9752a3977f1e2114",
       "version_major": 2,
       "version_minor": 0
      },
      "text/plain": [
       "  0%|          | 0/1 [00:00<?, ?it/s]"
      ]
     },
     "metadata": {},
     "output_type": "display_data"
    },
    {
     "data": {
      "application/vnd.jupyter.widget-view+json": {
       "model_id": "61b7294ccdec47d1928cb898d1b39b8f",
       "version_major": 2,
       "version_minor": 0
      },
      "text/plain": [
       "  0%|          | 0/1 [00:00<?, ?it/s]"
      ]
     },
     "metadata": {},
     "output_type": "display_data"
    },
    {
     "name": "stdout",
     "output_type": "stream",
     "text": [
      "predictions: [2]\n",
      "lista: [['arritmias', '# sem registro de arritmias - terapias , .'], ['terapias', '# sem registro de arritmias - terapias , .']]\n"
     ]
    },
    {
     "data": {
      "application/vnd.jupyter.widget-view+json": {
       "model_id": "c165e6c65217407f9c9c252e287f9612",
       "version_major": 2,
       "version_minor": 0
      },
      "text/plain": [
       "  0%|          | 0/2 [00:00<?, ?it/s]"
      ]
     },
     "metadata": {},
     "output_type": "display_data"
    },
    {
     "data": {
      "application/vnd.jupyter.widget-view+json": {
       "model_id": "dcca93b469ba4df694e3e5b2680df489",
       "version_major": 2,
       "version_minor": 0
      },
      "text/plain": [
       "  0%|          | 0/1 [00:00<?, ?it/s]"
      ]
     },
     "metadata": {},
     "output_type": "display_data"
    },
    {
     "name": "stdout",
     "output_type": "stream",
     "text": [
      "predictions: [0 1]\n",
      "lista: [['eletrodos atrial', '# eletrodos atrial e ventricular = ok .'], ['ventricular', '# eletrodos atrial e ventricular = ok .']]\n"
     ]
    },
    {
     "data": {
      "application/vnd.jupyter.widget-view+json": {
       "model_id": "e1c6af6756e943e6a0e000acb124fb2c",
       "version_major": 2,
       "version_minor": 0
      },
      "text/plain": [
       "  0%|          | 0/2 [00:00<?, ?it/s]"
      ]
     },
     "metadata": {},
     "output_type": "display_data"
    },
    {
     "data": {
      "application/vnd.jupyter.widget-view+json": {
       "model_id": "8563bf8e1be0450482dec453131e24f9",
       "version_major": 2,
       "version_minor": 0
      },
      "text/plain": [
       "  0%|          | 0/1 [00:00<?, ?it/s]"
      ]
     },
     "metadata": {},
     "output_type": "display_data"
    },
    {
     "name": "stdout",
     "output_type": "stream",
     "text": [
      "predictions: [1 3]\n",
      "lista: [['CAT', '# CAT EM 2008 .']]\n"
     ]
    },
    {
     "data": {
      "application/vnd.jupyter.widget-view+json": {
       "model_id": "6cae7229f2ce4002a3c602c5c281a46e",
       "version_major": 2,
       "version_minor": 0
      },
      "text/plain": [
       "  0%|          | 0/1 [00:00<?, ?it/s]"
      ]
     },
     "metadata": {},
     "output_type": "display_data"
    },
    {
     "data": {
      "application/vnd.jupyter.widget-view+json": {
       "model_id": "5680edc4f8c94b8dbcd34e46ac3b0f37",
       "version_major": 2,
       "version_minor": 0
      },
      "text/plain": [
       "  0%|          | 0/1 [00:00<?, ?it/s]"
      ]
     },
     "metadata": {},
     "output_type": "display_data"
    },
    {
     "name": "stdout",
     "output_type": "stream",
     "text": [
      "predictions: [2]\n",
      "lista: [['VALVOPLASTIA AÓRTICA', 'VALVOPLASTIA AÓRTICA EM 2008 .']]\n"
     ]
    },
    {
     "data": {
      "application/vnd.jupyter.widget-view+json": {
       "model_id": "1b1d34cc4b834635b5d0b532fc5f10fc",
       "version_major": 2,
       "version_minor": 0
      },
      "text/plain": [
       "  0%|          | 0/1 [00:00<?, ?it/s]"
      ]
     },
     "metadata": {},
     "output_type": "display_data"
    },
    {
     "data": {
      "application/vnd.jupyter.widget-view+json": {
       "model_id": "31fa5fe95a5f4c7b8f65cf2b1819caa5",
       "version_major": 2,
       "version_minor": 0
      },
      "text/plain": [
       "  0%|          | 0/1 [00:00<?, ?it/s]"
      ]
     },
     "metadata": {},
     "output_type": "display_data"
    },
    {
     "name": "stdout",
     "output_type": "stream",
     "text": [
      "predictions: [1]\n",
      "lista: [['VALVA BIOLÓGICA', 'VALVA BIOLÓGICA - 40 DIAS DEPOIS DA CX CARDIOVERSÃO .']]\n"
     ]
    },
    {
     "data": {
      "application/vnd.jupyter.widget-view+json": {
       "model_id": "4de7f1613a254812bcd743af094cbc9e",
       "version_major": 2,
       "version_minor": 0
      },
      "text/plain": [
       "  0%|          | 0/1 [00:00<?, ?it/s]"
      ]
     },
     "metadata": {},
     "output_type": "display_data"
    },
    {
     "data": {
      "application/vnd.jupyter.widget-view+json": {
       "model_id": "ffe4c3e4ce4b4d0c9cb0f7e52bb649ae",
       "version_major": 2,
       "version_minor": 0
      },
      "text/plain": [
       "  0%|          | 0/1 [00:00<?, ?it/s]"
      ]
     },
     "metadata": {},
     "output_type": "display_data"
    },
    {
     "name": "stdout",
     "output_type": "stream",
     "text": [
      "predictions: [0]\n",
      "lista: [['TONTURA', '# PACIENTE ASSINTOMÁTICO HÁ BASTANTE TEMPO ( APROX 1 ANO ) , A CAMINHO DO TRABALHO NO DIA 16 / 08 COMEÇOU A SENTIR TONTURA .']]\n"
     ]
    },
    {
     "data": {
      "application/vnd.jupyter.widget-view+json": {
       "model_id": "9ec695f6a5b84e41af0fa6fa2e2bf083",
       "version_major": 2,
       "version_minor": 0
      },
      "text/plain": [
       "  0%|          | 0/1 [00:00<?, ?it/s]"
      ]
     },
     "metadata": {},
     "output_type": "display_data"
    },
    {
     "data": {
      "application/vnd.jupyter.widget-view+json": {
       "model_id": "a79f4a129aba4d4db75e703ef7056a15",
       "version_major": 2,
       "version_minor": 0
      },
      "text/plain": [
       "  0%|          | 0/1 [00:00<?, ?it/s]"
      ]
     },
     "metadata": {},
     "output_type": "display_data"
    },
    {
     "name": "stdout",
     "output_type": "stream",
     "text": [
      "predictions: [0]\n",
      "lista: [['QUEIXAS', 'HOJE PACIENTE ESTÁ ASSINTOMÁTICO , NEGA QUEIXAS , VOLTOU AS ATIVIDADES NORMAIS ( FRENTISTA ) .'], ['FRENTISTA', 'HOJE PACIENTE ESTÁ ASSINTOMÁTICO , NEGA QUEIXAS , VOLTOU AS ATIVIDADES NORMAIS ( FRENTISTA ) .']]\n"
     ]
    },
    {
     "data": {
      "application/vnd.jupyter.widget-view+json": {
       "model_id": "4a7f37654ed14399bcb0b5be179d4a82",
       "version_major": 2,
       "version_minor": 0
      },
      "text/plain": [
       "  0%|          | 0/2 [00:00<?, ?it/s]"
      ]
     },
     "metadata": {},
     "output_type": "display_data"
    },
    {
     "data": {
      "application/vnd.jupyter.widget-view+json": {
       "model_id": "1cd93a0d0b7f4770a450dea3ed23c57f",
       "version_major": 2,
       "version_minor": 0
      },
      "text/plain": [
       "  0%|          | 0/1 [00:00<?, ?it/s]"
      ]
     },
     "metadata": {},
     "output_type": "display_data"
    },
    {
     "name": "stdout",
     "output_type": "stream",
     "text": [
      "predictions: [0 0]\n",
      "lista: [['EMAGRECIMENTO', 'RELATA EMAGRECIMENTO DE 7 KG EM 10 DIAS .']]\n"
     ]
    },
    {
     "data": {
      "application/vnd.jupyter.widget-view+json": {
       "model_id": "b73089f5fcba4f7c8560aac2d0b2236d",
       "version_major": 2,
       "version_minor": 0
      },
      "text/plain": [
       "  0%|          | 0/1 [00:00<?, ?it/s]"
      ]
     },
     "metadata": {},
     "output_type": "display_data"
    },
    {
     "data": {
      "application/vnd.jupyter.widget-view+json": {
       "model_id": "1616d1c3e5094bada425578421dc22f8",
       "version_major": 2,
       "version_minor": 0
      },
      "text/plain": [
       "  0%|          | 0/1 [00:00<?, ?it/s]"
      ]
     },
     "metadata": {},
     "output_type": "display_data"
    },
    {
     "name": "stdout",
     "output_type": "stream",
     "text": [
      "predictions: [0]\n",
      "lista: [['EX - TABAGISTA', '# EX - TABAGISTA 40 MAÇOS - ANO - EM ABSTINÊNCIA HÁ 7 ANOS .']]\n"
     ]
    },
    {
     "data": {
      "application/vnd.jupyter.widget-view+json": {
       "model_id": "a84d5779fcea43478cdde59518755b5d",
       "version_major": 2,
       "version_minor": 0
      },
      "text/plain": [
       "  0%|          | 0/1 [00:00<?, ?it/s]"
      ]
     },
     "metadata": {},
     "output_type": "display_data"
    },
    {
     "data": {
      "application/vnd.jupyter.widget-view+json": {
       "model_id": "eaf2366e0a5743458ef875edd6c87ab4",
       "version_major": 2,
       "version_minor": 0
      },
      "text/plain": [
       "  0%|          | 0/1 [00:00<?, ?it/s]"
      ]
     },
     "metadata": {},
     "output_type": "display_data"
    },
    {
     "name": "stdout",
     "output_type": "stream",
     "text": [
      "predictions: [0]\n",
      "lista: [['ENALAPRIL 10MG', '# EM USO DE : ENALAPRIL 10MG 2X / DIA , CARVEDILOL 12 , 5 MG 2X / DIA , ATORVASTATINA 40 MG , CLOPIDOGREL E MAREVAN .'], ['CARVEDILOL 12 , 5 MG', '# EM USO DE : ENALAPRIL 10MG 2X / DIA , CARVEDILOL 12 , 5 MG 2X / DIA , ATORVASTATINA 40 MG , CLOPIDOGREL E MAREVAN .'], ['CARVEDILOL', '# EM USO DE : ENALAPRIL 10MG 2X / DIA , CARVEDILOL 12 , 5 MG 2X / DIA , ATORVASTATINA 40 MG , CLOPIDOGREL E MAREVAN .'], ['ATORVASTATINA 40 MG', '# EM USO DE : ENALAPRIL 10MG 2X / DIA , CARVEDILOL 12 , 5 MG 2X / DIA , ATORVASTATINA 40 MG , CLOPIDOGREL E MAREVAN .'], ['CLOPIDOGREL', '# EM USO DE : ENALAPRIL 10MG 2X / DIA , CARVEDILOL 12 , 5 MG 2X / DIA , ATORVASTATINA 40 MG , CLOPIDOGREL E MAREVAN .'], ['MAREVAN', '# EM USO DE : ENALAPRIL 10MG 2X / DIA , CARVEDILOL 12 , 5 MG 2X / DIA , ATORVASTATINA 40 MG , CLOPIDOGREL E MAREVAN .']]\n"
     ]
    },
    {
     "data": {
      "application/vnd.jupyter.widget-view+json": {
       "model_id": "2434a3f1736543dfaa2545c56925e9e7",
       "version_major": 2,
       "version_minor": 0
      },
      "text/plain": [
       "  0%|          | 0/6 [00:00<?, ?it/s]"
      ]
     },
     "metadata": {},
     "output_type": "display_data"
    },
    {
     "data": {
      "application/vnd.jupyter.widget-view+json": {
       "model_id": "e2b133c31e424060b5e278cfb30d6b14",
       "version_major": 2,
       "version_minor": 0
      },
      "text/plain": [
       "  0%|          | 0/1 [00:00<?, ?it/s]"
      ]
     },
     "metadata": {},
     "output_type": "display_data"
    },
    {
     "name": "stdout",
     "output_type": "stream",
     "text": [
      "predictions: [1 1 1 1 1 1]\n",
      "lista: [['EXAME FÍSICO', '# EXAME FÍSICO : .']]\n"
     ]
    },
    {
     "data": {
      "application/vnd.jupyter.widget-view+json": {
       "model_id": "ca390cbd2147427bae368479a894591d",
       "version_major": 2,
       "version_minor": 0
      },
      "text/plain": [
       "  0%|          | 0/1 [00:00<?, ?it/s]"
      ]
     },
     "metadata": {},
     "output_type": "display_data"
    },
    {
     "data": {
      "application/vnd.jupyter.widget-view+json": {
       "model_id": "2de2da825e7049578e0f997f7008f53d",
       "version_major": 2,
       "version_minor": 0
      },
      "text/plain": [
       "  0%|          | 0/1 [00:00<?, ?it/s]"
      ]
     },
     "metadata": {},
     "output_type": "display_data"
    },
    {
     "name": "stdout",
     "output_type": "stream",
     "text": [
      "predictions: [2]\n",
      "lista: [['FC', 'FC 80 BPM , PA 120 / 80 MMHG .'], ['PA', 'FC 80 BPM , PA 120 / 80 MMHG .']]\n"
     ]
    },
    {
     "data": {
      "application/vnd.jupyter.widget-view+json": {
       "model_id": "958118642b7441bcbd3c8487f19935f9",
       "version_major": 2,
       "version_minor": 0
      },
      "text/plain": [
       "  0%|          | 0/2 [00:00<?, ?it/s]"
      ]
     },
     "metadata": {},
     "output_type": "display_data"
    },
    {
     "data": {
      "application/vnd.jupyter.widget-view+json": {
       "model_id": "1d38ab557450431e841b7ff6c3474edc",
       "version_major": 2,
       "version_minor": 0
      },
      "text/plain": [
       "  0%|          | 0/1 [00:00<?, ?it/s]"
      ]
     },
     "metadata": {},
     "output_type": "display_data"
    },
    {
     "name": "stdout",
     "output_type": "stream",
     "text": [
      "predictions: [2 2]\n",
      "lista: [['HIPOFONESE DE BULHAS EM FOCO AÓRTICO', 'BCRNF - HIPOFONESE DE BULHAS EM FOCO AÓRTICO .']]\n"
     ]
    },
    {
     "data": {
      "application/vnd.jupyter.widget-view+json": {
       "model_id": "7336bffab77f4d978bebe4dce5e7a162",
       "version_major": 2,
       "version_minor": 0
      },
      "text/plain": [
       "  0%|          | 0/1 [00:00<?, ?it/s]"
      ]
     },
     "metadata": {},
     "output_type": "display_data"
    },
    {
     "data": {
      "application/vnd.jupyter.widget-view+json": {
       "model_id": "e11684ed0a314e6fa499f7b16e62153d",
       "version_major": 2,
       "version_minor": 0
      },
      "text/plain": [
       "  0%|          | 0/1 [00:00<?, ?it/s]"
      ]
     },
     "metadata": {},
     "output_type": "display_data"
    },
    {
     "name": "stdout",
     "output_type": "stream",
     "text": [
      "predictions: [0]\n",
      "lista: [['RA', 'MV + SIM BILATERAL , S / RA .']]\n"
     ]
    },
    {
     "data": {
      "application/vnd.jupyter.widget-view+json": {
       "model_id": "dae71044818b4139ba8e14d0e939b027",
       "version_major": 2,
       "version_minor": 0
      },
      "text/plain": [
       "  0%|          | 0/1 [00:00<?, ?it/s]"
      ]
     },
     "metadata": {},
     "output_type": "display_data"
    },
    {
     "data": {
      "application/vnd.jupyter.widget-view+json": {
       "model_id": "6576c101df714efb95d59c98d7f5e2b2",
       "version_major": 2,
       "version_minor": 0
      },
      "text/plain": [
       "  0%|          | 0/1 [00:00<?, ?it/s]"
      ]
     },
     "metadata": {},
     "output_type": "display_data"
    },
    {
     "name": "stdout",
     "output_type": "stream",
     "text": [
      "predictions: [0]\n",
      "lista: [['ABDOME', 'RHA + , ABDOME NÃO DOLOROSO A PALPAÇÃO , SEM VISCEROMEGALIAS .'], ['VISCEROMEGALIAS', 'RHA + , ABDOME NÃO DOLOROSO A PALPAÇÃO , SEM VISCEROMEGALIAS .']]\n"
     ]
    },
    {
     "data": {
      "application/vnd.jupyter.widget-view+json": {
       "model_id": "bb9d6c63758d4a738c872b762d400264",
       "version_major": 2,
       "version_minor": 0
      },
      "text/plain": [
       "  0%|          | 0/2 [00:00<?, ?it/s]"
      ]
     },
     "metadata": {},
     "output_type": "display_data"
    },
    {
     "data": {
      "application/vnd.jupyter.widget-view+json": {
       "model_id": "4301b336651c44a8a151c0485ec4c338",
       "version_major": 2,
       "version_minor": 0
      },
      "text/plain": [
       "  0%|          | 0/1 [00:00<?, ?it/s]"
      ]
     },
     "metadata": {},
     "output_type": "display_data"
    },
    {
     "name": "stdout",
     "output_type": "stream",
     "text": [
      "predictions: [3 0]\n",
      "lista: [['HERNIA UMBILICAL REDUTÍVEL', 'HERNIA UMBILICAL REDUTÍVEL .']]\n"
     ]
    },
    {
     "data": {
      "application/vnd.jupyter.widget-view+json": {
       "model_id": "f7eb6d373413429d879c6dad3a21fa12",
       "version_major": 2,
       "version_minor": 0
      },
      "text/plain": [
       "  0%|          | 0/1 [00:00<?, ?it/s]"
      ]
     },
     "metadata": {},
     "output_type": "display_data"
    },
    {
     "data": {
      "application/vnd.jupyter.widget-view+json": {
       "model_id": "26bb31d0becb4853a498a52336c7955d",
       "version_major": 2,
       "version_minor": 0
      },
      "text/plain": [
       "  0%|          | 0/1 [00:00<?, ?it/s]"
      ]
     },
     "metadata": {},
     "output_type": "display_data"
    },
    {
     "name": "stdout",
     "output_type": "stream",
     "text": [
      "predictions: [0]\n",
      "lista: [['MMII EDEMA + / 4 +', 'MMII EDEMA + / 4 + , PANTURRILHAS LIVRES .']]\n"
     ]
    },
    {
     "data": {
      "application/vnd.jupyter.widget-view+json": {
       "model_id": "7d465eeb55af4fa98c28d916a32fad49",
       "version_major": 2,
       "version_minor": 0
      },
      "text/plain": [
       "  0%|          | 0/1 [00:00<?, ?it/s]"
      ]
     },
     "metadata": {},
     "output_type": "display_data"
    },
    {
     "data": {
      "application/vnd.jupyter.widget-view+json": {
       "model_id": "507f950130e147a698a2a3d51245a99c",
       "version_major": 2,
       "version_minor": 0
      },
      "text/plain": [
       "  0%|          | 0/1 [00:00<?, ?it/s]"
      ]
     },
     "metadata": {},
     "output_type": "display_data"
    },
    {
     "name": "stdout",
     "output_type": "stream",
     "text": [
      "predictions: [0]\n",
      "lista: [['ECG', '# ECG 19 / 08 : FLUTTER ATRIAL PROVAVELMENTE ANTI - HORÁRIO 2 / 3 : 1 , EXTRASSÍSTOLES VENTRICULARES .'], ['FLUTTER ATRIAL', '# ECG 19 / 08 : FLUTTER ATRIAL PROVAVELMENTE ANTI - HORÁRIO 2 / 3 : 1 , EXTRASSÍSTOLES VENTRICULARES .'], ['HORÁRIO', '# ECG 19 / 08 : FLUTTER ATRIAL PROVAVELMENTE ANTI - HORÁRIO 2 / 3 : 1 , EXTRASSÍSTOLES VENTRICULARES .'], ['EXTRASSÍSTOLES VENTRICULARES', '# ECG 19 / 08 : FLUTTER ATRIAL PROVAVELMENTE ANTI - HORÁRIO 2 / 3 : 1 , EXTRASSÍSTOLES VENTRICULARES .']]\n"
     ]
    },
    {
     "data": {
      "application/vnd.jupyter.widget-view+json": {
       "model_id": "bf0925a076b6422e892f6189ff819969",
       "version_major": 2,
       "version_minor": 0
      },
      "text/plain": [
       "  0%|          | 0/4 [00:00<?, ?it/s]"
      ]
     },
     "metadata": {},
     "output_type": "display_data"
    },
    {
     "data": {
      "application/vnd.jupyter.widget-view+json": {
       "model_id": "f0ce564735614e11bee90be9ba88e880",
       "version_major": 2,
       "version_minor": 0
      },
      "text/plain": [
       "  0%|          | 0/1 [00:00<?, ?it/s]"
      ]
     },
     "metadata": {},
     "output_type": "display_data"
    },
    {
     "name": "stdout",
     "output_type": "stream",
     "text": [
      "predictions: [2 2 2 0]\n",
      "lista: [['TAP', '# CD : CONTROLE DO TAP .']]\n"
     ]
    },
    {
     "data": {
      "application/vnd.jupyter.widget-view+json": {
       "model_id": "78d5dfd4e8c04febbc54fc9ff9830734",
       "version_major": 2,
       "version_minor": 0
      },
      "text/plain": [
       "  0%|          | 0/1 [00:00<?, ?it/s]"
      ]
     },
     "metadata": {},
     "output_type": "display_data"
    },
    {
     "data": {
      "application/vnd.jupyter.widget-view+json": {
       "model_id": "4c4b6d810d194e25a1cb58d772f1b2bc",
       "version_major": 2,
       "version_minor": 0
      },
      "text/plain": [
       "  0%|          | 0/1 [00:00<?, ?it/s]"
      ]
     },
     "metadata": {},
     "output_type": "display_data"
    },
    {
     "name": "stdout",
     "output_type": "stream",
     "text": [
      "predictions: [2]\n",
      "lista: [['TAP', 'PRECISA DE 4 TAP ENTRE 2 E 3 .']]\n"
     ]
    },
    {
     "data": {
      "application/vnd.jupyter.widget-view+json": {
       "model_id": "56040d08ada44dc8ba28d30a1a4d4132",
       "version_major": 2,
       "version_minor": 0
      },
      "text/plain": [
       "  0%|          | 0/1 [00:00<?, ?it/s]"
      ]
     },
     "metadata": {},
     "output_type": "display_data"
    },
    {
     "data": {
      "application/vnd.jupyter.widget-view+json": {
       "model_id": "ad21218759424455a86d8c48e71b3e38",
       "version_major": 2,
       "version_minor": 0
      },
      "text/plain": [
       "  0%|          | 0/1 [00:00<?, ?it/s]"
      ]
     },
     "metadata": {},
     "output_type": "display_data"
    },
    {
     "name": "stdout",
     "output_type": "stream",
     "text": [
      "predictions: [2]\n",
      "lista: [['intercorrencias', '# sem intercorrencias , .']]\n"
     ]
    },
    {
     "data": {
      "application/vnd.jupyter.widget-view+json": {
       "model_id": "6dd12b1afe2844ad857e3bc590a00e69",
       "version_major": 2,
       "version_minor": 0
      },
      "text/plain": [
       "  0%|          | 0/1 [00:00<?, ?it/s]"
      ]
     },
     "metadata": {},
     "output_type": "display_data"
    },
    {
     "data": {
      "application/vnd.jupyter.widget-view+json": {
       "model_id": "ece660b166dd42f28b2b9fecffa4b0db",
       "version_major": 2,
       "version_minor": 0
      },
      "text/plain": [
       "  0%|          | 0/1 [00:00<?, ?it/s]"
      ]
     },
     "metadata": {},
     "output_type": "display_data"
    },
    {
     "name": "stdout",
     "output_type": "stream",
     "text": [
      "predictions: [0]\n",
      "lista: [['avaliação exclusiva de mp', '# hoje avaliação exclusiva de mp .']]\n"
     ]
    },
    {
     "data": {
      "application/vnd.jupyter.widget-view+json": {
       "model_id": "5989e8c8ae9947188abff9195f10a019",
       "version_major": 2,
       "version_minor": 0
      },
      "text/plain": [
       "  0%|          | 0/1 [00:00<?, ?it/s]"
      ]
     },
     "metadata": {},
     "output_type": "display_data"
    },
    {
     "data": {
      "application/vnd.jupyter.widget-view+json": {
       "model_id": "56fc67bd524341aca9c59882ae5bdea1",
       "version_major": 2,
       "version_minor": 0
      },
      "text/plain": [
       "  0%|          | 0/1 [00:00<?, ?it/s]"
      ]
     },
     "metadata": {},
     "output_type": "display_data"
    },
    {
     "name": "stdout",
     "output_type": "stream",
     "text": [
      "predictions: [2]\n",
      "lista: [['mp camara - dupla', '# mp camara - dupla , .']]\n"
     ]
    },
    {
     "data": {
      "application/vnd.jupyter.widget-view+json": {
       "model_id": "8331616bcc7a44dd8211c8854231ca73",
       "version_major": 2,
       "version_minor": 0
      },
      "text/plain": [
       "  0%|          | 0/1 [00:00<?, ?it/s]"
      ]
     },
     "metadata": {},
     "output_type": "display_data"
    },
    {
     "data": {
      "application/vnd.jupyter.widget-view+json": {
       "model_id": "bd500112d6cd4755b078c1851a83bd30",
       "version_major": 2,
       "version_minor": 0
      },
      "text/plain": [
       "  0%|          | 0/1 [00:00<?, ?it/s]"
      ]
     },
     "metadata": {},
     "output_type": "display_data"
    },
    {
     "name": "stdout",
     "output_type": "stream",
     "text": [
      "predictions: [1]\n",
      "lista: [['IMP', '# A - IMP = 390 , SENSE = 2 , 3 , CLA = MENOR QUE 1 , 0 X 0 , 4 ; .']]\n"
     ]
    },
    {
     "data": {
      "application/vnd.jupyter.widget-view+json": {
       "model_id": "2d223d11b7cf43ca9efb93e614ab399b",
       "version_major": 2,
       "version_minor": 0
      },
      "text/plain": [
       "  0%|          | 0/1 [00:00<?, ?it/s]"
      ]
     },
     "metadata": {},
     "output_type": "display_data"
    },
    {
     "data": {
      "application/vnd.jupyter.widget-view+json": {
       "model_id": "88a97ec526964bfe9512acacb97977e6",
       "version_major": 2,
       "version_minor": 0
      },
      "text/plain": [
       "  0%|          | 0/1 [00:00<?, ?it/s]"
      ]
     },
     "metadata": {},
     "output_type": "display_data"
    },
    {
     "name": "stdout",
     "output_type": "stream",
     "text": [
      "predictions: [2]\n",
      "lista: [['IMP', '# V - IMP = 487 , SENSE = 3 , 8 , CLV = MENOR QUE 1 , 0 X 0 , 4 .']]\n"
     ]
    },
    {
     "data": {
      "application/vnd.jupyter.widget-view+json": {
       "model_id": "7577a9b54fb34de780aa48eed5337ed2",
       "version_major": 2,
       "version_minor": 0
      },
      "text/plain": [
       "  0%|          | 0/1 [00:00<?, ?it/s]"
      ]
     },
     "metadata": {},
     "output_type": "display_data"
    },
    {
     "data": {
      "application/vnd.jupyter.widget-view+json": {
       "model_id": "dd94af3b542641408966f88f36580e86",
       "version_major": 2,
       "version_minor": 0
      },
      "text/plain": [
       "  0%|          | 0/1 [00:00<?, ?it/s]"
      ]
     },
     "metadata": {},
     "output_type": "display_data"
    },
    {
     "name": "stdout",
     "output_type": "stream",
     "text": [
      "predictions: [2]\n",
      "lista: [['auto captura', '# cd = programada auto captura , retorno em 12 meses , se intercorrencias = procura direta , sempre manter com cardio geral .'], ['captura', '# cd = programada auto captura , retorno em 12 meses , se intercorrencias = procura direta , sempre manter com cardio geral .']]\n"
     ]
    },
    {
     "data": {
      "application/vnd.jupyter.widget-view+json": {
       "model_id": "7fc262c78ef547589ca7b1713127b4f5",
       "version_major": 2,
       "version_minor": 0
      },
      "text/plain": [
       "  0%|          | 0/2 [00:00<?, ?it/s]"
      ]
     },
     "metadata": {},
     "output_type": "display_data"
    },
    {
     "data": {
      "application/vnd.jupyter.widget-view+json": {
       "model_id": "a8c0376dc75c4e3981bcf00cd2b2e6d4",
       "version_major": 2,
       "version_minor": 0
      },
      "text/plain": [
       "  0%|          | 0/1 [00:00<?, ?it/s]"
      ]
     },
     "metadata": {},
     "output_type": "display_data"
    },
    {
     "name": "stdout",
     "output_type": "stream",
     "text": [
      "predictions: [1 1]\n",
      "lista: [['DAC', '# DAC - IAM 2007 + RVM / / ATC 2010 , .'], ['IAM', '# DAC - IAM 2007 + RVM / / ATC 2010 , .'], ['RVM', '# DAC - IAM 2007 + RVM / / ATC 2010 , .'], ['ATC', '# DAC - IAM 2007 + RVM / / ATC 2010 , .']]\n"
     ]
    },
    {
     "data": {
      "application/vnd.jupyter.widget-view+json": {
       "model_id": "5fe4a6bec02941359211bb2021e5aab7",
       "version_major": 2,
       "version_minor": 0
      },
      "text/plain": [
       "  0%|          | 0/4 [00:00<?, ?it/s]"
      ]
     },
     "metadata": {},
     "output_type": "display_data"
    },
    {
     "data": {
      "application/vnd.jupyter.widget-view+json": {
       "model_id": "b9f2cb1476214e7cbce67ae06da29045",
       "version_major": 2,
       "version_minor": 0
      },
      "text/plain": [
       "  0%|          | 0/1 [00:00<?, ?it/s]"
      ]
     },
     "metadata": {},
     "output_type": "display_data"
    },
    {
     "name": "stdout",
     "output_type": "stream",
     "text": [
      "predictions: [0 0 1 1]\n",
      "lista: [['Hipertireoidismo', '# Hipertireoidismo ? ? - em acompanhamento com endocrinologia , .']]\n"
     ]
    },
    {
     "data": {
      "application/vnd.jupyter.widget-view+json": {
       "model_id": "58abe86bd1f74c5e8fcff2fa3a50935a",
       "version_major": 2,
       "version_minor": 0
      },
      "text/plain": [
       "  0%|          | 0/1 [00:00<?, ?it/s]"
      ]
     },
     "metadata": {},
     "output_type": "display_data"
    },
    {
     "data": {
      "application/vnd.jupyter.widget-view+json": {
       "model_id": "cb8ddecf346b4e2bbf0ea98cdfefb4f4",
       "version_major": 2,
       "version_minor": 0
      },
      "text/plain": [
       "  0%|          | 0/1 [00:00<?, ?it/s]"
      ]
     },
     "metadata": {},
     "output_type": "display_data"
    },
    {
     "name": "stdout",
     "output_type": "stream",
     "text": [
      "predictions: [0]\n",
      "lista: [['FA paroxistica', '# FA paroxistica , .']]\n"
     ]
    },
    {
     "data": {
      "application/vnd.jupyter.widget-view+json": {
       "model_id": "32ad74ea1a3a473d8ea8d42f2a5a7ccb",
       "version_major": 2,
       "version_minor": 0
      },
      "text/plain": [
       "  0%|          | 0/1 [00:00<?, ?it/s]"
      ]
     },
     "metadata": {},
     "output_type": "display_data"
    },
    {
     "data": {
      "application/vnd.jupyter.widget-view+json": {
       "model_id": "0112bcf26d7b48bc95d00fb9decb46d7",
       "version_major": 2,
       "version_minor": 0
      },
      "text/plain": [
       "  0%|          | 0/1 [00:00<?, ?it/s]"
      ]
     },
     "metadata": {},
     "output_type": "display_data"
    },
    {
     "name": "stdout",
     "output_type": "stream",
     "text": [
      "predictions: [0]\n",
      "lista: [['taquicardia atrial', '# Internamento em jan / 15 por taquicardia atrial com aberrância - - DESCARTADO ISQUEMIA MIOCÁRDICA COMO CAUSA , PROVÁVEL FATOR DESCOMPENSADOR SERIA O HIPERTIREOIDISMO QUE AINDA APRESENTA - SE DESCOMPENSADO ( TSH < 0 , 01 ) .'], ['taquicardia', '# Internamento em jan / 15 por taquicardia atrial com aberrância - - DESCARTADO ISQUEMIA MIOCÁRDICA COMO CAUSA , PROVÁVEL FATOR DESCOMPENSADOR SERIA O HIPERTIREOIDISMO QUE AINDA APRESENTA - SE DESCOMPENSADO ( TSH < 0 , 01 ) .'], ['atrial', '# Internamento em jan / 15 por taquicardia atrial com aberrância - - DESCARTADO ISQUEMIA MIOCÁRDICA COMO CAUSA , PROVÁVEL FATOR DESCOMPENSADOR SERIA O HIPERTIREOIDISMO QUE AINDA APRESENTA - SE DESCOMPENSADO ( TSH < 0 , 01 ) .'], ['aberrância', '# Internamento em jan / 15 por taquicardia atrial com aberrância - - DESCARTADO ISQUEMIA MIOCÁRDICA COMO CAUSA , PROVÁVEL FATOR DESCOMPENSADOR SERIA O HIPERTIREOIDISMO QUE AINDA APRESENTA - SE DESCOMPENSADO ( TSH < 0 , 01 ) .'], ['ISQUEMIA MIOCÁRDICA', '# Internamento em jan / 15 por taquicardia atrial com aberrância - - DESCARTADO ISQUEMIA MIOCÁRDICA COMO CAUSA , PROVÁVEL FATOR DESCOMPENSADOR SERIA O HIPERTIREOIDISMO QUE AINDA APRESENTA - SE DESCOMPENSADO ( TSH < 0 , 01 ) .'], ['TSH', '# Internamento em jan / 15 por taquicardia atrial com aberrância - - DESCARTADO ISQUEMIA MIOCÁRDICA COMO CAUSA , PROVÁVEL FATOR DESCOMPENSADOR SERIA O HIPERTIREOIDISMO QUE AINDA APRESENTA - SE DESCOMPENSADO ( TSH < 0 , 01 ) .']]\n"
     ]
    },
    {
     "data": {
      "application/vnd.jupyter.widget-view+json": {
       "model_id": "884bb0832b454cd283f3c275b6da5354",
       "version_major": 2,
       "version_minor": 0
      },
      "text/plain": [
       "  0%|          | 0/6 [00:00<?, ?it/s]"
      ]
     },
     "metadata": {},
     "output_type": "display_data"
    },
    {
     "data": {
      "application/vnd.jupyter.widget-view+json": {
       "model_id": "446787be80ca4f8395a43b319c7cf929",
       "version_major": 2,
       "version_minor": 0
      },
      "text/plain": [
       "  0%|          | 0/1 [00:00<?, ?it/s]"
      ]
     },
     "metadata": {},
     "output_type": "display_data"
    },
    {
     "name": "stdout",
     "output_type": "stream",
     "text": [
      "predictions: [0 0 3 0 0 2]\n",
      "lista: [['Medicamentos', 'Medicamentos : tapazol 10 mg , enalapril 10 mg 12 / 12h , selozok 50 mg , sinvastatina 40 mg , xarelto 20 mg , AAS100mg .'], ['enalapril 10 mg', 'Medicamentos : tapazol 10 mg , enalapril 10 mg 12 / 12h , selozok 50 mg , sinvastatina 40 mg , xarelto 20 mg , AAS100mg .'], ['selozok 50 mg', 'Medicamentos : tapazol 10 mg , enalapril 10 mg 12 / 12h , selozok 50 mg , sinvastatina 40 mg , xarelto 20 mg , AAS100mg .'], ['sinvastatina 40 mg', 'Medicamentos : tapazol 10 mg , enalapril 10 mg 12 / 12h , selozok 50 mg , sinvastatina 40 mg , xarelto 20 mg , AAS100mg .'], ['xarelto 20 mg', 'Medicamentos : tapazol 10 mg , enalapril 10 mg 12 / 12h , selozok 50 mg , sinvastatina 40 mg , xarelto 20 mg , AAS100mg .'], ['AAS100mg', 'Medicamentos : tapazol 10 mg , enalapril 10 mg 12 / 12h , selozok 50 mg , sinvastatina 40 mg , xarelto 20 mg , AAS100mg .']]\n"
     ]
    },
    {
     "data": {
      "application/vnd.jupyter.widget-view+json": {
       "model_id": "730809b40cd74a939355a7abe68e56db",
       "version_major": 2,
       "version_minor": 0
      },
      "text/plain": [
       "  0%|          | 0/6 [00:00<?, ?it/s]"
      ]
     },
     "metadata": {},
     "output_type": "display_data"
    },
    {
     "data": {
      "application/vnd.jupyter.widget-view+json": {
       "model_id": "8e2bbbe6e802434fac5846b52a9ad235",
       "version_major": 2,
       "version_minor": 0
      },
      "text/plain": [
       "  0%|          | 0/1 [00:00<?, ?it/s]"
      ]
     },
     "metadata": {},
     "output_type": "display_data"
    },
    {
     "name": "stdout",
     "output_type": "stream",
     "text": [
      "predictions: [1 1 1 1 1 1]\n",
      "lista: [['palpitações', 'S # Nega palpitações , dispneia , dor torácica .'], ['dispneia', 'S # Nega palpitações , dispneia , dor torácica .'], ['dor torácica', 'S # Nega palpitações , dispneia , dor torácica .']]\n"
     ]
    },
    {
     "data": {
      "application/vnd.jupyter.widget-view+json": {
       "model_id": "9ce0af8cf27b4cd2a8ffe3be659fe45e",
       "version_major": 2,
       "version_minor": 0
      },
      "text/plain": [
       "  0%|          | 0/3 [00:00<?, ?it/s]"
      ]
     },
     "metadata": {},
     "output_type": "display_data"
    },
    {
     "data": {
      "application/vnd.jupyter.widget-view+json": {
       "model_id": "bd47600b2918455db87a696bd1599ef4",
       "version_major": 2,
       "version_minor": 0
      },
      "text/plain": [
       "  0%|          | 0/1 [00:00<?, ?it/s]"
      ]
     },
     "metadata": {},
     "output_type": "display_data"
    },
    {
     "name": "stdout",
     "output_type": "stream",
     "text": [
      "predictions: [0 0 0]\n",
      "lista: [['Epigastralgia', 'Epigastralgia .']]\n"
     ]
    },
    {
     "data": {
      "application/vnd.jupyter.widget-view+json": {
       "model_id": "bea0f49eab3b479fa9d123570a2d4a71",
       "version_major": 2,
       "version_minor": 0
      },
      "text/plain": [
       "  0%|          | 0/1 [00:00<?, ?it/s]"
      ]
     },
     "metadata": {},
     "output_type": "display_data"
    },
    {
     "data": {
      "application/vnd.jupyter.widget-view+json": {
       "model_id": "b58a8884c5c34ceeaf3b1bd9a86d2a75",
       "version_major": 2,
       "version_minor": 0
      },
      "text/plain": [
       "  0%|          | 0/1 [00:00<?, ?it/s]"
      ]
     },
     "metadata": {},
     "output_type": "display_data"
    },
    {
     "name": "stdout",
     "output_type": "stream",
     "text": [
      "predictions: [0]\n",
      "lista: [['endocrino', 'Consuçta com endocrino amanhã .']]\n"
     ]
    },
    {
     "data": {
      "application/vnd.jupyter.widget-view+json": {
       "model_id": "10c39b740a4b42f096855f91bb674ff1",
       "version_major": 2,
       "version_minor": 0
      },
      "text/plain": [
       "  0%|          | 0/1 [00:00<?, ?it/s]"
      ]
     },
     "metadata": {},
     "output_type": "display_data"
    },
    {
     "data": {
      "application/vnd.jupyter.widget-view+json": {
       "model_id": "de40c2dfbe7c431ca8b102a249d08c48",
       "version_major": 2,
       "version_minor": 0
      },
      "text/plain": [
       "  0%|          | 0/1 [00:00<?, ?it/s]"
      ]
     },
     "metadata": {},
     "output_type": "display_data"
    },
    {
     "name": "stdout",
     "output_type": "stream",
     "text": [
      "predictions: [1]\n",
      "lista: [['exames', 'Traz exames : .']]\n"
     ]
    },
    {
     "data": {
      "application/vnd.jupyter.widget-view+json": {
       "model_id": "f20862f87fcf4ba2a3650b83ee67e3bc",
       "version_major": 2,
       "version_minor": 0
      },
      "text/plain": [
       "  0%|          | 0/1 [00:00<?, ?it/s]"
      ]
     },
     "metadata": {},
     "output_type": "display_data"
    },
    {
     "data": {
      "application/vnd.jupyter.widget-view+json": {
       "model_id": "4ace7ec39c814d73a4fed100837d6e47",
       "version_major": 2,
       "version_minor": 0
      },
      "text/plain": [
       "  0%|          | 0/1 [00:00<?, ?it/s]"
      ]
     },
     "metadata": {},
     "output_type": "display_data"
    },
    {
     "name": "stdout",
     "output_type": "stream",
     "text": [
      "predictions: [2]\n",
      "lista: [['Holter', '- Holter 28 / 04 / 15 : ritmo sinusal , FC media 53 , Intervalo PR normal , QRS normais , extra - sistole ventricular unica , extra - sistole supra - ventricular rara , ausencia de pausas , ST sem alterações .'], ['extra - sistole supra - ventricular', '- Holter 28 / 04 / 15 : ritmo sinusal , FC media 53 , Intervalo PR normal , QRS normais , extra - sistole ventricular unica , extra - sistole supra - ventricular rara , ausencia de pausas , ST sem alterações .'], ['extra', '- Holter 28 / 04 / 15 : ritmo sinusal , FC media 53 , Intervalo PR normal , QRS normais , extra - sistole ventricular unica , extra - sistole supra - ventricular rara , ausencia de pausas , ST sem alterações .'], ['extra - sistole supra', '- Holter 28 / 04 / 15 : ritmo sinusal , FC media 53 , Intervalo PR normal , QRS normais , extra - sistole ventricular unica , extra - sistole supra - ventricular rara , ausencia de pausas , ST sem alterações .'], ['sistole supra - ventricular', '- Holter 28 / 04 / 15 : ritmo sinusal , FC media 53 , Intervalo PR normal , QRS normais , extra - sistole ventricular unica , extra - sistole supra - ventricular rara , ausencia de pausas , ST sem alterações .'], ['extra - sistole supra -', '- Holter 28 / 04 / 15 : ritmo sinusal , FC media 53 , Intervalo PR normal , QRS normais , extra - sistole ventricular unica , extra - sistole supra - ventricular rara , ausencia de pausas , ST sem alterações .'], ['- sistole supra - ventricular', '- Holter 28 / 04 / 15 : ritmo sinusal , FC media 53 , Intervalo PR normal , QRS normais , extra - sistole ventricular unica , extra - sistole supra - ventricular rara , ausencia de pausas , ST sem alterações .'], ['pausas', '- Holter 28 / 04 / 15 : ritmo sinusal , FC media 53 , Intervalo PR normal , QRS normais , extra - sistole ventricular unica , extra - sistole supra - ventricular rara , ausencia de pausas , ST sem alterações .'], ['ST', '- Holter 28 / 04 / 15 : ritmo sinusal , FC media 53 , Intervalo PR normal , QRS normais , extra - sistole ventricular unica , extra - sistole supra - ventricular rara , ausencia de pausas , ST sem alterações .'], ['alterações', '- Holter 28 / 04 / 15 : ritmo sinusal , FC media 53 , Intervalo PR normal , QRS normais , extra - sistole ventricular unica , extra - sistole supra - ventricular rara , ausencia de pausas , ST sem alterações .']]\n"
     ]
    },
    {
     "data": {
      "application/vnd.jupyter.widget-view+json": {
       "model_id": "521e6d2c97424539904e22f63cd43a14",
       "version_major": 2,
       "version_minor": 0
      },
      "text/plain": [
       "  0%|          | 0/10 [00:00<?, ?it/s]"
      ]
     },
     "metadata": {},
     "output_type": "display_data"
    },
    {
     "data": {
      "application/vnd.jupyter.widget-view+json": {
       "model_id": "d8605caba05c411689e722240e53bf85",
       "version_major": 2,
       "version_minor": 0
      },
      "text/plain": [
       "  0%|          | 0/2 [00:00<?, ?it/s]"
      ]
     },
     "metadata": {},
     "output_type": "display_data"
    },
    {
     "name": "stdout",
     "output_type": "stream",
     "text": [
      "predictions: [2 3 3 3 3 3 3 0 3 0]\n",
      "lista: [['TSH', '- TSH 47 / t4l 0 , 55 .'], ['t4l', '- TSH 47 / t4l 0 , 55 .']]\n"
     ]
    },
    {
     "data": {
      "application/vnd.jupyter.widget-view+json": {
       "model_id": "d90d66aea6fe482a8f96173387305e89",
       "version_major": 2,
       "version_minor": 0
      },
      "text/plain": [
       "  0%|          | 0/2 [00:00<?, ?it/s]"
      ]
     },
     "metadata": {},
     "output_type": "display_data"
    },
    {
     "data": {
      "application/vnd.jupyter.widget-view+json": {
       "model_id": "9b00dbbad8ad4ae3a4f977e3a14d1603",
       "version_major": 2,
       "version_minor": 0
      },
      "text/plain": [
       "  0%|          | 0/1 [00:00<?, ?it/s]"
      ]
     },
     "metadata": {},
     "output_type": "display_data"
    },
    {
     "name": "stdout",
     "output_type": "stream",
     "text": [
      "predictions: [2 2]\n",
      "lista: [['Ecocardiograma', '- Ecocardiograma out / 14 ( externo ) : AE 43 / VD 23 / septo 10 / VE 52 - 26 / FE 81 % .'], ['AE', '- Ecocardiograma out / 14 ( externo ) : AE 43 / VD 23 / septo 10 / VE 52 - 26 / FE 81 % .'], ['VD', '- Ecocardiograma out / 14 ( externo ) : AE 43 / VD 23 / septo 10 / VE 52 - 26 / FE 81 % .'], ['septo', '- Ecocardiograma out / 14 ( externo ) : AE 43 / VD 23 / septo 10 / VE 52 - 26 / FE 81 % .'], ['VE', '- Ecocardiograma out / 14 ( externo ) : AE 43 / VD 23 / septo 10 / VE 52 - 26 / FE 81 % .']]\n"
     ]
    },
    {
     "data": {
      "application/vnd.jupyter.widget-view+json": {
       "model_id": "d7a4b6712fbc42eeac8ee4722fda9080",
       "version_major": 2,
       "version_minor": 0
      },
      "text/plain": [
       "  0%|          | 0/5 [00:00<?, ?it/s]"
      ]
     },
     "metadata": {},
     "output_type": "display_data"
    },
    {
     "data": {
      "application/vnd.jupyter.widget-view+json": {
       "model_id": "e662ea278b3d461096f3ac8af0873462",
       "version_major": 2,
       "version_minor": 0
      },
      "text/plain": [
       "  0%|          | 0/1 [00:00<?, ?it/s]"
      ]
     },
     "metadata": {},
     "output_type": "display_data"
    },
    {
     "name": "stdout",
     "output_type": "stream",
     "text": [
      "predictions: [2 3 3 3 3]\n",
      "lista: [['VE', 'VE com contração segmentar e função sistólica adequadas .']]\n"
     ]
    },
    {
     "data": {
      "application/vnd.jupyter.widget-view+json": {
       "model_id": "0a1bd5b554a948e08c3b18b25e55cd9c",
       "version_major": 2,
       "version_minor": 0
      },
      "text/plain": [
       "  0%|          | 0/1 [00:00<?, ?it/s]"
      ]
     },
     "metadata": {},
     "output_type": "display_data"
    },
    {
     "data": {
      "application/vnd.jupyter.widget-view+json": {
       "model_id": "0bbfee1d715f4c8288bb1a484eec28e7",
       "version_major": 2,
       "version_minor": 0
      },
      "text/plain": [
       "  0%|          | 0/1 [00:00<?, ?it/s]"
      ]
     },
     "metadata": {},
     "output_type": "display_data"
    },
    {
     "name": "stdout",
     "output_type": "stream",
     "text": [
      "predictions: [3]\n",
      "lista: [['exame', 'Ao exame : .']]\n"
     ]
    },
    {
     "data": {
      "application/vnd.jupyter.widget-view+json": {
       "model_id": "65f845068e3c42e1bdb849ba10ae4ce3",
       "version_major": 2,
       "version_minor": 0
      },
      "text/plain": [
       "  0%|          | 0/1 [00:00<?, ?it/s]"
      ]
     },
     "metadata": {},
     "output_type": "display_data"
    },
    {
     "data": {
      "application/vnd.jupyter.widget-view+json": {
       "model_id": "c4a8cc1431cc4481928aee80c9df8e88",
       "version_major": 2,
       "version_minor": 0
      },
      "text/plain": [
       "  0%|          | 0/1 [00:00<?, ?it/s]"
      ]
     },
     "metadata": {},
     "output_type": "display_data"
    },
    {
     "name": "stdout",
     "output_type": "stream",
     "text": [
      "predictions: [2]\n",
      "lista: [['PA130', 'PA130 / 70 , FC 55 .'], ['FC', 'PA130 / 70 , FC 55 .']]\n"
     ]
    },
    {
     "data": {
      "application/vnd.jupyter.widget-view+json": {
       "model_id": "0cb51690d6974e8fb9cc8530994330b4",
       "version_major": 2,
       "version_minor": 0
      },
      "text/plain": [
       "  0%|          | 0/2 [00:00<?, ?it/s]"
      ]
     },
     "metadata": {},
     "output_type": "display_data"
    },
    {
     "data": {
      "application/vnd.jupyter.widget-view+json": {
       "model_id": "0d31e81b7f5a4086ad389b95befceef1",
       "version_major": 2,
       "version_minor": 0
      },
      "text/plain": [
       "  0%|          | 0/1 [00:00<?, ?it/s]"
      ]
     },
     "metadata": {},
     "output_type": "display_data"
    },
    {
     "name": "stdout",
     "output_type": "stream",
     "text": [
      "predictions: [2 2]\n",
      "lista: [['sopros', 'CV : BRNF , sem sopros .']]\n"
     ]
    },
    {
     "data": {
      "application/vnd.jupyter.widget-view+json": {
       "model_id": "9f18b6c5d7854c71be8f7abd1ea43115",
       "version_major": 2,
       "version_minor": 0
      },
      "text/plain": [
       "  0%|          | 0/1 [00:00<?, ?it/s]"
      ]
     },
     "metadata": {},
     "output_type": "display_data"
    },
    {
     "data": {
      "application/vnd.jupyter.widget-view+json": {
       "model_id": "44098445bd534dddaedbd35e4342af11",
       "version_major": 2,
       "version_minor": 0
      },
      "text/plain": [
       "  0%|          | 0/1 [00:00<?, ?it/s]"
      ]
     },
     "metadata": {},
     "output_type": "display_data"
    },
    {
     "name": "stdout",
     "output_type": "stream",
     "text": [
      "predictions: [0]\n",
      "lista: [['CPP', 'CPP livres .']]\n"
     ]
    },
    {
     "data": {
      "application/vnd.jupyter.widget-view+json": {
       "model_id": "4e1c670962f640c58ef606ebc31a6875",
       "version_major": 2,
       "version_minor": 0
      },
      "text/plain": [
       "  0%|          | 0/1 [00:00<?, ?it/s]"
      ]
     },
     "metadata": {},
     "output_type": "display_data"
    },
    {
     "data": {
      "application/vnd.jupyter.widget-view+json": {
       "model_id": "f9a0dd152bc74e6cb3f99196d9655630",
       "version_major": 2,
       "version_minor": 0
      },
      "text/plain": [
       "  0%|          | 0/1 [00:00<?, ?it/s]"
      ]
     },
     "metadata": {},
     "output_type": "display_data"
    },
    {
     "name": "stdout",
     "output_type": "stream",
     "text": [
      "predictions: [3]\n",
      "lista: [['FA paroxística', 'A # FA paroxística .']]\n"
     ]
    },
    {
     "data": {
      "application/vnd.jupyter.widget-view+json": {
       "model_id": "a81162acd32e4280aef9580b1c5b9fc7",
       "version_major": 2,
       "version_minor": 0
      },
      "text/plain": [
       "  0%|          | 0/1 [00:00<?, ?it/s]"
      ]
     },
     "metadata": {},
     "output_type": "display_data"
    },
    {
     "data": {
      "application/vnd.jupyter.widget-view+json": {
       "model_id": "5ab8443d43464c98bcee3a520e5aeecd",
       "version_major": 2,
       "version_minor": 0
      },
      "text/plain": [
       "  0%|          | 0/1 [00:00<?, ?it/s]"
      ]
     },
     "metadata": {},
     "output_type": "display_data"
    },
    {
     "name": "stdout",
     "output_type": "stream",
     "text": [
      "predictions: [0]\n",
      "lista: [['medicação', 'P # Retorno precoce na endocrino para ajuste medicação .']]\n"
     ]
    },
    {
     "data": {
      "application/vnd.jupyter.widget-view+json": {
       "model_id": "519586a5dcb64f9cbbbd1231e82a487d",
       "version_major": 2,
       "version_minor": 0
      },
      "text/plain": [
       "  0%|          | 0/1 [00:00<?, ?it/s]"
      ]
     },
     "metadata": {},
     "output_type": "display_data"
    },
    {
     "data": {
      "application/vnd.jupyter.widget-view+json": {
       "model_id": "7ad27391807049daac46ea9aea327d3e",
       "version_major": 2,
       "version_minor": 0
      },
      "text/plain": [
       "  0%|          | 0/1 [00:00<?, ?it/s]"
      ]
     },
     "metadata": {},
     "output_type": "display_data"
    },
    {
     "name": "stdout",
     "output_type": "stream",
     "text": [
      "predictions: [1]\n",
      "lista: [['selozok', 'Suspendemos selozok .']]\n"
     ]
    },
    {
     "data": {
      "application/vnd.jupyter.widget-view+json": {
       "model_id": "5bbbf360264644a5809406c83c12f7ab",
       "version_major": 2,
       "version_minor": 0
      },
      "text/plain": [
       "  0%|          | 0/1 [00:00<?, ?it/s]"
      ]
     },
     "metadata": {},
     "output_type": "display_data"
    },
    {
     "data": {
      "application/vnd.jupyter.widget-view+json": {
       "model_id": "f1f6490d07e7425aa59f4b0dd6a64ad3",
       "version_major": 2,
       "version_minor": 0
      },
      "text/plain": [
       "  0%|          | 0/1 [00:00<?, ?it/s]"
      ]
     },
     "metadata": {},
     "output_type": "display_data"
    },
    {
     "name": "stdout",
     "output_type": "stream",
     "text": [
      "predictions: [1]\n",
      "lista: [['propafenona 300mg', 'prescrevemos propafenona 300mg 12 / 12h .']]\n"
     ]
    },
    {
     "data": {
      "application/vnd.jupyter.widget-view+json": {
       "model_id": "1035141a902142ac8e637de1328edcf5",
       "version_major": 2,
       "version_minor": 0
      },
      "text/plain": [
       "  0%|          | 0/1 [00:00<?, ?it/s]"
      ]
     },
     "metadata": {},
     "output_type": "display_data"
    },
    {
     "data": {
      "application/vnd.jupyter.widget-view+json": {
       "model_id": "19eab46f83c44c4fbfed0b5fb1befebb",
       "version_major": 2,
       "version_minor": 0
      },
      "text/plain": [
       "  0%|          | 0/1 [00:00<?, ?it/s]"
      ]
     },
     "metadata": {},
     "output_type": "display_data"
    },
    {
     "name": "stdout",
     "output_type": "stream",
     "text": [
      "predictions: [1]\n",
      "lista: [['ecocardio', 'Retorno com ecocardio em 3 meses .']]\n"
     ]
    },
    {
     "data": {
      "application/vnd.jupyter.widget-view+json": {
       "model_id": "67a5afc9e22b4cc6a9ad8f86aef3ba7f",
       "version_major": 2,
       "version_minor": 0
      },
      "text/plain": [
       "  0%|          | 0/1 [00:00<?, ?it/s]"
      ]
     },
     "metadata": {},
     "output_type": "display_data"
    },
    {
     "data": {
      "application/vnd.jupyter.widget-view+json": {
       "model_id": "1b39c847545f4ff8ba0ee63f4699770c",
       "version_major": 2,
       "version_minor": 0
      },
      "text/plain": [
       "  0%|          | 0/1 [00:00<?, ?it/s]"
      ]
     },
     "metadata": {},
     "output_type": "display_data"
    },
    {
     "name": "stdout",
     "output_type": "stream",
     "text": [
      "predictions: [2]\n",
      "lista: [['medicações', 'Demais medicações mantidas .']]\n"
     ]
    },
    {
     "data": {
      "application/vnd.jupyter.widget-view+json": {
       "model_id": "7d500774257f4e1c8cdfb365ef066c55",
       "version_major": 2,
       "version_minor": 0
      },
      "text/plain": [
       "  0%|          | 0/1 [00:00<?, ?it/s]"
      ]
     },
     "metadata": {},
     "output_type": "display_data"
    },
    {
     "data": {
      "application/vnd.jupyter.widget-view+json": {
       "model_id": "6c48f88c516a46acb9d8655fa3fced33",
       "version_major": 2,
       "version_minor": 0
      },
      "text/plain": [
       "  0%|          | 0/1 [00:00<?, ?it/s]"
      ]
     },
     "metadata": {},
     "output_type": "display_data"
    },
    {
     "name": "stdout",
     "output_type": "stream",
     "text": [
      "predictions: [1]\n",
      "lista: [['IAM', '# IAM 2009 - ATC .'], ['ATC', '# IAM 2009 - ATC .']]\n"
     ]
    },
    {
     "data": {
      "application/vnd.jupyter.widget-view+json": {
       "model_id": "61be8ed3d1c24e37bb9a1542a8c6f66e",
       "version_major": 2,
       "version_minor": 0
      },
      "text/plain": [
       "  0%|          | 0/2 [00:00<?, ?it/s]"
      ]
     },
     "metadata": {},
     "output_type": "display_data"
    },
    {
     "data": {
      "application/vnd.jupyter.widget-view+json": {
       "model_id": "e613425babb34ec6a0653531cbe2c986",
       "version_major": 2,
       "version_minor": 0
      },
      "text/plain": [
       "  0%|          | 0/1 [00:00<?, ?it/s]"
      ]
     },
     "metadata": {},
     "output_type": "display_data"
    },
    {
     "name": "stdout",
     "output_type": "stream",
     "text": [
      "predictions: [0 1]\n",
      "lista: [['CA de Laringe', '# CA de Laringe , fez QT e RT - TERMINO TTO 2002 , .']]\n"
     ]
    },
    {
     "data": {
      "application/vnd.jupyter.widget-view+json": {
       "model_id": "83c0bddf596441e29f9d203781d6b142",
       "version_major": 2,
       "version_minor": 0
      },
      "text/plain": [
       "  0%|          | 0/1 [00:00<?, ?it/s]"
      ]
     },
     "metadata": {},
     "output_type": "display_data"
    },
    {
     "data": {
      "application/vnd.jupyter.widget-view+json": {
       "model_id": "2c5a04f241ab4d4cb382f48e3c609be1",
       "version_major": 2,
       "version_minor": 0
      },
      "text/plain": [
       "  0%|          | 0/1 [00:00<?, ?it/s]"
      ]
     },
     "metadata": {},
     "output_type": "display_data"
    },
    {
     "name": "stdout",
     "output_type": "stream",
     "text": [
      "predictions: [0]\n",
      "lista: [['HAS', '# HAS , .']]\n"
     ]
    },
    {
     "data": {
      "application/vnd.jupyter.widget-view+json": {
       "model_id": "46b856a82dbd434db1ae61dbdc2cd9b1",
       "version_major": 2,
       "version_minor": 0
      },
      "text/plain": [
       "  0%|          | 0/1 [00:00<?, ?it/s]"
      ]
     },
     "metadata": {},
     "output_type": "display_data"
    },
    {
     "data": {
      "application/vnd.jupyter.widget-view+json": {
       "model_id": "f74fd5a669084f67b850846d3de519e4",
       "version_major": 2,
       "version_minor": 0
      },
      "text/plain": [
       "  0%|          | 0/1 [00:00<?, ?it/s]"
      ]
     },
     "metadata": {},
     "output_type": "display_data"
    },
    {
     "name": "stdout",
     "output_type": "stream",
     "text": [
      "predictions: [0]\n",
      "lista: [['HPB', '# HPB , .']]\n"
     ]
    },
    {
     "data": {
      "application/vnd.jupyter.widget-view+json": {
       "model_id": "ea4d98b2ec974068aa708897a9a38e67",
       "version_major": 2,
       "version_minor": 0
      },
      "text/plain": [
       "  0%|          | 0/1 [00:00<?, ?it/s]"
      ]
     },
     "metadata": {},
     "output_type": "display_data"
    },
    {
     "data": {
      "application/vnd.jupyter.widget-view+json": {
       "model_id": "e690bbd0acd141ee8b3ca50b4da0d2c7",
       "version_major": 2,
       "version_minor": 0
      },
      "text/plain": [
       "  0%|          | 0/1 [00:00<?, ?it/s]"
      ]
     },
     "metadata": {},
     "output_type": "display_data"
    },
    {
     "name": "stdout",
     "output_type": "stream",
     "text": [
      "predictions: [0]\n",
      "lista: [['DLP', '# DLP , .']]\n"
     ]
    },
    {
     "data": {
      "application/vnd.jupyter.widget-view+json": {
       "model_id": "bd5e9376669946df93d77ddc6296fea7",
       "version_major": 2,
       "version_minor": 0
      },
      "text/plain": [
       "  0%|          | 0/1 [00:00<?, ?it/s]"
      ]
     },
     "metadata": {},
     "output_type": "display_data"
    },
    {
     "data": {
      "application/vnd.jupyter.widget-view+json": {
       "model_id": "223979a8955b4b72bb08bf42678884e3",
       "version_major": 2,
       "version_minor": 0
      },
      "text/plain": [
       "  0%|          | 0/1 [00:00<?, ?it/s]"
      ]
     },
     "metadata": {},
     "output_type": "display_data"
    },
    {
     "name": "stdout",
     "output_type": "stream",
     "text": [
      "predictions: [0]\n",
      "lista: [['ARTRITE REUMATÓIDE', '# ARTRITE REUMATÓIDE .']]\n"
     ]
    },
    {
     "data": {
      "application/vnd.jupyter.widget-view+json": {
       "model_id": "7a6ea59ae9b84af0baebe791064e4cd7",
       "version_major": 2,
       "version_minor": 0
      },
      "text/plain": [
       "  0%|          | 0/1 [00:00<?, ?it/s]"
      ]
     },
     "metadata": {},
     "output_type": "display_data"
    },
    {
     "data": {
      "application/vnd.jupyter.widget-view+json": {
       "model_id": "138b12663b4348939b73713f166c1de3",
       "version_major": 2,
       "version_minor": 0
      },
      "text/plain": [
       "  0%|          | 0/1 [00:00<?, ?it/s]"
      ]
     },
     "metadata": {},
     "output_type": "display_data"
    },
    {
     "name": "stdout",
     "output_type": "stream",
     "text": [
      "predictions: [0]\n",
      "lista: [['Enalapril 20 mg', '- Enalapril 20 mg , 2 cp de 12 / 12 hr .']]\n"
     ]
    },
    {
     "data": {
      "application/vnd.jupyter.widget-view+json": {
       "model_id": "2ac8a20cf0114075ad15354e88a7e737",
       "version_major": 2,
       "version_minor": 0
      },
      "text/plain": [
       "  0%|          | 0/1 [00:00<?, ?it/s]"
      ]
     },
     "metadata": {},
     "output_type": "display_data"
    },
    {
     "data": {
      "application/vnd.jupyter.widget-view+json": {
       "model_id": "84f7af9cf8f84062b50245fb07fe9ec8",
       "version_major": 2,
       "version_minor": 0
      },
      "text/plain": [
       "  0%|          | 0/1 [00:00<?, ?it/s]"
      ]
     },
     "metadata": {},
     "output_type": "display_data"
    },
    {
     "name": "stdout",
     "output_type": "stream",
     "text": [
      "predictions: [1]\n",
      "lista: [['CARVEDILOL 12 , 5MG', '- CARVEDILOL 12 , 5MG , 1 cp de 12 / 12 hr , .']]\n"
     ]
    },
    {
     "data": {
      "application/vnd.jupyter.widget-view+json": {
       "model_id": "4b6f7154e5ec4e16b0a0db45b2eab412",
       "version_major": 2,
       "version_minor": 0
      },
      "text/plain": [
       "  0%|          | 0/1 [00:00<?, ?it/s]"
      ]
     },
     "metadata": {},
     "output_type": "display_data"
    },
    {
     "data": {
      "application/vnd.jupyter.widget-view+json": {
       "model_id": "3a1076857120472c8f504917da284220",
       "version_major": 2,
       "version_minor": 0
      },
      "text/plain": [
       "  0%|          | 0/1 [00:00<?, ?it/s]"
      ]
     },
     "metadata": {},
     "output_type": "display_data"
    },
    {
     "name": "stdout",
     "output_type": "stream",
     "text": [
      "predictions: [1]\n",
      "lista: [['AAS 100 mg', '- AAS 100 mg , 1 / dia ; .']]\n"
     ]
    },
    {
     "data": {
      "application/vnd.jupyter.widget-view+json": {
       "model_id": "8dccdebfb3d54c3e88b4e7bd11612699",
       "version_major": 2,
       "version_minor": 0
      },
      "text/plain": [
       "  0%|          | 0/1 [00:00<?, ?it/s]"
      ]
     },
     "metadata": {},
     "output_type": "display_data"
    },
    {
     "data": {
      "application/vnd.jupyter.widget-view+json": {
       "model_id": "16aab4eec7884f11b10a087722306d90",
       "version_major": 2,
       "version_minor": 0
      },
      "text/plain": [
       "  0%|          | 0/1 [00:00<?, ?it/s]"
      ]
     },
     "metadata": {},
     "output_type": "display_data"
    },
    {
     "name": "stdout",
     "output_type": "stream",
     "text": [
      "predictions: [1]\n",
      "lista: [['Sinvastatina 20mg', '- Sinvastatina 20mg , 4 cp de noite ; .']]\n"
     ]
    },
    {
     "data": {
      "application/vnd.jupyter.widget-view+json": {
       "model_id": "4a52356df1c94125b9f1e23a0af263b9",
       "version_major": 2,
       "version_minor": 0
      },
      "text/plain": [
       "  0%|          | 0/1 [00:00<?, ?it/s]"
      ]
     },
     "metadata": {},
     "output_type": "display_data"
    },
    {
     "data": {
      "application/vnd.jupyter.widget-view+json": {
       "model_id": "a89b80541a024008a060a6a6484563c9",
       "version_major": 2,
       "version_minor": 0
      },
      "text/plain": [
       "  0%|          | 0/1 [00:00<?, ?it/s]"
      ]
     },
     "metadata": {},
     "output_type": "display_data"
    },
    {
     "name": "stdout",
     "output_type": "stream",
     "text": [
      "predictions: [1]\n",
      "lista: [['Omeprazol 20m mg', '- Omeprazol 20m mg , 2 cp de 12 / 12hr ; .']]\n"
     ]
    },
    {
     "data": {
      "application/vnd.jupyter.widget-view+json": {
       "model_id": "c5693e0b3fe2480abddcca7c5a70cb5c",
       "version_major": 2,
       "version_minor": 0
      },
      "text/plain": [
       "  0%|          | 0/1 [00:00<?, ?it/s]"
      ]
     },
     "metadata": {},
     "output_type": "display_data"
    },
    {
     "data": {
      "application/vnd.jupyter.widget-view+json": {
       "model_id": "25159129c52e487a8e0b08757a8d98af",
       "version_major": 2,
       "version_minor": 0
      },
      "text/plain": [
       "  0%|          | 0/1 [00:00<?, ?it/s]"
      ]
     },
     "metadata": {},
     "output_type": "display_data"
    },
    {
     "name": "stdout",
     "output_type": "stream",
     "text": [
      "predictions: [1]\n",
      "lista: [['PREDNISONA 5 MG', '- PREDNISONA 5 MG ; .']]\n"
     ]
    },
    {
     "data": {
      "application/vnd.jupyter.widget-view+json": {
       "model_id": "93c2999e6d7b49729fb63dbbe17d018f",
       "version_major": 2,
       "version_minor": 0
      },
      "text/plain": [
       "  0%|          | 0/1 [00:00<?, ?it/s]"
      ]
     },
     "metadata": {},
     "output_type": "display_data"
    },
    {
     "data": {
      "application/vnd.jupyter.widget-view+json": {
       "model_id": "711b3c5ed0c442d2a8258d683430d4aa",
       "version_major": 2,
       "version_minor": 0
      },
      "text/plain": [
       "  0%|          | 0/1 [00:00<?, ?it/s]"
      ]
     },
     "metadata": {},
     "output_type": "display_data"
    },
    {
     "name": "stdout",
     "output_type": "stream",
     "text": [
      "predictions: [1]\n",
      "lista: [['COMBODART', '- COMBODART .']]\n"
     ]
    },
    {
     "data": {
      "application/vnd.jupyter.widget-view+json": {
       "model_id": "e21ad1a85e7643e29baf6eb5872fc123",
       "version_major": 2,
       "version_minor": 0
      },
      "text/plain": [
       "  0%|          | 0/1 [00:00<?, ?it/s]"
      ]
     },
     "metadata": {},
     "output_type": "display_data"
    },
    {
     "data": {
      "application/vnd.jupyter.widget-view+json": {
       "model_id": "fcb10b33b2ad407caa46e6208caf28a3",
       "version_major": 2,
       "version_minor": 0
      },
      "text/plain": [
       "  0%|          | 0/1 [00:00<?, ?it/s]"
      ]
     },
     "metadata": {},
     "output_type": "display_data"
    },
    {
     "name": "stdout",
     "output_type": "stream",
     "text": [
      "predictions: [1]\n",
      "lista: [['Teste de esforço', '***Teste de esforço 10 / 2013 : eficaz , submáximo , sem alterações .'], ['alterações', '***Teste de esforço 10 / 2013 : eficaz , submáximo , sem alterações .']]\n"
     ]
    },
    {
     "data": {
      "application/vnd.jupyter.widget-view+json": {
       "model_id": "5aa7d598abf14a1d87989d5977a235c7",
       "version_major": 2,
       "version_minor": 0
      },
      "text/plain": [
       "  0%|          | 0/2 [00:00<?, ?it/s]"
      ]
     },
     "metadata": {},
     "output_type": "display_data"
    },
    {
     "data": {
      "application/vnd.jupyter.widget-view+json": {
       "model_id": "c0507bba1380499db8b373a7c2350f0c",
       "version_major": 2,
       "version_minor": 0
      },
      "text/plain": [
       "  0%|          | 0/1 [00:00<?, ?it/s]"
      ]
     },
     "metadata": {},
     "output_type": "display_data"
    },
    {
     "name": "stdout",
     "output_type": "stream",
     "text": [
      "predictions: [2 0]\n",
      "lista: [['iesquemia miocardica', 'Clínicas ou eletrocardiográficas de iesquemia miocardica .'], ['miocardica', 'Clínicas ou eletrocardiográficas de iesquemia miocardica .']]\n"
     ]
    },
    {
     "data": {
      "application/vnd.jupyter.widget-view+json": {
       "model_id": "f918af226fb740a4a06acf7e5e81d0c2",
       "version_major": 2,
       "version_minor": 0
      },
      "text/plain": [
       "  0%|          | 0/2 [00:00<?, ?it/s]"
      ]
     },
     "metadata": {},
     "output_type": "display_data"
    },
    {
     "data": {
      "application/vnd.jupyter.widget-view+json": {
       "model_id": "770aea0c508c4169bce528a7f0be030c",
       "version_major": 2,
       "version_minor": 0
      },
      "text/plain": [
       "  0%|          | 0/1 [00:00<?, ?it/s]"
      ]
     },
     "metadata": {},
     "output_type": "display_data"
    },
    {
     "name": "stdout",
     "output_type": "stream",
     "text": [
      "predictions: [0 3]\n",
      "lista: [['Resposta tensional', 'Resposta tensional fisiológica .']]\n"
     ]
    },
    {
     "data": {
      "application/vnd.jupyter.widget-view+json": {
       "model_id": "c7fc08ba688b4f3ab6badfa0564b1ce0",
       "version_major": 2,
       "version_minor": 0
      },
      "text/plain": [
       "  0%|          | 0/1 [00:00<?, ?it/s]"
      ]
     },
     "metadata": {},
     "output_type": "display_data"
    },
    {
     "data": {
      "application/vnd.jupyter.widget-view+json": {
       "model_id": "1424d4297d284e3b9256a8d9fa39afa1",
       "version_major": 2,
       "version_minor": 0
      },
      "text/plain": [
       "  0%|          | 0/1 [00:00<?, ?it/s]"
      ]
     },
     "metadata": {},
     "output_type": "display_data"
    },
    {
     "name": "stdout",
     "output_type": "stream",
     "text": [
      "predictions: [0]\n",
      "lista: [['ECOCARDIO', '*** ECOCARDIO 11 / 06 / 2014 : VE COM DIMENSÃO INTERNA , CONTRATILIDADE MIOCARDICA E FUNÇÃO SISTOLICA GLOBAL NORMAIS , DISFUNÇÃO DIASTOLICA TIPO ALTERAÇÃO DE RELAXAMENTO , AE E CAVIDADES DIREITAS NORMAIS , .'], ['VE', '*** ECOCARDIO 11 / 06 / 2014 : VE COM DIMENSÃO INTERNA , CONTRATILIDADE MIOCARDICA E FUNÇÃO SISTOLICA GLOBAL NORMAIS , DISFUNÇÃO DIASTOLICA TIPO ALTERAÇÃO DE RELAXAMENTO , AE E CAVIDADES DIREITAS NORMAIS , .'], ['DIMENSÃO INTERNA', '*** ECOCARDIO 11 / 06 / 2014 : VE COM DIMENSÃO INTERNA , CONTRATILIDADE MIOCARDICA E FUNÇÃO SISTOLICA GLOBAL NORMAIS , DISFUNÇÃO DIASTOLICA TIPO ALTERAÇÃO DE RELAXAMENTO , AE E CAVIDADES DIREITAS NORMAIS , .'], ['CONTRATILIDADE MIOCARDICA', '*** ECOCARDIO 11 / 06 / 2014 : VE COM DIMENSÃO INTERNA , CONTRATILIDADE MIOCARDICA E FUNÇÃO SISTOLICA GLOBAL NORMAIS , DISFUNÇÃO DIASTOLICA TIPO ALTERAÇÃO DE RELAXAMENTO , AE E CAVIDADES DIREITAS NORMAIS , .'], ['MIOCARDICA', '*** ECOCARDIO 11 / 06 / 2014 : VE COM DIMENSÃO INTERNA , CONTRATILIDADE MIOCARDICA E FUNÇÃO SISTOLICA GLOBAL NORMAIS , DISFUNÇÃO DIASTOLICA TIPO ALTERAÇÃO DE RELAXAMENTO , AE E CAVIDADES DIREITAS NORMAIS , .'], ['DISFUNÇÃO DIASTOLICA TIPO ALTERAÇÃO DE RELAXAMENTO', '*** ECOCARDIO 11 / 06 / 2014 : VE COM DIMENSÃO INTERNA , CONTRATILIDADE MIOCARDICA E FUNÇÃO SISTOLICA GLOBAL NORMAIS , DISFUNÇÃO DIASTOLICA TIPO ALTERAÇÃO DE RELAXAMENTO , AE E CAVIDADES DIREITAS NORMAIS , .'], ['AE', '*** ECOCARDIO 11 / 06 / 2014 : VE COM DIMENSÃO INTERNA , CONTRATILIDADE MIOCARDICA E FUNÇÃO SISTOLICA GLOBAL NORMAIS , DISFUNÇÃO DIASTOLICA TIPO ALTERAÇÃO DE RELAXAMENTO , AE E CAVIDADES DIREITAS NORMAIS , .']]\n"
     ]
    },
    {
     "data": {
      "application/vnd.jupyter.widget-view+json": {
       "model_id": "4310efc65d254600935bf17e2d2234aa",
       "version_major": 2,
       "version_minor": 0
      },
      "text/plain": [
       "  0%|          | 0/7 [00:00<?, ?it/s]"
      ]
     },
     "metadata": {},
     "output_type": "display_data"
    },
    {
     "data": {
      "application/vnd.jupyter.widget-view+json": {
       "model_id": "3b799f759c7a429b83ea9d6ba969b211",
       "version_major": 2,
       "version_minor": 0
      },
      "text/plain": [
       "  0%|          | 0/1 [00:00<?, ?it/s]"
      ]
     },
     "metadata": {},
     "output_type": "display_data"
    },
    {
     "name": "stdout",
     "output_type": "stream",
     "text": [
      "predictions: [2 3 0 0 3 0 3]\n",
      "lista: [['FLUXOS VALVARES', 'FLUXOS VALVARES SEM ANORMALIDADES MORFOFUNCIONAIS SIGNIFICATIVAS .']]\n"
     ]
    },
    {
     "data": {
      "application/vnd.jupyter.widget-view+json": {
       "model_id": "637482aceec14bd4af007fa1280c32b2",
       "version_major": 2,
       "version_minor": 0
      },
      "text/plain": [
       "  0%|          | 0/1 [00:00<?, ?it/s]"
      ]
     },
     "metadata": {},
     "output_type": "display_data"
    },
    {
     "data": {
      "application/vnd.jupyter.widget-view+json": {
       "model_id": "1fc44c3f183d48ebb3db7e11e95df120",
       "version_major": 2,
       "version_minor": 0
      },
      "text/plain": [
       "  0%|          | 0/1 [00:00<?, ?it/s]"
      ]
     },
     "metadata": {},
     "output_type": "display_data"
    },
    {
     "name": "stdout",
     "output_type": "stream",
     "text": [
      "predictions: [0]\n",
      "lista: [['AE', 'AE 31 , VDC 21 , DDDV 44 , DSVE 30 , FE 60 .'], ['VDC', 'AE 31 , VDC 21 , DDDV 44 , DSVE 30 , FE 60 .']]\n"
     ]
    },
    {
     "data": {
      "application/vnd.jupyter.widget-view+json": {
       "model_id": "f7afe1091f1a48ce8770158e786b0bd3",
       "version_major": 2,
       "version_minor": 0
      },
      "text/plain": [
       "  0%|          | 0/2 [00:00<?, ?it/s]"
      ]
     },
     "metadata": {},
     "output_type": "display_data"
    },
    {
     "data": {
      "application/vnd.jupyter.widget-view+json": {
       "model_id": "eea78fef2f6d4e15898a48eebee53f03",
       "version_major": 2,
       "version_minor": 0
      },
      "text/plain": [
       "  0%|          | 0/1 [00:00<?, ?it/s]"
      ]
     },
     "metadata": {},
     "output_type": "display_data"
    },
    {
     "name": "stdout",
     "output_type": "stream",
     "text": [
      "predictions: [3 3]\n",
      "lista: [['QUEIXAS', 'S # SEM QUEIXAS .']]\n"
     ]
    },
    {
     "data": {
      "application/vnd.jupyter.widget-view+json": {
       "model_id": "6c20db642e1341658ed6ecd707fa64c0",
       "version_major": 2,
       "version_minor": 0
      },
      "text/plain": [
       "  0%|          | 0/1 [00:00<?, ?it/s]"
      ]
     },
     "metadata": {},
     "output_type": "display_data"
    },
    {
     "data": {
      "application/vnd.jupyter.widget-view+json": {
       "model_id": "623b42adc600482da024401aeb31609c",
       "version_major": 2,
       "version_minor": 0
      },
      "text/plain": [
       "  0%|          | 0/1 [00:00<?, ?it/s]"
      ]
     },
     "metadata": {},
     "output_type": "display_data"
    },
    {
     "name": "stdout",
     "output_type": "stream",
     "text": [
      "predictions: [0]\n",
      "lista: [['DISPNEIA', 'NEGA DISPNEIA E DOR NO PEITO .']]\n"
     ]
    },
    {
     "data": {
      "application/vnd.jupyter.widget-view+json": {
       "model_id": "e7cb2846a6144f7cb7b008b51f04daff",
       "version_major": 2,
       "version_minor": 0
      },
      "text/plain": [
       "  0%|          | 0/1 [00:00<?, ?it/s]"
      ]
     },
     "metadata": {},
     "output_type": "display_data"
    },
    {
     "data": {
      "application/vnd.jupyter.widget-view+json": {
       "model_id": "87b70c15d30149668d60b88a88a1a937",
       "version_major": 2,
       "version_minor": 0
      },
      "text/plain": [
       "  0%|          | 0/1 [00:00<?, ?it/s]"
      ]
     },
     "metadata": {},
     "output_type": "display_data"
    },
    {
     "name": "stdout",
     "output_type": "stream",
     "text": [
      "predictions: [0]\n",
      "lista: [['PA', 'PA 120 / 80 , FC 80 ; .'], ['FC', 'PA 120 / 80 , FC 80 ; .']]\n"
     ]
    },
    {
     "data": {
      "application/vnd.jupyter.widget-view+json": {
       "model_id": "5cf6690fc19747008202b2ded987d264",
       "version_major": 2,
       "version_minor": 0
      },
      "text/plain": [
       "  0%|          | 0/2 [00:00<?, ?it/s]"
      ]
     },
     "metadata": {},
     "output_type": "display_data"
    },
    {
     "data": {
      "application/vnd.jupyter.widget-view+json": {
       "model_id": "b98c282fb180411094779c1ce9f7c448",
       "version_major": 2,
       "version_minor": 0
      },
      "text/plain": [
       "  0%|          | 0/1 [00:00<?, ?it/s]"
      ]
     },
     "metadata": {},
     "output_type": "display_data"
    },
    {
     "name": "stdout",
     "output_type": "stream",
     "text": [
      "predictions: [2 2]\n",
      "lista: [['RA', 'AP : MV + BILAT , SEM RA ; .']]\n"
     ]
    },
    {
     "data": {
      "application/vnd.jupyter.widget-view+json": {
       "model_id": "a058de4fe37046cab3f809ae822bd736",
       "version_major": 2,
       "version_minor": 0
      },
      "text/plain": [
       "  0%|          | 0/1 [00:00<?, ?it/s]"
      ]
     },
     "metadata": {},
     "output_type": "display_data"
    },
    {
     "data": {
      "application/vnd.jupyter.widget-view+json": {
       "model_id": "30ab88395d9941a7b05ec950cede5930",
       "version_major": 2,
       "version_minor": 0
      },
      "text/plain": [
       "  0%|          | 0/1 [00:00<?, ?it/s]"
      ]
     },
     "metadata": {},
     "output_type": "display_data"
    },
    {
     "name": "stdout",
     "output_type": "stream",
     "text": [
      "predictions: [0]\n",
      "lista: [['ABD', 'ABD : SP ; .']]\n"
     ]
    },
    {
     "data": {
      "application/vnd.jupyter.widget-view+json": {
       "model_id": "0373129ca493456fae420471914b9b8e",
       "version_major": 2,
       "version_minor": 0
      },
      "text/plain": [
       "  0%|          | 0/1 [00:00<?, ?it/s]"
      ]
     },
     "metadata": {},
     "output_type": "display_data"
    },
    {
     "data": {
      "application/vnd.jupyter.widget-view+json": {
       "model_id": "7044a3f4cf9a47219df4f298d6fc1b40",
       "version_major": 2,
       "version_minor": 0
      },
      "text/plain": [
       "  0%|          | 0/1 [00:00<?, ?it/s]"
      ]
     },
     "metadata": {},
     "output_type": "display_data"
    },
    {
     "name": "stdout",
     "output_type": "stream",
     "text": [
      "predictions: [3]\n",
      "lista: [['MMII', 'MMII : SP ; .']]\n"
     ]
    },
    {
     "data": {
      "application/vnd.jupyter.widget-view+json": {
       "model_id": "09421b2dc27a4cdc80f545d834457c01",
       "version_major": 2,
       "version_minor": 0
      },
      "text/plain": [
       "  0%|          | 0/1 [00:00<?, ?it/s]"
      ]
     },
     "metadata": {},
     "output_type": "display_data"
    },
    {
     "data": {
      "application/vnd.jupyter.widget-view+json": {
       "model_id": "eac2d10f600f42c093873d87b5c7e8d7",
       "version_major": 2,
       "version_minor": 0
      },
      "text/plain": [
       "  0%|          | 0/1 [00:00<?, ?it/s]"
      ]
     },
     "metadata": {},
     "output_type": "display_data"
    },
    {
     "name": "stdout",
     "output_type": "stream",
     "text": [
      "predictions: [3]\n",
      "lista: [['DAC', 'A # DAC .']]\n"
     ]
    },
    {
     "data": {
      "application/vnd.jupyter.widget-view+json": {
       "model_id": "f48617fa12864c98be4a756d1a80be55",
       "version_major": 2,
       "version_minor": 0
      },
      "text/plain": [
       "  0%|          | 0/1 [00:00<?, ?it/s]"
      ]
     },
     "metadata": {},
     "output_type": "display_data"
    },
    {
     "data": {
      "application/vnd.jupyter.widget-view+json": {
       "model_id": "6d347a978052471f9b4f2dc96175f594",
       "version_major": 2,
       "version_minor": 0
      },
      "text/plain": [
       "  0%|          | 0/1 [00:00<?, ?it/s]"
      ]
     },
     "metadata": {},
     "output_type": "display_data"
    },
    {
     "name": "stdout",
     "output_type": "stream",
     "text": [
      "predictions: [0]\n",
      "lista: [['EX', 'EX DE CONTROLE .']]\n"
     ]
    },
    {
     "data": {
      "application/vnd.jupyter.widget-view+json": {
       "model_id": "181c97454c504592844a9335765559b8",
       "version_major": 2,
       "version_minor": 0
      },
      "text/plain": [
       "  0%|          | 0/1 [00:00<?, ?it/s]"
      ]
     },
     "metadata": {},
     "output_type": "display_data"
    },
    {
     "data": {
      "application/vnd.jupyter.widget-view+json": {
       "model_id": "9929d8e60c0b47cfa0b9c4e5ee8d4aa3",
       "version_major": 2,
       "version_minor": 0
      },
      "text/plain": [
       "  0%|          | 0/1 [00:00<?, ?it/s]"
      ]
     },
     "metadata": {},
     "output_type": "display_data"
    },
    {
     "name": "stdout",
     "output_type": "stream",
     "text": [
      "predictions: [2]\n"
     ]
    }
   ],
   "source": [
    "#%%capture \n",
    "# para suprimir output\n",
    "#combinacaoEntidadesAll = f.load_obj('combinacaoEntidadesAll_'+str(BATCH))\n",
    "#BATCH=506\n",
    "BATCH=506\n",
    "print('Chamando predict')\n",
    "pred_region_labels = list()\n",
    "for key, combinacao in enumerate(listaPredictFrases):\n",
    "    if key<BATCH:    \n",
    "        if len(combinacao)>0:\n",
    "            lista = [l[0:2] for l in combinacao]\n",
    "            print('lista:', lista)\n",
    "            if len(lista)>0:\n",
    "                predictions, _ = model.predict(lista) \n",
    "            else:\n",
    "                predictions=[]\n",
    "            print('predictions:', predictions)\n",
    "            pred_region_labels.append([p for p in predictions])\n",
    "        else:\n",
    "            predictions=[]\n",
    "            print('combinacao vazia, key: ', key)\n",
    "            pred_region_labels.append([p for p in predictions])\n",
    "            #for comb, label in zip(combinacao, predictions):\n",
    "            #    comb.append(label)"
   ]
  },
  {
   "cell_type": "code",
   "execution_count": 287,
   "metadata": {},
   "outputs": [
    {
     "data": {
      "text/plain": [
       "411"
      ]
     },
     "execution_count": 287,
     "metadata": {},
     "output_type": "execute_result"
    }
   ],
   "source": [
    "len(pred_region_labels)"
   ]
  },
  {
   "cell_type": "code",
   "execution_count": 288,
   "metadata": {},
   "outputs": [
    {
     "data": {
      "text/plain": [
       "411"
      ]
     },
     "execution_count": 288,
     "metadata": {},
     "output_type": "execute_result"
    }
   ],
   "source": [
    "len(listaPredictFrases)"
   ]
  },
  {
   "cell_type": "code",
   "execution_count": 289,
   "metadata": {},
   "outputs": [
    {
     "name": "stdout",
     "output_type": "stream",
     "text": [
      "[]\n",
      "[]\n"
     ]
    }
   ],
   "source": [
    "print(pred_region_labels[13])\n",
    "print(listaPredictFrases[13])"
   ]
  },
  {
   "cell_type": "code",
   "execution_count": 290,
   "metadata": {},
   "outputs": [
    {
     "data": {
      "text/plain": [
       "[0]"
      ]
     },
     "execution_count": 290,
     "metadata": {},
     "output_type": "execute_result"
    }
   ],
   "source": [
    "pred_region_labels[14]"
   ]
  },
  {
   "cell_type": "code",
   "execution_count": 291,
   "metadata": {},
   "outputs": [
    {
     "data": {
      "text/plain": [
       "[['FA', 'A : FA .']]"
      ]
     },
     "execution_count": 291,
     "metadata": {},
     "output_type": "execute_result"
    }
   ],
   "source": [
    "listaPredictFrases[14]"
   ]
  },
  {
   "cell_type": "code",
   "execution_count": 292,
   "metadata": {},
   "outputs": [
    {
     "data": {
      "text/plain": [
       "[[['FA',\n",
       "   'Em acompanhamento no ambualtorio há 5 anos por FA , uso de marevan 5mg 1 x ao dia .'],\n",
       "  ['marevan 5mg',\n",
       "   'Em acompanhamento no ambualtorio há 5 anos por FA , uso de marevan 5mg 1 x ao dia .']],\n",
       " [['Comorbidades',\n",
       "   'Comorbidades : DM há 10 anos em uso de metformina 850mg 3 cp / dia , acarbose 1 cp / dia e glicazida 60mg 2 cp / dia e insulina ( 24 - 0 - 24 ) .'],\n",
       "  ['DM',\n",
       "   'Comorbidades : DM há 10 anos em uso de metformina 850mg 3 cp / dia , acarbose 1 cp / dia e glicazida 60mg 2 cp / dia e insulina ( 24 - 0 - 24 ) .'],\n",
       "  ['metformina 850mg',\n",
       "   'Comorbidades : DM há 10 anos em uso de metformina 850mg 3 cp / dia , acarbose 1 cp / dia e glicazida 60mg 2 cp / dia e insulina ( 24 - 0 - 24 ) .'],\n",
       "  ['acarbose',\n",
       "   'Comorbidades : DM há 10 anos em uso de metformina 850mg 3 cp / dia , acarbose 1 cp / dia e glicazida 60mg 2 cp / dia e insulina ( 24 - 0 - 24 ) .'],\n",
       "  ['glicazida 60mg',\n",
       "   'Comorbidades : DM há 10 anos em uso de metformina 850mg 3 cp / dia , acarbose 1 cp / dia e glicazida 60mg 2 cp / dia e insulina ( 24 - 0 - 24 ) .'],\n",
       "  ['insulina',\n",
       "   'Comorbidades : DM há 10 anos em uso de metformina 850mg 3 cp / dia , acarbose 1 cp / dia e glicazida 60mg 2 cp / dia e insulina ( 24 - 0 - 24 ) .']],\n",
       " [['HAS',\n",
       "   'HAS há 15 anos em uso de losartana 50mg / dia e digoxina 1 / 2 cp / dia , carvedilol 25 12 / 12 , HCTZ .'],\n",
       "  ['losartana 50mg',\n",
       "   'HAS há 15 anos em uso de losartana 50mg / dia e digoxina 1 / 2 cp / dia , carvedilol 25 12 / 12 , HCTZ .'],\n",
       "  ['digoxina',\n",
       "   'HAS há 15 anos em uso de losartana 50mg / dia e digoxina 1 / 2 cp / dia , carvedilol 25 12 / 12 , HCTZ .'],\n",
       "  ['carvedilol 25',\n",
       "   'HAS há 15 anos em uso de losartana 50mg / dia e digoxina 1 / 2 cp / dia , carvedilol 25 12 / 12 , HCTZ .'],\n",
       "  ['HCTZ',\n",
       "   'HAS há 15 anos em uso de losartana 50mg / dia e digoxina 1 / 2 cp / dia , carvedilol 25 12 / 12 , HCTZ .']],\n",
       " [['DSLP',\n",
       "   'DSLP em uso de sinvastatina , marevan 1 cp / dia seg - sab para no alvo sic .'],\n",
       "  ['sinvastatina',\n",
       "   'DSLP em uso de sinvastatina , marevan 1 cp / dia seg - sab para no alvo sic .'],\n",
       "  ['marevan',\n",
       "   'DSLP em uso de sinvastatina , marevan 1 cp / dia seg - sab para no alvo sic .']],\n",
       " [['dispnéia', 'Nega dispnéia , DPN e ortopneia , palpitações e sincope .'],\n",
       "  ['DPN', 'Nega dispnéia , DPN e ortopneia , palpitações e sincope .'],\n",
       "  ['ortopneia', 'Nega dispnéia , DPN e ortopneia , palpitações e sincope .'],\n",
       "  ['palpitações', 'Nega dispnéia , DPN e ortopneia , palpitações e sincope .'],\n",
       "  ['sincope', 'Nega dispnéia , DPN e ortopneia , palpitações e sincope .']],\n",
       " [['afebril',\n",
       "   'O : BEG , corada , hidtratada , afebril , fc 63 , so2 97 % , pa 130 / 80 ; MV presente , simétrico , sem RA .'],\n",
       "  ['so2',\n",
       "   'O : BEG , corada , hidtratada , afebril , fc 63 , so2 97 % , pa 130 / 80 ; MV presente , simétrico , sem RA .'],\n",
       "  ['pa',\n",
       "   'O : BEG , corada , hidtratada , afebril , fc 63 , so2 97 % , pa 130 / 80 ; MV presente , simétrico , sem RA .'],\n",
       "  ['RA',\n",
       "   'O : BEG , corada , hidtratada , afebril , fc 63 , so2 97 % , pa 130 / 80 ; MV presente , simétrico , sem RA .']],\n",
       " [['SS', 'BC arritmicas , NF SS 2T .']],\n",
       " [['Abd', 'Abd globoso , flacido , indolor a palpacao , sem VCM .'],\n",
       "  ['VCM', 'Abd globoso , flacido , indolor a palpacao , sem VCM .']],\n",
       " [['MMII', 'MMII sem edema , panturrilhas livres .']],\n",
       " [['Exames', 'Exames - Holter : FC controlada , media 92 .'],\n",
       "  ['Holter', 'Exames - Holter : FC controlada , media 92 .']],\n",
       " [['Cr',\n",
       "   'Cr - 0 , 7 ; glic - 140 ; ureia - 33 ; CPK - 68 , Triglerideos - 335 ; HDL - 30 ; CT - 216 ; LDL - 119 ; K - 5 , 1 ; RNI - 2 , 07 ; Microalbuminúria 308 mg / g .'],\n",
       "  ['glic',\n",
       "   'Cr - 0 , 7 ; glic - 140 ; ureia - 33 ; CPK - 68 , Triglerideos - 335 ; HDL - 30 ; CT - 216 ; LDL - 119 ; K - 5 , 1 ; RNI - 2 , 07 ; Microalbuminúria 308 mg / g .'],\n",
       "  ['ureia',\n",
       "   'Cr - 0 , 7 ; glic - 140 ; ureia - 33 ; CPK - 68 , Triglerideos - 335 ; HDL - 30 ; CT - 216 ; LDL - 119 ; K - 5 , 1 ; RNI - 2 , 07 ; Microalbuminúria 308 mg / g .'],\n",
       "  ['CPK',\n",
       "   'Cr - 0 , 7 ; glic - 140 ; ureia - 33 ; CPK - 68 , Triglerideos - 335 ; HDL - 30 ; CT - 216 ; LDL - 119 ; K - 5 , 1 ; RNI - 2 , 07 ; Microalbuminúria 308 mg / g .'],\n",
       "  ['Triglerideos',\n",
       "   'Cr - 0 , 7 ; glic - 140 ; ureia - 33 ; CPK - 68 , Triglerideos - 335 ; HDL - 30 ; CT - 216 ; LDL - 119 ; K - 5 , 1 ; RNI - 2 , 07 ; Microalbuminúria 308 mg / g .'],\n",
       "  ['HDL',\n",
       "   'Cr - 0 , 7 ; glic - 140 ; ureia - 33 ; CPK - 68 , Triglerideos - 335 ; HDL - 30 ; CT - 216 ; LDL - 119 ; K - 5 , 1 ; RNI - 2 , 07 ; Microalbuminúria 308 mg / g .'],\n",
       "  ['CT',\n",
       "   'Cr - 0 , 7 ; glic - 140 ; ureia - 33 ; CPK - 68 , Triglerideos - 335 ; HDL - 30 ; CT - 216 ; LDL - 119 ; K - 5 , 1 ; RNI - 2 , 07 ; Microalbuminúria 308 mg / g .'],\n",
       "  ['LDL',\n",
       "   'Cr - 0 , 7 ; glic - 140 ; ureia - 33 ; CPK - 68 , Triglerideos - 335 ; HDL - 30 ; CT - 216 ; LDL - 119 ; K - 5 , 1 ; RNI - 2 , 07 ; Microalbuminúria 308 mg / g .'],\n",
       "  ['K',\n",
       "   'Cr - 0 , 7 ; glic - 140 ; ureia - 33 ; CPK - 68 , Triglerideos - 335 ; HDL - 30 ; CT - 216 ; LDL - 119 ; K - 5 , 1 ; RNI - 2 , 07 ; Microalbuminúria 308 mg / g .'],\n",
       "  ['RNI',\n",
       "   'Cr - 0 , 7 ; glic - 140 ; ureia - 33 ; CPK - 68 , Triglerideos - 335 ; HDL - 30 ; CT - 216 ; LDL - 119 ; K - 5 , 1 ; RNI - 2 , 07 ; Microalbuminúria 308 mg / g .']],\n",
       " [['Ecocardiograma',\n",
       "   'Ecocardiograma - ventrículo esquerdo com hipertrofia concentrica de grau discreto e função sistólica preservada .'],\n",
       "  ['concentrica de grau discreto',\n",
       "   'Ecocardiograma - ventrículo esquerdo com hipertrofia concentrica de grau discreto e função sistólica preservada .']],\n",
       " [['aumento moderado de átrio esquerdo',\n",
       "   'aumento moderado de átrio esquerdo .']],\n",
       " [],\n",
       " [['FA', 'A : FA .']],\n",
       " [['PA',\n",
       "   'PA - 120 / 80 , P - 72 , bulhas arritimicas , normofonéticas , sem sopros .'],\n",
       "  ['P',\n",
       "   'PA - 120 / 80 , P - 72 , bulhas arritimicas , normofonéticas , sem sopros .'],\n",
       "  ['sopros',\n",
       "   'PA - 120 / 80 , P - 72 , bulhas arritimicas , normofonéticas , sem sopros .']],\n",
       " [['Abdomen', 'Abdomen flácido , indolor , sem visceromegalias .'],\n",
       "  ['visceromegalias', 'Abdomen flácido , indolor , sem visceromegalias .']],\n",
       " [['alterações nos MMII', 'Sem alterações nos MMII .'],\n",
       "  ['nos MMII', 'Sem alterações nos MMII .']],\n",
       " [['dose da sinvastatina para 40mg',\n",
       "   'Otimizo dose da sinvastatina para 40mg / dia .']],\n",
       " [['HAS',\n",
       "   '# Lucas , 78 anos * HAS , * Gota , * DAC - IAM + ATC em 2012 ( angina instavel ) - Ecocardiograma mar / 14 : FE 42 % / comprometimento difuso do VE grau moderado , insuf Mi discreta , insuf Tri discreta , hipetensao pulmonar discreta .'],\n",
       "  ['Gota',\n",
       "   '# Lucas , 78 anos * HAS , * Gota , * DAC - IAM + ATC em 2012 ( angina instavel ) - Ecocardiograma mar / 14 : FE 42 % / comprometimento difuso do VE grau moderado , insuf Mi discreta , insuf Tri discreta , hipetensao pulmonar discreta .'],\n",
       "  ['DAC',\n",
       "   '# Lucas , 78 anos * HAS , * Gota , * DAC - IAM + ATC em 2012 ( angina instavel ) - Ecocardiograma mar / 14 : FE 42 % / comprometimento difuso do VE grau moderado , insuf Mi discreta , insuf Tri discreta , hipetensao pulmonar discreta .'],\n",
       "  ['IAM',\n",
       "   '# Lucas , 78 anos * HAS , * Gota , * DAC - IAM + ATC em 2012 ( angina instavel ) - Ecocardiograma mar / 14 : FE 42 % / comprometimento difuso do VE grau moderado , insuf Mi discreta , insuf Tri discreta , hipetensao pulmonar discreta .'],\n",
       "  ['ATC',\n",
       "   '# Lucas , 78 anos * HAS , * Gota , * DAC - IAM + ATC em 2012 ( angina instavel ) - Ecocardiograma mar / 14 : FE 42 % / comprometimento difuso do VE grau moderado , insuf Mi discreta , insuf Tri discreta , hipetensao pulmonar discreta .'],\n",
       "  ['angina instavel',\n",
       "   '# Lucas , 78 anos * HAS , * Gota , * DAC - IAM + ATC em 2012 ( angina instavel ) - Ecocardiograma mar / 14 : FE 42 % / comprometimento difuso do VE grau moderado , insuf Mi discreta , insuf Tri discreta , hipetensao pulmonar discreta .'],\n",
       "  ['angina',\n",
       "   '# Lucas , 78 anos * HAS , * Gota , * DAC - IAM + ATC em 2012 ( angina instavel ) - Ecocardiograma mar / 14 : FE 42 % / comprometimento difuso do VE grau moderado , insuf Mi discreta , insuf Tri discreta , hipetensao pulmonar discreta .'],\n",
       "  ['instavel',\n",
       "   '# Lucas , 78 anos * HAS , * Gota , * DAC - IAM + ATC em 2012 ( angina instavel ) - Ecocardiograma mar / 14 : FE 42 % / comprometimento difuso do VE grau moderado , insuf Mi discreta , insuf Tri discreta , hipetensao pulmonar discreta .'],\n",
       "  ['Ecocardiograma',\n",
       "   '# Lucas , 78 anos * HAS , * Gota , * DAC - IAM + ATC em 2012 ( angina instavel ) - Ecocardiograma mar / 14 : FE 42 % / comprometimento difuso do VE grau moderado , insuf Mi discreta , insuf Tri discreta , hipetensao pulmonar discreta .'],\n",
       "  ['comprometimento difuso do VE grau moderado',\n",
       "   '# Lucas , 78 anos * HAS , * Gota , * DAC - IAM + ATC em 2012 ( angina instavel ) - Ecocardiograma mar / 14 : FE 42 % / comprometimento difuso do VE grau moderado , insuf Mi discreta , insuf Tri discreta , hipetensao pulmonar discreta .'],\n",
       "  ['VE grau moderado',\n",
       "   '# Lucas , 78 anos * HAS , * Gota , * DAC - IAM + ATC em 2012 ( angina instavel ) - Ecocardiograma mar / 14 : FE 42 % / comprometimento difuso do VE grau moderado , insuf Mi discreta , insuf Tri discreta , hipetensao pulmonar discreta .'],\n",
       "  ['comprometimento difuso do VE',\n",
       "   '# Lucas , 78 anos * HAS , * Gota , * DAC - IAM + ATC em 2012 ( angina instavel ) - Ecocardiograma mar / 14 : FE 42 % / comprometimento difuso do VE grau moderado , insuf Mi discreta , insuf Tri discreta , hipetensao pulmonar discreta .'],\n",
       "  ['comprometimento difuso do VE grau',\n",
       "   '# Lucas , 78 anos * HAS , * Gota , * DAC - IAM + ATC em 2012 ( angina instavel ) - Ecocardiograma mar / 14 : FE 42 % / comprometimento difuso do VE grau moderado , insuf Mi discreta , insuf Tri discreta , hipetensao pulmonar discreta .'],\n",
       "  ['difuso do VE grau moderado',\n",
       "   '# Lucas , 78 anos * HAS , * Gota , * DAC - IAM + ATC em 2012 ( angina instavel ) - Ecocardiograma mar / 14 : FE 42 % / comprometimento difuso do VE grau moderado , insuf Mi discreta , insuf Tri discreta , hipetensao pulmonar discreta .'],\n",
       "  ['insuf Mi discreta',\n",
       "   '# Lucas , 78 anos * HAS , * Gota , * DAC - IAM + ATC em 2012 ( angina instavel ) - Ecocardiograma mar / 14 : FE 42 % / comprometimento difuso do VE grau moderado , insuf Mi discreta , insuf Tri discreta , hipetensao pulmonar discreta .'],\n",
       "  ['insuf Mi',\n",
       "   '# Lucas , 78 anos * HAS , * Gota , * DAC - IAM + ATC em 2012 ( angina instavel ) - Ecocardiograma mar / 14 : FE 42 % / comprometimento difuso do VE grau moderado , insuf Mi discreta , insuf Tri discreta , hipetensao pulmonar discreta .'],\n",
       "  ['Mi discreta',\n",
       "   '# Lucas , 78 anos * HAS , * Gota , * DAC - IAM + ATC em 2012 ( angina instavel ) - Ecocardiograma mar / 14 : FE 42 % / comprometimento difuso do VE grau moderado , insuf Mi discreta , insuf Tri discreta , hipetensao pulmonar discreta .'],\n",
       "  ['insuf Tri discreta',\n",
       "   '# Lucas , 78 anos * HAS , * Gota , * DAC - IAM + ATC em 2012 ( angina instavel ) - Ecocardiograma mar / 14 : FE 42 % / comprometimento difuso do VE grau moderado , insuf Mi discreta , insuf Tri discreta , hipetensao pulmonar discreta .'],\n",
       "  ['insuf Tri',\n",
       "   '# Lucas , 78 anos * HAS , * Gota , * DAC - IAM + ATC em 2012 ( angina instavel ) - Ecocardiograma mar / 14 : FE 42 % / comprometimento difuso do VE grau moderado , insuf Mi discreta , insuf Tri discreta , hipetensao pulmonar discreta .'],\n",
       "  ['Tri discreta',\n",
       "   '# Lucas , 78 anos * HAS , * Gota , * DAC - IAM + ATC em 2012 ( angina instavel ) - Ecocardiograma mar / 14 : FE 42 % / comprometimento difuso do VE grau moderado , insuf Mi discreta , insuf Tri discreta , hipetensao pulmonar discreta .'],\n",
       "  ['hipetensao pulmonar discreta',\n",
       "   '# Lucas , 78 anos * HAS , * Gota , * DAC - IAM + ATC em 2012 ( angina instavel ) - Ecocardiograma mar / 14 : FE 42 % / comprometimento difuso do VE grau moderado , insuf Mi discreta , insuf Tri discreta , hipetensao pulmonar discreta .'],\n",
       "  ['hipetensao pulmonar',\n",
       "   '# Lucas , 78 anos * HAS , * Gota , * DAC - IAM + ATC em 2012 ( angina instavel ) - Ecocardiograma mar / 14 : FE 42 % / comprometimento difuso do VE grau moderado , insuf Mi discreta , insuf Tri discreta , hipetensao pulmonar discreta .'],\n",
       "  ['pulmonar discreta',\n",
       "   '# Lucas , 78 anos * HAS , * Gota , * DAC - IAM + ATC em 2012 ( angina instavel ) - Ecocardiograma mar / 14 : FE 42 % / comprometimento difuso do VE grau moderado , insuf Mi discreta , insuf Tri discreta , hipetensao pulmonar discreta .']],\n",
       " [['fraqueza intermitente em MMII',\n",
       "   'Paciente refere fraqueza intermitente em MMII , associada a tontura , turvação visual e epigastralgia .'],\n",
       "  ['MMII',\n",
       "   'Paciente refere fraqueza intermitente em MMII , associada a tontura , turvação visual e epigastralgia .'],\n",
       "  ['intermitente em MMII',\n",
       "   'Paciente refere fraqueza intermitente em MMII , associada a tontura , turvação visual e epigastralgia .'],\n",
       "  ['tontura',\n",
       "   'Paciente refere fraqueza intermitente em MMII , associada a tontura , turvação visual e epigastralgia .'],\n",
       "  ['turvação visual',\n",
       "   'Paciente refere fraqueza intermitente em MMII , associada a tontura , turvação visual e epigastralgia .'],\n",
       "  ['epigastralgia',\n",
       "   'Paciente refere fraqueza intermitente em MMII , associada a tontura , turvação visual e epigastralgia .']],\n",
       " [['dor toracica associada', 'Nega dor toracica associada ou dispneia .'],\n",
       "  ['dispneia', 'Nega dor toracica associada ou dispneia .']],\n",
       " [['DPN', 'Nega DPN .']],\n",
       " [['sincope', 'Nega sincope .']],\n",
       " [['edema de MMII', 'Nega edema de MMII .'],\n",
       "  ['de MMII', 'Nega edema de MMII .']],\n",
       " [['queixas urinarias', 'Nega queixas urinarias e gastrointestinais .'],\n",
       "  ['gastrointestinais', 'Nega queixas urinarias e gastrointestinais .']],\n",
       " [['tabagismo', 'Nega tabagismo atual e pregresso .']],\n",
       " [['Laboratorio Cr',\n",
       "   '- Laboratorio Cr 1 , 5 / glicose 85 / ureia 70 / CPK 161 / acido urico 5 , 3 / TG 107 / TGP 23 / HDL 38 / Na 143 / TGO 26 / CT 103 / LDL 44 / K 5 , 1 / HB 16 , 1 / leucocitos 6800 / plaquetas 116000 / - Albumina / Cr isolada = 174 , 3 *** CKD 44 ; Paciente encaminhado via UBS para nefrologia - aguarda consulta .'],\n",
       "  ['glicose',\n",
       "   '- Laboratorio Cr 1 , 5 / glicose 85 / ureia 70 / CPK 161 / acido urico 5 , 3 / TG 107 / TGP 23 / HDL 38 / Na 143 / TGO 26 / CT 103 / LDL 44 / K 5 , 1 / HB 16 , 1 / leucocitos 6800 / plaquetas 116000 / - Albumina / Cr isolada = 174 , 3 *** CKD 44 ; Paciente encaminhado via UBS para nefrologia - aguarda consulta .'],\n",
       "  ['ureia',\n",
       "   '- Laboratorio Cr 1 , 5 / glicose 85 / ureia 70 / CPK 161 / acido urico 5 , 3 / TG 107 / TGP 23 / HDL 38 / Na 143 / TGO 26 / CT 103 / LDL 44 / K 5 , 1 / HB 16 , 1 / leucocitos 6800 / plaquetas 116000 / - Albumina / Cr isolada = 174 , 3 *** CKD 44 ; Paciente encaminhado via UBS para nefrologia - aguarda consulta .'],\n",
       "  ['CPK',\n",
       "   '- Laboratorio Cr 1 , 5 / glicose 85 / ureia 70 / CPK 161 / acido urico 5 , 3 / TG 107 / TGP 23 / HDL 38 / Na 143 / TGO 26 / CT 103 / LDL 44 / K 5 , 1 / HB 16 , 1 / leucocitos 6800 / plaquetas 116000 / - Albumina / Cr isolada = 174 , 3 *** CKD 44 ; Paciente encaminhado via UBS para nefrologia - aguarda consulta .'],\n",
       "  ['acido urico',\n",
       "   '- Laboratorio Cr 1 , 5 / glicose 85 / ureia 70 / CPK 161 / acido urico 5 , 3 / TG 107 / TGP 23 / HDL 38 / Na 143 / TGO 26 / CT 103 / LDL 44 / K 5 , 1 / HB 16 , 1 / leucocitos 6800 / plaquetas 116000 / - Albumina / Cr isolada = 174 , 3 *** CKD 44 ; Paciente encaminhado via UBS para nefrologia - aguarda consulta .'],\n",
       "  ['TG',\n",
       "   '- Laboratorio Cr 1 , 5 / glicose 85 / ureia 70 / CPK 161 / acido urico 5 , 3 / TG 107 / TGP 23 / HDL 38 / Na 143 / TGO 26 / CT 103 / LDL 44 / K 5 , 1 / HB 16 , 1 / leucocitos 6800 / plaquetas 116000 / - Albumina / Cr isolada = 174 , 3 *** CKD 44 ; Paciente encaminhado via UBS para nefrologia - aguarda consulta .'],\n",
       "  ['TGP',\n",
       "   '- Laboratorio Cr 1 , 5 / glicose 85 / ureia 70 / CPK 161 / acido urico 5 , 3 / TG 107 / TGP 23 / HDL 38 / Na 143 / TGO 26 / CT 103 / LDL 44 / K 5 , 1 / HB 16 , 1 / leucocitos 6800 / plaquetas 116000 / - Albumina / Cr isolada = 174 , 3 *** CKD 44 ; Paciente encaminhado via UBS para nefrologia - aguarda consulta .'],\n",
       "  ['HDL',\n",
       "   '- Laboratorio Cr 1 , 5 / glicose 85 / ureia 70 / CPK 161 / acido urico 5 , 3 / TG 107 / TGP 23 / HDL 38 / Na 143 / TGO 26 / CT 103 / LDL 44 / K 5 , 1 / HB 16 , 1 / leucocitos 6800 / plaquetas 116000 / - Albumina / Cr isolada = 174 , 3 *** CKD 44 ; Paciente encaminhado via UBS para nefrologia - aguarda consulta .'],\n",
       "  ['TGO',\n",
       "   '- Laboratorio Cr 1 , 5 / glicose 85 / ureia 70 / CPK 161 / acido urico 5 , 3 / TG 107 / TGP 23 / HDL 38 / Na 143 / TGO 26 / CT 103 / LDL 44 / K 5 , 1 / HB 16 , 1 / leucocitos 6800 / plaquetas 116000 / - Albumina / Cr isolada = 174 , 3 *** CKD 44 ; Paciente encaminhado via UBS para nefrologia - aguarda consulta .'],\n",
       "  ['CT',\n",
       "   '- Laboratorio Cr 1 , 5 / glicose 85 / ureia 70 / CPK 161 / acido urico 5 , 3 / TG 107 / TGP 23 / HDL 38 / Na 143 / TGO 26 / CT 103 / LDL 44 / K 5 , 1 / HB 16 , 1 / leucocitos 6800 / plaquetas 116000 / - Albumina / Cr isolada = 174 , 3 *** CKD 44 ; Paciente encaminhado via UBS para nefrologia - aguarda consulta .'],\n",
       "  ['LDL',\n",
       "   '- Laboratorio Cr 1 , 5 / glicose 85 / ureia 70 / CPK 161 / acido urico 5 , 3 / TG 107 / TGP 23 / HDL 38 / Na 143 / TGO 26 / CT 103 / LDL 44 / K 5 , 1 / HB 16 , 1 / leucocitos 6800 / plaquetas 116000 / - Albumina / Cr isolada = 174 , 3 *** CKD 44 ; Paciente encaminhado via UBS para nefrologia - aguarda consulta .'],\n",
       "  ['K',\n",
       "   '- Laboratorio Cr 1 , 5 / glicose 85 / ureia 70 / CPK 161 / acido urico 5 , 3 / TG 107 / TGP 23 / HDL 38 / Na 143 / TGO 26 / CT 103 / LDL 44 / K 5 , 1 / HB 16 , 1 / leucocitos 6800 / plaquetas 116000 / - Albumina / Cr isolada = 174 , 3 *** CKD 44 ; Paciente encaminhado via UBS para nefrologia - aguarda consulta .'],\n",
       "  ['HB',\n",
       "   '- Laboratorio Cr 1 , 5 / glicose 85 / ureia 70 / CPK 161 / acido urico 5 , 3 / TG 107 / TGP 23 / HDL 38 / Na 143 / TGO 26 / CT 103 / LDL 44 / K 5 , 1 / HB 16 , 1 / leucocitos 6800 / plaquetas 116000 / - Albumina / Cr isolada = 174 , 3 *** CKD 44 ; Paciente encaminhado via UBS para nefrologia - aguarda consulta .'],\n",
       "  ['leucocitos',\n",
       "   '- Laboratorio Cr 1 , 5 / glicose 85 / ureia 70 / CPK 161 / acido urico 5 , 3 / TG 107 / TGP 23 / HDL 38 / Na 143 / TGO 26 / CT 103 / LDL 44 / K 5 , 1 / HB 16 , 1 / leucocitos 6800 / plaquetas 116000 / - Albumina / Cr isolada = 174 , 3 *** CKD 44 ; Paciente encaminhado via UBS para nefrologia - aguarda consulta .'],\n",
       "  ['plaquetas',\n",
       "   '- Laboratorio Cr 1 , 5 / glicose 85 / ureia 70 / CPK 161 / acido urico 5 , 3 / TG 107 / TGP 23 / HDL 38 / Na 143 / TGO 26 / CT 103 / LDL 44 / K 5 , 1 / HB 16 , 1 / leucocitos 6800 / plaquetas 116000 / - Albumina / Cr isolada = 174 , 3 *** CKD 44 ; Paciente encaminhado via UBS para nefrologia - aguarda consulta .'],\n",
       "  ['Albumina',\n",
       "   '- Laboratorio Cr 1 , 5 / glicose 85 / ureia 70 / CPK 161 / acido urico 5 , 3 / TG 107 / TGP 23 / HDL 38 / Na 143 / TGO 26 / CT 103 / LDL 44 / K 5 , 1 / HB 16 , 1 / leucocitos 6800 / plaquetas 116000 / - Albumina / Cr isolada = 174 , 3 *** CKD 44 ; Paciente encaminhado via UBS para nefrologia - aguarda consulta .'],\n",
       "  ['Cr isolada',\n",
       "   '- Laboratorio Cr 1 , 5 / glicose 85 / ureia 70 / CPK 161 / acido urico 5 , 3 / TG 107 / TGP 23 / HDL 38 / Na 143 / TGO 26 / CT 103 / LDL 44 / K 5 , 1 / HB 16 , 1 / leucocitos 6800 / plaquetas 116000 / - Albumina / Cr isolada = 174 , 3 *** CKD 44 ; Paciente encaminhado via UBS para nefrologia - aguarda consulta .'],\n",
       "  ['Cr',\n",
       "   '- Laboratorio Cr 1 , 5 / glicose 85 / ureia 70 / CPK 161 / acido urico 5 , 3 / TG 107 / TGP 23 / HDL 38 / Na 143 / TGO 26 / CT 103 / LDL 44 / K 5 , 1 / HB 16 , 1 / leucocitos 6800 / plaquetas 116000 / - Albumina / Cr isolada = 174 , 3 *** CKD 44 ; Paciente encaminhado via UBS para nefrologia - aguarda consulta .']],\n",
       " [['alopurinol 150mg',\n",
       "   'Em uso de : alopurinol 150mg / dia , anlodipino 5mg / noite , enalapril 10mg 12 / 12 h , selozok 100mg / dia , AAS 100mg / dia , clopidogrel 75mg / dia , sinvastatina 40mg / dia , colecalciferol 10 gotas / semana .'],\n",
       "  ['anlodipino 5mg',\n",
       "   'Em uso de : alopurinol 150mg / dia , anlodipino 5mg / noite , enalapril 10mg 12 / 12 h , selozok 100mg / dia , AAS 100mg / dia , clopidogrel 75mg / dia , sinvastatina 40mg / dia , colecalciferol 10 gotas / semana .'],\n",
       "  ['enalapril 10mg',\n",
       "   'Em uso de : alopurinol 150mg / dia , anlodipino 5mg / noite , enalapril 10mg 12 / 12 h , selozok 100mg / dia , AAS 100mg / dia , clopidogrel 75mg / dia , sinvastatina 40mg / dia , colecalciferol 10 gotas / semana .'],\n",
       "  ['selozok 100mg',\n",
       "   'Em uso de : alopurinol 150mg / dia , anlodipino 5mg / noite , enalapril 10mg 12 / 12 h , selozok 100mg / dia , AAS 100mg / dia , clopidogrel 75mg / dia , sinvastatina 40mg / dia , colecalciferol 10 gotas / semana .'],\n",
       "  ['AAS 100mg',\n",
       "   'Em uso de : alopurinol 150mg / dia , anlodipino 5mg / noite , enalapril 10mg 12 / 12 h , selozok 100mg / dia , AAS 100mg / dia , clopidogrel 75mg / dia , sinvastatina 40mg / dia , colecalciferol 10 gotas / semana .'],\n",
       "  ['clopidogrel 75mg',\n",
       "   'Em uso de : alopurinol 150mg / dia , anlodipino 5mg / noite , enalapril 10mg 12 / 12 h , selozok 100mg / dia , AAS 100mg / dia , clopidogrel 75mg / dia , sinvastatina 40mg / dia , colecalciferol 10 gotas / semana .'],\n",
       "  ['sinvastatina 40mg',\n",
       "   'Em uso de : alopurinol 150mg / dia , anlodipino 5mg / noite , enalapril 10mg 12 / 12 h , selozok 100mg / dia , AAS 100mg / dia , clopidogrel 75mg / dia , sinvastatina 40mg / dia , colecalciferol 10 gotas / semana .'],\n",
       "  ['colecalciferol 10 gotas',\n",
       "   'Em uso de : alopurinol 150mg / dia , anlodipino 5mg / noite , enalapril 10mg 12 / 12 h , selozok 100mg / dia , AAS 100mg / dia , clopidogrel 75mg / dia , sinvastatina 40mg / dia , colecalciferol 10 gotas / semana .'],\n",
       "  ['colecalciferol',\n",
       "   'Em uso de : alopurinol 150mg / dia , anlodipino 5mg / noite , enalapril 10mg 12 / 12 h , selozok 100mg / dia , AAS 100mg / dia , clopidogrel 75mg / dia , sinvastatina 40mg / dia , colecalciferol 10 gotas / semana .']],\n",
       " [['exame',\n",
       "   'Ao exame : PA : 90 / 60 mmHg / FC 55 bpm , BCRNF , SS , MV + bilateralmente , sem RA , MMII edema + / IV bilateral .'],\n",
       "  ['PA',\n",
       "   'Ao exame : PA : 90 / 60 mmHg / FC 55 bpm , BCRNF , SS , MV + bilateralmente , sem RA , MMII edema + / IV bilateral .'],\n",
       "  ['FC',\n",
       "   'Ao exame : PA : 90 / 60 mmHg / FC 55 bpm , BCRNF , SS , MV + bilateralmente , sem RA , MMII edema + / IV bilateral .'],\n",
       "  ['SS',\n",
       "   'Ao exame : PA : 90 / 60 mmHg / FC 55 bpm , BCRNF , SS , MV + bilateralmente , sem RA , MMII edema + / IV bilateral .'],\n",
       "  ['RA',\n",
       "   'Ao exame : PA : 90 / 60 mmHg / FC 55 bpm , BCRNF , SS , MV + bilateralmente , sem RA , MMII edema + / IV bilateral .'],\n",
       "  ['MMII edema + / IV bilateral',\n",
       "   'Ao exame : PA : 90 / 60 mmHg / FC 55 bpm , BCRNF , SS , MV + bilateralmente , sem RA , MMII edema + / IV bilateral .'],\n",
       "  ['MMII',\n",
       "   'Ao exame : PA : 90 / 60 mmHg / FC 55 bpm , BCRNF , SS , MV + bilateralmente , sem RA , MMII edema + / IV bilateral .'],\n",
       "  ['MMII edema',\n",
       "   'Ao exame : PA : 90 / 60 mmHg / FC 55 bpm , BCRNF , SS , MV + bilateralmente , sem RA , MMII edema + / IV bilateral .'],\n",
       "  ['IV bilateral',\n",
       "   'Ao exame : PA : 90 / 60 mmHg / FC 55 bpm , BCRNF , SS , MV + bilateralmente , sem RA , MMII edema + / IV bilateral .'],\n",
       "  ['MMII edema +',\n",
       "   'Ao exame : PA : 90 / 60 mmHg / FC 55 bpm , BCRNF , SS , MV + bilateralmente , sem RA , MMII edema + / IV bilateral .'],\n",
       "  ['MMII edema + / IV',\n",
       "   'Ao exame : PA : 90 / 60 mmHg / FC 55 bpm , BCRNF , SS , MV + bilateralmente , sem RA , MMII edema + / IV bilateral .'],\n",
       "  ['edema + / IV bilateral',\n",
       "   'Ao exame : PA : 90 / 60 mmHg / FC 55 bpm , BCRNF , SS , MV + bilateralmente , sem RA , MMII edema + / IV bilateral .']],\n",
       " [['anlodipino para 2 , 5mg',\n",
       "   '# # Reduzimos anlodipino para 2 , 5mg / dia .']],\n",
       " [['clopidogrel', 'Suspendemos clopidogrel .']],\n",
       " [['demais medicações', 'Mantemos demais medicações .']],\n",
       " [['exames', 'Retorno em 10 meses com a cardio com novos exames .']],\n",
       " [['HAS', '* HAS * Gota * DAC - IAM + ATC em 2012 ( angina instavel ) .'],\n",
       "  ['Gota', '* HAS * Gota * DAC - IAM + ATC em 2012 ( angina instavel ) .'],\n",
       "  ['DAC', '* HAS * Gota * DAC - IAM + ATC em 2012 ( angina instavel ) .'],\n",
       "  ['IAM', '* HAS * Gota * DAC - IAM + ATC em 2012 ( angina instavel ) .'],\n",
       "  ['ATC', '* HAS * Gota * DAC - IAM + ATC em 2012 ( angina instavel ) .'],\n",
       "  ['angina instavel',\n",
       "   '* HAS * Gota * DAC - IAM + ATC em 2012 ( angina instavel ) .'],\n",
       "  ['angina', '* HAS * Gota * DAC - IAM + ATC em 2012 ( angina instavel ) .'],\n",
       "  ['instavel',\n",
       "   '* HAS * Gota * DAC - IAM + ATC em 2012 ( angina instavel ) .']],\n",
       " [['ICC diastólica',\n",
       "   'Paciente em tratamento para ICC diastólica há cerca de 5 a com melhora importante dos sintomas após início do tratamento .'],\n",
       "  ['tratamento',\n",
       "   'Paciente em tratamento para ICC diastólica há cerca de 5 a com melhora importante dos sintomas após início do tratamento .']],\n",
       " [['dispneia aos moderados esforços',\n",
       "   'Hoje relata dispneia aos moderados esforços , nega disnpneía paroxística notrna , dorme com apenas 1 travesseiro .'],\n",
       "  ['disnpneía paroxística notrna',\n",
       "   'Hoje relata dispneia aos moderados esforços , nega disnpneía paroxística notrna , dorme com apenas 1 travesseiro .']],\n",
       " [['precordialgia aos moderados esforços',\n",
       "   'Nega precordialgia aos moderados esforços .']],\n",
       " [['episódios anginosos', 'Nega episódios anginosos .']],\n",
       " [['outras queixas', 'Nega outras queixas .']],\n",
       " [['exames',\n",
       "   'Rsultado de exames : 1 - Microalbuminúria 12 / 04 : 10 . 64 / G de creatinina 2 - US abdome total : rins com alterações tróficas 3 - ECG 19 / 03 / 14 : isquemia subepicárdica anterior , alteração de repolarização ventricular infero - lateral 4 - Laboratoriais 12 / 04 / 14 : K 5 . 1 , clearence creatinina 57 Ao EF : PA 170x100mmHg ( relata PA normal quando em ambiente não hospitalar ) , FC 63bpm AR : mv sem RA ACV : rcr em 2T sem sopros , com hipofonese de bulhas AD : abdome globos , normotenso , indolor , ausência de massas ou visceromegalias MMII sem edema HD : - ICC diastólica classe III - HAS - DMII - Dislipidemia CD : - mantenho medicação - retorno em 6 m com exames laboratoriais + ECG .'],\n",
       "  ['Microalbuminúria',\n",
       "   'Rsultado de exames : 1 - Microalbuminúria 12 / 04 : 10 . 64 / G de creatinina 2 - US abdome total : rins com alterações tróficas 3 - ECG 19 / 03 / 14 : isquemia subepicárdica anterior , alteração de repolarização ventricular infero - lateral 4 - Laboratoriais 12 / 04 / 14 : K 5 . 1 , clearence creatinina 57 Ao EF : PA 170x100mmHg ( relata PA normal quando em ambiente não hospitalar ) , FC 63bpm AR : mv sem RA ACV : rcr em 2T sem sopros , com hipofonese de bulhas AD : abdome globos , normotenso , indolor , ausência de massas ou visceromegalias MMII sem edema HD : - ICC diastólica classe III - HAS - DMII - Dislipidemia CD : - mantenho medicação - retorno em 6 m com exames laboratoriais + ECG .'],\n",
       "  ['creatinina',\n",
       "   'Rsultado de exames : 1 - Microalbuminúria 12 / 04 : 10 . 64 / G de creatinina 2 - US abdome total : rins com alterações tróficas 3 - ECG 19 / 03 / 14 : isquemia subepicárdica anterior , alteração de repolarização ventricular infero - lateral 4 - Laboratoriais 12 / 04 / 14 : K 5 . 1 , clearence creatinina 57 Ao EF : PA 170x100mmHg ( relata PA normal quando em ambiente não hospitalar ) , FC 63bpm AR : mv sem RA ACV : rcr em 2T sem sopros , com hipofonese de bulhas AD : abdome globos , normotenso , indolor , ausência de massas ou visceromegalias MMII sem edema HD : - ICC diastólica classe III - HAS - DMII - Dislipidemia CD : - mantenho medicação - retorno em 6 m com exames laboratoriais + ECG .'],\n",
       "  ['US abdome total',\n",
       "   'Rsultado de exames : 1 - Microalbuminúria 12 / 04 : 10 . 64 / G de creatinina 2 - US abdome total : rins com alterações tróficas 3 - ECG 19 / 03 / 14 : isquemia subepicárdica anterior , alteração de repolarização ventricular infero - lateral 4 - Laboratoriais 12 / 04 / 14 : K 5 . 1 , clearence creatinina 57 Ao EF : PA 170x100mmHg ( relata PA normal quando em ambiente não hospitalar ) , FC 63bpm AR : mv sem RA ACV : rcr em 2T sem sopros , com hipofonese de bulhas AD : abdome globos , normotenso , indolor , ausência de massas ou visceromegalias MMII sem edema HD : - ICC diastólica classe III - HAS - DMII - Dislipidemia CD : - mantenho medicação - retorno em 6 m com exames laboratoriais + ECG .'],\n",
       "  ['US',\n",
       "   'Rsultado de exames : 1 - Microalbuminúria 12 / 04 : 10 . 64 / G de creatinina 2 - US abdome total : rins com alterações tróficas 3 - ECG 19 / 03 / 14 : isquemia subepicárdica anterior , alteração de repolarização ventricular infero - lateral 4 - Laboratoriais 12 / 04 / 14 : K 5 . 1 , clearence creatinina 57 Ao EF : PA 170x100mmHg ( relata PA normal quando em ambiente não hospitalar ) , FC 63bpm AR : mv sem RA ACV : rcr em 2T sem sopros , com hipofonese de bulhas AD : abdome globos , normotenso , indolor , ausência de massas ou visceromegalias MMII sem edema HD : - ICC diastólica classe III - HAS - DMII - Dislipidemia CD : - mantenho medicação - retorno em 6 m com exames laboratoriais + ECG .'],\n",
       "  ['US abdome',\n",
       "   'Rsultado de exames : 1 - Microalbuminúria 12 / 04 : 10 . 64 / G de creatinina 2 - US abdome total : rins com alterações tróficas 3 - ECG 19 / 03 / 14 : isquemia subepicárdica anterior , alteração de repolarização ventricular infero - lateral 4 - Laboratoriais 12 / 04 / 14 : K 5 . 1 , clearence creatinina 57 Ao EF : PA 170x100mmHg ( relata PA normal quando em ambiente não hospitalar ) , FC 63bpm AR : mv sem RA ACV : rcr em 2T sem sopros , com hipofonese de bulhas AD : abdome globos , normotenso , indolor , ausência de massas ou visceromegalias MMII sem edema HD : - ICC diastólica classe III - HAS - DMII - Dislipidemia CD : - mantenho medicação - retorno em 6 m com exames laboratoriais + ECG .'],\n",
       "  ['abdome total',\n",
       "   'Rsultado de exames : 1 - Microalbuminúria 12 / 04 : 10 . 64 / G de creatinina 2 - US abdome total : rins com alterações tróficas 3 - ECG 19 / 03 / 14 : isquemia subepicárdica anterior , alteração de repolarização ventricular infero - lateral 4 - Laboratoriais 12 / 04 / 14 : K 5 . 1 , clearence creatinina 57 Ao EF : PA 170x100mmHg ( relata PA normal quando em ambiente não hospitalar ) , FC 63bpm AR : mv sem RA ACV : rcr em 2T sem sopros , com hipofonese de bulhas AD : abdome globos , normotenso , indolor , ausência de massas ou visceromegalias MMII sem edema HD : - ICC diastólica classe III - HAS - DMII - Dislipidemia CD : - mantenho medicação - retorno em 6 m com exames laboratoriais + ECG .'],\n",
       "  ['alterações tróficas',\n",
       "   'Rsultado de exames : 1 - Microalbuminúria 12 / 04 : 10 . 64 / G de creatinina 2 - US abdome total : rins com alterações tróficas 3 - ECG 19 / 03 / 14 : isquemia subepicárdica anterior , alteração de repolarização ventricular infero - lateral 4 - Laboratoriais 12 / 04 / 14 : K 5 . 1 , clearence creatinina 57 Ao EF : PA 170x100mmHg ( relata PA normal quando em ambiente não hospitalar ) , FC 63bpm AR : mv sem RA ACV : rcr em 2T sem sopros , com hipofonese de bulhas AD : abdome globos , normotenso , indolor , ausência de massas ou visceromegalias MMII sem edema HD : - ICC diastólica classe III - HAS - DMII - Dislipidemia CD : - mantenho medicação - retorno em 6 m com exames laboratoriais + ECG .'],\n",
       "  ['ECG',\n",
       "   'Rsultado de exames : 1 - Microalbuminúria 12 / 04 : 10 . 64 / G de creatinina 2 - US abdome total : rins com alterações tróficas 3 - ECG 19 / 03 / 14 : isquemia subepicárdica anterior , alteração de repolarização ventricular infero - lateral 4 - Laboratoriais 12 / 04 / 14 : K 5 . 1 , clearence creatinina 57 Ao EF : PA 170x100mmHg ( relata PA normal quando em ambiente não hospitalar ) , FC 63bpm AR : mv sem RA ACV : rcr em 2T sem sopros , com hipofonese de bulhas AD : abdome globos , normotenso , indolor , ausência de massas ou visceromegalias MMII sem edema HD : - ICC diastólica classe III - HAS - DMII - Dislipidemia CD : - mantenho medicação - retorno em 6 m com exames laboratoriais + ECG .'],\n",
       "  ['isquemia subepicárdica anterior',\n",
       "   'Rsultado de exames : 1 - Microalbuminúria 12 / 04 : 10 . 64 / G de creatinina 2 - US abdome total : rins com alterações tróficas 3 - ECG 19 / 03 / 14 : isquemia subepicárdica anterior , alteração de repolarização ventricular infero - lateral 4 - Laboratoriais 12 / 04 / 14 : K 5 . 1 , clearence creatinina 57 Ao EF : PA 170x100mmHg ( relata PA normal quando em ambiente não hospitalar ) , FC 63bpm AR : mv sem RA ACV : rcr em 2T sem sopros , com hipofonese de bulhas AD : abdome globos , normotenso , indolor , ausência de massas ou visceromegalias MMII sem edema HD : - ICC diastólica classe III - HAS - DMII - Dislipidemia CD : - mantenho medicação - retorno em 6 m com exames laboratoriais + ECG .'],\n",
       "  ['ventricular infero',\n",
       "   'Rsultado de exames : 1 - Microalbuminúria 12 / 04 : 10 . 64 / G de creatinina 2 - US abdome total : rins com alterações tróficas 3 - ECG 19 / 03 / 14 : isquemia subepicárdica anterior , alteração de repolarização ventricular infero - lateral 4 - Laboratoriais 12 / 04 / 14 : K 5 . 1 , clearence creatinina 57 Ao EF : PA 170x100mmHg ( relata PA normal quando em ambiente não hospitalar ) , FC 63bpm AR : mv sem RA ACV : rcr em 2T sem sopros , com hipofonese de bulhas AD : abdome globos , normotenso , indolor , ausência de massas ou visceromegalias MMII sem edema HD : - ICC diastólica classe III - HAS - DMII - Dislipidemia CD : - mantenho medicação - retorno em 6 m com exames laboratoriais + ECG .'],\n",
       "  ['repolarização ventricular infero',\n",
       "   'Rsultado de exames : 1 - Microalbuminúria 12 / 04 : 10 . 64 / G de creatinina 2 - US abdome total : rins com alterações tróficas 3 - ECG 19 / 03 / 14 : isquemia subepicárdica anterior , alteração de repolarização ventricular infero - lateral 4 - Laboratoriais 12 / 04 / 14 : K 5 . 1 , clearence creatinina 57 Ao EF : PA 170x100mmHg ( relata PA normal quando em ambiente não hospitalar ) , FC 63bpm AR : mv sem RA ACV : rcr em 2T sem sopros , com hipofonese de bulhas AD : abdome globos , normotenso , indolor , ausência de massas ou visceromegalias MMII sem edema HD : - ICC diastólica classe III - HAS - DMII - Dislipidemia CD : - mantenho medicação - retorno em 6 m com exames laboratoriais + ECG .'],\n",
       "  ['alteração de repolarização ventricular',\n",
       "   'Rsultado de exames : 1 - Microalbuminúria 12 / 04 : 10 . 64 / G de creatinina 2 - US abdome total : rins com alterações tróficas 3 - ECG 19 / 03 / 14 : isquemia subepicárdica anterior , alteração de repolarização ventricular infero - lateral 4 - Laboratoriais 12 / 04 / 14 : K 5 . 1 , clearence creatinina 57 Ao EF : PA 170x100mmHg ( relata PA normal quando em ambiente não hospitalar ) , FC 63bpm AR : mv sem RA ACV : rcr em 2T sem sopros , com hipofonese de bulhas AD : abdome globos , normotenso , indolor , ausência de massas ou visceromegalias MMII sem edema HD : - ICC diastólica classe III - HAS - DMII - Dislipidemia CD : - mantenho medicação - retorno em 6 m com exames laboratoriais + ECG .'],\n",
       "  ['de repolarização ventricular infero',\n",
       "   'Rsultado de exames : 1 - Microalbuminúria 12 / 04 : 10 . 64 / G de creatinina 2 - US abdome total : rins com alterações tróficas 3 - ECG 19 / 03 / 14 : isquemia subepicárdica anterior , alteração de repolarização ventricular infero - lateral 4 - Laboratoriais 12 / 04 / 14 : K 5 . 1 , clearence creatinina 57 Ao EF : PA 170x100mmHg ( relata PA normal quando em ambiente não hospitalar ) , FC 63bpm AR : mv sem RA ACV : rcr em 2T sem sopros , com hipofonese de bulhas AD : abdome globos , normotenso , indolor , ausência de massas ou visceromegalias MMII sem edema HD : - ICC diastólica classe III - HAS - DMII - Dislipidemia CD : - mantenho medicação - retorno em 6 m com exames laboratoriais + ECG .'],\n",
       "  ['repolarização ventricular infero -',\n",
       "   'Rsultado de exames : 1 - Microalbuminúria 12 / 04 : 10 . 64 / G de creatinina 2 - US abdome total : rins com alterações tróficas 3 - ECG 19 / 03 / 14 : isquemia subepicárdica anterior , alteração de repolarização ventricular infero - lateral 4 - Laboratoriais 12 / 04 / 14 : K 5 . 1 , clearence creatinina 57 Ao EF : PA 170x100mmHg ( relata PA normal quando em ambiente não hospitalar ) , FC 63bpm AR : mv sem RA ACV : rcr em 2T sem sopros , com hipofonese de bulhas AD : abdome globos , normotenso , indolor , ausência de massas ou visceromegalias MMII sem edema HD : - ICC diastólica classe III - HAS - DMII - Dislipidemia CD : - mantenho medicação - retorno em 6 m com exames laboratoriais + ECG .'],\n",
       "  ['ventricular infero - lateral',\n",
       "   'Rsultado de exames : 1 - Microalbuminúria 12 / 04 : 10 . 64 / G de creatinina 2 - US abdome total : rins com alterações tróficas 3 - ECG 19 / 03 / 14 : isquemia subepicárdica anterior , alteração de repolarização ventricular infero - lateral 4 - Laboratoriais 12 / 04 / 14 : K 5 . 1 , clearence creatinina 57 Ao EF : PA 170x100mmHg ( relata PA normal quando em ambiente não hospitalar ) , FC 63bpm AR : mv sem RA ACV : rcr em 2T sem sopros , com hipofonese de bulhas AD : abdome globos , normotenso , indolor , ausência de massas ou visceromegalias MMII sem edema HD : - ICC diastólica classe III - HAS - DMII - Dislipidemia CD : - mantenho medicação - retorno em 6 m com exames laboratoriais + ECG .'],\n",
       "  ['alteração de repolarização ventricular infero',\n",
       "   'Rsultado de exames : 1 - Microalbuminúria 12 / 04 : 10 . 64 / G de creatinina 2 - US abdome total : rins com alterações tróficas 3 - ECG 19 / 03 / 14 : isquemia subepicárdica anterior , alteração de repolarização ventricular infero - lateral 4 - Laboratoriais 12 / 04 / 14 : K 5 . 1 , clearence creatinina 57 Ao EF : PA 170x100mmHg ( relata PA normal quando em ambiente não hospitalar ) , FC 63bpm AR : mv sem RA ACV : rcr em 2T sem sopros , com hipofonese de bulhas AD : abdome globos , normotenso , indolor , ausência de massas ou visceromegalias MMII sem edema HD : - ICC diastólica classe III - HAS - DMII - Dislipidemia CD : - mantenho medicação - retorno em 6 m com exames laboratoriais + ECG .'],\n",
       "  ['de repolarização ventricular infero -',\n",
       "   'Rsultado de exames : 1 - Microalbuminúria 12 / 04 : 10 . 64 / G de creatinina 2 - US abdome total : rins com alterações tróficas 3 - ECG 19 / 03 / 14 : isquemia subepicárdica anterior , alteração de repolarização ventricular infero - lateral 4 - Laboratoriais 12 / 04 / 14 : K 5 . 1 , clearence creatinina 57 Ao EF : PA 170x100mmHg ( relata PA normal quando em ambiente não hospitalar ) , FC 63bpm AR : mv sem RA ACV : rcr em 2T sem sopros , com hipofonese de bulhas AD : abdome globos , normotenso , indolor , ausência de massas ou visceromegalias MMII sem edema HD : - ICC diastólica classe III - HAS - DMII - Dislipidemia CD : - mantenho medicação - retorno em 6 m com exames laboratoriais + ECG .'],\n",
       "  ['repolarização ventricular infero - lateral',\n",
       "   'Rsultado de exames : 1 - Microalbuminúria 12 / 04 : 10 . 64 / G de creatinina 2 - US abdome total : rins com alterações tróficas 3 - ECG 19 / 03 / 14 : isquemia subepicárdica anterior , alteração de repolarização ventricular infero - lateral 4 - Laboratoriais 12 / 04 / 14 : K 5 . 1 , clearence creatinina 57 Ao EF : PA 170x100mmHg ( relata PA normal quando em ambiente não hospitalar ) , FC 63bpm AR : mv sem RA ACV : rcr em 2T sem sopros , com hipofonese de bulhas AD : abdome globos , normotenso , indolor , ausência de massas ou visceromegalias MMII sem edema HD : - ICC diastólica classe III - HAS - DMII - Dislipidemia CD : - mantenho medicação - retorno em 6 m com exames laboratoriais + ECG .'],\n",
       "  ['alteração de repolarização ventricular infero -',\n",
       "   'Rsultado de exames : 1 - Microalbuminúria 12 / 04 : 10 . 64 / G de creatinina 2 - US abdome total : rins com alterações tróficas 3 - ECG 19 / 03 / 14 : isquemia subepicárdica anterior , alteração de repolarização ventricular infero - lateral 4 - Laboratoriais 12 / 04 / 14 : K 5 . 1 , clearence creatinina 57 Ao EF : PA 170x100mmHg ( relata PA normal quando em ambiente não hospitalar ) , FC 63bpm AR : mv sem RA ACV : rcr em 2T sem sopros , com hipofonese de bulhas AD : abdome globos , normotenso , indolor , ausência de massas ou visceromegalias MMII sem edema HD : - ICC diastólica classe III - HAS - DMII - Dislipidemia CD : - mantenho medicação - retorno em 6 m com exames laboratoriais + ECG .'],\n",
       "  ['de repolarização ventricular infero - lateral',\n",
       "   'Rsultado de exames : 1 - Microalbuminúria 12 / 04 : 10 . 64 / G de creatinina 2 - US abdome total : rins com alterações tróficas 3 - ECG 19 / 03 / 14 : isquemia subepicárdica anterior , alteração de repolarização ventricular infero - lateral 4 - Laboratoriais 12 / 04 / 14 : K 5 . 1 , clearence creatinina 57 Ao EF : PA 170x100mmHg ( relata PA normal quando em ambiente não hospitalar ) , FC 63bpm AR : mv sem RA ACV : rcr em 2T sem sopros , com hipofonese de bulhas AD : abdome globos , normotenso , indolor , ausência de massas ou visceromegalias MMII sem edema HD : - ICC diastólica classe III - HAS - DMII - Dislipidemia CD : - mantenho medicação - retorno em 6 m com exames laboratoriais + ECG .'],\n",
       "  ['Laboratoriais',\n",
       "   'Rsultado de exames : 1 - Microalbuminúria 12 / 04 : 10 . 64 / G de creatinina 2 - US abdome total : rins com alterações tróficas 3 - ECG 19 / 03 / 14 : isquemia subepicárdica anterior , alteração de repolarização ventricular infero - lateral 4 - Laboratoriais 12 / 04 / 14 : K 5 . 1 , clearence creatinina 57 Ao EF : PA 170x100mmHg ( relata PA normal quando em ambiente não hospitalar ) , FC 63bpm AR : mv sem RA ACV : rcr em 2T sem sopros , com hipofonese de bulhas AD : abdome globos , normotenso , indolor , ausência de massas ou visceromegalias MMII sem edema HD : - ICC diastólica classe III - HAS - DMII - Dislipidemia CD : - mantenho medicação - retorno em 6 m com exames laboratoriais + ECG .'],\n",
       "  ['K',\n",
       "   'Rsultado de exames : 1 - Microalbuminúria 12 / 04 : 10 . 64 / G de creatinina 2 - US abdome total : rins com alterações tróficas 3 - ECG 19 / 03 / 14 : isquemia subepicárdica anterior , alteração de repolarização ventricular infero - lateral 4 - Laboratoriais 12 / 04 / 14 : K 5 . 1 , clearence creatinina 57 Ao EF : PA 170x100mmHg ( relata PA normal quando em ambiente não hospitalar ) , FC 63bpm AR : mv sem RA ACV : rcr em 2T sem sopros , com hipofonese de bulhas AD : abdome globos , normotenso , indolor , ausência de massas ou visceromegalias MMII sem edema HD : - ICC diastólica classe III - HAS - DMII - Dislipidemia CD : - mantenho medicação - retorno em 6 m com exames laboratoriais + ECG .'],\n",
       "  ['clearence creatinina',\n",
       "   'Rsultado de exames : 1 - Microalbuminúria 12 / 04 : 10 . 64 / G de creatinina 2 - US abdome total : rins com alterações tróficas 3 - ECG 19 / 03 / 14 : isquemia subepicárdica anterior , alteração de repolarização ventricular infero - lateral 4 - Laboratoriais 12 / 04 / 14 : K 5 . 1 , clearence creatinina 57 Ao EF : PA 170x100mmHg ( relata PA normal quando em ambiente não hospitalar ) , FC 63bpm AR : mv sem RA ACV : rcr em 2T sem sopros , com hipofonese de bulhas AD : abdome globos , normotenso , indolor , ausência de massas ou visceromegalias MMII sem edema HD : - ICC diastólica classe III - HAS - DMII - Dislipidemia CD : - mantenho medicação - retorno em 6 m com exames laboratoriais + ECG .'],\n",
       "  ['EF',\n",
       "   'Rsultado de exames : 1 - Microalbuminúria 12 / 04 : 10 . 64 / G de creatinina 2 - US abdome total : rins com alterações tróficas 3 - ECG 19 / 03 / 14 : isquemia subepicárdica anterior , alteração de repolarização ventricular infero - lateral 4 - Laboratoriais 12 / 04 / 14 : K 5 . 1 , clearence creatinina 57 Ao EF : PA 170x100mmHg ( relata PA normal quando em ambiente não hospitalar ) , FC 63bpm AR : mv sem RA ACV : rcr em 2T sem sopros , com hipofonese de bulhas AD : abdome globos , normotenso , indolor , ausência de massas ou visceromegalias MMII sem edema HD : - ICC diastólica classe III - HAS - DMII - Dislipidemia CD : - mantenho medicação - retorno em 6 m com exames laboratoriais + ECG .'],\n",
       "  ['PA',\n",
       "   'Rsultado de exames : 1 - Microalbuminúria 12 / 04 : 10 . 64 / G de creatinina 2 - US abdome total : rins com alterações tróficas 3 - ECG 19 / 03 / 14 : isquemia subepicárdica anterior , alteração de repolarização ventricular infero - lateral 4 - Laboratoriais 12 / 04 / 14 : K 5 . 1 , clearence creatinina 57 Ao EF : PA 170x100mmHg ( relata PA normal quando em ambiente não hospitalar ) , FC 63bpm AR : mv sem RA ACV : rcr em 2T sem sopros , com hipofonese de bulhas AD : abdome globos , normotenso , indolor , ausência de massas ou visceromegalias MMII sem edema HD : - ICC diastólica classe III - HAS - DMII - Dislipidemia CD : - mantenho medicação - retorno em 6 m com exames laboratoriais + ECG .'],\n",
       "  ['PA',\n",
       "   'Rsultado de exames : 1 - Microalbuminúria 12 / 04 : 10 . 64 / G de creatinina 2 - US abdome total : rins com alterações tróficas 3 - ECG 19 / 03 / 14 : isquemia subepicárdica anterior , alteração de repolarização ventricular infero - lateral 4 - Laboratoriais 12 / 04 / 14 : K 5 . 1 , clearence creatinina 57 Ao EF : PA 170x100mmHg ( relata PA normal quando em ambiente não hospitalar ) , FC 63bpm AR : mv sem RA ACV : rcr em 2T sem sopros , com hipofonese de bulhas AD : abdome globos , normotenso , indolor , ausência de massas ou visceromegalias MMII sem edema HD : - ICC diastólica classe III - HAS - DMII - Dislipidemia CD : - mantenho medicação - retorno em 6 m com exames laboratoriais + ECG .'],\n",
       "  ['FC',\n",
       "   'Rsultado de exames : 1 - Microalbuminúria 12 / 04 : 10 . 64 / G de creatinina 2 - US abdome total : rins com alterações tróficas 3 - ECG 19 / 03 / 14 : isquemia subepicárdica anterior , alteração de repolarização ventricular infero - lateral 4 - Laboratoriais 12 / 04 / 14 : K 5 . 1 , clearence creatinina 57 Ao EF : PA 170x100mmHg ( relata PA normal quando em ambiente não hospitalar ) , FC 63bpm AR : mv sem RA ACV : rcr em 2T sem sopros , com hipofonese de bulhas AD : abdome globos , normotenso , indolor , ausência de massas ou visceromegalias MMII sem edema HD : - ICC diastólica classe III - HAS - DMII - Dislipidemia CD : - mantenho medicação - retorno em 6 m com exames laboratoriais + ECG .'],\n",
       "  ['RA',\n",
       "   'Rsultado de exames : 1 - Microalbuminúria 12 / 04 : 10 . 64 / G de creatinina 2 - US abdome total : rins com alterações tróficas 3 - ECG 19 / 03 / 14 : isquemia subepicárdica anterior , alteração de repolarização ventricular infero - lateral 4 - Laboratoriais 12 / 04 / 14 : K 5 . 1 , clearence creatinina 57 Ao EF : PA 170x100mmHg ( relata PA normal quando em ambiente não hospitalar ) , FC 63bpm AR : mv sem RA ACV : rcr em 2T sem sopros , com hipofonese de bulhas AD : abdome globos , normotenso , indolor , ausência de massas ou visceromegalias MMII sem edema HD : - ICC diastólica classe III - HAS - DMII - Dislipidemia CD : - mantenho medicação - retorno em 6 m com exames laboratoriais + ECG .'],\n",
       "  ['sopros',\n",
       "   'Rsultado de exames : 1 - Microalbuminúria 12 / 04 : 10 . 64 / G de creatinina 2 - US abdome total : rins com alterações tróficas 3 - ECG 19 / 03 / 14 : isquemia subepicárdica anterior , alteração de repolarização ventricular infero - lateral 4 - Laboratoriais 12 / 04 / 14 : K 5 . 1 , clearence creatinina 57 Ao EF : PA 170x100mmHg ( relata PA normal quando em ambiente não hospitalar ) , FC 63bpm AR : mv sem RA ACV : rcr em 2T sem sopros , com hipofonese de bulhas AD : abdome globos , normotenso , indolor , ausência de massas ou visceromegalias MMII sem edema HD : - ICC diastólica classe III - HAS - DMII - Dislipidemia CD : - mantenho medicação - retorno em 6 m com exames laboratoriais + ECG .'],\n",
       "  ['hipofonese de bulhas',\n",
       "   'Rsultado de exames : 1 - Microalbuminúria 12 / 04 : 10 . 64 / G de creatinina 2 - US abdome total : rins com alterações tróficas 3 - ECG 19 / 03 / 14 : isquemia subepicárdica anterior , alteração de repolarização ventricular infero - lateral 4 - Laboratoriais 12 / 04 / 14 : K 5 . 1 , clearence creatinina 57 Ao EF : PA 170x100mmHg ( relata PA normal quando em ambiente não hospitalar ) , FC 63bpm AR : mv sem RA ACV : rcr em 2T sem sopros , com hipofonese de bulhas AD : abdome globos , normotenso , indolor , ausência de massas ou visceromegalias MMII sem edema HD : - ICC diastólica classe III - HAS - DMII - Dislipidemia CD : - mantenho medicação - retorno em 6 m com exames laboratoriais + ECG .'],\n",
       "  ['ICC diastólica classe III',\n",
       "   'Rsultado de exames : 1 - Microalbuminúria 12 / 04 : 10 . 64 / G de creatinina 2 - US abdome total : rins com alterações tróficas 3 - ECG 19 / 03 / 14 : isquemia subepicárdica anterior , alteração de repolarização ventricular infero - lateral 4 - Laboratoriais 12 / 04 / 14 : K 5 . 1 , clearence creatinina 57 Ao EF : PA 170x100mmHg ( relata PA normal quando em ambiente não hospitalar ) , FC 63bpm AR : mv sem RA ACV : rcr em 2T sem sopros , com hipofonese de bulhas AD : abdome globos , normotenso , indolor , ausência de massas ou visceromegalias MMII sem edema HD : - ICC diastólica classe III - HAS - DMII - Dislipidemia CD : - mantenho medicação - retorno em 6 m com exames laboratoriais + ECG .'],\n",
       "  ['HAS',\n",
       "   'Rsultado de exames : 1 - Microalbuminúria 12 / 04 : 10 . 64 / G de creatinina 2 - US abdome total : rins com alterações tróficas 3 - ECG 19 / 03 / 14 : isquemia subepicárdica anterior , alteração de repolarização ventricular infero - lateral 4 - Laboratoriais 12 / 04 / 14 : K 5 . 1 , clearence creatinina 57 Ao EF : PA 170x100mmHg ( relata PA normal quando em ambiente não hospitalar ) , FC 63bpm AR : mv sem RA ACV : rcr em 2T sem sopros , com hipofonese de bulhas AD : abdome globos , normotenso , indolor , ausência de massas ou visceromegalias MMII sem edema HD : - ICC diastólica classe III - HAS - DMII - Dislipidemia CD : - mantenho medicação - retorno em 6 m com exames laboratoriais + ECG .'],\n",
       "  ['DMII',\n",
       "   'Rsultado de exames : 1 - Microalbuminúria 12 / 04 : 10 . 64 / G de creatinina 2 - US abdome total : rins com alterações tróficas 3 - ECG 19 / 03 / 14 : isquemia subepicárdica anterior , alteração de repolarização ventricular infero - lateral 4 - Laboratoriais 12 / 04 / 14 : K 5 . 1 , clearence creatinina 57 Ao EF : PA 170x100mmHg ( relata PA normal quando em ambiente não hospitalar ) , FC 63bpm AR : mv sem RA ACV : rcr em 2T sem sopros , com hipofonese de bulhas AD : abdome globos , normotenso , indolor , ausência de massas ou visceromegalias MMII sem edema HD : - ICC diastólica classe III - HAS - DMII - Dislipidemia CD : - mantenho medicação - retorno em 6 m com exames laboratoriais + ECG .'],\n",
       "  ['Dislipidemia',\n",
       "   'Rsultado de exames : 1 - Microalbuminúria 12 / 04 : 10 . 64 / G de creatinina 2 - US abdome total : rins com alterações tróficas 3 - ECG 19 / 03 / 14 : isquemia subepicárdica anterior , alteração de repolarização ventricular infero - lateral 4 - Laboratoriais 12 / 04 / 14 : K 5 . 1 , clearence creatinina 57 Ao EF : PA 170x100mmHg ( relata PA normal quando em ambiente não hospitalar ) , FC 63bpm AR : mv sem RA ACV : rcr em 2T sem sopros , com hipofonese de bulhas AD : abdome globos , normotenso , indolor , ausência de massas ou visceromegalias MMII sem edema HD : - ICC diastólica classe III - HAS - DMII - Dislipidemia CD : - mantenho medicação - retorno em 6 m com exames laboratoriais + ECG .'],\n",
       "  ['medicação',\n",
       "   'Rsultado de exames : 1 - Microalbuminúria 12 / 04 : 10 . 64 / G de creatinina 2 - US abdome total : rins com alterações tróficas 3 - ECG 19 / 03 / 14 : isquemia subepicárdica anterior , alteração de repolarização ventricular infero - lateral 4 - Laboratoriais 12 / 04 / 14 : K 5 . 1 , clearence creatinina 57 Ao EF : PA 170x100mmHg ( relata PA normal quando em ambiente não hospitalar ) , FC 63bpm AR : mv sem RA ACV : rcr em 2T sem sopros , com hipofonese de bulhas AD : abdome globos , normotenso , indolor , ausência de massas ou visceromegalias MMII sem edema HD : - ICC diastólica classe III - HAS - DMII - Dislipidemia CD : - mantenho medicação - retorno em 6 m com exames laboratoriais + ECG .'],\n",
       "  ['exames laboratoriais',\n",
       "   'Rsultado de exames : 1 - Microalbuminúria 12 / 04 : 10 . 64 / G de creatinina 2 - US abdome total : rins com alterações tróficas 3 - ECG 19 / 03 / 14 : isquemia subepicárdica anterior , alteração de repolarização ventricular infero - lateral 4 - Laboratoriais 12 / 04 / 14 : K 5 . 1 , clearence creatinina 57 Ao EF : PA 170x100mmHg ( relata PA normal quando em ambiente não hospitalar ) , FC 63bpm AR : mv sem RA ACV : rcr em 2T sem sopros , com hipofonese de bulhas AD : abdome globos , normotenso , indolor , ausência de massas ou visceromegalias MMII sem edema HD : - ICC diastólica classe III - HAS - DMII - Dislipidemia CD : - mantenho medicação - retorno em 6 m com exames laboratoriais + ECG .'],\n",
       "  ['ECG',\n",
       "   'Rsultado de exames : 1 - Microalbuminúria 12 / 04 : 10 . 64 / G de creatinina 2 - US abdome total : rins com alterações tróficas 3 - ECG 19 / 03 / 14 : isquemia subepicárdica anterior , alteração de repolarização ventricular infero - lateral 4 - Laboratoriais 12 / 04 / 14 : K 5 . 1 , clearence creatinina 57 Ao EF : PA 170x100mmHg ( relata PA normal quando em ambiente não hospitalar ) , FC 63bpm AR : mv sem RA ACV : rcr em 2T sem sopros , com hipofonese de bulhas AD : abdome globos , normotenso , indolor , ausência de massas ou visceromegalias MMII sem edema HD : - ICC diastólica classe III - HAS - DMII - Dislipidemia CD : - mantenho medicação - retorno em 6 m com exames laboratoriais + ECG .']],\n",
       " [['ICC classe III HAS',\n",
       "   'ICC classe III HAS , em uso de atenolol 100mg / dia , AAS , 100mg / dia , furosemida 40mg 1cp 12 / 12h , anlodipino 5mg 1 / 2 cp à noite , losartana 50mg 12 / 12h DMII , metformina 850mg 12 / 12h Dislipidemia , faz uso de sinvastatina 20mg 02 cp à noite .'],\n",
       "  ['classe III HAS',\n",
       "   'ICC classe III HAS , em uso de atenolol 100mg / dia , AAS , 100mg / dia , furosemida 40mg 1cp 12 / 12h , anlodipino 5mg 1 / 2 cp à noite , losartana 50mg 12 / 12h DMII , metformina 850mg 12 / 12h Dislipidemia , faz uso de sinvastatina 20mg 02 cp à noite .'],\n",
       "  ['atenolol 100mg',\n",
       "   'ICC classe III HAS , em uso de atenolol 100mg / dia , AAS , 100mg / dia , furosemida 40mg 1cp 12 / 12h , anlodipino 5mg 1 / 2 cp à noite , losartana 50mg 12 / 12h DMII , metformina 850mg 12 / 12h Dislipidemia , faz uso de sinvastatina 20mg 02 cp à noite .'],\n",
       "  ['AAS , 100mg',\n",
       "   'ICC classe III HAS , em uso de atenolol 100mg / dia , AAS , 100mg / dia , furosemida 40mg 1cp 12 / 12h , anlodipino 5mg 1 / 2 cp à noite , losartana 50mg 12 / 12h DMII , metformina 850mg 12 / 12h Dislipidemia , faz uso de sinvastatina 20mg 02 cp à noite .'],\n",
       "  ['AAS',\n",
       "   'ICC classe III HAS , em uso de atenolol 100mg / dia , AAS , 100mg / dia , furosemida 40mg 1cp 12 / 12h , anlodipino 5mg 1 / 2 cp à noite , losartana 50mg 12 / 12h DMII , metformina 850mg 12 / 12h Dislipidemia , faz uso de sinvastatina 20mg 02 cp à noite .'],\n",
       "  ['furosemida 40mg',\n",
       "   'ICC classe III HAS , em uso de atenolol 100mg / dia , AAS , 100mg / dia , furosemida 40mg 1cp 12 / 12h , anlodipino 5mg 1 / 2 cp à noite , losartana 50mg 12 / 12h DMII , metformina 850mg 12 / 12h Dislipidemia , faz uso de sinvastatina 20mg 02 cp à noite .'],\n",
       "  ['anlodipino 5mg',\n",
       "   'ICC classe III HAS , em uso de atenolol 100mg / dia , AAS , 100mg / dia , furosemida 40mg 1cp 12 / 12h , anlodipino 5mg 1 / 2 cp à noite , losartana 50mg 12 / 12h DMII , metformina 850mg 12 / 12h Dislipidemia , faz uso de sinvastatina 20mg 02 cp à noite .'],\n",
       "  ['losartana 50mg',\n",
       "   'ICC classe III HAS , em uso de atenolol 100mg / dia , AAS , 100mg / dia , furosemida 40mg 1cp 12 / 12h , anlodipino 5mg 1 / 2 cp à noite , losartana 50mg 12 / 12h DMII , metformina 850mg 12 / 12h Dislipidemia , faz uso de sinvastatina 20mg 02 cp à noite .'],\n",
       "  ['metformina 850mg',\n",
       "   'ICC classe III HAS , em uso de atenolol 100mg / dia , AAS , 100mg / dia , furosemida 40mg 1cp 12 / 12h , anlodipino 5mg 1 / 2 cp à noite , losartana 50mg 12 / 12h DMII , metformina 850mg 12 / 12h Dislipidemia , faz uso de sinvastatina 20mg 02 cp à noite .']],\n",
       " [['TX CARDIACO', 'POS TX CARDIACO HA 20 dias .'],\n",
       "  ['CARDIACO', 'POS TX CARDIACO HA 20 dias .']],\n",
       " [['BIOPSIA', 'ULTIMA BIOPSIA AINDA SEM RESULTADO .']],\n",
       " [['EVEROLIMUS 0 , 75',\n",
       "   'EM USO DE EVEROLIMUS 0 , 75 DE 8 / 8 , AZATIOPRINA 50 / 50 E PREDNISONA 20MG / DIA .'],\n",
       "  ['AZATIOPRINA 50',\n",
       "   'EM USO DE EVEROLIMUS 0 , 75 DE 8 / 8 , AZATIOPRINA 50 / 50 E PREDNISONA 20MG / DIA .'],\n",
       "  ['AZATIOPRINA',\n",
       "   'EM USO DE EVEROLIMUS 0 , 75 DE 8 / 8 , AZATIOPRINA 50 / 50 E PREDNISONA 20MG / DIA .'],\n",
       "  ['PREDNISONA 20MG',\n",
       "   'EM USO DE EVEROLIMUS 0 , 75 DE 8 / 8 , AZATIOPRINA 50 / 50 E PREDNISONA 20MG / DIA .']],\n",
       " [['FURO', 'USO DE FURO , AAS , SINVA .'],\n",
       "  ['AAS', 'USO DE FURO , AAS , SINVA .'],\n",
       "  ['SINVA', 'USO DE FURO , AAS , SINVA .']],\n",
       " [['QUEIXAS', 'S # SEM QUEIXAS .']],\n",
       " [['QUEIMAÇÃO NAS PERNAS', 'REFERE QUEIMAÇÃO NAS PERNAS .']],\n",
       " [['PA', 'O # PA 120 / 80 , FC 89 .'], ['FC', 'O # PA 120 / 80 , FC 89 .']],\n",
       " [['CPP', 'CPP LIVRE .']],\n",
       " [['MMII', 'MMII SEM EDEMA .'], ['EDEMA', 'MMII SEM EDEMA .']],\n",
       " [['TX CARDIACO', 'A # POS TX CARDIACO , COM BOA EVOLUÇÃO .'],\n",
       "  ['CARDIACO', 'A # POS TX CARDIACO , COM BOA EVOLUÇÃO .']],\n",
       " [['BIOPSIA', 'P # NOVA BIOPSIA , ECO E LAB .'],\n",
       "  ['ECO', 'P # NOVA BIOPSIA , ECO E LAB .'],\n",
       "  ['LAB', 'P # NOVA BIOPSIA , ECO E LAB .']],\n",
       " [['PROTESE VALVAR', 'PROTESE VALVAR MI 2012 .']],\n",
       " [['MAREVAN ENL 20',\n",
       "   'USA S MAREVAN ENL 20 12 - 12 ATL 50 12 - 12 ESPIRONOLACTONA 25 MG - D SVT 20 MG - D .'],\n",
       "  ['ESPIRONOLACTONA 25 MG',\n",
       "   'USA S MAREVAN ENL 20 12 - 12 ATL 50 12 - 12 ESPIRONOLACTONA 25 MG - D SVT 20 MG - D .']],\n",
       " [['QX CARDIOLOGICAS', 'SEM QX CARDIOLOGICAS .'],\n",
       "  ['CARDIOLOGICAS', 'SEM QX CARDIOLOGICAS .']],\n",
       " [['AE',\n",
       "   '27 - 01 - 15 FE 50 EP 25 AE 46 VE REMODELAMENTO CONCENTRICO AE E AD AUMENTADOS VD NL PROTESE AO NF REFLUXO DISCRETO = DUPLA LESAO MI COM ESTENOSE E INSUF MODERADAS - INSUF TRI MODERADA A IMPORTANTE = HIPERTENSAO PULMONAR .'],\n",
       "  ['VE',\n",
       "   '27 - 01 - 15 FE 50 EP 25 AE 46 VE REMODELAMENTO CONCENTRICO AE E AD AUMENTADOS VD NL PROTESE AO NF REFLUXO DISCRETO = DUPLA LESAO MI COM ESTENOSE E INSUF MODERADAS - INSUF TRI MODERADA A IMPORTANTE = HIPERTENSAO PULMONAR .'],\n",
       "  ['DUPLA LESAO MI',\n",
       "   '27 - 01 - 15 FE 50 EP 25 AE 46 VE REMODELAMENTO CONCENTRICO AE E AD AUMENTADOS VD NL PROTESE AO NF REFLUXO DISCRETO = DUPLA LESAO MI COM ESTENOSE E INSUF MODERADAS - INSUF TRI MODERADA A IMPORTANTE = HIPERTENSAO PULMONAR .'],\n",
       "  ['DUPLA LESAO',\n",
       "   '27 - 01 - 15 FE 50 EP 25 AE 46 VE REMODELAMENTO CONCENTRICO AE E AD AUMENTADOS VD NL PROTESE AO NF REFLUXO DISCRETO = DUPLA LESAO MI COM ESTENOSE E INSUF MODERADAS - INSUF TRI MODERADA A IMPORTANTE = HIPERTENSAO PULMONAR .'],\n",
       "  ['LESAO MI',\n",
       "   '27 - 01 - 15 FE 50 EP 25 AE 46 VE REMODELAMENTO CONCENTRICO AE E AD AUMENTADOS VD NL PROTESE AO NF REFLUXO DISCRETO = DUPLA LESAO MI COM ESTENOSE E INSUF MODERADAS - INSUF TRI MODERADA A IMPORTANTE = HIPERTENSAO PULMONAR .'],\n",
       "  ['ESTENOSE',\n",
       "   '27 - 01 - 15 FE 50 EP 25 AE 46 VE REMODELAMENTO CONCENTRICO AE E AD AUMENTADOS VD NL PROTESE AO NF REFLUXO DISCRETO = DUPLA LESAO MI COM ESTENOSE E INSUF MODERADAS - INSUF TRI MODERADA A IMPORTANTE = HIPERTENSAO PULMONAR .'],\n",
       "  ['INSUF MODERADAS',\n",
       "   '27 - 01 - 15 FE 50 EP 25 AE 46 VE REMODELAMENTO CONCENTRICO AE E AD AUMENTADOS VD NL PROTESE AO NF REFLUXO DISCRETO = DUPLA LESAO MI COM ESTENOSE E INSUF MODERADAS - INSUF TRI MODERADA A IMPORTANTE = HIPERTENSAO PULMONAR .'],\n",
       "  ['HIPERTENSAO PULMONAR',\n",
       "   '27 - 01 - 15 FE 50 EP 25 AE 46 VE REMODELAMENTO CONCENTRICO AE E AD AUMENTADOS VD NL PROTESE AO NF REFLUXO DISCRETO = DUPLA LESAO MI COM ESTENOSE E INSUF MODERADAS - INSUF TRI MODERADA A IMPORTANTE = HIPERTENSAO PULMONAR .'],\n",
       "  ['PULMONAR',\n",
       "   '27 - 01 - 15 FE 50 EP 25 AE 46 VE REMODELAMENTO CONCENTRICO AE E AD AUMENTADOS VD NL PROTESE AO NF REFLUXO DISCRETO = DUPLA LESAO MI COM ESTENOSE E INSUF MODERADAS - INSUF TRI MODERADA A IMPORTANTE = HIPERTENSAO PULMONAR .']],\n",
       " [['ACO', 'CONTROLE NO AMB VALVAS E ACO .']],\n",
       " [['Protese Metalica Aortica', 'Protese Metalica Aortica em 2004 .']],\n",
       " [['Enalapril 10',\n",
       "   'Uso : Enalapril 10 - 2cp - 12 / 12 / Atenolol 50 - 1cp = 12 / 12 ; Espironolactona 25 - 1xd ; Sinvastatina 20 - 1x noite ; Calcio 500 - 3x d ; Marevan 5 - amb da ACXO ; Trazodona 25 1x d .'],\n",
       "  ['Atenolol 50',\n",
       "   'Uso : Enalapril 10 - 2cp - 12 / 12 / Atenolol 50 - 1cp = 12 / 12 ; Espironolactona 25 - 1xd ; Sinvastatina 20 - 1x noite ; Calcio 500 - 3x d ; Marevan 5 - amb da ACXO ; Trazodona 25 1x d .'],\n",
       "  ['Espironolactona 25',\n",
       "   'Uso : Enalapril 10 - 2cp - 12 / 12 / Atenolol 50 - 1cp = 12 / 12 ; Espironolactona 25 - 1xd ; Sinvastatina 20 - 1x noite ; Calcio 500 - 3x d ; Marevan 5 - amb da ACXO ; Trazodona 25 1x d .'],\n",
       "  ['Sinvastatina 20',\n",
       "   'Uso : Enalapril 10 - 2cp - 12 / 12 / Atenolol 50 - 1cp = 12 / 12 ; Espironolactona 25 - 1xd ; Sinvastatina 20 - 1x noite ; Calcio 500 - 3x d ; Marevan 5 - amb da ACXO ; Trazodona 25 1x d .']],\n",
       " [['Dispnia esporadica',\n",
       "   'Dispnia esporadica , edema mmii eventual , sem palpitação , dor toracica quando epigastralgia que melhoram com paracetamol .'],\n",
       "  ['edema mmii eventual',\n",
       "   'Dispnia esporadica , edema mmii eventual , sem palpitação , dor toracica quando epigastralgia que melhoram com paracetamol .'],\n",
       "  ['mmii eventual',\n",
       "   'Dispnia esporadica , edema mmii eventual , sem palpitação , dor toracica quando epigastralgia que melhoram com paracetamol .'],\n",
       "  ['palpitação',\n",
       "   'Dispnia esporadica , edema mmii eventual , sem palpitação , dor toracica quando epigastralgia que melhoram com paracetamol .'],\n",
       "  ['dor toracica quando epigastralgia',\n",
       "   'Dispnia esporadica , edema mmii eventual , sem palpitação , dor toracica quando epigastralgia que melhoram com paracetamol .'],\n",
       "  ['toracica quando epigastralgia',\n",
       "   'Dispnia esporadica , edema mmii eventual , sem palpitação , dor toracica quando epigastralgia que melhoram com paracetamol .'],\n",
       "  ['paracetamol',\n",
       "   'Dispnia esporadica , edema mmii eventual , sem palpitação , dor toracica quando epigastralgia que melhoram com paracetamol .']],\n",
       " [['Lab',\n",
       "   'Lab ( 21 / 01 / 16 ) : Hbglic 6 , 34 ; TSH 2 , 15 ; Hb 13 , 5 ; VG 42 % leuco 9610 ; plaq 234000 ; Urina I ok ; K 4 , 4 ; Cr 1 , 1 ; Gli 71 ; U 69 ; Tri 67 ; HDL - C 77 ; ColT 160 ; LDL - C 70 ; .'],\n",
       "  ['Hbglic',\n",
       "   'Lab ( 21 / 01 / 16 ) : Hbglic 6 , 34 ; TSH 2 , 15 ; Hb 13 , 5 ; VG 42 % leuco 9610 ; plaq 234000 ; Urina I ok ; K 4 , 4 ; Cr 1 , 1 ; Gli 71 ; U 69 ; Tri 67 ; HDL - C 77 ; ColT 160 ; LDL - C 70 ; .'],\n",
       "  ['TSH',\n",
       "   'Lab ( 21 / 01 / 16 ) : Hbglic 6 , 34 ; TSH 2 , 15 ; Hb 13 , 5 ; VG 42 % leuco 9610 ; plaq 234000 ; Urina I ok ; K 4 , 4 ; Cr 1 , 1 ; Gli 71 ; U 69 ; Tri 67 ; HDL - C 77 ; ColT 160 ; LDL - C 70 ; .'],\n",
       "  ['Hb',\n",
       "   'Lab ( 21 / 01 / 16 ) : Hbglic 6 , 34 ; TSH 2 , 15 ; Hb 13 , 5 ; VG 42 % leuco 9610 ; plaq 234000 ; Urina I ok ; K 4 , 4 ; Cr 1 , 1 ; Gli 71 ; U 69 ; Tri 67 ; HDL - C 77 ; ColT 160 ; LDL - C 70 ; .'],\n",
       "  ['VG',\n",
       "   'Lab ( 21 / 01 / 16 ) : Hbglic 6 , 34 ; TSH 2 , 15 ; Hb 13 , 5 ; VG 42 % leuco 9610 ; plaq 234000 ; Urina I ok ; K 4 , 4 ; Cr 1 , 1 ; Gli 71 ; U 69 ; Tri 67 ; HDL - C 77 ; ColT 160 ; LDL - C 70 ; .'],\n",
       "  ['leuco',\n",
       "   'Lab ( 21 / 01 / 16 ) : Hbglic 6 , 34 ; TSH 2 , 15 ; Hb 13 , 5 ; VG 42 % leuco 9610 ; plaq 234000 ; Urina I ok ; K 4 , 4 ; Cr 1 , 1 ; Gli 71 ; U 69 ; Tri 67 ; HDL - C 77 ; ColT 160 ; LDL - C 70 ; .'],\n",
       "  ['plaq',\n",
       "   'Lab ( 21 / 01 / 16 ) : Hbglic 6 , 34 ; TSH 2 , 15 ; Hb 13 , 5 ; VG 42 % leuco 9610 ; plaq 234000 ; Urina I ok ; K 4 , 4 ; Cr 1 , 1 ; Gli 71 ; U 69 ; Tri 67 ; HDL - C 77 ; ColT 160 ; LDL - C 70 ; .'],\n",
       "  ['Urina I',\n",
       "   'Lab ( 21 / 01 / 16 ) : Hbglic 6 , 34 ; TSH 2 , 15 ; Hb 13 , 5 ; VG 42 % leuco 9610 ; plaq 234000 ; Urina I ok ; K 4 , 4 ; Cr 1 , 1 ; Gli 71 ; U 69 ; Tri 67 ; HDL - C 77 ; ColT 160 ; LDL - C 70 ; .'],\n",
       "  ['K',\n",
       "   'Lab ( 21 / 01 / 16 ) : Hbglic 6 , 34 ; TSH 2 , 15 ; Hb 13 , 5 ; VG 42 % leuco 9610 ; plaq 234000 ; Urina I ok ; K 4 , 4 ; Cr 1 , 1 ; Gli 71 ; U 69 ; Tri 67 ; HDL - C 77 ; ColT 160 ; LDL - C 70 ; .'],\n",
       "  ['Cr',\n",
       "   'Lab ( 21 / 01 / 16 ) : Hbglic 6 , 34 ; TSH 2 , 15 ; Hb 13 , 5 ; VG 42 % leuco 9610 ; plaq 234000 ; Urina I ok ; K 4 , 4 ; Cr 1 , 1 ; Gli 71 ; U 69 ; Tri 67 ; HDL - C 77 ; ColT 160 ; LDL - C 70 ; .'],\n",
       "  ['Gli',\n",
       "   'Lab ( 21 / 01 / 16 ) : Hbglic 6 , 34 ; TSH 2 , 15 ; Hb 13 , 5 ; VG 42 % leuco 9610 ; plaq 234000 ; Urina I ok ; K 4 , 4 ; Cr 1 , 1 ; Gli 71 ; U 69 ; Tri 67 ; HDL - C 77 ; ColT 160 ; LDL - C 70 ; .'],\n",
       "  ['U',\n",
       "   'Lab ( 21 / 01 / 16 ) : Hbglic 6 , 34 ; TSH 2 , 15 ; Hb 13 , 5 ; VG 42 % leuco 9610 ; plaq 234000 ; Urina I ok ; K 4 , 4 ; Cr 1 , 1 ; Gli 71 ; U 69 ; Tri 67 ; HDL - C 77 ; ColT 160 ; LDL - C 70 ; .'],\n",
       "  ['Tri',\n",
       "   'Lab ( 21 / 01 / 16 ) : Hbglic 6 , 34 ; TSH 2 , 15 ; Hb 13 , 5 ; VG 42 % leuco 9610 ; plaq 234000 ; Urina I ok ; K 4 , 4 ; Cr 1 , 1 ; Gli 71 ; U 69 ; Tri 67 ; HDL - C 77 ; ColT 160 ; LDL - C 70 ; .'],\n",
       "  ['HDL',\n",
       "   'Lab ( 21 / 01 / 16 ) : Hbglic 6 , 34 ; TSH 2 , 15 ; Hb 13 , 5 ; VG 42 % leuco 9610 ; plaq 234000 ; Urina I ok ; K 4 , 4 ; Cr 1 , 1 ; Gli 71 ; U 69 ; Tri 67 ; HDL - C 77 ; ColT 160 ; LDL - C 70 ; .'],\n",
       "  ['ColT',\n",
       "   'Lab ( 21 / 01 / 16 ) : Hbglic 6 , 34 ; TSH 2 , 15 ; Hb 13 , 5 ; VG 42 % leuco 9610 ; plaq 234000 ; Urina I ok ; K 4 , 4 ; Cr 1 , 1 ; Gli 71 ; U 69 ; Tri 67 ; HDL - C 77 ; ColT 160 ; LDL - C 70 ; .'],\n",
       "  ['LDL',\n",
       "   'Lab ( 21 / 01 / 16 ) : Hbglic 6 , 34 ; TSH 2 , 15 ; Hb 13 , 5 ; VG 42 % leuco 9610 ; plaq 234000 ; Urina I ok ; K 4 , 4 ; Cr 1 , 1 ; Gli 71 ; U 69 ; Tri 67 ; HDL - C 77 ; ColT 160 ; LDL - C 70 ; .']],\n",
       " [['Ecocardio',\n",
       "   'Ecocardio ( 04 / 12 / 15 ) : AE 42 ; DDVE 39 ; DSVE 23 ; FE 73 % ; VMi area 1 , 65 ; calcificada , refluxo discreto .'],\n",
       "  ['AE',\n",
       "   'Ecocardio ( 04 / 12 / 15 ) : AE 42 ; DDVE 39 ; DSVE 23 ; FE 73 % ; VMi area 1 , 65 ; calcificada , refluxo discreto .']],\n",
       " [['VAo', 'VAo protese metalica com espessamento , e relfuxo discreto .']],\n",
       " [['ARea', 'ARea de 1 , 12 .']],\n",
       " [['VTri', 'VTri = refluxo discreto com PSAP 56mmHg .'],\n",
       "  ['refluxo discreto', 'VTri = refluxo discreto com PSAP 56mmHg .'],\n",
       "  ['refluxo', 'VTri = refluxo discreto com PSAP 56mmHg .'],\n",
       "  ['discreto', 'VTri = refluxo discreto com PSAP 56mmHg .']],\n",
       " [['VP refluxo minimo', 'VP refluxo minimo .']],\n",
       " [['VE hipertrofiado', 'VE hipertrofiado .']],\n",
       " [['SIv', ', SIv 13 .']],\n",
       " [['PPVE', 'PPVE 14 .']],\n",
       " [['PA', 'PA ( sentada ) : 140x60mmHg , P 76 .'],\n",
       "  ['P', 'PA ( sentada ) : 140x60mmHg , P 76 .']],\n",
       " [['ruidos adsventicios', 'MV normodist sem ruidos adsventicios .']],\n",
       " [],\n",
       " [['edema mmii', 'BEG , eupneica , acianotica , orientada , Sem edema mmii .'],\n",
       "  ['mmii', 'BEG , eupneica , acianotica , orientada , Sem edema mmii .']],\n",
       " [['protese Metalica AOrtoca',\n",
       "   'HD : protese Metalica AOrtoca normofuncionante .']],\n",
       " [['Disfunbção diastolica', 'Disfunbção diastolica .']],\n",
       " [['Espironolactona', 'CD : Suspendo Espironolactona .']],\n",
       " [['Sinvastatina para 10mg', 'Reduzo Sinvastatina para 10mg / noite .']],\n",
       " [['Omeprazol 20', 'ACrescento Omeprazol 20 - 1x d .']],\n",
       " [['lab', 'Retonro em 6m com lab .']],\n",
       " [['DÇ DE CHAGAS', '# DÇ DE CHAGAS .']],\n",
       " [['BAVT', '# BAVT .']],\n",
       " [['MARCA - PASSO',\n",
       "   '# MARCA - PASSO DUPLACAMARA EM DDD 50 - 60 DESDE 2007 .']],\n",
       " [['DISPNEIA', 'PACIENTE NEGA DISPNEIA , NEGA ORTOPNEIA , NEGA DPN .'],\n",
       "  ['ORTOPNEIA', 'PACIENTE NEGA DISPNEIA , NEGA ORTOPNEIA , NEGA DPN .'],\n",
       "  ['DPN', 'PACIENTE NEGA DISPNEIA , NEGA ORTOPNEIA , NEGA DPN .']],\n",
       " [['OUTRAS QUEIXAS', 'SEM OUTRAS QUEIXAS .']],\n",
       " [['HAS', '# NEGA HX DE HAS , DM , DISLIPIDEMIA E TIREOIDOPATIAS .'],\n",
       "  ['DM', '# NEGA HX DE HAS , DM , DISLIPIDEMIA E TIREOIDOPATIAS .'],\n",
       "  ['DISLIPIDEMIA', '# NEGA HX DE HAS , DM , DISLIPIDEMIA E TIREOIDOPATIAS .'],\n",
       "  ['TIREOIDOPATIAS',\n",
       "   '# NEGA HX DE HAS , DM , DISLIPIDEMIA E TIREOIDOPATIAS .']],\n",
       " [['CX DE APENDICITE',\n",
       "   '# CX DE APENDICITE E HERNIAS PARAMEDIANAS HÁ > 20 ANOS .'],\n",
       "  ['HERNIAS PARAMEDIANAS',\n",
       "   '# CX DE APENDICITE E HERNIAS PARAMEDIANAS HÁ > 20 ANOS .'],\n",
       "  ['HERNIAS', '# CX DE APENDICITE E HERNIAS PARAMEDIANAS HÁ > 20 ANOS .'],\n",
       "  ['PARAMEDIANAS',\n",
       "   '# CX DE APENDICITE E HERNIAS PARAMEDIANAS HÁ > 20 ANOS .']],\n",
       " [['METOPROLOL 50MG', 'METOPROLOL 50MG 12 / 12HS .']],\n",
       " [['ENALAPRIL 10 MG', 'ENALAPRIL 10 MG 12 / 12HS .']],\n",
       " [['ESPIRONO 25', 'ESPIRONO 25 .']],\n",
       " [['SVT 20', 'SVT 20 .']],\n",
       " [['EXAMES LAB',\n",
       "   'EXAMES LAB 11 / 11 : CREAT 1 ; UR 58 ; GLI 71 ; TG 88 ; HDL 52 ; CT 160 ; LDL 90 ; Na 140 ; K 5 , 2 ; Hb 14 , 8 / Ht 46 , 6 / LEUC 5150 .'],\n",
       "  ['CREAT',\n",
       "   'EXAMES LAB 11 / 11 : CREAT 1 ; UR 58 ; GLI 71 ; TG 88 ; HDL 52 ; CT 160 ; LDL 90 ; Na 140 ; K 5 , 2 ; Hb 14 , 8 / Ht 46 , 6 / LEUC 5150 .'],\n",
       "  ['UR',\n",
       "   'EXAMES LAB 11 / 11 : CREAT 1 ; UR 58 ; GLI 71 ; TG 88 ; HDL 52 ; CT 160 ; LDL 90 ; Na 140 ; K 5 , 2 ; Hb 14 , 8 / Ht 46 , 6 / LEUC 5150 .'],\n",
       "  ['GLI',\n",
       "   'EXAMES LAB 11 / 11 : CREAT 1 ; UR 58 ; GLI 71 ; TG 88 ; HDL 52 ; CT 160 ; LDL 90 ; Na 140 ; K 5 , 2 ; Hb 14 , 8 / Ht 46 , 6 / LEUC 5150 .'],\n",
       "  ['TG',\n",
       "   'EXAMES LAB 11 / 11 : CREAT 1 ; UR 58 ; GLI 71 ; TG 88 ; HDL 52 ; CT 160 ; LDL 90 ; Na 140 ; K 5 , 2 ; Hb 14 , 8 / Ht 46 , 6 / LEUC 5150 .'],\n",
       "  ['HDL',\n",
       "   'EXAMES LAB 11 / 11 : CREAT 1 ; UR 58 ; GLI 71 ; TG 88 ; HDL 52 ; CT 160 ; LDL 90 ; Na 140 ; K 5 , 2 ; Hb 14 , 8 / Ht 46 , 6 / LEUC 5150 .'],\n",
       "  ['CT',\n",
       "   'EXAMES LAB 11 / 11 : CREAT 1 ; UR 58 ; GLI 71 ; TG 88 ; HDL 52 ; CT 160 ; LDL 90 ; Na 140 ; K 5 , 2 ; Hb 14 , 8 / Ht 46 , 6 / LEUC 5150 .'],\n",
       "  ['LDL',\n",
       "   'EXAMES LAB 11 / 11 : CREAT 1 ; UR 58 ; GLI 71 ; TG 88 ; HDL 52 ; CT 160 ; LDL 90 ; Na 140 ; K 5 , 2 ; Hb 14 , 8 / Ht 46 , 6 / LEUC 5150 .'],\n",
       "  ['Na',\n",
       "   'EXAMES LAB 11 / 11 : CREAT 1 ; UR 58 ; GLI 71 ; TG 88 ; HDL 52 ; CT 160 ; LDL 90 ; Na 140 ; K 5 , 2 ; Hb 14 , 8 / Ht 46 , 6 / LEUC 5150 .'],\n",
       "  ['K',\n",
       "   'EXAMES LAB 11 / 11 : CREAT 1 ; UR 58 ; GLI 71 ; TG 88 ; HDL 52 ; CT 160 ; LDL 90 ; Na 140 ; K 5 , 2 ; Hb 14 , 8 / Ht 46 , 6 / LEUC 5150 .'],\n",
       "  ['Hb',\n",
       "   'EXAMES LAB 11 / 11 : CREAT 1 ; UR 58 ; GLI 71 ; TG 88 ; HDL 52 ; CT 160 ; LDL 90 ; Na 140 ; K 5 , 2 ; Hb 14 , 8 / Ht 46 , 6 / LEUC 5150 .'],\n",
       "  ['Ht',\n",
       "   'EXAMES LAB 11 / 11 : CREAT 1 ; UR 58 ; GLI 71 ; TG 88 ; HDL 52 ; CT 160 ; LDL 90 ; Na 140 ; K 5 , 2 ; Hb 14 , 8 / Ht 46 , 6 / LEUC 5150 .'],\n",
       "  ['LEUC',\n",
       "   'EXAMES LAB 11 / 11 : CREAT 1 ; UR 58 ; GLI 71 ; TG 88 ; HDL 52 ; CT 160 ; LDL 90 ; Na 140 ; K 5 , 2 ; Hb 14 , 8 / Ht 46 , 6 / LEUC 5150 .']],\n",
       " [['PA', 'PA : 90 / 60MMHG ; P : 72 .'], ['P', 'PA : 90 / 60MMHG ; P : 72 .']],\n",
       " [['TURGÊNCIA JUGULAR', 'AUSENCIA DE TURGÊNCIA JUGULAR .'],\n",
       "  ['JUGULAR', 'AUSENCIA DE TURGÊNCIA JUGULAR .']],\n",
       " [['ICTUS PALPÁVEL EM 7º EIC EM LINHA HEMIAXILAR E',\n",
       "   'ICTUS PALPÁVEL EM 7º EIC EM LINHA HEMIAXILAR E .'],\n",
       "  ['7º EIC EM LINHA HEMIAXILAR',\n",
       "   'ICTUS PALPÁVEL EM 7º EIC EM LINHA HEMIAXILAR E .'],\n",
       "  ['ICTUS PALPÁVEL EM 7º EIC EM LINHA HEMIAXILAR',\n",
       "   'ICTUS PALPÁVEL EM 7º EIC EM LINHA HEMIAXILAR E .'],\n",
       "  ['PALPÁVEL EM 7º EIC EM LINHA HEMIAXILAR E',\n",
       "   'ICTUS PALPÁVEL EM 7º EIC EM LINHA HEMIAXILAR E .']],\n",
       " [['SS', 'BCRNF 2T SS .']],\n",
       " [['PULMONAR', 'AUSCULTA PULMONAR SEM ALTERAÇÕES .'],\n",
       "  ['ALTERAÇÕES', 'AUSCULTA PULMONAR SEM ALTERAÇÕES .']],\n",
       " [['ABDOME', 'ABDOME INOCENTE .']],\n",
       " [['EDEMA EM MMII', 'SEM EDEMA EM MMII .'],\n",
       "  ['MMII', 'SEM EDEMA EM MMII .'],\n",
       "  ['EM MMII', 'SEM EDEMA EM MMII .']],\n",
       " [['PULSOS', 'PULSOS + BL , SIMÉTRICOS .']],\n",
       " [['DÇA CHAGAS', 'A : DÇA CHAGAS .']],\n",
       " [['MEDICAÇÕES', 'P : MANTENHO MEDICAÇÕES .']],\n",
       " [['ECOCARDIO', 'SOLICITO ECOCARDIO .']],\n",
       " [['queixas', 'sem queixas .']],\n",
       " [['avaliação exclusiva de mp', '# hoje avaliação exclusiva de mp .']],\n",
       " [['mp camara - dupla', '# mp camara - dupla .']],\n",
       " [['avaliar bat',\n",
       "   '# cd = retorno como encaixe para avaliar bat - pcte ciente que NÃO PODE DIXAR DE VIR , se intercorrencias = procura direta .'],\n",
       "  ['intercorrencias',\n",
       "   '# cd = retorno como encaixe para avaliar bat - pcte ciente que NÃO PODE DIXAR DE VIR , se intercorrencias = procura direta .']],\n",
       " [['ABLAÇÃO DE TAQUICARDIA ATRIAL',\n",
       "   'ABLAÇÃO DE TAQUICARDIA ATRIAL 2009 E A SEGUNDA EM 2010 .'],\n",
       "  ['DE TAQUICARDIA ATRIAL',\n",
       "   'ABLAÇÃO DE TAQUICARDIA ATRIAL 2009 E A SEGUNDA EM 2010 .']],\n",
       " [['HAS', 'HAS , NEGA DM , DLPD , TABAGISMO , ALERGIA MEDICAMENTOSA .'],\n",
       "  ['DM', 'HAS , NEGA DM , DLPD , TABAGISMO , ALERGIA MEDICAMENTOSA .'],\n",
       "  ['DLPD', 'HAS , NEGA DM , DLPD , TABAGISMO , ALERGIA MEDICAMENTOSA .'],\n",
       "  ['TABAGISMO', 'HAS , NEGA DM , DLPD , TABAGISMO , ALERGIA MEDICAMENTOSA .']],\n",
       " [['CATETERISMO', 'CATETERISMO COM AUSENCIA DE CORONARIOPATIA .'],\n",
       "  ['CORONARIOPATIA', 'CATETERISMO COM AUSENCIA DE CORONARIOPATIA .']],\n",
       " [['ATENOLOL 100MG',\n",
       "   'FAZ USO DE ATENOLOL 100MG 12 / 12H , DILTIAZEN 60MG 12 / 12H , ENALAPRIL 10MG 12 / 12H , HCTZ 25MG , MAREVAN 5MG .'],\n",
       "  ['DILTIAZEN 60MG',\n",
       "   'FAZ USO DE ATENOLOL 100MG 12 / 12H , DILTIAZEN 60MG 12 / 12H , ENALAPRIL 10MG 12 / 12H , HCTZ 25MG , MAREVAN 5MG .'],\n",
       "  ['ENALAPRIL 10MG',\n",
       "   'FAZ USO DE ATENOLOL 100MG 12 / 12H , DILTIAZEN 60MG 12 / 12H , ENALAPRIL 10MG 12 / 12H , HCTZ 25MG , MAREVAN 5MG .'],\n",
       "  ['HCTZ 25MG',\n",
       "   'FAZ USO DE ATENOLOL 100MG 12 / 12H , DILTIAZEN 60MG 12 / 12H , ENALAPRIL 10MG 12 / 12H , HCTZ 25MG , MAREVAN 5MG .'],\n",
       "  ['MAREVAN 5MG',\n",
       "   'FAZ USO DE ATENOLOL 100MG 12 / 12H , DILTIAZEN 60MG 12 / 12H , ENALAPRIL 10MG 12 / 12H , HCTZ 25MG , MAREVAN 5MG .']],\n",
       " [['HOLTER',\n",
       "   'HOLTER COM PRESENCA DE EV E ESV RARAS COM EPISODIOS NAO SUSTENTADOS DE TAQUICARDIA ATRIAL SEM PRESENCA DE SINTOMAS .'],\n",
       "  ['RARAS',\n",
       "   'HOLTER COM PRESENCA DE EV E ESV RARAS COM EPISODIOS NAO SUSTENTADOS DE TAQUICARDIA ATRIAL SEM PRESENCA DE SINTOMAS .'],\n",
       "  ['TAQUICARDIA ATRIAL',\n",
       "   'HOLTER COM PRESENCA DE EV E ESV RARAS COM EPISODIOS NAO SUSTENTADOS DE TAQUICARDIA ATRIAL SEM PRESENCA DE SINTOMAS .'],\n",
       "  ['SINTOMAS',\n",
       "   'HOLTER COM PRESENCA DE EV E ESV RARAS COM EPISODIOS NAO SUSTENTADOS DE TAQUICARDIA ATRIAL SEM PRESENCA DE SINTOMAS .']],\n",
       " [['MEDICAÇÕES',\n",
       "   '# PACIENTE REFERE ESTAR SE SENTINDO BEM COM AS MEDICAÇÕES .']],\n",
       " [['SINTOMAS DE PALPITAÇÕES', 'NEGA SINTOMAS DE PALPITAÇÕES .']],\n",
       " [['DISPNEIA AOS GRANDES ESFORCOS',\n",
       "   'RELATA DISPNEIA AOS GRANDES ESFORCOS , COM MELHORA COM REPOUSO .']],\n",
       " [['HIPOTENSAO', 'RELATA QUE APRESENTOU 1 EPISODIO DE HIPOTENSAO .']],\n",
       " [['CEFALEIA', 'RELATA CEFALEIA .']],\n",
       " [['PA', '# BEG , PA 120 / 80MMHG , FC 70 .'],\n",
       "  ['FC', '# BEG , PA 120 / 80MMHG , FC 70 .']],\n",
       " [['P', 'C / P : SEM ALT .'], ['ALT', 'C / P : SEM ALT .']],\n",
       " [['CORAÇÃO', 'CORAÇÃO : BRNF 2T , SEM SOPRO .'],\n",
       "  ['SOPRO', 'CORAÇÃO : BRNF 2T , SEM SOPRO .']],\n",
       " [['PULMAO', 'PULMAO : MV + , SEM RA .'], ['RA', 'PULMAO : MV + , SEM RA .']],\n",
       " [['MEDICAÇÃO', 'CD : MEDICAÇÃO MANTIDA .']],\n",
       " [['HOLTER', 'SOLICITO NOVO HOLTER E ECOCARDIO .'],\n",
       "  ['ECOCARDIO', 'SOLICITO NOVO HOLTER E ECOCARDIO .']],\n",
       " [['Comorbidades', 'Comorbidades : HAS .'], ['HAS', 'Comorbidades : HAS .']],\n",
       " [['Medicamentos atenolol 100mg',\n",
       "   'Medicamentos atenolol 100mg , 12 - 12h , .'],\n",
       "  ['atenolol 100mg', 'Medicamentos atenolol 100mg , 12 - 12h , .']],\n",
       " [['diltiazen 60mg', 'diltiazen 60mg , 12 - 12h , .']],\n",
       " [['Enalapril 10mg', 'Enalapril 10mg , 12 - 12h , .']],\n",
       " [['HCTZ 25mg', 'HCTZ 25mg , .']],\n",
       " [['Marevan 5mg', 'Marevan 5mg .']],\n",
       " [['ablações',\n",
       "   'HMA : fez 02 ablações ( 2009 e 2010 ) POR PALPITAÇÕES com taquicardia atrial ; .'],\n",
       "  ['PALPITAÇÕES',\n",
       "   'HMA : fez 02 ablações ( 2009 e 2010 ) POR PALPITAÇÕES com taquicardia atrial ; .'],\n",
       "  ['taquicardia atrial',\n",
       "   'HMA : fez 02 ablações ( 2009 e 2010 ) POR PALPITAÇÕES com taquicardia atrial ; .']],\n",
       " [['palpitações quando faz grandes esforços',\n",
       "   'Atualmente sente palpitações quando faz grandes esforços ; dor de cabeça que melhora com analgésico comum .']],\n",
       " [['FC', 'FC : 88 .']],\n",
       " [['Edema discreto mmi', 'Edema discreto mmi .']],\n",
       " [['pulmonar', 'Ausculta pulmonar e cardiaca normais .']],\n",
       " [['Homoenxerto aortico',\n",
       "   'Homoenxerto aortico ( por EAo ) + MIE - DA ; RAD - CD ; SAF - MG em 2006 - Doutor Vital Brazil .'],\n",
       "  ['EAo',\n",
       "   'Homoenxerto aortico ( por EAo ) + MIE - DA ; RAD - CD ; SAF - MG em 2006 - Doutor Vital Brazil .']],\n",
       " [['Hipertenso', 'Hipertenso , .']],\n",
       " [['AAS 100 mg',\n",
       "   'Em uso de : AAS 100 mg dia , losartana 100 mg dia , atovastatina 20 mg 4CP / DIA , atenolol 25mg / dia , furosemida 40mg / dia , omeoprazol 40mg ao dia , ezatimibe 10 mg , Hidantal 100mg - por cisticercose .'],\n",
       "  ['atenolol 25mg',\n",
       "   'Em uso de : AAS 100 mg dia , losartana 100 mg dia , atovastatina 20 mg 4CP / DIA , atenolol 25mg / dia , furosemida 40mg / dia , omeoprazol 40mg ao dia , ezatimibe 10 mg , Hidantal 100mg - por cisticercose .'],\n",
       "  ['furosemida 40mg',\n",
       "   'Em uso de : AAS 100 mg dia , losartana 100 mg dia , atovastatina 20 mg 4CP / DIA , atenolol 25mg / dia , furosemida 40mg / dia , omeoprazol 40mg ao dia , ezatimibe 10 mg , Hidantal 100mg - por cisticercose .'],\n",
       "  ['omeoprazol 40mg',\n",
       "   'Em uso de : AAS 100 mg dia , losartana 100 mg dia , atovastatina 20 mg 4CP / DIA , atenolol 25mg / dia , furosemida 40mg / dia , omeoprazol 40mg ao dia , ezatimibe 10 mg , Hidantal 100mg - por cisticercose .'],\n",
       "  ['ezatimibe 10 mg',\n",
       "   'Em uso de : AAS 100 mg dia , losartana 100 mg dia , atovastatina 20 mg 4CP / DIA , atenolol 25mg / dia , furosemida 40mg / dia , omeoprazol 40mg ao dia , ezatimibe 10 mg , Hidantal 100mg - por cisticercose .'],\n",
       "  ['Hidantal 100mg',\n",
       "   'Em uso de : AAS 100 mg dia , losartana 100 mg dia , atovastatina 20 mg 4CP / DIA , atenolol 25mg / dia , furosemida 40mg / dia , omeoprazol 40mg ao dia , ezatimibe 10 mg , Hidantal 100mg - por cisticercose .'],\n",
       "  ['cisticercose',\n",
       "   'Em uso de : AAS 100 mg dia , losartana 100 mg dia , atovastatina 20 mg 4CP / DIA , atenolol 25mg / dia , furosemida 40mg / dia , omeoprazol 40mg ao dia , ezatimibe 10 mg , Hidantal 100mg - por cisticercose .']],\n",
       " [['Penicilina G benzatina 1 , 200 , 000U IM',\n",
       "   'Penicilina G benzatina 1 , 200 , 000U IM a cada 21 dia - suspenso em 2013 .']],\n",
       " [['DOR REGIAO ESTERNAL , EM FO , LOCAL FIOS AÇO , EM QUEIMAÇÃO',\n",
       "   'DOR REGIAO ESTERNAL , EM FO , LOCAL FIOS AÇO , EM QUEIMAÇÃO .'],\n",
       "  ['DOR REGIAO ESTERNAL',\n",
       "   'DOR REGIAO ESTERNAL , EM FO , LOCAL FIOS AÇO , EM QUEIMAÇÃO .'],\n",
       "  ['LOCAL FIOS AÇO',\n",
       "   'DOR REGIAO ESTERNAL , EM FO , LOCAL FIOS AÇO , EM QUEIMAÇÃO .'],\n",
       "  ['FO , LOCAL FIOS',\n",
       "   'DOR REGIAO ESTERNAL , EM FO , LOCAL FIOS AÇO , EM QUEIMAÇÃO .'],\n",
       "  [', LOCAL FIOS AÇO',\n",
       "   'DOR REGIAO ESTERNAL , EM FO , LOCAL FIOS AÇO , EM QUEIMAÇÃO .'],\n",
       "  ['LOCAL FIOS AÇO ,',\n",
       "   'DOR REGIAO ESTERNAL , EM FO , LOCAL FIOS AÇO , EM QUEIMAÇÃO .'],\n",
       "  ['EM FO , LOCAL FIOS',\n",
       "   'DOR REGIAO ESTERNAL , EM FO , LOCAL FIOS AÇO , EM QUEIMAÇÃO .'],\n",
       "  ['FO , LOCAL FIOS AÇO',\n",
       "   'DOR REGIAO ESTERNAL , EM FO , LOCAL FIOS AÇO , EM QUEIMAÇÃO .'],\n",
       "  ['DOR REGIAO ESTERNAL , EM FO',\n",
       "   'DOR REGIAO ESTERNAL , EM FO , LOCAL FIOS AÇO , EM QUEIMAÇÃO .'],\n",
       "  ['EM FO , LOCAL FIOS AÇO',\n",
       "   'DOR REGIAO ESTERNAL , EM FO , LOCAL FIOS AÇO , EM QUEIMAÇÃO .'],\n",
       "  ['FO , LOCAL FIOS AÇO ,',\n",
       "   'DOR REGIAO ESTERNAL , EM FO , LOCAL FIOS AÇO , EM QUEIMAÇÃO .'],\n",
       "  ['LOCAL FIOS AÇO , EM QUEIMAÇÃO',\n",
       "   'DOR REGIAO ESTERNAL , EM FO , LOCAL FIOS AÇO , EM QUEIMAÇÃO .'],\n",
       "  ['DOR REGIAO ESTERNAL , EM FO ,',\n",
       "   'DOR REGIAO ESTERNAL , EM FO , LOCAL FIOS AÇO , EM QUEIMAÇÃO .'],\n",
       "  ['REGIAO ESTERNAL , EM FO , LOCAL',\n",
       "   'DOR REGIAO ESTERNAL , EM FO , LOCAL FIOS AÇO , EM QUEIMAÇÃO .'],\n",
       "  ['ESTERNAL , EM FO , LOCAL FIOS',\n",
       "   'DOR REGIAO ESTERNAL , EM FO , LOCAL FIOS AÇO , EM QUEIMAÇÃO .'],\n",
       "  [', EM FO , LOCAL FIOS AÇO',\n",
       "   'DOR REGIAO ESTERNAL , EM FO , LOCAL FIOS AÇO , EM QUEIMAÇÃO .'],\n",
       "  ['EM FO , LOCAL FIOS AÇO ,',\n",
       "   'DOR REGIAO ESTERNAL , EM FO , LOCAL FIOS AÇO , EM QUEIMAÇÃO .'],\n",
       "  ['FO , LOCAL FIOS AÇO , EM',\n",
       "   'DOR REGIAO ESTERNAL , EM FO , LOCAL FIOS AÇO , EM QUEIMAÇÃO .'],\n",
       "  [', LOCAL FIOS AÇO , EM QUEIMAÇÃO',\n",
       "   'DOR REGIAO ESTERNAL , EM FO , LOCAL FIOS AÇO , EM QUEIMAÇÃO .'],\n",
       "  ['DOR REGIAO ESTERNAL , EM FO , LOCAL',\n",
       "   'DOR REGIAO ESTERNAL , EM FO , LOCAL FIOS AÇO , EM QUEIMAÇÃO .'],\n",
       "  ['REGIAO ESTERNAL , EM FO , LOCAL FIOS',\n",
       "   'DOR REGIAO ESTERNAL , EM FO , LOCAL FIOS AÇO , EM QUEIMAÇÃO .'],\n",
       "  ['ESTERNAL , EM FO , LOCAL FIOS AÇO',\n",
       "   'DOR REGIAO ESTERNAL , EM FO , LOCAL FIOS AÇO , EM QUEIMAÇÃO .'],\n",
       "  [', EM FO , LOCAL FIOS AÇO ,',\n",
       "   'DOR REGIAO ESTERNAL , EM FO , LOCAL FIOS AÇO , EM QUEIMAÇÃO .'],\n",
       "  ['EM FO , LOCAL FIOS AÇO , EM',\n",
       "   'DOR REGIAO ESTERNAL , EM FO , LOCAL FIOS AÇO , EM QUEIMAÇÃO .'],\n",
       "  ['FO , LOCAL FIOS AÇO , EM QUEIMAÇÃO',\n",
       "   'DOR REGIAO ESTERNAL , EM FO , LOCAL FIOS AÇO , EM QUEIMAÇÃO .'],\n",
       "  ['DOR REGIAO ESTERNAL , EM FO , LOCAL FIOS',\n",
       "   'DOR REGIAO ESTERNAL , EM FO , LOCAL FIOS AÇO , EM QUEIMAÇÃO .'],\n",
       "  ['REGIAO ESTERNAL , EM FO , LOCAL FIOS AÇO',\n",
       "   'DOR REGIAO ESTERNAL , EM FO , LOCAL FIOS AÇO , EM QUEIMAÇÃO .'],\n",
       "  ['ESTERNAL , EM FO , LOCAL FIOS AÇO ,',\n",
       "   'DOR REGIAO ESTERNAL , EM FO , LOCAL FIOS AÇO , EM QUEIMAÇÃO .'],\n",
       "  ['EM FO , LOCAL FIOS AÇO , EM QUEIMAÇÃO',\n",
       "   'DOR REGIAO ESTERNAL , EM FO , LOCAL FIOS AÇO , EM QUEIMAÇÃO .'],\n",
       "  ['DOR REGIAO ESTERNAL , EM FO , LOCAL FIOS AÇO',\n",
       "   'DOR REGIAO ESTERNAL , EM FO , LOCAL FIOS AÇO , EM QUEIMAÇÃO .'],\n",
       "  ['REGIAO ESTERNAL , EM FO , LOCAL FIOS AÇO ,',\n",
       "   'DOR REGIAO ESTERNAL , EM FO , LOCAL FIOS AÇO , EM QUEIMAÇÃO .'],\n",
       "  ['ESTERNAL , EM FO , LOCAL FIOS AÇO , EM',\n",
       "   'DOR REGIAO ESTERNAL , EM FO , LOCAL FIOS AÇO , EM QUEIMAÇÃO .'],\n",
       "  [', EM FO , LOCAL FIOS AÇO , EM QUEIMAÇÃO',\n",
       "   'DOR REGIAO ESTERNAL , EM FO , LOCAL FIOS AÇO , EM QUEIMAÇÃO .'],\n",
       "  ['DOR REGIAO ESTERNAL , EM FO , LOCAL FIOS AÇO ,',\n",
       "   'DOR REGIAO ESTERNAL , EM FO , LOCAL FIOS AÇO , EM QUEIMAÇÃO .'],\n",
       "  ['REGIAO ESTERNAL , EM FO , LOCAL FIOS AÇO , EM',\n",
       "   'DOR REGIAO ESTERNAL , EM FO , LOCAL FIOS AÇO , EM QUEIMAÇÃO .'],\n",
       "  ['ESTERNAL , EM FO , LOCAL FIOS AÇO , EM QUEIMAÇÃO',\n",
       "   'DOR REGIAO ESTERNAL , EM FO , LOCAL FIOS AÇO , EM QUEIMAÇÃO .'],\n",
       "  ['DOR REGIAO ESTERNAL , EM FO , LOCAL FIOS AÇO , EM',\n",
       "   'DOR REGIAO ESTERNAL , EM FO , LOCAL FIOS AÇO , EM QUEIMAÇÃO .'],\n",
       "  ['REGIAO ESTERNAL , EM FO , LOCAL FIOS AÇO , EM QUEIMAÇÃO',\n",
       "   'DOR REGIAO ESTERNAL , EM FO , LOCAL FIOS AÇO , EM QUEIMAÇÃO .']],\n",
       " [['Labs', '- Labs : tg 221 / ct 166 / ldl 76 , demais ok .'],\n",
       "  ['ct', '- Labs : tg 221 / ct 166 / ldl 76 , demais ok .']],\n",
       " [['Ecocardio', '- Ecocardio 12 / 08 / 15 : A0 / VD 22 / Septo 11 / FE 66 .'],\n",
       "  ['VD', '- Ecocardio 12 / 08 / 15 : A0 / VD 22 / Septo 11 / FE 66 .'],\n",
       "  ['Septo', '- Ecocardio 12 / 08 / 15 : A0 / VD 22 / Septo 11 / FE 66 .']],\n",
       " [['Homoenxerto aortico',\n",
       "   'Homoenxerto aortico com mobilidade ampla folhetps .']],\n",
       " [['Regurgitacao grau leve a moderada',\n",
       "   'Regurgitacao grau leve a moderada com jato dirigido valva mitral ( ? ) .'],\n",
       "  ['mitral',\n",
       "   'Regurgitacao grau leve a moderada com jato dirigido valva mitral ( ? ) .']],\n",
       " [['Exames', 'Exames : .']],\n",
       " [['Ecocardiograma',\n",
       "   'Ecocardiograma - 26 / 06 / 2013 : Homoenxerto em posição aórtica normofuncionante .']],\n",
       " [['VE hipertrofiado',\n",
       "   'VE hipertrofiado com dimensões normais e fumção sistólica preservada .']],\n",
       " [['ALteração do relaxamento do VE AE dilatado',\n",
       "   'ALteração do relaxamento do VE AE dilatado .'],\n",
       "  ['VE AE', 'ALteração do relaxamento do VE AE dilatado .'],\n",
       "  ['AE dilatado', 'ALteração do relaxamento do VE AE dilatado .'],\n",
       "  ['do VE AE', 'ALteração do relaxamento do VE AE dilatado .'],\n",
       "  ['VE AE dilatado', 'ALteração do relaxamento do VE AE dilatado .'],\n",
       "  ['relaxamento do VE AE', 'ALteração do relaxamento do VE AE dilatado .'],\n",
       "  ['do VE AE dilatado', 'ALteração do relaxamento do VE AE dilatado .'],\n",
       "  ['relaxamento do VE AE dilatado',\n",
       "   'ALteração do relaxamento do VE AE dilatado .'],\n",
       "  ['ALteração do relaxamento do VE AE',\n",
       "   'ALteração do relaxamento do VE AE dilatado .'],\n",
       "  ['do relaxamento do VE AE dilatado',\n",
       "   'ALteração do relaxamento do VE AE dilatado .']],\n",
       " [['Homoenxerto', 'Homoenxerto com mobilidade adequada .']],\n",
       " [['Lab',\n",
       "   '- Lab ( 05 / 02 / 15 ) : Cr 0 , 91 , CT 174 , TGC 197 , HDL 44 , K 4 , 8 , LDL 90 , Glic 107 .'],\n",
       "  ['Cr',\n",
       "   '- Lab ( 05 / 02 / 15 ) : Cr 0 , 91 , CT 174 , TGC 197 , HDL 44 , K 4 , 8 , LDL 90 , Glic 107 .'],\n",
       "  ['CT',\n",
       "   '- Lab ( 05 / 02 / 15 ) : Cr 0 , 91 , CT 174 , TGC 197 , HDL 44 , K 4 , 8 , LDL 90 , Glic 107 .'],\n",
       "  ['TGC',\n",
       "   '- Lab ( 05 / 02 / 15 ) : Cr 0 , 91 , CT 174 , TGC 197 , HDL 44 , K 4 , 8 , LDL 90 , Glic 107 .'],\n",
       "  ['HDL',\n",
       "   '- Lab ( 05 / 02 / 15 ) : Cr 0 , 91 , CT 174 , TGC 197 , HDL 44 , K 4 , 8 , LDL 90 , Glic 107 .'],\n",
       "  ['K',\n",
       "   '- Lab ( 05 / 02 / 15 ) : Cr 0 , 91 , CT 174 , TGC 197 , HDL 44 , K 4 , 8 , LDL 90 , Glic 107 .'],\n",
       "  ['LDL',\n",
       "   '- Lab ( 05 / 02 / 15 ) : Cr 0 , 91 , CT 174 , TGC 197 , HDL 44 , K 4 , 8 , LDL 90 , Glic 107 .'],\n",
       "  ['Glic',\n",
       "   '- Lab ( 05 / 02 / 15 ) : Cr 0 , 91 , CT 174 , TGC 197 , HDL 44 , K 4 , 8 , LDL 90 , Glic 107 .']],\n",
       " [['exame', 'Ao exame : .']],\n",
       " [['FC79 PA', 'FC79 PA : 130 / 80 .'], ['PA', 'FC79 PA : 130 / 80 .']],\n",
       " [['estase jugular', 'CP : sem estase jugular .'],\n",
       "  ['jugular', 'CP : sem estase jugular .']],\n",
       " [['sopros', 'AC : BCRNF sem sopros .']],\n",
       " [['RA', 'AP : MV presente bilateralmente , sem RA .']],\n",
       " [['medicações', 'mantenho medicações .']],\n",
       " [['pontos suttura esterno',\n",
       "   'encaminho para cir cardiaca para retirada pontos suttura esterno .'],\n",
       "  ['suttura esterno',\n",
       "   'encaminho para cir cardiaca para retirada pontos suttura esterno .']],\n",
       " [['MAREVAN',\n",
       "   \"USUÁRIA DE MAREVAN DEVIDO ' ARRITMIA ' , NÃO SABE INFORMAR MAIORES DETALHES .\"],\n",
       "  ['ARRITMIA',\n",
       "   \"USUÁRIA DE MAREVAN DEVIDO ' ARRITMIA ' , NÃO SABE INFORMAR MAIORES DETALHES .\"]],\n",
       " [['QUEIXAS', 'sEM QUEIXAS .']],\n",
       " [['RELATO DE SANGRAMENTOS', 'SEM RELATO DE SANGRAMENTOS .']],\n",
       " [['RNI', 'RNI 3 , 40 .']],\n",
       " [['DE GRAVIDADE', 'ALERTO SINAIS DE GRAVIDADE .']],\n",
       " [['MEDICAÇÃO DE USO', 'MANTER AS MEDICAÇÃO DE USO , COM AJUSTE DE COSE .']],\n",
       " [['EAo', '# EAo .']],\n",
       " [['HAS', '# HAS .']],\n",
       " [['Atenol 50', '# Uso : Atenol 50 - 1xd .']],\n",
       " [['Enalapril 5', 'Enalapril 5 - 12 / 12h .']],\n",
       " [['queixas cardiovasculares', '# Sem queixas cardiovasculares .']],\n",
       " [['Ecocardio',\n",
       "   'Ecocardio ( 13 / 02 / 15 ) : AE = 45 ; SIV = PPVE = 14mm ; DDVE = 48 ; DSVE = 29 ; FE = 69 % .'],\n",
       "  ['AE',\n",
       "   'Ecocardio ( 13 / 02 / 15 ) : AE = 45 ; SIV = PPVE = 14mm ; DDVE = 48 ; DSVE = 29 ; FE = 69 % .'],\n",
       "  ['SIV',\n",
       "   'Ecocardio ( 13 / 02 / 15 ) : AE = 45 ; SIV = PPVE = 14mm ; DDVE = 48 ; DSVE = 29 ; FE = 69 % .'],\n",
       "  ['PPVE',\n",
       "   'Ecocardio ( 13 / 02 / 15 ) : AE = 45 ; SIV = PPVE = 14mm ; DDVE = 48 ; DSVE = 29 ; FE = 69 % .']],\n",
       " [['VMi',\n",
       "   'VMi = folhetos espessados , abertura preservada , refluxo discreto , fluxo diastólico com padrão E < A VAo = cúspides calcificadas , com dupla lesão ; Grad max de 54 e medio de 28mmHg .']],\n",
       " [['VP',\n",
       "   'VP = ok ; Vtri = folhetos espessados , abertura preservada , insuficiente , PSAP = 39mmHg .'],\n",
       "  ['Vtri',\n",
       "   'VP = ok ; Vtri = folhetos espessados , abertura preservada , insuficiente , PSAP = 39mmHg .'],\n",
       "  ['folhetos espessados',\n",
       "   'VP = ok ; Vtri = folhetos espessados , abertura preservada , insuficiente , PSAP = 39mmHg .']],\n",
       " [['VE',\n",
       "   'VE = hipertrofiado , cavidade , função sistólica e contração preservadas , alt de relaxamento .']],\n",
       " [['AD', 'AD = aumentado .'], ['aumentado', 'AD = aumentado .']],\n",
       " [['Eco',\n",
       "   'Eco ( 14 / 04 / 16 ) RA : 38 AE : 45 VD : 20 S : 14 PP : 14 VE : 50 / 30 FE : 70 % .'],\n",
       "  ['RA',\n",
       "   'Eco ( 14 / 04 / 16 ) RA : 38 AE : 45 VD : 20 S : 14 PP : 14 VE : 50 / 30 FE : 70 % .'],\n",
       "  ['AE',\n",
       "   'Eco ( 14 / 04 / 16 ) RA : 38 AE : 45 VD : 20 S : 14 PP : 14 VE : 50 / 30 FE : 70 % .'],\n",
       "  ['VD',\n",
       "   'Eco ( 14 / 04 / 16 ) RA : 38 AE : 45 VD : 20 S : 14 PP : 14 VE : 50 / 30 FE : 70 % .'],\n",
       "  ['PP',\n",
       "   'Eco ( 14 / 04 / 16 ) RA : 38 AE : 45 VD : 20 S : 14 PP : 14 VE : 50 / 30 FE : 70 % .']],\n",
       " [['CUSPIDES CALCIFICADAS', 'AO : CUSPIDES CALCIFICADAS , COM DUPLA LESAO .']],\n",
       " [['INSUF TRICU DISCRETA', 'INSUF TRICU DISCRETA ( PSAP 39 ) .']],\n",
       " [['REFLUXO MITRAL DISCRETO', 'REFLUXO MITRAL DISCRETO .'],\n",
       "  ['MITRAL DISCRETO', 'REFLUXO MITRAL DISCRETO .']],\n",
       " [['ASC', 'AO ASC : 41MM .']],\n",
       " [['dispneia', 'Nega dispneia , dor toracica , sincope .'],\n",
       "  ['dor toracica', 'Nega dispneia , dor toracica , sincope .'],\n",
       "  ['toracica', 'Nega dispneia , dor toracica , sincope .'],\n",
       "  ['sincope', 'Nega dispneia , dor toracica , sincope .']],\n",
       " [['edema de MMII', 'Nega edema de MMII .'],\n",
       "  ['de MMII', 'Nega edema de MMII .']],\n",
       " [['elevação de PA',\n",
       "   'Refere controle pressorico bom em casa , porem nas consultas sempre apresenta elevação de PA .']],\n",
       " [['Sd Jaleco Branco', 'Sd Jaleco Branco ? ) .'],\n",
       "  ['Jaleco Branco', 'Sd Jaleco Branco ? ) .']],\n",
       " [['PA', 'PA : 170 / 100 mmHg , P = 99 spm .'],\n",
       "  ['P', 'PA : 170 / 100 mmHg , P = 99 spm .']],\n",
       " [['ruidos', 'MV normodist sem ruidos .']],\n",
       " [['taquicardico',\n",
       "   'RCR , 2T , taquicardico , ss + + / 6 + , crsec / decres , FAO , irradiação para todo o precórdio .']],\n",
       " [['DUPLA LESAO AO ESTENOSE MOD + INSUF DISCRETA',\n",
       "   'A # DUPLA LESAO AO ESTENOSE MOD + INSUF DISCRETA .'],\n",
       "  ['ESTENOSE MOD + INSUF',\n",
       "   'A # DUPLA LESAO AO ESTENOSE MOD + INSUF DISCRETA .'],\n",
       "  ['MOD + INSUF DISCRETA',\n",
       "   'A # DUPLA LESAO AO ESTENOSE MOD + INSUF DISCRETA .'],\n",
       "  ['DUPLA LESAO AO ESTENOSE MOD',\n",
       "   'A # DUPLA LESAO AO ESTENOSE MOD + INSUF DISCRETA .'],\n",
       "  ['LESAO AO ESTENOSE MOD +',\n",
       "   'A # DUPLA LESAO AO ESTENOSE MOD + INSUF DISCRETA .'],\n",
       "  ['AO ESTENOSE MOD + INSUF',\n",
       "   'A # DUPLA LESAO AO ESTENOSE MOD + INSUF DISCRETA .'],\n",
       "  ['ESTENOSE MOD + INSUF DISCRETA',\n",
       "   'A # DUPLA LESAO AO ESTENOSE MOD + INSUF DISCRETA .'],\n",
       "  ['DUPLA LESAO AO ESTENOSE MOD +',\n",
       "   'A # DUPLA LESAO AO ESTENOSE MOD + INSUF DISCRETA .'],\n",
       "  ['LESAO AO ESTENOSE MOD + INSUF',\n",
       "   'A # DUPLA LESAO AO ESTENOSE MOD + INSUF DISCRETA .'],\n",
       "  ['AO ESTENOSE MOD + INSUF DISCRETA',\n",
       "   'A # DUPLA LESAO AO ESTENOSE MOD + INSUF DISCRETA .'],\n",
       "  ['DUPLA LESAO AO ESTENOSE MOD + INSUF',\n",
       "   'A # DUPLA LESAO AO ESTENOSE MOD + INSUF DISCRETA .'],\n",
       "  ['LESAO AO ESTENOSE MOD + INSUF DISCRETA',\n",
       "   'A # DUPLA LESAO AO ESTENOSE MOD + INSUF DISCRETA .']],\n",
       " [['Enalapril 20mg',\n",
       "   'P # aumento Enalapril 20mg 2x d e inicio HCTZ 25mg / dia .']],\n",
       " [['eco', 'retorno em 1 ano com novo eco .']],\n",
       " [['MCP dilatada - IDIOPÁTICA', '# MCP dilatada - IDIOPÁTICA .']],\n",
       " [['CF II - III OSCILANTE', 'CF II - III OSCILANTE .']],\n",
       " [['TX CARDIACO', '** PROTOCOLO DE TX CARDIACO - INDICE CARDIACO .'],\n",
       "  ['CARDIACO', '** PROTOCOLO DE TX CARDIACO - INDICE CARDIACO .'],\n",
       "  ['INDICE CARDIACO', '** PROTOCOLO DE TX CARDIACO - INDICE CARDIACO .'],\n",
       "  ['CARDIACO', '** PROTOCOLO DE TX CARDIACO - INDICE CARDIACO .']],\n",
       " [['Omeprazol 20mg',\n",
       "   '*** Em uso de : Omeprazol 20mg / d , AAS 100mg / d , Losartan 50mg 12 / 12hs , Espironolactona 25mg / d , Hidralazina 50mg 12 / 12hs , Carvedilol 12 , 5mg 12 / 12hs .'],\n",
       "  ['AAS 100mg',\n",
       "   '*** Em uso de : Omeprazol 20mg / d , AAS 100mg / d , Losartan 50mg 12 / 12hs , Espironolactona 25mg / d , Hidralazina 50mg 12 / 12hs , Carvedilol 12 , 5mg 12 / 12hs .'],\n",
       "  ['Losartan 50mg',\n",
       "   '*** Em uso de : Omeprazol 20mg / d , AAS 100mg / d , Losartan 50mg 12 / 12hs , Espironolactona 25mg / d , Hidralazina 50mg 12 / 12hs , Carvedilol 12 , 5mg 12 / 12hs .'],\n",
       "  ['Espironolactona 25mg',\n",
       "   '*** Em uso de : Omeprazol 20mg / d , AAS 100mg / d , Losartan 50mg 12 / 12hs , Espironolactona 25mg / d , Hidralazina 50mg 12 / 12hs , Carvedilol 12 , 5mg 12 / 12hs .'],\n",
       "  ['Hidralazina 50mg',\n",
       "   '*** Em uso de : Omeprazol 20mg / d , AAS 100mg / d , Losartan 50mg 12 / 12hs , Espironolactona 25mg / d , Hidralazina 50mg 12 / 12hs , Carvedilol 12 , 5mg 12 / 12hs .']],\n",
       " [['CANSAÇO AOS ESFORÇOS', 'S # QUEIXA DE CANSAÇO AOS ESFORÇOS .']],\n",
       " [['TG',\n",
       "   'TG 111 , HDL 37 , K 4 , 7 , CT 162 , LDL 103 , TSH 1 , 59 , HB 13 , HB GLICASADA 5 , 87 , NA 145 , TGP 28 , TGO 26 , CREAT 0 , 98 .'],\n",
       "  ['HDL',\n",
       "   'TG 111 , HDL 37 , K 4 , 7 , CT 162 , LDL 103 , TSH 1 , 59 , HB 13 , HB GLICASADA 5 , 87 , NA 145 , TGP 28 , TGO 26 , CREAT 0 , 98 .'],\n",
       "  ['K',\n",
       "   'TG 111 , HDL 37 , K 4 , 7 , CT 162 , LDL 103 , TSH 1 , 59 , HB 13 , HB GLICASADA 5 , 87 , NA 145 , TGP 28 , TGO 26 , CREAT 0 , 98 .'],\n",
       "  ['CT',\n",
       "   'TG 111 , HDL 37 , K 4 , 7 , CT 162 , LDL 103 , TSH 1 , 59 , HB 13 , HB GLICASADA 5 , 87 , NA 145 , TGP 28 , TGO 26 , CREAT 0 , 98 .'],\n",
       "  ['LDL',\n",
       "   'TG 111 , HDL 37 , K 4 , 7 , CT 162 , LDL 103 , TSH 1 , 59 , HB 13 , HB GLICASADA 5 , 87 , NA 145 , TGP 28 , TGO 26 , CREAT 0 , 98 .'],\n",
       "  ['TSH',\n",
       "   'TG 111 , HDL 37 , K 4 , 7 , CT 162 , LDL 103 , TSH 1 , 59 , HB 13 , HB GLICASADA 5 , 87 , NA 145 , TGP 28 , TGO 26 , CREAT 0 , 98 .'],\n",
       "  ['HB',\n",
       "   'TG 111 , HDL 37 , K 4 , 7 , CT 162 , LDL 103 , TSH 1 , 59 , HB 13 , HB GLICASADA 5 , 87 , NA 145 , TGP 28 , TGO 26 , CREAT 0 , 98 .'],\n",
       "  ['HB GLICASADA',\n",
       "   'TG 111 , HDL 37 , K 4 , 7 , CT 162 , LDL 103 , TSH 1 , 59 , HB 13 , HB GLICASADA 5 , 87 , NA 145 , TGP 28 , TGO 26 , CREAT 0 , 98 .'],\n",
       "  ['TGP',\n",
       "   'TG 111 , HDL 37 , K 4 , 7 , CT 162 , LDL 103 , TSH 1 , 59 , HB 13 , HB GLICASADA 5 , 87 , NA 145 , TGP 28 , TGO 26 , CREAT 0 , 98 .'],\n",
       "  ['TGO',\n",
       "   'TG 111 , HDL 37 , K 4 , 7 , CT 162 , LDL 103 , TSH 1 , 59 , HB 13 , HB GLICASADA 5 , 87 , NA 145 , TGP 28 , TGO 26 , CREAT 0 , 98 .'],\n",
       "  ['CREAT',\n",
       "   'TG 111 , HDL 37 , K 4 , 7 , CT 162 , LDL 103 , TSH 1 , 59 , HB 13 , HB GLICASADA 5 , 87 , NA 145 , TGP 28 , TGO 26 , CREAT 0 , 98 .']],\n",
       " [['PA', 'AO EAXME PA 110 / 70 FC 64 .'],\n",
       "  ['FC', 'AO EAXME PA 110 / 70 FC 64 .']],\n",
       " [['TURGÊNCIA JUGULAR', 'SEM TURGÊNCIA JUGULAR .'],\n",
       "  ['JUGULAR', 'SEM TURGÊNCIA JUGULAR .']],\n",
       " [['CPP', 'CPP - MV + BILATERAL , .']],\n",
       " [['SOPROS', 'PC - BCR SEM SOPROS , .']],\n",
       " [['MMII', 'MMII - SEM EDEM .'], ['EDEM', 'MMII - SEM EDEM .']],\n",
       " [['MCP dilatada CF II / III', 'A # MCP dilatada CF II / III .']],\n",
       " [['MEDICAÇÕES', 'P # MEDICAÇÕES MANTIDAS .']],\n",
       " [['TX CARDÍACO',\n",
       "   '# PO DE TX CARDÍACO ( 23 / 10 / 15 ) - ( IC DILATADA IDIOPÁTICA ) .']],\n",
       " [['CICLOSPORINA 150MG',\n",
       "   '# EM USO DE : CICLOSPORINA 150MG 12 / 12H , MICOFENOLATO 720MG 8 / 8H , PREDNISONA 20MG / DIA .'],\n",
       "  ['PREDNISONA 20MG',\n",
       "   '# EM USO DE : CICLOSPORINA 150MG 12 / 12H , MICOFENOLATO 720MG 8 / 8H , PREDNISONA 20MG / DIA .']],\n",
       " [['AAS 100MG', 'AAS 100MG / DIA , OMZ 20MG / DIA .'],\n",
       "  ['OMZ 20MG', 'AAS 100MG / DIA , OMZ 20MG / DIA .']],\n",
       " [['EXAMES', '- EXAMES - AVALIAÇÃO PRÉ - TRANSPLANTE : .']],\n",
       " [['DOPPLER CAROTIDAS + VERTEBRAIS',\n",
       "   '# DOPPLER CAROTIDAS + VERTEBRAIS : CERVICAL D : CAROTIDA : ESTENOSE 20 - 30 % NA BIFURCAÇÃO CAROTÍDEA ; .'],\n",
       "  ['CAROTIDAS + VERTEBRAIS',\n",
       "   '# DOPPLER CAROTIDAS + VERTEBRAIS : CERVICAL D : CAROTIDA : ESTENOSE 20 - 30 % NA BIFURCAÇÃO CAROTÍDEA ; .'],\n",
       "  ['CERVICAL D',\n",
       "   '# DOPPLER CAROTIDAS + VERTEBRAIS : CERVICAL D : CAROTIDA : ESTENOSE 20 - 30 % NA BIFURCAÇÃO CAROTÍDEA ; .'],\n",
       "  ['CERVICAL',\n",
       "   '# DOPPLER CAROTIDAS + VERTEBRAIS : CERVICAL D : CAROTIDA : ESTENOSE 20 - 30 % NA BIFURCAÇÃO CAROTÍDEA ; .'],\n",
       "  ['D',\n",
       "   '# DOPPLER CAROTIDAS + VERTEBRAIS : CERVICAL D : CAROTIDA : ESTENOSE 20 - 30 % NA BIFURCAÇÃO CAROTÍDEA ; .'],\n",
       "  ['CAROTIDA',\n",
       "   '# DOPPLER CAROTIDAS + VERTEBRAIS : CERVICAL D : CAROTIDA : ESTENOSE 20 - 30 % NA BIFURCAÇÃO CAROTÍDEA ; .'],\n",
       "  ['ESTENOSE 20 - 30 % NA BIFURCAÇÃO CAROTÍDEA',\n",
       "   '# DOPPLER CAROTIDAS + VERTEBRAIS : CERVICAL D : CAROTIDA : ESTENOSE 20 - 30 % NA BIFURCAÇÃO CAROTÍDEA ; .'],\n",
       "  ['BIFURCAÇÃO CAROTÍDEA',\n",
       "   '# DOPPLER CAROTIDAS + VERTEBRAIS : CERVICAL D : CAROTIDA : ESTENOSE 20 - 30 % NA BIFURCAÇÃO CAROTÍDEA ; .']],\n",
       " [['CATE',\n",
       "   '# CATE 16 / 06 / 15 : PRÉ : RVP 2 , 19 / / RVS 24 , PÓS : RVP 2 , 08 / / RVS 12 , 59 .']],\n",
       " [['ECOTT',\n",
       "   '# ECOTT 28 / 8 / 15 AE 46 / VD 26 / S / PP 10 / 10 VE 81 / 66 FE 37 % .'],\n",
       "  ['AE',\n",
       "   '# ECOTT 28 / 8 / 15 AE 46 / VD 26 / S / PP 10 / 10 VE 81 / 66 FE 37 % .'],\n",
       "  ['VD',\n",
       "   '# ECOTT 28 / 8 / 15 AE 46 / VD 26 / S / PP 10 / 10 VE 81 / 66 FE 37 % .'],\n",
       "  ['PP',\n",
       "   '# ECOTT 28 / 8 / 15 AE 46 / VD 26 / S / PP 10 / 10 VE 81 / 66 FE 37 % .'],\n",
       "  ['VE',\n",
       "   '# ECOTT 28 / 8 / 15 AE 46 / VD 26 / S / PP 10 / 10 VE 81 / 66 FE 37 % .']],\n",
       " [['VE DILATADO',\n",
       "   'VE DILATADO COM HIPOCONTRATIBILIDADE DIFUSA MODERADA / I AO LEVE / IMI LEVE AMODERADA / PSAP 39 MMHG .']],\n",
       " [['DOR NA FO SOMENTE AOS MOVIMENTOS E AO TOSSIR',\n",
       "   'S # SENTE BEM , DOR NA FO SOMENTE AOS MOVIMENTOS E AO TOSSIR .'],\n",
       "  ['FO SOMENTE AOS MOVIMENTOS',\n",
       "   'S # SENTE BEM , DOR NA FO SOMENTE AOS MOVIMENTOS E AO TOSSIR .'],\n",
       "  ['DOR NA FO SOMENTE AOS MOVIMENTOS',\n",
       "   'S # SENTE BEM , DOR NA FO SOMENTE AOS MOVIMENTOS E AO TOSSIR .'],\n",
       "  ['FO SOMENTE AOS MOVIMENTOS E AO TOSSIR',\n",
       "   'S # SENTE BEM , DOR NA FO SOMENTE AOS MOVIMENTOS E AO TOSSIR .'],\n",
       "  ['DOR NA FO SOMENTE AOS MOVIMENTOS E AO',\n",
       "   'S # SENTE BEM , DOR NA FO SOMENTE AOS MOVIMENTOS E AO TOSSIR .'],\n",
       "  ['NA FO SOMENTE AOS MOVIMENTOS E AO TOSSIR',\n",
       "   'S # SENTE BEM , DOR NA FO SOMENTE AOS MOVIMENTOS E AO TOSSIR .']],\n",
       " [['DISPNÉIA', 'NEGA DISPNÉIA .']],\n",
       " [['SINAIS FLOGÍSTICOS',\n",
       "   'RELATA QUE FO ESTÁ SECA , SEM SINAIS FLOGÍSTICOS .']],\n",
       " [['FEBRE', 'NEGA FEBRE .']],\n",
       " [['HIPOCORADO + / 4 +',\n",
       "   'O # BEG , HIPOCORADO + / 4 + , EUPNEICO , AFEBRIL .'],\n",
       "  ['AFEBRIL', 'O # BEG , HIPOCORADO + / 4 + , EUPNEICO , AFEBRIL .']],\n",
       " [['PA', 'PA : 110X70 / / FC : 80 .'], ['FC', 'PA : 110X70 / / FC : 80 .']],\n",
       " [['SS', 'CV : BRNF SS .']],\n",
       " [['CPP', 'CPP : MV + BILATERAL , SEM RA .'],\n",
       "  ['RA', 'CPP : MV + BILATERAL , SEM RA .']],\n",
       " [['SECREÇÃO', 'FO LIMPA E SECA , SEM PRESENÇA DE SECREÇÃO .']],\n",
       " [['ABD', 'ABD : RHA + , INDOLOR .']],\n",
       " [['MMII', 'MMII : SEM EDEMA OU EMPASTAMENTO .'],\n",
       "  ['EDEMA', 'MMII : SEM EDEMA OU EMPASTAMENTO .'],\n",
       "  ['EMPASTAMENTO', 'MMII : SEM EDEMA OU EMPASTAMENTO .']],\n",
       " [['TX CARDIACO', 'A # PO DE TX CARDIACO ( 23 / 10 / 15 ) .'],\n",
       "  ['CARDIACO', 'A # PO DE TX CARDIACO ( 23 / 10 / 15 ) .']],\n",
       " [['TX CARDIACO', 'POS TX CARDIACO HA 3 ANOS e 7 MESES .'],\n",
       "  ['CARDIACO', 'POS TX CARDIACO HA 3 ANOS e 7 MESES .']],\n",
       " [['BIOPSIA', 'ULTIMA BIOPSIA .']],\n",
       " [['CICLOSPORINA 100',\n",
       "   'EM USO DE CICLOSPORINA 100 / 100 , MYFORTIC 360 / 360 ( REDUZIU PARA ESSA DOSE POR ENGANO ) , E PREDNISONA 5 MG / DIA .']],\n",
       " [['AAS 100', 'USO DE AAS 100 / DIA .']],\n",
       " [['QUEIXAS', 'S # SEM QUEIXAS .']],\n",
       " [['BIOPSIA', 'AGURADA BIOPSIA .']],\n",
       " [['PA', 'O # PA 120 / 80 , FC 70 .'], ['FC', 'O # PA 120 / 80 , FC 70 .']],\n",
       " [['CPP', 'CPP LIVRE .']],\n",
       " [['MMII', 'MMII SEM EDEMA .'], ['EDEMA', 'MMII SEM EDEMA .']],\n",
       " [['TX CARDIACO', 'A # POS TX CARDIACO , COM BOA EVOLUÇÃO .'],\n",
       "  ['CARDIACO', 'A # POS TX CARDIACO , COM BOA EVOLUÇÃO .']],\n",
       " [['LAB', 'P # SOLICITO LAB E ECOCC .'],\n",
       "  ['ECOCC', 'P # SOLICITO LAB E ECOCC .']],\n",
       " [['has', 'has / 10 anos / maço .']],\n",
       " [['aas 100',\n",
       "   'aas 100 / carvedilol 25 1x / d / sinva 40 mg 1 x / d / enalapril 1 cp 12 / 12 hs / furo 40 mg 1 x / d .'],\n",
       "  ['sinva 40 mg',\n",
       "   'aas 100 / carvedilol 25 1x / d / sinva 40 mg 1 x / d / enalapril 1 cp 12 / 12 hs / furo 40 mg 1 x / d .'],\n",
       "  ['enalapril',\n",
       "   'aas 100 / carvedilol 25 1x / d / sinva 40 mg 1 x / d / enalapril 1 cp 12 / 12 hs / furo 40 mg 1 x / d .'],\n",
       "  ['furo 40 mg',\n",
       "   'aas 100 / carvedilol 25 1x / d / sinva 40 mg 1 x / d / enalapril 1 cp 12 / 12 hs / furo 40 mg 1 x / d .']],\n",
       " [['cat', 'fez cat + angioplastia 2013 .'],\n",
       "  ['angioplastia', 'fez cat + angioplastia 2013 .']],\n",
       " [['ECOCARDIO',\n",
       "   'ECOCARDIO 25 / 11 / 13 - VE HIPERTROFIADO COM DIMENSÃO INTERNA AUMENTADA E FUNÇÃO GLOBAL MODERADAMENTE DIMINUIDA POR ACINESIA MEDIO APICAL PAREDE ANTERO SEPTAL .'],\n",
       "  ['VE HIPERTROFIADO COM DIMENSÃO INTERNA AUMENTADA',\n",
       "   'ECOCARDIO 25 / 11 / 13 - VE HIPERTROFIADO COM DIMENSÃO INTERNA AUMENTADA E FUNÇÃO GLOBAL MODERADAMENTE DIMINUIDA POR ACINESIA MEDIO APICAL PAREDE ANTERO SEPTAL .'],\n",
       "  ['VE',\n",
       "   'ECOCARDIO 25 / 11 / 13 - VE HIPERTROFIADO COM DIMENSÃO INTERNA AUMENTADA E FUNÇÃO GLOBAL MODERADAMENTE DIMINUIDA POR ACINESIA MEDIO APICAL PAREDE ANTERO SEPTAL .'],\n",
       "  ['FUNÇÃO GLOBAL MODERADAMENTE DIMINUIDA',\n",
       "   'ECOCARDIO 25 / 11 / 13 - VE HIPERTROFIADO COM DIMENSÃO INTERNA AUMENTADA E FUNÇÃO GLOBAL MODERADAMENTE DIMINUIDA POR ACINESIA MEDIO APICAL PAREDE ANTERO SEPTAL .'],\n",
       "  ['ACINESIA MEDIO APICAL PAREDE ANTERO SEPTAL',\n",
       "   'ECOCARDIO 25 / 11 / 13 - VE HIPERTROFIADO COM DIMENSÃO INTERNA AUMENTADA E FUNÇÃO GLOBAL MODERADAMENTE DIMINUIDA POR ACINESIA MEDIO APICAL PAREDE ANTERO SEPTAL .'],\n",
       "  ['MEDIO APICAL PAREDE ANTERO SEPTAL',\n",
       "   'ECOCARDIO 25 / 11 / 13 - VE HIPERTROFIADO COM DIMENSÃO INTERNA AUMENTADA E FUNÇÃO GLOBAL MODERADAMENTE DIMINUIDA POR ACINESIA MEDIO APICAL PAREDE ANTERO SEPTAL .']],\n",
       " [['AUMENTO DE AE', 'AUMENTO DE AE .']],\n",
       " [['REFLUXO MITRAL DISCRETO', 'REFLUXO MITRAL DISCRETO .'],\n",
       "  ['MITRAL DISCRETO', 'REFLUXO MITRAL DISCRETO .']],\n",
       " [['ECTASIA DA RAIZ AÓRTICA', 'ECTASIA DA RAIZ AÓRTICA .']],\n",
       " [['REFLUXO AÓRTICO DISCRETO', 'REFLUXO AÓRTICO DISCRETO .']],\n",
       " [['ECODOPPLER ARTERIAR MMII ESQ',\n",
       "   '01 / 03 / 11 : ECODOPPLER ARTERIAR MMII ESQ : ESTENOSE APROX DE 75 % DA BIFURCAÇÃO DOS VASOS FEMORAIS .'],\n",
       "  ['ECODOPPLER ARTERIAR',\n",
       "   '01 / 03 / 11 : ECODOPPLER ARTERIAR MMII ESQ : ESTENOSE APROX DE 75 % DA BIFURCAÇÃO DOS VASOS FEMORAIS .'],\n",
       "  ['ARTERIAR MMII',\n",
       "   '01 / 03 / 11 : ECODOPPLER ARTERIAR MMII ESQ : ESTENOSE APROX DE 75 % DA BIFURCAÇÃO DOS VASOS FEMORAIS .'],\n",
       "  ['MMII ESQ',\n",
       "   '01 / 03 / 11 : ECODOPPLER ARTERIAR MMII ESQ : ESTENOSE APROX DE 75 % DA BIFURCAÇÃO DOS VASOS FEMORAIS .'],\n",
       "  ['ECODOPPLER ARTERIAR MMII',\n",
       "   '01 / 03 / 11 : ECODOPPLER ARTERIAR MMII ESQ : ESTENOSE APROX DE 75 % DA BIFURCAÇÃO DOS VASOS FEMORAIS .'],\n",
       "  ['ARTERIAR MMII ESQ',\n",
       "   '01 / 03 / 11 : ECODOPPLER ARTERIAR MMII ESQ : ESTENOSE APROX DE 75 % DA BIFURCAÇÃO DOS VASOS FEMORAIS .'],\n",
       "  ['ESTENOSE APROX DE 75 % DA BIFURCAÇÃO DOS VASOS FEMORAIS',\n",
       "   '01 / 03 / 11 : ECODOPPLER ARTERIAR MMII ESQ : ESTENOSE APROX DE 75 % DA BIFURCAÇÃO DOS VASOS FEMORAIS .'],\n",
       "  ['BIFURCAÇÃO DOS VASOS FEMORAIS',\n",
       "   '01 / 03 / 11 : ECODOPPLER ARTERIAR MMII ESQ : ESTENOSE APROX DE 75 % DA BIFURCAÇÃO DOS VASOS FEMORAIS .'],\n",
       "  ['DA BIFURCAÇÃO DOS VASOS FEMORAIS',\n",
       "   '01 / 03 / 11 : ECODOPPLER ARTERIAR MMII ESQ : ESTENOSE APROX DE 75 % DA BIFURCAÇÃO DOS VASOS FEMORAIS .']],\n",
       " [['LESOES SUBSEGMENTARES DAS ART , TIBIAL ANTERIOR E FIBULAR',\n",
       "   'LESOES SUBSEGMENTARES DAS ART , TIBIAL ANTERIOR E FIBULAR .']],\n",
       " [['OCLUSÃO DA ARTERIA POPLITEA MEDIO DISTAL',\n",
       "   'OCLUSÃO DA ARTERIA POPLITEA MEDIO DISTAL .'],\n",
       "  ['DA ARTERIA POPLITEA MEDIO DISTAL',\n",
       "   'OCLUSÃO DA ARTERIA POPLITEA MEDIO DISTAL .']],\n",
       " [['ESTENOSE', 'ESTENOSE > A OCLUSAO DA ARTERIA TIBIAL POSTERIOR .'],\n",
       "  ['OCLUSAO DA ARTERIA TIBIAL POSTERIOR',\n",
       "   'ESTENOSE > A OCLUSAO DA ARTERIA TIBIAL POSTERIOR .'],\n",
       "  ['ARTERIA TIBIAL POSTERIOR',\n",
       "   'ESTENOSE > A OCLUSAO DA ARTERIA TIBIAL POSTERIOR .'],\n",
       "  ['OCLUSAO DA ARTERIA TIBIAL',\n",
       "   'ESTENOSE > A OCLUSAO DA ARTERIA TIBIAL POSTERIOR .'],\n",
       "  ['DA ARTERIA TIBIAL POSTERIOR',\n",
       "   'ESTENOSE > A OCLUSAO DA ARTERIA TIBIAL POSTERIOR .']],\n",
       " [['disfunção sistólica',\n",
       "   'quadro de disfunção sistólica após iam , perdeu seguimento .'],\n",
       "  ['iam', 'quadro de disfunção sistólica após iam , perdeu seguimento .']],\n",
       " [['Diclin', 'Em uso de : Diclin ( ACO ) .'],\n",
       "  ['ACO', 'Em uso de : Diclin ( ACO ) .']],\n",
       " [['síncope inicio',\n",
       "   'HMA : Pcte relata síncope inicio em janeiro mais com o calor .']],\n",
       " [['tontura', 'pródromos : tontura e sudorese e escurecimento visual .'],\n",
       "  ['sudorese', 'pródromos : tontura e sudorese e escurecimento visual .'],\n",
       "  ['escurecimento visual',\n",
       "   'pródromos : tontura e sudorese e escurecimento visual .']],\n",
       " [['nervosismo', 'Refere exacerbação dos sintomas com nervosismo .']],\n",
       " [['confusão mental', 'Nega confusão mental ou salivação após .'],\n",
       "  ['salivação', 'Nega confusão mental ou salivação após .']],\n",
       " [['medicação', 'Nega uso de medicação .']],\n",
       " [['outros sintomas', 'Nega outros sintomas .']],\n",
       " [['sintomas',\n",
       "   'Refere que continua apresentando sintomas , com ultimo ha 1 semana , durante atividades domesticas .']],\n",
       " [['Ecocardio',\n",
       "   'Ecocardio 18 / 02 / 15 : RA 20 , AE 26 , VD 17 , Septo 08 , PP 08 , VE 39 , FE 63 % .'],\n",
       "  ['RA',\n",
       "   'Ecocardio 18 / 02 / 15 : RA 20 , AE 26 , VD 17 , Septo 08 , PP 08 , VE 39 , FE 63 % .'],\n",
       "  ['AE',\n",
       "   'Ecocardio 18 / 02 / 15 : RA 20 , AE 26 , VD 17 , Septo 08 , PP 08 , VE 39 , FE 63 % .'],\n",
       "  ['VD',\n",
       "   'Ecocardio 18 / 02 / 15 : RA 20 , AE 26 , VD 17 , Septo 08 , PP 08 , VE 39 , FE 63 % .'],\n",
       "  ['Septo',\n",
       "   'Ecocardio 18 / 02 / 15 : RA 20 , AE 26 , VD 17 , Septo 08 , PP 08 , VE 39 , FE 63 % .'],\n",
       "  ['PP',\n",
       "   'Ecocardio 18 / 02 / 15 : RA 20 , AE 26 , VD 17 , Septo 08 , PP 08 , VE 39 , FE 63 % .'],\n",
       "  ['VE',\n",
       "   'Ecocardio 18 / 02 / 15 : RA 20 , AE 26 , VD 17 , Septo 08 , PP 08 , VE 39 , FE 63 % .']],\n",
       " [['Exame', 'Exame dentro da normalidade .']],\n",
       " [['Teste ergometrico',\n",
       "   'Teste ergometrico : Resposta cardiovascular normal ao esforço fisico , atingiu 11 METS .']],\n",
       " [['ECG', 'ECG : DCRD .'], ['DCRD', 'ECG : DCRD .']],\n",
       " [['FC', 'FC 80 , FR 18 , PA : 120 / 70 , SAT 98 % AA .'],\n",
       "  ['FR', 'FC 80 , FR 18 , PA : 120 / 70 , SAT 98 % AA .'],\n",
       "  ['PA', 'FC 80 , FR 18 , PA : 120 / 70 , SAT 98 % AA .'],\n",
       "  ['SAT', 'FC 80 , FR 18 , PA : 120 / 70 , SAT 98 % AA .']],\n",
       " [['ss', 'AC bnf em 2t e ss , .']],\n",
       " [['ra', 'AP mv + simetrico s ra , .']],\n",
       " [['Abd', 'Abd sp .']],\n",
       " [['mmii', 'mmii s edema , .'], ['edema', 'mmii s edema , .']],\n",
       " [['Vaso vagal', 'Vaso vagal ? .']],\n",
       " [['holter', 'A : Aguarda holter .']],\n",
       " [['exames', 'Retorno com exames .']],\n",
       " [['IAM',\n",
       "   'Paciente em acompanhamento com a cardiologia devido a 2 IAM previos ( em 2004 e 2012 ) .']],\n",
       " [['carvediol 6 , 25 mg',\n",
       "   'Em uso de : carvediol 6 , 25 mg , AAS 100 mg , furosemida 40 mg , losartana 100 mg , atorvstatina 20 mg , omeprazol 20 mg .'],\n",
       "  ['AAS 100 mg',\n",
       "   'Em uso de : carvediol 6 , 25 mg , AAS 100 mg , furosemida 40 mg , losartana 100 mg , atorvstatina 20 mg , omeprazol 20 mg .'],\n",
       "  ['furosemida 40 mg',\n",
       "   'Em uso de : carvediol 6 , 25 mg , AAS 100 mg , furosemida 40 mg , losartana 100 mg , atorvstatina 20 mg , omeprazol 20 mg .'],\n",
       "  ['losartana 100 mg',\n",
       "   'Em uso de : carvediol 6 , 25 mg , AAS 100 mg , furosemida 40 mg , losartana 100 mg , atorvstatina 20 mg , omeprazol 20 mg .'],\n",
       "  ['atorvstatina 20 mg',\n",
       "   'Em uso de : carvediol 6 , 25 mg , AAS 100 mg , furosemida 40 mg , losartana 100 mg , atorvstatina 20 mg , omeprazol 20 mg .'],\n",
       "  ['omeprazol 20 mg',\n",
       "   'Em uso de : carvediol 6 , 25 mg , AAS 100 mg , furosemida 40 mg , losartana 100 mg , atorvstatina 20 mg , omeprazol 20 mg .']],\n",
       " [['dispnéia', 'Paciente relata dispnéia e cansaço aos minimos esforços .'],\n",
       "  ['cansaço aos minimos esforços',\n",
       "   'Paciente relata dispnéia e cansaço aos minimos esforços .']],\n",
       " [['parestesias em pé direito',\n",
       "   'Paciente relata parestesias em pé direito , dores musculares na panturrilha .'],\n",
       "  ['dores musculares na panturrilha',\n",
       "   'Paciente relata parestesias em pé direito , dores musculares na panturrilha .'],\n",
       "  ['musculares na panturrilha',\n",
       "   'Paciente relata parestesias em pé direito , dores musculares na panturrilha .']],\n",
       " [['Comorbidades', 'Comorbidades : HAS , ICC , dislipidemia .'],\n",
       "  ['HAS', 'Comorbidades : HAS , ICC , dislipidemia .'],\n",
       "  ['ICC', 'Comorbidades : HAS , ICC , dislipidemia .'],\n",
       "  ['dislipidemia', 'Comorbidades : HAS , ICC , dislipidemia .']],\n",
       " [['2 CATs', 'Eventos : 2 CATs e 3 angioplastias .']],\n",
       " [['sinvastatina',\n",
       "   'Na ultima consulta foi trocada sinvastatina por atorvastatina mas o paciente continua em uso de sinvastatina .'],\n",
       "  ['atorvastatina',\n",
       "   'Na ultima consulta foi trocada sinvastatina por atorvastatina mas o paciente continua em uso de sinvastatina .'],\n",
       "  ['sinvastatina',\n",
       "   'Na ultima consulta foi trocada sinvastatina por atorvastatina mas o paciente continua em uso de sinvastatina .']],\n",
       " [['exames', 'Paciente nao traz exames .']],\n",
       " [['EF', 'EF : .']],\n",
       " [['PA', 'PA : 120 / 80 mmhg .']],\n",
       " [['Pulso MMII pedioso poplíteo e femoral',\n",
       "   'Pulso MMII pedioso poplíteo e femoral presentes .'],\n",
       "  ['Pulso MMII pedioso', 'Pulso MMII pedioso poplíteo e femoral presentes .'],\n",
       "  ['MMII pedioso poplíteo',\n",
       "   'Pulso MMII pedioso poplíteo e femoral presentes .'],\n",
       "  ['Pulso MMII pedioso poplíteo',\n",
       "   'Pulso MMII pedioso poplíteo e femoral presentes .'],\n",
       "  ['MMII pedioso poplíteo e',\n",
       "   'Pulso MMII pedioso poplíteo e femoral presentes .'],\n",
       "  ['Pulso MMII pedioso poplíteo e',\n",
       "   'Pulso MMII pedioso poplíteo e femoral presentes .'],\n",
       "  ['MMII pedioso poplíteo e femoral',\n",
       "   'Pulso MMII pedioso poplíteo e femoral presentes .']],\n",
       " [['sinvastatina',\n",
       "   'Conduta : troco sinvastatina por atorvastatina e solicito exames de sangue ( CT , LDL , HDL , TG ) ; mantenho as demais medicações .'],\n",
       "  ['atorvastatina',\n",
       "   'Conduta : troco sinvastatina por atorvastatina e solicito exames de sangue ( CT , LDL , HDL , TG ) ; mantenho as demais medicações .'],\n",
       "  ['exames de sangue',\n",
       "   'Conduta : troco sinvastatina por atorvastatina e solicito exames de sangue ( CT , LDL , HDL , TG ) ; mantenho as demais medicações .'],\n",
       "  ['CT',\n",
       "   'Conduta : troco sinvastatina por atorvastatina e solicito exames de sangue ( CT , LDL , HDL , TG ) ; mantenho as demais medicações .'],\n",
       "  ['LDL',\n",
       "   'Conduta : troco sinvastatina por atorvastatina e solicito exames de sangue ( CT , LDL , HDL , TG ) ; mantenho as demais medicações .'],\n",
       "  ['HDL',\n",
       "   'Conduta : troco sinvastatina por atorvastatina e solicito exames de sangue ( CT , LDL , HDL , TG ) ; mantenho as demais medicações .'],\n",
       "  ['TG',\n",
       "   'Conduta : troco sinvastatina por atorvastatina e solicito exames de sangue ( CT , LDL , HDL , TG ) ; mantenho as demais medicações .'],\n",
       "  ['demais medicações',\n",
       "   'Conduta : troco sinvastatina por atorvastatina e solicito exames de sangue ( CT , LDL , HDL , TG ) ; mantenho as demais medicações .'],\n",
       "  ['medicações',\n",
       "   'Conduta : troco sinvastatina por atorvastatina e solicito exames de sangue ( CT , LDL , HDL , TG ) ; mantenho as demais medicações .']],\n",
       " [['HAS', '# HAS .']],\n",
       " [['IC', '# IC .']],\n",
       " [['HIPOTIREOIDISMO', '# HIPOTIREOIDISMO .']],\n",
       " [['MIOCARDIOPATIA DILATADA', '# MIOCARDIOPATIA DILATADA .']],\n",
       " [['RESSINCRONIZADOR',\n",
       "   '# IMPLANTE DE RESSINCRONIZADOR / DESFIBRILADOR EM MAIO / 2012 .'],\n",
       "  ['DESFIBRILADOR',\n",
       "   '# IMPLANTE DE RESSINCRONIZADOR / DESFIBRILADOR EM MAIO / 2012 .']],\n",
       " [['DEPRESSÃO', '# DEPRESSÃO .']],\n",
       " [['CARVEDILOL 50 MG',\n",
       "   'EM USO : CARVEDILOL 50 MG 2X / D + MONONITRATO DE ISOSSORBITA 20 MG 2X / D + ANCORON ( AMIODARONA ) 200 MG 2X / D + ESPIRONOLACTONA 25 MG / D + FUROSEMIDA 40 MG 2X / D + LOSARTAN 50 MG 2X / D + DIGOXINA 0 , 25 MG / D + SINVASTATINA 40 MG / D + LEVOTIROXINA 50 MCG / D + RIVOTRIL 2 MG / D + CITALOPRAM 20MG 3X / DIA .'],\n",
       "  ['ANCORON ( AMIODARONA ) 200 MG',\n",
       "   'EM USO : CARVEDILOL 50 MG 2X / D + MONONITRATO DE ISOSSORBITA 20 MG 2X / D + ANCORON ( AMIODARONA ) 200 MG 2X / D + ESPIRONOLACTONA 25 MG / D + FUROSEMIDA 40 MG 2X / D + LOSARTAN 50 MG 2X / D + DIGOXINA 0 , 25 MG / D + SINVASTATINA 40 MG / D + LEVOTIROXINA 50 MCG / D + RIVOTRIL 2 MG / D + CITALOPRAM 20MG 3X / DIA .'],\n",
       "  ['ANCORON',\n",
       "   'EM USO : CARVEDILOL 50 MG 2X / D + MONONITRATO DE ISOSSORBITA 20 MG 2X / D + ANCORON ( AMIODARONA ) 200 MG 2X / D + ESPIRONOLACTONA 25 MG / D + FUROSEMIDA 40 MG 2X / D + LOSARTAN 50 MG 2X / D + DIGOXINA 0 , 25 MG / D + SINVASTATINA 40 MG / D + LEVOTIROXINA 50 MCG / D + RIVOTRIL 2 MG / D + CITALOPRAM 20MG 3X / DIA .'],\n",
       "  ['ANCORON ( AMIODARONA',\n",
       "   'EM USO : CARVEDILOL 50 MG 2X / D + MONONITRATO DE ISOSSORBITA 20 MG 2X / D + ANCORON ( AMIODARONA ) 200 MG 2X / D + ESPIRONOLACTONA 25 MG / D + FUROSEMIDA 40 MG 2X / D + LOSARTAN 50 MG 2X / D + DIGOXINA 0 , 25 MG / D + SINVASTATINA 40 MG / D + LEVOTIROXINA 50 MCG / D + RIVOTRIL 2 MG / D + CITALOPRAM 20MG 3X / DIA .'],\n",
       "  ['ESPIRONOLACTONA 25 MG',\n",
       "   'EM USO : CARVEDILOL 50 MG 2X / D + MONONITRATO DE ISOSSORBITA 20 MG 2X / D + ANCORON ( AMIODARONA ) 200 MG 2X / D + ESPIRONOLACTONA 25 MG / D + FUROSEMIDA 40 MG 2X / D + LOSARTAN 50 MG 2X / D + DIGOXINA 0 , 25 MG / D + SINVASTATINA 40 MG / D + LEVOTIROXINA 50 MCG / D + RIVOTRIL 2 MG / D + CITALOPRAM 20MG 3X / DIA .'],\n",
       "  ['FUROSEMIDA 40 MG',\n",
       "   'EM USO : CARVEDILOL 50 MG 2X / D + MONONITRATO DE ISOSSORBITA 20 MG 2X / D + ANCORON ( AMIODARONA ) 200 MG 2X / D + ESPIRONOLACTONA 25 MG / D + FUROSEMIDA 40 MG 2X / D + LOSARTAN 50 MG 2X / D + DIGOXINA 0 , 25 MG / D + SINVASTATINA 40 MG / D + LEVOTIROXINA 50 MCG / D + RIVOTRIL 2 MG / D + CITALOPRAM 20MG 3X / DIA .'],\n",
       "  ['LOSARTAN 50 MG',\n",
       "   'EM USO : CARVEDILOL 50 MG 2X / D + MONONITRATO DE ISOSSORBITA 20 MG 2X / D + ANCORON ( AMIODARONA ) 200 MG 2X / D + ESPIRONOLACTONA 25 MG / D + FUROSEMIDA 40 MG 2X / D + LOSARTAN 50 MG 2X / D + DIGOXINA 0 , 25 MG / D + SINVASTATINA 40 MG / D + LEVOTIROXINA 50 MCG / D + RIVOTRIL 2 MG / D + CITALOPRAM 20MG 3X / DIA .'],\n",
       "  ['SINVASTATINA 40 MG',\n",
       "   'EM USO : CARVEDILOL 50 MG 2X / D + MONONITRATO DE ISOSSORBITA 20 MG 2X / D + ANCORON ( AMIODARONA ) 200 MG 2X / D + ESPIRONOLACTONA 25 MG / D + FUROSEMIDA 40 MG 2X / D + LOSARTAN 50 MG 2X / D + DIGOXINA 0 , 25 MG / D + SINVASTATINA 40 MG / D + LEVOTIROXINA 50 MCG / D + RIVOTRIL 2 MG / D + CITALOPRAM 20MG 3X / DIA .'],\n",
       "  ['LEVOTIROXINA 50 MCG',\n",
       "   'EM USO : CARVEDILOL 50 MG 2X / D + MONONITRATO DE ISOSSORBITA 20 MG 2X / D + ANCORON ( AMIODARONA ) 200 MG 2X / D + ESPIRONOLACTONA 25 MG / D + FUROSEMIDA 40 MG 2X / D + LOSARTAN 50 MG 2X / D + DIGOXINA 0 , 25 MG / D + SINVASTATINA 40 MG / D + LEVOTIROXINA 50 MCG / D + RIVOTRIL 2 MG / D + CITALOPRAM 20MG 3X / DIA .']],\n",
       " [['DOR PRECORDIAL LEVE A MODERADA DO TIPO QUEIMAÇÃO',\n",
       "   'REFERE DOR PRECORDIAL LEVE A MODERADA DO TIPO QUEIMAÇÃO , SEM IRRADIAÇÃO , SEM PIORA AOS ESFORÇOS .'],\n",
       "  ['PIORA AOS ESFORÇOS',\n",
       "   'REFERE DOR PRECORDIAL LEVE A MODERADA DO TIPO QUEIMAÇÃO , SEM IRRADIAÇÃO , SEM PIORA AOS ESFORÇOS .']],\n",
       " [['DISPNEIA',\n",
       "   'DISPNEIA , MAL ESTAR E FADIGA AO SUBIR ESCADAS , ANDAR RÁPIDO .'],\n",
       "  ['FADIGA AO SUBIR ESCADAS',\n",
       "   'DISPNEIA , MAL ESTAR E FADIGA AO SUBIR ESCADAS , ANDAR RÁPIDO .']],\n",
       " [['ORTOPNEIA', 'NEGA ORTOPNEIA E DPN .'], ['DPN', 'NEGA ORTOPNEIA E DPN .']],\n",
       " [['TOSSE', 'NEGA TOSSE E EDEMA .'], ['EDEMA', 'NEGA TOSSE E EDEMA .']],\n",
       " [['MP', 'HÁ 2 ANOS NÃO FAZ REVISÃO DO MP .']],\n",
       " [['CESAREA', '1 CESAREA PRÉVIA , LIPOASPIRAÇÃO .'],\n",
       "  ['LIPOASPIRAÇÃO', '1 CESAREA PRÉVIA , LIPOASPIRAÇÃO .']],\n",
       " [['ALERGIAS', 'NEGA ALERGIAS .']],\n",
       " [['CATETERISMOS',\n",
       "   'JÁ REALIZOU 3 CATETERISMOS , CINTILOGRAFIA E EXAMES PARA DOENÇA DE CHAGAS .'],\n",
       "  ['CINTILOGRAFIA',\n",
       "   'JÁ REALIZOU 3 CATETERISMOS , CINTILOGRAFIA E EXAMES PARA DOENÇA DE CHAGAS .'],\n",
       "  ['CHAGAS',\n",
       "   'JÁ REALIZOU 3 CATETERISMOS , CINTILOGRAFIA E EXAMES PARA DOENÇA DE CHAGAS .']],\n",
       " [['CHDV', '# CHDV .']],\n",
       " [['TABAGISMO', 'NEGA TABAGISMO , NEGA ETILISMO , NEGA EXERCÍCIO FÍSICO .'],\n",
       "  ['ETILISMO', 'NEGA TABAGISMO , NEGA ETILISMO , NEGA EXERCÍCIO FÍSICO .'],\n",
       "  ['EXERCÍCIO FÍSICO',\n",
       "   'NEGA TABAGISMO , NEGA ETILISMO , NEGA EXERCÍCIO FÍSICO .']],\n",
       " [['EXAMES', 'EXAMES : .']],\n",
       " [['HB', 'HB 14 , 7 .']],\n",
       " [['HT', 'HT 43 , 9 % .']],\n",
       " [['CREATININA', 'CREATININA 0 , 8 .']],\n",
       " [['GLICOSE', 'GLICOSE 87 .']],\n",
       " [['UREIA', 'UREIA 48 48 .']],\n",
       " [['HDL', 'HDL 28 .']],\n",
       " [['SODIO', 'SODIO 139 .']],\n",
       " [['POTASSIO', 'POTASSIO 4 , 8 .']],\n",
       " [['COLESTEROL TOTAL', 'COLESTEROL TOTAL 268 .']],\n",
       " [['TSH', 'TSH 5 , 87 .']],\n",
       " [['T4 LIVRE', 'T4 LIVRE 0 , 86 .']],\n",
       " [['TRIGLICERIDEOS', 'TRIGLICERIDEOS 626 .']],\n",
       " [['STRESS',\n",
       "   'STRESS FARMACOLOGICO COM DIPIRIDAMOL : ECOCARDIOGRAMA DE STRESS FARMACOLOGICO SEM EVIDENCIA DE ISQUEMIA MIOCÁRDICA .'],\n",
       "  ['DIPIRIDAMOL',\n",
       "   'STRESS FARMACOLOGICO COM DIPIRIDAMOL : ECOCARDIOGRAMA DE STRESS FARMACOLOGICO SEM EVIDENCIA DE ISQUEMIA MIOCÁRDICA .'],\n",
       "  ['ISQUEMIA MIOCÁRDICA',\n",
       "   'STRESS FARMACOLOGICO COM DIPIRIDAMOL : ECOCARDIOGRAMA DE STRESS FARMACOLOGICO SEM EVIDENCIA DE ISQUEMIA MIOCÁRDICA .'],\n",
       "  ['MIOCÁRDICA',\n",
       "   'STRESS FARMACOLOGICO COM DIPIRIDAMOL : ECOCARDIOGRAMA DE STRESS FARMACOLOGICO SEM EVIDENCIA DE ISQUEMIA MIOCÁRDICA .']],\n",
       " [['LEVOTIROXINA PARA 100 MCG',\n",
       "   'CONDUTA : AUMENTO DA DOSE DE LEVOTIROXINA PARA 100 MCG , CIPROFIBRATO 100MG 1X / DIA , FUROSEMIDA SE FALTA DE AR , SINVASTATINA PARA 40MG , HIDRALAZINA 25MG DE 8 / 8H .'],\n",
       "  ['100 MCG',\n",
       "   'CONDUTA : AUMENTO DA DOSE DE LEVOTIROXINA PARA 100 MCG , CIPROFIBRATO 100MG 1X / DIA , FUROSEMIDA SE FALTA DE AR , SINVASTATINA PARA 40MG , HIDRALAZINA 25MG DE 8 / 8H .'],\n",
       "  ['LEVOTIROXINA PARA 100',\n",
       "   'CONDUTA : AUMENTO DA DOSE DE LEVOTIROXINA PARA 100 MCG , CIPROFIBRATO 100MG 1X / DIA , FUROSEMIDA SE FALTA DE AR , SINVASTATINA PARA 40MG , HIDRALAZINA 25MG DE 8 / 8H .'],\n",
       "  ['PARA 100 MCG',\n",
       "   'CONDUTA : AUMENTO DA DOSE DE LEVOTIROXINA PARA 100 MCG , CIPROFIBRATO 100MG 1X / DIA , FUROSEMIDA SE FALTA DE AR , SINVASTATINA PARA 40MG , HIDRALAZINA 25MG DE 8 / 8H .'],\n",
       "  ['CIPROFIBRATO 100MG',\n",
       "   'CONDUTA : AUMENTO DA DOSE DE LEVOTIROXINA PARA 100 MCG , CIPROFIBRATO 100MG 1X / DIA , FUROSEMIDA SE FALTA DE AR , SINVASTATINA PARA 40MG , HIDRALAZINA 25MG DE 8 / 8H .'],\n",
       "  ['FUROSEMIDA',\n",
       "   'CONDUTA : AUMENTO DA DOSE DE LEVOTIROXINA PARA 100 MCG , CIPROFIBRATO 100MG 1X / DIA , FUROSEMIDA SE FALTA DE AR , SINVASTATINA PARA 40MG , HIDRALAZINA 25MG DE 8 / 8H .'],\n",
       "  ['SINVASTATINA PARA 40MG',\n",
       "   'CONDUTA : AUMENTO DA DOSE DE LEVOTIROXINA PARA 100 MCG , CIPROFIBRATO 100MG 1X / DIA , FUROSEMIDA SE FALTA DE AR , SINVASTATINA PARA 40MG , HIDRALAZINA 25MG DE 8 / 8H .'],\n",
       "  ['SINVASTATINA',\n",
       "   'CONDUTA : AUMENTO DA DOSE DE LEVOTIROXINA PARA 100 MCG , CIPROFIBRATO 100MG 1X / DIA , FUROSEMIDA SE FALTA DE AR , SINVASTATINA PARA 40MG , HIDRALAZINA 25MG DE 8 / 8H .'],\n",
       "  ['HIDRALAZINA 25MG',\n",
       "   'CONDUTA : AUMENTO DA DOSE DE LEVOTIROXINA PARA 100 MCG , CIPROFIBRATO 100MG 1X / DIA , FUROSEMIDA SE FALTA DE AR , SINVASTATINA PARA 40MG , HIDRALAZINA 25MG DE 8 / 8H .']],\n",
       " [['EXAMES', 'EXAMES DE TSH , T4 LIVRE , CK , TGO E TGP E PERFIL LIPIDICO .'],\n",
       "  ['TSH', 'EXAMES DE TSH , T4 LIVRE , CK , TGO E TGP E PERFIL LIPIDICO .'],\n",
       "  ['T4', 'EXAMES DE TSH , T4 LIVRE , CK , TGO E TGP E PERFIL LIPIDICO .'],\n",
       "  ['CK', 'EXAMES DE TSH , T4 LIVRE , CK , TGO E TGP E PERFIL LIPIDICO .'],\n",
       "  ['TGO', 'EXAMES DE TSH , T4 LIVRE , CK , TGO E TGP E PERFIL LIPIDICO .'],\n",
       "  ['TGP', 'EXAMES DE TSH , T4 LIVRE , CK , TGO E TGP E PERFIL LIPIDICO .']],\n",
       " [['HAS', '# HAS HÁ 10 ANOS .']],\n",
       " [['DSLP', '# DSLP .']],\n",
       " [['HIPOTIREOIDISMO', '# HIPOTIREOIDISMO .']],\n",
       " [['DEPRESSÃO', '# DEPRESSÃO .']],\n",
       " [['OSTEOARTRITE DE MÃOS', '# OSTEOARTRITE DE MÃOS .']],\n",
       " [['CAT', '# CAT EM JUNHO / 2011 : SEM INDICAÇÃO CIRÚRGICA .']],\n",
       " [['HÉRNIA DE DISCO', '# HÉRNIA DE DISCO HÁ 3 ANOS .']],\n",
       " [['CINTILOGRAFIA MIOCÁRDICA',\n",
       "   '# CINTILOGRAFIA MIOCÁRDICA COM DIPIRIDAMOL EM 2011 : HIPOCAPTAÇÃO APICAL , DO SEGMENTO ANTERIOR ( TRANSITÓRIO ) E BASAL DO SEGMENTO ANTERO - SEPTAL .'],\n",
       "  ['MIOCÁRDICA',\n",
       "   '# CINTILOGRAFIA MIOCÁRDICA COM DIPIRIDAMOL EM 2011 : HIPOCAPTAÇÃO APICAL , DO SEGMENTO ANTERIOR ( TRANSITÓRIO ) E BASAL DO SEGMENTO ANTERO - SEPTAL .'],\n",
       "  ['DIPIRIDAMOL',\n",
       "   '# CINTILOGRAFIA MIOCÁRDICA COM DIPIRIDAMOL EM 2011 : HIPOCAPTAÇÃO APICAL , DO SEGMENTO ANTERIOR ( TRANSITÓRIO ) E BASAL DO SEGMENTO ANTERO - SEPTAL .']],\n",
       " [['FLUOXETINA 20MG',\n",
       "   '# EM USO : FLUOXETINA 20MG / D ; ENALAPRIL 10MG 12 / 12H ; AAS 100MG / D ; CARVEDILOL 12 , 5MG 12 / 12H ; HCTZ 25MG / D ; SUSTRATE 10MG SN ; SINVASTATINA 40MG / D ; LEVOTIROXINA 25UCG / D ; HIDROXICLOROQUINA 400MG / D ; .'],\n",
       "  ['ENALAPRIL 10MG',\n",
       "   '# EM USO : FLUOXETINA 20MG / D ; ENALAPRIL 10MG 12 / 12H ; AAS 100MG / D ; CARVEDILOL 12 , 5MG 12 / 12H ; HCTZ 25MG / D ; SUSTRATE 10MG SN ; SINVASTATINA 40MG / D ; LEVOTIROXINA 25UCG / D ; HIDROXICLOROQUINA 400MG / D ; .'],\n",
       "  ['AAS 100MG',\n",
       "   '# EM USO : FLUOXETINA 20MG / D ; ENALAPRIL 10MG 12 / 12H ; AAS 100MG / D ; CARVEDILOL 12 , 5MG 12 / 12H ; HCTZ 25MG / D ; SUSTRATE 10MG SN ; SINVASTATINA 40MG / D ; LEVOTIROXINA 25UCG / D ; HIDROXICLOROQUINA 400MG / D ; .'],\n",
       "  ['CARVEDILOL 12 , 5MG',\n",
       "   '# EM USO : FLUOXETINA 20MG / D ; ENALAPRIL 10MG 12 / 12H ; AAS 100MG / D ; CARVEDILOL 12 , 5MG 12 / 12H ; HCTZ 25MG / D ; SUSTRATE 10MG SN ; SINVASTATINA 40MG / D ; LEVOTIROXINA 25UCG / D ; HIDROXICLOROQUINA 400MG / D ; .'],\n",
       "  ['HCTZ 25MG',\n",
       "   '# EM USO : FLUOXETINA 20MG / D ; ENALAPRIL 10MG 12 / 12H ; AAS 100MG / D ; CARVEDILOL 12 , 5MG 12 / 12H ; HCTZ 25MG / D ; SUSTRATE 10MG SN ; SINVASTATINA 40MG / D ; LEVOTIROXINA 25UCG / D ; HIDROXICLOROQUINA 400MG / D ; .'],\n",
       "  ['SUSTRATE 10MG',\n",
       "   '# EM USO : FLUOXETINA 20MG / D ; ENALAPRIL 10MG 12 / 12H ; AAS 100MG / D ; CARVEDILOL 12 , 5MG 12 / 12H ; HCTZ 25MG / D ; SUSTRATE 10MG SN ; SINVASTATINA 40MG / D ; LEVOTIROXINA 25UCG / D ; HIDROXICLOROQUINA 400MG / D ; .'],\n",
       "  ['SINVASTATINA 40MG',\n",
       "   '# EM USO : FLUOXETINA 20MG / D ; ENALAPRIL 10MG 12 / 12H ; AAS 100MG / D ; CARVEDILOL 12 , 5MG 12 / 12H ; HCTZ 25MG / D ; SUSTRATE 10MG SN ; SINVASTATINA 40MG / D ; LEVOTIROXINA 25UCG / D ; HIDROXICLOROQUINA 400MG / D ; .'],\n",
       "  ['LEVOTIROXINA 25UCG',\n",
       "   '# EM USO : FLUOXETINA 20MG / D ; ENALAPRIL 10MG 12 / 12H ; AAS 100MG / D ; CARVEDILOL 12 , 5MG 12 / 12H ; HCTZ 25MG / D ; SUSTRATE 10MG SN ; SINVASTATINA 40MG / D ; LEVOTIROXINA 25UCG / D ; HIDROXICLOROQUINA 400MG / D ; .'],\n",
       "  ['HIDROXICLOROQUINA 400MG',\n",
       "   '# EM USO : FLUOXETINA 20MG / D ; ENALAPRIL 10MG 12 / 12H ; AAS 100MG / D ; CARVEDILOL 12 , 5MG 12 / 12H ; HCTZ 25MG / D ; SUSTRATE 10MG SN ; SINVASTATINA 40MG / D ; LEVOTIROXINA 25UCG / D ; HIDROXICLOROQUINA 400MG / D ; .']],\n",
       " [['LAB', 'LAB 08 / 04 / 15 : TG 144 / HDL 50 / CT 178 / LDL 99 / .'],\n",
       "  ['TG', 'LAB 08 / 04 / 15 : TG 144 / HDL 50 / CT 178 / LDL 99 / .'],\n",
       "  ['HDL', 'LAB 08 / 04 / 15 : TG 144 / HDL 50 / CT 178 / LDL 99 / .'],\n",
       "  ['CT', 'LAB 08 / 04 / 15 : TG 144 / HDL 50 / CT 178 / LDL 99 / .'],\n",
       "  ['LDL', 'LAB 08 / 04 / 15 : TG 144 / HDL 50 / CT 178 / LDL 99 / .']],\n",
       " [['DOR TORÁCICA PRECORDIAL TIPO QUEIMAÇÃO',\n",
       "   'S # REFERE DOR TORÁCICA PRECORDIAL TIPO QUEIMAÇÃO , COM MELHORA AO USO DE NITRATO , SEM IRRADIAÇÃO , SEM RELAÇÃO COM O ESFORÇO , 2 EPISÓDIOS AO MÊS .'],\n",
       "  ['DOR TORÁCICA PRECORDIAL TIPO',\n",
       "   'S # REFERE DOR TORÁCICA PRECORDIAL TIPO QUEIMAÇÃO , COM MELHORA AO USO DE NITRATO , SEM IRRADIAÇÃO , SEM RELAÇÃO COM O ESFORÇO , 2 EPISÓDIOS AO MÊS .'],\n",
       "  ['TORÁCICA PRECORDIAL TIPO QUEIMAÇÃO',\n",
       "   'S # REFERE DOR TORÁCICA PRECORDIAL TIPO QUEIMAÇÃO , COM MELHORA AO USO DE NITRATO , SEM IRRADIAÇÃO , SEM RELAÇÃO COM O ESFORÇO , 2 EPISÓDIOS AO MÊS .'],\n",
       "  ['NITRATO',\n",
       "   'S # REFERE DOR TORÁCICA PRECORDIAL TIPO QUEIMAÇÃO , COM MELHORA AO USO DE NITRATO , SEM IRRADIAÇÃO , SEM RELAÇÃO COM O ESFORÇO , 2 EPISÓDIOS AO MÊS .'],\n",
       "  ['RELAÇÃO COM O ESFORÇO',\n",
       "   'S # REFERE DOR TORÁCICA PRECORDIAL TIPO QUEIMAÇÃO , COM MELHORA AO USO DE NITRATO , SEM IRRADIAÇÃO , SEM RELAÇÃO COM O ESFORÇO , 2 EPISÓDIOS AO MÊS .']],\n",
       " [['DISPNÉIA', 'NEGA DISPNÉIA , ORTOPNEIA OU DPN .'],\n",
       "  ['ORTOPNEIA', 'NEGA DISPNÉIA , ORTOPNEIA OU DPN .'],\n",
       "  ['DPN', 'NEGA DISPNÉIA , ORTOPNEIA OU DPN .']],\n",
       " [['EDEMA DE MMII', 'NEGA EDEMA DE MMII .'],\n",
       "  ['DE MMII', 'NEGA EDEMA DE MMII .']],\n",
       " [['ARTRALGIAS DIFUSAS',\n",
       "   'CONTA APRESENTAR ARTRALGIAS DIFUSAS PIORES AO FRIO .'],\n",
       "  ['FRIO', 'CONTA APRESENTAR ARTRALGIAS DIFUSAS PIORES AO FRIO .']],\n",
       " [['PA', 'PA 120 / 70 ; FC 62 ; SATO2 98 % EM AA .'],\n",
       "  ['FC', 'PA 120 / 70 ; FC 62 ; SATO2 98 % EM AA .'],\n",
       "  ['SATO2', 'PA 120 / 70 ; FC 62 ; SATO2 98 % EM AA .']],\n",
       " [['RA', 'MV PRESENTE E SIMÉTRICO SEM RA .']],\n",
       " [['SOPROS', 'BCRNF SEM SOPROS EM 2T .']],\n",
       " [['ABDOME',\n",
       "   'ABDOME GLOBOSO , FLÁCIDO , INDOLOR , SEM VCM OU MASSAS PALPAVEIS .'],\n",
       "  ['VCM',\n",
       "   'ABDOME GLOBOSO , FLÁCIDO , INDOLOR , SEM VCM OU MASSAS PALPAVEIS .'],\n",
       "  ['MASSAS PALPAVEIS',\n",
       "   'ABDOME GLOBOSO , FLÁCIDO , INDOLOR , SEM VCM OU MASSAS PALPAVEIS .'],\n",
       "  ['MASSAS',\n",
       "   'ABDOME GLOBOSO , FLÁCIDO , INDOLOR , SEM VCM OU MASSAS PALPAVEIS .'],\n",
       "  ['PALPAVEIS',\n",
       "   'ABDOME GLOBOSO , FLÁCIDO , INDOLOR , SEM VCM OU MASSAS PALPAVEIS .']],\n",
       " [['MMII', 'MMII SEM EDEMA OU EMPASTAMENTO .'],\n",
       "  ['EDEMA', 'MMII SEM EDEMA OU EMPASTAMENTO .'],\n",
       "  ['EMPASTAMENTO', 'MMII SEM EDEMA OU EMPASTAMENTO .']],\n",
       " [['ANGINA INSTÁVEL', '- ANGINA INSTÁVEL ? .']],\n",
       " [['MONOCORDIL 20MG', '- ACRESCENTO MONOCORDIL 20MG 12 / 12H .']],\n",
       " [['CINTILOGRAFIA DE PERFUSÃO MIOCÁRDICA',\n",
       "   '- SOLICITO NOVA CINTILOGRAFIA DE PERFUSÃO MIOCÁRDICA .'],\n",
       "  ['PERFUSÃO MIOCÁRDICA',\n",
       "   '- SOLICITO NOVA CINTILOGRAFIA DE PERFUSÃO MIOCÁRDICA .']],\n",
       " [['LAB', '- SOLICITO NOVO LAB .']],\n",
       " [['EXAMES', '- RETORNO COM EXAMES .']],\n",
       " [['SINCOPE',\n",
       "   'ACOMPANHANDO COM Doutor Vital Brazil SEM SINCOPE , SEM PALPITAÇÃO , SEM TERAPIAS .'],\n",
       "  ['PALPITAÇÃO',\n",
       "   'ACOMPANHANDO COM Doutor Vital Brazil SEM SINCOPE , SEM PALPITAÇÃO , SEM TERAPIAS .'],\n",
       "  ['TERAPIAS',\n",
       "   'ACOMPANHANDO COM Doutor Vital Brazil SEM SINCOPE , SEM PALPITAÇÃO , SEM TERAPIAS .']],\n",
       " [['avaliação de mp - cdi', '# hoje realizou avaliação de mp - cdi , .']],\n",
       " [['arritmias', '# sem registro de arritmias - terapias , .'],\n",
       "  ['terapias', '# sem registro de arritmias - terapias , .']],\n",
       " [['eletrodos atrial', '# eletrodos atrial e ventricular = ok .'],\n",
       "  ['ventricular', '# eletrodos atrial e ventricular = ok .']],\n",
       " [['CAT', '# CAT EM 2008 .']],\n",
       " [['VALVOPLASTIA AÓRTICA', 'VALVOPLASTIA AÓRTICA EM 2008 .']],\n",
       " [['VALVA BIOLÓGICA',\n",
       "   'VALVA BIOLÓGICA - 40 DIAS DEPOIS DA CX CARDIOVERSÃO .']],\n",
       " [['TONTURA',\n",
       "   '# PACIENTE ASSINTOMÁTICO HÁ BASTANTE TEMPO ( APROX 1 ANO ) , A CAMINHO DO TRABALHO NO DIA 16 / 08 COMEÇOU A SENTIR TONTURA .']],\n",
       " [['QUEIXAS',\n",
       "   'HOJE PACIENTE ESTÁ ASSINTOMÁTICO , NEGA QUEIXAS , VOLTOU AS ATIVIDADES NORMAIS ( FRENTISTA ) .'],\n",
       "  ['FRENTISTA',\n",
       "   'HOJE PACIENTE ESTÁ ASSINTOMÁTICO , NEGA QUEIXAS , VOLTOU AS ATIVIDADES NORMAIS ( FRENTISTA ) .']],\n",
       " [['EMAGRECIMENTO', 'RELATA EMAGRECIMENTO DE 7 KG EM 10 DIAS .']],\n",
       " [['EX - TABAGISTA',\n",
       "   '# EX - TABAGISTA 40 MAÇOS - ANO - EM ABSTINÊNCIA HÁ 7 ANOS .']],\n",
       " [['ENALAPRIL 10MG',\n",
       "   '# EM USO DE : ENALAPRIL 10MG 2X / DIA , CARVEDILOL 12 , 5 MG 2X / DIA , ATORVASTATINA 40 MG , CLOPIDOGREL E MAREVAN .'],\n",
       "  ['CARVEDILOL 12 , 5 MG',\n",
       "   '# EM USO DE : ENALAPRIL 10MG 2X / DIA , CARVEDILOL 12 , 5 MG 2X / DIA , ATORVASTATINA 40 MG , CLOPIDOGREL E MAREVAN .'],\n",
       "  ['CARVEDILOL',\n",
       "   '# EM USO DE : ENALAPRIL 10MG 2X / DIA , CARVEDILOL 12 , 5 MG 2X / DIA , ATORVASTATINA 40 MG , CLOPIDOGREL E MAREVAN .'],\n",
       "  ['ATORVASTATINA 40 MG',\n",
       "   '# EM USO DE : ENALAPRIL 10MG 2X / DIA , CARVEDILOL 12 , 5 MG 2X / DIA , ATORVASTATINA 40 MG , CLOPIDOGREL E MAREVAN .'],\n",
       "  ['CLOPIDOGREL',\n",
       "   '# EM USO DE : ENALAPRIL 10MG 2X / DIA , CARVEDILOL 12 , 5 MG 2X / DIA , ATORVASTATINA 40 MG , CLOPIDOGREL E MAREVAN .'],\n",
       "  ['MAREVAN',\n",
       "   '# EM USO DE : ENALAPRIL 10MG 2X / DIA , CARVEDILOL 12 , 5 MG 2X / DIA , ATORVASTATINA 40 MG , CLOPIDOGREL E MAREVAN .']],\n",
       " [['EXAME FÍSICO', '# EXAME FÍSICO : .']],\n",
       " [['FC', 'FC 80 BPM , PA 120 / 80 MMHG .'],\n",
       "  ['PA', 'FC 80 BPM , PA 120 / 80 MMHG .']],\n",
       " [['HIPOFONESE DE BULHAS EM FOCO AÓRTICO',\n",
       "   'BCRNF - HIPOFONESE DE BULHAS EM FOCO AÓRTICO .']],\n",
       " [['RA', 'MV + SIM BILATERAL , S / RA .']],\n",
       " [['ABDOME', 'RHA + , ABDOME NÃO DOLOROSO A PALPAÇÃO , SEM VISCEROMEGALIAS .'],\n",
       "  ['VISCEROMEGALIAS',\n",
       "   'RHA + , ABDOME NÃO DOLOROSO A PALPAÇÃO , SEM VISCEROMEGALIAS .']],\n",
       " [['HERNIA UMBILICAL REDUTÍVEL', 'HERNIA UMBILICAL REDUTÍVEL .']],\n",
       " [['MMII EDEMA + / 4 +', 'MMII EDEMA + / 4 + , PANTURRILHAS LIVRES .']],\n",
       " [['ECG',\n",
       "   '# ECG 19 / 08 : FLUTTER ATRIAL PROVAVELMENTE ANTI - HORÁRIO 2 / 3 : 1 , EXTRASSÍSTOLES VENTRICULARES .'],\n",
       "  ['FLUTTER ATRIAL',\n",
       "   '# ECG 19 / 08 : FLUTTER ATRIAL PROVAVELMENTE ANTI - HORÁRIO 2 / 3 : 1 , EXTRASSÍSTOLES VENTRICULARES .'],\n",
       "  ['HORÁRIO',\n",
       "   '# ECG 19 / 08 : FLUTTER ATRIAL PROVAVELMENTE ANTI - HORÁRIO 2 / 3 : 1 , EXTRASSÍSTOLES VENTRICULARES .'],\n",
       "  ['EXTRASSÍSTOLES VENTRICULARES',\n",
       "   '# ECG 19 / 08 : FLUTTER ATRIAL PROVAVELMENTE ANTI - HORÁRIO 2 / 3 : 1 , EXTRASSÍSTOLES VENTRICULARES .']],\n",
       " [['TAP', '# CD : CONTROLE DO TAP .']],\n",
       " [['TAP', 'PRECISA DE 4 TAP ENTRE 2 E 3 .']],\n",
       " [['intercorrencias', '# sem intercorrencias , .']],\n",
       " [['avaliação exclusiva de mp', '# hoje avaliação exclusiva de mp .']],\n",
       " [['mp camara - dupla', '# mp camara - dupla , .']],\n",
       " [['IMP',\n",
       "   '# A - IMP = 390 , SENSE = 2 , 3 , CLA = MENOR QUE 1 , 0 X 0 , 4 ; .']],\n",
       " [['IMP',\n",
       "   '# V - IMP = 487 , SENSE = 3 , 8 , CLV = MENOR QUE 1 , 0 X 0 , 4 .']],\n",
       " [['auto captura',\n",
       "   '# cd = programada auto captura , retorno em 12 meses , se intercorrencias = procura direta , sempre manter com cardio geral .'],\n",
       "  ['captura',\n",
       "   '# cd = programada auto captura , retorno em 12 meses , se intercorrencias = procura direta , sempre manter com cardio geral .']],\n",
       " [['DAC', '# DAC - IAM 2007 + RVM / / ATC 2010 , .'],\n",
       "  ['IAM', '# DAC - IAM 2007 + RVM / / ATC 2010 , .'],\n",
       "  ['RVM', '# DAC - IAM 2007 + RVM / / ATC 2010 , .'],\n",
       "  ['ATC', '# DAC - IAM 2007 + RVM / / ATC 2010 , .']],\n",
       " [['Hipertireoidismo',\n",
       "   '# Hipertireoidismo ? ? - em acompanhamento com endocrinologia , .']],\n",
       " [['FA paroxistica', '# FA paroxistica , .']],\n",
       " [['taquicardia atrial',\n",
       "   '# Internamento em jan / 15 por taquicardia atrial com aberrância - - DESCARTADO ISQUEMIA MIOCÁRDICA COMO CAUSA , PROVÁVEL FATOR DESCOMPENSADOR SERIA O HIPERTIREOIDISMO QUE AINDA APRESENTA - SE DESCOMPENSADO ( TSH < 0 , 01 ) .'],\n",
       "  ['taquicardia',\n",
       "   '# Internamento em jan / 15 por taquicardia atrial com aberrância - - DESCARTADO ISQUEMIA MIOCÁRDICA COMO CAUSA , PROVÁVEL FATOR DESCOMPENSADOR SERIA O HIPERTIREOIDISMO QUE AINDA APRESENTA - SE DESCOMPENSADO ( TSH < 0 , 01 ) .'],\n",
       "  ['atrial',\n",
       "   '# Internamento em jan / 15 por taquicardia atrial com aberrância - - DESCARTADO ISQUEMIA MIOCÁRDICA COMO CAUSA , PROVÁVEL FATOR DESCOMPENSADOR SERIA O HIPERTIREOIDISMO QUE AINDA APRESENTA - SE DESCOMPENSADO ( TSH < 0 , 01 ) .'],\n",
       "  ['aberrância',\n",
       "   '# Internamento em jan / 15 por taquicardia atrial com aberrância - - DESCARTADO ISQUEMIA MIOCÁRDICA COMO CAUSA , PROVÁVEL FATOR DESCOMPENSADOR SERIA O HIPERTIREOIDISMO QUE AINDA APRESENTA - SE DESCOMPENSADO ( TSH < 0 , 01 ) .'],\n",
       "  ['ISQUEMIA MIOCÁRDICA',\n",
       "   '# Internamento em jan / 15 por taquicardia atrial com aberrância - - DESCARTADO ISQUEMIA MIOCÁRDICA COMO CAUSA , PROVÁVEL FATOR DESCOMPENSADOR SERIA O HIPERTIREOIDISMO QUE AINDA APRESENTA - SE DESCOMPENSADO ( TSH < 0 , 01 ) .'],\n",
       "  ['TSH',\n",
       "   '# Internamento em jan / 15 por taquicardia atrial com aberrância - - DESCARTADO ISQUEMIA MIOCÁRDICA COMO CAUSA , PROVÁVEL FATOR DESCOMPENSADOR SERIA O HIPERTIREOIDISMO QUE AINDA APRESENTA - SE DESCOMPENSADO ( TSH < 0 , 01 ) .']],\n",
       " [['Medicamentos',\n",
       "   'Medicamentos : tapazol 10 mg , enalapril 10 mg 12 / 12h , selozok 50 mg , sinvastatina 40 mg , xarelto 20 mg , AAS100mg .'],\n",
       "  ['enalapril 10 mg',\n",
       "   'Medicamentos : tapazol 10 mg , enalapril 10 mg 12 / 12h , selozok 50 mg , sinvastatina 40 mg , xarelto 20 mg , AAS100mg .'],\n",
       "  ['selozok 50 mg',\n",
       "   'Medicamentos : tapazol 10 mg , enalapril 10 mg 12 / 12h , selozok 50 mg , sinvastatina 40 mg , xarelto 20 mg , AAS100mg .'],\n",
       "  ['sinvastatina 40 mg',\n",
       "   'Medicamentos : tapazol 10 mg , enalapril 10 mg 12 / 12h , selozok 50 mg , sinvastatina 40 mg , xarelto 20 mg , AAS100mg .'],\n",
       "  ['xarelto 20 mg',\n",
       "   'Medicamentos : tapazol 10 mg , enalapril 10 mg 12 / 12h , selozok 50 mg , sinvastatina 40 mg , xarelto 20 mg , AAS100mg .'],\n",
       "  ['AAS100mg',\n",
       "   'Medicamentos : tapazol 10 mg , enalapril 10 mg 12 / 12h , selozok 50 mg , sinvastatina 40 mg , xarelto 20 mg , AAS100mg .']],\n",
       " [['palpitações', 'S # Nega palpitações , dispneia , dor torácica .'],\n",
       "  ['dispneia', 'S # Nega palpitações , dispneia , dor torácica .'],\n",
       "  ['dor torácica', 'S # Nega palpitações , dispneia , dor torácica .']],\n",
       " [['Epigastralgia', 'Epigastralgia .']],\n",
       " [['endocrino', 'Consuçta com endocrino amanhã .']],\n",
       " [['exames', 'Traz exames : .']],\n",
       " [['Holter',\n",
       "   '- Holter 28 / 04 / 15 : ritmo sinusal , FC media 53 , Intervalo PR normal , QRS normais , extra - sistole ventricular unica , extra - sistole supra - ventricular rara , ausencia de pausas , ST sem alterações .'],\n",
       "  ['extra - sistole supra - ventricular',\n",
       "   '- Holter 28 / 04 / 15 : ritmo sinusal , FC media 53 , Intervalo PR normal , QRS normais , extra - sistole ventricular unica , extra - sistole supra - ventricular rara , ausencia de pausas , ST sem alterações .'],\n",
       "  ['extra',\n",
       "   '- Holter 28 / 04 / 15 : ritmo sinusal , FC media 53 , Intervalo PR normal , QRS normais , extra - sistole ventricular unica , extra - sistole supra - ventricular rara , ausencia de pausas , ST sem alterações .'],\n",
       "  ['extra - sistole supra',\n",
       "   '- Holter 28 / 04 / 15 : ritmo sinusal , FC media 53 , Intervalo PR normal , QRS normais , extra - sistole ventricular unica , extra - sistole supra - ventricular rara , ausencia de pausas , ST sem alterações .'],\n",
       "  ['sistole supra - ventricular',\n",
       "   '- Holter 28 / 04 / 15 : ritmo sinusal , FC media 53 , Intervalo PR normal , QRS normais , extra - sistole ventricular unica , extra - sistole supra - ventricular rara , ausencia de pausas , ST sem alterações .'],\n",
       "  ['extra - sistole supra -',\n",
       "   '- Holter 28 / 04 / 15 : ritmo sinusal , FC media 53 , Intervalo PR normal , QRS normais , extra - sistole ventricular unica , extra - sistole supra - ventricular rara , ausencia de pausas , ST sem alterações .'],\n",
       "  ['- sistole supra - ventricular',\n",
       "   '- Holter 28 / 04 / 15 : ritmo sinusal , FC media 53 , Intervalo PR normal , QRS normais , extra - sistole ventricular unica , extra - sistole supra - ventricular rara , ausencia de pausas , ST sem alterações .'],\n",
       "  ['pausas',\n",
       "   '- Holter 28 / 04 / 15 : ritmo sinusal , FC media 53 , Intervalo PR normal , QRS normais , extra - sistole ventricular unica , extra - sistole supra - ventricular rara , ausencia de pausas , ST sem alterações .'],\n",
       "  ['ST',\n",
       "   '- Holter 28 / 04 / 15 : ritmo sinusal , FC media 53 , Intervalo PR normal , QRS normais , extra - sistole ventricular unica , extra - sistole supra - ventricular rara , ausencia de pausas , ST sem alterações .'],\n",
       "  ['alterações',\n",
       "   '- Holter 28 / 04 / 15 : ritmo sinusal , FC media 53 , Intervalo PR normal , QRS normais , extra - sistole ventricular unica , extra - sistole supra - ventricular rara , ausencia de pausas , ST sem alterações .']],\n",
       " [['TSH', '- TSH 47 / t4l 0 , 55 .'], ['t4l', '- TSH 47 / t4l 0 , 55 .']],\n",
       " [['Ecocardiograma',\n",
       "   '- Ecocardiograma out / 14 ( externo ) : AE 43 / VD 23 / septo 10 / VE 52 - 26 / FE 81 % .'],\n",
       "  ['AE',\n",
       "   '- Ecocardiograma out / 14 ( externo ) : AE 43 / VD 23 / septo 10 / VE 52 - 26 / FE 81 % .'],\n",
       "  ['VD',\n",
       "   '- Ecocardiograma out / 14 ( externo ) : AE 43 / VD 23 / septo 10 / VE 52 - 26 / FE 81 % .'],\n",
       "  ['septo',\n",
       "   '- Ecocardiograma out / 14 ( externo ) : AE 43 / VD 23 / septo 10 / VE 52 - 26 / FE 81 % .'],\n",
       "  ['VE',\n",
       "   '- Ecocardiograma out / 14 ( externo ) : AE 43 / VD 23 / septo 10 / VE 52 - 26 / FE 81 % .']],\n",
       " [['VE', 'VE com contração segmentar e função sistólica adequadas .']],\n",
       " [['exame', 'Ao exame : .']],\n",
       " [['PA130', 'PA130 / 70 , FC 55 .'], ['FC', 'PA130 / 70 , FC 55 .']],\n",
       " [['sopros', 'CV : BRNF , sem sopros .']],\n",
       " [['CPP', 'CPP livres .']],\n",
       " [['FA paroxística', 'A # FA paroxística .']],\n",
       " [['medicação', 'P # Retorno precoce na endocrino para ajuste medicação .']],\n",
       " [['selozok', 'Suspendemos selozok .']],\n",
       " [['propafenona 300mg', 'prescrevemos propafenona 300mg 12 / 12h .']],\n",
       " [['ecocardio', 'Retorno com ecocardio em 3 meses .']],\n",
       " [['medicações', 'Demais medicações mantidas .']],\n",
       " [['IAM', '# IAM 2009 - ATC .'], ['ATC', '# IAM 2009 - ATC .']],\n",
       " [['CA de Laringe', '# CA de Laringe , fez QT e RT - TERMINO TTO 2002 , .']],\n",
       " [['HAS', '# HAS , .']],\n",
       " [['HPB', '# HPB , .']],\n",
       " [['DLP', '# DLP , .']],\n",
       " [['ARTRITE REUMATÓIDE', '# ARTRITE REUMATÓIDE .']],\n",
       " [['Enalapril 20 mg', '- Enalapril 20 mg , 2 cp de 12 / 12 hr .']],\n",
       " [['CARVEDILOL 12 , 5MG', '- CARVEDILOL 12 , 5MG , 1 cp de 12 / 12 hr , .']],\n",
       " [['AAS 100 mg', '- AAS 100 mg , 1 / dia ; .']],\n",
       " [['Sinvastatina 20mg', '- Sinvastatina 20mg , 4 cp de noite ; .']],\n",
       " [['Omeprazol 20m mg', '- Omeprazol 20m mg , 2 cp de 12 / 12hr ; .']],\n",
       " [['PREDNISONA 5 MG', '- PREDNISONA 5 MG ; .']],\n",
       " [['COMBODART', '- COMBODART .']],\n",
       " [['Teste de esforço',\n",
       "   '***Teste de esforço 10 / 2013 : eficaz , submáximo , sem alterações .'],\n",
       "  ['alterações',\n",
       "   '***Teste de esforço 10 / 2013 : eficaz , submáximo , sem alterações .']],\n",
       " [['iesquemia miocardica',\n",
       "   'Clínicas ou eletrocardiográficas de iesquemia miocardica .'],\n",
       "  ['miocardica',\n",
       "   'Clínicas ou eletrocardiográficas de iesquemia miocardica .']],\n",
       " [['Resposta tensional', 'Resposta tensional fisiológica .']],\n",
       " [['ECOCARDIO',\n",
       "   '*** ECOCARDIO 11 / 06 / 2014 : VE COM DIMENSÃO INTERNA , CONTRATILIDADE MIOCARDICA E FUNÇÃO SISTOLICA GLOBAL NORMAIS , DISFUNÇÃO DIASTOLICA TIPO ALTERAÇÃO DE RELAXAMENTO , AE E CAVIDADES DIREITAS NORMAIS , .'],\n",
       "  ['VE',\n",
       "   '*** ECOCARDIO 11 / 06 / 2014 : VE COM DIMENSÃO INTERNA , CONTRATILIDADE MIOCARDICA E FUNÇÃO SISTOLICA GLOBAL NORMAIS , DISFUNÇÃO DIASTOLICA TIPO ALTERAÇÃO DE RELAXAMENTO , AE E CAVIDADES DIREITAS NORMAIS , .'],\n",
       "  ['DIMENSÃO INTERNA',\n",
       "   '*** ECOCARDIO 11 / 06 / 2014 : VE COM DIMENSÃO INTERNA , CONTRATILIDADE MIOCARDICA E FUNÇÃO SISTOLICA GLOBAL NORMAIS , DISFUNÇÃO DIASTOLICA TIPO ALTERAÇÃO DE RELAXAMENTO , AE E CAVIDADES DIREITAS NORMAIS , .'],\n",
       "  ['CONTRATILIDADE MIOCARDICA',\n",
       "   '*** ECOCARDIO 11 / 06 / 2014 : VE COM DIMENSÃO INTERNA , CONTRATILIDADE MIOCARDICA E FUNÇÃO SISTOLICA GLOBAL NORMAIS , DISFUNÇÃO DIASTOLICA TIPO ALTERAÇÃO DE RELAXAMENTO , AE E CAVIDADES DIREITAS NORMAIS , .'],\n",
       "  ['MIOCARDICA',\n",
       "   '*** ECOCARDIO 11 / 06 / 2014 : VE COM DIMENSÃO INTERNA , CONTRATILIDADE MIOCARDICA E FUNÇÃO SISTOLICA GLOBAL NORMAIS , DISFUNÇÃO DIASTOLICA TIPO ALTERAÇÃO DE RELAXAMENTO , AE E CAVIDADES DIREITAS NORMAIS , .'],\n",
       "  ['DISFUNÇÃO DIASTOLICA TIPO ALTERAÇÃO DE RELAXAMENTO',\n",
       "   '*** ECOCARDIO 11 / 06 / 2014 : VE COM DIMENSÃO INTERNA , CONTRATILIDADE MIOCARDICA E FUNÇÃO SISTOLICA GLOBAL NORMAIS , DISFUNÇÃO DIASTOLICA TIPO ALTERAÇÃO DE RELAXAMENTO , AE E CAVIDADES DIREITAS NORMAIS , .'],\n",
       "  ['AE',\n",
       "   '*** ECOCARDIO 11 / 06 / 2014 : VE COM DIMENSÃO INTERNA , CONTRATILIDADE MIOCARDICA E FUNÇÃO SISTOLICA GLOBAL NORMAIS , DISFUNÇÃO DIASTOLICA TIPO ALTERAÇÃO DE RELAXAMENTO , AE E CAVIDADES DIREITAS NORMAIS , .']],\n",
       " [['FLUXOS VALVARES',\n",
       "   'FLUXOS VALVARES SEM ANORMALIDADES MORFOFUNCIONAIS SIGNIFICATIVAS .']],\n",
       " [['AE', 'AE 31 , VDC 21 , DDDV 44 , DSVE 30 , FE 60 .'],\n",
       "  ['VDC', 'AE 31 , VDC 21 , DDDV 44 , DSVE 30 , FE 60 .']],\n",
       " [['QUEIXAS', 'S # SEM QUEIXAS .']],\n",
       " [['DISPNEIA', 'NEGA DISPNEIA E DOR NO PEITO .']],\n",
       " [['PA', 'PA 120 / 80 , FC 80 ; .'], ['FC', 'PA 120 / 80 , FC 80 ; .']],\n",
       " [['RA', 'AP : MV + BILAT , SEM RA ; .']],\n",
       " [['ABD', 'ABD : SP ; .']],\n",
       " [['MMII', 'MMII : SP ; .']],\n",
       " [['DAC', 'A # DAC .']],\n",
       " [['EX', 'EX DE CONTROLE .']]]"
      ]
     },
     "execution_count": 292,
     "metadata": {},
     "output_type": "execute_result"
    }
   ],
   "source": [
    "listaPredictFrases"
   ]
  },
  {
   "cell_type": "code",
   "execution_count": 293,
   "metadata": {},
   "outputs": [
    {
     "data": {
      "text/plain": [
       "[[['calcificação', 0],\n",
       "  ['mitral', 1],\n",
       "  ['e', 2],\n",
       "  ['aórtica', 3],\n",
       "  ['com', 4],\n",
       "  ['refluxo', 5],\n",
       "  ['leve', 6],\n",
       "  ['.', 7]],\n",
       " [['calcificação', [0], 'Problema'],\n",
       "  ['mitral', [1], 'Tratamento'],\n",
       "  ['e', [2], 'Problema'],\n",
       "  ['aórtica', [3], 'Anatomia'],\n",
       "  ['refluxo leve', [5, 6], 'Problema']]]"
      ]
     },
     "execution_count": 293,
     "metadata": {},
     "output_type": "execute_result"
    }
   ],
   "source": [
    "dic_predictions[15]"
   ]
  },
  {
   "cell_type": "code",
   "execution_count": 294,
   "metadata": {},
   "outputs": [
    {
     "data": {
      "text/plain": [
       "[[['PA', 0, 1142],\n",
       "  ['-', 1, 1145],\n",
       "  ['120', 2, 1147],\n",
       "  ['/', 3, 1150],\n",
       "  ['80', 4, 1151],\n",
       "  [',', 5, 1153],\n",
       "  ['P', 6, 1155],\n",
       "  ['-', 7, 1157],\n",
       "  ['72', 8, 1159],\n",
       "  [',', 9, 1161],\n",
       "  ['bulhas', 10, 1163],\n",
       "  ['arritimicas', 11, 1170],\n",
       "  [',', 12, 1181],\n",
       "  ['normofonéticas', 13, 1183],\n",
       "  [',', 14, 1197],\n",
       "  ['sem', 15, 1199],\n",
       "  ['sopros', 16, 1203],\n",
       "  ['.', 17, 1209]],\n",
       " [['PA', [0], 'Teste'],\n",
       "  ['P', [6], 'Teste'],\n",
       "  ['bulhas arritimicas', [10, 11], 'Problema'],\n",
       "  ['sopros', [16], 'Problema']]]"
      ]
     },
     "execution_count": 294,
     "metadata": {},
     "output_type": "execute_result"
    }
   ],
   "source": [
    "dic_sentencesTest[17]"
   ]
  },
  {
   "cell_type": "code",
   "execution_count": 295,
   "metadata": {},
   "outputs": [
    {
     "data": {
      "text/plain": [
       "506"
      ]
     },
     "execution_count": 295,
     "metadata": {},
     "output_type": "execute_result"
    }
   ],
   "source": [
    "len(dic_sentencesTest)"
   ]
  },
  {
   "cell_type": "code",
   "execution_count": 296,
   "metadata": {},
   "outputs": [
    {
     "name": "stdout",
     "output_type": "stream",
     "text": [
      "nao achou: concentrica de grau discreto\n",
      "labelEntidadeTrue: 0\n",
      "labelEntidade: 0\n",
      "nao achou: nos MMII\n",
      "labelEntidadeTrue: 0\n",
      "labelEntidade: 3\n",
      "nao achou: dose da sinvastatina para 40mg\n",
      "labelEntidadeTrue: 0\n",
      "labelEntidade: 1\n",
      "nao achou: angina\n",
      "labelEntidadeTrue: 0\n",
      "labelEntidade: 0\n",
      "nao achou: instavel\n",
      "labelEntidadeTrue: 0\n",
      "labelEntidade: 0\n",
      "nao achou: VE grau moderado\n",
      "labelEntidadeTrue: 0\n",
      "labelEntidade: 0\n",
      "nao achou: comprometimento difuso do VE\n",
      "labelEntidadeTrue: 0\n",
      "labelEntidade: 0\n",
      "nao achou: comprometimento difuso do VE grau\n",
      "labelEntidadeTrue: 0\n",
      "labelEntidade: 0\n",
      "nao achou: difuso do VE grau moderado\n",
      "labelEntidadeTrue: 0\n",
      "labelEntidade: 0\n",
      "nao achou: insuf Mi\n",
      "labelEntidadeTrue: 0\n",
      "labelEntidade: 0\n",
      "nao achou: Mi discreta\n",
      "labelEntidadeTrue: 0\n",
      "labelEntidade: 0\n",
      "nao achou: insuf Tri\n",
      "labelEntidadeTrue: 0\n",
      "labelEntidade: 0\n",
      "nao achou: Tri discreta\n",
      "labelEntidadeTrue: 0\n",
      "labelEntidade: 0\n",
      "nao achou: hipetensao pulmonar\n",
      "labelEntidadeTrue: 0\n",
      "labelEntidade: 0\n",
      "nao achou: pulmonar discreta\n",
      "labelEntidadeTrue: 0\n",
      "labelEntidade: 0\n",
      "nao achou: intermitente em MMII\n",
      "labelEntidadeTrue: 0\n",
      "labelEntidade: 0\n",
      "nao achou: dor toracica associada\n",
      "labelEntidadeTrue: 0\n",
      "labelEntidade: 0\n",
      "nao achou: de MMII\n",
      "labelEntidadeTrue: 0\n",
      "labelEntidade: 3\n",
      "nao achou: queixas urinarias\n",
      "labelEntidadeTrue: 0\n",
      "labelEntidade: 0\n",
      "nao achou: Laboratorio Cr\n",
      "labelEntidadeTrue: 0\n",
      "labelEntidade: 2\n",
      "nao achou: Albumina\n",
      "labelEntidadeTrue: 0\n",
      "labelEntidade: 2\n",
      "nao achou: Cr isolada\n",
      "labelEntidadeTrue: 0\n",
      "labelEntidade: 2\n",
      "nao achou: colecalciferol 10 gotas\n",
      "labelEntidadeTrue: 0\n",
      "labelEntidade: 1\n",
      "nao achou: MMII edema\n",
      "labelEntidadeTrue: 0\n",
      "labelEntidade: 0\n",
      "nao achou: IV bilateral\n",
      "labelEntidadeTrue: 0\n",
      "labelEntidade: 0\n",
      "nao achou: MMII edema +\n",
      "labelEntidadeTrue: 0\n",
      "labelEntidade: 0\n",
      "nao achou: MMII edema + / IV\n",
      "labelEntidadeTrue: 0\n",
      "labelEntidade: 0\n",
      "nao achou: edema + / IV bilateral\n",
      "labelEntidadeTrue: 0\n",
      "labelEntidade: 0\n",
      "nao achou: anlodipino para 2 , 5mg\n",
      "labelEntidadeTrue: 0\n",
      "labelEntidade: 1\n",
      "nao achou: angina\n",
      "labelEntidadeTrue: 0\n",
      "labelEntidade: 0\n",
      "nao achou: instavel\n",
      "labelEntidadeTrue: 0\n",
      "labelEntidade: 0\n",
      "nao achou: US\n",
      "labelEntidadeTrue: 0\n",
      "labelEntidade: 2\n",
      "nao achou: US abdome\n",
      "labelEntidadeTrue: 0\n",
      "labelEntidade: 2\n",
      "nao achou: abdome total\n",
      "labelEntidadeTrue: 0\n",
      "labelEntidade: 3\n",
      "nao achou: alterações tróficas\n",
      "labelEntidadeTrue: 0\n",
      "labelEntidade: 0\n",
      "nao achou: ventricular infero\n",
      "labelEntidadeTrue: 0\n",
      "labelEntidade: 3\n",
      "nao achou: repolarização ventricular infero\n",
      "labelEntidadeTrue: 0\n",
      "labelEntidade: 0\n",
      "nao achou: alteração de repolarização ventricular\n",
      "labelEntidadeTrue: 0\n",
      "labelEntidade: 0\n",
      "nao achou: de repolarização ventricular infero\n",
      "labelEntidadeTrue: 0\n",
      "labelEntidade: 0\n",
      "nao achou: repolarização ventricular infero -\n",
      "labelEntidadeTrue: 0\n",
      "labelEntidade: 0\n",
      "nao achou: alteração de repolarização ventricular infero\n",
      "labelEntidadeTrue: 0\n",
      "labelEntidade: 0\n",
      "nao achou: de repolarização ventricular infero -\n",
      "labelEntidadeTrue: 0\n",
      "labelEntidade: 0\n",
      "nao achou: repolarização ventricular infero - lateral\n",
      "labelEntidadeTrue: 0\n",
      "labelEntidade: 0\n",
      "nao achou: alteração de repolarização ventricular infero -\n",
      "labelEntidadeTrue: 0\n",
      "labelEntidade: 0\n",
      "nao achou: de repolarização ventricular infero - lateral\n",
      "labelEntidadeTrue: 0\n",
      "labelEntidade: 0\n",
      "nao achou: ICC classe III HAS\n",
      "labelEntidadeTrue: 0\n",
      "labelEntidade: 0\n",
      "nao achou: classe III HAS\n",
      "labelEntidadeTrue: 0\n",
      "labelEntidade: 0\n",
      "nao achou: AAS , 100mg\n",
      "labelEntidadeTrue: 0\n",
      "labelEntidade: 1\n",
      "nao achou: BIOPSIA\n",
      "labelEntidadeTrue: 0\n",
      "labelEntidade: 2\n",
      "nao achou: AZATIOPRINA 50\n",
      "labelEntidadeTrue: 0\n",
      "labelEntidade: 1\n",
      "nao achou: PROTESE VALVAR\n",
      "labelEntidadeTrue: 0\n",
      "labelEntidade: 0\n",
      "nao achou: MAREVAN ENL 20\n",
      "labelEntidadeTrue: 0\n",
      "labelEntidade: 1\n",
      "nao achou: DUPLA LESAO MI\n",
      "labelEntidadeTrue: 0\n",
      "labelEntidade: 0\n",
      "nao achou: DUPLA LESAO\n",
      "labelEntidadeTrue: 0\n",
      "labelEntidade: 0\n",
      "nao achou: LESAO MI\n",
      "labelEntidadeTrue: 0\n",
      "labelEntidade: 0\n",
      "nao achou: ESTENOSE\n",
      "labelEntidadeTrue: 0\n",
      "labelEntidade: 0\n",
      "nao achou: INSUF MODERADAS\n",
      "labelEntidadeTrue: 0\n",
      "labelEntidade: 0\n",
      "nao achou: mmii eventual\n",
      "labelEntidadeTrue: 0\n",
      "labelEntidade: 3\n",
      "nao achou: toracica quando epigastralgia\n",
      "labelEntidadeTrue: 0\n",
      "labelEntidade: 0\n",
      "nao achou: HDL\n",
      "labelEntidadeTrue: 0\n",
      "labelEntidade: 2\n",
      "nao achou: LDL\n",
      "labelEntidadeTrue: 0\n",
      "labelEntidade: 2\n",
      "nao achou: ARea\n",
      "labelEntidadeTrue: 0\n",
      "labelEntidade: 2\n",
      "nao achou: refluxo\n",
      "labelEntidadeTrue: 0\n",
      "labelEntidade: 0\n",
      "nao achou: discreto\n",
      "labelEntidadeTrue: 0\n",
      "labelEntidade: 0\n",
      "nao achou: SIv\n",
      "labelEntidadeTrue: 0\n",
      "labelEntidade: 1\n",
      "nao achou: PPVE\n",
      "labelEntidadeTrue: 0\n",
      "labelEntidade: 3\n",
      "nao achou: PA\n",
      "labelEntidadeTrue: 0\n",
      "labelEntidade: 2\n",
      "nao achou: protese Metalica AOrtoca\n",
      "labelEntidadeTrue: 0\n",
      "labelEntidade: 0\n",
      "nao achou: MARCA - PASSO\n",
      "labelEntidadeTrue: 0\n",
      "labelEntidade: 1\n",
      "nao achou: CX DE APENDICITE\n",
      "labelEntidadeTrue: 0\n",
      "labelEntidade: 1\n",
      "nao achou: HERNIAS PARAMEDIANAS\n",
      "labelEntidadeTrue: 0\n",
      "labelEntidade: 0\n",
      "nao achou: HERNIAS\n",
      "labelEntidadeTrue: 0\n",
      "labelEntidade: 0\n",
      "nao achou: ICTUS PALPÁVEL EM 7º EIC EM LINHA HEMIAXILAR\n",
      "labelEntidadeTrue: 0\n",
      "labelEntidade: 0\n",
      "nao achou: PALPÁVEL EM 7º EIC EM LINHA HEMIAXILAR E\n",
      "labelEntidadeTrue: 0\n",
      "labelEntidade: 0\n",
      "nao achou: EM MMII\n",
      "labelEntidadeTrue: 0\n",
      "labelEntidade: 3\n",
      "nao achou: PULSOS\n",
      "labelEntidadeTrue: 0\n",
      "labelEntidade: 3\n",
      "nao achou: avaliar bat\n",
      "labelEntidadeTrue: 0\n",
      "labelEntidade: 2\n",
      "nao achou: intercorrencias\n",
      "labelEntidadeTrue: 0\n",
      "labelEntidade: 0\n",
      "nao achou: DE TAQUICARDIA ATRIAL\n",
      "labelEntidadeTrue: 0\n",
      "labelEntidade: 0\n",
      "nao achou: RARAS\n",
      "labelEntidadeTrue: 0\n",
      "labelEntidade: 3\n",
      "nao achou: TAQUICARDIA ATRIAL\n",
      "labelEntidadeTrue: 0\n",
      "labelEntidade: 0\n",
      "nao achou: SINTOMAS DE PALPITAÇÕES\n",
      "labelEntidadeTrue: 0\n",
      "labelEntidade: 0\n",
      "nao achou: P\n",
      "labelEntidadeTrue: 0\n",
      "labelEntidade: 2\n",
      "nao achou: ALT\n",
      "labelEntidadeTrue: 0\n",
      "labelEntidade: 0\n",
      "nao achou: Medicamentos atenolol 100mg\n",
      "labelEntidadeTrue: 0\n",
      "labelEntidade: 1\n",
      "nao achou: ablações\n",
      "labelEntidadeTrue: 0\n",
      "labelEntidade: 0\n",
      "nao achou: Penicilina G benzatina 1 , 200 , 000U IM\n",
      "labelEntidadeTrue: 0\n",
      "labelEntidade: 1\n",
      "nao achou: DOR REGIAO ESTERNAL , EM FO , LOCAL FIOS AÇO , EM QUEIMAÇÃO\n",
      "labelEntidadeTrue: 0\n",
      "labelEntidade: 0\n",
      "nao achou: LOCAL FIOS AÇO\n",
      "labelEntidadeTrue: 0\n",
      "labelEntidade: 3\n",
      "nao achou: FO , LOCAL FIOS\n",
      "labelEntidadeTrue: 0\n",
      "labelEntidade: 3\n",
      "nao achou: , LOCAL FIOS AÇO\n",
      "labelEntidadeTrue: 0\n",
      "labelEntidade: 3\n",
      "nao achou: LOCAL FIOS AÇO ,\n",
      "labelEntidadeTrue: 0\n",
      "labelEntidade: 3\n",
      "nao achou: EM FO , LOCAL FIOS\n",
      "labelEntidadeTrue: 0\n",
      "labelEntidade: 3\n",
      "nao achou: FO , LOCAL FIOS AÇO\n",
      "labelEntidadeTrue: 0\n",
      "labelEntidade: 3\n",
      "nao achou: DOR REGIAO ESTERNAL , EM FO\n",
      "labelEntidadeTrue: 0\n",
      "labelEntidade: 0\n",
      "nao achou: EM FO , LOCAL FIOS AÇO\n",
      "labelEntidadeTrue: 0\n",
      "labelEntidade: 3\n",
      "nao achou: FO , LOCAL FIOS AÇO ,\n",
      "labelEntidadeTrue: 0\n",
      "labelEntidade: 3\n",
      "nao achou: LOCAL FIOS AÇO , EM QUEIMAÇÃO\n",
      "labelEntidadeTrue: 0\n",
      "labelEntidade: 0\n",
      "nao achou: DOR REGIAO ESTERNAL , EM FO ,\n",
      "labelEntidadeTrue: 0\n",
      "labelEntidade: 0\n",
      "nao achou: REGIAO ESTERNAL , EM FO , LOCAL\n",
      "labelEntidadeTrue: 0\n",
      "labelEntidade: 3\n",
      "nao achou: ESTERNAL , EM FO , LOCAL FIOS\n",
      "labelEntidadeTrue: 0\n",
      "labelEntidade: 3\n",
      "nao achou: , EM FO , LOCAL FIOS AÇO\n",
      "labelEntidadeTrue: 0\n",
      "labelEntidade: 3\n",
      "nao achou: EM FO , LOCAL FIOS AÇO ,\n",
      "labelEntidadeTrue: 0\n",
      "labelEntidade: 3\n",
      "nao achou: FO , LOCAL FIOS AÇO , EM\n",
      "labelEntidadeTrue: 0\n",
      "labelEntidade: 3\n",
      "nao achou: , LOCAL FIOS AÇO , EM QUEIMAÇÃO\n",
      "labelEntidadeTrue: 0\n",
      "labelEntidade: 0\n",
      "nao achou: DOR REGIAO ESTERNAL , EM FO , LOCAL\n",
      "labelEntidadeTrue: 0\n",
      "labelEntidade: 0\n",
      "nao achou: REGIAO ESTERNAL , EM FO , LOCAL FIOS\n",
      "labelEntidadeTrue: 0\n",
      "labelEntidade: 3\n",
      "nao achou: ESTERNAL , EM FO , LOCAL FIOS AÇO\n",
      "labelEntidadeTrue: 0\n",
      "labelEntidade: 3\n",
      "nao achou: , EM FO , LOCAL FIOS AÇO ,\n",
      "labelEntidadeTrue: 0\n",
      "labelEntidade: 3\n",
      "nao achou: EM FO , LOCAL FIOS AÇO , EM\n",
      "labelEntidadeTrue: 0\n",
      "labelEntidade: 3\n",
      "nao achou: FO , LOCAL FIOS AÇO , EM QUEIMAÇÃO\n",
      "labelEntidadeTrue: 0\n",
      "labelEntidade: 0\n",
      "nao achou: DOR REGIAO ESTERNAL , EM FO , LOCAL FIOS\n",
      "labelEntidadeTrue: 0\n",
      "labelEntidade: 0\n",
      "nao achou: REGIAO ESTERNAL , EM FO , LOCAL FIOS AÇO\n",
      "labelEntidadeTrue: 0\n",
      "labelEntidade: 3\n",
      "nao achou: ESTERNAL , EM FO , LOCAL FIOS AÇO ,\n",
      "labelEntidadeTrue: 0\n",
      "labelEntidade: 3\n",
      "nao achou: EM FO , LOCAL FIOS AÇO , EM QUEIMAÇÃO\n",
      "labelEntidadeTrue: 0\n",
      "labelEntidade: 0\n",
      "nao achou: DOR REGIAO ESTERNAL , EM FO , LOCAL FIOS AÇO\n",
      "labelEntidadeTrue: 0\n",
      "labelEntidade: 0\n",
      "nao achou: REGIAO ESTERNAL , EM FO , LOCAL FIOS AÇO ,\n",
      "labelEntidadeTrue: 0\n",
      "labelEntidade: 3\n",
      "nao achou: ESTERNAL , EM FO , LOCAL FIOS AÇO , EM\n",
      "labelEntidadeTrue: 0\n",
      "labelEntidade: 3\n",
      "nao achou: , EM FO , LOCAL FIOS AÇO , EM QUEIMAÇÃO\n",
      "labelEntidadeTrue: 0\n",
      "labelEntidade: 0\n",
      "nao achou: DOR REGIAO ESTERNAL , EM FO , LOCAL FIOS AÇO ,\n",
      "labelEntidadeTrue: 0\n",
      "labelEntidade: 0\n",
      "nao achou: REGIAO ESTERNAL , EM FO , LOCAL FIOS AÇO , EM\n",
      "labelEntidadeTrue: 0\n",
      "labelEntidade: 3\n",
      "nao achou: ESTERNAL , EM FO , LOCAL FIOS AÇO , EM QUEIMAÇÃO\n",
      "labelEntidadeTrue: 0\n",
      "labelEntidade: 0\n",
      "nao achou: DOR REGIAO ESTERNAL , EM FO , LOCAL FIOS AÇO , EM\n",
      "labelEntidadeTrue: 0\n",
      "labelEntidade: 0\n",
      "nao achou: REGIAO ESTERNAL , EM FO , LOCAL FIOS AÇO , EM QUEIMAÇÃO\n",
      "labelEntidadeTrue: 0\n",
      "labelEntidade: 0\n",
      "nao achou: Labs\n",
      "labelEntidadeTrue: 0\n",
      "labelEntidade: 2\n",
      "nao achou: Homoenxerto aortico\n",
      "labelEntidadeTrue: 0\n",
      "labelEntidade: 1\n",
      "nao achou: mitral\n",
      "labelEntidadeTrue: 0\n",
      "labelEntidade: 3\n",
      "nao achou: ALteração do relaxamento do VE AE dilatado\n",
      "labelEntidadeTrue: 0\n",
      "labelEntidade: 0\n",
      "nao achou: VE AE\n",
      "labelEntidadeTrue: 0\n",
      "labelEntidade: 3\n",
      "nao achou: do VE AE\n",
      "labelEntidadeTrue: 0\n",
      "labelEntidade: 3\n",
      "nao achou: VE AE dilatado\n",
      "labelEntidadeTrue: 0\n",
      "labelEntidade: 0\n",
      "nao achou: relaxamento do VE AE\n",
      "labelEntidadeTrue: 0\n",
      "labelEntidade: 0\n",
      "nao achou: do VE AE dilatado\n",
      "labelEntidadeTrue: 0\n",
      "labelEntidade: 0\n",
      "nao achou: relaxamento do VE AE dilatado\n",
      "labelEntidadeTrue: 0\n",
      "labelEntidade: 0\n",
      "nao achou: ALteração do relaxamento do VE AE\n",
      "labelEntidadeTrue: 0\n",
      "labelEntidade: 0\n",
      "nao achou: do relaxamento do VE AE dilatado\n",
      "labelEntidadeTrue: 0\n",
      "labelEntidade: 0\n",
      "nao achou: FC79 PA\n",
      "labelEntidadeTrue: 0\n",
      "labelEntidade: 2\n",
      "nao achou: pontos suttura esterno\n",
      "labelEntidadeTrue: 0\n",
      "labelEntidade: 1\n",
      "nao achou: suttura esterno\n",
      "labelEntidadeTrue: 0\n",
      "labelEntidade: 1\n",
      "nao achou: RELATO DE SANGRAMENTOS\n",
      "labelEntidadeTrue: 0\n",
      "labelEntidade: 0\n",
      "nao achou: DE GRAVIDADE\n",
      "labelEntidadeTrue: 0\n",
      "labelEntidade: 0\n",
      "nao achou: MEDICAÇÃO DE USO\n",
      "labelEntidadeTrue: 0\n",
      "labelEntidade: 1\n",
      "nao achou: MITRAL DISCRETO\n",
      "labelEntidadeTrue: 0\n"
     ]
    },
    {
     "name": "stdout",
     "output_type": "stream",
     "text": [
      "labelEntidade: 0\n",
      "nao achou: ASC\n",
      "labelEntidadeTrue: 0\n",
      "labelEntidade: 2\n",
      "nao achou: de MMII\n",
      "labelEntidadeTrue: 0\n",
      "labelEntidade: 3\n",
      "nao achou: Jaleco Branco\n",
      "labelEntidadeTrue: 0\n",
      "labelEntidade: 0\n",
      "nao achou: ESTENOSE MOD + INSUF\n",
      "labelEntidadeTrue: 0\n",
      "labelEntidade: 0\n",
      "nao achou: MOD + INSUF DISCRETA\n",
      "labelEntidadeTrue: 0\n",
      "labelEntidade: 0\n",
      "nao achou: DUPLA LESAO AO ESTENOSE MOD\n",
      "labelEntidadeTrue: 0\n",
      "labelEntidade: 0\n",
      "nao achou: LESAO AO ESTENOSE MOD +\n",
      "labelEntidadeTrue: 0\n",
      "labelEntidade: 0\n",
      "nao achou: AO ESTENOSE MOD + INSUF\n",
      "labelEntidadeTrue: 0\n",
      "labelEntidade: 0\n",
      "nao achou: ESTENOSE MOD + INSUF DISCRETA\n",
      "labelEntidadeTrue: 0\n",
      "labelEntidade: 0\n",
      "nao achou: DUPLA LESAO AO ESTENOSE MOD +\n",
      "labelEntidadeTrue: 0\n",
      "labelEntidade: 0\n",
      "nao achou: LESAO AO ESTENOSE MOD + INSUF\n",
      "labelEntidadeTrue: 0\n",
      "labelEntidade: 0\n",
      "nao achou: AO ESTENOSE MOD + INSUF DISCRETA\n",
      "labelEntidadeTrue: 0\n",
      "labelEntidade: 0\n",
      "nao achou: DUPLA LESAO AO ESTENOSE MOD + INSUF\n",
      "labelEntidadeTrue: 0\n",
      "labelEntidade: 0\n",
      "nao achou: LESAO AO ESTENOSE MOD + INSUF DISCRETA\n",
      "labelEntidadeTrue: 0\n",
      "labelEntidade: 0\n",
      "nao achou: TX CARDIACO\n",
      "labelEntidadeTrue: 0\n",
      "labelEntidade: 1\n",
      "nao achou: CAROTIDAS + VERTEBRAIS\n",
      "labelEntidadeTrue: 0\n",
      "labelEntidade: 3\n",
      "nao achou: CERVICAL\n",
      "labelEntidadeTrue: 0\n",
      "labelEntidade: 3\n",
      "nao achou: D\n",
      "labelEntidadeTrue: 0\n",
      "labelEntidade: 3\n",
      "nao achou: VE DILATADO\n",
      "labelEntidadeTrue: 0\n",
      "labelEntidade: 0\n",
      "nao achou: DOR NA FO SOMENTE AOS MOVIMENTOS E AO TOSSIR\n",
      "labelEntidadeTrue: 0\n",
      "labelEntidade: 0\n",
      "nao achou: FO SOMENTE AOS MOVIMENTOS\n",
      "labelEntidadeTrue: 0\n",
      "labelEntidade: 0\n",
      "nao achou: DOR NA FO SOMENTE AOS MOVIMENTOS\n",
      "labelEntidadeTrue: 0\n",
      "labelEntidade: 0\n",
      "nao achou: FO SOMENTE AOS MOVIMENTOS E AO TOSSIR\n",
      "labelEntidadeTrue: 0\n",
      "labelEntidade: 0\n",
      "nao achou: DOR NA FO SOMENTE AOS MOVIMENTOS E AO\n",
      "labelEntidadeTrue: 0\n",
      "labelEntidade: 0\n",
      "nao achou: NA FO SOMENTE AOS MOVIMENTOS E AO TOSSIR\n",
      "labelEntidadeTrue: 0\n",
      "labelEntidade: 0\n",
      "nao achou: HIPOCORADO + / 4 +\n",
      "labelEntidadeTrue: 0\n",
      "labelEntidade: 0\n",
      "nao achou: BIOPSIA\n",
      "labelEntidadeTrue: 0\n",
      "labelEntidade: 2\n",
      "nao achou: CICLOSPORINA 100\n",
      "labelEntidadeTrue: 0\n",
      "labelEntidade: 1\n",
      "nao achou: MITRAL DISCRETO\n",
      "labelEntidadeTrue: 0\n",
      "labelEntidade: 0\n",
      "nao achou: ECODOPPLER ARTERIAR MMII ESQ\n",
      "labelEntidadeTrue: 0\n",
      "labelEntidade: 2\n",
      "nao achou: ARTERIAR MMII\n",
      "labelEntidadeTrue: 0\n",
      "labelEntidade: 3\n",
      "nao achou: ECODOPPLER ARTERIAR MMII\n",
      "labelEntidadeTrue: 0\n",
      "labelEntidade: 2\n",
      "nao achou: ARTERIAR MMII ESQ\n",
      "labelEntidadeTrue: 0\n",
      "labelEntidade: 3\n",
      "nao achou: DA BIFURCAÇÃO DOS VASOS FEMORAIS\n",
      "labelEntidadeTrue: 0\n",
      "labelEntidade: 3\n",
      "nao achou: DA ARTERIA POPLITEA MEDIO DISTAL\n",
      "labelEntidadeTrue: 0\n",
      "labelEntidade: 3\n",
      "nao achou: OCLUSAO DA ARTERIA TIBIAL\n",
      "labelEntidadeTrue: 0\n",
      "labelEntidade: 0\n",
      "nao achou: DA ARTERIA TIBIAL POSTERIOR\n",
      "labelEntidadeTrue: 0\n",
      "labelEntidade: 3\n",
      "nao achou: Diclin\n",
      "labelEntidadeTrue: 0\n",
      "labelEntidade: 1\n",
      "nao achou: ACO\n",
      "labelEntidadeTrue: 0\n",
      "labelEntidade: 1\n",
      "nao achou: síncope inicio\n",
      "labelEntidadeTrue: 0\n",
      "labelEntidade: 0\n",
      "nao achou: nervosismo\n",
      "labelEntidadeTrue: 0\n",
      "labelEntidade: 0\n",
      "nao achou: musculares na panturrilha\n",
      "labelEntidadeTrue: 0\n",
      "labelEntidade: 3\n",
      "nao achou: Pulso MMII pedioso poplíteo e femoral\n",
      "labelEntidadeTrue: 0\n",
      "labelEntidade: 0\n",
      "nao achou: Pulso MMII pedioso\n",
      "labelEntidadeTrue: 0\n",
      "labelEntidade: 0\n",
      "nao achou: Pulso MMII pedioso poplíteo\n",
      "labelEntidadeTrue: 0\n",
      "labelEntidade: 0\n",
      "nao achou: MMII pedioso poplíteo e\n",
      "labelEntidadeTrue: 0\n",
      "labelEntidade: 3\n",
      "nao achou: Pulso MMII pedioso poplíteo e\n",
      "labelEntidadeTrue: 0\n",
      "labelEntidade: 0\n",
      "nao achou: MMII pedioso poplíteo e femoral\n",
      "labelEntidadeTrue: 0\n",
      "labelEntidade: 3\n",
      "nao achou: medicações\n",
      "labelEntidadeTrue: 0\n",
      "labelEntidade: 1\n",
      "nao achou: RESSINCRONIZADOR\n",
      "labelEntidadeTrue: 0\n",
      "labelEntidade: 1\n",
      "nao achou: ANCORON\n",
      "labelEntidadeTrue: 0\n",
      "labelEntidade: 1\n",
      "nao achou: ANCORON ( AMIODARONA\n",
      "labelEntidadeTrue: 0\n",
      "labelEntidade: 1\n",
      "nao achou: PIORA AOS ESFORÇOS\n",
      "labelEntidadeTrue: 0\n",
      "labelEntidade: 0\n",
      "nao achou: DISPNEIA\n",
      "labelEntidadeTrue: 0\n",
      "labelEntidade: 0\n",
      "nao achou: FADIGA AO SUBIR ESCADAS\n",
      "labelEntidadeTrue: 0\n",
      "labelEntidade: 0\n",
      "nao achou: MP\n",
      "labelEntidadeTrue: 0\n",
      "labelEntidade: 1\n",
      "nao achou: CATETERISMOS\n",
      "labelEntidadeTrue: 0\n",
      "labelEntidade: 2\n",
      "nao achou: CHAGAS\n",
      "labelEntidadeTrue: 0\n",
      "labelEntidade: 0\n",
      "nao achou: CHDV\n",
      "labelEntidadeTrue: 0\n",
      "labelEntidade: 0\n",
      "nao achou: EXERCÍCIO FÍSICO\n",
      "labelEntidadeTrue: 0\n",
      "labelEntidade: 0\n",
      "nao achou: STRESS\n",
      "labelEntidadeTrue: 0\n",
      "labelEntidade: 0\n",
      "nao achou: DIPIRIDAMOL\n",
      "labelEntidadeTrue: 0\n",
      "labelEntidade: 1\n",
      "nao achou: 100 MCG\n",
      "labelEntidadeTrue: 0\n",
      "labelEntidade: 1\n",
      "nao achou: LEVOTIROXINA PARA 100\n",
      "labelEntidadeTrue: 0\n",
      "labelEntidade: 1\n",
      "nao achou: PARA 100 MCG\n",
      "labelEntidadeTrue: 0\n",
      "labelEntidade: 1\n",
      "nao achou: SINVASTATINA\n",
      "labelEntidadeTrue: 0\n",
      "labelEntidade: 1\n",
      "nao achou: T4\n",
      "labelEntidadeTrue: 0\n",
      "labelEntidade: 2\n",
      "nao achou: CINTILOGRAFIA MIOCÁRDICA\n",
      "labelEntidadeTrue: 0\n",
      "labelEntidade: 2\n",
      "nao achou: DIPIRIDAMOL\n",
      "labelEntidadeTrue: 0\n",
      "labelEntidade: 1\n",
      "nao achou: DOR TORÁCICA PRECORDIAL TIPO\n",
      "labelEntidadeTrue: 0\n",
      "labelEntidade: 0\n",
      "nao achou: TORÁCICA PRECORDIAL TIPO QUEIMAÇÃO\n",
      "labelEntidadeTrue: 0\n",
      "labelEntidade: 0\n",
      "nao achou: NITRATO\n",
      "labelEntidadeTrue: 0\n",
      "labelEntidade: 1\n",
      "nao achou: RELAÇÃO COM O ESFORÇO\n",
      "labelEntidadeTrue: 0\n",
      "labelEntidade: 0\n",
      "nao achou: DE MMII\n",
      "labelEntidadeTrue: 0\n",
      "labelEntidade: 3\n",
      "nao achou: FRIO\n",
      "labelEntidadeTrue: 0\n",
      "labelEntidade: 3\n",
      "nao achou: MASSAS\n",
      "labelEntidadeTrue: 0\n",
      "labelEntidade: 0\n",
      "nao achou: PALPAVEIS\n",
      "labelEntidadeTrue: 0\n",
      "labelEntidade: 0\n",
      "nao achou: PERFUSÃO MIOCÁRDICA\n",
      "labelEntidadeTrue: 0\n",
      "labelEntidade: 0\n",
      "nao achou: arritmias\n",
      "labelEntidadeTrue: 0\n",
      "labelEntidade: 0\n",
      "nao achou: terapias\n",
      "labelEntidadeTrue: 0\n",
      "labelEntidade: 1\n",
      "nao achou: eletrodos atrial\n",
      "labelEntidadeTrue: 0\n",
      "labelEntidade: 1\n",
      "nao achou: FRENTISTA\n",
      "labelEntidadeTrue: 0\n",
      "labelEntidade: 0\n",
      "nao achou: EMAGRECIMENTO\n",
      "labelEntidadeTrue: 0\n",
      "labelEntidade: 0\n",
      "nao achou: CARVEDILOL\n",
      "labelEntidadeTrue: 0\n",
      "labelEntidade: 1\n",
      "nao achou: MMII EDEMA + / 4 +\n",
      "labelEntidadeTrue: 0\n",
      "labelEntidade: 0\n",
      "nao achou: HORÁRIO\n",
      "labelEntidadeTrue: 0\n",
      "labelEntidade: 2\n",
      "nao achou: IMP\n",
      "labelEntidadeTrue: 0\n",
      "labelEntidade: 2\n",
      "nao achou: IMP\n",
      "labelEntidadeTrue: 0\n",
      "labelEntidade: 2\n",
      "nao achou: auto captura\n",
      "labelEntidadeTrue: 0\n",
      "labelEntidade: 1\n",
      "nao achou: captura\n",
      "labelEntidadeTrue: 0\n",
      "labelEntidade: 1\n",
      "nao achou: taquicardia atrial\n",
      "labelEntidadeTrue: 0\n",
      "labelEntidade: 0\n",
      "nao achou: taquicardia\n",
      "labelEntidadeTrue: 0\n",
      "labelEntidade: 0\n",
      "nao achou: aberrância\n",
      "labelEntidadeTrue: 0\n",
      "labelEntidade: 0\n",
      "nao achou: endocrino\n",
      "labelEntidadeTrue: 0\n",
      "labelEntidade: 1\n",
      "nao achou: extra - sistole supra - ventricular\n",
      "labelEntidadeTrue: 0\n",
      "labelEntidade: 3\n",
      "nao achou: extra\n",
      "labelEntidadeTrue: 0\n",
      "labelEntidade: 3\n",
      "nao achou: extra - sistole supra\n",
      "labelEntidadeTrue: 0\n",
      "labelEntidade: 3\n",
      "nao achou: sistole supra - ventricular\n",
      "labelEntidadeTrue: 0\n",
      "labelEntidade: 3\n",
      "nao achou: extra - sistole supra -\n",
      "labelEntidadeTrue: 0\n",
      "labelEntidade: 3\n",
      "nao achou: - sistole supra - ventricular\n",
      "labelEntidadeTrue: 0\n",
      "labelEntidade: 3\n",
      "nao achou: ST\n",
      "labelEntidadeTrue: 0\n",
      "labelEntidade: 3\n",
      "nao achou: PA130\n",
      "labelEntidadeTrue: 0\n",
      "labelEntidade: 2\n",
      "nao achou: medicações\n",
      "labelEntidadeTrue: 0\n",
      "labelEntidade: 1\n",
      "nao achou: Omeprazol 20m mg\n",
      "labelEntidadeTrue: 0\n",
      "labelEntidade: 1\n",
      "nao achou: Teste de esforço\n",
      "labelEntidadeTrue: 0\n",
      "labelEntidade: 2\n",
      "nao achou: Resposta tensional\n",
      "labelEntidadeTrue: 0\n",
      "labelEntidade: 0\n",
      "nao achou: DIMENSÃO INTERNA\n",
      "labelEntidadeTrue: 0\n",
      "labelEntidade: 0\n",
      "nao achou: CONTRATILIDADE MIOCARDICA\n",
      "labelEntidadeTrue: 0\n",
      "labelEntidade: 0\n",
      "nao achou: FLUXOS VALVARES\n",
      "labelEntidadeTrue: 0\n",
      "labelEntidade: 0\n",
      "nao achou: VDC\n",
      "labelEntidadeTrue: 0\n",
      "labelEntidade: 3\n",
      "len(regiao_pred): 1008\n",
      "len(regiao_true): 1008\n",
      "regiao_pred[:4]: ['0', '1', '0', '0']\n",
      "regiao_true[:4]: ['0', '1', '0', '0']\n",
      "              precision    recall  f1-score   support\n",
      "\n",
      "           0      0.764     0.980     0.858       402\n",
      "           1      0.965     0.804     0.877       204\n",
      "           2      0.995     0.891     0.940       247\n",
      "           3      0.980     0.639     0.773       155\n",
      "\n",
      "    accuracy                          0.870      1008\n",
      "   macro avg      0.926     0.828     0.862      1008\n",
      "weighted avg      0.894     0.870     0.869      1008\n",
      "\n"
     ]
    }
   ],
   "source": [
    "regiao_true=list()\n",
    "regiao_pred=list()\n",
    "\n",
    "getLabels=['Problema', 'Tratamento', 'Teste', 'Anatomia']\n",
    "\n",
    "#dicLabels={'O':'0', 'ENT':'1', 'Problema':'1', 'Tratamento':'1', 'Teste':'1', 'Anatomia':'1'}\n",
    "#dicLabels={'O':0, 'ENT':1, 'Problema':1, 'Tratamento':1, 'Teste':1, 'Anatomia':1}\n",
    "dicLabels={'Problema':'0', 'Tratamento':'1', 'Teste':'2', 'Anatomia':'3'}\n",
    "#dicLabels={0:'Problema', 1:'Tratamento', 2:'Teste', 3:'Anatomia'}\n",
    "#labels = {0:'Problema', 1:'Tratamento', 2:'Teste', 3:'Anatomia'}\n",
    "\n",
    "num=0\n",
    "for ent, label in zip(listaPredictFrases, pred_region_labels):\n",
    "    #print('--ent--', ent)\n",
    "    #print('label:', label)\n",
    "    numKey=dicPred[num]\n",
    "    listaTrue=dic_sentencesTest[numKey][1]\n",
    "    num=num+1\n",
    "    if num<BATCH:    \n",
    "        #print('num:', num)\n",
    "        #print('listaTrue:', listaTrue)\n",
    "        #print('ent:',ent)\n",
    "        for numEnt, entidade in enumerate(ent):\n",
    "            #print('entidade:', entidade)\n",
    "            #print('numEnt:', numEnt)\n",
    "            #print('label[numEnt]:', label[numEnt])\n",
    "            textoEntidade=entidade[0]\n",
    "            labelEntidade=str(label[numEnt])\n",
    "            #labelEntidade=dicLabels[label[numEnt]]\n",
    "            #labelEntidade='0'\n",
    "            #labelEntidadeTrue='Problema'\n",
    "            labelEntidadeTrue='0'\n",
    "            \n",
    "            tem=0\n",
    "            '''\n",
    "            print('listaTrue[numEnt]:', listaTrue[numEnt])\n",
    "            if listaTrue[numEnt][0] == textoEntidade:\n",
    "                #tem=1\n",
    "                labelEntidadeTrue = dicLabels[listaTrue[numEnt][2]]\n",
    "            print('labelEntidadeTrue:', labelEntidadeTrue)\n",
    "            print('labelEntidade:', labelEntidade)\n",
    "            regiao_true.append(labelEntidadeTrue)\n",
    "            regiao_pred.append(labelEntidade)\n",
    "            '''\n",
    "\n",
    "            for entTrue in listaTrue:\n",
    "                textoEntidadeTrue=entTrue[0]\n",
    "                #print('textoEntidadeTrue:', textoEntidadeTrue)\n",
    "                if textoEntidade == textoEntidadeTrue:\n",
    "                    #print('temmm:', textoEntidade)\n",
    "                    tem=1\n",
    "                    labelEntidadeTrue = dicLabels[entTrue[2]]\n",
    "                    #labelEntidadeTrue = entTrue[2]\n",
    "                    regiao_true.append(labelEntidadeTrue)\n",
    "                    regiao_pred.append(labelEntidade)\n",
    "            if tem==0:\n",
    "                print('nao achou:', textoEntidade)\n",
    "                print('labelEntidadeTrue:', labelEntidadeTrue)\n",
    "                print('labelEntidade:', labelEntidade)\n",
    "                regiao_true.append(labelEntidadeTrue)\n",
    "                regiao_pred.append(labelEntidade)\n",
    "                \n",
    "       \n",
    "                \n",
    "    #if num>40:\n",
    "    #    break\n",
    "print('len(regiao_pred):', len(regiao_pred))\n",
    "print('len(regiao_true):', len(regiao_true))\n",
    "\n",
    "print('regiao_pred[:4]:', regiao_pred[:4])\n",
    "print('regiao_true[:4]:', regiao_true[:4])\n",
    "\n",
    "print(flat_classification_report(\n",
    "    regiao_pred, regiao_true, labels=['0','1','2','3'], digits=3\n",
    "    #regiao_pred, regiao_true, labels=getLabels, digits=3\n",
    "))"
   ]
  },
  {
   "cell_type": "code",
   "execution_count": 272,
   "metadata": {},
   "outputs": [
    {
     "data": {
      "text/plain": [
       "[[['FA',\n",
       "   'Em acompanhamento no ambualtorio há 5 anos por FA , uso de marevan 5mg 1 x ao dia .'],\n",
       "  ['marevan 5mg',\n",
       "   'Em acompanhamento no ambualtorio há 5 anos por FA , uso de marevan 5mg 1 x ao dia .']],\n",
       " [['Comorbidades',\n",
       "   'Comorbidades : DM há 10 anos em uso de metformina 850mg 3 cp / dia , acarbose 1 cp / dia e glicazida 60mg 2 cp / dia e insulina ( 24 - 0 - 24 ) .'],\n",
       "  ['DM',\n",
       "   'Comorbidades : DM há 10 anos em uso de metformina 850mg 3 cp / dia , acarbose 1 cp / dia e glicazida 60mg 2 cp / dia e insulina ( 24 - 0 - 24 ) .'],\n",
       "  ['metformina 850mg',\n",
       "   'Comorbidades : DM há 10 anos em uso de metformina 850mg 3 cp / dia , acarbose 1 cp / dia e glicazida 60mg 2 cp / dia e insulina ( 24 - 0 - 24 ) .'],\n",
       "  ['acarbose',\n",
       "   'Comorbidades : DM há 10 anos em uso de metformina 850mg 3 cp / dia , acarbose 1 cp / dia e glicazida 60mg 2 cp / dia e insulina ( 24 - 0 - 24 ) .'],\n",
       "  ['glicazida 60mg',\n",
       "   'Comorbidades : DM há 10 anos em uso de metformina 850mg 3 cp / dia , acarbose 1 cp / dia e glicazida 60mg 2 cp / dia e insulina ( 24 - 0 - 24 ) .'],\n",
       "  ['insulina',\n",
       "   'Comorbidades : DM há 10 anos em uso de metformina 850mg 3 cp / dia , acarbose 1 cp / dia e glicazida 60mg 2 cp / dia e insulina ( 24 - 0 - 24 ) .']],\n",
       " [['HAS',\n",
       "   'HAS há 15 anos em uso de losartana 50mg / dia e digoxina 1 / 2 cp / dia , carvedilol 25 12 / 12 , HCTZ .'],\n",
       "  ['losartana 50mg',\n",
       "   'HAS há 15 anos em uso de losartana 50mg / dia e digoxina 1 / 2 cp / dia , carvedilol 25 12 / 12 , HCTZ .'],\n",
       "  ['digoxina',\n",
       "   'HAS há 15 anos em uso de losartana 50mg / dia e digoxina 1 / 2 cp / dia , carvedilol 25 12 / 12 , HCTZ .'],\n",
       "  ['carvedilol 25',\n",
       "   'HAS há 15 anos em uso de losartana 50mg / dia e digoxina 1 / 2 cp / dia , carvedilol 25 12 / 12 , HCTZ .'],\n",
       "  ['HCTZ',\n",
       "   'HAS há 15 anos em uso de losartana 50mg / dia e digoxina 1 / 2 cp / dia , carvedilol 25 12 / 12 , HCTZ .']],\n",
       " [['DSLP',\n",
       "   'DSLP em uso de sinvastatina , marevan 1 cp / dia seg - sab para no alvo sic .'],\n",
       "  ['sinvastatina',\n",
       "   'DSLP em uso de sinvastatina , marevan 1 cp / dia seg - sab para no alvo sic .'],\n",
       "  ['marevan',\n",
       "   'DSLP em uso de sinvastatina , marevan 1 cp / dia seg - sab para no alvo sic .']],\n",
       " [['dispnéia', 'Nega dispnéia , DPN e ortopneia , palpitações e sincope .'],\n",
       "  ['DPN', 'Nega dispnéia , DPN e ortopneia , palpitações e sincope .'],\n",
       "  ['ortopneia', 'Nega dispnéia , DPN e ortopneia , palpitações e sincope .'],\n",
       "  ['palpitações', 'Nega dispnéia , DPN e ortopneia , palpitações e sincope .'],\n",
       "  ['sincope', 'Nega dispnéia , DPN e ortopneia , palpitações e sincope .']],\n",
       " [['afebril',\n",
       "   'O : BEG , corada , hidtratada , afebril , fc 63 , so2 97 % , pa 130 / 80 ; MV presente , simétrico , sem RA .'],\n",
       "  ['so2',\n",
       "   'O : BEG , corada , hidtratada , afebril , fc 63 , so2 97 % , pa 130 / 80 ; MV presente , simétrico , sem RA .'],\n",
       "  ['pa',\n",
       "   'O : BEG , corada , hidtratada , afebril , fc 63 , so2 97 % , pa 130 / 80 ; MV presente , simétrico , sem RA .'],\n",
       "  ['RA',\n",
       "   'O : BEG , corada , hidtratada , afebril , fc 63 , so2 97 % , pa 130 / 80 ; MV presente , simétrico , sem RA .']],\n",
       " [['SS', 'BC arritmicas , NF SS 2T .']],\n",
       " [['Abd', 'Abd globoso , flacido , indolor a palpacao , sem VCM .'],\n",
       "  ['VCM', 'Abd globoso , flacido , indolor a palpacao , sem VCM .']],\n",
       " [['MMII', 'MMII sem edema , panturrilhas livres .']],\n",
       " [['Exames', 'Exames - Holter : FC controlada , media 92 .'],\n",
       "  ['Holter', 'Exames - Holter : FC controlada , media 92 .']],\n",
       " [['Cr',\n",
       "   'Cr - 0 , 7 ; glic - 140 ; ureia - 33 ; CPK - 68 , Triglerideos - 335 ; HDL - 30 ; CT - 216 ; LDL - 119 ; K - 5 , 1 ; RNI - 2 , 07 ; Microalbuminúria 308 mg / g .'],\n",
       "  ['glic',\n",
       "   'Cr - 0 , 7 ; glic - 140 ; ureia - 33 ; CPK - 68 , Triglerideos - 335 ; HDL - 30 ; CT - 216 ; LDL - 119 ; K - 5 , 1 ; RNI - 2 , 07 ; Microalbuminúria 308 mg / g .'],\n",
       "  ['ureia',\n",
       "   'Cr - 0 , 7 ; glic - 140 ; ureia - 33 ; CPK - 68 , Triglerideos - 335 ; HDL - 30 ; CT - 216 ; LDL - 119 ; K - 5 , 1 ; RNI - 2 , 07 ; Microalbuminúria 308 mg / g .'],\n",
       "  ['CPK',\n",
       "   'Cr - 0 , 7 ; glic - 140 ; ureia - 33 ; CPK - 68 , Triglerideos - 335 ; HDL - 30 ; CT - 216 ; LDL - 119 ; K - 5 , 1 ; RNI - 2 , 07 ; Microalbuminúria 308 mg / g .'],\n",
       "  ['Triglerideos',\n",
       "   'Cr - 0 , 7 ; glic - 140 ; ureia - 33 ; CPK - 68 , Triglerideos - 335 ; HDL - 30 ; CT - 216 ; LDL - 119 ; K - 5 , 1 ; RNI - 2 , 07 ; Microalbuminúria 308 mg / g .'],\n",
       "  ['HDL',\n",
       "   'Cr - 0 , 7 ; glic - 140 ; ureia - 33 ; CPK - 68 , Triglerideos - 335 ; HDL - 30 ; CT - 216 ; LDL - 119 ; K - 5 , 1 ; RNI - 2 , 07 ; Microalbuminúria 308 mg / g .'],\n",
       "  ['CT',\n",
       "   'Cr - 0 , 7 ; glic - 140 ; ureia - 33 ; CPK - 68 , Triglerideos - 335 ; HDL - 30 ; CT - 216 ; LDL - 119 ; K - 5 , 1 ; RNI - 2 , 07 ; Microalbuminúria 308 mg / g .'],\n",
       "  ['LDL',\n",
       "   'Cr - 0 , 7 ; glic - 140 ; ureia - 33 ; CPK - 68 , Triglerideos - 335 ; HDL - 30 ; CT - 216 ; LDL - 119 ; K - 5 , 1 ; RNI - 2 , 07 ; Microalbuminúria 308 mg / g .'],\n",
       "  ['K',\n",
       "   'Cr - 0 , 7 ; glic - 140 ; ureia - 33 ; CPK - 68 , Triglerideos - 335 ; HDL - 30 ; CT - 216 ; LDL - 119 ; K - 5 , 1 ; RNI - 2 , 07 ; Microalbuminúria 308 mg / g .'],\n",
       "  ['RNI',\n",
       "   'Cr - 0 , 7 ; glic - 140 ; ureia - 33 ; CPK - 68 , Triglerideos - 335 ; HDL - 30 ; CT - 216 ; LDL - 119 ; K - 5 , 1 ; RNI - 2 , 07 ; Microalbuminúria 308 mg / g .']],\n",
       " [['Ecocardiograma',\n",
       "   'Ecocardiograma - ventrículo esquerdo com hipertrofia concentrica de grau discreto e função sistólica preservada .'],\n",
       "  ['concentrica de grau discreto',\n",
       "   'Ecocardiograma - ventrículo esquerdo com hipertrofia concentrica de grau discreto e função sistólica preservada .']],\n",
       " [['aumento moderado de átrio esquerdo',\n",
       "   'aumento moderado de átrio esquerdo .']],\n",
       " [],\n",
       " [['FA', 'A : FA .']],\n",
       " [['PA',\n",
       "   'PA - 120 / 80 , P - 72 , bulhas arritimicas , normofonéticas , sem sopros .'],\n",
       "  ['P',\n",
       "   'PA - 120 / 80 , P - 72 , bulhas arritimicas , normofonéticas , sem sopros .'],\n",
       "  ['sopros',\n",
       "   'PA - 120 / 80 , P - 72 , bulhas arritimicas , normofonéticas , sem sopros .']],\n",
       " [['Abdomen', 'Abdomen flácido , indolor , sem visceromegalias .'],\n",
       "  ['visceromegalias', 'Abdomen flácido , indolor , sem visceromegalias .']],\n",
       " [['alterações nos MMII', 'Sem alterações nos MMII .'],\n",
       "  ['nos MMII', 'Sem alterações nos MMII .']],\n",
       " [['dose da sinvastatina para 40mg',\n",
       "   'Otimizo dose da sinvastatina para 40mg / dia .']],\n",
       " [['HAS',\n",
       "   '# Lucas , 78 anos * HAS , * Gota , * DAC - IAM + ATC em 2012 ( angina instavel ) - Ecocardiograma mar / 14 : FE 42 % / comprometimento difuso do VE grau moderado , insuf Mi discreta , insuf Tri discreta , hipetensao pulmonar discreta .'],\n",
       "  ['Gota',\n",
       "   '# Lucas , 78 anos * HAS , * Gota , * DAC - IAM + ATC em 2012 ( angina instavel ) - Ecocardiograma mar / 14 : FE 42 % / comprometimento difuso do VE grau moderado , insuf Mi discreta , insuf Tri discreta , hipetensao pulmonar discreta .'],\n",
       "  ['DAC',\n",
       "   '# Lucas , 78 anos * HAS , * Gota , * DAC - IAM + ATC em 2012 ( angina instavel ) - Ecocardiograma mar / 14 : FE 42 % / comprometimento difuso do VE grau moderado , insuf Mi discreta , insuf Tri discreta , hipetensao pulmonar discreta .'],\n",
       "  ['IAM',\n",
       "   '# Lucas , 78 anos * HAS , * Gota , * DAC - IAM + ATC em 2012 ( angina instavel ) - Ecocardiograma mar / 14 : FE 42 % / comprometimento difuso do VE grau moderado , insuf Mi discreta , insuf Tri discreta , hipetensao pulmonar discreta .'],\n",
       "  ['ATC',\n",
       "   '# Lucas , 78 anos * HAS , * Gota , * DAC - IAM + ATC em 2012 ( angina instavel ) - Ecocardiograma mar / 14 : FE 42 % / comprometimento difuso do VE grau moderado , insuf Mi discreta , insuf Tri discreta , hipetensao pulmonar discreta .'],\n",
       "  ['angina instavel',\n",
       "   '# Lucas , 78 anos * HAS , * Gota , * DAC - IAM + ATC em 2012 ( angina instavel ) - Ecocardiograma mar / 14 : FE 42 % / comprometimento difuso do VE grau moderado , insuf Mi discreta , insuf Tri discreta , hipetensao pulmonar discreta .'],\n",
       "  ['angina',\n",
       "   '# Lucas , 78 anos * HAS , * Gota , * DAC - IAM + ATC em 2012 ( angina instavel ) - Ecocardiograma mar / 14 : FE 42 % / comprometimento difuso do VE grau moderado , insuf Mi discreta , insuf Tri discreta , hipetensao pulmonar discreta .'],\n",
       "  ['instavel',\n",
       "   '# Lucas , 78 anos * HAS , * Gota , * DAC - IAM + ATC em 2012 ( angina instavel ) - Ecocardiograma mar / 14 : FE 42 % / comprometimento difuso do VE grau moderado , insuf Mi discreta , insuf Tri discreta , hipetensao pulmonar discreta .'],\n",
       "  ['Ecocardiograma',\n",
       "   '# Lucas , 78 anos * HAS , * Gota , * DAC - IAM + ATC em 2012 ( angina instavel ) - Ecocardiograma mar / 14 : FE 42 % / comprometimento difuso do VE grau moderado , insuf Mi discreta , insuf Tri discreta , hipetensao pulmonar discreta .'],\n",
       "  ['comprometimento difuso do VE grau moderado',\n",
       "   '# Lucas , 78 anos * HAS , * Gota , * DAC - IAM + ATC em 2012 ( angina instavel ) - Ecocardiograma mar / 14 : FE 42 % / comprometimento difuso do VE grau moderado , insuf Mi discreta , insuf Tri discreta , hipetensao pulmonar discreta .'],\n",
       "  ['VE grau moderado',\n",
       "   '# Lucas , 78 anos * HAS , * Gota , * DAC - IAM + ATC em 2012 ( angina instavel ) - Ecocardiograma mar / 14 : FE 42 % / comprometimento difuso do VE grau moderado , insuf Mi discreta , insuf Tri discreta , hipetensao pulmonar discreta .'],\n",
       "  ['comprometimento difuso do VE',\n",
       "   '# Lucas , 78 anos * HAS , * Gota , * DAC - IAM + ATC em 2012 ( angina instavel ) - Ecocardiograma mar / 14 : FE 42 % / comprometimento difuso do VE grau moderado , insuf Mi discreta , insuf Tri discreta , hipetensao pulmonar discreta .'],\n",
       "  ['comprometimento difuso do VE grau',\n",
       "   '# Lucas , 78 anos * HAS , * Gota , * DAC - IAM + ATC em 2012 ( angina instavel ) - Ecocardiograma mar / 14 : FE 42 % / comprometimento difuso do VE grau moderado , insuf Mi discreta , insuf Tri discreta , hipetensao pulmonar discreta .'],\n",
       "  ['difuso do VE grau moderado',\n",
       "   '# Lucas , 78 anos * HAS , * Gota , * DAC - IAM + ATC em 2012 ( angina instavel ) - Ecocardiograma mar / 14 : FE 42 % / comprometimento difuso do VE grau moderado , insuf Mi discreta , insuf Tri discreta , hipetensao pulmonar discreta .'],\n",
       "  ['insuf Mi discreta',\n",
       "   '# Lucas , 78 anos * HAS , * Gota , * DAC - IAM + ATC em 2012 ( angina instavel ) - Ecocardiograma mar / 14 : FE 42 % / comprometimento difuso do VE grau moderado , insuf Mi discreta , insuf Tri discreta , hipetensao pulmonar discreta .'],\n",
       "  ['insuf Mi',\n",
       "   '# Lucas , 78 anos * HAS , * Gota , * DAC - IAM + ATC em 2012 ( angina instavel ) - Ecocardiograma mar / 14 : FE 42 % / comprometimento difuso do VE grau moderado , insuf Mi discreta , insuf Tri discreta , hipetensao pulmonar discreta .'],\n",
       "  ['Mi discreta',\n",
       "   '# Lucas , 78 anos * HAS , * Gota , * DAC - IAM + ATC em 2012 ( angina instavel ) - Ecocardiograma mar / 14 : FE 42 % / comprometimento difuso do VE grau moderado , insuf Mi discreta , insuf Tri discreta , hipetensao pulmonar discreta .'],\n",
       "  ['insuf Tri discreta',\n",
       "   '# Lucas , 78 anos * HAS , * Gota , * DAC - IAM + ATC em 2012 ( angina instavel ) - Ecocardiograma mar / 14 : FE 42 % / comprometimento difuso do VE grau moderado , insuf Mi discreta , insuf Tri discreta , hipetensao pulmonar discreta .'],\n",
       "  ['insuf Tri',\n",
       "   '# Lucas , 78 anos * HAS , * Gota , * DAC - IAM + ATC em 2012 ( angina instavel ) - Ecocardiograma mar / 14 : FE 42 % / comprometimento difuso do VE grau moderado , insuf Mi discreta , insuf Tri discreta , hipetensao pulmonar discreta .'],\n",
       "  ['Tri discreta',\n",
       "   '# Lucas , 78 anos * HAS , * Gota , * DAC - IAM + ATC em 2012 ( angina instavel ) - Ecocardiograma mar / 14 : FE 42 % / comprometimento difuso do VE grau moderado , insuf Mi discreta , insuf Tri discreta , hipetensao pulmonar discreta .'],\n",
       "  ['hipetensao pulmonar discreta',\n",
       "   '# Lucas , 78 anos * HAS , * Gota , * DAC - IAM + ATC em 2012 ( angina instavel ) - Ecocardiograma mar / 14 : FE 42 % / comprometimento difuso do VE grau moderado , insuf Mi discreta , insuf Tri discreta , hipetensao pulmonar discreta .'],\n",
       "  ['hipetensao pulmonar',\n",
       "   '# Lucas , 78 anos * HAS , * Gota , * DAC - IAM + ATC em 2012 ( angina instavel ) - Ecocardiograma mar / 14 : FE 42 % / comprometimento difuso do VE grau moderado , insuf Mi discreta , insuf Tri discreta , hipetensao pulmonar discreta .'],\n",
       "  ['pulmonar discreta',\n",
       "   '# Lucas , 78 anos * HAS , * Gota , * DAC - IAM + ATC em 2012 ( angina instavel ) - Ecocardiograma mar / 14 : FE 42 % / comprometimento difuso do VE grau moderado , insuf Mi discreta , insuf Tri discreta , hipetensao pulmonar discreta .']],\n",
       " [['fraqueza intermitente em MMII',\n",
       "   'Paciente refere fraqueza intermitente em MMII , associada a tontura , turvação visual e epigastralgia .'],\n",
       "  ['MMII',\n",
       "   'Paciente refere fraqueza intermitente em MMII , associada a tontura , turvação visual e epigastralgia .'],\n",
       "  ['intermitente em MMII',\n",
       "   'Paciente refere fraqueza intermitente em MMII , associada a tontura , turvação visual e epigastralgia .'],\n",
       "  ['tontura',\n",
       "   'Paciente refere fraqueza intermitente em MMII , associada a tontura , turvação visual e epigastralgia .'],\n",
       "  ['turvação visual',\n",
       "   'Paciente refere fraqueza intermitente em MMII , associada a tontura , turvação visual e epigastralgia .'],\n",
       "  ['epigastralgia',\n",
       "   'Paciente refere fraqueza intermitente em MMII , associada a tontura , turvação visual e epigastralgia .']],\n",
       " [['dor toracica associada', 'Nega dor toracica associada ou dispneia .'],\n",
       "  ['dispneia', 'Nega dor toracica associada ou dispneia .']],\n",
       " [['DPN', 'Nega DPN .']],\n",
       " [['sincope', 'Nega sincope .']],\n",
       " [['edema de MMII', 'Nega edema de MMII .'],\n",
       "  ['de MMII', 'Nega edema de MMII .']],\n",
       " [['queixas urinarias', 'Nega queixas urinarias e gastrointestinais .'],\n",
       "  ['gastrointestinais', 'Nega queixas urinarias e gastrointestinais .']],\n",
       " [['tabagismo', 'Nega tabagismo atual e pregresso .']],\n",
       " [['Laboratorio Cr',\n",
       "   '- Laboratorio Cr 1 , 5 / glicose 85 / ureia 70 / CPK 161 / acido urico 5 , 3 / TG 107 / TGP 23 / HDL 38 / Na 143 / TGO 26 / CT 103 / LDL 44 / K 5 , 1 / HB 16 , 1 / leucocitos 6800 / plaquetas 116000 / - Albumina / Cr isolada = 174 , 3 *** CKD 44 ; Paciente encaminhado via UBS para nefrologia - aguarda consulta .'],\n",
       "  ['glicose',\n",
       "   '- Laboratorio Cr 1 , 5 / glicose 85 / ureia 70 / CPK 161 / acido urico 5 , 3 / TG 107 / TGP 23 / HDL 38 / Na 143 / TGO 26 / CT 103 / LDL 44 / K 5 , 1 / HB 16 , 1 / leucocitos 6800 / plaquetas 116000 / - Albumina / Cr isolada = 174 , 3 *** CKD 44 ; Paciente encaminhado via UBS para nefrologia - aguarda consulta .'],\n",
       "  ['ureia',\n",
       "   '- Laboratorio Cr 1 , 5 / glicose 85 / ureia 70 / CPK 161 / acido urico 5 , 3 / TG 107 / TGP 23 / HDL 38 / Na 143 / TGO 26 / CT 103 / LDL 44 / K 5 , 1 / HB 16 , 1 / leucocitos 6800 / plaquetas 116000 / - Albumina / Cr isolada = 174 , 3 *** CKD 44 ; Paciente encaminhado via UBS para nefrologia - aguarda consulta .'],\n",
       "  ['CPK',\n",
       "   '- Laboratorio Cr 1 , 5 / glicose 85 / ureia 70 / CPK 161 / acido urico 5 , 3 / TG 107 / TGP 23 / HDL 38 / Na 143 / TGO 26 / CT 103 / LDL 44 / K 5 , 1 / HB 16 , 1 / leucocitos 6800 / plaquetas 116000 / - Albumina / Cr isolada = 174 , 3 *** CKD 44 ; Paciente encaminhado via UBS para nefrologia - aguarda consulta .'],\n",
       "  ['acido urico',\n",
       "   '- Laboratorio Cr 1 , 5 / glicose 85 / ureia 70 / CPK 161 / acido urico 5 , 3 / TG 107 / TGP 23 / HDL 38 / Na 143 / TGO 26 / CT 103 / LDL 44 / K 5 , 1 / HB 16 , 1 / leucocitos 6800 / plaquetas 116000 / - Albumina / Cr isolada = 174 , 3 *** CKD 44 ; Paciente encaminhado via UBS para nefrologia - aguarda consulta .'],\n",
       "  ['TG',\n",
       "   '- Laboratorio Cr 1 , 5 / glicose 85 / ureia 70 / CPK 161 / acido urico 5 , 3 / TG 107 / TGP 23 / HDL 38 / Na 143 / TGO 26 / CT 103 / LDL 44 / K 5 , 1 / HB 16 , 1 / leucocitos 6800 / plaquetas 116000 / - Albumina / Cr isolada = 174 , 3 *** CKD 44 ; Paciente encaminhado via UBS para nefrologia - aguarda consulta .'],\n",
       "  ['TGP',\n",
       "   '- Laboratorio Cr 1 , 5 / glicose 85 / ureia 70 / CPK 161 / acido urico 5 , 3 / TG 107 / TGP 23 / HDL 38 / Na 143 / TGO 26 / CT 103 / LDL 44 / K 5 , 1 / HB 16 , 1 / leucocitos 6800 / plaquetas 116000 / - Albumina / Cr isolada = 174 , 3 *** CKD 44 ; Paciente encaminhado via UBS para nefrologia - aguarda consulta .'],\n",
       "  ['HDL',\n",
       "   '- Laboratorio Cr 1 , 5 / glicose 85 / ureia 70 / CPK 161 / acido urico 5 , 3 / TG 107 / TGP 23 / HDL 38 / Na 143 / TGO 26 / CT 103 / LDL 44 / K 5 , 1 / HB 16 , 1 / leucocitos 6800 / plaquetas 116000 / - Albumina / Cr isolada = 174 , 3 *** CKD 44 ; Paciente encaminhado via UBS para nefrologia - aguarda consulta .'],\n",
       "  ['TGO',\n",
       "   '- Laboratorio Cr 1 , 5 / glicose 85 / ureia 70 / CPK 161 / acido urico 5 , 3 / TG 107 / TGP 23 / HDL 38 / Na 143 / TGO 26 / CT 103 / LDL 44 / K 5 , 1 / HB 16 , 1 / leucocitos 6800 / plaquetas 116000 / - Albumina / Cr isolada = 174 , 3 *** CKD 44 ; Paciente encaminhado via UBS para nefrologia - aguarda consulta .'],\n",
       "  ['CT',\n",
       "   '- Laboratorio Cr 1 , 5 / glicose 85 / ureia 70 / CPK 161 / acido urico 5 , 3 / TG 107 / TGP 23 / HDL 38 / Na 143 / TGO 26 / CT 103 / LDL 44 / K 5 , 1 / HB 16 , 1 / leucocitos 6800 / plaquetas 116000 / - Albumina / Cr isolada = 174 , 3 *** CKD 44 ; Paciente encaminhado via UBS para nefrologia - aguarda consulta .'],\n",
       "  ['LDL',\n",
       "   '- Laboratorio Cr 1 , 5 / glicose 85 / ureia 70 / CPK 161 / acido urico 5 , 3 / TG 107 / TGP 23 / HDL 38 / Na 143 / TGO 26 / CT 103 / LDL 44 / K 5 , 1 / HB 16 , 1 / leucocitos 6800 / plaquetas 116000 / - Albumina / Cr isolada = 174 , 3 *** CKD 44 ; Paciente encaminhado via UBS para nefrologia - aguarda consulta .'],\n",
       "  ['K',\n",
       "   '- Laboratorio Cr 1 , 5 / glicose 85 / ureia 70 / CPK 161 / acido urico 5 , 3 / TG 107 / TGP 23 / HDL 38 / Na 143 / TGO 26 / CT 103 / LDL 44 / K 5 , 1 / HB 16 , 1 / leucocitos 6800 / plaquetas 116000 / - Albumina / Cr isolada = 174 , 3 *** CKD 44 ; Paciente encaminhado via UBS para nefrologia - aguarda consulta .'],\n",
       "  ['HB',\n",
       "   '- Laboratorio Cr 1 , 5 / glicose 85 / ureia 70 / CPK 161 / acido urico 5 , 3 / TG 107 / TGP 23 / HDL 38 / Na 143 / TGO 26 / CT 103 / LDL 44 / K 5 , 1 / HB 16 , 1 / leucocitos 6800 / plaquetas 116000 / - Albumina / Cr isolada = 174 , 3 *** CKD 44 ; Paciente encaminhado via UBS para nefrologia - aguarda consulta .'],\n",
       "  ['leucocitos',\n",
       "   '- Laboratorio Cr 1 , 5 / glicose 85 / ureia 70 / CPK 161 / acido urico 5 , 3 / TG 107 / TGP 23 / HDL 38 / Na 143 / TGO 26 / CT 103 / LDL 44 / K 5 , 1 / HB 16 , 1 / leucocitos 6800 / plaquetas 116000 / - Albumina / Cr isolada = 174 , 3 *** CKD 44 ; Paciente encaminhado via UBS para nefrologia - aguarda consulta .'],\n",
       "  ['plaquetas',\n",
       "   '- Laboratorio Cr 1 , 5 / glicose 85 / ureia 70 / CPK 161 / acido urico 5 , 3 / TG 107 / TGP 23 / HDL 38 / Na 143 / TGO 26 / CT 103 / LDL 44 / K 5 , 1 / HB 16 , 1 / leucocitos 6800 / plaquetas 116000 / - Albumina / Cr isolada = 174 , 3 *** CKD 44 ; Paciente encaminhado via UBS para nefrologia - aguarda consulta .'],\n",
       "  ['Albumina',\n",
       "   '- Laboratorio Cr 1 , 5 / glicose 85 / ureia 70 / CPK 161 / acido urico 5 , 3 / TG 107 / TGP 23 / HDL 38 / Na 143 / TGO 26 / CT 103 / LDL 44 / K 5 , 1 / HB 16 , 1 / leucocitos 6800 / plaquetas 116000 / - Albumina / Cr isolada = 174 , 3 *** CKD 44 ; Paciente encaminhado via UBS para nefrologia - aguarda consulta .'],\n",
       "  ['Cr isolada',\n",
       "   '- Laboratorio Cr 1 , 5 / glicose 85 / ureia 70 / CPK 161 / acido urico 5 , 3 / TG 107 / TGP 23 / HDL 38 / Na 143 / TGO 26 / CT 103 / LDL 44 / K 5 , 1 / HB 16 , 1 / leucocitos 6800 / plaquetas 116000 / - Albumina / Cr isolada = 174 , 3 *** CKD 44 ; Paciente encaminhado via UBS para nefrologia - aguarda consulta .'],\n",
       "  ['Cr',\n",
       "   '- Laboratorio Cr 1 , 5 / glicose 85 / ureia 70 / CPK 161 / acido urico 5 , 3 / TG 107 / TGP 23 / HDL 38 / Na 143 / TGO 26 / CT 103 / LDL 44 / K 5 , 1 / HB 16 , 1 / leucocitos 6800 / plaquetas 116000 / - Albumina / Cr isolada = 174 , 3 *** CKD 44 ; Paciente encaminhado via UBS para nefrologia - aguarda consulta .']],\n",
       " [['alopurinol 150mg',\n",
       "   'Em uso de : alopurinol 150mg / dia , anlodipino 5mg / noite , enalapril 10mg 12 / 12 h , selozok 100mg / dia , AAS 100mg / dia , clopidogrel 75mg / dia , sinvastatina 40mg / dia , colecalciferol 10 gotas / semana .'],\n",
       "  ['anlodipino 5mg',\n",
       "   'Em uso de : alopurinol 150mg / dia , anlodipino 5mg / noite , enalapril 10mg 12 / 12 h , selozok 100mg / dia , AAS 100mg / dia , clopidogrel 75mg / dia , sinvastatina 40mg / dia , colecalciferol 10 gotas / semana .'],\n",
       "  ['enalapril 10mg',\n",
       "   'Em uso de : alopurinol 150mg / dia , anlodipino 5mg / noite , enalapril 10mg 12 / 12 h , selozok 100mg / dia , AAS 100mg / dia , clopidogrel 75mg / dia , sinvastatina 40mg / dia , colecalciferol 10 gotas / semana .'],\n",
       "  ['selozok 100mg',\n",
       "   'Em uso de : alopurinol 150mg / dia , anlodipino 5mg / noite , enalapril 10mg 12 / 12 h , selozok 100mg / dia , AAS 100mg / dia , clopidogrel 75mg / dia , sinvastatina 40mg / dia , colecalciferol 10 gotas / semana .'],\n",
       "  ['AAS 100mg',\n",
       "   'Em uso de : alopurinol 150mg / dia , anlodipino 5mg / noite , enalapril 10mg 12 / 12 h , selozok 100mg / dia , AAS 100mg / dia , clopidogrel 75mg / dia , sinvastatina 40mg / dia , colecalciferol 10 gotas / semana .'],\n",
       "  ['clopidogrel 75mg',\n",
       "   'Em uso de : alopurinol 150mg / dia , anlodipino 5mg / noite , enalapril 10mg 12 / 12 h , selozok 100mg / dia , AAS 100mg / dia , clopidogrel 75mg / dia , sinvastatina 40mg / dia , colecalciferol 10 gotas / semana .'],\n",
       "  ['sinvastatina 40mg',\n",
       "   'Em uso de : alopurinol 150mg / dia , anlodipino 5mg / noite , enalapril 10mg 12 / 12 h , selozok 100mg / dia , AAS 100mg / dia , clopidogrel 75mg / dia , sinvastatina 40mg / dia , colecalciferol 10 gotas / semana .'],\n",
       "  ['colecalciferol 10 gotas',\n",
       "   'Em uso de : alopurinol 150mg / dia , anlodipino 5mg / noite , enalapril 10mg 12 / 12 h , selozok 100mg / dia , AAS 100mg / dia , clopidogrel 75mg / dia , sinvastatina 40mg / dia , colecalciferol 10 gotas / semana .'],\n",
       "  ['colecalciferol',\n",
       "   'Em uso de : alopurinol 150mg / dia , anlodipino 5mg / noite , enalapril 10mg 12 / 12 h , selozok 100mg / dia , AAS 100mg / dia , clopidogrel 75mg / dia , sinvastatina 40mg / dia , colecalciferol 10 gotas / semana .']],\n",
       " [['exame',\n",
       "   'Ao exame : PA : 90 / 60 mmHg / FC 55 bpm , BCRNF , SS , MV + bilateralmente , sem RA , MMII edema + / IV bilateral .'],\n",
       "  ['PA',\n",
       "   'Ao exame : PA : 90 / 60 mmHg / FC 55 bpm , BCRNF , SS , MV + bilateralmente , sem RA , MMII edema + / IV bilateral .'],\n",
       "  ['FC',\n",
       "   'Ao exame : PA : 90 / 60 mmHg / FC 55 bpm , BCRNF , SS , MV + bilateralmente , sem RA , MMII edema + / IV bilateral .'],\n",
       "  ['SS',\n",
       "   'Ao exame : PA : 90 / 60 mmHg / FC 55 bpm , BCRNF , SS , MV + bilateralmente , sem RA , MMII edema + / IV bilateral .'],\n",
       "  ['RA',\n",
       "   'Ao exame : PA : 90 / 60 mmHg / FC 55 bpm , BCRNF , SS , MV + bilateralmente , sem RA , MMII edema + / IV bilateral .'],\n",
       "  ['MMII edema + / IV bilateral',\n",
       "   'Ao exame : PA : 90 / 60 mmHg / FC 55 bpm , BCRNF , SS , MV + bilateralmente , sem RA , MMII edema + / IV bilateral .'],\n",
       "  ['MMII',\n",
       "   'Ao exame : PA : 90 / 60 mmHg / FC 55 bpm , BCRNF , SS , MV + bilateralmente , sem RA , MMII edema + / IV bilateral .'],\n",
       "  ['MMII edema',\n",
       "   'Ao exame : PA : 90 / 60 mmHg / FC 55 bpm , BCRNF , SS , MV + bilateralmente , sem RA , MMII edema + / IV bilateral .'],\n",
       "  ['IV bilateral',\n",
       "   'Ao exame : PA : 90 / 60 mmHg / FC 55 bpm , BCRNF , SS , MV + bilateralmente , sem RA , MMII edema + / IV bilateral .'],\n",
       "  ['MMII edema +',\n",
       "   'Ao exame : PA : 90 / 60 mmHg / FC 55 bpm , BCRNF , SS , MV + bilateralmente , sem RA , MMII edema + / IV bilateral .'],\n",
       "  ['MMII edema + / IV',\n",
       "   'Ao exame : PA : 90 / 60 mmHg / FC 55 bpm , BCRNF , SS , MV + bilateralmente , sem RA , MMII edema + / IV bilateral .'],\n",
       "  ['edema + / IV bilateral',\n",
       "   'Ao exame : PA : 90 / 60 mmHg / FC 55 bpm , BCRNF , SS , MV + bilateralmente , sem RA , MMII edema + / IV bilateral .']],\n",
       " [['anlodipino para 2 , 5mg',\n",
       "   '# # Reduzimos anlodipino para 2 , 5mg / dia .']],\n",
       " [['clopidogrel', 'Suspendemos clopidogrel .']],\n",
       " [['demais medicações', 'Mantemos demais medicações .']],\n",
       " [['exames', 'Retorno em 10 meses com a cardio com novos exames .']],\n",
       " [['HAS', '* HAS * Gota * DAC - IAM + ATC em 2012 ( angina instavel ) .'],\n",
       "  ['Gota', '* HAS * Gota * DAC - IAM + ATC em 2012 ( angina instavel ) .'],\n",
       "  ['DAC', '* HAS * Gota * DAC - IAM + ATC em 2012 ( angina instavel ) .'],\n",
       "  ['IAM', '* HAS * Gota * DAC - IAM + ATC em 2012 ( angina instavel ) .'],\n",
       "  ['ATC', '* HAS * Gota * DAC - IAM + ATC em 2012 ( angina instavel ) .'],\n",
       "  ['angina instavel',\n",
       "   '* HAS * Gota * DAC - IAM + ATC em 2012 ( angina instavel ) .'],\n",
       "  ['angina', '* HAS * Gota * DAC - IAM + ATC em 2012 ( angina instavel ) .'],\n",
       "  ['instavel',\n",
       "   '* HAS * Gota * DAC - IAM + ATC em 2012 ( angina instavel ) .']],\n",
       " [['ICC diastólica',\n",
       "   'Paciente em tratamento para ICC diastólica há cerca de 5 a com melhora importante dos sintomas após início do tratamento .'],\n",
       "  ['tratamento',\n",
       "   'Paciente em tratamento para ICC diastólica há cerca de 5 a com melhora importante dos sintomas após início do tratamento .']],\n",
       " [['dispneia aos moderados esforços',\n",
       "   'Hoje relata dispneia aos moderados esforços , nega disnpneía paroxística notrna , dorme com apenas 1 travesseiro .'],\n",
       "  ['disnpneía paroxística notrna',\n",
       "   'Hoje relata dispneia aos moderados esforços , nega disnpneía paroxística notrna , dorme com apenas 1 travesseiro .']],\n",
       " [['precordialgia aos moderados esforços',\n",
       "   'Nega precordialgia aos moderados esforços .']],\n",
       " [['episódios anginosos', 'Nega episódios anginosos .']],\n",
       " [['outras queixas', 'Nega outras queixas .']],\n",
       " [['exames',\n",
       "   'Rsultado de exames : 1 - Microalbuminúria 12 / 04 : 10 . 64 / G de creatinina 2 - US abdome total : rins com alterações tróficas 3 - ECG 19 / 03 / 14 : isquemia subepicárdica anterior , alteração de repolarização ventricular infero - lateral 4 - Laboratoriais 12 / 04 / 14 : K 5 . 1 , clearence creatinina 57 Ao EF : PA 170x100mmHg ( relata PA normal quando em ambiente não hospitalar ) , FC 63bpm AR : mv sem RA ACV : rcr em 2T sem sopros , com hipofonese de bulhas AD : abdome globos , normotenso , indolor , ausência de massas ou visceromegalias MMII sem edema HD : - ICC diastólica classe III - HAS - DMII - Dislipidemia CD : - mantenho medicação - retorno em 6 m com exames laboratoriais + ECG .'],\n",
       "  ['Microalbuminúria',\n",
       "   'Rsultado de exames : 1 - Microalbuminúria 12 / 04 : 10 . 64 / G de creatinina 2 - US abdome total : rins com alterações tróficas 3 - ECG 19 / 03 / 14 : isquemia subepicárdica anterior , alteração de repolarização ventricular infero - lateral 4 - Laboratoriais 12 / 04 / 14 : K 5 . 1 , clearence creatinina 57 Ao EF : PA 170x100mmHg ( relata PA normal quando em ambiente não hospitalar ) , FC 63bpm AR : mv sem RA ACV : rcr em 2T sem sopros , com hipofonese de bulhas AD : abdome globos , normotenso , indolor , ausência de massas ou visceromegalias MMII sem edema HD : - ICC diastólica classe III - HAS - DMII - Dislipidemia CD : - mantenho medicação - retorno em 6 m com exames laboratoriais + ECG .'],\n",
       "  ['creatinina',\n",
       "   'Rsultado de exames : 1 - Microalbuminúria 12 / 04 : 10 . 64 / G de creatinina 2 - US abdome total : rins com alterações tróficas 3 - ECG 19 / 03 / 14 : isquemia subepicárdica anterior , alteração de repolarização ventricular infero - lateral 4 - Laboratoriais 12 / 04 / 14 : K 5 . 1 , clearence creatinina 57 Ao EF : PA 170x100mmHg ( relata PA normal quando em ambiente não hospitalar ) , FC 63bpm AR : mv sem RA ACV : rcr em 2T sem sopros , com hipofonese de bulhas AD : abdome globos , normotenso , indolor , ausência de massas ou visceromegalias MMII sem edema HD : - ICC diastólica classe III - HAS - DMII - Dislipidemia CD : - mantenho medicação - retorno em 6 m com exames laboratoriais + ECG .'],\n",
       "  ['US abdome total',\n",
       "   'Rsultado de exames : 1 - Microalbuminúria 12 / 04 : 10 . 64 / G de creatinina 2 - US abdome total : rins com alterações tróficas 3 - ECG 19 / 03 / 14 : isquemia subepicárdica anterior , alteração de repolarização ventricular infero - lateral 4 - Laboratoriais 12 / 04 / 14 : K 5 . 1 , clearence creatinina 57 Ao EF : PA 170x100mmHg ( relata PA normal quando em ambiente não hospitalar ) , FC 63bpm AR : mv sem RA ACV : rcr em 2T sem sopros , com hipofonese de bulhas AD : abdome globos , normotenso , indolor , ausência de massas ou visceromegalias MMII sem edema HD : - ICC diastólica classe III - HAS - DMII - Dislipidemia CD : - mantenho medicação - retorno em 6 m com exames laboratoriais + ECG .'],\n",
       "  ['US',\n",
       "   'Rsultado de exames : 1 - Microalbuminúria 12 / 04 : 10 . 64 / G de creatinina 2 - US abdome total : rins com alterações tróficas 3 - ECG 19 / 03 / 14 : isquemia subepicárdica anterior , alteração de repolarização ventricular infero - lateral 4 - Laboratoriais 12 / 04 / 14 : K 5 . 1 , clearence creatinina 57 Ao EF : PA 170x100mmHg ( relata PA normal quando em ambiente não hospitalar ) , FC 63bpm AR : mv sem RA ACV : rcr em 2T sem sopros , com hipofonese de bulhas AD : abdome globos , normotenso , indolor , ausência de massas ou visceromegalias MMII sem edema HD : - ICC diastólica classe III - HAS - DMII - Dislipidemia CD : - mantenho medicação - retorno em 6 m com exames laboratoriais + ECG .'],\n",
       "  ['US abdome',\n",
       "   'Rsultado de exames : 1 - Microalbuminúria 12 / 04 : 10 . 64 / G de creatinina 2 - US abdome total : rins com alterações tróficas 3 - ECG 19 / 03 / 14 : isquemia subepicárdica anterior , alteração de repolarização ventricular infero - lateral 4 - Laboratoriais 12 / 04 / 14 : K 5 . 1 , clearence creatinina 57 Ao EF : PA 170x100mmHg ( relata PA normal quando em ambiente não hospitalar ) , FC 63bpm AR : mv sem RA ACV : rcr em 2T sem sopros , com hipofonese de bulhas AD : abdome globos , normotenso , indolor , ausência de massas ou visceromegalias MMII sem edema HD : - ICC diastólica classe III - HAS - DMII - Dislipidemia CD : - mantenho medicação - retorno em 6 m com exames laboratoriais + ECG .'],\n",
       "  ['abdome total',\n",
       "   'Rsultado de exames : 1 - Microalbuminúria 12 / 04 : 10 . 64 / G de creatinina 2 - US abdome total : rins com alterações tróficas 3 - ECG 19 / 03 / 14 : isquemia subepicárdica anterior , alteração de repolarização ventricular infero - lateral 4 - Laboratoriais 12 / 04 / 14 : K 5 . 1 , clearence creatinina 57 Ao EF : PA 170x100mmHg ( relata PA normal quando em ambiente não hospitalar ) , FC 63bpm AR : mv sem RA ACV : rcr em 2T sem sopros , com hipofonese de bulhas AD : abdome globos , normotenso , indolor , ausência de massas ou visceromegalias MMII sem edema HD : - ICC diastólica classe III - HAS - DMII - Dislipidemia CD : - mantenho medicação - retorno em 6 m com exames laboratoriais + ECG .'],\n",
       "  ['alterações tróficas',\n",
       "   'Rsultado de exames : 1 - Microalbuminúria 12 / 04 : 10 . 64 / G de creatinina 2 - US abdome total : rins com alterações tróficas 3 - ECG 19 / 03 / 14 : isquemia subepicárdica anterior , alteração de repolarização ventricular infero - lateral 4 - Laboratoriais 12 / 04 / 14 : K 5 . 1 , clearence creatinina 57 Ao EF : PA 170x100mmHg ( relata PA normal quando em ambiente não hospitalar ) , FC 63bpm AR : mv sem RA ACV : rcr em 2T sem sopros , com hipofonese de bulhas AD : abdome globos , normotenso , indolor , ausência de massas ou visceromegalias MMII sem edema HD : - ICC diastólica classe III - HAS - DMII - Dislipidemia CD : - mantenho medicação - retorno em 6 m com exames laboratoriais + ECG .'],\n",
       "  ['ECG',\n",
       "   'Rsultado de exames : 1 - Microalbuminúria 12 / 04 : 10 . 64 / G de creatinina 2 - US abdome total : rins com alterações tróficas 3 - ECG 19 / 03 / 14 : isquemia subepicárdica anterior , alteração de repolarização ventricular infero - lateral 4 - Laboratoriais 12 / 04 / 14 : K 5 . 1 , clearence creatinina 57 Ao EF : PA 170x100mmHg ( relata PA normal quando em ambiente não hospitalar ) , FC 63bpm AR : mv sem RA ACV : rcr em 2T sem sopros , com hipofonese de bulhas AD : abdome globos , normotenso , indolor , ausência de massas ou visceromegalias MMII sem edema HD : - ICC diastólica classe III - HAS - DMII - Dislipidemia CD : - mantenho medicação - retorno em 6 m com exames laboratoriais + ECG .'],\n",
       "  ['isquemia subepicárdica anterior',\n",
       "   'Rsultado de exames : 1 - Microalbuminúria 12 / 04 : 10 . 64 / G de creatinina 2 - US abdome total : rins com alterações tróficas 3 - ECG 19 / 03 / 14 : isquemia subepicárdica anterior , alteração de repolarização ventricular infero - lateral 4 - Laboratoriais 12 / 04 / 14 : K 5 . 1 , clearence creatinina 57 Ao EF : PA 170x100mmHg ( relata PA normal quando em ambiente não hospitalar ) , FC 63bpm AR : mv sem RA ACV : rcr em 2T sem sopros , com hipofonese de bulhas AD : abdome globos , normotenso , indolor , ausência de massas ou visceromegalias MMII sem edema HD : - ICC diastólica classe III - HAS - DMII - Dislipidemia CD : - mantenho medicação - retorno em 6 m com exames laboratoriais + ECG .'],\n",
       "  ['ventricular infero',\n",
       "   'Rsultado de exames : 1 - Microalbuminúria 12 / 04 : 10 . 64 / G de creatinina 2 - US abdome total : rins com alterações tróficas 3 - ECG 19 / 03 / 14 : isquemia subepicárdica anterior , alteração de repolarização ventricular infero - lateral 4 - Laboratoriais 12 / 04 / 14 : K 5 . 1 , clearence creatinina 57 Ao EF : PA 170x100mmHg ( relata PA normal quando em ambiente não hospitalar ) , FC 63bpm AR : mv sem RA ACV : rcr em 2T sem sopros , com hipofonese de bulhas AD : abdome globos , normotenso , indolor , ausência de massas ou visceromegalias MMII sem edema HD : - ICC diastólica classe III - HAS - DMII - Dislipidemia CD : - mantenho medicação - retorno em 6 m com exames laboratoriais + ECG .'],\n",
       "  ['repolarização ventricular infero',\n",
       "   'Rsultado de exames : 1 - Microalbuminúria 12 / 04 : 10 . 64 / G de creatinina 2 - US abdome total : rins com alterações tróficas 3 - ECG 19 / 03 / 14 : isquemia subepicárdica anterior , alteração de repolarização ventricular infero - lateral 4 - Laboratoriais 12 / 04 / 14 : K 5 . 1 , clearence creatinina 57 Ao EF : PA 170x100mmHg ( relata PA normal quando em ambiente não hospitalar ) , FC 63bpm AR : mv sem RA ACV : rcr em 2T sem sopros , com hipofonese de bulhas AD : abdome globos , normotenso , indolor , ausência de massas ou visceromegalias MMII sem edema HD : - ICC diastólica classe III - HAS - DMII - Dislipidemia CD : - mantenho medicação - retorno em 6 m com exames laboratoriais + ECG .'],\n",
       "  ['alteração de repolarização ventricular',\n",
       "   'Rsultado de exames : 1 - Microalbuminúria 12 / 04 : 10 . 64 / G de creatinina 2 - US abdome total : rins com alterações tróficas 3 - ECG 19 / 03 / 14 : isquemia subepicárdica anterior , alteração de repolarização ventricular infero - lateral 4 - Laboratoriais 12 / 04 / 14 : K 5 . 1 , clearence creatinina 57 Ao EF : PA 170x100mmHg ( relata PA normal quando em ambiente não hospitalar ) , FC 63bpm AR : mv sem RA ACV : rcr em 2T sem sopros , com hipofonese de bulhas AD : abdome globos , normotenso , indolor , ausência de massas ou visceromegalias MMII sem edema HD : - ICC diastólica classe III - HAS - DMII - Dislipidemia CD : - mantenho medicação - retorno em 6 m com exames laboratoriais + ECG .'],\n",
       "  ['de repolarização ventricular infero',\n",
       "   'Rsultado de exames : 1 - Microalbuminúria 12 / 04 : 10 . 64 / G de creatinina 2 - US abdome total : rins com alterações tróficas 3 - ECG 19 / 03 / 14 : isquemia subepicárdica anterior , alteração de repolarização ventricular infero - lateral 4 - Laboratoriais 12 / 04 / 14 : K 5 . 1 , clearence creatinina 57 Ao EF : PA 170x100mmHg ( relata PA normal quando em ambiente não hospitalar ) , FC 63bpm AR : mv sem RA ACV : rcr em 2T sem sopros , com hipofonese de bulhas AD : abdome globos , normotenso , indolor , ausência de massas ou visceromegalias MMII sem edema HD : - ICC diastólica classe III - HAS - DMII - Dislipidemia CD : - mantenho medicação - retorno em 6 m com exames laboratoriais + ECG .'],\n",
       "  ['repolarização ventricular infero -',\n",
       "   'Rsultado de exames : 1 - Microalbuminúria 12 / 04 : 10 . 64 / G de creatinina 2 - US abdome total : rins com alterações tróficas 3 - ECG 19 / 03 / 14 : isquemia subepicárdica anterior , alteração de repolarização ventricular infero - lateral 4 - Laboratoriais 12 / 04 / 14 : K 5 . 1 , clearence creatinina 57 Ao EF : PA 170x100mmHg ( relata PA normal quando em ambiente não hospitalar ) , FC 63bpm AR : mv sem RA ACV : rcr em 2T sem sopros , com hipofonese de bulhas AD : abdome globos , normotenso , indolor , ausência de massas ou visceromegalias MMII sem edema HD : - ICC diastólica classe III - HAS - DMII - Dislipidemia CD : - mantenho medicação - retorno em 6 m com exames laboratoriais + ECG .'],\n",
       "  ['ventricular infero - lateral',\n",
       "   'Rsultado de exames : 1 - Microalbuminúria 12 / 04 : 10 . 64 / G de creatinina 2 - US abdome total : rins com alterações tróficas 3 - ECG 19 / 03 / 14 : isquemia subepicárdica anterior , alteração de repolarização ventricular infero - lateral 4 - Laboratoriais 12 / 04 / 14 : K 5 . 1 , clearence creatinina 57 Ao EF : PA 170x100mmHg ( relata PA normal quando em ambiente não hospitalar ) , FC 63bpm AR : mv sem RA ACV : rcr em 2T sem sopros , com hipofonese de bulhas AD : abdome globos , normotenso , indolor , ausência de massas ou visceromegalias MMII sem edema HD : - ICC diastólica classe III - HAS - DMII - Dislipidemia CD : - mantenho medicação - retorno em 6 m com exames laboratoriais + ECG .'],\n",
       "  ['alteração de repolarização ventricular infero',\n",
       "   'Rsultado de exames : 1 - Microalbuminúria 12 / 04 : 10 . 64 / G de creatinina 2 - US abdome total : rins com alterações tróficas 3 - ECG 19 / 03 / 14 : isquemia subepicárdica anterior , alteração de repolarização ventricular infero - lateral 4 - Laboratoriais 12 / 04 / 14 : K 5 . 1 , clearence creatinina 57 Ao EF : PA 170x100mmHg ( relata PA normal quando em ambiente não hospitalar ) , FC 63bpm AR : mv sem RA ACV : rcr em 2T sem sopros , com hipofonese de bulhas AD : abdome globos , normotenso , indolor , ausência de massas ou visceromegalias MMII sem edema HD : - ICC diastólica classe III - HAS - DMII - Dislipidemia CD : - mantenho medicação - retorno em 6 m com exames laboratoriais + ECG .'],\n",
       "  ['de repolarização ventricular infero -',\n",
       "   'Rsultado de exames : 1 - Microalbuminúria 12 / 04 : 10 . 64 / G de creatinina 2 - US abdome total : rins com alterações tróficas 3 - ECG 19 / 03 / 14 : isquemia subepicárdica anterior , alteração de repolarização ventricular infero - lateral 4 - Laboratoriais 12 / 04 / 14 : K 5 . 1 , clearence creatinina 57 Ao EF : PA 170x100mmHg ( relata PA normal quando em ambiente não hospitalar ) , FC 63bpm AR : mv sem RA ACV : rcr em 2T sem sopros , com hipofonese de bulhas AD : abdome globos , normotenso , indolor , ausência de massas ou visceromegalias MMII sem edema HD : - ICC diastólica classe III - HAS - DMII - Dislipidemia CD : - mantenho medicação - retorno em 6 m com exames laboratoriais + ECG .'],\n",
       "  ['repolarização ventricular infero - lateral',\n",
       "   'Rsultado de exames : 1 - Microalbuminúria 12 / 04 : 10 . 64 / G de creatinina 2 - US abdome total : rins com alterações tróficas 3 - ECG 19 / 03 / 14 : isquemia subepicárdica anterior , alteração de repolarização ventricular infero - lateral 4 - Laboratoriais 12 / 04 / 14 : K 5 . 1 , clearence creatinina 57 Ao EF : PA 170x100mmHg ( relata PA normal quando em ambiente não hospitalar ) , FC 63bpm AR : mv sem RA ACV : rcr em 2T sem sopros , com hipofonese de bulhas AD : abdome globos , normotenso , indolor , ausência de massas ou visceromegalias MMII sem edema HD : - ICC diastólica classe III - HAS - DMII - Dislipidemia CD : - mantenho medicação - retorno em 6 m com exames laboratoriais + ECG .'],\n",
       "  ['alteração de repolarização ventricular infero -',\n",
       "   'Rsultado de exames : 1 - Microalbuminúria 12 / 04 : 10 . 64 / G de creatinina 2 - US abdome total : rins com alterações tróficas 3 - ECG 19 / 03 / 14 : isquemia subepicárdica anterior , alteração de repolarização ventricular infero - lateral 4 - Laboratoriais 12 / 04 / 14 : K 5 . 1 , clearence creatinina 57 Ao EF : PA 170x100mmHg ( relata PA normal quando em ambiente não hospitalar ) , FC 63bpm AR : mv sem RA ACV : rcr em 2T sem sopros , com hipofonese de bulhas AD : abdome globos , normotenso , indolor , ausência de massas ou visceromegalias MMII sem edema HD : - ICC diastólica classe III - HAS - DMII - Dislipidemia CD : - mantenho medicação - retorno em 6 m com exames laboratoriais + ECG .'],\n",
       "  ['de repolarização ventricular infero - lateral',\n",
       "   'Rsultado de exames : 1 - Microalbuminúria 12 / 04 : 10 . 64 / G de creatinina 2 - US abdome total : rins com alterações tróficas 3 - ECG 19 / 03 / 14 : isquemia subepicárdica anterior , alteração de repolarização ventricular infero - lateral 4 - Laboratoriais 12 / 04 / 14 : K 5 . 1 , clearence creatinina 57 Ao EF : PA 170x100mmHg ( relata PA normal quando em ambiente não hospitalar ) , FC 63bpm AR : mv sem RA ACV : rcr em 2T sem sopros , com hipofonese de bulhas AD : abdome globos , normotenso , indolor , ausência de massas ou visceromegalias MMII sem edema HD : - ICC diastólica classe III - HAS - DMII - Dislipidemia CD : - mantenho medicação - retorno em 6 m com exames laboratoriais + ECG .'],\n",
       "  ['Laboratoriais',\n",
       "   'Rsultado de exames : 1 - Microalbuminúria 12 / 04 : 10 . 64 / G de creatinina 2 - US abdome total : rins com alterações tróficas 3 - ECG 19 / 03 / 14 : isquemia subepicárdica anterior , alteração de repolarização ventricular infero - lateral 4 - Laboratoriais 12 / 04 / 14 : K 5 . 1 , clearence creatinina 57 Ao EF : PA 170x100mmHg ( relata PA normal quando em ambiente não hospitalar ) , FC 63bpm AR : mv sem RA ACV : rcr em 2T sem sopros , com hipofonese de bulhas AD : abdome globos , normotenso , indolor , ausência de massas ou visceromegalias MMII sem edema HD : - ICC diastólica classe III - HAS - DMII - Dislipidemia CD : - mantenho medicação - retorno em 6 m com exames laboratoriais + ECG .'],\n",
       "  ['K',\n",
       "   'Rsultado de exames : 1 - Microalbuminúria 12 / 04 : 10 . 64 / G de creatinina 2 - US abdome total : rins com alterações tróficas 3 - ECG 19 / 03 / 14 : isquemia subepicárdica anterior , alteração de repolarização ventricular infero - lateral 4 - Laboratoriais 12 / 04 / 14 : K 5 . 1 , clearence creatinina 57 Ao EF : PA 170x100mmHg ( relata PA normal quando em ambiente não hospitalar ) , FC 63bpm AR : mv sem RA ACV : rcr em 2T sem sopros , com hipofonese de bulhas AD : abdome globos , normotenso , indolor , ausência de massas ou visceromegalias MMII sem edema HD : - ICC diastólica classe III - HAS - DMII - Dislipidemia CD : - mantenho medicação - retorno em 6 m com exames laboratoriais + ECG .'],\n",
       "  ['clearence creatinina',\n",
       "   'Rsultado de exames : 1 - Microalbuminúria 12 / 04 : 10 . 64 / G de creatinina 2 - US abdome total : rins com alterações tróficas 3 - ECG 19 / 03 / 14 : isquemia subepicárdica anterior , alteração de repolarização ventricular infero - lateral 4 - Laboratoriais 12 / 04 / 14 : K 5 . 1 , clearence creatinina 57 Ao EF : PA 170x100mmHg ( relata PA normal quando em ambiente não hospitalar ) , FC 63bpm AR : mv sem RA ACV : rcr em 2T sem sopros , com hipofonese de bulhas AD : abdome globos , normotenso , indolor , ausência de massas ou visceromegalias MMII sem edema HD : - ICC diastólica classe III - HAS - DMII - Dislipidemia CD : - mantenho medicação - retorno em 6 m com exames laboratoriais + ECG .'],\n",
       "  ['EF',\n",
       "   'Rsultado de exames : 1 - Microalbuminúria 12 / 04 : 10 . 64 / G de creatinina 2 - US abdome total : rins com alterações tróficas 3 - ECG 19 / 03 / 14 : isquemia subepicárdica anterior , alteração de repolarização ventricular infero - lateral 4 - Laboratoriais 12 / 04 / 14 : K 5 . 1 , clearence creatinina 57 Ao EF : PA 170x100mmHg ( relata PA normal quando em ambiente não hospitalar ) , FC 63bpm AR : mv sem RA ACV : rcr em 2T sem sopros , com hipofonese de bulhas AD : abdome globos , normotenso , indolor , ausência de massas ou visceromegalias MMII sem edema HD : - ICC diastólica classe III - HAS - DMII - Dislipidemia CD : - mantenho medicação - retorno em 6 m com exames laboratoriais + ECG .'],\n",
       "  ['PA',\n",
       "   'Rsultado de exames : 1 - Microalbuminúria 12 / 04 : 10 . 64 / G de creatinina 2 - US abdome total : rins com alterações tróficas 3 - ECG 19 / 03 / 14 : isquemia subepicárdica anterior , alteração de repolarização ventricular infero - lateral 4 - Laboratoriais 12 / 04 / 14 : K 5 . 1 , clearence creatinina 57 Ao EF : PA 170x100mmHg ( relata PA normal quando em ambiente não hospitalar ) , FC 63bpm AR : mv sem RA ACV : rcr em 2T sem sopros , com hipofonese de bulhas AD : abdome globos , normotenso , indolor , ausência de massas ou visceromegalias MMII sem edema HD : - ICC diastólica classe III - HAS - DMII - Dislipidemia CD : - mantenho medicação - retorno em 6 m com exames laboratoriais + ECG .'],\n",
       "  ['PA',\n",
       "   'Rsultado de exames : 1 - Microalbuminúria 12 / 04 : 10 . 64 / G de creatinina 2 - US abdome total : rins com alterações tróficas 3 - ECG 19 / 03 / 14 : isquemia subepicárdica anterior , alteração de repolarização ventricular infero - lateral 4 - Laboratoriais 12 / 04 / 14 : K 5 . 1 , clearence creatinina 57 Ao EF : PA 170x100mmHg ( relata PA normal quando em ambiente não hospitalar ) , FC 63bpm AR : mv sem RA ACV : rcr em 2T sem sopros , com hipofonese de bulhas AD : abdome globos , normotenso , indolor , ausência de massas ou visceromegalias MMII sem edema HD : - ICC diastólica classe III - HAS - DMII - Dislipidemia CD : - mantenho medicação - retorno em 6 m com exames laboratoriais + ECG .'],\n",
       "  ['FC',\n",
       "   'Rsultado de exames : 1 - Microalbuminúria 12 / 04 : 10 . 64 / G de creatinina 2 - US abdome total : rins com alterações tróficas 3 - ECG 19 / 03 / 14 : isquemia subepicárdica anterior , alteração de repolarização ventricular infero - lateral 4 - Laboratoriais 12 / 04 / 14 : K 5 . 1 , clearence creatinina 57 Ao EF : PA 170x100mmHg ( relata PA normal quando em ambiente não hospitalar ) , FC 63bpm AR : mv sem RA ACV : rcr em 2T sem sopros , com hipofonese de bulhas AD : abdome globos , normotenso , indolor , ausência de massas ou visceromegalias MMII sem edema HD : - ICC diastólica classe III - HAS - DMII - Dislipidemia CD : - mantenho medicação - retorno em 6 m com exames laboratoriais + ECG .'],\n",
       "  ['RA',\n",
       "   'Rsultado de exames : 1 - Microalbuminúria 12 / 04 : 10 . 64 / G de creatinina 2 - US abdome total : rins com alterações tróficas 3 - ECG 19 / 03 / 14 : isquemia subepicárdica anterior , alteração de repolarização ventricular infero - lateral 4 - Laboratoriais 12 / 04 / 14 : K 5 . 1 , clearence creatinina 57 Ao EF : PA 170x100mmHg ( relata PA normal quando em ambiente não hospitalar ) , FC 63bpm AR : mv sem RA ACV : rcr em 2T sem sopros , com hipofonese de bulhas AD : abdome globos , normotenso , indolor , ausência de massas ou visceromegalias MMII sem edema HD : - ICC diastólica classe III - HAS - DMII - Dislipidemia CD : - mantenho medicação - retorno em 6 m com exames laboratoriais + ECG .'],\n",
       "  ['sopros',\n",
       "   'Rsultado de exames : 1 - Microalbuminúria 12 / 04 : 10 . 64 / G de creatinina 2 - US abdome total : rins com alterações tróficas 3 - ECG 19 / 03 / 14 : isquemia subepicárdica anterior , alteração de repolarização ventricular infero - lateral 4 - Laboratoriais 12 / 04 / 14 : K 5 . 1 , clearence creatinina 57 Ao EF : PA 170x100mmHg ( relata PA normal quando em ambiente não hospitalar ) , FC 63bpm AR : mv sem RA ACV : rcr em 2T sem sopros , com hipofonese de bulhas AD : abdome globos , normotenso , indolor , ausência de massas ou visceromegalias MMII sem edema HD : - ICC diastólica classe III - HAS - DMII - Dislipidemia CD : - mantenho medicação - retorno em 6 m com exames laboratoriais + ECG .'],\n",
       "  ['hipofonese de bulhas',\n",
       "   'Rsultado de exames : 1 - Microalbuminúria 12 / 04 : 10 . 64 / G de creatinina 2 - US abdome total : rins com alterações tróficas 3 - ECG 19 / 03 / 14 : isquemia subepicárdica anterior , alteração de repolarização ventricular infero - lateral 4 - Laboratoriais 12 / 04 / 14 : K 5 . 1 , clearence creatinina 57 Ao EF : PA 170x100mmHg ( relata PA normal quando em ambiente não hospitalar ) , FC 63bpm AR : mv sem RA ACV : rcr em 2T sem sopros , com hipofonese de bulhas AD : abdome globos , normotenso , indolor , ausência de massas ou visceromegalias MMII sem edema HD : - ICC diastólica classe III - HAS - DMII - Dislipidemia CD : - mantenho medicação - retorno em 6 m com exames laboratoriais + ECG .'],\n",
       "  ['ICC diastólica classe III',\n",
       "   'Rsultado de exames : 1 - Microalbuminúria 12 / 04 : 10 . 64 / G de creatinina 2 - US abdome total : rins com alterações tróficas 3 - ECG 19 / 03 / 14 : isquemia subepicárdica anterior , alteração de repolarização ventricular infero - lateral 4 - Laboratoriais 12 / 04 / 14 : K 5 . 1 , clearence creatinina 57 Ao EF : PA 170x100mmHg ( relata PA normal quando em ambiente não hospitalar ) , FC 63bpm AR : mv sem RA ACV : rcr em 2T sem sopros , com hipofonese de bulhas AD : abdome globos , normotenso , indolor , ausência de massas ou visceromegalias MMII sem edema HD : - ICC diastólica classe III - HAS - DMII - Dislipidemia CD : - mantenho medicação - retorno em 6 m com exames laboratoriais + ECG .'],\n",
       "  ['HAS',\n",
       "   'Rsultado de exames : 1 - Microalbuminúria 12 / 04 : 10 . 64 / G de creatinina 2 - US abdome total : rins com alterações tróficas 3 - ECG 19 / 03 / 14 : isquemia subepicárdica anterior , alteração de repolarização ventricular infero - lateral 4 - Laboratoriais 12 / 04 / 14 : K 5 . 1 , clearence creatinina 57 Ao EF : PA 170x100mmHg ( relata PA normal quando em ambiente não hospitalar ) , FC 63bpm AR : mv sem RA ACV : rcr em 2T sem sopros , com hipofonese de bulhas AD : abdome globos , normotenso , indolor , ausência de massas ou visceromegalias MMII sem edema HD : - ICC diastólica classe III - HAS - DMII - Dislipidemia CD : - mantenho medicação - retorno em 6 m com exames laboratoriais + ECG .'],\n",
       "  ['DMII',\n",
       "   'Rsultado de exames : 1 - Microalbuminúria 12 / 04 : 10 . 64 / G de creatinina 2 - US abdome total : rins com alterações tróficas 3 - ECG 19 / 03 / 14 : isquemia subepicárdica anterior , alteração de repolarização ventricular infero - lateral 4 - Laboratoriais 12 / 04 / 14 : K 5 . 1 , clearence creatinina 57 Ao EF : PA 170x100mmHg ( relata PA normal quando em ambiente não hospitalar ) , FC 63bpm AR : mv sem RA ACV : rcr em 2T sem sopros , com hipofonese de bulhas AD : abdome globos , normotenso , indolor , ausência de massas ou visceromegalias MMII sem edema HD : - ICC diastólica classe III - HAS - DMII - Dislipidemia CD : - mantenho medicação - retorno em 6 m com exames laboratoriais + ECG .'],\n",
       "  ['Dislipidemia',\n",
       "   'Rsultado de exames : 1 - Microalbuminúria 12 / 04 : 10 . 64 / G de creatinina 2 - US abdome total : rins com alterações tróficas 3 - ECG 19 / 03 / 14 : isquemia subepicárdica anterior , alteração de repolarização ventricular infero - lateral 4 - Laboratoriais 12 / 04 / 14 : K 5 . 1 , clearence creatinina 57 Ao EF : PA 170x100mmHg ( relata PA normal quando em ambiente não hospitalar ) , FC 63bpm AR : mv sem RA ACV : rcr em 2T sem sopros , com hipofonese de bulhas AD : abdome globos , normotenso , indolor , ausência de massas ou visceromegalias MMII sem edema HD : - ICC diastólica classe III - HAS - DMII - Dislipidemia CD : - mantenho medicação - retorno em 6 m com exames laboratoriais + ECG .'],\n",
       "  ['medicação',\n",
       "   'Rsultado de exames : 1 - Microalbuminúria 12 / 04 : 10 . 64 / G de creatinina 2 - US abdome total : rins com alterações tróficas 3 - ECG 19 / 03 / 14 : isquemia subepicárdica anterior , alteração de repolarização ventricular infero - lateral 4 - Laboratoriais 12 / 04 / 14 : K 5 . 1 , clearence creatinina 57 Ao EF : PA 170x100mmHg ( relata PA normal quando em ambiente não hospitalar ) , FC 63bpm AR : mv sem RA ACV : rcr em 2T sem sopros , com hipofonese de bulhas AD : abdome globos , normotenso , indolor , ausência de massas ou visceromegalias MMII sem edema HD : - ICC diastólica classe III - HAS - DMII - Dislipidemia CD : - mantenho medicação - retorno em 6 m com exames laboratoriais + ECG .'],\n",
       "  ['exames laboratoriais',\n",
       "   'Rsultado de exames : 1 - Microalbuminúria 12 / 04 : 10 . 64 / G de creatinina 2 - US abdome total : rins com alterações tróficas 3 - ECG 19 / 03 / 14 : isquemia subepicárdica anterior , alteração de repolarização ventricular infero - lateral 4 - Laboratoriais 12 / 04 / 14 : K 5 . 1 , clearence creatinina 57 Ao EF : PA 170x100mmHg ( relata PA normal quando em ambiente não hospitalar ) , FC 63bpm AR : mv sem RA ACV : rcr em 2T sem sopros , com hipofonese de bulhas AD : abdome globos , normotenso , indolor , ausência de massas ou visceromegalias MMII sem edema HD : - ICC diastólica classe III - HAS - DMII - Dislipidemia CD : - mantenho medicação - retorno em 6 m com exames laboratoriais + ECG .'],\n",
       "  ['ECG',\n",
       "   'Rsultado de exames : 1 - Microalbuminúria 12 / 04 : 10 . 64 / G de creatinina 2 - US abdome total : rins com alterações tróficas 3 - ECG 19 / 03 / 14 : isquemia subepicárdica anterior , alteração de repolarização ventricular infero - lateral 4 - Laboratoriais 12 / 04 / 14 : K 5 . 1 , clearence creatinina 57 Ao EF : PA 170x100mmHg ( relata PA normal quando em ambiente não hospitalar ) , FC 63bpm AR : mv sem RA ACV : rcr em 2T sem sopros , com hipofonese de bulhas AD : abdome globos , normotenso , indolor , ausência de massas ou visceromegalias MMII sem edema HD : - ICC diastólica classe III - HAS - DMII - Dislipidemia CD : - mantenho medicação - retorno em 6 m com exames laboratoriais + ECG .']],\n",
       " [['ICC classe III HAS',\n",
       "   'ICC classe III HAS , em uso de atenolol 100mg / dia , AAS , 100mg / dia , furosemida 40mg 1cp 12 / 12h , anlodipino 5mg 1 / 2 cp à noite , losartana 50mg 12 / 12h DMII , metformina 850mg 12 / 12h Dislipidemia , faz uso de sinvastatina 20mg 02 cp à noite .'],\n",
       "  ['classe III HAS',\n",
       "   'ICC classe III HAS , em uso de atenolol 100mg / dia , AAS , 100mg / dia , furosemida 40mg 1cp 12 / 12h , anlodipino 5mg 1 / 2 cp à noite , losartana 50mg 12 / 12h DMII , metformina 850mg 12 / 12h Dislipidemia , faz uso de sinvastatina 20mg 02 cp à noite .'],\n",
       "  ['atenolol 100mg',\n",
       "   'ICC classe III HAS , em uso de atenolol 100mg / dia , AAS , 100mg / dia , furosemida 40mg 1cp 12 / 12h , anlodipino 5mg 1 / 2 cp à noite , losartana 50mg 12 / 12h DMII , metformina 850mg 12 / 12h Dislipidemia , faz uso de sinvastatina 20mg 02 cp à noite .'],\n",
       "  ['AAS , 100mg',\n",
       "   'ICC classe III HAS , em uso de atenolol 100mg / dia , AAS , 100mg / dia , furosemida 40mg 1cp 12 / 12h , anlodipino 5mg 1 / 2 cp à noite , losartana 50mg 12 / 12h DMII , metformina 850mg 12 / 12h Dislipidemia , faz uso de sinvastatina 20mg 02 cp à noite .'],\n",
       "  ['AAS',\n",
       "   'ICC classe III HAS , em uso de atenolol 100mg / dia , AAS , 100mg / dia , furosemida 40mg 1cp 12 / 12h , anlodipino 5mg 1 / 2 cp à noite , losartana 50mg 12 / 12h DMII , metformina 850mg 12 / 12h Dislipidemia , faz uso de sinvastatina 20mg 02 cp à noite .'],\n",
       "  ['furosemida 40mg',\n",
       "   'ICC classe III HAS , em uso de atenolol 100mg / dia , AAS , 100mg / dia , furosemida 40mg 1cp 12 / 12h , anlodipino 5mg 1 / 2 cp à noite , losartana 50mg 12 / 12h DMII , metformina 850mg 12 / 12h Dislipidemia , faz uso de sinvastatina 20mg 02 cp à noite .'],\n",
       "  ['anlodipino 5mg',\n",
       "   'ICC classe III HAS , em uso de atenolol 100mg / dia , AAS , 100mg / dia , furosemida 40mg 1cp 12 / 12h , anlodipino 5mg 1 / 2 cp à noite , losartana 50mg 12 / 12h DMII , metformina 850mg 12 / 12h Dislipidemia , faz uso de sinvastatina 20mg 02 cp à noite .'],\n",
       "  ['losartana 50mg',\n",
       "   'ICC classe III HAS , em uso de atenolol 100mg / dia , AAS , 100mg / dia , furosemida 40mg 1cp 12 / 12h , anlodipino 5mg 1 / 2 cp à noite , losartana 50mg 12 / 12h DMII , metformina 850mg 12 / 12h Dislipidemia , faz uso de sinvastatina 20mg 02 cp à noite .'],\n",
       "  ['metformina 850mg',\n",
       "   'ICC classe III HAS , em uso de atenolol 100mg / dia , AAS , 100mg / dia , furosemida 40mg 1cp 12 / 12h , anlodipino 5mg 1 / 2 cp à noite , losartana 50mg 12 / 12h DMII , metformina 850mg 12 / 12h Dislipidemia , faz uso de sinvastatina 20mg 02 cp à noite .']],\n",
       " [['TX CARDIACO', 'POS TX CARDIACO HA 20 dias .'],\n",
       "  ['CARDIACO', 'POS TX CARDIACO HA 20 dias .']],\n",
       " [['BIOPSIA', 'ULTIMA BIOPSIA AINDA SEM RESULTADO .']],\n",
       " [['EVEROLIMUS 0 , 75',\n",
       "   'EM USO DE EVEROLIMUS 0 , 75 DE 8 / 8 , AZATIOPRINA 50 / 50 E PREDNISONA 20MG / DIA .'],\n",
       "  ['AZATIOPRINA 50',\n",
       "   'EM USO DE EVEROLIMUS 0 , 75 DE 8 / 8 , AZATIOPRINA 50 / 50 E PREDNISONA 20MG / DIA .'],\n",
       "  ['AZATIOPRINA',\n",
       "   'EM USO DE EVEROLIMUS 0 , 75 DE 8 / 8 , AZATIOPRINA 50 / 50 E PREDNISONA 20MG / DIA .'],\n",
       "  ['PREDNISONA 20MG',\n",
       "   'EM USO DE EVEROLIMUS 0 , 75 DE 8 / 8 , AZATIOPRINA 50 / 50 E PREDNISONA 20MG / DIA .']],\n",
       " [['FURO', 'USO DE FURO , AAS , SINVA .'],\n",
       "  ['AAS', 'USO DE FURO , AAS , SINVA .'],\n",
       "  ['SINVA', 'USO DE FURO , AAS , SINVA .']],\n",
       " [['QUEIXAS', 'S # SEM QUEIXAS .']],\n",
       " [['QUEIMAÇÃO NAS PERNAS', 'REFERE QUEIMAÇÃO NAS PERNAS .']],\n",
       " [['PA', 'O # PA 120 / 80 , FC 89 .'], ['FC', 'O # PA 120 / 80 , FC 89 .']],\n",
       " [['CPP', 'CPP LIVRE .']],\n",
       " [['MMII', 'MMII SEM EDEMA .'], ['EDEMA', 'MMII SEM EDEMA .']],\n",
       " [['TX CARDIACO', 'A # POS TX CARDIACO , COM BOA EVOLUÇÃO .'],\n",
       "  ['CARDIACO', 'A # POS TX CARDIACO , COM BOA EVOLUÇÃO .']],\n",
       " [['BIOPSIA', 'P # NOVA BIOPSIA , ECO E LAB .'],\n",
       "  ['ECO', 'P # NOVA BIOPSIA , ECO E LAB .'],\n",
       "  ['LAB', 'P # NOVA BIOPSIA , ECO E LAB .']],\n",
       " [['PROTESE VALVAR', 'PROTESE VALVAR MI 2012 .']],\n",
       " [['MAREVAN ENL 20',\n",
       "   'USA S MAREVAN ENL 20 12 - 12 ATL 50 12 - 12 ESPIRONOLACTONA 25 MG - D SVT 20 MG - D .'],\n",
       "  ['ESPIRONOLACTONA 25 MG',\n",
       "   'USA S MAREVAN ENL 20 12 - 12 ATL 50 12 - 12 ESPIRONOLACTONA 25 MG - D SVT 20 MG - D .']],\n",
       " [['QX CARDIOLOGICAS', 'SEM QX CARDIOLOGICAS .'],\n",
       "  ['CARDIOLOGICAS', 'SEM QX CARDIOLOGICAS .']],\n",
       " [['AE',\n",
       "   '27 - 01 - 15 FE 50 EP 25 AE 46 VE REMODELAMENTO CONCENTRICO AE E AD AUMENTADOS VD NL PROTESE AO NF REFLUXO DISCRETO = DUPLA LESAO MI COM ESTENOSE E INSUF MODERADAS - INSUF TRI MODERADA A IMPORTANTE = HIPERTENSAO PULMONAR .'],\n",
       "  ['VE',\n",
       "   '27 - 01 - 15 FE 50 EP 25 AE 46 VE REMODELAMENTO CONCENTRICO AE E AD AUMENTADOS VD NL PROTESE AO NF REFLUXO DISCRETO = DUPLA LESAO MI COM ESTENOSE E INSUF MODERADAS - INSUF TRI MODERADA A IMPORTANTE = HIPERTENSAO PULMONAR .'],\n",
       "  ['DUPLA LESAO MI',\n",
       "   '27 - 01 - 15 FE 50 EP 25 AE 46 VE REMODELAMENTO CONCENTRICO AE E AD AUMENTADOS VD NL PROTESE AO NF REFLUXO DISCRETO = DUPLA LESAO MI COM ESTENOSE E INSUF MODERADAS - INSUF TRI MODERADA A IMPORTANTE = HIPERTENSAO PULMONAR .'],\n",
       "  ['DUPLA LESAO',\n",
       "   '27 - 01 - 15 FE 50 EP 25 AE 46 VE REMODELAMENTO CONCENTRICO AE E AD AUMENTADOS VD NL PROTESE AO NF REFLUXO DISCRETO = DUPLA LESAO MI COM ESTENOSE E INSUF MODERADAS - INSUF TRI MODERADA A IMPORTANTE = HIPERTENSAO PULMONAR .'],\n",
       "  ['LESAO MI',\n",
       "   '27 - 01 - 15 FE 50 EP 25 AE 46 VE REMODELAMENTO CONCENTRICO AE E AD AUMENTADOS VD NL PROTESE AO NF REFLUXO DISCRETO = DUPLA LESAO MI COM ESTENOSE E INSUF MODERADAS - INSUF TRI MODERADA A IMPORTANTE = HIPERTENSAO PULMONAR .'],\n",
       "  ['ESTENOSE',\n",
       "   '27 - 01 - 15 FE 50 EP 25 AE 46 VE REMODELAMENTO CONCENTRICO AE E AD AUMENTADOS VD NL PROTESE AO NF REFLUXO DISCRETO = DUPLA LESAO MI COM ESTENOSE E INSUF MODERADAS - INSUF TRI MODERADA A IMPORTANTE = HIPERTENSAO PULMONAR .'],\n",
       "  ['INSUF MODERADAS',\n",
       "   '27 - 01 - 15 FE 50 EP 25 AE 46 VE REMODELAMENTO CONCENTRICO AE E AD AUMENTADOS VD NL PROTESE AO NF REFLUXO DISCRETO = DUPLA LESAO MI COM ESTENOSE E INSUF MODERADAS - INSUF TRI MODERADA A IMPORTANTE = HIPERTENSAO PULMONAR .'],\n",
       "  ['HIPERTENSAO PULMONAR',\n",
       "   '27 - 01 - 15 FE 50 EP 25 AE 46 VE REMODELAMENTO CONCENTRICO AE E AD AUMENTADOS VD NL PROTESE AO NF REFLUXO DISCRETO = DUPLA LESAO MI COM ESTENOSE E INSUF MODERADAS - INSUF TRI MODERADA A IMPORTANTE = HIPERTENSAO PULMONAR .'],\n",
       "  ['PULMONAR',\n",
       "   '27 - 01 - 15 FE 50 EP 25 AE 46 VE REMODELAMENTO CONCENTRICO AE E AD AUMENTADOS VD NL PROTESE AO NF REFLUXO DISCRETO = DUPLA LESAO MI COM ESTENOSE E INSUF MODERADAS - INSUF TRI MODERADA A IMPORTANTE = HIPERTENSAO PULMONAR .']],\n",
       " [['ACO', 'CONTROLE NO AMB VALVAS E ACO .']],\n",
       " [['Protese Metalica Aortica', 'Protese Metalica Aortica em 2004 .']],\n",
       " [['Enalapril 10',\n",
       "   'Uso : Enalapril 10 - 2cp - 12 / 12 / Atenolol 50 - 1cp = 12 / 12 ; Espironolactona 25 - 1xd ; Sinvastatina 20 - 1x noite ; Calcio 500 - 3x d ; Marevan 5 - amb da ACXO ; Trazodona 25 1x d .'],\n",
       "  ['Atenolol 50',\n",
       "   'Uso : Enalapril 10 - 2cp - 12 / 12 / Atenolol 50 - 1cp = 12 / 12 ; Espironolactona 25 - 1xd ; Sinvastatina 20 - 1x noite ; Calcio 500 - 3x d ; Marevan 5 - amb da ACXO ; Trazodona 25 1x d .'],\n",
       "  ['Espironolactona 25',\n",
       "   'Uso : Enalapril 10 - 2cp - 12 / 12 / Atenolol 50 - 1cp = 12 / 12 ; Espironolactona 25 - 1xd ; Sinvastatina 20 - 1x noite ; Calcio 500 - 3x d ; Marevan 5 - amb da ACXO ; Trazodona 25 1x d .'],\n",
       "  ['Sinvastatina 20',\n",
       "   'Uso : Enalapril 10 - 2cp - 12 / 12 / Atenolol 50 - 1cp = 12 / 12 ; Espironolactona 25 - 1xd ; Sinvastatina 20 - 1x noite ; Calcio 500 - 3x d ; Marevan 5 - amb da ACXO ; Trazodona 25 1x d .']],\n",
       " [['Dispnia esporadica',\n",
       "   'Dispnia esporadica , edema mmii eventual , sem palpitação , dor toracica quando epigastralgia que melhoram com paracetamol .'],\n",
       "  ['edema mmii eventual',\n",
       "   'Dispnia esporadica , edema mmii eventual , sem palpitação , dor toracica quando epigastralgia que melhoram com paracetamol .'],\n",
       "  ['mmii eventual',\n",
       "   'Dispnia esporadica , edema mmii eventual , sem palpitação , dor toracica quando epigastralgia que melhoram com paracetamol .'],\n",
       "  ['palpitação',\n",
       "   'Dispnia esporadica , edema mmii eventual , sem palpitação , dor toracica quando epigastralgia que melhoram com paracetamol .'],\n",
       "  ['dor toracica quando epigastralgia',\n",
       "   'Dispnia esporadica , edema mmii eventual , sem palpitação , dor toracica quando epigastralgia que melhoram com paracetamol .'],\n",
       "  ['toracica quando epigastralgia',\n",
       "   'Dispnia esporadica , edema mmii eventual , sem palpitação , dor toracica quando epigastralgia que melhoram com paracetamol .'],\n",
       "  ['paracetamol',\n",
       "   'Dispnia esporadica , edema mmii eventual , sem palpitação , dor toracica quando epigastralgia que melhoram com paracetamol .']],\n",
       " [['Lab',\n",
       "   'Lab ( 21 / 01 / 16 ) : Hbglic 6 , 34 ; TSH 2 , 15 ; Hb 13 , 5 ; VG 42 % leuco 9610 ; plaq 234000 ; Urina I ok ; K 4 , 4 ; Cr 1 , 1 ; Gli 71 ; U 69 ; Tri 67 ; HDL - C 77 ; ColT 160 ; LDL - C 70 ; .'],\n",
       "  ['Hbglic',\n",
       "   'Lab ( 21 / 01 / 16 ) : Hbglic 6 , 34 ; TSH 2 , 15 ; Hb 13 , 5 ; VG 42 % leuco 9610 ; plaq 234000 ; Urina I ok ; K 4 , 4 ; Cr 1 , 1 ; Gli 71 ; U 69 ; Tri 67 ; HDL - C 77 ; ColT 160 ; LDL - C 70 ; .'],\n",
       "  ['TSH',\n",
       "   'Lab ( 21 / 01 / 16 ) : Hbglic 6 , 34 ; TSH 2 , 15 ; Hb 13 , 5 ; VG 42 % leuco 9610 ; plaq 234000 ; Urina I ok ; K 4 , 4 ; Cr 1 , 1 ; Gli 71 ; U 69 ; Tri 67 ; HDL - C 77 ; ColT 160 ; LDL - C 70 ; .'],\n",
       "  ['Hb',\n",
       "   'Lab ( 21 / 01 / 16 ) : Hbglic 6 , 34 ; TSH 2 , 15 ; Hb 13 , 5 ; VG 42 % leuco 9610 ; plaq 234000 ; Urina I ok ; K 4 , 4 ; Cr 1 , 1 ; Gli 71 ; U 69 ; Tri 67 ; HDL - C 77 ; ColT 160 ; LDL - C 70 ; .'],\n",
       "  ['VG',\n",
       "   'Lab ( 21 / 01 / 16 ) : Hbglic 6 , 34 ; TSH 2 , 15 ; Hb 13 , 5 ; VG 42 % leuco 9610 ; plaq 234000 ; Urina I ok ; K 4 , 4 ; Cr 1 , 1 ; Gli 71 ; U 69 ; Tri 67 ; HDL - C 77 ; ColT 160 ; LDL - C 70 ; .'],\n",
       "  ['leuco',\n",
       "   'Lab ( 21 / 01 / 16 ) : Hbglic 6 , 34 ; TSH 2 , 15 ; Hb 13 , 5 ; VG 42 % leuco 9610 ; plaq 234000 ; Urina I ok ; K 4 , 4 ; Cr 1 , 1 ; Gli 71 ; U 69 ; Tri 67 ; HDL - C 77 ; ColT 160 ; LDL - C 70 ; .'],\n",
       "  ['plaq',\n",
       "   'Lab ( 21 / 01 / 16 ) : Hbglic 6 , 34 ; TSH 2 , 15 ; Hb 13 , 5 ; VG 42 % leuco 9610 ; plaq 234000 ; Urina I ok ; K 4 , 4 ; Cr 1 , 1 ; Gli 71 ; U 69 ; Tri 67 ; HDL - C 77 ; ColT 160 ; LDL - C 70 ; .'],\n",
       "  ['Urina I',\n",
       "   'Lab ( 21 / 01 / 16 ) : Hbglic 6 , 34 ; TSH 2 , 15 ; Hb 13 , 5 ; VG 42 % leuco 9610 ; plaq 234000 ; Urina I ok ; K 4 , 4 ; Cr 1 , 1 ; Gli 71 ; U 69 ; Tri 67 ; HDL - C 77 ; ColT 160 ; LDL - C 70 ; .'],\n",
       "  ['K',\n",
       "   'Lab ( 21 / 01 / 16 ) : Hbglic 6 , 34 ; TSH 2 , 15 ; Hb 13 , 5 ; VG 42 % leuco 9610 ; plaq 234000 ; Urina I ok ; K 4 , 4 ; Cr 1 , 1 ; Gli 71 ; U 69 ; Tri 67 ; HDL - C 77 ; ColT 160 ; LDL - C 70 ; .'],\n",
       "  ['Cr',\n",
       "   'Lab ( 21 / 01 / 16 ) : Hbglic 6 , 34 ; TSH 2 , 15 ; Hb 13 , 5 ; VG 42 % leuco 9610 ; plaq 234000 ; Urina I ok ; K 4 , 4 ; Cr 1 , 1 ; Gli 71 ; U 69 ; Tri 67 ; HDL - C 77 ; ColT 160 ; LDL - C 70 ; .'],\n",
       "  ['Gli',\n",
       "   'Lab ( 21 / 01 / 16 ) : Hbglic 6 , 34 ; TSH 2 , 15 ; Hb 13 , 5 ; VG 42 % leuco 9610 ; plaq 234000 ; Urina I ok ; K 4 , 4 ; Cr 1 , 1 ; Gli 71 ; U 69 ; Tri 67 ; HDL - C 77 ; ColT 160 ; LDL - C 70 ; .'],\n",
       "  ['U',\n",
       "   'Lab ( 21 / 01 / 16 ) : Hbglic 6 , 34 ; TSH 2 , 15 ; Hb 13 , 5 ; VG 42 % leuco 9610 ; plaq 234000 ; Urina I ok ; K 4 , 4 ; Cr 1 , 1 ; Gli 71 ; U 69 ; Tri 67 ; HDL - C 77 ; ColT 160 ; LDL - C 70 ; .'],\n",
       "  ['Tri',\n",
       "   'Lab ( 21 / 01 / 16 ) : Hbglic 6 , 34 ; TSH 2 , 15 ; Hb 13 , 5 ; VG 42 % leuco 9610 ; plaq 234000 ; Urina I ok ; K 4 , 4 ; Cr 1 , 1 ; Gli 71 ; U 69 ; Tri 67 ; HDL - C 77 ; ColT 160 ; LDL - C 70 ; .'],\n",
       "  ['HDL',\n",
       "   'Lab ( 21 / 01 / 16 ) : Hbglic 6 , 34 ; TSH 2 , 15 ; Hb 13 , 5 ; VG 42 % leuco 9610 ; plaq 234000 ; Urina I ok ; K 4 , 4 ; Cr 1 , 1 ; Gli 71 ; U 69 ; Tri 67 ; HDL - C 77 ; ColT 160 ; LDL - C 70 ; .'],\n",
       "  ['ColT',\n",
       "   'Lab ( 21 / 01 / 16 ) : Hbglic 6 , 34 ; TSH 2 , 15 ; Hb 13 , 5 ; VG 42 % leuco 9610 ; plaq 234000 ; Urina I ok ; K 4 , 4 ; Cr 1 , 1 ; Gli 71 ; U 69 ; Tri 67 ; HDL - C 77 ; ColT 160 ; LDL - C 70 ; .'],\n",
       "  ['LDL',\n",
       "   'Lab ( 21 / 01 / 16 ) : Hbglic 6 , 34 ; TSH 2 , 15 ; Hb 13 , 5 ; VG 42 % leuco 9610 ; plaq 234000 ; Urina I ok ; K 4 , 4 ; Cr 1 , 1 ; Gli 71 ; U 69 ; Tri 67 ; HDL - C 77 ; ColT 160 ; LDL - C 70 ; .']],\n",
       " [['Ecocardio',\n",
       "   'Ecocardio ( 04 / 12 / 15 ) : AE 42 ; DDVE 39 ; DSVE 23 ; FE 73 % ; VMi area 1 , 65 ; calcificada , refluxo discreto .'],\n",
       "  ['AE',\n",
       "   'Ecocardio ( 04 / 12 / 15 ) : AE 42 ; DDVE 39 ; DSVE 23 ; FE 73 % ; VMi area 1 , 65 ; calcificada , refluxo discreto .']],\n",
       " [['VAo', 'VAo protese metalica com espessamento , e relfuxo discreto .']],\n",
       " [['ARea', 'ARea de 1 , 12 .']],\n",
       " [['VTri', 'VTri = refluxo discreto com PSAP 56mmHg .'],\n",
       "  ['refluxo discreto', 'VTri = refluxo discreto com PSAP 56mmHg .'],\n",
       "  ['refluxo', 'VTri = refluxo discreto com PSAP 56mmHg .'],\n",
       "  ['discreto', 'VTri = refluxo discreto com PSAP 56mmHg .']],\n",
       " [['VP refluxo minimo', 'VP refluxo minimo .']],\n",
       " [['VE hipertrofiado', 'VE hipertrofiado .']],\n",
       " [['SIv', ', SIv 13 .']],\n",
       " [['PPVE', 'PPVE 14 .']],\n",
       " [['PA', 'PA ( sentada ) : 140x60mmHg , P 76 .'],\n",
       "  ['P', 'PA ( sentada ) : 140x60mmHg , P 76 .']],\n",
       " [['ruidos adsventicios', 'MV normodist sem ruidos adsventicios .']],\n",
       " [],\n",
       " [['edema mmii', 'BEG , eupneica , acianotica , orientada , Sem edema mmii .'],\n",
       "  ['mmii', 'BEG , eupneica , acianotica , orientada , Sem edema mmii .']],\n",
       " [['protese Metalica AOrtoca',\n",
       "   'HD : protese Metalica AOrtoca normofuncionante .']],\n",
       " [['Disfunbção diastolica', 'Disfunbção diastolica .']],\n",
       " [['Espironolactona', 'CD : Suspendo Espironolactona .']],\n",
       " [['Sinvastatina para 10mg', 'Reduzo Sinvastatina para 10mg / noite .']],\n",
       " [['Omeprazol 20', 'ACrescento Omeprazol 20 - 1x d .']],\n",
       " [['lab', 'Retonro em 6m com lab .']],\n",
       " [['DÇ DE CHAGAS', '# DÇ DE CHAGAS .']],\n",
       " [['BAVT', '# BAVT .']],\n",
       " [['MARCA - PASSO',\n",
       "   '# MARCA - PASSO DUPLACAMARA EM DDD 50 - 60 DESDE 2007 .']],\n",
       " [['DISPNEIA', 'PACIENTE NEGA DISPNEIA , NEGA ORTOPNEIA , NEGA DPN .'],\n",
       "  ['ORTOPNEIA', 'PACIENTE NEGA DISPNEIA , NEGA ORTOPNEIA , NEGA DPN .'],\n",
       "  ['DPN', 'PACIENTE NEGA DISPNEIA , NEGA ORTOPNEIA , NEGA DPN .']],\n",
       " [['OUTRAS QUEIXAS', 'SEM OUTRAS QUEIXAS .']],\n",
       " [['HAS', '# NEGA HX DE HAS , DM , DISLIPIDEMIA E TIREOIDOPATIAS .'],\n",
       "  ['DM', '# NEGA HX DE HAS , DM , DISLIPIDEMIA E TIREOIDOPATIAS .'],\n",
       "  ['DISLIPIDEMIA', '# NEGA HX DE HAS , DM , DISLIPIDEMIA E TIREOIDOPATIAS .'],\n",
       "  ['TIREOIDOPATIAS',\n",
       "   '# NEGA HX DE HAS , DM , DISLIPIDEMIA E TIREOIDOPATIAS .']],\n",
       " [['CX DE APENDICITE',\n",
       "   '# CX DE APENDICITE E HERNIAS PARAMEDIANAS HÁ > 20 ANOS .'],\n",
       "  ['HERNIAS PARAMEDIANAS',\n",
       "   '# CX DE APENDICITE E HERNIAS PARAMEDIANAS HÁ > 20 ANOS .'],\n",
       "  ['HERNIAS', '# CX DE APENDICITE E HERNIAS PARAMEDIANAS HÁ > 20 ANOS .'],\n",
       "  ['PARAMEDIANAS',\n",
       "   '# CX DE APENDICITE E HERNIAS PARAMEDIANAS HÁ > 20 ANOS .']],\n",
       " [['METOPROLOL 50MG', 'METOPROLOL 50MG 12 / 12HS .']],\n",
       " [['ENALAPRIL 10 MG', 'ENALAPRIL 10 MG 12 / 12HS .']],\n",
       " [['ESPIRONO 25', 'ESPIRONO 25 .']],\n",
       " [['SVT 20', 'SVT 20 .']],\n",
       " [['EXAMES LAB',\n",
       "   'EXAMES LAB 11 / 11 : CREAT 1 ; UR 58 ; GLI 71 ; TG 88 ; HDL 52 ; CT 160 ; LDL 90 ; Na 140 ; K 5 , 2 ; Hb 14 , 8 / Ht 46 , 6 / LEUC 5150 .'],\n",
       "  ['CREAT',\n",
       "   'EXAMES LAB 11 / 11 : CREAT 1 ; UR 58 ; GLI 71 ; TG 88 ; HDL 52 ; CT 160 ; LDL 90 ; Na 140 ; K 5 , 2 ; Hb 14 , 8 / Ht 46 , 6 / LEUC 5150 .'],\n",
       "  ['UR',\n",
       "   'EXAMES LAB 11 / 11 : CREAT 1 ; UR 58 ; GLI 71 ; TG 88 ; HDL 52 ; CT 160 ; LDL 90 ; Na 140 ; K 5 , 2 ; Hb 14 , 8 / Ht 46 , 6 / LEUC 5150 .'],\n",
       "  ['GLI',\n",
       "   'EXAMES LAB 11 / 11 : CREAT 1 ; UR 58 ; GLI 71 ; TG 88 ; HDL 52 ; CT 160 ; LDL 90 ; Na 140 ; K 5 , 2 ; Hb 14 , 8 / Ht 46 , 6 / LEUC 5150 .'],\n",
       "  ['TG',\n",
       "   'EXAMES LAB 11 / 11 : CREAT 1 ; UR 58 ; GLI 71 ; TG 88 ; HDL 52 ; CT 160 ; LDL 90 ; Na 140 ; K 5 , 2 ; Hb 14 , 8 / Ht 46 , 6 / LEUC 5150 .'],\n",
       "  ['HDL',\n",
       "   'EXAMES LAB 11 / 11 : CREAT 1 ; UR 58 ; GLI 71 ; TG 88 ; HDL 52 ; CT 160 ; LDL 90 ; Na 140 ; K 5 , 2 ; Hb 14 , 8 / Ht 46 , 6 / LEUC 5150 .'],\n",
       "  ['CT',\n",
       "   'EXAMES LAB 11 / 11 : CREAT 1 ; UR 58 ; GLI 71 ; TG 88 ; HDL 52 ; CT 160 ; LDL 90 ; Na 140 ; K 5 , 2 ; Hb 14 , 8 / Ht 46 , 6 / LEUC 5150 .'],\n",
       "  ['LDL',\n",
       "   'EXAMES LAB 11 / 11 : CREAT 1 ; UR 58 ; GLI 71 ; TG 88 ; HDL 52 ; CT 160 ; LDL 90 ; Na 140 ; K 5 , 2 ; Hb 14 , 8 / Ht 46 , 6 / LEUC 5150 .'],\n",
       "  ['Na',\n",
       "   'EXAMES LAB 11 / 11 : CREAT 1 ; UR 58 ; GLI 71 ; TG 88 ; HDL 52 ; CT 160 ; LDL 90 ; Na 140 ; K 5 , 2 ; Hb 14 , 8 / Ht 46 , 6 / LEUC 5150 .'],\n",
       "  ['K',\n",
       "   'EXAMES LAB 11 / 11 : CREAT 1 ; UR 58 ; GLI 71 ; TG 88 ; HDL 52 ; CT 160 ; LDL 90 ; Na 140 ; K 5 , 2 ; Hb 14 , 8 / Ht 46 , 6 / LEUC 5150 .'],\n",
       "  ['Hb',\n",
       "   'EXAMES LAB 11 / 11 : CREAT 1 ; UR 58 ; GLI 71 ; TG 88 ; HDL 52 ; CT 160 ; LDL 90 ; Na 140 ; K 5 , 2 ; Hb 14 , 8 / Ht 46 , 6 / LEUC 5150 .'],\n",
       "  ['Ht',\n",
       "   'EXAMES LAB 11 / 11 : CREAT 1 ; UR 58 ; GLI 71 ; TG 88 ; HDL 52 ; CT 160 ; LDL 90 ; Na 140 ; K 5 , 2 ; Hb 14 , 8 / Ht 46 , 6 / LEUC 5150 .'],\n",
       "  ['LEUC',\n",
       "   'EXAMES LAB 11 / 11 : CREAT 1 ; UR 58 ; GLI 71 ; TG 88 ; HDL 52 ; CT 160 ; LDL 90 ; Na 140 ; K 5 , 2 ; Hb 14 , 8 / Ht 46 , 6 / LEUC 5150 .']],\n",
       " [['PA', 'PA : 90 / 60MMHG ; P : 72 .'], ['P', 'PA : 90 / 60MMHG ; P : 72 .']],\n",
       " [['TURGÊNCIA JUGULAR', 'AUSENCIA DE TURGÊNCIA JUGULAR .'],\n",
       "  ['JUGULAR', 'AUSENCIA DE TURGÊNCIA JUGULAR .']],\n",
       " [['ICTUS PALPÁVEL EM 7º EIC EM LINHA HEMIAXILAR E',\n",
       "   'ICTUS PALPÁVEL EM 7º EIC EM LINHA HEMIAXILAR E .'],\n",
       "  ['7º EIC EM LINHA HEMIAXILAR',\n",
       "   'ICTUS PALPÁVEL EM 7º EIC EM LINHA HEMIAXILAR E .'],\n",
       "  ['ICTUS PALPÁVEL EM 7º EIC EM LINHA HEMIAXILAR',\n",
       "   'ICTUS PALPÁVEL EM 7º EIC EM LINHA HEMIAXILAR E .'],\n",
       "  ['PALPÁVEL EM 7º EIC EM LINHA HEMIAXILAR E',\n",
       "   'ICTUS PALPÁVEL EM 7º EIC EM LINHA HEMIAXILAR E .']],\n",
       " [['SS', 'BCRNF 2T SS .']],\n",
       " [['PULMONAR', 'AUSCULTA PULMONAR SEM ALTERAÇÕES .'],\n",
       "  ['ALTERAÇÕES', 'AUSCULTA PULMONAR SEM ALTERAÇÕES .']],\n",
       " [['ABDOME', 'ABDOME INOCENTE .']],\n",
       " [['EDEMA EM MMII', 'SEM EDEMA EM MMII .'],\n",
       "  ['MMII', 'SEM EDEMA EM MMII .'],\n",
       "  ['EM MMII', 'SEM EDEMA EM MMII .']],\n",
       " [['PULSOS', 'PULSOS + BL , SIMÉTRICOS .']],\n",
       " [['DÇA CHAGAS', 'A : DÇA CHAGAS .']],\n",
       " [['MEDICAÇÕES', 'P : MANTENHO MEDICAÇÕES .']],\n",
       " [['ECOCARDIO', 'SOLICITO ECOCARDIO .']],\n",
       " [['queixas', 'sem queixas .']],\n",
       " [['avaliação exclusiva de mp', '# hoje avaliação exclusiva de mp .']],\n",
       " [['mp camara - dupla', '# mp camara - dupla .']],\n",
       " [['avaliar bat',\n",
       "   '# cd = retorno como encaixe para avaliar bat - pcte ciente que NÃO PODE DIXAR DE VIR , se intercorrencias = procura direta .'],\n",
       "  ['intercorrencias',\n",
       "   '# cd = retorno como encaixe para avaliar bat - pcte ciente que NÃO PODE DIXAR DE VIR , se intercorrencias = procura direta .']],\n",
       " [['ABLAÇÃO DE TAQUICARDIA ATRIAL',\n",
       "   'ABLAÇÃO DE TAQUICARDIA ATRIAL 2009 E A SEGUNDA EM 2010 .'],\n",
       "  ['DE TAQUICARDIA ATRIAL',\n",
       "   'ABLAÇÃO DE TAQUICARDIA ATRIAL 2009 E A SEGUNDA EM 2010 .']],\n",
       " [['HAS', 'HAS , NEGA DM , DLPD , TABAGISMO , ALERGIA MEDICAMENTOSA .'],\n",
       "  ['DM', 'HAS , NEGA DM , DLPD , TABAGISMO , ALERGIA MEDICAMENTOSA .'],\n",
       "  ['DLPD', 'HAS , NEGA DM , DLPD , TABAGISMO , ALERGIA MEDICAMENTOSA .'],\n",
       "  ['TABAGISMO', 'HAS , NEGA DM , DLPD , TABAGISMO , ALERGIA MEDICAMENTOSA .']],\n",
       " [['CATETERISMO', 'CATETERISMO COM AUSENCIA DE CORONARIOPATIA .'],\n",
       "  ['CORONARIOPATIA', 'CATETERISMO COM AUSENCIA DE CORONARIOPATIA .']],\n",
       " [['ATENOLOL 100MG',\n",
       "   'FAZ USO DE ATENOLOL 100MG 12 / 12H , DILTIAZEN 60MG 12 / 12H , ENALAPRIL 10MG 12 / 12H , HCTZ 25MG , MAREVAN 5MG .'],\n",
       "  ['DILTIAZEN 60MG',\n",
       "   'FAZ USO DE ATENOLOL 100MG 12 / 12H , DILTIAZEN 60MG 12 / 12H , ENALAPRIL 10MG 12 / 12H , HCTZ 25MG , MAREVAN 5MG .'],\n",
       "  ['ENALAPRIL 10MG',\n",
       "   'FAZ USO DE ATENOLOL 100MG 12 / 12H , DILTIAZEN 60MG 12 / 12H , ENALAPRIL 10MG 12 / 12H , HCTZ 25MG , MAREVAN 5MG .'],\n",
       "  ['HCTZ 25MG',\n",
       "   'FAZ USO DE ATENOLOL 100MG 12 / 12H , DILTIAZEN 60MG 12 / 12H , ENALAPRIL 10MG 12 / 12H , HCTZ 25MG , MAREVAN 5MG .'],\n",
       "  ['MAREVAN 5MG',\n",
       "   'FAZ USO DE ATENOLOL 100MG 12 / 12H , DILTIAZEN 60MG 12 / 12H , ENALAPRIL 10MG 12 / 12H , HCTZ 25MG , MAREVAN 5MG .']],\n",
       " [['HOLTER',\n",
       "   'HOLTER COM PRESENCA DE EV E ESV RARAS COM EPISODIOS NAO SUSTENTADOS DE TAQUICARDIA ATRIAL SEM PRESENCA DE SINTOMAS .'],\n",
       "  ['RARAS',\n",
       "   'HOLTER COM PRESENCA DE EV E ESV RARAS COM EPISODIOS NAO SUSTENTADOS DE TAQUICARDIA ATRIAL SEM PRESENCA DE SINTOMAS .'],\n",
       "  ['TAQUICARDIA ATRIAL',\n",
       "   'HOLTER COM PRESENCA DE EV E ESV RARAS COM EPISODIOS NAO SUSTENTADOS DE TAQUICARDIA ATRIAL SEM PRESENCA DE SINTOMAS .'],\n",
       "  ['SINTOMAS',\n",
       "   'HOLTER COM PRESENCA DE EV E ESV RARAS COM EPISODIOS NAO SUSTENTADOS DE TAQUICARDIA ATRIAL SEM PRESENCA DE SINTOMAS .']],\n",
       " [['MEDICAÇÕES',\n",
       "   '# PACIENTE REFERE ESTAR SE SENTINDO BEM COM AS MEDICAÇÕES .']],\n",
       " [['SINTOMAS DE PALPITAÇÕES', 'NEGA SINTOMAS DE PALPITAÇÕES .']],\n",
       " [['DISPNEIA AOS GRANDES ESFORCOS',\n",
       "   'RELATA DISPNEIA AOS GRANDES ESFORCOS , COM MELHORA COM REPOUSO .']],\n",
       " [['HIPOTENSAO', 'RELATA QUE APRESENTOU 1 EPISODIO DE HIPOTENSAO .']],\n",
       " [['CEFALEIA', 'RELATA CEFALEIA .']],\n",
       " [['PA', '# BEG , PA 120 / 80MMHG , FC 70 .'],\n",
       "  ['FC', '# BEG , PA 120 / 80MMHG , FC 70 .']],\n",
       " [['P', 'C / P : SEM ALT .'], ['ALT', 'C / P : SEM ALT .']],\n",
       " [['CORAÇÃO', 'CORAÇÃO : BRNF 2T , SEM SOPRO .'],\n",
       "  ['SOPRO', 'CORAÇÃO : BRNF 2T , SEM SOPRO .']],\n",
       " [['PULMAO', 'PULMAO : MV + , SEM RA .'], ['RA', 'PULMAO : MV + , SEM RA .']],\n",
       " [['MEDICAÇÃO', 'CD : MEDICAÇÃO MANTIDA .']],\n",
       " [['HOLTER', 'SOLICITO NOVO HOLTER E ECOCARDIO .'],\n",
       "  ['ECOCARDIO', 'SOLICITO NOVO HOLTER E ECOCARDIO .']],\n",
       " [['Comorbidades', 'Comorbidades : HAS .'], ['HAS', 'Comorbidades : HAS .']],\n",
       " [['Medicamentos atenolol 100mg',\n",
       "   'Medicamentos atenolol 100mg , 12 - 12h , .'],\n",
       "  ['atenolol 100mg', 'Medicamentos atenolol 100mg , 12 - 12h , .']],\n",
       " [['diltiazen 60mg', 'diltiazen 60mg , 12 - 12h , .']],\n",
       " [['Enalapril 10mg', 'Enalapril 10mg , 12 - 12h , .']],\n",
       " [['HCTZ 25mg', 'HCTZ 25mg , .']],\n",
       " [['Marevan 5mg', 'Marevan 5mg .']],\n",
       " [['ablações',\n",
       "   'HMA : fez 02 ablações ( 2009 e 2010 ) POR PALPITAÇÕES com taquicardia atrial ; .'],\n",
       "  ['PALPITAÇÕES',\n",
       "   'HMA : fez 02 ablações ( 2009 e 2010 ) POR PALPITAÇÕES com taquicardia atrial ; .'],\n",
       "  ['taquicardia atrial',\n",
       "   'HMA : fez 02 ablações ( 2009 e 2010 ) POR PALPITAÇÕES com taquicardia atrial ; .']],\n",
       " [['palpitações quando faz grandes esforços',\n",
       "   'Atualmente sente palpitações quando faz grandes esforços ; dor de cabeça que melhora com analgésico comum .']],\n",
       " [['FC', 'FC : 88 .']],\n",
       " [['Edema discreto mmi', 'Edema discreto mmi .']],\n",
       " [['pulmonar', 'Ausculta pulmonar e cardiaca normais .']],\n",
       " [['Homoenxerto aortico',\n",
       "   'Homoenxerto aortico ( por EAo ) + MIE - DA ; RAD - CD ; SAF - MG em 2006 - Doutor Vital Brazil .'],\n",
       "  ['EAo',\n",
       "   'Homoenxerto aortico ( por EAo ) + MIE - DA ; RAD - CD ; SAF - MG em 2006 - Doutor Vital Brazil .']],\n",
       " [['Hipertenso', 'Hipertenso , .']],\n",
       " [['AAS 100 mg',\n",
       "   'Em uso de : AAS 100 mg dia , losartana 100 mg dia , atovastatina 20 mg 4CP / DIA , atenolol 25mg / dia , furosemida 40mg / dia , omeoprazol 40mg ao dia , ezatimibe 10 mg , Hidantal 100mg - por cisticercose .'],\n",
       "  ['atenolol 25mg',\n",
       "   'Em uso de : AAS 100 mg dia , losartana 100 mg dia , atovastatina 20 mg 4CP / DIA , atenolol 25mg / dia , furosemida 40mg / dia , omeoprazol 40mg ao dia , ezatimibe 10 mg , Hidantal 100mg - por cisticercose .'],\n",
       "  ['furosemida 40mg',\n",
       "   'Em uso de : AAS 100 mg dia , losartana 100 mg dia , atovastatina 20 mg 4CP / DIA , atenolol 25mg / dia , furosemida 40mg / dia , omeoprazol 40mg ao dia , ezatimibe 10 mg , Hidantal 100mg - por cisticercose .'],\n",
       "  ['omeoprazol 40mg',\n",
       "   'Em uso de : AAS 100 mg dia , losartana 100 mg dia , atovastatina 20 mg 4CP / DIA , atenolol 25mg / dia , furosemida 40mg / dia , omeoprazol 40mg ao dia , ezatimibe 10 mg , Hidantal 100mg - por cisticercose .'],\n",
       "  ['ezatimibe 10 mg',\n",
       "   'Em uso de : AAS 100 mg dia , losartana 100 mg dia , atovastatina 20 mg 4CP / DIA , atenolol 25mg / dia , furosemida 40mg / dia , omeoprazol 40mg ao dia , ezatimibe 10 mg , Hidantal 100mg - por cisticercose .'],\n",
       "  ['Hidantal 100mg',\n",
       "   'Em uso de : AAS 100 mg dia , losartana 100 mg dia , atovastatina 20 mg 4CP / DIA , atenolol 25mg / dia , furosemida 40mg / dia , omeoprazol 40mg ao dia , ezatimibe 10 mg , Hidantal 100mg - por cisticercose .'],\n",
       "  ['cisticercose',\n",
       "   'Em uso de : AAS 100 mg dia , losartana 100 mg dia , atovastatina 20 mg 4CP / DIA , atenolol 25mg / dia , furosemida 40mg / dia , omeoprazol 40mg ao dia , ezatimibe 10 mg , Hidantal 100mg - por cisticercose .']],\n",
       " [['Penicilina G benzatina 1 , 200 , 000U IM',\n",
       "   'Penicilina G benzatina 1 , 200 , 000U IM a cada 21 dia - suspenso em 2013 .']],\n",
       " [['DOR REGIAO ESTERNAL , EM FO , LOCAL FIOS AÇO , EM QUEIMAÇÃO',\n",
       "   'DOR REGIAO ESTERNAL , EM FO , LOCAL FIOS AÇO , EM QUEIMAÇÃO .'],\n",
       "  ['DOR REGIAO ESTERNAL',\n",
       "   'DOR REGIAO ESTERNAL , EM FO , LOCAL FIOS AÇO , EM QUEIMAÇÃO .'],\n",
       "  ['LOCAL FIOS AÇO',\n",
       "   'DOR REGIAO ESTERNAL , EM FO , LOCAL FIOS AÇO , EM QUEIMAÇÃO .'],\n",
       "  ['FO , LOCAL FIOS',\n",
       "   'DOR REGIAO ESTERNAL , EM FO , LOCAL FIOS AÇO , EM QUEIMAÇÃO .'],\n",
       "  [', LOCAL FIOS AÇO',\n",
       "   'DOR REGIAO ESTERNAL , EM FO , LOCAL FIOS AÇO , EM QUEIMAÇÃO .'],\n",
       "  ['LOCAL FIOS AÇO ,',\n",
       "   'DOR REGIAO ESTERNAL , EM FO , LOCAL FIOS AÇO , EM QUEIMAÇÃO .'],\n",
       "  ['EM FO , LOCAL FIOS',\n",
       "   'DOR REGIAO ESTERNAL , EM FO , LOCAL FIOS AÇO , EM QUEIMAÇÃO .'],\n",
       "  ['FO , LOCAL FIOS AÇO',\n",
       "   'DOR REGIAO ESTERNAL , EM FO , LOCAL FIOS AÇO , EM QUEIMAÇÃO .'],\n",
       "  ['DOR REGIAO ESTERNAL , EM FO',\n",
       "   'DOR REGIAO ESTERNAL , EM FO , LOCAL FIOS AÇO , EM QUEIMAÇÃO .'],\n",
       "  ['EM FO , LOCAL FIOS AÇO',\n",
       "   'DOR REGIAO ESTERNAL , EM FO , LOCAL FIOS AÇO , EM QUEIMAÇÃO .'],\n",
       "  ['FO , LOCAL FIOS AÇO ,',\n",
       "   'DOR REGIAO ESTERNAL , EM FO , LOCAL FIOS AÇO , EM QUEIMAÇÃO .'],\n",
       "  ['LOCAL FIOS AÇO , EM QUEIMAÇÃO',\n",
       "   'DOR REGIAO ESTERNAL , EM FO , LOCAL FIOS AÇO , EM QUEIMAÇÃO .'],\n",
       "  ['DOR REGIAO ESTERNAL , EM FO ,',\n",
       "   'DOR REGIAO ESTERNAL , EM FO , LOCAL FIOS AÇO , EM QUEIMAÇÃO .'],\n",
       "  ['REGIAO ESTERNAL , EM FO , LOCAL',\n",
       "   'DOR REGIAO ESTERNAL , EM FO , LOCAL FIOS AÇO , EM QUEIMAÇÃO .'],\n",
       "  ['ESTERNAL , EM FO , LOCAL FIOS',\n",
       "   'DOR REGIAO ESTERNAL , EM FO , LOCAL FIOS AÇO , EM QUEIMAÇÃO .'],\n",
       "  [', EM FO , LOCAL FIOS AÇO',\n",
       "   'DOR REGIAO ESTERNAL , EM FO , LOCAL FIOS AÇO , EM QUEIMAÇÃO .'],\n",
       "  ['EM FO , LOCAL FIOS AÇO ,',\n",
       "   'DOR REGIAO ESTERNAL , EM FO , LOCAL FIOS AÇO , EM QUEIMAÇÃO .'],\n",
       "  ['FO , LOCAL FIOS AÇO , EM',\n",
       "   'DOR REGIAO ESTERNAL , EM FO , LOCAL FIOS AÇO , EM QUEIMAÇÃO .'],\n",
       "  [', LOCAL FIOS AÇO , EM QUEIMAÇÃO',\n",
       "   'DOR REGIAO ESTERNAL , EM FO , LOCAL FIOS AÇO , EM QUEIMAÇÃO .'],\n",
       "  ['DOR REGIAO ESTERNAL , EM FO , LOCAL',\n",
       "   'DOR REGIAO ESTERNAL , EM FO , LOCAL FIOS AÇO , EM QUEIMAÇÃO .'],\n",
       "  ['REGIAO ESTERNAL , EM FO , LOCAL FIOS',\n",
       "   'DOR REGIAO ESTERNAL , EM FO , LOCAL FIOS AÇO , EM QUEIMAÇÃO .'],\n",
       "  ['ESTERNAL , EM FO , LOCAL FIOS AÇO',\n",
       "   'DOR REGIAO ESTERNAL , EM FO , LOCAL FIOS AÇO , EM QUEIMAÇÃO .'],\n",
       "  [', EM FO , LOCAL FIOS AÇO ,',\n",
       "   'DOR REGIAO ESTERNAL , EM FO , LOCAL FIOS AÇO , EM QUEIMAÇÃO .'],\n",
       "  ['EM FO , LOCAL FIOS AÇO , EM',\n",
       "   'DOR REGIAO ESTERNAL , EM FO , LOCAL FIOS AÇO , EM QUEIMAÇÃO .'],\n",
       "  ['FO , LOCAL FIOS AÇO , EM QUEIMAÇÃO',\n",
       "   'DOR REGIAO ESTERNAL , EM FO , LOCAL FIOS AÇO , EM QUEIMAÇÃO .'],\n",
       "  ['DOR REGIAO ESTERNAL , EM FO , LOCAL FIOS',\n",
       "   'DOR REGIAO ESTERNAL , EM FO , LOCAL FIOS AÇO , EM QUEIMAÇÃO .'],\n",
       "  ['REGIAO ESTERNAL , EM FO , LOCAL FIOS AÇO',\n",
       "   'DOR REGIAO ESTERNAL , EM FO , LOCAL FIOS AÇO , EM QUEIMAÇÃO .'],\n",
       "  ['ESTERNAL , EM FO , LOCAL FIOS AÇO ,',\n",
       "   'DOR REGIAO ESTERNAL , EM FO , LOCAL FIOS AÇO , EM QUEIMAÇÃO .'],\n",
       "  ['EM FO , LOCAL FIOS AÇO , EM QUEIMAÇÃO',\n",
       "   'DOR REGIAO ESTERNAL , EM FO , LOCAL FIOS AÇO , EM QUEIMAÇÃO .'],\n",
       "  ['DOR REGIAO ESTERNAL , EM FO , LOCAL FIOS AÇO',\n",
       "   'DOR REGIAO ESTERNAL , EM FO , LOCAL FIOS AÇO , EM QUEIMAÇÃO .'],\n",
       "  ['REGIAO ESTERNAL , EM FO , LOCAL FIOS AÇO ,',\n",
       "   'DOR REGIAO ESTERNAL , EM FO , LOCAL FIOS AÇO , EM QUEIMAÇÃO .'],\n",
       "  ['ESTERNAL , EM FO , LOCAL FIOS AÇO , EM',\n",
       "   'DOR REGIAO ESTERNAL , EM FO , LOCAL FIOS AÇO , EM QUEIMAÇÃO .'],\n",
       "  [', EM FO , LOCAL FIOS AÇO , EM QUEIMAÇÃO',\n",
       "   'DOR REGIAO ESTERNAL , EM FO , LOCAL FIOS AÇO , EM QUEIMAÇÃO .'],\n",
       "  ['DOR REGIAO ESTERNAL , EM FO , LOCAL FIOS AÇO ,',\n",
       "   'DOR REGIAO ESTERNAL , EM FO , LOCAL FIOS AÇO , EM QUEIMAÇÃO .'],\n",
       "  ['REGIAO ESTERNAL , EM FO , LOCAL FIOS AÇO , EM',\n",
       "   'DOR REGIAO ESTERNAL , EM FO , LOCAL FIOS AÇO , EM QUEIMAÇÃO .'],\n",
       "  ['ESTERNAL , EM FO , LOCAL FIOS AÇO , EM QUEIMAÇÃO',\n",
       "   'DOR REGIAO ESTERNAL , EM FO , LOCAL FIOS AÇO , EM QUEIMAÇÃO .'],\n",
       "  ['DOR REGIAO ESTERNAL , EM FO , LOCAL FIOS AÇO , EM',\n",
       "   'DOR REGIAO ESTERNAL , EM FO , LOCAL FIOS AÇO , EM QUEIMAÇÃO .'],\n",
       "  ['REGIAO ESTERNAL , EM FO , LOCAL FIOS AÇO , EM QUEIMAÇÃO',\n",
       "   'DOR REGIAO ESTERNAL , EM FO , LOCAL FIOS AÇO , EM QUEIMAÇÃO .']],\n",
       " [['Labs', '- Labs : tg 221 / ct 166 / ldl 76 , demais ok .'],\n",
       "  ['ct', '- Labs : tg 221 / ct 166 / ldl 76 , demais ok .']],\n",
       " [['Ecocardio', '- Ecocardio 12 / 08 / 15 : A0 / VD 22 / Septo 11 / FE 66 .'],\n",
       "  ['VD', '- Ecocardio 12 / 08 / 15 : A0 / VD 22 / Septo 11 / FE 66 .'],\n",
       "  ['Septo', '- Ecocardio 12 / 08 / 15 : A0 / VD 22 / Septo 11 / FE 66 .']],\n",
       " [['Homoenxerto aortico',\n",
       "   'Homoenxerto aortico com mobilidade ampla folhetps .']],\n",
       " [['Regurgitacao grau leve a moderada',\n",
       "   'Regurgitacao grau leve a moderada com jato dirigido valva mitral ( ? ) .'],\n",
       "  ['mitral',\n",
       "   'Regurgitacao grau leve a moderada com jato dirigido valva mitral ( ? ) .']],\n",
       " [['Exames', 'Exames : .']],\n",
       " [['Ecocardiograma',\n",
       "   'Ecocardiograma - 26 / 06 / 2013 : Homoenxerto em posição aórtica normofuncionante .']],\n",
       " [['VE hipertrofiado',\n",
       "   'VE hipertrofiado com dimensões normais e fumção sistólica preservada .']],\n",
       " [['ALteração do relaxamento do VE AE dilatado',\n",
       "   'ALteração do relaxamento do VE AE dilatado .'],\n",
       "  ['VE AE', 'ALteração do relaxamento do VE AE dilatado .'],\n",
       "  ['AE dilatado', 'ALteração do relaxamento do VE AE dilatado .'],\n",
       "  ['do VE AE', 'ALteração do relaxamento do VE AE dilatado .'],\n",
       "  ['VE AE dilatado', 'ALteração do relaxamento do VE AE dilatado .'],\n",
       "  ['relaxamento do VE AE', 'ALteração do relaxamento do VE AE dilatado .'],\n",
       "  ['do VE AE dilatado', 'ALteração do relaxamento do VE AE dilatado .'],\n",
       "  ['relaxamento do VE AE dilatado',\n",
       "   'ALteração do relaxamento do VE AE dilatado .'],\n",
       "  ['ALteração do relaxamento do VE AE',\n",
       "   'ALteração do relaxamento do VE AE dilatado .'],\n",
       "  ['do relaxamento do VE AE dilatado',\n",
       "   'ALteração do relaxamento do VE AE dilatado .']],\n",
       " [['Homoenxerto', 'Homoenxerto com mobilidade adequada .']],\n",
       " [['Lab',\n",
       "   '- Lab ( 05 / 02 / 15 ) : Cr 0 , 91 , CT 174 , TGC 197 , HDL 44 , K 4 , 8 , LDL 90 , Glic 107 .'],\n",
       "  ['Cr',\n",
       "   '- Lab ( 05 / 02 / 15 ) : Cr 0 , 91 , CT 174 , TGC 197 , HDL 44 , K 4 , 8 , LDL 90 , Glic 107 .'],\n",
       "  ['CT',\n",
       "   '- Lab ( 05 / 02 / 15 ) : Cr 0 , 91 , CT 174 , TGC 197 , HDL 44 , K 4 , 8 , LDL 90 , Glic 107 .'],\n",
       "  ['TGC',\n",
       "   '- Lab ( 05 / 02 / 15 ) : Cr 0 , 91 , CT 174 , TGC 197 , HDL 44 , K 4 , 8 , LDL 90 , Glic 107 .'],\n",
       "  ['HDL',\n",
       "   '- Lab ( 05 / 02 / 15 ) : Cr 0 , 91 , CT 174 , TGC 197 , HDL 44 , K 4 , 8 , LDL 90 , Glic 107 .'],\n",
       "  ['K',\n",
       "   '- Lab ( 05 / 02 / 15 ) : Cr 0 , 91 , CT 174 , TGC 197 , HDL 44 , K 4 , 8 , LDL 90 , Glic 107 .'],\n",
       "  ['LDL',\n",
       "   '- Lab ( 05 / 02 / 15 ) : Cr 0 , 91 , CT 174 , TGC 197 , HDL 44 , K 4 , 8 , LDL 90 , Glic 107 .'],\n",
       "  ['Glic',\n",
       "   '- Lab ( 05 / 02 / 15 ) : Cr 0 , 91 , CT 174 , TGC 197 , HDL 44 , K 4 , 8 , LDL 90 , Glic 107 .']],\n",
       " [['exame', 'Ao exame : .']],\n",
       " [['FC79 PA', 'FC79 PA : 130 / 80 .'], ['PA', 'FC79 PA : 130 / 80 .']],\n",
       " [['estase jugular', 'CP : sem estase jugular .'],\n",
       "  ['jugular', 'CP : sem estase jugular .']],\n",
       " [['sopros', 'AC : BCRNF sem sopros .']],\n",
       " [['RA', 'AP : MV presente bilateralmente , sem RA .']],\n",
       " [['medicações', 'mantenho medicações .']],\n",
       " [['pontos suttura esterno',\n",
       "   'encaminho para cir cardiaca para retirada pontos suttura esterno .'],\n",
       "  ['suttura esterno',\n",
       "   'encaminho para cir cardiaca para retirada pontos suttura esterno .']],\n",
       " [['MAREVAN',\n",
       "   \"USUÁRIA DE MAREVAN DEVIDO ' ARRITMIA ' , NÃO SABE INFORMAR MAIORES DETALHES .\"],\n",
       "  ['ARRITMIA',\n",
       "   \"USUÁRIA DE MAREVAN DEVIDO ' ARRITMIA ' , NÃO SABE INFORMAR MAIORES DETALHES .\"]],\n",
       " [['QUEIXAS', 'sEM QUEIXAS .']],\n",
       " [['RELATO DE SANGRAMENTOS', 'SEM RELATO DE SANGRAMENTOS .']],\n",
       " [['RNI', 'RNI 3 , 40 .']],\n",
       " [['DE GRAVIDADE', 'ALERTO SINAIS DE GRAVIDADE .']],\n",
       " [['MEDICAÇÃO DE USO', 'MANTER AS MEDICAÇÃO DE USO , COM AJUSTE DE COSE .']],\n",
       " [['EAo', '# EAo .']],\n",
       " [['HAS', '# HAS .']],\n",
       " [['Atenol 50', '# Uso : Atenol 50 - 1xd .']],\n",
       " [['Enalapril 5', 'Enalapril 5 - 12 / 12h .']],\n",
       " [['queixas cardiovasculares', '# Sem queixas cardiovasculares .']],\n",
       " [['Ecocardio',\n",
       "   'Ecocardio ( 13 / 02 / 15 ) : AE = 45 ; SIV = PPVE = 14mm ; DDVE = 48 ; DSVE = 29 ; FE = 69 % .'],\n",
       "  ['AE',\n",
       "   'Ecocardio ( 13 / 02 / 15 ) : AE = 45 ; SIV = PPVE = 14mm ; DDVE = 48 ; DSVE = 29 ; FE = 69 % .'],\n",
       "  ['SIV',\n",
       "   'Ecocardio ( 13 / 02 / 15 ) : AE = 45 ; SIV = PPVE = 14mm ; DDVE = 48 ; DSVE = 29 ; FE = 69 % .'],\n",
       "  ['PPVE',\n",
       "   'Ecocardio ( 13 / 02 / 15 ) : AE = 45 ; SIV = PPVE = 14mm ; DDVE = 48 ; DSVE = 29 ; FE = 69 % .']],\n",
       " [['VMi',\n",
       "   'VMi = folhetos espessados , abertura preservada , refluxo discreto , fluxo diastólico com padrão E < A VAo = cúspides calcificadas , com dupla lesão ; Grad max de 54 e medio de 28mmHg .']],\n",
       " [['VP',\n",
       "   'VP = ok ; Vtri = folhetos espessados , abertura preservada , insuficiente , PSAP = 39mmHg .'],\n",
       "  ['Vtri',\n",
       "   'VP = ok ; Vtri = folhetos espessados , abertura preservada , insuficiente , PSAP = 39mmHg .'],\n",
       "  ['folhetos espessados',\n",
       "   'VP = ok ; Vtri = folhetos espessados , abertura preservada , insuficiente , PSAP = 39mmHg .']],\n",
       " [['VE',\n",
       "   'VE = hipertrofiado , cavidade , função sistólica e contração preservadas , alt de relaxamento .']],\n",
       " [['AD', 'AD = aumentado .'], ['aumentado', 'AD = aumentado .']],\n",
       " [['Eco',\n",
       "   'Eco ( 14 / 04 / 16 ) RA : 38 AE : 45 VD : 20 S : 14 PP : 14 VE : 50 / 30 FE : 70 % .'],\n",
       "  ['RA',\n",
       "   'Eco ( 14 / 04 / 16 ) RA : 38 AE : 45 VD : 20 S : 14 PP : 14 VE : 50 / 30 FE : 70 % .'],\n",
       "  ['AE',\n",
       "   'Eco ( 14 / 04 / 16 ) RA : 38 AE : 45 VD : 20 S : 14 PP : 14 VE : 50 / 30 FE : 70 % .'],\n",
       "  ['VD',\n",
       "   'Eco ( 14 / 04 / 16 ) RA : 38 AE : 45 VD : 20 S : 14 PP : 14 VE : 50 / 30 FE : 70 % .'],\n",
       "  ['PP',\n",
       "   'Eco ( 14 / 04 / 16 ) RA : 38 AE : 45 VD : 20 S : 14 PP : 14 VE : 50 / 30 FE : 70 % .']],\n",
       " [['CUSPIDES CALCIFICADAS', 'AO : CUSPIDES CALCIFICADAS , COM DUPLA LESAO .']],\n",
       " [['INSUF TRICU DISCRETA', 'INSUF TRICU DISCRETA ( PSAP 39 ) .']],\n",
       " [['REFLUXO MITRAL DISCRETO', 'REFLUXO MITRAL DISCRETO .'],\n",
       "  ['MITRAL DISCRETO', 'REFLUXO MITRAL DISCRETO .']],\n",
       " [['ASC', 'AO ASC : 41MM .']],\n",
       " [['dispneia', 'Nega dispneia , dor toracica , sincope .'],\n",
       "  ['dor toracica', 'Nega dispneia , dor toracica , sincope .'],\n",
       "  ['toracica', 'Nega dispneia , dor toracica , sincope .'],\n",
       "  ['sincope', 'Nega dispneia , dor toracica , sincope .']],\n",
       " [['edema de MMII', 'Nega edema de MMII .'],\n",
       "  ['de MMII', 'Nega edema de MMII .']],\n",
       " [['elevação de PA',\n",
       "   'Refere controle pressorico bom em casa , porem nas consultas sempre apresenta elevação de PA .']],\n",
       " [['Sd Jaleco Branco', 'Sd Jaleco Branco ? ) .'],\n",
       "  ['Jaleco Branco', 'Sd Jaleco Branco ? ) .']],\n",
       " [['PA', 'PA : 170 / 100 mmHg , P = 99 spm .'],\n",
       "  ['P', 'PA : 170 / 100 mmHg , P = 99 spm .']],\n",
       " [['ruidos', 'MV normodist sem ruidos .']],\n",
       " [['taquicardico',\n",
       "   'RCR , 2T , taquicardico , ss + + / 6 + , crsec / decres , FAO , irradiação para todo o precórdio .']],\n",
       " [['DUPLA LESAO AO ESTENOSE MOD + INSUF DISCRETA',\n",
       "   'A # DUPLA LESAO AO ESTENOSE MOD + INSUF DISCRETA .'],\n",
       "  ['ESTENOSE MOD + INSUF',\n",
       "   'A # DUPLA LESAO AO ESTENOSE MOD + INSUF DISCRETA .'],\n",
       "  ['MOD + INSUF DISCRETA',\n",
       "   'A # DUPLA LESAO AO ESTENOSE MOD + INSUF DISCRETA .'],\n",
       "  ['DUPLA LESAO AO ESTENOSE MOD',\n",
       "   'A # DUPLA LESAO AO ESTENOSE MOD + INSUF DISCRETA .'],\n",
       "  ['LESAO AO ESTENOSE MOD +',\n",
       "   'A # DUPLA LESAO AO ESTENOSE MOD + INSUF DISCRETA .'],\n",
       "  ['AO ESTENOSE MOD + INSUF',\n",
       "   'A # DUPLA LESAO AO ESTENOSE MOD + INSUF DISCRETA .'],\n",
       "  ['ESTENOSE MOD + INSUF DISCRETA',\n",
       "   'A # DUPLA LESAO AO ESTENOSE MOD + INSUF DISCRETA .'],\n",
       "  ['DUPLA LESAO AO ESTENOSE MOD +',\n",
       "   'A # DUPLA LESAO AO ESTENOSE MOD + INSUF DISCRETA .'],\n",
       "  ['LESAO AO ESTENOSE MOD + INSUF',\n",
       "   'A # DUPLA LESAO AO ESTENOSE MOD + INSUF DISCRETA .'],\n",
       "  ['AO ESTENOSE MOD + INSUF DISCRETA',\n",
       "   'A # DUPLA LESAO AO ESTENOSE MOD + INSUF DISCRETA .'],\n",
       "  ['DUPLA LESAO AO ESTENOSE MOD + INSUF',\n",
       "   'A # DUPLA LESAO AO ESTENOSE MOD + INSUF DISCRETA .'],\n",
       "  ['LESAO AO ESTENOSE MOD + INSUF DISCRETA',\n",
       "   'A # DUPLA LESAO AO ESTENOSE MOD + INSUF DISCRETA .']],\n",
       " [['Enalapril 20mg',\n",
       "   'P # aumento Enalapril 20mg 2x d e inicio HCTZ 25mg / dia .']],\n",
       " [['eco', 'retorno em 1 ano com novo eco .']],\n",
       " [['MCP dilatada - IDIOPÁTICA', '# MCP dilatada - IDIOPÁTICA .']],\n",
       " [['CF II - III OSCILANTE', 'CF II - III OSCILANTE .']],\n",
       " [['TX CARDIACO', '** PROTOCOLO DE TX CARDIACO - INDICE CARDIACO .'],\n",
       "  ['CARDIACO', '** PROTOCOLO DE TX CARDIACO - INDICE CARDIACO .'],\n",
       "  ['INDICE CARDIACO', '** PROTOCOLO DE TX CARDIACO - INDICE CARDIACO .'],\n",
       "  ['CARDIACO', '** PROTOCOLO DE TX CARDIACO - INDICE CARDIACO .']],\n",
       " [['Omeprazol 20mg',\n",
       "   '*** Em uso de : Omeprazol 20mg / d , AAS 100mg / d , Losartan 50mg 12 / 12hs , Espironolactona 25mg / d , Hidralazina 50mg 12 / 12hs , Carvedilol 12 , 5mg 12 / 12hs .'],\n",
       "  ['AAS 100mg',\n",
       "   '*** Em uso de : Omeprazol 20mg / d , AAS 100mg / d , Losartan 50mg 12 / 12hs , Espironolactona 25mg / d , Hidralazina 50mg 12 / 12hs , Carvedilol 12 , 5mg 12 / 12hs .'],\n",
       "  ['Losartan 50mg',\n",
       "   '*** Em uso de : Omeprazol 20mg / d , AAS 100mg / d , Losartan 50mg 12 / 12hs , Espironolactona 25mg / d , Hidralazina 50mg 12 / 12hs , Carvedilol 12 , 5mg 12 / 12hs .'],\n",
       "  ['Espironolactona 25mg',\n",
       "   '*** Em uso de : Omeprazol 20mg / d , AAS 100mg / d , Losartan 50mg 12 / 12hs , Espironolactona 25mg / d , Hidralazina 50mg 12 / 12hs , Carvedilol 12 , 5mg 12 / 12hs .'],\n",
       "  ['Hidralazina 50mg',\n",
       "   '*** Em uso de : Omeprazol 20mg / d , AAS 100mg / d , Losartan 50mg 12 / 12hs , Espironolactona 25mg / d , Hidralazina 50mg 12 / 12hs , Carvedilol 12 , 5mg 12 / 12hs .']],\n",
       " [['CANSAÇO AOS ESFORÇOS', 'S # QUEIXA DE CANSAÇO AOS ESFORÇOS .']],\n",
       " [['TG',\n",
       "   'TG 111 , HDL 37 , K 4 , 7 , CT 162 , LDL 103 , TSH 1 , 59 , HB 13 , HB GLICASADA 5 , 87 , NA 145 , TGP 28 , TGO 26 , CREAT 0 , 98 .'],\n",
       "  ['HDL',\n",
       "   'TG 111 , HDL 37 , K 4 , 7 , CT 162 , LDL 103 , TSH 1 , 59 , HB 13 , HB GLICASADA 5 , 87 , NA 145 , TGP 28 , TGO 26 , CREAT 0 , 98 .'],\n",
       "  ['K',\n",
       "   'TG 111 , HDL 37 , K 4 , 7 , CT 162 , LDL 103 , TSH 1 , 59 , HB 13 , HB GLICASADA 5 , 87 , NA 145 , TGP 28 , TGO 26 , CREAT 0 , 98 .'],\n",
       "  ['CT',\n",
       "   'TG 111 , HDL 37 , K 4 , 7 , CT 162 , LDL 103 , TSH 1 , 59 , HB 13 , HB GLICASADA 5 , 87 , NA 145 , TGP 28 , TGO 26 , CREAT 0 , 98 .'],\n",
       "  ['LDL',\n",
       "   'TG 111 , HDL 37 , K 4 , 7 , CT 162 , LDL 103 , TSH 1 , 59 , HB 13 , HB GLICASADA 5 , 87 , NA 145 , TGP 28 , TGO 26 , CREAT 0 , 98 .'],\n",
       "  ['TSH',\n",
       "   'TG 111 , HDL 37 , K 4 , 7 , CT 162 , LDL 103 , TSH 1 , 59 , HB 13 , HB GLICASADA 5 , 87 , NA 145 , TGP 28 , TGO 26 , CREAT 0 , 98 .'],\n",
       "  ['HB',\n",
       "   'TG 111 , HDL 37 , K 4 , 7 , CT 162 , LDL 103 , TSH 1 , 59 , HB 13 , HB GLICASADA 5 , 87 , NA 145 , TGP 28 , TGO 26 , CREAT 0 , 98 .'],\n",
       "  ['HB GLICASADA',\n",
       "   'TG 111 , HDL 37 , K 4 , 7 , CT 162 , LDL 103 , TSH 1 , 59 , HB 13 , HB GLICASADA 5 , 87 , NA 145 , TGP 28 , TGO 26 , CREAT 0 , 98 .'],\n",
       "  ['TGP',\n",
       "   'TG 111 , HDL 37 , K 4 , 7 , CT 162 , LDL 103 , TSH 1 , 59 , HB 13 , HB GLICASADA 5 , 87 , NA 145 , TGP 28 , TGO 26 , CREAT 0 , 98 .'],\n",
       "  ['TGO',\n",
       "   'TG 111 , HDL 37 , K 4 , 7 , CT 162 , LDL 103 , TSH 1 , 59 , HB 13 , HB GLICASADA 5 , 87 , NA 145 , TGP 28 , TGO 26 , CREAT 0 , 98 .'],\n",
       "  ['CREAT',\n",
       "   'TG 111 , HDL 37 , K 4 , 7 , CT 162 , LDL 103 , TSH 1 , 59 , HB 13 , HB GLICASADA 5 , 87 , NA 145 , TGP 28 , TGO 26 , CREAT 0 , 98 .']],\n",
       " [['PA', 'AO EAXME PA 110 / 70 FC 64 .'],\n",
       "  ['FC', 'AO EAXME PA 110 / 70 FC 64 .']],\n",
       " [['TURGÊNCIA JUGULAR', 'SEM TURGÊNCIA JUGULAR .'],\n",
       "  ['JUGULAR', 'SEM TURGÊNCIA JUGULAR .']],\n",
       " [['CPP', 'CPP - MV + BILATERAL , .']],\n",
       " [['SOPROS', 'PC - BCR SEM SOPROS , .']],\n",
       " [['MMII', 'MMII - SEM EDEM .'], ['EDEM', 'MMII - SEM EDEM .']],\n",
       " [['MCP dilatada CF II / III', 'A # MCP dilatada CF II / III .']],\n",
       " [['MEDICAÇÕES', 'P # MEDICAÇÕES MANTIDAS .']],\n",
       " [['TX CARDÍACO',\n",
       "   '# PO DE TX CARDÍACO ( 23 / 10 / 15 ) - ( IC DILATADA IDIOPÁTICA ) .']],\n",
       " [['CICLOSPORINA 150MG',\n",
       "   '# EM USO DE : CICLOSPORINA 150MG 12 / 12H , MICOFENOLATO 720MG 8 / 8H , PREDNISONA 20MG / DIA .'],\n",
       "  ['PREDNISONA 20MG',\n",
       "   '# EM USO DE : CICLOSPORINA 150MG 12 / 12H , MICOFENOLATO 720MG 8 / 8H , PREDNISONA 20MG / DIA .']],\n",
       " [['AAS 100MG', 'AAS 100MG / DIA , OMZ 20MG / DIA .'],\n",
       "  ['OMZ 20MG', 'AAS 100MG / DIA , OMZ 20MG / DIA .']],\n",
       " [['EXAMES', '- EXAMES - AVALIAÇÃO PRÉ - TRANSPLANTE : .']],\n",
       " [['DOPPLER CAROTIDAS + VERTEBRAIS',\n",
       "   '# DOPPLER CAROTIDAS + VERTEBRAIS : CERVICAL D : CAROTIDA : ESTENOSE 20 - 30 % NA BIFURCAÇÃO CAROTÍDEA ; .'],\n",
       "  ['CAROTIDAS + VERTEBRAIS',\n",
       "   '# DOPPLER CAROTIDAS + VERTEBRAIS : CERVICAL D : CAROTIDA : ESTENOSE 20 - 30 % NA BIFURCAÇÃO CAROTÍDEA ; .'],\n",
       "  ['CERVICAL D',\n",
       "   '# DOPPLER CAROTIDAS + VERTEBRAIS : CERVICAL D : CAROTIDA : ESTENOSE 20 - 30 % NA BIFURCAÇÃO CAROTÍDEA ; .'],\n",
       "  ['CERVICAL',\n",
       "   '# DOPPLER CAROTIDAS + VERTEBRAIS : CERVICAL D : CAROTIDA : ESTENOSE 20 - 30 % NA BIFURCAÇÃO CAROTÍDEA ; .'],\n",
       "  ['D',\n",
       "   '# DOPPLER CAROTIDAS + VERTEBRAIS : CERVICAL D : CAROTIDA : ESTENOSE 20 - 30 % NA BIFURCAÇÃO CAROTÍDEA ; .'],\n",
       "  ['CAROTIDA',\n",
       "   '# DOPPLER CAROTIDAS + VERTEBRAIS : CERVICAL D : CAROTIDA : ESTENOSE 20 - 30 % NA BIFURCAÇÃO CAROTÍDEA ; .'],\n",
       "  ['ESTENOSE 20 - 30 % NA BIFURCAÇÃO CAROTÍDEA',\n",
       "   '# DOPPLER CAROTIDAS + VERTEBRAIS : CERVICAL D : CAROTIDA : ESTENOSE 20 - 30 % NA BIFURCAÇÃO CAROTÍDEA ; .'],\n",
       "  ['BIFURCAÇÃO CAROTÍDEA',\n",
       "   '# DOPPLER CAROTIDAS + VERTEBRAIS : CERVICAL D : CAROTIDA : ESTENOSE 20 - 30 % NA BIFURCAÇÃO CAROTÍDEA ; .']],\n",
       " [['CATE',\n",
       "   '# CATE 16 / 06 / 15 : PRÉ : RVP 2 , 19 / / RVS 24 , PÓS : RVP 2 , 08 / / RVS 12 , 59 .']],\n",
       " [['ECOTT',\n",
       "   '# ECOTT 28 / 8 / 15 AE 46 / VD 26 / S / PP 10 / 10 VE 81 / 66 FE 37 % .'],\n",
       "  ['AE',\n",
       "   '# ECOTT 28 / 8 / 15 AE 46 / VD 26 / S / PP 10 / 10 VE 81 / 66 FE 37 % .'],\n",
       "  ['VD',\n",
       "   '# ECOTT 28 / 8 / 15 AE 46 / VD 26 / S / PP 10 / 10 VE 81 / 66 FE 37 % .'],\n",
       "  ['PP',\n",
       "   '# ECOTT 28 / 8 / 15 AE 46 / VD 26 / S / PP 10 / 10 VE 81 / 66 FE 37 % .'],\n",
       "  ['VE',\n",
       "   '# ECOTT 28 / 8 / 15 AE 46 / VD 26 / S / PP 10 / 10 VE 81 / 66 FE 37 % .']],\n",
       " [['VE DILATADO',\n",
       "   'VE DILATADO COM HIPOCONTRATIBILIDADE DIFUSA MODERADA / I AO LEVE / IMI LEVE AMODERADA / PSAP 39 MMHG .']],\n",
       " [['DOR NA FO SOMENTE AOS MOVIMENTOS E AO TOSSIR',\n",
       "   'S # SENTE BEM , DOR NA FO SOMENTE AOS MOVIMENTOS E AO TOSSIR .'],\n",
       "  ['FO SOMENTE AOS MOVIMENTOS',\n",
       "   'S # SENTE BEM , DOR NA FO SOMENTE AOS MOVIMENTOS E AO TOSSIR .'],\n",
       "  ['DOR NA FO SOMENTE AOS MOVIMENTOS',\n",
       "   'S # SENTE BEM , DOR NA FO SOMENTE AOS MOVIMENTOS E AO TOSSIR .'],\n",
       "  ['FO SOMENTE AOS MOVIMENTOS E AO TOSSIR',\n",
       "   'S # SENTE BEM , DOR NA FO SOMENTE AOS MOVIMENTOS E AO TOSSIR .'],\n",
       "  ['DOR NA FO SOMENTE AOS MOVIMENTOS E AO',\n",
       "   'S # SENTE BEM , DOR NA FO SOMENTE AOS MOVIMENTOS E AO TOSSIR .'],\n",
       "  ['NA FO SOMENTE AOS MOVIMENTOS E AO TOSSIR',\n",
       "   'S # SENTE BEM , DOR NA FO SOMENTE AOS MOVIMENTOS E AO TOSSIR .']],\n",
       " [['DISPNÉIA', 'NEGA DISPNÉIA .']],\n",
       " [['SINAIS FLOGÍSTICOS',\n",
       "   'RELATA QUE FO ESTÁ SECA , SEM SINAIS FLOGÍSTICOS .']],\n",
       " [['FEBRE', 'NEGA FEBRE .']],\n",
       " [['HIPOCORADO + / 4 +',\n",
       "   'O # BEG , HIPOCORADO + / 4 + , EUPNEICO , AFEBRIL .'],\n",
       "  ['AFEBRIL', 'O # BEG , HIPOCORADO + / 4 + , EUPNEICO , AFEBRIL .']],\n",
       " [['PA', 'PA : 110X70 / / FC : 80 .'], ['FC', 'PA : 110X70 / / FC : 80 .']],\n",
       " [['SS', 'CV : BRNF SS .']],\n",
       " [['CPP', 'CPP : MV + BILATERAL , SEM RA .'],\n",
       "  ['RA', 'CPP : MV + BILATERAL , SEM RA .']],\n",
       " [['SECREÇÃO', 'FO LIMPA E SECA , SEM PRESENÇA DE SECREÇÃO .']],\n",
       " [['ABD', 'ABD : RHA + , INDOLOR .']],\n",
       " [['MMII', 'MMII : SEM EDEMA OU EMPASTAMENTO .'],\n",
       "  ['EDEMA', 'MMII : SEM EDEMA OU EMPASTAMENTO .'],\n",
       "  ['EMPASTAMENTO', 'MMII : SEM EDEMA OU EMPASTAMENTO .']],\n",
       " [['TX CARDIACO', 'A # PO DE TX CARDIACO ( 23 / 10 / 15 ) .'],\n",
       "  ['CARDIACO', 'A # PO DE TX CARDIACO ( 23 / 10 / 15 ) .']],\n",
       " [['TX CARDIACO', 'POS TX CARDIACO HA 3 ANOS e 7 MESES .'],\n",
       "  ['CARDIACO', 'POS TX CARDIACO HA 3 ANOS e 7 MESES .']],\n",
       " [['BIOPSIA', 'ULTIMA BIOPSIA .']],\n",
       " [['CICLOSPORINA 100',\n",
       "   'EM USO DE CICLOSPORINA 100 / 100 , MYFORTIC 360 / 360 ( REDUZIU PARA ESSA DOSE POR ENGANO ) , E PREDNISONA 5 MG / DIA .']],\n",
       " [['AAS 100', 'USO DE AAS 100 / DIA .']],\n",
       " [['QUEIXAS', 'S # SEM QUEIXAS .']],\n",
       " [['BIOPSIA', 'AGURADA BIOPSIA .']],\n",
       " [['PA', 'O # PA 120 / 80 , FC 70 .'], ['FC', 'O # PA 120 / 80 , FC 70 .']],\n",
       " [['CPP', 'CPP LIVRE .']],\n",
       " [['MMII', 'MMII SEM EDEMA .'], ['EDEMA', 'MMII SEM EDEMA .']],\n",
       " [['TX CARDIACO', 'A # POS TX CARDIACO , COM BOA EVOLUÇÃO .'],\n",
       "  ['CARDIACO', 'A # POS TX CARDIACO , COM BOA EVOLUÇÃO .']],\n",
       " [['LAB', 'P # SOLICITO LAB E ECOCC .'],\n",
       "  ['ECOCC', 'P # SOLICITO LAB E ECOCC .']],\n",
       " [['has', 'has / 10 anos / maço .']],\n",
       " [['aas 100',\n",
       "   'aas 100 / carvedilol 25 1x / d / sinva 40 mg 1 x / d / enalapril 1 cp 12 / 12 hs / furo 40 mg 1 x / d .'],\n",
       "  ['sinva 40 mg',\n",
       "   'aas 100 / carvedilol 25 1x / d / sinva 40 mg 1 x / d / enalapril 1 cp 12 / 12 hs / furo 40 mg 1 x / d .'],\n",
       "  ['enalapril',\n",
       "   'aas 100 / carvedilol 25 1x / d / sinva 40 mg 1 x / d / enalapril 1 cp 12 / 12 hs / furo 40 mg 1 x / d .'],\n",
       "  ['furo 40 mg',\n",
       "   'aas 100 / carvedilol 25 1x / d / sinva 40 mg 1 x / d / enalapril 1 cp 12 / 12 hs / furo 40 mg 1 x / d .']],\n",
       " [['cat', 'fez cat + angioplastia 2013 .'],\n",
       "  ['angioplastia', 'fez cat + angioplastia 2013 .']],\n",
       " [['ECOCARDIO',\n",
       "   'ECOCARDIO 25 / 11 / 13 - VE HIPERTROFIADO COM DIMENSÃO INTERNA AUMENTADA E FUNÇÃO GLOBAL MODERADAMENTE DIMINUIDA POR ACINESIA MEDIO APICAL PAREDE ANTERO SEPTAL .'],\n",
       "  ['VE HIPERTROFIADO COM DIMENSÃO INTERNA AUMENTADA',\n",
       "   'ECOCARDIO 25 / 11 / 13 - VE HIPERTROFIADO COM DIMENSÃO INTERNA AUMENTADA E FUNÇÃO GLOBAL MODERADAMENTE DIMINUIDA POR ACINESIA MEDIO APICAL PAREDE ANTERO SEPTAL .'],\n",
       "  ['VE',\n",
       "   'ECOCARDIO 25 / 11 / 13 - VE HIPERTROFIADO COM DIMENSÃO INTERNA AUMENTADA E FUNÇÃO GLOBAL MODERADAMENTE DIMINUIDA POR ACINESIA MEDIO APICAL PAREDE ANTERO SEPTAL .'],\n",
       "  ['FUNÇÃO GLOBAL MODERADAMENTE DIMINUIDA',\n",
       "   'ECOCARDIO 25 / 11 / 13 - VE HIPERTROFIADO COM DIMENSÃO INTERNA AUMENTADA E FUNÇÃO GLOBAL MODERADAMENTE DIMINUIDA POR ACINESIA MEDIO APICAL PAREDE ANTERO SEPTAL .'],\n",
       "  ['ACINESIA MEDIO APICAL PAREDE ANTERO SEPTAL',\n",
       "   'ECOCARDIO 25 / 11 / 13 - VE HIPERTROFIADO COM DIMENSÃO INTERNA AUMENTADA E FUNÇÃO GLOBAL MODERADAMENTE DIMINUIDA POR ACINESIA MEDIO APICAL PAREDE ANTERO SEPTAL .'],\n",
       "  ['MEDIO APICAL PAREDE ANTERO SEPTAL',\n",
       "   'ECOCARDIO 25 / 11 / 13 - VE HIPERTROFIADO COM DIMENSÃO INTERNA AUMENTADA E FUNÇÃO GLOBAL MODERADAMENTE DIMINUIDA POR ACINESIA MEDIO APICAL PAREDE ANTERO SEPTAL .']],\n",
       " [['AUMENTO DE AE', 'AUMENTO DE AE .']],\n",
       " [['REFLUXO MITRAL DISCRETO', 'REFLUXO MITRAL DISCRETO .'],\n",
       "  ['MITRAL DISCRETO', 'REFLUXO MITRAL DISCRETO .']],\n",
       " [['ECTASIA DA RAIZ AÓRTICA', 'ECTASIA DA RAIZ AÓRTICA .']],\n",
       " [['REFLUXO AÓRTICO DISCRETO', 'REFLUXO AÓRTICO DISCRETO .']],\n",
       " [['ECODOPPLER ARTERIAR MMII ESQ',\n",
       "   '01 / 03 / 11 : ECODOPPLER ARTERIAR MMII ESQ : ESTENOSE APROX DE 75 % DA BIFURCAÇÃO DOS VASOS FEMORAIS .'],\n",
       "  ['ECODOPPLER ARTERIAR',\n",
       "   '01 / 03 / 11 : ECODOPPLER ARTERIAR MMII ESQ : ESTENOSE APROX DE 75 % DA BIFURCAÇÃO DOS VASOS FEMORAIS .'],\n",
       "  ['ARTERIAR MMII',\n",
       "   '01 / 03 / 11 : ECODOPPLER ARTERIAR MMII ESQ : ESTENOSE APROX DE 75 % DA BIFURCAÇÃO DOS VASOS FEMORAIS .'],\n",
       "  ['MMII ESQ',\n",
       "   '01 / 03 / 11 : ECODOPPLER ARTERIAR MMII ESQ : ESTENOSE APROX DE 75 % DA BIFURCAÇÃO DOS VASOS FEMORAIS .'],\n",
       "  ['ECODOPPLER ARTERIAR MMII',\n",
       "   '01 / 03 / 11 : ECODOPPLER ARTERIAR MMII ESQ : ESTENOSE APROX DE 75 % DA BIFURCAÇÃO DOS VASOS FEMORAIS .'],\n",
       "  ['ARTERIAR MMII ESQ',\n",
       "   '01 / 03 / 11 : ECODOPPLER ARTERIAR MMII ESQ : ESTENOSE APROX DE 75 % DA BIFURCAÇÃO DOS VASOS FEMORAIS .'],\n",
       "  ['ESTENOSE APROX DE 75 % DA BIFURCAÇÃO DOS VASOS FEMORAIS',\n",
       "   '01 / 03 / 11 : ECODOPPLER ARTERIAR MMII ESQ : ESTENOSE APROX DE 75 % DA BIFURCAÇÃO DOS VASOS FEMORAIS .'],\n",
       "  ['BIFURCAÇÃO DOS VASOS FEMORAIS',\n",
       "   '01 / 03 / 11 : ECODOPPLER ARTERIAR MMII ESQ : ESTENOSE APROX DE 75 % DA BIFURCAÇÃO DOS VASOS FEMORAIS .'],\n",
       "  ['DA BIFURCAÇÃO DOS VASOS FEMORAIS',\n",
       "   '01 / 03 / 11 : ECODOPPLER ARTERIAR MMII ESQ : ESTENOSE APROX DE 75 % DA BIFURCAÇÃO DOS VASOS FEMORAIS .']],\n",
       " [['LESOES SUBSEGMENTARES DAS ART , TIBIAL ANTERIOR E FIBULAR',\n",
       "   'LESOES SUBSEGMENTARES DAS ART , TIBIAL ANTERIOR E FIBULAR .']],\n",
       " [['OCLUSÃO DA ARTERIA POPLITEA MEDIO DISTAL',\n",
       "   'OCLUSÃO DA ARTERIA POPLITEA MEDIO DISTAL .'],\n",
       "  ['DA ARTERIA POPLITEA MEDIO DISTAL',\n",
       "   'OCLUSÃO DA ARTERIA POPLITEA MEDIO DISTAL .']],\n",
       " [['ESTENOSE', 'ESTENOSE > A OCLUSAO DA ARTERIA TIBIAL POSTERIOR .'],\n",
       "  ['OCLUSAO DA ARTERIA TIBIAL POSTERIOR',\n",
       "   'ESTENOSE > A OCLUSAO DA ARTERIA TIBIAL POSTERIOR .'],\n",
       "  ['ARTERIA TIBIAL POSTERIOR',\n",
       "   'ESTENOSE > A OCLUSAO DA ARTERIA TIBIAL POSTERIOR .'],\n",
       "  ['OCLUSAO DA ARTERIA TIBIAL',\n",
       "   'ESTENOSE > A OCLUSAO DA ARTERIA TIBIAL POSTERIOR .'],\n",
       "  ['DA ARTERIA TIBIAL POSTERIOR',\n",
       "   'ESTENOSE > A OCLUSAO DA ARTERIA TIBIAL POSTERIOR .']],\n",
       " [['disfunção sistólica',\n",
       "   'quadro de disfunção sistólica após iam , perdeu seguimento .'],\n",
       "  ['iam', 'quadro de disfunção sistólica após iam , perdeu seguimento .']],\n",
       " [['Diclin', 'Em uso de : Diclin ( ACO ) .'],\n",
       "  ['ACO', 'Em uso de : Diclin ( ACO ) .']],\n",
       " [['síncope inicio',\n",
       "   'HMA : Pcte relata síncope inicio em janeiro mais com o calor .']],\n",
       " [['tontura', 'pródromos : tontura e sudorese e escurecimento visual .'],\n",
       "  ['sudorese', 'pródromos : tontura e sudorese e escurecimento visual .'],\n",
       "  ['escurecimento visual',\n",
       "   'pródromos : tontura e sudorese e escurecimento visual .']],\n",
       " [['nervosismo', 'Refere exacerbação dos sintomas com nervosismo .']],\n",
       " [['confusão mental', 'Nega confusão mental ou salivação após .'],\n",
       "  ['salivação', 'Nega confusão mental ou salivação após .']],\n",
       " [['medicação', 'Nega uso de medicação .']],\n",
       " [['outros sintomas', 'Nega outros sintomas .']],\n",
       " [['sintomas',\n",
       "   'Refere que continua apresentando sintomas , com ultimo ha 1 semana , durante atividades domesticas .']],\n",
       " [['Ecocardio',\n",
       "   'Ecocardio 18 / 02 / 15 : RA 20 , AE 26 , VD 17 , Septo 08 , PP 08 , VE 39 , FE 63 % .'],\n",
       "  ['RA',\n",
       "   'Ecocardio 18 / 02 / 15 : RA 20 , AE 26 , VD 17 , Septo 08 , PP 08 , VE 39 , FE 63 % .'],\n",
       "  ['AE',\n",
       "   'Ecocardio 18 / 02 / 15 : RA 20 , AE 26 , VD 17 , Septo 08 , PP 08 , VE 39 , FE 63 % .'],\n",
       "  ['VD',\n",
       "   'Ecocardio 18 / 02 / 15 : RA 20 , AE 26 , VD 17 , Septo 08 , PP 08 , VE 39 , FE 63 % .'],\n",
       "  ['Septo',\n",
       "   'Ecocardio 18 / 02 / 15 : RA 20 , AE 26 , VD 17 , Septo 08 , PP 08 , VE 39 , FE 63 % .'],\n",
       "  ['PP',\n",
       "   'Ecocardio 18 / 02 / 15 : RA 20 , AE 26 , VD 17 , Septo 08 , PP 08 , VE 39 , FE 63 % .'],\n",
       "  ['VE',\n",
       "   'Ecocardio 18 / 02 / 15 : RA 20 , AE 26 , VD 17 , Septo 08 , PP 08 , VE 39 , FE 63 % .']],\n",
       " [['Exame', 'Exame dentro da normalidade .']],\n",
       " [['Teste ergometrico',\n",
       "   'Teste ergometrico : Resposta cardiovascular normal ao esforço fisico , atingiu 11 METS .']],\n",
       " [['ECG', 'ECG : DCRD .'], ['DCRD', 'ECG : DCRD .']],\n",
       " [['FC', 'FC 80 , FR 18 , PA : 120 / 70 , SAT 98 % AA .'],\n",
       "  ['FR', 'FC 80 , FR 18 , PA : 120 / 70 , SAT 98 % AA .'],\n",
       "  ['PA', 'FC 80 , FR 18 , PA : 120 / 70 , SAT 98 % AA .'],\n",
       "  ['SAT', 'FC 80 , FR 18 , PA : 120 / 70 , SAT 98 % AA .']],\n",
       " [['ss', 'AC bnf em 2t e ss , .']],\n",
       " [['ra', 'AP mv + simetrico s ra , .']],\n",
       " [['Abd', 'Abd sp .']],\n",
       " [['mmii', 'mmii s edema , .'], ['edema', 'mmii s edema , .']],\n",
       " [['Vaso vagal', 'Vaso vagal ? .']],\n",
       " [['holter', 'A : Aguarda holter .']],\n",
       " [['exames', 'Retorno com exames .']],\n",
       " [['IAM',\n",
       "   'Paciente em acompanhamento com a cardiologia devido a 2 IAM previos ( em 2004 e 2012 ) .']],\n",
       " [['carvediol 6 , 25 mg',\n",
       "   'Em uso de : carvediol 6 , 25 mg , AAS 100 mg , furosemida 40 mg , losartana 100 mg , atorvstatina 20 mg , omeprazol 20 mg .'],\n",
       "  ['AAS 100 mg',\n",
       "   'Em uso de : carvediol 6 , 25 mg , AAS 100 mg , furosemida 40 mg , losartana 100 mg , atorvstatina 20 mg , omeprazol 20 mg .'],\n",
       "  ['furosemida 40 mg',\n",
       "   'Em uso de : carvediol 6 , 25 mg , AAS 100 mg , furosemida 40 mg , losartana 100 mg , atorvstatina 20 mg , omeprazol 20 mg .'],\n",
       "  ['losartana 100 mg',\n",
       "   'Em uso de : carvediol 6 , 25 mg , AAS 100 mg , furosemida 40 mg , losartana 100 mg , atorvstatina 20 mg , omeprazol 20 mg .'],\n",
       "  ['atorvstatina 20 mg',\n",
       "   'Em uso de : carvediol 6 , 25 mg , AAS 100 mg , furosemida 40 mg , losartana 100 mg , atorvstatina 20 mg , omeprazol 20 mg .'],\n",
       "  ['omeprazol 20 mg',\n",
       "   'Em uso de : carvediol 6 , 25 mg , AAS 100 mg , furosemida 40 mg , losartana 100 mg , atorvstatina 20 mg , omeprazol 20 mg .']],\n",
       " [['dispnéia', 'Paciente relata dispnéia e cansaço aos minimos esforços .'],\n",
       "  ['cansaço aos minimos esforços',\n",
       "   'Paciente relata dispnéia e cansaço aos minimos esforços .']],\n",
       " [['parestesias em pé direito',\n",
       "   'Paciente relata parestesias em pé direito , dores musculares na panturrilha .'],\n",
       "  ['dores musculares na panturrilha',\n",
       "   'Paciente relata parestesias em pé direito , dores musculares na panturrilha .'],\n",
       "  ['musculares na panturrilha',\n",
       "   'Paciente relata parestesias em pé direito , dores musculares na panturrilha .']],\n",
       " [['Comorbidades', 'Comorbidades : HAS , ICC , dislipidemia .'],\n",
       "  ['HAS', 'Comorbidades : HAS , ICC , dislipidemia .'],\n",
       "  ['ICC', 'Comorbidades : HAS , ICC , dislipidemia .'],\n",
       "  ['dislipidemia', 'Comorbidades : HAS , ICC , dislipidemia .']],\n",
       " [['2 CATs', 'Eventos : 2 CATs e 3 angioplastias .']],\n",
       " [['sinvastatina',\n",
       "   'Na ultima consulta foi trocada sinvastatina por atorvastatina mas o paciente continua em uso de sinvastatina .'],\n",
       "  ['atorvastatina',\n",
       "   'Na ultima consulta foi trocada sinvastatina por atorvastatina mas o paciente continua em uso de sinvastatina .'],\n",
       "  ['sinvastatina',\n",
       "   'Na ultima consulta foi trocada sinvastatina por atorvastatina mas o paciente continua em uso de sinvastatina .']],\n",
       " [['exames', 'Paciente nao traz exames .']],\n",
       " [['EF', 'EF : .']],\n",
       " [['PA', 'PA : 120 / 80 mmhg .']],\n",
       " [['Pulso MMII pedioso poplíteo e femoral',\n",
       "   'Pulso MMII pedioso poplíteo e femoral presentes .'],\n",
       "  ['Pulso MMII pedioso', 'Pulso MMII pedioso poplíteo e femoral presentes .'],\n",
       "  ['MMII pedioso poplíteo',\n",
       "   'Pulso MMII pedioso poplíteo e femoral presentes .'],\n",
       "  ['Pulso MMII pedioso poplíteo',\n",
       "   'Pulso MMII pedioso poplíteo e femoral presentes .'],\n",
       "  ['MMII pedioso poplíteo e',\n",
       "   'Pulso MMII pedioso poplíteo e femoral presentes .'],\n",
       "  ['Pulso MMII pedioso poplíteo e',\n",
       "   'Pulso MMII pedioso poplíteo e femoral presentes .'],\n",
       "  ['MMII pedioso poplíteo e femoral',\n",
       "   'Pulso MMII pedioso poplíteo e femoral presentes .']],\n",
       " [['sinvastatina',\n",
       "   'Conduta : troco sinvastatina por atorvastatina e solicito exames de sangue ( CT , LDL , HDL , TG ) ; mantenho as demais medicações .'],\n",
       "  ['atorvastatina',\n",
       "   'Conduta : troco sinvastatina por atorvastatina e solicito exames de sangue ( CT , LDL , HDL , TG ) ; mantenho as demais medicações .'],\n",
       "  ['exames de sangue',\n",
       "   'Conduta : troco sinvastatina por atorvastatina e solicito exames de sangue ( CT , LDL , HDL , TG ) ; mantenho as demais medicações .'],\n",
       "  ['CT',\n",
       "   'Conduta : troco sinvastatina por atorvastatina e solicito exames de sangue ( CT , LDL , HDL , TG ) ; mantenho as demais medicações .'],\n",
       "  ['LDL',\n",
       "   'Conduta : troco sinvastatina por atorvastatina e solicito exames de sangue ( CT , LDL , HDL , TG ) ; mantenho as demais medicações .'],\n",
       "  ['HDL',\n",
       "   'Conduta : troco sinvastatina por atorvastatina e solicito exames de sangue ( CT , LDL , HDL , TG ) ; mantenho as demais medicações .'],\n",
       "  ['TG',\n",
       "   'Conduta : troco sinvastatina por atorvastatina e solicito exames de sangue ( CT , LDL , HDL , TG ) ; mantenho as demais medicações .'],\n",
       "  ['demais medicações',\n",
       "   'Conduta : troco sinvastatina por atorvastatina e solicito exames de sangue ( CT , LDL , HDL , TG ) ; mantenho as demais medicações .'],\n",
       "  ['medicações',\n",
       "   'Conduta : troco sinvastatina por atorvastatina e solicito exames de sangue ( CT , LDL , HDL , TG ) ; mantenho as demais medicações .']],\n",
       " [['HAS', '# HAS .']],\n",
       " [['IC', '# IC .']],\n",
       " [['HIPOTIREOIDISMO', '# HIPOTIREOIDISMO .']],\n",
       " [['MIOCARDIOPATIA DILATADA', '# MIOCARDIOPATIA DILATADA .']],\n",
       " [['RESSINCRONIZADOR',\n",
       "   '# IMPLANTE DE RESSINCRONIZADOR / DESFIBRILADOR EM MAIO / 2012 .'],\n",
       "  ['DESFIBRILADOR',\n",
       "   '# IMPLANTE DE RESSINCRONIZADOR / DESFIBRILADOR EM MAIO / 2012 .']],\n",
       " [['DEPRESSÃO', '# DEPRESSÃO .']],\n",
       " [['CARVEDILOL 50 MG',\n",
       "   'EM USO : CARVEDILOL 50 MG 2X / D + MONONITRATO DE ISOSSORBITA 20 MG 2X / D + ANCORON ( AMIODARONA ) 200 MG 2X / D + ESPIRONOLACTONA 25 MG / D + FUROSEMIDA 40 MG 2X / D + LOSARTAN 50 MG 2X / D + DIGOXINA 0 , 25 MG / D + SINVASTATINA 40 MG / D + LEVOTIROXINA 50 MCG / D + RIVOTRIL 2 MG / D + CITALOPRAM 20MG 3X / DIA .'],\n",
       "  ['ANCORON ( AMIODARONA ) 200 MG',\n",
       "   'EM USO : CARVEDILOL 50 MG 2X / D + MONONITRATO DE ISOSSORBITA 20 MG 2X / D + ANCORON ( AMIODARONA ) 200 MG 2X / D + ESPIRONOLACTONA 25 MG / D + FUROSEMIDA 40 MG 2X / D + LOSARTAN 50 MG 2X / D + DIGOXINA 0 , 25 MG / D + SINVASTATINA 40 MG / D + LEVOTIROXINA 50 MCG / D + RIVOTRIL 2 MG / D + CITALOPRAM 20MG 3X / DIA .'],\n",
       "  ['ANCORON',\n",
       "   'EM USO : CARVEDILOL 50 MG 2X / D + MONONITRATO DE ISOSSORBITA 20 MG 2X / D + ANCORON ( AMIODARONA ) 200 MG 2X / D + ESPIRONOLACTONA 25 MG / D + FUROSEMIDA 40 MG 2X / D + LOSARTAN 50 MG 2X / D + DIGOXINA 0 , 25 MG / D + SINVASTATINA 40 MG / D + LEVOTIROXINA 50 MCG / D + RIVOTRIL 2 MG / D + CITALOPRAM 20MG 3X / DIA .'],\n",
       "  ['ANCORON ( AMIODARONA',\n",
       "   'EM USO : CARVEDILOL 50 MG 2X / D + MONONITRATO DE ISOSSORBITA 20 MG 2X / D + ANCORON ( AMIODARONA ) 200 MG 2X / D + ESPIRONOLACTONA 25 MG / D + FUROSEMIDA 40 MG 2X / D + LOSARTAN 50 MG 2X / D + DIGOXINA 0 , 25 MG / D + SINVASTATINA 40 MG / D + LEVOTIROXINA 50 MCG / D + RIVOTRIL 2 MG / D + CITALOPRAM 20MG 3X / DIA .'],\n",
       "  ['ESPIRONOLACTONA 25 MG',\n",
       "   'EM USO : CARVEDILOL 50 MG 2X / D + MONONITRATO DE ISOSSORBITA 20 MG 2X / D + ANCORON ( AMIODARONA ) 200 MG 2X / D + ESPIRONOLACTONA 25 MG / D + FUROSEMIDA 40 MG 2X / D + LOSARTAN 50 MG 2X / D + DIGOXINA 0 , 25 MG / D + SINVASTATINA 40 MG / D + LEVOTIROXINA 50 MCG / D + RIVOTRIL 2 MG / D + CITALOPRAM 20MG 3X / DIA .'],\n",
       "  ['FUROSEMIDA 40 MG',\n",
       "   'EM USO : CARVEDILOL 50 MG 2X / D + MONONITRATO DE ISOSSORBITA 20 MG 2X / D + ANCORON ( AMIODARONA ) 200 MG 2X / D + ESPIRONOLACTONA 25 MG / D + FUROSEMIDA 40 MG 2X / D + LOSARTAN 50 MG 2X / D + DIGOXINA 0 , 25 MG / D + SINVASTATINA 40 MG / D + LEVOTIROXINA 50 MCG / D + RIVOTRIL 2 MG / D + CITALOPRAM 20MG 3X / DIA .'],\n",
       "  ['LOSARTAN 50 MG',\n",
       "   'EM USO : CARVEDILOL 50 MG 2X / D + MONONITRATO DE ISOSSORBITA 20 MG 2X / D + ANCORON ( AMIODARONA ) 200 MG 2X / D + ESPIRONOLACTONA 25 MG / D + FUROSEMIDA 40 MG 2X / D + LOSARTAN 50 MG 2X / D + DIGOXINA 0 , 25 MG / D + SINVASTATINA 40 MG / D + LEVOTIROXINA 50 MCG / D + RIVOTRIL 2 MG / D + CITALOPRAM 20MG 3X / DIA .'],\n",
       "  ['SINVASTATINA 40 MG',\n",
       "   'EM USO : CARVEDILOL 50 MG 2X / D + MONONITRATO DE ISOSSORBITA 20 MG 2X / D + ANCORON ( AMIODARONA ) 200 MG 2X / D + ESPIRONOLACTONA 25 MG / D + FUROSEMIDA 40 MG 2X / D + LOSARTAN 50 MG 2X / D + DIGOXINA 0 , 25 MG / D + SINVASTATINA 40 MG / D + LEVOTIROXINA 50 MCG / D + RIVOTRIL 2 MG / D + CITALOPRAM 20MG 3X / DIA .'],\n",
       "  ['LEVOTIROXINA 50 MCG',\n",
       "   'EM USO : CARVEDILOL 50 MG 2X / D + MONONITRATO DE ISOSSORBITA 20 MG 2X / D + ANCORON ( AMIODARONA ) 200 MG 2X / D + ESPIRONOLACTONA 25 MG / D + FUROSEMIDA 40 MG 2X / D + LOSARTAN 50 MG 2X / D + DIGOXINA 0 , 25 MG / D + SINVASTATINA 40 MG / D + LEVOTIROXINA 50 MCG / D + RIVOTRIL 2 MG / D + CITALOPRAM 20MG 3X / DIA .']],\n",
       " [['DOR PRECORDIAL LEVE A MODERADA DO TIPO QUEIMAÇÃO',\n",
       "   'REFERE DOR PRECORDIAL LEVE A MODERADA DO TIPO QUEIMAÇÃO , SEM IRRADIAÇÃO , SEM PIORA AOS ESFORÇOS .'],\n",
       "  ['PIORA AOS ESFORÇOS',\n",
       "   'REFERE DOR PRECORDIAL LEVE A MODERADA DO TIPO QUEIMAÇÃO , SEM IRRADIAÇÃO , SEM PIORA AOS ESFORÇOS .']],\n",
       " [['DISPNEIA',\n",
       "   'DISPNEIA , MAL ESTAR E FADIGA AO SUBIR ESCADAS , ANDAR RÁPIDO .'],\n",
       "  ['FADIGA AO SUBIR ESCADAS',\n",
       "   'DISPNEIA , MAL ESTAR E FADIGA AO SUBIR ESCADAS , ANDAR RÁPIDO .']],\n",
       " [['ORTOPNEIA', 'NEGA ORTOPNEIA E DPN .'], ['DPN', 'NEGA ORTOPNEIA E DPN .']],\n",
       " [['TOSSE', 'NEGA TOSSE E EDEMA .'], ['EDEMA', 'NEGA TOSSE E EDEMA .']],\n",
       " [['MP', 'HÁ 2 ANOS NÃO FAZ REVISÃO DO MP .']],\n",
       " [['CESAREA', '1 CESAREA PRÉVIA , LIPOASPIRAÇÃO .'],\n",
       "  ['LIPOASPIRAÇÃO', '1 CESAREA PRÉVIA , LIPOASPIRAÇÃO .']],\n",
       " [['ALERGIAS', 'NEGA ALERGIAS .']],\n",
       " [['CATETERISMOS',\n",
       "   'JÁ REALIZOU 3 CATETERISMOS , CINTILOGRAFIA E EXAMES PARA DOENÇA DE CHAGAS .'],\n",
       "  ['CINTILOGRAFIA',\n",
       "   'JÁ REALIZOU 3 CATETERISMOS , CINTILOGRAFIA E EXAMES PARA DOENÇA DE CHAGAS .'],\n",
       "  ['CHAGAS',\n",
       "   'JÁ REALIZOU 3 CATETERISMOS , CINTILOGRAFIA E EXAMES PARA DOENÇA DE CHAGAS .']],\n",
       " [['CHDV', '# CHDV .']],\n",
       " [['TABAGISMO', 'NEGA TABAGISMO , NEGA ETILISMO , NEGA EXERCÍCIO FÍSICO .'],\n",
       "  ['ETILISMO', 'NEGA TABAGISMO , NEGA ETILISMO , NEGA EXERCÍCIO FÍSICO .'],\n",
       "  ['EXERCÍCIO FÍSICO',\n",
       "   'NEGA TABAGISMO , NEGA ETILISMO , NEGA EXERCÍCIO FÍSICO .']],\n",
       " [['EXAMES', 'EXAMES : .']],\n",
       " [['HB', 'HB 14 , 7 .']],\n",
       " [['HT', 'HT 43 , 9 % .']],\n",
       " [['CREATININA', 'CREATININA 0 , 8 .']],\n",
       " [['GLICOSE', 'GLICOSE 87 .']],\n",
       " [['UREIA', 'UREIA 48 48 .']],\n",
       " [['HDL', 'HDL 28 .']],\n",
       " [['SODIO', 'SODIO 139 .']],\n",
       " [['POTASSIO', 'POTASSIO 4 , 8 .']],\n",
       " [['COLESTEROL TOTAL', 'COLESTEROL TOTAL 268 .']],\n",
       " [['TSH', 'TSH 5 , 87 .']],\n",
       " [['T4 LIVRE', 'T4 LIVRE 0 , 86 .']],\n",
       " [['TRIGLICERIDEOS', 'TRIGLICERIDEOS 626 .']],\n",
       " [['STRESS',\n",
       "   'STRESS FARMACOLOGICO COM DIPIRIDAMOL : ECOCARDIOGRAMA DE STRESS FARMACOLOGICO SEM EVIDENCIA DE ISQUEMIA MIOCÁRDICA .'],\n",
       "  ['DIPIRIDAMOL',\n",
       "   'STRESS FARMACOLOGICO COM DIPIRIDAMOL : ECOCARDIOGRAMA DE STRESS FARMACOLOGICO SEM EVIDENCIA DE ISQUEMIA MIOCÁRDICA .'],\n",
       "  ['ISQUEMIA MIOCÁRDICA',\n",
       "   'STRESS FARMACOLOGICO COM DIPIRIDAMOL : ECOCARDIOGRAMA DE STRESS FARMACOLOGICO SEM EVIDENCIA DE ISQUEMIA MIOCÁRDICA .'],\n",
       "  ['MIOCÁRDICA',\n",
       "   'STRESS FARMACOLOGICO COM DIPIRIDAMOL : ECOCARDIOGRAMA DE STRESS FARMACOLOGICO SEM EVIDENCIA DE ISQUEMIA MIOCÁRDICA .']],\n",
       " [['LEVOTIROXINA PARA 100 MCG',\n",
       "   'CONDUTA : AUMENTO DA DOSE DE LEVOTIROXINA PARA 100 MCG , CIPROFIBRATO 100MG 1X / DIA , FUROSEMIDA SE FALTA DE AR , SINVASTATINA PARA 40MG , HIDRALAZINA 25MG DE 8 / 8H .'],\n",
       "  ['100 MCG',\n",
       "   'CONDUTA : AUMENTO DA DOSE DE LEVOTIROXINA PARA 100 MCG , CIPROFIBRATO 100MG 1X / DIA , FUROSEMIDA SE FALTA DE AR , SINVASTATINA PARA 40MG , HIDRALAZINA 25MG DE 8 / 8H .'],\n",
       "  ['LEVOTIROXINA PARA 100',\n",
       "   'CONDUTA : AUMENTO DA DOSE DE LEVOTIROXINA PARA 100 MCG , CIPROFIBRATO 100MG 1X / DIA , FUROSEMIDA SE FALTA DE AR , SINVASTATINA PARA 40MG , HIDRALAZINA 25MG DE 8 / 8H .'],\n",
       "  ['PARA 100 MCG',\n",
       "   'CONDUTA : AUMENTO DA DOSE DE LEVOTIROXINA PARA 100 MCG , CIPROFIBRATO 100MG 1X / DIA , FUROSEMIDA SE FALTA DE AR , SINVASTATINA PARA 40MG , HIDRALAZINA 25MG DE 8 / 8H .'],\n",
       "  ['CIPROFIBRATO 100MG',\n",
       "   'CONDUTA : AUMENTO DA DOSE DE LEVOTIROXINA PARA 100 MCG , CIPROFIBRATO 100MG 1X / DIA , FUROSEMIDA SE FALTA DE AR , SINVASTATINA PARA 40MG , HIDRALAZINA 25MG DE 8 / 8H .'],\n",
       "  ['FUROSEMIDA',\n",
       "   'CONDUTA : AUMENTO DA DOSE DE LEVOTIROXINA PARA 100 MCG , CIPROFIBRATO 100MG 1X / DIA , FUROSEMIDA SE FALTA DE AR , SINVASTATINA PARA 40MG , HIDRALAZINA 25MG DE 8 / 8H .'],\n",
       "  ['SINVASTATINA PARA 40MG',\n",
       "   'CONDUTA : AUMENTO DA DOSE DE LEVOTIROXINA PARA 100 MCG , CIPROFIBRATO 100MG 1X / DIA , FUROSEMIDA SE FALTA DE AR , SINVASTATINA PARA 40MG , HIDRALAZINA 25MG DE 8 / 8H .'],\n",
       "  ['SINVASTATINA',\n",
       "   'CONDUTA : AUMENTO DA DOSE DE LEVOTIROXINA PARA 100 MCG , CIPROFIBRATO 100MG 1X / DIA , FUROSEMIDA SE FALTA DE AR , SINVASTATINA PARA 40MG , HIDRALAZINA 25MG DE 8 / 8H .'],\n",
       "  ['HIDRALAZINA 25MG',\n",
       "   'CONDUTA : AUMENTO DA DOSE DE LEVOTIROXINA PARA 100 MCG , CIPROFIBRATO 100MG 1X / DIA , FUROSEMIDA SE FALTA DE AR , SINVASTATINA PARA 40MG , HIDRALAZINA 25MG DE 8 / 8H .']],\n",
       " [['EXAMES', 'EXAMES DE TSH , T4 LIVRE , CK , TGO E TGP E PERFIL LIPIDICO .'],\n",
       "  ['TSH', 'EXAMES DE TSH , T4 LIVRE , CK , TGO E TGP E PERFIL LIPIDICO .'],\n",
       "  ['T4', 'EXAMES DE TSH , T4 LIVRE , CK , TGO E TGP E PERFIL LIPIDICO .'],\n",
       "  ['CK', 'EXAMES DE TSH , T4 LIVRE , CK , TGO E TGP E PERFIL LIPIDICO .'],\n",
       "  ['TGO', 'EXAMES DE TSH , T4 LIVRE , CK , TGO E TGP E PERFIL LIPIDICO .'],\n",
       "  ['TGP', 'EXAMES DE TSH , T4 LIVRE , CK , TGO E TGP E PERFIL LIPIDICO .']],\n",
       " [['HAS', '# HAS HÁ 10 ANOS .']],\n",
       " [['DSLP', '# DSLP .']],\n",
       " [['HIPOTIREOIDISMO', '# HIPOTIREOIDISMO .']],\n",
       " [['DEPRESSÃO', '# DEPRESSÃO .']],\n",
       " [['OSTEOARTRITE DE MÃOS', '# OSTEOARTRITE DE MÃOS .']],\n",
       " [['CAT', '# CAT EM JUNHO / 2011 : SEM INDICAÇÃO CIRÚRGICA .']],\n",
       " [['HÉRNIA DE DISCO', '# HÉRNIA DE DISCO HÁ 3 ANOS .']],\n",
       " [['CINTILOGRAFIA MIOCÁRDICA',\n",
       "   '# CINTILOGRAFIA MIOCÁRDICA COM DIPIRIDAMOL EM 2011 : HIPOCAPTAÇÃO APICAL , DO SEGMENTO ANTERIOR ( TRANSITÓRIO ) E BASAL DO SEGMENTO ANTERO - SEPTAL .'],\n",
       "  ['MIOCÁRDICA',\n",
       "   '# CINTILOGRAFIA MIOCÁRDICA COM DIPIRIDAMOL EM 2011 : HIPOCAPTAÇÃO APICAL , DO SEGMENTO ANTERIOR ( TRANSITÓRIO ) E BASAL DO SEGMENTO ANTERO - SEPTAL .'],\n",
       "  ['DIPIRIDAMOL',\n",
       "   '# CINTILOGRAFIA MIOCÁRDICA COM DIPIRIDAMOL EM 2011 : HIPOCAPTAÇÃO APICAL , DO SEGMENTO ANTERIOR ( TRANSITÓRIO ) E BASAL DO SEGMENTO ANTERO - SEPTAL .']],\n",
       " [['FLUOXETINA 20MG',\n",
       "   '# EM USO : FLUOXETINA 20MG / D ; ENALAPRIL 10MG 12 / 12H ; AAS 100MG / D ; CARVEDILOL 12 , 5MG 12 / 12H ; HCTZ 25MG / D ; SUSTRATE 10MG SN ; SINVASTATINA 40MG / D ; LEVOTIROXINA 25UCG / D ; HIDROXICLOROQUINA 400MG / D ; .'],\n",
       "  ['ENALAPRIL 10MG',\n",
       "   '# EM USO : FLUOXETINA 20MG / D ; ENALAPRIL 10MG 12 / 12H ; AAS 100MG / D ; CARVEDILOL 12 , 5MG 12 / 12H ; HCTZ 25MG / D ; SUSTRATE 10MG SN ; SINVASTATINA 40MG / D ; LEVOTIROXINA 25UCG / D ; HIDROXICLOROQUINA 400MG / D ; .'],\n",
       "  ['AAS 100MG',\n",
       "   '# EM USO : FLUOXETINA 20MG / D ; ENALAPRIL 10MG 12 / 12H ; AAS 100MG / D ; CARVEDILOL 12 , 5MG 12 / 12H ; HCTZ 25MG / D ; SUSTRATE 10MG SN ; SINVASTATINA 40MG / D ; LEVOTIROXINA 25UCG / D ; HIDROXICLOROQUINA 400MG / D ; .'],\n",
       "  ['CARVEDILOL 12 , 5MG',\n",
       "   '# EM USO : FLUOXETINA 20MG / D ; ENALAPRIL 10MG 12 / 12H ; AAS 100MG / D ; CARVEDILOL 12 , 5MG 12 / 12H ; HCTZ 25MG / D ; SUSTRATE 10MG SN ; SINVASTATINA 40MG / D ; LEVOTIROXINA 25UCG / D ; HIDROXICLOROQUINA 400MG / D ; .'],\n",
       "  ['HCTZ 25MG',\n",
       "   '# EM USO : FLUOXETINA 20MG / D ; ENALAPRIL 10MG 12 / 12H ; AAS 100MG / D ; CARVEDILOL 12 , 5MG 12 / 12H ; HCTZ 25MG / D ; SUSTRATE 10MG SN ; SINVASTATINA 40MG / D ; LEVOTIROXINA 25UCG / D ; HIDROXICLOROQUINA 400MG / D ; .'],\n",
       "  ['SUSTRATE 10MG',\n",
       "   '# EM USO : FLUOXETINA 20MG / D ; ENALAPRIL 10MG 12 / 12H ; AAS 100MG / D ; CARVEDILOL 12 , 5MG 12 / 12H ; HCTZ 25MG / D ; SUSTRATE 10MG SN ; SINVASTATINA 40MG / D ; LEVOTIROXINA 25UCG / D ; HIDROXICLOROQUINA 400MG / D ; .'],\n",
       "  ['SINVASTATINA 40MG',\n",
       "   '# EM USO : FLUOXETINA 20MG / D ; ENALAPRIL 10MG 12 / 12H ; AAS 100MG / D ; CARVEDILOL 12 , 5MG 12 / 12H ; HCTZ 25MG / D ; SUSTRATE 10MG SN ; SINVASTATINA 40MG / D ; LEVOTIROXINA 25UCG / D ; HIDROXICLOROQUINA 400MG / D ; .'],\n",
       "  ['LEVOTIROXINA 25UCG',\n",
       "   '# EM USO : FLUOXETINA 20MG / D ; ENALAPRIL 10MG 12 / 12H ; AAS 100MG / D ; CARVEDILOL 12 , 5MG 12 / 12H ; HCTZ 25MG / D ; SUSTRATE 10MG SN ; SINVASTATINA 40MG / D ; LEVOTIROXINA 25UCG / D ; HIDROXICLOROQUINA 400MG / D ; .'],\n",
       "  ['HIDROXICLOROQUINA 400MG',\n",
       "   '# EM USO : FLUOXETINA 20MG / D ; ENALAPRIL 10MG 12 / 12H ; AAS 100MG / D ; CARVEDILOL 12 , 5MG 12 / 12H ; HCTZ 25MG / D ; SUSTRATE 10MG SN ; SINVASTATINA 40MG / D ; LEVOTIROXINA 25UCG / D ; HIDROXICLOROQUINA 400MG / D ; .']],\n",
       " [['LAB', 'LAB 08 / 04 / 15 : TG 144 / HDL 50 / CT 178 / LDL 99 / .'],\n",
       "  ['TG', 'LAB 08 / 04 / 15 : TG 144 / HDL 50 / CT 178 / LDL 99 / .'],\n",
       "  ['HDL', 'LAB 08 / 04 / 15 : TG 144 / HDL 50 / CT 178 / LDL 99 / .'],\n",
       "  ['CT', 'LAB 08 / 04 / 15 : TG 144 / HDL 50 / CT 178 / LDL 99 / .'],\n",
       "  ['LDL', 'LAB 08 / 04 / 15 : TG 144 / HDL 50 / CT 178 / LDL 99 / .']],\n",
       " [['DOR TORÁCICA PRECORDIAL TIPO QUEIMAÇÃO',\n",
       "   'S # REFERE DOR TORÁCICA PRECORDIAL TIPO QUEIMAÇÃO , COM MELHORA AO USO DE NITRATO , SEM IRRADIAÇÃO , SEM RELAÇÃO COM O ESFORÇO , 2 EPISÓDIOS AO MÊS .'],\n",
       "  ['DOR TORÁCICA PRECORDIAL TIPO',\n",
       "   'S # REFERE DOR TORÁCICA PRECORDIAL TIPO QUEIMAÇÃO , COM MELHORA AO USO DE NITRATO , SEM IRRADIAÇÃO , SEM RELAÇÃO COM O ESFORÇO , 2 EPISÓDIOS AO MÊS .'],\n",
       "  ['TORÁCICA PRECORDIAL TIPO QUEIMAÇÃO',\n",
       "   'S # REFERE DOR TORÁCICA PRECORDIAL TIPO QUEIMAÇÃO , COM MELHORA AO USO DE NITRATO , SEM IRRADIAÇÃO , SEM RELAÇÃO COM O ESFORÇO , 2 EPISÓDIOS AO MÊS .'],\n",
       "  ['NITRATO',\n",
       "   'S # REFERE DOR TORÁCICA PRECORDIAL TIPO QUEIMAÇÃO , COM MELHORA AO USO DE NITRATO , SEM IRRADIAÇÃO , SEM RELAÇÃO COM O ESFORÇO , 2 EPISÓDIOS AO MÊS .'],\n",
       "  ['RELAÇÃO COM O ESFORÇO',\n",
       "   'S # REFERE DOR TORÁCICA PRECORDIAL TIPO QUEIMAÇÃO , COM MELHORA AO USO DE NITRATO , SEM IRRADIAÇÃO , SEM RELAÇÃO COM O ESFORÇO , 2 EPISÓDIOS AO MÊS .']],\n",
       " [['DISPNÉIA', 'NEGA DISPNÉIA , ORTOPNEIA OU DPN .'],\n",
       "  ['ORTOPNEIA', 'NEGA DISPNÉIA , ORTOPNEIA OU DPN .'],\n",
       "  ['DPN', 'NEGA DISPNÉIA , ORTOPNEIA OU DPN .']],\n",
       " [['EDEMA DE MMII', 'NEGA EDEMA DE MMII .'],\n",
       "  ['DE MMII', 'NEGA EDEMA DE MMII .']],\n",
       " [['ARTRALGIAS DIFUSAS',\n",
       "   'CONTA APRESENTAR ARTRALGIAS DIFUSAS PIORES AO FRIO .'],\n",
       "  ['FRIO', 'CONTA APRESENTAR ARTRALGIAS DIFUSAS PIORES AO FRIO .']],\n",
       " [['PA', 'PA 120 / 70 ; FC 62 ; SATO2 98 % EM AA .'],\n",
       "  ['FC', 'PA 120 / 70 ; FC 62 ; SATO2 98 % EM AA .'],\n",
       "  ['SATO2', 'PA 120 / 70 ; FC 62 ; SATO2 98 % EM AA .']],\n",
       " [['RA', 'MV PRESENTE E SIMÉTRICO SEM RA .']],\n",
       " [['SOPROS', 'BCRNF SEM SOPROS EM 2T .']],\n",
       " [['ABDOME',\n",
       "   'ABDOME GLOBOSO , FLÁCIDO , INDOLOR , SEM VCM OU MASSAS PALPAVEIS .'],\n",
       "  ['VCM',\n",
       "   'ABDOME GLOBOSO , FLÁCIDO , INDOLOR , SEM VCM OU MASSAS PALPAVEIS .'],\n",
       "  ['MASSAS PALPAVEIS',\n",
       "   'ABDOME GLOBOSO , FLÁCIDO , INDOLOR , SEM VCM OU MASSAS PALPAVEIS .'],\n",
       "  ['MASSAS',\n",
       "   'ABDOME GLOBOSO , FLÁCIDO , INDOLOR , SEM VCM OU MASSAS PALPAVEIS .'],\n",
       "  ['PALPAVEIS',\n",
       "   'ABDOME GLOBOSO , FLÁCIDO , INDOLOR , SEM VCM OU MASSAS PALPAVEIS .']],\n",
       " [['MMII', 'MMII SEM EDEMA OU EMPASTAMENTO .'],\n",
       "  ['EDEMA', 'MMII SEM EDEMA OU EMPASTAMENTO .'],\n",
       "  ['EMPASTAMENTO', 'MMII SEM EDEMA OU EMPASTAMENTO .']],\n",
       " [['ANGINA INSTÁVEL', '- ANGINA INSTÁVEL ? .']],\n",
       " [['MONOCORDIL 20MG', '- ACRESCENTO MONOCORDIL 20MG 12 / 12H .']],\n",
       " [['CINTILOGRAFIA DE PERFUSÃO MIOCÁRDICA',\n",
       "   '- SOLICITO NOVA CINTILOGRAFIA DE PERFUSÃO MIOCÁRDICA .'],\n",
       "  ['PERFUSÃO MIOCÁRDICA',\n",
       "   '- SOLICITO NOVA CINTILOGRAFIA DE PERFUSÃO MIOCÁRDICA .']],\n",
       " [['LAB', '- SOLICITO NOVO LAB .']],\n",
       " [['EXAMES', '- RETORNO COM EXAMES .']],\n",
       " [['SINCOPE',\n",
       "   'ACOMPANHANDO COM Doutor Vital Brazil SEM SINCOPE , SEM PALPITAÇÃO , SEM TERAPIAS .'],\n",
       "  ['PALPITAÇÃO',\n",
       "   'ACOMPANHANDO COM Doutor Vital Brazil SEM SINCOPE , SEM PALPITAÇÃO , SEM TERAPIAS .'],\n",
       "  ['TERAPIAS',\n",
       "   'ACOMPANHANDO COM Doutor Vital Brazil SEM SINCOPE , SEM PALPITAÇÃO , SEM TERAPIAS .']],\n",
       " [['avaliação de mp - cdi', '# hoje realizou avaliação de mp - cdi , .']],\n",
       " [['arritmias', '# sem registro de arritmias - terapias , .'],\n",
       "  ['terapias', '# sem registro de arritmias - terapias , .']],\n",
       " [['eletrodos atrial', '# eletrodos atrial e ventricular = ok .'],\n",
       "  ['ventricular', '# eletrodos atrial e ventricular = ok .']],\n",
       " [['CAT', '# CAT EM 2008 .']],\n",
       " [['VALVOPLASTIA AÓRTICA', 'VALVOPLASTIA AÓRTICA EM 2008 .']],\n",
       " [['VALVA BIOLÓGICA',\n",
       "   'VALVA BIOLÓGICA - 40 DIAS DEPOIS DA CX CARDIOVERSÃO .']],\n",
       " [['TONTURA',\n",
       "   '# PACIENTE ASSINTOMÁTICO HÁ BASTANTE TEMPO ( APROX 1 ANO ) , A CAMINHO DO TRABALHO NO DIA 16 / 08 COMEÇOU A SENTIR TONTURA .']],\n",
       " [['QUEIXAS',\n",
       "   'HOJE PACIENTE ESTÁ ASSINTOMÁTICO , NEGA QUEIXAS , VOLTOU AS ATIVIDADES NORMAIS ( FRENTISTA ) .'],\n",
       "  ['FRENTISTA',\n",
       "   'HOJE PACIENTE ESTÁ ASSINTOMÁTICO , NEGA QUEIXAS , VOLTOU AS ATIVIDADES NORMAIS ( FRENTISTA ) .']],\n",
       " [['EMAGRECIMENTO', 'RELATA EMAGRECIMENTO DE 7 KG EM 10 DIAS .']],\n",
       " [['EX - TABAGISTA',\n",
       "   '# EX - TABAGISTA 40 MAÇOS - ANO - EM ABSTINÊNCIA HÁ 7 ANOS .']],\n",
       " [['ENALAPRIL 10MG',\n",
       "   '# EM USO DE : ENALAPRIL 10MG 2X / DIA , CARVEDILOL 12 , 5 MG 2X / DIA , ATORVASTATINA 40 MG , CLOPIDOGREL E MAREVAN .'],\n",
       "  ['CARVEDILOL 12 , 5 MG',\n",
       "   '# EM USO DE : ENALAPRIL 10MG 2X / DIA , CARVEDILOL 12 , 5 MG 2X / DIA , ATORVASTATINA 40 MG , CLOPIDOGREL E MAREVAN .'],\n",
       "  ['CARVEDILOL',\n",
       "   '# EM USO DE : ENALAPRIL 10MG 2X / DIA , CARVEDILOL 12 , 5 MG 2X / DIA , ATORVASTATINA 40 MG , CLOPIDOGREL E MAREVAN .'],\n",
       "  ['ATORVASTATINA 40 MG',\n",
       "   '# EM USO DE : ENALAPRIL 10MG 2X / DIA , CARVEDILOL 12 , 5 MG 2X / DIA , ATORVASTATINA 40 MG , CLOPIDOGREL E MAREVAN .'],\n",
       "  ['CLOPIDOGREL',\n",
       "   '# EM USO DE : ENALAPRIL 10MG 2X / DIA , CARVEDILOL 12 , 5 MG 2X / DIA , ATORVASTATINA 40 MG , CLOPIDOGREL E MAREVAN .'],\n",
       "  ['MAREVAN',\n",
       "   '# EM USO DE : ENALAPRIL 10MG 2X / DIA , CARVEDILOL 12 , 5 MG 2X / DIA , ATORVASTATINA 40 MG , CLOPIDOGREL E MAREVAN .']],\n",
       " [['EXAME FÍSICO', '# EXAME FÍSICO : .']],\n",
       " [['FC', 'FC 80 BPM , PA 120 / 80 MMHG .'],\n",
       "  ['PA', 'FC 80 BPM , PA 120 / 80 MMHG .']],\n",
       " [['HIPOFONESE DE BULHAS EM FOCO AÓRTICO',\n",
       "   'BCRNF - HIPOFONESE DE BULHAS EM FOCO AÓRTICO .']],\n",
       " [['RA', 'MV + SIM BILATERAL , S / RA .']],\n",
       " [['ABDOME', 'RHA + , ABDOME NÃO DOLOROSO A PALPAÇÃO , SEM VISCEROMEGALIAS .'],\n",
       "  ['VISCEROMEGALIAS',\n",
       "   'RHA + , ABDOME NÃO DOLOROSO A PALPAÇÃO , SEM VISCEROMEGALIAS .']],\n",
       " [['HERNIA UMBILICAL REDUTÍVEL', 'HERNIA UMBILICAL REDUTÍVEL .']],\n",
       " [['MMII EDEMA + / 4 +', 'MMII EDEMA + / 4 + , PANTURRILHAS LIVRES .']],\n",
       " [['ECG',\n",
       "   '# ECG 19 / 08 : FLUTTER ATRIAL PROVAVELMENTE ANTI - HORÁRIO 2 / 3 : 1 , EXTRASSÍSTOLES VENTRICULARES .'],\n",
       "  ['FLUTTER ATRIAL',\n",
       "   '# ECG 19 / 08 : FLUTTER ATRIAL PROVAVELMENTE ANTI - HORÁRIO 2 / 3 : 1 , EXTRASSÍSTOLES VENTRICULARES .'],\n",
       "  ['HORÁRIO',\n",
       "   '# ECG 19 / 08 : FLUTTER ATRIAL PROVAVELMENTE ANTI - HORÁRIO 2 / 3 : 1 , EXTRASSÍSTOLES VENTRICULARES .'],\n",
       "  ['EXTRASSÍSTOLES VENTRICULARES',\n",
       "   '# ECG 19 / 08 : FLUTTER ATRIAL PROVAVELMENTE ANTI - HORÁRIO 2 / 3 : 1 , EXTRASSÍSTOLES VENTRICULARES .']],\n",
       " [['TAP', '# CD : CONTROLE DO TAP .']],\n",
       " [['TAP', 'PRECISA DE 4 TAP ENTRE 2 E 3 .']],\n",
       " [['intercorrencias', '# sem intercorrencias , .']],\n",
       " [['avaliação exclusiva de mp', '# hoje avaliação exclusiva de mp .']],\n",
       " [['mp camara - dupla', '# mp camara - dupla , .']],\n",
       " [['IMP',\n",
       "   '# A - IMP = 390 , SENSE = 2 , 3 , CLA = MENOR QUE 1 , 0 X 0 , 4 ; .']],\n",
       " [['IMP',\n",
       "   '# V - IMP = 487 , SENSE = 3 , 8 , CLV = MENOR QUE 1 , 0 X 0 , 4 .']],\n",
       " [['auto captura',\n",
       "   '# cd = programada auto captura , retorno em 12 meses , se intercorrencias = procura direta , sempre manter com cardio geral .'],\n",
       "  ['captura',\n",
       "   '# cd = programada auto captura , retorno em 12 meses , se intercorrencias = procura direta , sempre manter com cardio geral .']],\n",
       " [['DAC', '# DAC - IAM 2007 + RVM / / ATC 2010 , .'],\n",
       "  ['IAM', '# DAC - IAM 2007 + RVM / / ATC 2010 , .'],\n",
       "  ['RVM', '# DAC - IAM 2007 + RVM / / ATC 2010 , .'],\n",
       "  ['ATC', '# DAC - IAM 2007 + RVM / / ATC 2010 , .']],\n",
       " [['Hipertireoidismo',\n",
       "   '# Hipertireoidismo ? ? - em acompanhamento com endocrinologia , .']],\n",
       " [['FA paroxistica', '# FA paroxistica , .']],\n",
       " [['taquicardia atrial',\n",
       "   '# Internamento em jan / 15 por taquicardia atrial com aberrância - - DESCARTADO ISQUEMIA MIOCÁRDICA COMO CAUSA , PROVÁVEL FATOR DESCOMPENSADOR SERIA O HIPERTIREOIDISMO QUE AINDA APRESENTA - SE DESCOMPENSADO ( TSH < 0 , 01 ) .'],\n",
       "  ['taquicardia',\n",
       "   '# Internamento em jan / 15 por taquicardia atrial com aberrância - - DESCARTADO ISQUEMIA MIOCÁRDICA COMO CAUSA , PROVÁVEL FATOR DESCOMPENSADOR SERIA O HIPERTIREOIDISMO QUE AINDA APRESENTA - SE DESCOMPENSADO ( TSH < 0 , 01 ) .'],\n",
       "  ['atrial',\n",
       "   '# Internamento em jan / 15 por taquicardia atrial com aberrância - - DESCARTADO ISQUEMIA MIOCÁRDICA COMO CAUSA , PROVÁVEL FATOR DESCOMPENSADOR SERIA O HIPERTIREOIDISMO QUE AINDA APRESENTA - SE DESCOMPENSADO ( TSH < 0 , 01 ) .'],\n",
       "  ['aberrância',\n",
       "   '# Internamento em jan / 15 por taquicardia atrial com aberrância - - DESCARTADO ISQUEMIA MIOCÁRDICA COMO CAUSA , PROVÁVEL FATOR DESCOMPENSADOR SERIA O HIPERTIREOIDISMO QUE AINDA APRESENTA - SE DESCOMPENSADO ( TSH < 0 , 01 ) .'],\n",
       "  ['ISQUEMIA MIOCÁRDICA',\n",
       "   '# Internamento em jan / 15 por taquicardia atrial com aberrância - - DESCARTADO ISQUEMIA MIOCÁRDICA COMO CAUSA , PROVÁVEL FATOR DESCOMPENSADOR SERIA O HIPERTIREOIDISMO QUE AINDA APRESENTA - SE DESCOMPENSADO ( TSH < 0 , 01 ) .'],\n",
       "  ['TSH',\n",
       "   '# Internamento em jan / 15 por taquicardia atrial com aberrância - - DESCARTADO ISQUEMIA MIOCÁRDICA COMO CAUSA , PROVÁVEL FATOR DESCOMPENSADOR SERIA O HIPERTIREOIDISMO QUE AINDA APRESENTA - SE DESCOMPENSADO ( TSH < 0 , 01 ) .']],\n",
       " [['Medicamentos',\n",
       "   'Medicamentos : tapazol 10 mg , enalapril 10 mg 12 / 12h , selozok 50 mg , sinvastatina 40 mg , xarelto 20 mg , AAS100mg .'],\n",
       "  ['enalapril 10 mg',\n",
       "   'Medicamentos : tapazol 10 mg , enalapril 10 mg 12 / 12h , selozok 50 mg , sinvastatina 40 mg , xarelto 20 mg , AAS100mg .'],\n",
       "  ['selozok 50 mg',\n",
       "   'Medicamentos : tapazol 10 mg , enalapril 10 mg 12 / 12h , selozok 50 mg , sinvastatina 40 mg , xarelto 20 mg , AAS100mg .'],\n",
       "  ['sinvastatina 40 mg',\n",
       "   'Medicamentos : tapazol 10 mg , enalapril 10 mg 12 / 12h , selozok 50 mg , sinvastatina 40 mg , xarelto 20 mg , AAS100mg .'],\n",
       "  ['xarelto 20 mg',\n",
       "   'Medicamentos : tapazol 10 mg , enalapril 10 mg 12 / 12h , selozok 50 mg , sinvastatina 40 mg , xarelto 20 mg , AAS100mg .'],\n",
       "  ['AAS100mg',\n",
       "   'Medicamentos : tapazol 10 mg , enalapril 10 mg 12 / 12h , selozok 50 mg , sinvastatina 40 mg , xarelto 20 mg , AAS100mg .']],\n",
       " [['palpitações', 'S # Nega palpitações , dispneia , dor torácica .'],\n",
       "  ['dispneia', 'S # Nega palpitações , dispneia , dor torácica .'],\n",
       "  ['dor torácica', 'S # Nega palpitações , dispneia , dor torácica .']],\n",
       " [['Epigastralgia', 'Epigastralgia .']],\n",
       " [['endocrino', 'Consuçta com endocrino amanhã .']],\n",
       " [['exames', 'Traz exames : .']],\n",
       " [['Holter',\n",
       "   '- Holter 28 / 04 / 15 : ritmo sinusal , FC media 53 , Intervalo PR normal , QRS normais , extra - sistole ventricular unica , extra - sistole supra - ventricular rara , ausencia de pausas , ST sem alterações .'],\n",
       "  ['extra - sistole supra - ventricular',\n",
       "   '- Holter 28 / 04 / 15 : ritmo sinusal , FC media 53 , Intervalo PR normal , QRS normais , extra - sistole ventricular unica , extra - sistole supra - ventricular rara , ausencia de pausas , ST sem alterações .'],\n",
       "  ['extra',\n",
       "   '- Holter 28 / 04 / 15 : ritmo sinusal , FC media 53 , Intervalo PR normal , QRS normais , extra - sistole ventricular unica , extra - sistole supra - ventricular rara , ausencia de pausas , ST sem alterações .'],\n",
       "  ['extra - sistole supra',\n",
       "   '- Holter 28 / 04 / 15 : ritmo sinusal , FC media 53 , Intervalo PR normal , QRS normais , extra - sistole ventricular unica , extra - sistole supra - ventricular rara , ausencia de pausas , ST sem alterações .'],\n",
       "  ['sistole supra - ventricular',\n",
       "   '- Holter 28 / 04 / 15 : ritmo sinusal , FC media 53 , Intervalo PR normal , QRS normais , extra - sistole ventricular unica , extra - sistole supra - ventricular rara , ausencia de pausas , ST sem alterações .'],\n",
       "  ['extra - sistole supra -',\n",
       "   '- Holter 28 / 04 / 15 : ritmo sinusal , FC media 53 , Intervalo PR normal , QRS normais , extra - sistole ventricular unica , extra - sistole supra - ventricular rara , ausencia de pausas , ST sem alterações .'],\n",
       "  ['- sistole supra - ventricular',\n",
       "   '- Holter 28 / 04 / 15 : ritmo sinusal , FC media 53 , Intervalo PR normal , QRS normais , extra - sistole ventricular unica , extra - sistole supra - ventricular rara , ausencia de pausas , ST sem alterações .'],\n",
       "  ['pausas',\n",
       "   '- Holter 28 / 04 / 15 : ritmo sinusal , FC media 53 , Intervalo PR normal , QRS normais , extra - sistole ventricular unica , extra - sistole supra - ventricular rara , ausencia de pausas , ST sem alterações .'],\n",
       "  ['ST',\n",
       "   '- Holter 28 / 04 / 15 : ritmo sinusal , FC media 53 , Intervalo PR normal , QRS normais , extra - sistole ventricular unica , extra - sistole supra - ventricular rara , ausencia de pausas , ST sem alterações .'],\n",
       "  ['alterações',\n",
       "   '- Holter 28 / 04 / 15 : ritmo sinusal , FC media 53 , Intervalo PR normal , QRS normais , extra - sistole ventricular unica , extra - sistole supra - ventricular rara , ausencia de pausas , ST sem alterações .']],\n",
       " [['TSH', '- TSH 47 / t4l 0 , 55 .'], ['t4l', '- TSH 47 / t4l 0 , 55 .']],\n",
       " [['Ecocardiograma',\n",
       "   '- Ecocardiograma out / 14 ( externo ) : AE 43 / VD 23 / septo 10 / VE 52 - 26 / FE 81 % .'],\n",
       "  ['AE',\n",
       "   '- Ecocardiograma out / 14 ( externo ) : AE 43 / VD 23 / septo 10 / VE 52 - 26 / FE 81 % .'],\n",
       "  ['VD',\n",
       "   '- Ecocardiograma out / 14 ( externo ) : AE 43 / VD 23 / septo 10 / VE 52 - 26 / FE 81 % .'],\n",
       "  ['septo',\n",
       "   '- Ecocardiograma out / 14 ( externo ) : AE 43 / VD 23 / septo 10 / VE 52 - 26 / FE 81 % .'],\n",
       "  ['VE',\n",
       "   '- Ecocardiograma out / 14 ( externo ) : AE 43 / VD 23 / septo 10 / VE 52 - 26 / FE 81 % .']],\n",
       " [['VE', 'VE com contração segmentar e função sistólica adequadas .']],\n",
       " [['exame', 'Ao exame : .']],\n",
       " [['PA130', 'PA130 / 70 , FC 55 .'], ['FC', 'PA130 / 70 , FC 55 .']],\n",
       " [['sopros', 'CV : BRNF , sem sopros .']],\n",
       " [['CPP', 'CPP livres .']],\n",
       " [['FA paroxística', 'A # FA paroxística .']],\n",
       " [['medicação', 'P # Retorno precoce na endocrino para ajuste medicação .']],\n",
       " [['selozok', 'Suspendemos selozok .']],\n",
       " [['propafenona 300mg', 'prescrevemos propafenona 300mg 12 / 12h .']],\n",
       " [['ecocardio', 'Retorno com ecocardio em 3 meses .']],\n",
       " [['medicações', 'Demais medicações mantidas .']],\n",
       " [['IAM', '# IAM 2009 - ATC .'], ['ATC', '# IAM 2009 - ATC .']],\n",
       " [['CA de Laringe', '# CA de Laringe , fez QT e RT - TERMINO TTO 2002 , .']],\n",
       " [['HAS', '# HAS , .']],\n",
       " [['HPB', '# HPB , .']],\n",
       " [['DLP', '# DLP , .']],\n",
       " [['ARTRITE REUMATÓIDE', '# ARTRITE REUMATÓIDE .']],\n",
       " [['Enalapril 20 mg', '- Enalapril 20 mg , 2 cp de 12 / 12 hr .']],\n",
       " [['CARVEDILOL 12 , 5MG', '- CARVEDILOL 12 , 5MG , 1 cp de 12 / 12 hr , .']],\n",
       " [['AAS 100 mg', '- AAS 100 mg , 1 / dia ; .']],\n",
       " [['Sinvastatina 20mg', '- Sinvastatina 20mg , 4 cp de noite ; .']],\n",
       " [['Omeprazol 20m mg', '- Omeprazol 20m mg , 2 cp de 12 / 12hr ; .']],\n",
       " [['PREDNISONA 5 MG', '- PREDNISONA 5 MG ; .']],\n",
       " [['COMBODART', '- COMBODART .']],\n",
       " [['Teste de esforço',\n",
       "   '***Teste de esforço 10 / 2013 : eficaz , submáximo , sem alterações .'],\n",
       "  ['alterações',\n",
       "   '***Teste de esforço 10 / 2013 : eficaz , submáximo , sem alterações .']],\n",
       " [['iesquemia miocardica',\n",
       "   'Clínicas ou eletrocardiográficas de iesquemia miocardica .'],\n",
       "  ['miocardica',\n",
       "   'Clínicas ou eletrocardiográficas de iesquemia miocardica .']],\n",
       " [['Resposta tensional', 'Resposta tensional fisiológica .']],\n",
       " [['ECOCARDIO',\n",
       "   '*** ECOCARDIO 11 / 06 / 2014 : VE COM DIMENSÃO INTERNA , CONTRATILIDADE MIOCARDICA E FUNÇÃO SISTOLICA GLOBAL NORMAIS , DISFUNÇÃO DIASTOLICA TIPO ALTERAÇÃO DE RELAXAMENTO , AE E CAVIDADES DIREITAS NORMAIS , .'],\n",
       "  ['VE',\n",
       "   '*** ECOCARDIO 11 / 06 / 2014 : VE COM DIMENSÃO INTERNA , CONTRATILIDADE MIOCARDICA E FUNÇÃO SISTOLICA GLOBAL NORMAIS , DISFUNÇÃO DIASTOLICA TIPO ALTERAÇÃO DE RELAXAMENTO , AE E CAVIDADES DIREITAS NORMAIS , .'],\n",
       "  ['DIMENSÃO INTERNA',\n",
       "   '*** ECOCARDIO 11 / 06 / 2014 : VE COM DIMENSÃO INTERNA , CONTRATILIDADE MIOCARDICA E FUNÇÃO SISTOLICA GLOBAL NORMAIS , DISFUNÇÃO DIASTOLICA TIPO ALTERAÇÃO DE RELAXAMENTO , AE E CAVIDADES DIREITAS NORMAIS , .'],\n",
       "  ['CONTRATILIDADE MIOCARDICA',\n",
       "   '*** ECOCARDIO 11 / 06 / 2014 : VE COM DIMENSÃO INTERNA , CONTRATILIDADE MIOCARDICA E FUNÇÃO SISTOLICA GLOBAL NORMAIS , DISFUNÇÃO DIASTOLICA TIPO ALTERAÇÃO DE RELAXAMENTO , AE E CAVIDADES DIREITAS NORMAIS , .'],\n",
       "  ['MIOCARDICA',\n",
       "   '*** ECOCARDIO 11 / 06 / 2014 : VE COM DIMENSÃO INTERNA , CONTRATILIDADE MIOCARDICA E FUNÇÃO SISTOLICA GLOBAL NORMAIS , DISFUNÇÃO DIASTOLICA TIPO ALTERAÇÃO DE RELAXAMENTO , AE E CAVIDADES DIREITAS NORMAIS , .'],\n",
       "  ['DISFUNÇÃO DIASTOLICA TIPO ALTERAÇÃO DE RELAXAMENTO',\n",
       "   '*** ECOCARDIO 11 / 06 / 2014 : VE COM DIMENSÃO INTERNA , CONTRATILIDADE MIOCARDICA E FUNÇÃO SISTOLICA GLOBAL NORMAIS , DISFUNÇÃO DIASTOLICA TIPO ALTERAÇÃO DE RELAXAMENTO , AE E CAVIDADES DIREITAS NORMAIS , .'],\n",
       "  ['AE',\n",
       "   '*** ECOCARDIO 11 / 06 / 2014 : VE COM DIMENSÃO INTERNA , CONTRATILIDADE MIOCARDICA E FUNÇÃO SISTOLICA GLOBAL NORMAIS , DISFUNÇÃO DIASTOLICA TIPO ALTERAÇÃO DE RELAXAMENTO , AE E CAVIDADES DIREITAS NORMAIS , .']],\n",
       " [['FLUXOS VALVARES',\n",
       "   'FLUXOS VALVARES SEM ANORMALIDADES MORFOFUNCIONAIS SIGNIFICATIVAS .']],\n",
       " [['AE', 'AE 31 , VDC 21 , DDDV 44 , DSVE 30 , FE 60 .'],\n",
       "  ['VDC', 'AE 31 , VDC 21 , DDDV 44 , DSVE 30 , FE 60 .']],\n",
       " [['QUEIXAS', 'S # SEM QUEIXAS .']],\n",
       " [['DISPNEIA', 'NEGA DISPNEIA E DOR NO PEITO .']],\n",
       " [['PA', 'PA 120 / 80 , FC 80 ; .'], ['FC', 'PA 120 / 80 , FC 80 ; .']],\n",
       " [['RA', 'AP : MV + BILAT , SEM RA ; .']],\n",
       " [['ABD', 'ABD : SP ; .']],\n",
       " [['MMII', 'MMII : SP ; .']],\n",
       " [['DAC', 'A # DAC .']],\n",
       " [['EX', 'EX DE CONTROLE .']]]"
      ]
     },
     "execution_count": 272,
     "metadata": {},
     "output_type": "execute_result"
    }
   ],
   "source": [
    "listaPredictFrases"
   ]
  },
  {
   "cell_type": "code",
   "execution_count": 188,
   "metadata": {},
   "outputs": [
    {
     "name": "stdout",
     "output_type": "stream",
     "text": [
      "-----Avaliando modelo sem pipeline:-----\n"
     ]
    },
    {
     "ename": "NameError",
     "evalue": "name 'dic_predictions_sentence' is not defined",
     "output_type": "error",
     "traceback": [
      "\u001b[1;31m---------------------------------------------------------------------------\u001b[0m",
      "\u001b[1;31mNameError\u001b[0m                                 Traceback (most recent call last)",
      "\u001b[1;32m<ipython-input-188-537e1ab4459b>\u001b[0m in \u001b[0;36m<module>\u001b[1;34m\u001b[0m\n\u001b[0;32m      1\u001b[0m \u001b[0mprint\u001b[0m\u001b[1;33m(\u001b[0m\u001b[1;34m'-----Avaliando modelo sem pipeline:-----'\u001b[0m\u001b[1;33m)\u001b[0m\u001b[1;33m\u001b[0m\u001b[1;33m\u001b[0m\u001b[0m\n\u001b[0;32m      2\u001b[0m \u001b[1;33m\u001b[0m\u001b[0m\n\u001b[1;32m----> 3\u001b[1;33m \u001b[0mregion_true_list\u001b[0m\u001b[1;33m,\u001b[0m \u001b[0mregion_pred_list\u001b[0m \u001b[1;33m=\u001b[0m \u001b[0mf\u001b[0m\u001b[1;33m.\u001b[0m\u001b[0mAvalFinal\u001b[0m\u001b[1;33m(\u001b[0m\u001b[0mdicSentences_new_test\u001b[0m\u001b[1;33m,\u001b[0m \u001b[0mdic_predictions_sentence\u001b[0m\u001b[1;33m,\u001b[0m \u001b[0mBATCH\u001b[0m\u001b[1;33m)\u001b[0m\u001b[1;33m\u001b[0m\u001b[1;33m\u001b[0m\u001b[0m\n\u001b[0m",
      "\u001b[1;31mNameError\u001b[0m: name 'dic_predictions_sentence' is not defined"
     ]
    }
   ],
   "source": [
    "print('-----Avaliando modelo sem pipeline:-----')\n",
    "\n",
    "region_true_list, region_pred_list = f.AvalFinal(dicSentences_new_test, dic_predictions_sentence, BATCH)"
   ]
  },
  {
   "cell_type": "code",
   "execution_count": 124,
   "metadata": {},
   "outputs": [
    {
     "data": {
      "text/plain": [
       "[[['Comorbidades', 0, 142],\n",
       "  [':', 1, 154],\n",
       "  ['DM', 2, 156],\n",
       "  ['há', 3, 159],\n",
       "  ['10', 4, 162],\n",
       "  ['anos', 5, 165],\n",
       "  ['em', 6, 170],\n",
       "  ['uso', 7, 173],\n",
       "  ['de', 8, 177],\n",
       "  ['metformina', 9, 180],\n",
       "  ['850mg', 10, 191],\n",
       "  ['3', 11, 197],\n",
       "  ['cp', 12, 199],\n",
       "  ['/', 13, 201],\n",
       "  ['dia', 14, 202],\n",
       "  [',', 15, 205],\n",
       "  ['acarbose', 16, 207],\n",
       "  ['1', 17, 216],\n",
       "  ['cp', 18, 218],\n",
       "  ['/', 19, 220],\n",
       "  ['dia', 20, 221],\n",
       "  ['e', 21, 225],\n",
       "  ['glicazida', 22, 227],\n",
       "  ['60mg', 23, 237],\n",
       "  ['2', 24, 242],\n",
       "  ['cp', 25, 244],\n",
       "  ['/', 26, 246],\n",
       "  ['dia', 27, 247],\n",
       "  ['e', 28, 251],\n",
       "  ['insulina', 29, 253],\n",
       "  ['(', 30, 262],\n",
       "  ['24', 31, 263],\n",
       "  ['-', 32, 266],\n",
       "  ['0', 33, 268],\n",
       "  ['-', 34, 270],\n",
       "  ['24', 35, 272],\n",
       "  [')', 36, 274],\n",
       "  ['.', 37, 275]],\n",
       " [['Comorbidades', [0], 'Problema'],\n",
       "  ['DM', [2], 'Problema'],\n",
       "  ['metformina 850mg', [9, 10], 'Tratamento'],\n",
       "  ['acarbose', [16], 'Tratamento'],\n",
       "  ['glicazida 60mg', [22, 23], 'Tratamento'],\n",
       "  ['insulina', [29], 'Tratamento']]]"
      ]
     },
     "execution_count": 124,
     "metadata": {},
     "output_type": "execute_result"
    }
   ],
   "source": [
    "dicSentences_new_test[2]"
   ]
  },
  {
   "cell_type": "markdown",
   "metadata": {},
   "source": [
    "# ========================"
   ]
  },
  {
   "cell_type": "code",
   "execution_count": 115,
   "metadata": {},
   "outputs": [
    {
     "ename": "NameError",
     "evalue": "name 'testdata' is not defined",
     "output_type": "error",
     "traceback": [
      "\u001b[1;31m---------------------------------------------------------------------------\u001b[0m",
      "\u001b[1;31mNameError\u001b[0m                                 Traceback (most recent call last)",
      "\u001b[1;32m<ipython-input-115-a8e2b8bcfe3e>\u001b[0m in \u001b[0;36m<module>\u001b[1;34m\u001b[0m\n\u001b[1;32m----> 1\u001b[1;33m \u001b[0mexample_sent\u001b[0m \u001b[1;33m=\u001b[0m \u001b[0mtestdata\u001b[0m\u001b[1;33m[\u001b[0m\u001b[1;36m18\u001b[0m\u001b[1;33m]\u001b[0m\u001b[1;33m\u001b[0m\u001b[1;33m\u001b[0m\u001b[0m\n\u001b[0m\u001b[0;32m      2\u001b[0m \u001b[0mprint\u001b[0m\u001b[1;33m(\u001b[0m\u001b[1;34m\"\\nSentence:\"\u001b[0m\u001b[1;33m,\u001b[0m \u001b[1;34m' '\u001b[0m\u001b[1;33m.\u001b[0m\u001b[0mjoin\u001b[0m\u001b[1;33m(\u001b[0m\u001b[0msent2tokens\u001b[0m\u001b[1;33m(\u001b[0m\u001b[0mexample_sent\u001b[0m\u001b[1;33m)\u001b[0m\u001b[1;33m)\u001b[0m\u001b[1;33m)\u001b[0m\u001b[1;33m\u001b[0m\u001b[1;33m\u001b[0m\u001b[0m\n\u001b[0;32m      3\u001b[0m \u001b[0mprint\u001b[0m\u001b[1;33m(\u001b[0m\u001b[1;34m' '\u001b[0m\u001b[1;33m.\u001b[0m\u001b[0mjoin\u001b[0m\u001b[1;33m(\u001b[0m\u001b[0msent2tokens\u001b[0m\u001b[1;33m(\u001b[0m\u001b[0mexample_sent\u001b[0m\u001b[1;33m)\u001b[0m\u001b[1;33m)\u001b[0m\u001b[1;33m)\u001b[0m\u001b[1;33m\u001b[0m\u001b[1;33m\u001b[0m\u001b[0m\n\u001b[0;32m      4\u001b[0m \u001b[0mprint\u001b[0m\u001b[1;33m(\u001b[0m\u001b[1;34m\"Predicted:\"\u001b[0m\u001b[1;33m,\u001b[0m \u001b[1;34m' '\u001b[0m\u001b[1;33m.\u001b[0m\u001b[0mjoin\u001b[0m\u001b[1;33m(\u001b[0m\u001b[0mcrf\u001b[0m\u001b[1;33m.\u001b[0m\u001b[0mpredict\u001b[0m\u001b[1;33m(\u001b[0m\u001b[1;33m[\u001b[0m\u001b[0msent2features\u001b[0m\u001b[1;33m(\u001b[0m\u001b[0mexample_sent\u001b[0m\u001b[1;33m)\u001b[0m\u001b[1;33m]\u001b[0m\u001b[1;33m)\u001b[0m\u001b[1;33m[\u001b[0m\u001b[1;36m0\u001b[0m\u001b[1;33m]\u001b[0m\u001b[1;33m)\u001b[0m\u001b[1;33m)\u001b[0m\u001b[1;33m\u001b[0m\u001b[1;33m\u001b[0m\u001b[0m\n\u001b[0;32m      5\u001b[0m \u001b[0mprint\u001b[0m\u001b[1;33m(\u001b[0m\u001b[1;34m\"Correct:  \"\u001b[0m\u001b[1;33m,\u001b[0m \u001b[1;34m' '\u001b[0m\u001b[1;33m.\u001b[0m\u001b[0mjoin\u001b[0m\u001b[1;33m(\u001b[0m\u001b[0msent2labels\u001b[0m\u001b[1;33m(\u001b[0m\u001b[0mexample_sent\u001b[0m\u001b[1;33m)\u001b[0m\u001b[1;33m)\u001b[0m\u001b[1;33m)\u001b[0m\u001b[1;33m\u001b[0m\u001b[1;33m\u001b[0m\u001b[0m\n",
      "\u001b[1;31mNameError\u001b[0m: name 'testdata' is not defined"
     ]
    }
   ],
   "source": [
    "example_sent = testdata[18]\n",
    "print(\"\\nSentence:\", ' '.join(sent2tokens(example_sent)))\n",
    "print(' '.join(sent2tokens(example_sent)))\n",
    "print(\"Predicted:\", ' '.join(crf.predict([sent2features(example_sent)])[0]))\n",
    "print(\"Correct:  \", ' '.join(sent2labels(example_sent)))\n"
   ]
  },
  {
   "cell_type": "code",
   "execution_count": 27,
   "metadata": {},
   "outputs": [],
   "source": [
    "with open('predicts_crf_1nivel.csv','w') as arq:\n",
    "    for i in range(0,len(testdata)):\n",
    "        example_sent = testdata[i]\n",
    "        #arq.write(\"\\n\\nSentence:\"+ ' '.join(sent2tokens(example_sent)))\n",
    "        #arq.write(\"\\nPredicted:\"+ ' '.join(crf.predict([sent2features(example_sent)])[0]))\n",
    "        #arq.write(\"\\nCorrect:  \"+ ' '.join(sent2labels(example_sent)))\n",
    "        arq.write('\"')\n",
    "        arq.write('\",\"'.join(sent2tokens(example_sent)))\n",
    "        arq.write('\"\\n\"')\n",
    "        arq.write('\",\"'.join(crf.predict([sent2features(example_sent)])[0]))\n",
    "        arq.write('\"\\n\"')\n",
    "        arq.write('\",\"'.join(sent2labels(example_sent)))\n",
    "        arq.write('\"\\n\\n')\n",
    "        #print(\"\\nSentence:\", ' '.join(sent2tokens(example_sent)))\n",
    "        #print(\"Predicted:\", ' '.join(crf.predict([sent2features(example_sent)])[0]))\n",
    "        #print(\"Correct:  \", ' '.join(sent2labels(example_sent)))\n"
   ]
  },
  {
   "cell_type": "code",
   "execution_count": 37,
   "metadata": {},
   "outputs": [
    {
     "name": "stdout",
     "output_type": "stream",
     "text": [
      "\n",
      "Sentence: Lucas , 74 anos .\n",
      "Predicted: O O O O O\n",
      "Correct:   O O O O O\n",
      "\n",
      "Sentence: Em acompanhamento no ambualtorio há 5 anos por FA , uso de marevan 5mg 1 x ao dia .\n",
      "Predicted: O O O O O O O O Problema O O O Tratamento Tratamento O O O O O\n",
      "Correct:   O O O O O O O O Problema O O O Tratamento Tratamento O O O O O\n",
      "\n",
      "Sentence: Comorbidades : DM há 10 anos em uso de metformina 850mg 3 cp / dia , acarbose 1 cp / dia e glicazida 60mg 2 cp / dia e insulina ( 24 - 0 - 24 ) .\n",
      "Predicted: Problema O Problema O O O O O O Tratamento Tratamento O O O O O O O O O O O Tratamento Tratamento O O O O O Tratamento O O O O O O O O\n",
      "Correct:   Problema O Problema O O O O O O Tratamento Tratamento O O O O O Tratamento O O O O O Tratamento Tratamento O O O O O Tratamento O O O O O O O O\n",
      "\n",
      "Sentence: HAS há 15 anos em uso de losartana 50mg / dia e digoxina 1 / 2 cp / dia , carvedilol 25 12 / 12 , HCTZ .\n",
      "Predicted: Problema O O O O O O Tratamento Tratamento O O O Teste O O O O O O O Tratamento Tratamento O O O O O O\n",
      "Correct:   Problema O O O O O O Tratamento Tratamento O O O Tratamento O O O O O O O Tratamento Tratamento O O O O Tratamento O\n",
      "\n",
      "Sentence: DSLP em uso de sinvastatina , marevan 1 cp / dia seg - sab para no alvo sic .\n",
      "Predicted: Problema O O O Tratamento Tratamento Tratamento O O O O O O O O O O O O\n",
      "Correct:   Problema O O O Tratamento O Tratamento O O O O O O O O O O O O\n"
     ]
    }
   ],
   "source": [
    "for i in range(0,5):\n",
    "    example_sent = testdata[i]\n",
    "    print(\"\\nSentence:\", ' '.join(sent2tokens(example_sent)))\n",
    "    print(\"Predicted:\", ' '.join(crf.predict([sent2features(example_sent)])[0]))\n",
    "    print(\"Correct:  \", ' '.join(sent2labels(example_sent)))\n"
   ]
  },
  {
   "cell_type": "code",
   "execution_count": null,
   "metadata": {},
   "outputs": [],
   "source": []
  }
 ],
 "metadata": {
  "kernelspec": {
   "display_name": "Python 3",
   "language": "python",
   "name": "python3"
  },
  "language_info": {
   "codemirror_mode": {
    "name": "ipython",
    "version": 3
   },
   "file_extension": ".py",
   "mimetype": "text/x-python",
   "name": "python",
   "nbconvert_exporter": "python",
   "pygments_lexer": "ipython3",
   "version": "3.8.5"
  }
 },
 "nbformat": 4,
 "nbformat_minor": 4
}
