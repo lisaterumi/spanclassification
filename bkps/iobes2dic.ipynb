{
 "cells": [
  {
   "cell_type": "code",
   "execution_count": 50,
   "id": "2c9b7da7",
   "metadata": {},
   "outputs": [
    {
     "data": {
      "text/plain": [
       "{0: [' There is a single methionine codon - initiated open reading frame of 1 , 458 nt in frame with a homeobox and a CAX repeat , and the open reading frame is predicted to encode a protein of 51 , 659 daltons .',\n",
       "  [['methionine codon - initiated open reading frame',\n",
       "    'DNA',\n",
       "    ['4', '5', '6', '7', '8', '9', '10']],\n",
       "   ['homeobox', 'DNA', ['20']],\n",
       "   ['CAX repeat', 'DNA', ['23', '24']],\n",
       "   ['open reading frame', 'DNA', ['28', '29', '30']]]],\n",
       " 1: [' When the homeodomain from HB24 was compared to known mammalian and Drosophila homeodomains it was found to be only moderately conserved , but when it was compared to a highly diverged Drosophila homeodomain , H2 . 0 , it was found to be 80 % identical .',\n",
       "  [['homeodomain', 'DNA', ['2']],\n",
       "   ['HB24', 'DNA', ['4']],\n",
       "   ['homeodomain', 'DNA', ['31', '32']]]],\n",
       " 2: [' The HB24 mRNA was absent or present at low levels in normal B and T lymphocytes ; however , with the appropriate activation signal HB24 mRNA was induced within several hours even in the presence of cycloheximide .',\n",
       "  [['HB24 mRNA', 'RNA', ['1', '2']], ['HB24 mRNA', 'RNA', ['24', '25']]]]}"
      ]
     },
     "execution_count": 50,
     "metadata": {},
     "output_type": "execute_result"
    }
   ],
   "source": [
    "import csv\n",
    "dicEntidades = {}\n",
    "listaTags=['DNA', 'RNA','cell_type', 'cell_line','protein']\n",
    "with open('CRAM/genia.test.iob2', newline='') as csvfile:\n",
    "    spamreader = csv.reader(csvfile, delimiter='\\t', quotechar='\"')\n",
    "    i=0\n",
    "    listaEntidades=[]\n",
    "    j=0\n",
    "    for row in spamreader:\n",
    "        if row:\n",
    "            #print(', '.join(row))\n",
    "            #print(row)\n",
    "            token=row[0]\n",
    "            label=row[1:-1]\n",
    "            listaEntidades.append([token, label, str(j)])\n",
    "            j=j+1\n",
    "            if i>2:\n",
    "                break\n",
    "        else:\n",
    "            listaEntidades2=[]\n",
    "            nomeEntidade=''\n",
    "            indices=[]\n",
    "            isEnt = 0\n",
    "            fraseCompleta=''\n",
    "            for entidade in listaEntidades:\n",
    "                fraseCompleta = fraseCompleta+' '+entidade[0]\n",
    "            for tag in listaTags:\n",
    "                for entidade in listaEntidades:\n",
    "                #print(entidade[1])\n",
    "                    if 'B-'+tag in entidade[1]:\n",
    "                        #print('inicio DNA')\n",
    "                        nomeEntidade = entidade[0]\n",
    "                        isEnt = 1\n",
    "                        indices.append(entidade[2])\n",
    "                        #print(nomeEntidade)\n",
    "                    elif 'I-'+tag in entidade[1]:\n",
    "                        nomeEntidade = nomeEntidade +' '+ entidade[0]\n",
    "                        indices.append(entidade[2])\n",
    "                    else:\n",
    "                        #print('isDNA:', isDNA)\n",
    "                        if isEnt==1:\n",
    "                            isEnt = 0\n",
    "                            #print('DNA:', nomeEntidade)\n",
    "                            listaEntidades2.append([nomeEntidade,tag,indices])\n",
    "                            nomeEntidade=''\n",
    "                            indices=[]\n",
    "                    dicEntidades[i]=[fraseCompleta,listaEntidades2]\n",
    "            i=i+1\n",
    "            listaEntidades=[]\n",
    "            j=0\n",
    "        \n",
    "            \n",
    "dicEntidades"
   ]
  },
  {
   "cell_type": "code",
   "execution_count": null,
   "id": "54be75ef",
   "metadata": {},
   "outputs": [],
   "source": []
  }
 ],
 "metadata": {
  "kernelspec": {
   "display_name": "Python 3",
   "language": "python",
   "name": "python3"
  },
  "language_info": {
   "codemirror_mode": {
    "name": "ipython",
    "version": 3
   },
   "file_extension": ".py",
   "mimetype": "text/x-python",
   "name": "python",
   "nbconvert_exporter": "python",
   "pygments_lexer": "ipython3",
   "version": "3.8.5"
  }
 },
 "nbformat": 4,
 "nbformat_minor": 5
}
