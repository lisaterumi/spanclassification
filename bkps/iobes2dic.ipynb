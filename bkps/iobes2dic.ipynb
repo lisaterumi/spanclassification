{
 "cells": [
  {
   "cell_type": "code",
   "execution_count": 93,
   "id": "86209a60",
   "metadata": {},
   "outputs": [],
   "source": [
    "import os\n",
    "from pathlib import Path\n",
    "import re\n",
    "import pickle\n",
    "import random\n",
    "\n",
    "def replaceWhiteSpaces(str):\n",
    "    return re.sub('\\s{2,}',' ',str)\n",
    "\n",
    "def save_obj(name, obj):\n",
    "    existeDir = os.path.exists('obj')\n",
    "    if not existeDir:\n",
    "        os.makedirs('obj')\n",
    "    with open('obj/'+ name + '.pkl', 'wb') as f:\n",
    "        pickle.dump(obj, f)\n",
    "\n",
    "def load_obj(name):\n",
    "    existeDir = os.path.exists('obj')\n",
    "    if not existeDir:\n",
    "        os.makedirs('obj')\n",
    "    try:\n",
    "        with open('obj/' + name + '.pkl', 'rb') as f:\n",
    "            return pickle.load(f)\n",
    "    except:\n",
    "        return None\n"
   ]
  },
  {
   "cell_type": "code",
   "execution_count": 89,
   "id": "2f9c6e2d",
   "metadata": {},
   "outputs": [
    {
     "name": "stdout",
     "output_type": "stream",
     "text": [
      "        token Label1 Label2 Label3 Label4\n",
      "0       There      O      O      O      O\n",
      "1          is      O      O      O      O\n",
      "2           a      O      O      O      O\n",
      "3      single      O      O      O      O\n",
      "4  methionine  B-DNA      O      O      O\n"
     ]
    },
    {
     "data": {
      "text/plain": [
       "[' Employing the EBV - transformed human B cell line SKW6 . 4 , we demonstrate that platelet - activating factor significantly alters membrane phospholipid metabolism indicated by the incorporation of 32P into phosphatidylcholine , phosphatidylinositol , and phosphatidic acid but not significantly into phosphatidylethanolamine at concentrations ranging from 10 ( - 9 ) to 10 ( - 6 ) M .',\n",
       " [['human B cell line', [5, 6, 7, 8], 'cell_line'],\n",
       "  ['SKW6 . 4', [9, 10, 11], 'cell_line'],\n",
       "  ['EBV - transformed human B cell line', [2, 3, 4, 5, 6, 7, 8], 'cell_line'],\n",
       "  ['platelet - activating factor', [16, 17, 18, 19], 'protein']]]"
      ]
     },
     "execution_count": 89,
     "metadata": {},
     "output_type": "execute_result"
    }
   ],
   "source": [
    "import pandas as pd\n",
    "arquivos = pd.read_csv('CRAM/genia.test.iob2', delimiter='\\t', skip_blank_lines = False, header = None)\n",
    "arquivos.columns=[\"token\", \"Label1\", \"Label2\", \"Label3\", \"Label4\"]\n",
    "print(arquivos.head())\n",
    "\n",
    "def is_nan(x):\n",
    "    return (x != x)\n",
    "\n",
    "dicEntidades = {}\n",
    "listaTags=['DNA', 'RNA','cell_type', 'cell_line','protein']\n",
    "\n",
    "tokens = arquivos['token']\n",
    "label1 = arquivos['Label1']\n",
    "label2 = arquivos['Label2']\n",
    "label3 = arquivos['Label3']\n",
    "label4 = arquivos['Label4']\n",
    "\n",
    "fraseCompleta=''\n",
    "i=0\n",
    "for token in tokens:\n",
    "    #print(token)\n",
    "    #print(is_nan(token))\n",
    "    if token and not is_nan(token):\n",
    "        fraseCompleta = fraseCompleta + ' ' + token\n",
    "    else:\n",
    "        dicEntidades[i] = [fraseCompleta, []]\n",
    "        fraseCompleta = \"\"\n",
    "        i=i+1    \n",
    "    #if i>10:\n",
    "    #    break\n",
    "\n",
    "#dicEntidades\n",
    "\n",
    "listaEntidades=[]\n",
    "for tag in listaTags:\n",
    "    i=0\n",
    "    j=0\n",
    "    #print(tag)\n",
    "    for token, l1 in zip(tokens, label1):\n",
    "        #print(token)\n",
    "        #print(l1)\n",
    "        if token and not is_nan(token):\n",
    "            #print('l1:', l1)\n",
    "            #print('tag:', tag)\n",
    "            #print('B-'+tag in l1)\n",
    "            if 'B-'+tag in l1:\n",
    "                if isEnt==1: # acabou uma e começou outra do mesmo tipo\n",
    "                    isEnt = 0\n",
    "                    listaEntidades.append([nomeEntidade,indices,tag])\n",
    "                    #print('fim, nomeEntidade:', nomeEntidade)\n",
    "                    nomeEntidade=''\n",
    "                    indices=[]\n",
    "                nomeEntidade = token\n",
    "                #print('inicio, nomeEntidade:', nomeEntidade)\n",
    "                isEnt = 1\n",
    "                indices.append(j)\n",
    "                #print(nomeEntidade)\n",
    "            elif 'I-'+tag in l1:\n",
    "                nomeEntidade = nomeEntidade +' '+ token\n",
    "                #print('continua, nomeEntidade:', nomeEntidade)\n",
    "                indices.append(j)\n",
    "            else:\n",
    "                #print('isDNA:', isDNA)\n",
    "                if isEnt==1:\n",
    "                    isEnt = 0\n",
    "                    #print('DNA:', nomeEntidade)\n",
    "                    listaEntidades.append([nomeEntidade,indices,tag])\n",
    "                    #print('fim, nomeEntidade:', nomeEntidade)\n",
    "                    nomeEntidade=''\n",
    "                    indices=[]   \n",
    "            j=j+1\n",
    "        else:\n",
    "            frase=dicEntidades[i][0]\n",
    "            entidadesTava=dicEntidades[i][1]\n",
    "            #print(listaEntidades)\n",
    "            #print(frase)\n",
    "            if len(listaEntidades)>0:\n",
    "                for elemento in listaEntidades:\n",
    "                    entidadesTava.append(elemento)\n",
    "            dicEntidades[i] = [frase, entidadesTava]\n",
    "            listaEntidades=[]\n",
    "            j=0\n",
    "            i=i+1    \n",
    "        #if i>10:\n",
    "        #    break\n",
    "       \n",
    "    i=0\n",
    "    j=0    \n",
    "    for token, l1 in zip(tokens, label2):\n",
    "        #print(token)\n",
    "        #print(l1)\n",
    "        if token and not is_nan(token):\n",
    "            #print('l1:', l1)\n",
    "            #print('tag:', tag)\n",
    "            #print('B-'+tag in l1)\n",
    "            if 'B-'+tag in l1:\n",
    "                if isEnt==1: # acabou uma e começou outra do mesmo tipo\n",
    "                    isEnt = 0\n",
    "                    listaEntidades.append([nomeEntidade,indices,tag])\n",
    "                    #print('fim, nomeEntidade:', nomeEntidade)\n",
    "                    nomeEntidade=''\n",
    "                    indices=[]\n",
    "                nomeEntidade = token\n",
    "                #print('inicio, nomeEntidade:', nomeEntidade)\n",
    "                isEnt = 1\n",
    "                indices.append(j)\n",
    "                #print(nomeEntidade)\n",
    "            elif 'I-'+tag in l1:\n",
    "                nomeEntidade = nomeEntidade +' '+ token\n",
    "                #print('continua, nomeEntidade:', nomeEntidade)\n",
    "                indices.append(j)\n",
    "            else:\n",
    "                #print('isDNA:', isDNA)\n",
    "                if isEnt==1:\n",
    "                    isEnt = 0\n",
    "                    #print('DNA:', nomeEntidade)\n",
    "                    listaEntidades.append([nomeEntidade,indices,tag])\n",
    "                    #print('fim, nomeEntidade:', nomeEntidade)\n",
    "                    nomeEntidade=''\n",
    "                    indices=[]   \n",
    "            j=j+1\n",
    "        else:\n",
    "            frase=dicEntidades[i][0]\n",
    "            entidadesTava=dicEntidades[i][1]\n",
    "            if len(listaEntidades)>0:\n",
    "                for elemento in listaEntidades:\n",
    "                    entidadesTava.append(elemento)\n",
    "            dicEntidades[i] = [frase, entidadesTava]\n",
    "            listaEntidades=[]\n",
    "            j=0\n",
    "            i=i+1    \n",
    "        #if i>10:\n",
    "        #    break        \n",
    "            \n",
    "    \n",
    "#for token, l1, l2, l3, l4 in zip(tokens, label1, label2, label3, label4):\n",
    "#    print(token, l1, l2, l3, l4)\n",
    "#    break\n",
    "dicEntidades[10]"
   ]
  },
  {
   "cell_type": "code",
   "execution_count": 74,
   "id": "de63c747",
   "metadata": {},
   "outputs": [
    {
     "data": {
      "text/plain": [
       "1854"
      ]
     },
     "execution_count": 74,
     "metadata": {},
     "output_type": "execute_result"
    }
   ],
   "source": [
    "len(dicEntidades)"
   ]
  },
  {
   "cell_type": "code",
   "execution_count": 90,
   "id": "40712603",
   "metadata": {},
   "outputs": [],
   "source": [
    "save_obj('dicEntidadesTesteGenia', dicEntidades)"
   ]
  },
  {
   "cell_type": "code",
   "execution_count": 92,
   "id": "0fb5c232",
   "metadata": {},
   "outputs": [
    {
     "data": {
      "text/plain": [
       "[' When the homeodomain from HB24 was compared to known mammalian and Drosophila homeodomains it was found to be only moderately conserved , but when it was compared to a highly diverged Drosophila homeodomain , H2 . 0 , it was found to be 80 % identical .',\n",
       " [['homeodomain', [2], 'DNA'],\n",
       "  ['HB24', [4], 'DNA'],\n",
       "  ['homeodomain', [32], 'DNA'],\n",
       "  ['Drosophila homeodomain', [31, 32], 'DNA']]]"
      ]
     },
     "execution_count": 92,
     "metadata": {},
     "output_type": "execute_result"
    }
   ],
   "source": [
    "dicEntidades[1]"
   ]
  },
  {
   "cell_type": "code",
   "execution_count": null,
   "id": "93fa4b40",
   "metadata": {},
   "outputs": [],
   "source": []
  }
 ],
 "metadata": {
  "kernelspec": {
   "display_name": "Python 3",
   "language": "python",
   "name": "python3"
  },
  "language_info": {
   "codemirror_mode": {
    "name": "ipython",
    "version": 3
   },
   "file_extension": ".py",
   "mimetype": "text/x-python",
   "name": "python",
   "nbconvert_exporter": "python",
   "pygments_lexer": "ipython3",
   "version": "3.8.5"
  }
 },
 "nbformat": 4,
 "nbformat_minor": 5
}
