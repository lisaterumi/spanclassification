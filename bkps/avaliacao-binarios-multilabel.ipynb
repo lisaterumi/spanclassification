{
 "cells": [
  {
   "cell_type": "code",
   "execution_count": 260,
   "metadata": {},
   "outputs": [],
   "source": [
    "from sklearn.metrics import classification_report, accuracy_score, confusion_matrix\n",
    "import os\n",
    "from pathlib import Path\n",
    "import re\n",
    "import pickle\n",
    "# ver qtos o modelo apenas de ner acertaria\n",
    "from transformers import AutoTokenizer, AutoModelForTokenClassification\n",
    "import nltk    \n",
    "from nltk import tokenize \n",
    "import torch\n",
    "from transformers import BertTokenizer,BertForTokenClassification\n",
    "import numpy as np\n",
    "import json   \n",
    "from importlib import reload  # Python 3.4+\n",
    "import random\n",
    "from model import BertForChunkClassification\n",
    "from transformers import AdamW, BertConfig, get_linear_schedule_with_warmup\n",
    "\n",
    "from torch.utils.data import DataLoader\n",
    "from importlib import reload \n",
    "#from eval import predict\n",
    "import eval\n",
    "#import importlib\n",
    "#importlib.reload(module)\n",
    "from dataset import InputFeatures, load_and_cache_examples\n",
    "import dataset\n",
    "import functionsAval as f"
   ]
  },
  {
   "cell_type": "code",
   "execution_count": 261,
   "metadata": {},
   "outputs": [],
   "source": [
    "f = reload(f)\n",
    "reload(dataset)\n",
    "reload(eval)\n",
    "\n",
    "path_model=r'.\\model-multilabel-io\\model'"
   ]
  },
  {
   "cell_type": "code",
   "execution_count": 262,
   "metadata": {},
   "outputs": [
    {
     "name": "stdout",
     "output_type": "stream",
     "text": [
      "idx2tag: {0: 'RNA', 1: 'protein-protein', 2: 'RNA-cell_type', 3: 'protein-cell_line', 4: 'DNA-RNA', 5: 'cell_line-cell_line', 6: 'RNA-RNA', 7: 'cell_type-cell_type', 8: 'protein', 9: 'protein-DNA', 10: 'DNA-cell_line', 11: 'cell_line-RNA', 12: 'protein-cell_type', 13: 'O', 14: 'cell_line-DNA', 15: 'cell_type', 16: 'DNA', 17: 'cell_type-DNA', 18: 'cell_line', 19: 'DNA-DNA', 20: 'protein-RNA', 21: 'cell_type-cell_line', 22: '<pad>'}\n",
      "-----------\n",
      "[['O', 'DNA-RNA', 'RNA', 'O', 'O', 'O', 'O', 'O', 'O', 'O', 'O', 'O', 'O', 'O', 'O', 'O', 'O', 'O', 'O', 'O', 'O', 'O', 'O', 'O', 'DNA-RNA', 'RNA', 'O', 'O', 'O', 'O', 'O', 'O', 'O', 'O', 'O', 'O', 'O', 'O']]\n",
      "[['the', 'hb24', 'mrna', 'was', 'absent', 'or', 'present', 'at', 'low', 'levels', 'in', 'normal', 'b', 'and', 't', 'lymphocytes', ';', 'however', ',', 'with', 'the', 'appropriate', 'activation', 'signal', 'hb24', 'mrna', 'was', 'induced', 'within', 'several', 'hours', 'even', 'in', 'the', 'presence', 'of', 'cycloheximide', '.']]\n"
     ]
    }
   ],
   "source": [
    "tags, tokens = f.predictBERTNER_multi_IO(['The HB24 mRNA was absent or present at low levels in normal B and T lymphocytes ; however , with the appropriate activation signal HB24 mRNA was induced within several hours even in the presence of cycloheximide .'], path_model)\n",
    "print('-----------')\n",
    "print(tags)\n",
    "print(tokens)"
   ]
  },
  {
   "cell_type": "code",
   "execution_count": 432,
   "metadata": {},
   "outputs": [],
   "source": [
    "def save_obj(name, obj):\n",
    "    existeDir = os.path.exists('../obj')\n",
    "    if not existeDir:\n",
    "        os.makedirs('../obj')\n",
    "    with open('../obj/'+ name + '.pkl', 'wb') as f:\n",
    "        pickle.dump(obj, f)\n",
    "\n",
    "def load_obj(name):\n",
    "    existeDir = os.path.exists('../obj')\n",
    "    if not existeDir:\n",
    "        os.makedirs('../obj')\n",
    "    try:\n",
    "        with open('../obj/' + name + '.pkl', 'rb') as f:\n",
    "            return pickle.load(f)\n",
    "    except:\n",
    "        print('ERROO')\n",
    "        raise\n",
    "        return None\n",
    "#save_obj('dicEntidadesTesteGenia', dicEntidades)\n",
    "\n",
    "def loadSentencesTest():\n",
    "    # gabarito = dicSentences_new.pkl\n",
    "    #dicSentences_train = load_obj('dic_sentencesTrain.pkl')\n",
    "    #dicSentences_train[32]\n",
    "    # gabarito = dicSentences_new.pkl\n",
    "    print('Pegando sentencas de teste gabarito: dic_sentencesTest.pkl')\n",
    "    dicSentences_new_test = load_obj('dicEntidadesTesteGenia')\n",
    "    return dicSentences_new_test\n",
    "\n",
    "#dicSentences_new_test = loadSentencesTest()\n",
    "#dicSentences_new_test\n"
   ]
  },
  {
   "cell_type": "code",
   "execution_count": 436,
   "metadata": {},
   "outputs": [
    {
     "data": {
      "text/plain": [
       "[' There is a single methionine codon - initiated open reading frame of 1 , 458 nt in frame with a homeobox and a CAX repeat , and the open reading frame is predicted to encode a protein of 51 , 659 daltons .',\n",
       " [['methionine codon - initiated open reading frame',\n",
       "   [4, 5, 6, 7, 8, 9, 10],\n",
       "   'DNA'],\n",
       "  ['homeobox', [20], 'DNA'],\n",
       "  ['CAX repeat', [23, 24], 'DNA'],\n",
       "  ['open reading frame', [28, 29, 30], 'DNA']]]"
      ]
     },
     "execution_count": 436,
     "metadata": {},
     "output_type": "execute_result"
    }
   ],
   "source": [
    "dicSentences_new_test[0]"
   ]
  },
  {
   "cell_type": "code",
   "execution_count": 435,
   "metadata": {},
   "outputs": [
    {
     "name": "stdout",
     "output_type": "stream",
     "text": [
      "Pegando sentencas de teste gabarito: dic_sentencesTest.pkl\n",
      "1854\n",
      "[' There is a single methionine codon - initiated open reading frame of 1 , 458 nt in frame with a homeobox and a CAX repeat , and the open reading frame is predicted to encode a protein of 51 , 659 daltons .', [['methionine codon - initiated open reading frame', [4, 5, 6, 7, 8, 9, 10], 'DNA'], ['homeobox', [20], 'DNA'], ['CAX repeat', [23, 24], 'DNA'], ['open reading frame', [28, 29, 30], 'DNA']]]\n",
      "numero de sentencas no total: 1854\n"
     ]
    }
   ],
   "source": [
    "#BATCH=100\n",
    "BATCH=2000\n",
    "dicSentences_new_test = loadSentencesTest()\n",
    "print(len(dicSentences_new_test))\n",
    "dicSentences_new_test = {k: v for k, v in dicSentences_new_test.items() if k<BATCH}\n",
    "print(dicSentences_new_test[0])\n",
    "#print(dicSentences_new_test[27])\n",
    "print('numero de sentencas no total:', len(dicSentences_new_test))\n",
    "\n",
    "sentences=list()\n",
    "for key, value in dicSentences_new_test.items():\n",
    "    if key<BATCH:\n",
    "        tokens = value[0]\n",
    "        #tokens = [tok[0] for tok in tokens]\n",
    "        #sentences.append(' '.join(tokens).strip())\n",
    "        sentences.append(tokens)"
   ]
  },
  {
   "cell_type": "code",
   "execution_count": 410,
   "metadata": {},
   "outputs": [
    {
     "data": {
      "text/plain": [
       "[' There is a single methionine codon - initiated open reading frame of 1 , 458 nt in frame with a homeobox and a CAX repeat , and the open reading frame is predicted to encode a protein of 51 , 659 daltons .',\n",
       " ' When the homeodomain from HB24 was compared to known mammalian and Drosophila homeodomains it was found to be only moderately conserved , but when it was compared to a highly diverged Drosophila homeodomain , H2 . 0 , it was found to be 80 % identical .']"
      ]
     },
     "execution_count": 410,
     "metadata": {},
     "output_type": "execute_result"
    }
   ],
   "source": [
    "sentences[:2]"
   ]
  },
  {
   "cell_type": "code",
   "execution_count": 437,
   "metadata": {},
   "outputs": [
    {
     "data": {
      "text/plain": [
       "[' Characterization of HB24 expression in lymphoid and select developing tissues was performed by in situ hybridization .',\n",
       " [['HB24', [2], 'DNA']]]"
      ]
     },
     "execution_count": 437,
     "metadata": {},
     "output_type": "execute_result"
    }
   ],
   "source": [
    "dicSentences_new_test[3]"
   ]
  },
  {
   "cell_type": "code",
   "execution_count": 423,
   "metadata": {},
   "outputs": [],
   "source": [
    "def getDicPredictions(tags, tokens):\n",
    "    listaTags=['DNA', 'RNA','cell_type', 'cell_line','protein']\n",
    "\n",
    "    dic_predictions = {}\n",
    "    i=0\n",
    "    for tags_sentence, tokens_sentence in zip(tags, tokens):\n",
    "        listaEntidades=[]\n",
    "        isEnt=0\n",
    "        labelAnterior=''\n",
    "        entidade=''\n",
    "        label=''\n",
    "        #listaTags\n",
    "        for classe in listaTags:\n",
    "            num_token=0\n",
    "            indices_entidade = list()\n",
    "            for tag, token in zip(tags_sentence, tokens_sentence):\n",
    "                #print(token, tag)\n",
    "                labels = tag.split('-')\n",
    "                if tag!='O' and classe in labels:\n",
    "                    isEnt=1\n",
    "                    indices_entidade.append(num_token)\n",
    "                    #print('---label-->:', label)\n",
    "                    #print('---labelAnterior-->:', labelAnterior)\n",
    "                    #if label == labelAnterior:\n",
    "                    if labelAnterior in classe:\n",
    "                        # continuacao\n",
    "                        entidade = entidade+' '+token\n",
    "                    elif labelAnterior=='': # primeiro token da entidade\n",
    "                        entidade=token\n",
    "                        labelAnterior=classe\n",
    "                    else: # mudou de entidade\n",
    "                        listaEntidades.append([entidade, indices_entidade, labelAnterior])\n",
    "                        indices_entidade=list()\n",
    "                        entidade=token\n",
    "                    labelAnterior = classe\n",
    "                else:\n",
    "                    if isEnt==1:\n",
    "                        if entidade:\n",
    "                            #print('---label-->:', label)\n",
    "                            listaEntidades.append([entidade, indices_entidade, classe])\n",
    "                            indices_entidade=list()\n",
    "                    entidade=''\n",
    "                    labelAnterior=''\n",
    "                    isEnt=0\n",
    "                    label=''\n",
    "                num_token=num_token+1\n",
    "\n",
    "        if len(listaEntidades)>0:\n",
    "            dic_predictions[i]=['FRASE', listaEntidades]\n",
    "        else:\n",
    "            dic_predictions[i]=['FRASE', []]\n",
    "        i=i+1\n",
    "\n",
    "    return dic_predictions\n",
    "dic_predictions = getDicPredictions(tags, tokens)\n",
    "#dic_predictions"
   ]
  },
  {
   "cell_type": "code",
   "execution_count": 413,
   "metadata": {},
   "outputs": [
    {
     "name": "stdout",
     "output_type": "stream",
     "text": [
      "idx2tag: {0: 'RNA', 1: 'protein-protein', 2: 'RNA-cell_type', 3: 'protein-cell_line', 4: 'DNA-RNA', 5: 'cell_line-cell_line', 6: 'RNA-RNA', 7: 'cell_type-cell_type', 8: 'protein', 9: 'protein-DNA', 10: 'DNA-cell_line', 11: 'cell_line-RNA', 12: 'protein-cell_type', 13: 'O', 14: 'cell_line-DNA', 15: 'cell_type', 16: 'DNA', 17: 'cell_type-DNA', 18: 'cell_line', 19: 'DNA-DNA', 20: 'protein-RNA', 21: 'cell_type-cell_line', 22: '<pad>'}\n",
      "['FRASE', [[' methionine codon - initiated open reading frame', [4, 5, 6, 7, 8, 9, 10], 'DNA'], [' homeobox', [20], 'DNA'], [' cax repeat', [23, 24], 'DNA'], [' open reading frame', [28, 29, 30], 'DNA']]]\n",
      "len(dic_predictions): 1854\n"
     ]
    }
   ],
   "source": [
    "tags, tokens = f.predictBERTNER_multi_IO(sentences, path_model)\n",
    "dic_predictions = getDicPredictions(tags, tokens)\n",
    "print(dic_predictions[0])\n",
    "print('len(dic_predictions):', len(dic_predictions))"
   ]
  },
  {
   "cell_type": "code",
   "execution_count": 414,
   "metadata": {},
   "outputs": [
    {
     "data": {
      "text/plain": [
       "['FRASE',\n",
       " [[' methionine codon - initiated open reading frame',\n",
       "   [4, 5, 6, 7, 8, 9, 10],\n",
       "   'DNA'],\n",
       "  [' homeobox', [20], 'DNA'],\n",
       "  [' cax repeat', [23, 24], 'DNA'],\n",
       "  [' open reading frame', [28, 29, 30], 'DNA']]]"
      ]
     },
     "execution_count": 414,
     "metadata": {},
     "output_type": "execute_result"
    }
   ],
   "source": [
    "dic_predictions[0]"
   ]
  },
  {
   "cell_type": "code",
   "execution_count": 415,
   "metadata": {},
   "outputs": [
    {
     "data": {
      "text/plain": [
       "[' There is a single methionine codon - initiated open reading frame of 1 , 458 nt in frame with a homeobox and a CAX repeat , and the open reading frame is predicted to encode a protein of 51 , 659 daltons .',\n",
       " [['methionine codon - initiated open reading frame',\n",
       "   [4, 5, 6, 7, 8, 9, 10],\n",
       "   'DNA'],\n",
       "  ['homeobox', [20], 'DNA'],\n",
       "  ['CAX repeat', [23, 24], 'DNA'],\n",
       "  ['open reading frame', [28, 29, 30], 'DNA']]]"
      ]
     },
     "execution_count": 415,
     "metadata": {},
     "output_type": "execute_result"
    }
   ],
   "source": [
    "dicSentences_new_test[0]"
   ]
  },
  {
   "cell_type": "code",
   "execution_count": 445,
   "metadata": {},
   "outputs": [
    {
     "name": "stdout",
     "output_type": "stream",
     "text": [
      "--sentenca:--\n",
      "[[' methionine codon - initiated open reading frame', [4, 5, 6, 7, 8, 9, 10], 'DNA'], [' homeobox', [20], 'DNA'], [' cax repeat', [23, 24], 'DNA'], [' open reading frame', [28, 29, 30], 'DNA']]\n",
      "[['methionine codon - initiated open reading frame', [4, 5, 6, 7, 8, 9, 10], 'DNA'], ['homeobox', [20], 'DNA'], ['CAX repeat', [23, 24], 'DNA'], ['open reading frame', [28, 29, 30], 'DNA']]\n",
      "--sentenca:--\n",
      "[[' homeodomain', [2], 'DNA'], [' hb24', [4], 'DNA'], [' drosophila homeodomain', [31, 32], 'DNA'], [' h2 . 0', [34, 35, 36], 'DNA']]\n",
      "[['homeodomain', [2], 'DNA'], ['HB24', [4], 'DNA'], ['homeodomain', [32], 'DNA'], ['Drosophila homeodomain', [31, 32], 'DNA']]\n",
      "--sentenca:--\n",
      "[[' hb24', [1], 'DNA'], [' hb24', [24], 'DNA'], [' hb24 mrna', [1, 2], 'RNA'], [' hb24 mrna', [24, 25], 'RNA']]\n",
      "[['HB24 mRNA', [1, 2], 'RNA'], ['HB24 mRNA', [24, 25], 'RNA'], ['T lymphocytes', [14, 15], 'cell_type']]\n",
      "--sentenca:--\n",
      "[[' hb24', [2], 'protein']]\n",
      "[['HB24', [2], 'DNA']]\n",
      "--sentenca:--\n",
      "[]\n",
      "[]\n",
      "--sentenca:--\n",
      "[[' lymphocytes', [9], 'cell_type'], [' hb24', [0], 'protein']]\n",
      "[['HB24', [0], 'DNA'], ['lymphocytes', [9], 'cell_type']]\n",
      "--sentenca:--\n",
      "[[' oncogene', [19], 'DNA'], [' human b cell line', [23, 24, 25, 26], 'cell_line'], [' platelet - activating factor', [0, 1, 2, 3], 'protein']]\n",
      "[['oncogene', [19], 'DNA'], ['human B cell line', [23, 24, 25, 26], 'cell_line'], ['Platelet - activating factor', [0, 1, 2, 3], 'protein']]\n",
      "--sentenca:--\n",
      "[[' platelet - activating factor', [0, 1, 2, 3], 'protein']]\n",
      "[['Platelet - activating factor', [0, 1, 2, 3], 'protein']]\n",
      "--sentenca:--\n",
      "[[' neutrophils', [13], 'cell_type'], [' monocytes', [15], 'cell_type'], [' platelets', [18], 'cell_type'], [' platelet - activating factor', [5, 6, 7, 8], 'protein']]\n",
      "[['neutrophils', [13], 'cell_type'], ['monocytes', [15], 'cell_type'], ['platelets', [18], 'cell_type'], ['platelet - activating factor', [5, 6, 7, 8], 'protein']]\n",
      "--sentenca:--\n",
      "[[' b lymphocytes', [15, 16], 'cell_type'], [' platelet - activating factor', [10, 11, 12, 13], 'protein']]\n",
      "[['B lymphocytes', [15, 16], 'cell_type'], ['platelet - activating factor', [10, 11, 12, 13], 'protein']]\n",
      "--sentenca:--\n",
      "[[' ebv - transformed human b cell line skw6 . 4', [2, 3, 4, 5, 6, 7, 8, 9, 10, 11], 'cell_line'], [' platelet - activating factor', [16, 17, 18, 19], 'protein']]\n",
      "[['human B cell line', [5, 6, 7, 8], 'cell_line'], ['SKW6 . 4', [9, 10, 11], 'cell_line'], ['EBV - transformed human B cell line', [2, 3, 4, 5, 6, 7, 8], 'cell_line'], ['platelet - activating factor', [16, 17, 18, 19], 'protein']]\n",
      "--sentenca:--\n",
      "[[' lyso - platelet - activating factor', [4, 5, 6, 7, 8, 9], 'protein']]\n",
      "[['lyso - platelet - activating factor', [4, 5, 6, 7, 8, 9], 'protein']]\n",
      "--sentenca:--\n",
      "[[' platelet - activating factor', [4, 5, 6, 7], 'protein'], [' lyso - platelet - activating factor', [32, 33, 34, 35, 36, 37], 'protein']]\n",
      "[['platelet - activating factor', [4, 5, 6, 7], 'protein'], ['platelet - activating factor', [34, 35, 36, 37], 'protein']]\n",
      "--sentenca:--\n",
      "[[' b cells', [12, 13], 'cell_type'], [' platelet - activating factor', [6, 7, 8, 9], 'protein'], [' platelet - activating factor', [16, 17, 18, 19], 'protein']]\n",
      "[['B cells', [12, 13], 'cell_type'], ['platelet - activating factor', [6, 7, 8, 9], 'protein'], ['platelet - activating factor', [16, 17, 18, 19], 'protein']]\n",
      "--sentenca:--\n",
      "[[' nuclear proto - oncogenes c - fos', [13, 14, 15, 16, 17, 18, 19], 'DNA'], [' c - jun', [21, 22, 23], 'DNA'], [' platelet - activating factor', [2, 3, 4, 5], 'protein']]\n",
      "[['nuclear proto - oncogenes', [13, 14, 15, 16], 'DNA'], ['c - fos', [17, 18, 19], 'DNA'], ['c - jun', [21, 22, 23], 'DNA'], ['platelet - activating factor', [2, 3, 4, 5], 'protein']]\n",
      "--sentenca:--\n",
      "[[' 5 - lipoxygenase', [21, 22, 23], 'protein'], [' platelet - activating factor', [26, 27, 28, 29], 'protein'], [' phospholipase a2', [40, 41], 'protein']]\n",
      "[['5 - lipoxygenase', [21, 22, 23], 'protein'], ['platelet - activating factor', [26, 27, 28, 29], 'protein'], ['phospholipase A2', [40, 41], 'protein']]\n",
      "--sentenca:--\n",
      "[[' pure b cell line', [19, 20, 21, 22], 'cell_line'], [' platelet - activating factor', [3, 4, 5, 6], 'protein']]\n",
      "[['pure B cell line', [19, 20, 21, 22], 'cell_line'], ['platelet - activating factor', [3, 4, 5, 6], 'protein']]\n",
      "--sentenca:--\n",
      "[[' immunoglobulin gene', [5, 6], 'DNA'], [' b - cell - specific enhancer element', [11, 12, 13, 14, 15, 16, 17], 'DNA']]\n",
      "[['immunoglobulin gene', [5, 6], 'DNA'], ['B - cell - specific enhancer element', [11, 12, 13, 14, 15, 16, 17], 'DNA']]\n",
      "--sentenca:--\n",
      "[[' b - cell - specific enhancer element', [2, 3, 4, 5, 6, 7, 8], 'DNA'], [' e4', [15], 'DNA'], [' octamerlike motifs', [18, 19], 'DNA'], [' human immunoglobulin heavy - chain gene enhancer', [22, 23, 24, 25, 26, 27, 28], 'DNA']]\n",
      "[['B - cell - specific enhancer element', [2, 3, 4, 5, 6, 7, 8], 'DNA'], ['human immunoglobulin heavy - chain gene enhancer', [22, 23, 24, 25, 26, 27, 28], 'DNA'], ['human immunoglobulin heavy - chain', [22, 23, 24, 25, 26], 'protein']]\n",
      "--sentenca:--\n",
      "[[' 67 - bp mnli - alui fragment', [4, 5, 6, 7, 8, 9, 10], 'DNA'], [' chloramphenicol acetyltransferase gene', [16, 17, 18], 'DNA'], [' conalbumin promoter', [22, 23], 'DNA'], [' b cells', [28, 29], 'cell_type'], [' jurkat t cells', [33, 34, 35], 'cell_line'], [' hela cells', [37, 38], 'cell_line']]\n",
      "[['67 - bp MnlI - AluI fragment', [4, 5, 6, 7, 8, 9, 10], 'DNA'], ['chloramphenicol acetyltransferase gene', [16, 17, 18], 'DNA'], ['conalbumin promoter', [22, 23], 'DNA'], ['B cells', [28, 29], 'cell_type'], ['Jurkat T cells', [33, 34, 35], 'cell_line'], ['HeLa cells', [37, 38], 'cell_line']]\n",
      "--sentenca:--\n",
      "[[' e6', [10], 'DNA'], [' b cells', [18, 19], 'cell_type'], [' t cells', [21, 22], 'cell_type'], [' hela cells', [25, 26], 'cell_line']]\n",
      "[['E6', [10], 'DNA'], ['B cells', [18, 19], 'cell_type'], ['T cells', [21, 22], 'cell_type']]\n",
      "--sentenca:--\n",
      "[[' e6 motif', [7, 8], 'DNA'], [' t cells', [26, 27], 'cell_type'], [' hela cells', [29, 30], 'cell_line'], [' b - cell - specific complex', [11, 12, 13, 14, 15, 16], 'protein']]\n",
      "[['synthetic E6 motif', [6, 7, 8], 'DNA'], ['T cells', [26, 27], 'cell_type'], ['HeLa cells', [29, 30], 'cell_line'], ['B - cell - specific complex', [11, 12, 13, 14, 15, 16], 'protein']]\n",
      "--sentenca:--\n",
      "[[' e6 motif', [14, 15], 'DNA'], [' jurkat', [26], 'cell_line'], [' hela cells', [28, 29], 'cell_line']]\n",
      "[['E6 motif', [14, 15], 'DNA'], ['ARH77', [19], 'cell_line'], ['Raji cells', [21, 22], 'cell_line'], ['Jurkat', [26], 'cell_line'], ['HeLa cells', [28, 29], 'cell_line']]\n",
      "--sentenca:--\n",
      "[[' e6 motif', [4, 5], 'DNA']]\n",
      "[['mutant E6 motif', [3, 4, 5], 'DNA']]\n",
      "--sentenca:--\n",
      "[[' mouse ig heavy - chain enhancer', [5, 6, 7, 8, 9, 10], 'DNA'], [' octamer motif', [15, 16], 'DNA'], [' b - cell - specific enhancer element', [20, 21, 22, 23, 24, 25, 26], 'DNA'], [' human enhancer', [29, 30], 'DNA'], [' octamerlike sequence', [33, 34], 'DNA'], [' octamer - binding proteins', [41, 42, 43, 44], 'protein']]\n",
      "[['mouse Ig heavy - chain enhancer', [5, 6, 7, 8, 9, 10], 'DNA'], ['octamer motif', [15, 16], 'DNA'], ['B - cell - specific enhancer element', [20, 21, 22, 23, 24, 25, 26], 'DNA'], ['human enhancer', [29, 30], 'DNA'], ['octamerlike sequence', [33, 34], 'DNA'], ['octamer - binding proteins', [41, 42, 43, 44], 'protein']]\n",
      "--sentenca:--\n",
      "[[' mnli - alui fragment', [3, 4, 5, 6], 'DNA'], [' conalbumin promoter', [16, 17], 'DNA'], [' jurkat', [20], 'cell_line'], [' hela cells', [22, 23], 'cell_line']]\n",
      "[['MnlI - AluI fragment', [3, 4, 5, 6], 'DNA'], ['conalbumin promoter', [16, 17], 'DNA'], ['Jurkat', [20], 'cell_line'], ['HeLa cells', [22, 23], 'cell_line']]\n",
      "--sentenca:--\n",
      "[[' simian virus 40 enhancer', [2, 3, 4, 5], 'DNA'], [' mnli - alui fragment', [11, 12, 13, 14], 'DNA'], [' b cells', [21, 22], 'cell_type'], [' hela cells', [16, 17], 'cell_line']]\n",
      "[['MnlI - AluI fragment', [11, 12, 13, 14], 'DNA'], ['B cells', [21, 22], 'cell_type'], ['HeLa cells', [16, 17], 'cell_line']]\n",
      "--sentenca:--\n",
      "[[' novel enhancer element', [3, 4, 5], 'DNA']]\n",
      "[['positive', [17], 'protein'], ['negative factors', [19, 20], 'protein']]\n",
      "--sentenca:--\n",
      "[]\n",
      "[]\n",
      "--sentenca:--\n",
      "[[' ion channels', [3, 4], 'protein'], [' mitogen', [25], 'protein']]\n",
      "[['ion channels', [3, 4], 'protein'], ['mitogen', [25], 'protein']]\n",
      "--sentenca:--\n",
      "[]\n",
      "[]\n",
      "--sentenca:--\n",
      "[[' ca ( 2 + ) - stimulated k + channels', [23, 24, 25, 26, 27, 28, 29, 30, 31, 32], 'protein']]\n",
      "[]\n",
      "--sentenca:--\n",
      "[[' ca ( 2 + ) - dependent k + channels', [9, 10, 11, 12, 13, 14, 15, 16, 17, 18], 'protein']]\n",
      "[['Ca ( 2 + ) - dependent K + channels', [9, 10, 11, 12, 13, 14, 15, 16, 17, 18], 'protein']]\n",
      "--sentenca:--\n",
      "[]\n",
      "[]\n",
      "--sentenca:--\n",
      "[[' cell - cycle gene', [21, 22, 23, 24], 'DNA'], [' ca ( 2 + ) - activated k + channel', [5, 6, 7, 8, 9, 10, 11, 12, 13, 14], 'protein'], [' il - 2', [27, 28, 29], 'protein'], [' il - 2r', [32, 33, 34], 'protein']]\n",
      "[['Ca ( 2 + ) - activated K + channel', [5, 6, 7, 8, 9, 10, 11, 12, 13, 14], 'protein'], ['IL - 2', [27, 28, 29], 'protein'], ['IL - 2R', [32, 33, 34], 'protein']]\n",
      "--sentenca:--\n",
      "[[' ca ( 2 + ) - activated k + channels', [15, 16, 17, 18, 19, 20, 21, 22, 23, 24], 'protein']]\n",
      "[['Ca ( 2 + ) - activated K + channels', [15, 16, 17, 18, 19, 20, 21, 22, 23, 24], 'protein']]\n",
      "--sentenca:--\n",
      "[[' kappa b enhancer', [3, 4, 5], 'DNA'], [' somatic cell hybrids', [15, 16, 17], 'cell_line'], [' interleukin - 2 receptor alpha chain', [8, 9, 10, 11, 12, 13], 'protein'], [' nf - kappa b', [25, 26, 27, 28], 'protein']]\n",
      "[['kappa B enhancer', [3, 4, 5], 'DNA'], ['somatic cell hybrids', [15, 16, 17], 'cell_line'], ['interleukin - 2 receptor alpha chain', [8, 9, 10, 11, 12, 13], 'protein'], ['NF - kappa B', [25, 26, 27, 28], 'protein']]\n",
      "--sentenca:--\n",
      "[[' human t - cell line iarc 301 . 5', [47, 48, 49, 50, 51, 52, 53, 54, 55], 'cell_line'], [' nuclear proteins nf - kappa b', [2, 3, 4, 5, 6, 7], 'protein'], [' p50', [12], 'protein'], [' dp65', [14], 'protein'], [' dna - binding subunit', [18, 19, 20, 21], 'protein'], [' nf - kappa b', [23, 24, 25, 26], 'protein'], [' p50', [28], 'protein'], [' kbf1', [35], 'protein']]\n",
      "[['human T - cell line', [47, 48, 49, 50, 51], 'cell_line'], ['IARC 301 . 5', [52, 53, 54, 55], 'cell_line'], ['two nuclear proteins', [1, 2, 3], 'protein'], ['NF - kappa B', [4, 5, 6, 7], 'protein'], ['p50', [12], 'protein'], ['dp65', [14], 'protein'], ['DNA - binding subunit', [18, 19, 20, 21], 'protein'], ['NF - kappa B', [23, 24, 25, 26], 'protein'], ['p50', [28], 'protein'], ['KBF1', [35], 'protein']]\n",
      "--sentenca:--\n",
      "[[' kappa b enhancers', [16, 17, 18], 'DNA'], [' somatic cell hybrids', [26, 27, 28], 'cell_line'], [' iarc 301 .', [30, 31, 32], 'cell_line']]\n",
      "[['kappa B enhancers', [16, 17, 18], 'DNA'], ['IARC 301 . 5', [30, 31, 32, 33], 'cell_line'], ['murine myeloma', [36, 37], 'cell_line'], ['factors', [9], 'protein']]\n",
      "--sentenca:--\n",
      "[[' kbf1', [4], 'protein'], [' nf - kappa b', [6, 7, 8, 9], 'protein'], [' kbf1', [19], 'protein']]\n",
      "[['KBF1', [4], 'protein'], ['NF - kappa B', [6, 7, 8, 9], 'protein'], ['KBF1', [19], 'protein']]\n",
      "--sentenca:--\n",
      "[[' kappa b enhancer', [1, 2, 3], 'DNA'], [' interleukin - 2 ( il - 2 ) receptor alpha chain', [9, 10, 11, 12, 13, 14, 15, 16, 17, 18, 19], 'protein'], [' il - 2r alpha', [21, 22, 23, 24], 'protein'], [' nuclear nf - kappa b', [33, 34, 35, 36, 37], 'protein']]\n",
      "[['kappa B enhancer', [1, 2, 3], 'DNA'], ['hybrids', [31], 'cell_line'], ['interleukin - 2', [9, 10, 11], 'protein'], ['IL - 2', [13, 14, 15], 'protein'], ['IL - 2R alpha', [21, 22, 23, 24], 'protein'], ['NF - kappa B', [34, 35, 36, 37], 'protein'], ['interleukin - 2 ( IL - 2 ) receptor alpha chain', [9, 10, 11, 12, 13, 14, 15, 16, 17, 18, 19], 'protein'], ['nuclear NF - kappa B', [33, 34, 35, 36, 37], 'protein']]\n",
      "--sentenca:--\n",
      "[[' kappa b enhancer', [14, 15, 16], 'DNA'], [' nuclear nf - kappa b', [4, 5, 6, 7, 8], 'protein'], [' kbf1', [19], 'protein']]\n",
      "[['kappa B enhancer', [14, 15, 16], 'DNA'], ['NF - kappa B', [5, 6, 7, 8], 'protein'], ['KBF1', [19], 'protein'], ['nuclear NF - kappa B', [4, 5, 6, 7, 8], 'protein']]\n",
      "--sentenca:--\n",
      "[[' kbf1', [3], 'protein'], [' nf - kappa b', [9, 10, 11, 12], 'protein']]\n",
      "[['KBF1', [3], 'protein'], ['NF - kappa B', [9, 10, 11, 12], 'protein'], ['IL - 2', [26, 27, 28], 'protein'], ['IL - 2 alpha', [30, 31, 32, 33], 'protein']]\n",
      "--sentenca:--\n",
      "[[' t - helper - cell determinants', [0, 1, 2, 3, 4, 5], 'protein'], [' protein antigens', [7, 8], 'protein'], [' cysteine - rich antigen segments', [13, 14, 15, 16, 17], 'protein']]\n",
      "[['T - helper - cell determinants', [0, 1, 2, 3, 4, 5], 'protein'], ['protein antigens', [7, 8], 'protein'], ['cysteine - rich antigen segments', [13, 14, 15, 16, 17], 'protein']]\n",
      "--sentenca:--\n",
      "[[' t - helper - cell epitopes', [12, 13, 14, 15, 16, 17], 'protein'], [' protein antigen', [19, 20], 'protein'], [' ag', [22], 'protein'], [' ag amino acid sequence', [27, 28, 29, 30], 'protein']]\n",
      "[['T - helper - cell epitopes', [12, 13, 14, 15, 16, 17], 'protein'], ['protein antigen', [19, 20], 'protein'], ['Ag', [22], 'protein'], ['Ag', [27], 'protein'], ['amino acid sequence', [28, 29, 30], 'protein']]\n",
      "--sentenca:--\n",
      "[[' l', [24], 'protein'], [' d', [27], 'protein']]\n",
      "[['Ag', [11], 'protein']]\n",
      "--sentenca:--\n",
      "[[' apc', [14], 'cell_type'], [' soluble protein ag', [10, 11, 12], 'protein'], [' t - cell determinants', [30, 31, 32, 33], 'protein']]\n",
      "[['enzymes', [3], 'protein'], ['Ag', [12], 'protein'], ['APC', [14], 'protein'], ['resistant segments', [17, 18], 'protein'], ['Ag', [20], 'protein'], ['T - cell determinants', [30, 31, 32, 33], 'protein'], ['susceptible segments', [35, 36], 'protein'], ['soluble protein Ag', [10, 11, 12], 'protein']]\n",
      "--sentenca:--\n",
      "[[' cathepsin d', [55, 56], 'protein']]\n",
      "[['enzymes', [13], 'protein'], ['S1', [49], 'protein'], [\"S1 '\", [51, 52], 'protein'], ['cathepsin D', [55, 56], 'protein']]\n",
      "--sentenca:--\n",
      "[[' cysteine - containing t - cell determinants', [6, 7, 8, 9, 10, 11, 12], 'protein'], [' protein ag', [17, 18], 'protein']]\n",
      "[['cysteine - containing T - cell determinants', [6, 7, 8, 9, 10, 11, 12], 'protein'], ['Ag', [18], 'protein'], ['protein Ag', [17, 18], 'protein']]\n",
      "--sentenca:--\n",
      "[[' t - cell', [29, 30, 31], 'protein']]\n",
      "[['Ag', [3], 'protein'], ['T - cell determinants', [29, 30, 31, 32], 'protein'], ['Ag', [35], 'protein']]\n",
      "--sentenca:--\n",
      "[[' amphipatic alpha - helical protein segments', [12, 13, 14, 15, 16, 17], 'protein']]\n",
      "[['Ag', [9], 'protein'], ['amphipatic alpha - helical protein segments', [12, 13, 14, 15, 16, 17], 'protein']]\n",
      "--sentenca:--\n",
      "[]\n",
      "[['T - cell determinants', [7, 8, 9, 10], 'protein']]\n",
      "--sentenca:--\n",
      "[[' t - cell types', [29, 30, 31, 32], 'cell_type']]\n",
      "[['Sp1 binding motifs', [7, 8, 9], 'DNA'], ['T - cell types', [29, 30, 31, 32], 'cell_type'], ['NF - kappa B', [2, 3, 4, 5], 'protein']]\n",
      "--sentenca:--\n",
      "[[' long terminal repeat', [30, 31, 32], 'DNA'], [' ltr', [34], 'DNA'], [' ltrs', [40], 'DNA'], [' replication - incompetent molecular clone', [3, 4, 5, 6, 7], 'cell_line']]\n",
      "[['native long terminal repeat', [29, 30, 31, 32], 'DNA'], ['LTR', [34], 'DNA'], ['reconstructed LTRs', [39, 40], 'DNA']]\n",
      "--sentenca:--\n",
      "[[' ltr', [30], 'DNA'], [' human t - cell types', [14, 15, 16, 17, 18], 'cell_type']]\n",
      "[['element', [22], 'DNA'], ['LTR', [30], 'DNA'], ['T - cell types', [15, 16, 17, 18], 'cell_type'], ['human T - cell types', [14, 15, 16, 17, 18], 'cell_type']]\n",
      "--sentenca:--\n",
      "[[' ltrs', [9], 'DNA'], [' nf - kappa b elements', [14, 15, 16, 17, 18], 'DNA'], [' sp1 binding sites', [22, 23, 24], 'DNA'], [' peripheral blood lymphocytes', [36, 37, 38], 'cell_type'], [' jurkat', [49], 'cell_line'], [' nf - kappa b', [14, 15, 16, 17], 'protein']]\n",
      "[['LTRs', [9], 'DNA'], ['Sp1 binding sites', [22, 23, 24], 'DNA'], ['NF - kappa B elements', [14, 15, 16, 17, 18], 'DNA'], ['lymphocytes', [38], 'cell_type'], ['peripheral blood lymphocytes', [36, 37, 38], 'cell_type'], ['MT4', [40], 'cell_line'], ['H9', [43], 'cell_line'], ['CEM', [46], 'cell_line'], ['Jurkat', [49], 'cell_line'], ['NF - kappa B', [14, 15, 16, 17], 'protein']]\n",
      "--sentenca:--\n",
      "[[' second - site ltr revertants', [7, 8, 9, 10, 11], 'DNA'], [' tata box', [18, 19], 'DNA']]\n",
      "[['second - site LTR', [7, 8, 9, 10], 'DNA'], ['TATA box', [18, 19], 'DNA']]\n",
      "--sentenca:--\n",
      "[[' human immunodeficiency virus type 1 ltr', [5, 6, 7, 8, 9, 10], 'DNA'], [' t - cell types', [20, 21, 22, 23], 'cell_type'], [' transcriptional factors', [35, 36], 'protein']]\n",
      "[['human immunodeficiency virus type 1 LTR', [5, 6, 7, 8, 9, 10], 'DNA'], ['T - cell types', [20, 21, 22, 23], 'cell_type'], ['transcriptional factors', [35, 36], 'protein']]\n",
      "--sentenca:--\n",
      "[[' interferon beta gene', [2, 3, 4], 'DNA'], [' nf - kappa b', [10, 11, 12, 13], 'protein'], [' th protein', [17, 18], 'protein']]\n",
      "[['interferon beta gene', [2, 3, 4], 'DNA'], ['NF - kappa B', [10, 11, 12, 13], 'protein'], ['TH protein', [17, 18], 'protein']]\n",
      "--sentenca:--\n",
      "[[' human interferon beta ( ifn - beta ) regulatory element', [1, 2, 3, 4, 5, 6, 7, 8, 9, 10], 'DNA'], [' enhanson domains', [14, 15], 'DNA'], [' promoter', [28], 'DNA'], [' human interferon beta', [1, 2, 3], 'protein'], [' ifn - beta', [5, 6, 7], 'protein'], [' transcription factors', [20, 21], 'protein']]\n",
      "[['enhanson domains', [14, 15], 'DNA'], ['promoter', [28], 'DNA'], ['human interferon beta ( IFN - beta ) regulatory element', [1, 2, 3, 4, 5, 6, 7, 8, 9, 10], 'DNA'], ['human interferon beta', [1, 2, 3], 'protein'], ['IFN - beta', [5, 6, 7], 'protein'], ['transcription factors', [20, 21], 'protein']]\n",
      "--sentenca:--\n",
      "[[' jurkat t - cells', [29, 30, 31, 32], 'cell_line'], [' hela s3 cells', [45, 46, 47], 'cell_line'], [' ifn - beta', [9, 10, 11], 'protein'], [' positive regulatory domain ( prd ) ii binding proteins', [14, 15, 16, 17, 18, 19, 20, 21, 22], 'protein']]\n",
      "[['positive regulatory domain ( PRD ) II', [14, 15, 16, 17, 18, 19, 20], 'DNA'], ['Jurkat T - cells', [29, 30, 31, 32], 'cell_line'], ['IFN primed , cycloheximide / polyinosinic - polycytidylic acid treated HeLa S3 cells', [35, 36, 37, 38, 39, 40, 41, 42, 43, 44, 45, 46, 47], 'cell_line'], ['IFN - beta', [9, 10, 11], 'protein'], ['IFN', [35], 'protein'], ['positive regulatory domain ( PRD ) II binding proteins', [14, 15, 16, 17, 18, 19, 20, 21, 22], 'protein']]\n",
      "--sentenca:--\n",
      "[[' t - cells', [23, 24, 25], 'cell_type'], [' hela cells', [1, 2], 'cell_line'], [' major proteins', [5, 6], 'protein'], [' major protein', [32, 33], 'protein']]\n",
      "[['T - cells', [23, 24, 25], 'cell_type'], ['HeLa cells', [1, 2], 'cell_line'], ['major protein', [32, 33], 'protein'], ['52 kD', [35, 36], 'protein'], ['minor proteins', [39, 40], 'protein'], ['82', [42], 'protein'], ['67', [44], 'protein'], ['43 - 47 kD', [47, 48, 49, 50], 'protein']]\n",
      "--sentenca:--\n",
      "[[' hela cells', [11, 12], 'cell_line'], [' induction specific dna binding protein', [3, 4, 5, 6, 7], 'protein'], [' ( aagtga ) 4 tetrahexamer sequence', [17, 18, 19, 20, 21, 22], 'protein'], [' prdi domain', [25, 26], 'protein']]\n",
      "[['tetrahexamer sequence', [21, 22], 'DNA'], ['PRDI domain', [25, 26], 'DNA'], ['HeLa cells', [11, 12], 'cell_line'], ['specific DNA binding protein', [4, 5, 6, 7], 'protein']]\n",
      "--sentenca:--\n",
      "[[' irf - 1 / isgf2', [6, 7, 8, 9, 10], 'protein']]\n",
      "[['IRF - 1 / ISGF2', [6, 7, 8, 9, 10], 'protein']]\n",
      "--sentenca:--\n",
      "[[' ifn beta promoter deletions', [18, 19, 20, 21], 'DNA']]\n",
      "[['IFN beta promoter deletions', [18, 19, 20, 21], 'DNA']]\n",
      "--sentenca:--\n",
      "[[' prdii element', [4, 5], 'DNA']]\n",
      "[['PRDII element', [4, 5], 'DNA'], ['promoter', [19], 'DNA']]\n",
      "--sentenca:--\n",
      "[[' ifn - beta promoter', [8, 9, 10, 11], 'DNA'], [' prdi', [24], 'DNA'], [' prdii', [26], 'DNA']]\n",
      "[['IFN - beta promoter', [8, 9, 10, 11], 'DNA'], ['PRDI', [24], 'DNA'], ['PRDII', [26], 'DNA'], ['PRDII elements', [26, 27], 'DNA']]\n",
      "--sentenca:--\n",
      "[[' prdii', [2], 'protein'], [' tetrahexamer binding proteins', [4, 5, 6], 'protein']]\n",
      "[]\n",
      "--sentenca:--\n",
      "[[' ifn - beta', [9, 10, 11], 'protein'], [' ifn - beta', [26, 27, 28], 'protein']]\n",
      "[['IFN - beta', [26, 27, 28], 'protein']]\n",
      "--sentenca:--\n",
      "[[' rhombotin family', [1, 2], 'DNA'], [' cysteine - rich lim - domain oncogenes', [4, 5, 6, 7, 8, 9, 10], 'DNA']]\n",
      "[['rhombotin family', [1, 2], 'DNA'], ['cysteine - rich LIM - domain oncogenes', [4, 5, 6, 7, 8, 9, 10], 'DNA'], ['T - cell translocations', [17, 18, 19, 20], 'DNA']]\n",
      "--sentenca:--\n",
      "[[' short arm of human chromosome 11', [11, 12, 13, 14, 15, 16], 'DNA'], [' band 11p15', [18, 19], 'DNA'], [' rhombotin gene', [22, 23], 'DNA']]\n",
      "[['short arm', [11, 12], 'DNA'], ['human chromosome 11', [14, 15, 16], 'DNA'], ['band 11p15', [18, 19], 'DNA'], ['rhombotin gene', [22, 23], 'DNA']]\n",
      "--sentenca:--\n",
      "[[' cysteine - rich regions', [7, 8, 9, 10], 'protein'], [' lim domains', [12, 13], 'protein'], [' zinc - binding proteins', [19, 20, 21, 22], 'protein'], [' iron - sulfur centers', [25, 26, 27, 28], 'protein'], [' ferredoxins', [30], 'protein']]\n",
      "[['cysteine - rich regions', [7, 8, 9, 10], 'protein'], ['LIM domains', [12, 13], 'protein'], ['zinc - binding proteins', [19, 20, 21, 22], 'protein'], ['iron - sulfur centers', [25, 26, 27, 28], 'protein'], ['ferredoxins', [30], 'protein']]\n",
      "--sentenca:--\n",
      "[[' rhombotin gene', [4, 5], 'DNA']]\n",
      "[['rhombotin gene', [4, 5], 'DNA']]\n",
      "--sentenca:--\n",
      "[[' rhom - 2', [5, 6, 7], 'DNA'], [' human chromosome 11', [12, 13, 14], 'DNA'], [' band 11p13', [16, 17], 'DNA'], [' translocation breakpoints', [33, 34], 'DNA'], [' 11p13', [36], 'DNA'], [' rhom - 2 gene', [41, 42, 43, 44], 'DNA'], [' rhom - 2', [41, 42, 43], 'protein']]\n",
      "[['Rhom - 2', [5, 6, 7], 'DNA'], ['human chromosome 11', [12, 13, 14], 'DNA'], ['band 11p13', [16, 17], 'DNA'], ['T - cell leukemia - specific translocations', [23, 24, 25, 26, 27, 28, 29], 'DNA'], ['11p13', [36], 'DNA'], ['Rhom - 2', [41, 42, 43], 'DNA'], ['Rhom - 2 gene', [41, 42, 43, 44], 'DNA']]\n",
      "--sentenca:--\n",
      "[[' rhombotin', [12], 'protein'], [' tandem cysteine - rich lim domains', [16, 17, 18, 19, 20, 21], 'protein']]\n",
      "[['rhombotin', [12], 'DNA'], ['tandem cysteine - rich LIM domains', [16, 17, 18, 19, 20, 21], 'DNA'], ['LIM domains', [20, 21], 'protein']]\n",
      "--sentenca:--\n",
      "[[' rhom - 2 mrna', [0, 1, 2, 3], 'RNA']]\n",
      "[['Rhom - 2', [0, 1, 2], 'DNA'], ['Rhom - 2 mRNA', [0, 1, 2, 3], 'RNA']]\n",
      "--sentenca:--\n",
      "[[' rhom - 3', [5, 6, 7], 'DNA'], [' chromosome 11', [12, 13], 'DNA'], [' lim domain', [20, 21], 'DNA'], [' rhombotin', [23], 'DNA']]\n",
      "[['Rhom - 3', [5, 6, 7], 'DNA'], ['LIM domain', [20, 21], 'DNA'], ['rhombotin', [23], 'DNA']]\n",
      "--sentenca:--\n",
      "[[' rhom - 2 gene', [2, 3, 4, 5], 'DNA'], [' rhombotin gene', [26, 27], 'DNA']]\n",
      "[['Rhom - 2', [2, 3, 4], 'DNA'], ['rhombotin', [26], 'DNA'], ['Rhom - 2 gene', [2, 3, 4, 5], 'DNA'], ['rhombotin gene', [26, 27], 'DNA'], ['T - cell tumors', [15, 16, 17, 18], 'cell_type']]\n",
      "--sentenca:--\n",
      "[[' rhombotin', [5], 'DNA']]\n",
      "[['rhombotin', [5], 'DNA']]\n",
      "--sentenca:--\n",
      "[[' chromosome bands 11p15', [2, 3, 4], 'DNA'], [' rhombotin', [6], 'DNA'], [' 11p13', [9], 'DNA'], [' rhom - 2', [11, 12, 13], 'DNA'], [' 11p15 target', [29, 30], 'DNA']]\n",
      "[['chromosome bands 11p15', [2, 3, 4], 'DNA'], ['rhombotin', [6], 'DNA'], ['11p13', [9], 'DNA'], ['Rhom - 2', [11, 12, 13], 'DNA'], ['11p15 target', [29, 30], 'DNA']]\n",
      "--sentenca:--\n",
      "[[' rhombotin gene family', [4, 5, 6], 'DNA'], [' t - cell oncogenes', [11, 12, 13, 14], 'DNA'], [' duplicated cysteine - rich lim domains', [16, 17, 18, 19, 20, 21], 'DNA']]\n",
      "[['rhombotin', [4], 'DNA'], ['T - cell oncogenes', [11, 12, 13, 14], 'DNA'], ['LIM domains', [20, 21], 'protein']]\n",
      "--sentenca:--\n",
      "[[' jurkat t cell line', [12, 13, 14, 15], 'cell_line'], [' nf - kappa b', [0, 1, 2, 3], 'protein'], [' tumor necrosis factor alpha', [6, 7, 8, 9], 'protein'], [' protein kinase a', [19, 20, 21], 'protein'], [' protein kinase c', [23, 24, 25], 'protein'], [' ca ( 2 + ) - regulated kinases', [28, 29, 30, 31, 32, 33, 34, 35], 'protein']]\n",
      "[['Jurkat T cell line', [12, 13, 14, 15], 'cell_line'], ['NF - kappa B', [0, 1, 2, 3], 'protein'], ['tumor necrosis factor alpha', [6, 7, 8, 9], 'protein'], ['protein kinase A', [19, 20, 21], 'protein'], ['protein kinase C', [23, 24, 25], 'protein'], ['Ca ( 2 + ) - regulated kinases', [28, 29, 30, 31, 32, 33, 34, 35], 'protein']]\n",
      "--sentenca:--\n",
      "[[' human immunodeficiency virus ( hiv ) genes', [22, 23, 24, 25, 26, 27, 28], 'DNA'], [' nf - kappa b', [0, 1, 2, 3], 'protein'], [' dna - binding regulatory factor', [6, 7, 8, 9, 10], 'protein']]\n",
      "[['human immunodeficiency virus ( HIV ) genes', [22, 23, 24, 25, 26, 27, 28], 'DNA'], ['NF - kappa B', [0, 1, 2, 3], 'protein'], ['DNA - binding regulatory factor', [6, 7, 8, 9, 10], 'protein']]\n",
      "--sentenca:--\n",
      "[[' t cells', [1, 2], 'cell_type'], [' nf - kappa b', [4, 5, 6, 7], 'protein'], [' cytokine tumor necrosis factor alpha', [18, 19, 20, 21, 22], 'protein'], [' tnf alpha', [24, 25], 'protein']]\n",
      "[['T cells', [1, 2], 'cell_type'], ['NF - kappa B', [4, 5, 6, 7], 'protein'], ['tumor necrosis factor alpha', [19, 20, 21, 22], 'protein'], ['TNF alpha', [24, 25], 'protein']]\n",
      "--sentenca:--\n",
      "[[' human t cell line', [22, 23, 24, 25], 'cell_line'], [' jurkat', [27], 'cell_line'], [' jct6', [32], 'cell_line'], [' nf - kappa b', [12, 13, 14, 15], 'protein'], [' tnf alpha', [18, 19], 'protein'], [' pka', [40], 'protein']]\n",
      "[['human T cell line', [22, 23, 24, 25], 'cell_line'], ['Jurkat', [27], 'cell_line'], ['JCT6', [32], 'cell_line'], ['NF - kappa B', [12, 13, 14, 15], 'protein'], ['TNF alpha', [18, 19], 'protein'], ['PKA', [40], 'protein']]\n",
      "--sentenca:--\n",
      "[[' lines', [6], 'cell_line'], [' tnf alpha', [12, 13], 'protein'], [' nf - kappa b', [18, 19, 20, 21], 'protein']]\n",
      "[['TNF alpha', [12, 13], 'protein'], ['NF - kappa B', [18, 19, 20, 21], 'protein']]\n",
      "--sentenca:--\n",
      "[[' tnf alpha', [10, 11], 'protein']]\n",
      "[['TNF alpha', [10, 11], 'protein']]\n",
      "--sentenca:--\n",
      "[[' pkc', [9], 'protein'], [' tnf alpha', [14, 15], 'protein']]\n",
      "[['PKC', [9], 'protein'], ['TNF alpha', [14, 15], 'protein']]\n",
      "--sentenca:--\n",
      "[[' tnf alpha', [0, 1], 'protein']]\n",
      "[['TNF alpha', [0, 1], 'protein']]\n",
      "--sentenca:--\n",
      "[[' jurkat cells', [12, 13], 'cell_line'], [' nf - kappa b', [7, 8, 9, 10], 'protein']]\n",
      "[['Jurkat cells', [12, 13], 'cell_line'], ['NF - kappa B', [7, 8, 9, 10], 'protein']]\n",
      "--sentenca:--\n",
      "[[' tnf alpha', [2, 3], 'protein'], [' nf - kappa b', [6, 7, 8, 9], 'protein'], [' major signal - mediating kinases', [20, 21, 22, 23, 24], 'protein'], [' protein kinase c', [27, 28, 29], 'protein'], [' pkc', [31], 'protein'], [' protein kinase a', [34, 35, 36], 'protein'], [' ca ( 2 + ) - regulated kinases', [39, 40, 41, 42, 43, 44, 45, 46], 'protein']]\n",
      "[['TNF alpha', [2, 3], 'protein'], ['NF - kappa B', [6, 7, 8, 9], 'protein'], ['signal - mediating kinases', [21, 22, 23, 24], 'protein'], ['protein kinase C', [27, 28, 29], 'protein'], ['PKC', [31], 'protein'], ['protein kinase A', [34, 35, 36], 'protein'], ['Ca ( 2 + ) - regulated kinases', [39, 40, 41, 42, 43, 44, 45, 46], 'protein']]\n",
      "--sentenca:--\n",
      "[[' nf - kappa b', [8, 9, 10, 11], 'protein'], [' tnf alpha', [15, 16], 'protein'], [' pkc', [18], 'protein'], [' nf - kappa b', [25, 26, 27, 28], 'protein'], [' i kappa b', [30, 31, 32], 'protein'], [' nf - kappa b', [37, 38, 39, 40], 'protein']]\n",
      "[['NF - kappa B', [8, 9, 10, 11], 'protein'], ['TNF alpha', [15, 16], 'protein'], ['PKC', [18], 'protein'], ['NF - kappa B', [25, 26, 27, 28], 'protein'], ['/ I kappa B', [29, 30, 31, 32], 'protein'], ['NF - kappa B', [37, 38, 39, 40], 'protein']]\n",
      "--sentenca:--\n",
      "[[' murine thy - 1 gene promoter', [5, 6, 7, 8, 9, 10], 'DNA']]\n",
      "[['murine Thy - 1 gene promoter', [5, 6, 7, 8, 9, 10], 'DNA']]\n",
      "--sentenca:--\n",
      "[[' thy - 1 gene promoter', [1, 2, 3, 4, 5], 'DNA'], [' b - dna o o o housekeeping i - dna o o o promoter', [8, 9, 10, 11, 12, 13, 14, 15, 16, 17, 18, 19, 20, 21], 'DNA'], [' methylation - free island', [29, 30, 31, 32], 'DNA'], [' tata box', [37, 38], 'DNA'], [' mrna', [52], 'RNA'], [\" 5 ' - end termini\", [45, 46, 47, 48, 49], 'protein']]\n",
      "[['Thy - 1 gene promoter', [1, 2, 3, 4, 5], 'DNA'], ['methylation - free island', [8, 9, 17, 18, 19, 20], 'DNA'], ['canonical TATA box', [24, 25, 26], 'DNA'], [\"5 ' - end termini\", [33, 34, 35, 36, 37], 'RNA'], ['mRNA', [40], 'RNA']]\n",
      "--sentenca:--\n",
      "[]\n",
      "[['promoter', [8], 'DNA']]\n",
      "--sentenca:--\n",
      "[[' initiation site', [18, 19], 'DNA']]\n",
      "[['initiation site', [18, 19], 'DNA']]\n",
      "--sentenca:--\n",
      "[[' minimal thy - 1 promoter', [8, 9, 10, 11, 12], 'DNA'], [' dominant promoter elements', [17, 18, 19], 'DNA'], [' binding sites', [23, 24], 'DNA'], [' inverted ccaat box', [32, 33, 34], 'DNA'], [' transcription start site', [41, 42, 43], 'DNA'], [' transcription factor sp1', [27, 28, 29], 'protein']]\n",
      "[['minimal Thy - 1 promoter', [8, 9, 10, 11, 12], 'DNA'], ['dominant promoter elements', [17, 18, 19], 'DNA'], ['multiple binding sites', [22, 23, 24], 'DNA'], ['CCAAT box', [33, 34], 'DNA'], ['transcription start site', [41, 42, 43], 'DNA'], ['transcription factor', [27, 28], 'protein'], ['Sp1', [29], 'protein']]\n",
      "--sentenca:--\n",
      "[[' dnase i', [0, 1], 'protein'], [' nuclear factors', [14, 15], 'protein'], [' sp1', [21], 'protein'], [' cp1', [23], 'protein']]\n",
      "[['elements', [18], 'DNA'], ['nuclear factors', [14, 15], 'protein'], ['Sp1', [21], 'protein'], ['CP1', [23], 'protein']]\n",
      "--sentenca:--\n",
      "[[' enhancer sequences', [30, 31], 'DNA'], [' transcription factors sp1', [16, 17, 18], 'protein'], [' cp1', [20], 'protein']]\n",
      "[['promoter', [8], 'DNA'], ['enhancer sequences', [30, 31], 'DNA'], ['transcription factors', [16, 17], 'protein'], ['Sp1', [18], 'protein'], ['CP1', [20], 'protein']]\n",
      "--sentenca:--\n",
      "[[' t lymphocytes', [8, 9], 'cell_type'], [' nuclear factor kappa b', [0, 1, 2, 3], 'protein'], [' proenkephalin', [5], 'protein']]\n",
      "[['T lymphocytes', [8, 9], 'cell_type'], ['Nuclear factor kappa B', [0, 1, 2, 3], 'protein']]\n",
      "--sentenca:--\n",
      "[[' proenkephalin mrna', [18, 19], 'RNA'], [' t lymphocytes', [3, 4], 'cell_type'], [' neuropeptide enkephalin', [10, 11], 'protein']]\n",
      "[['proenkephalin mRNA', [18, 19], 'RNA'], ['T lymphocytes', [3, 4], 'cell_type']]\n"
     ]
    }
   ],
   "source": [
    "i=0\n",
    "for a, b in zip(dic_predictions.items(),dicSentences_new_test.items()):\n",
    "    print('--sentenca (predito vs real):--')\n",
    "    aa=a[1][1]\n",
    "    bb=b[1][1]\n",
    "    print(aa)\n",
    "    print(bb)\n",
    "    i=i+1\n",
    "    if i>100:\n",
    "        break"
   ]
  },
  {
   "cell_type": "code",
   "execution_count": 416,
   "metadata": {},
   "outputs": [
    {
     "data": {
      "text/plain": [
       "['methionine codon - initiated open reading frame',\n",
       " [4, 5, 6, 7, 8, 9, 10],\n",
       " 'DNA']"
      ]
     },
     "execution_count": 416,
     "metadata": {},
     "output_type": "execute_result"
    }
   ],
   "source": [
    "dicSentences_new_test[0][1][0]"
   ]
  },
  {
   "cell_type": "code",
   "execution_count": 417,
   "metadata": {},
   "outputs": [
    {
     "name": "stdout",
     "output_type": "stream",
     "text": [
      "numErro1: 1567\n",
      "numErro2: 1124\n",
      "              precision    recall  f1-score   support\n",
      "\n",
      "         DNA   0.709677  0.691935  0.700694      1240\n",
      "           O   0.000000  0.000000  0.000000      1124\n",
      "         RNA   0.711712  0.724771  0.718182       109\n",
      "   cell_line   0.752137  0.604119  0.670051       437\n",
      "   cell_type   0.728374  0.698176  0.712955       603\n",
      "     protein   0.760507  0.685276  0.720934      3063\n",
      "\n",
      "    accuracy                       0.565845      6576\n",
      "   macro avg   0.610401  0.567379  0.587136      6576\n",
      "weighted avg   0.616622  0.565845  0.589734      6576\n",
      "\n"
     ]
    }
   ],
   "source": [
    "def AvalFinal(dicSentences_new_test, dic_predictions_all, BATCH):\n",
    "\n",
    "    region_true_list, region_pred_list = list(), list() # labels\n",
    "    region_true_count, region_pred_count = 0, 0 # contagem\n",
    "    numErro1=0\n",
    "    numErro2=0\n",
    "\n",
    "    for i in range(0, BATCH, 1):\n",
    "        if i<len(dicSentences_new_test):\n",
    "        #if 1==1:           \n",
    "            #print('\\n---Label vs predicao--------')\n",
    "            #print('frase:', dicSentences_new_test[i][0])\n",
    "            #print('i:', i)\n",
    "            #print(dicSentences_new_test[i][1])\n",
    "            #print(dic_predictions_all[i][1])\n",
    "            entidades_gabarito = dicSentences_new_test[i][1]\n",
    "            try:\n",
    "                #print(dic_predictions_all[i])\n",
    "                entidades_preditas = dic_predictions_all[i][1]\n",
    "            except:\n",
    "                print('erro, caiu no except na AvalFinal:', str(i))\n",
    "                raise\n",
    "            #print('entidades_preditas:', entidades_preditas)\n",
    "            for entidade_gabarito in entidades_gabarito:\n",
    "                #entidade_gabarito=entidade_gabarito[0]\n",
    "                indices_gabarito = entidade_gabarito[1]\n",
    "                tag_gabarito = entidade_gabarito[2]\n",
    "                region_true_count=region_true_count+1\n",
    "                region_true_list.append(tag_gabarito)\n",
    "                # ver se previu essa entidade\n",
    "                previu=0\n",
    "                for entidade_predita in entidades_preditas:\n",
    "                    indices_predita = entidade_predita[1]\n",
    "                    tag_predita = entidade_predita[2]\n",
    "                    if indices_predita == indices_gabarito:\n",
    "                        region_pred_list.append(tag_predita)\n",
    "                        previu=1\n",
    "                        #print('achou')\n",
    "                        if tag_predita !='O':\n",
    "                            region_pred_count=region_pred_count+1\n",
    "                        break\n",
    "                if previu==0:\n",
    "                    numErro1=numErro1+1\n",
    "                    region_pred_list.append('O')\n",
    "\n",
    "            # agora o contrario, ver o q previu mas nao era\n",
    "\n",
    "            for entidade_predita in entidades_preditas:\n",
    "                indices_predita = entidade_predita[1]\n",
    "                tag_predita = entidade_predita[2]\n",
    "                # ver se a entidade prevista existe ou é FP\n",
    "                existe=0\n",
    "                for entidade_gabarito in entidades_gabarito:\n",
    "                    #entidade_gabarito=entidade_gabarito[0]\n",
    "                    indices_gabarito = entidade_gabarito[1]\n",
    "                    if indices_predita == indices_gabarito:\n",
    "                        existe=1\n",
    "                        break\n",
    "                if existe==0:\n",
    "                    numErro2 = numErro2+1\n",
    "                    region_true_list.append('O')\n",
    "                    region_pred_list.append(tag_predita)\n",
    "\n",
    "    #print('===resultados====')\n",
    "    #print('region_true_list:', region_true_list)\n",
    "    #print('region_pred_list:', region_pred_list)\n",
    "\n",
    "    print('numErro1:', numErro1)\n",
    "    print('numErro2:', numErro2)\n",
    "    #print(classification_report(region_true_list, region_pred_list, labels=['O', 'PROTEIN', 'DNA', 'RNA', 'CELL_TYPE', 'CELL_LINE'], target_names=['O', 'PROTEIN', 'DNA', 'RNA', 'CELL_TYPE', 'CELL_LINE'], digits=6))\n",
    "    print(classification_report(region_true_list, region_pred_list, digits=6))\n",
    "\n",
    "    return region_true_list, region_pred_list\n",
    "\n",
    "region_true_list, region_pred_list = AvalFinal(dicSentences_new_test, dic_predictions, BATCH)\n"
   ]
  },
  {
   "cell_type": "code",
   "execution_count": 418,
   "metadata": {},
   "outputs": [],
   "source": [
    "#dic_predictions[5]"
   ]
  },
  {
   "cell_type": "code",
   "execution_count": 419,
   "metadata": {},
   "outputs": [
    {
     "data": {
      "text/plain": [
       "['DNA',\n",
       " 'DNA',\n",
       " 'DNA',\n",
       " 'DNA',\n",
       " 'DNA',\n",
       " 'DNA',\n",
       " 'DNA',\n",
       " 'DNA',\n",
       " 'O',\n",
       " 'RNA',\n",
       " 'RNA',\n",
       " 'cell_type',\n",
       " 'O',\n",
       " 'O',\n",
       " 'DNA',\n",
       " 'DNA',\n",
       " 'cell_type',\n",
       " 'DNA',\n",
       " 'cell_line',\n",
       " 'protein',\n",
       " 'protein',\n",
       " 'cell_type',\n",
       " 'cell_type',\n",
       " 'cell_type',\n",
       " 'protein',\n",
       " 'cell_type',\n",
       " 'protein',\n",
       " 'cell_line',\n",
       " 'cell_line',\n",
       " 'cell_line']"
      ]
     },
     "execution_count": 419,
     "metadata": {},
     "output_type": "execute_result"
    }
   ],
   "source": [
    "region_true_list[0:30]"
   ]
  },
  {
   "cell_type": "code",
   "execution_count": 420,
   "metadata": {},
   "outputs": [
    {
     "data": {
      "text/plain": [
       "['DNA',\n",
       " 'DNA',\n",
       " 'DNA',\n",
       " 'DNA',\n",
       " 'DNA',\n",
       " 'DNA',\n",
       " 'O',\n",
       " 'DNA',\n",
       " 'DNA',\n",
       " 'RNA',\n",
       " 'RNA',\n",
       " 'O',\n",
       " 'DNA',\n",
       " 'DNA',\n",
       " 'protein',\n",
       " 'protein',\n",
       " 'cell_type',\n",
       " 'DNA',\n",
       " 'cell_line',\n",
       " 'protein',\n",
       " 'protein',\n",
       " 'cell_type',\n",
       " 'cell_type',\n",
       " 'cell_type',\n",
       " 'protein',\n",
       " 'cell_type',\n",
       " 'protein',\n",
       " 'O',\n",
       " 'O',\n",
       " 'O']"
      ]
     },
     "execution_count": 420,
     "metadata": {},
     "output_type": "execute_result"
    }
   ],
   "source": [
    "region_pred_list[0:30]"
   ]
  },
  {
   "cell_type": "code",
   "execution_count": 421,
   "metadata": {},
   "outputs": [
    {
     "data": {
      "text/plain": [
       "[' There is a single methionine codon - initiated open reading frame of 1 , 458 nt in frame with a homeobox and a CAX repeat , and the open reading frame is predicted to encode a protein of 51 , 659 daltons .',\n",
       " [['methionine codon - initiated open reading frame',\n",
       "   [4, 5, 6, 7, 8, 9, 10],\n",
       "   'DNA'],\n",
       "  ['homeobox', [20], 'DNA'],\n",
       "  ['CAX repeat', [23, 24], 'DNA'],\n",
       "  ['open reading frame', [28, 29, 30], 'DNA']]]"
      ]
     },
     "execution_count": 421,
     "metadata": {},
     "output_type": "execute_result"
    }
   ],
   "source": [
    "dicSentences_new_test[0]"
   ]
  },
  {
   "cell_type": "code",
   "execution_count": 422,
   "metadata": {},
   "outputs": [
    {
     "data": {
      "text/plain": [
       "['FRASE',\n",
       " [[' methionine codon - initiated open reading frame',\n",
       "   [4, 5, 6, 7, 8, 9, 10],\n",
       "   'DNA'],\n",
       "  [' homeobox', [20], 'DNA'],\n",
       "  [' cax repeat', [23, 24], 'DNA'],\n",
       "  [' open reading frame', [28, 29, 30], 'DNA']]]"
      ]
     },
     "execution_count": 422,
     "metadata": {},
     "output_type": "execute_result"
    }
   ],
   "source": [
    "dic_predictions[0]"
   ]
  },
  {
   "cell_type": "code",
   "execution_count": 408,
   "metadata": {},
   "outputs": [
    {
     "name": "stdout",
     "output_type": "stream",
     "text": [
      "numErro1: 96\n",
      "numErro2: 54\n",
      "              precision    recall  f1-score   support\n",
      "\n",
      "         DNA   0.760000  0.684685  0.720379       111\n",
      "           O   0.000000  0.000000  0.000000        54\n",
      "         RNA   0.750000  0.600000  0.666667         5\n",
      "   cell_line   0.714286  0.588235  0.645161        34\n",
      "   cell_type   0.947368  0.818182  0.878049        22\n",
      "     protein   0.795455  0.686275  0.736842       153\n",
      "\n",
      "    accuracy                       0.585752       379\n",
      "   macro avg   0.661185  0.562896  0.607850       379\n",
      "weighted avg   0.672671  0.585752  0.626081       379\n",
      "\n",
      "[[ 76  29   0   0   0   6]\n",
      " [ 24   0   1   8   0  21]\n",
      " [  0   2   3   0   0   0]\n",
      " [  0  14   0  20   0   0]\n",
      " [  0   4   0   0  18   0]\n",
      " [  0  47   0   0   1 105]]\n"
     ]
    }
   ],
   "source": [
    "#BATCH - 100\n",
    "#region_true_list, region_pred_list = AvalFinal(dicSentences_new_test, dic_predictions, BATCH)\n",
    "#print(confusion_matrix(region_true_list, region_pred_list))"
   ]
  },
  {
   "cell_type": "code",
   "execution_count": null,
   "metadata": {},
   "outputs": [],
   "source": []
  },
  {
   "cell_type": "code",
   "execution_count": null,
   "metadata": {},
   "outputs": [],
   "source": []
  }
 ],
 "metadata": {
  "kernelspec": {
   "display_name": "Python 3",
   "language": "python",
   "name": "python3"
  },
  "language_info": {
   "codemirror_mode": {
    "name": "ipython",
    "version": 3
   },
   "file_extension": ".py",
   "mimetype": "text/x-python",
   "name": "python",
   "nbconvert_exporter": "python",
   "pygments_lexer": "ipython3",
   "version": "3.8.5"
  }
 },
 "nbformat": 4,
 "nbformat_minor": 4
}
