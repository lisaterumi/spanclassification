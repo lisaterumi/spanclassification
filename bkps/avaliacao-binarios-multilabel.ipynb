{
 "cells": [
  {
   "cell_type": "code",
   "execution_count": 260,
   "metadata": {},
   "outputs": [],
   "source": [
    "from sklearn.metrics import classification_report, accuracy_score, confusion_matrix\n",
    "import os\n",
    "from pathlib import Path\n",
    "import re\n",
    "import pickle\n",
    "# ver qtos o modelo apenas de ner acertaria\n",
    "from transformers import AutoTokenizer, AutoModelForTokenClassification\n",
    "import nltk    \n",
    "from nltk import tokenize \n",
    "import torch\n",
    "from transformers import BertTokenizer,BertForTokenClassification\n",
    "import numpy as np\n",
    "import json   \n",
    "from importlib import reload  # Python 3.4+\n",
    "import random\n",
    "from model import BertForChunkClassification\n",
    "from transformers import AdamW, BertConfig, get_linear_schedule_with_warmup\n",
    "\n",
    "from torch.utils.data import DataLoader\n",
    "from importlib import reload \n",
    "#from eval import predict\n",
    "import eval\n",
    "#import importlib\n",
    "#importlib.reload(module)\n",
    "from dataset import InputFeatures, load_and_cache_examples\n",
    "import dataset\n",
    "import functionsAval as f"
   ]
  },
  {
   "cell_type": "code",
   "execution_count": 261,
   "metadata": {},
   "outputs": [],
   "source": [
    "f = reload(f)\n",
    "reload(dataset)\n",
    "reload(eval)\n",
    "\n",
    "path_model=r'.\\model-multilabel-io\\model'"
   ]
  },
  {
   "cell_type": "code",
   "execution_count": 262,
   "metadata": {},
   "outputs": [
    {
     "name": "stdout",
     "output_type": "stream",
     "text": [
      "idx2tag: {0: 'RNA', 1: 'protein-protein', 2: 'RNA-cell_type', 3: 'protein-cell_line', 4: 'DNA-RNA', 5: 'cell_line-cell_line', 6: 'RNA-RNA', 7: 'cell_type-cell_type', 8: 'protein', 9: 'protein-DNA', 10: 'DNA-cell_line', 11: 'cell_line-RNA', 12: 'protein-cell_type', 13: 'O', 14: 'cell_line-DNA', 15: 'cell_type', 16: 'DNA', 17: 'cell_type-DNA', 18: 'cell_line', 19: 'DNA-DNA', 20: 'protein-RNA', 21: 'cell_type-cell_line', 22: '<pad>'}\n",
      "-----------\n",
      "[['O', 'DNA-RNA', 'RNA', 'O', 'O', 'O', 'O', 'O', 'O', 'O', 'O', 'O', 'O', 'O', 'O', 'O', 'O', 'O', 'O', 'O', 'O', 'O', 'O', 'O', 'DNA-RNA', 'RNA', 'O', 'O', 'O', 'O', 'O', 'O', 'O', 'O', 'O', 'O', 'O', 'O']]\n",
      "[['the', 'hb24', 'mrna', 'was', 'absent', 'or', 'present', 'at', 'low', 'levels', 'in', 'normal', 'b', 'and', 't', 'lymphocytes', ';', 'however', ',', 'with', 'the', 'appropriate', 'activation', 'signal', 'hb24', 'mrna', 'was', 'induced', 'within', 'several', 'hours', 'even', 'in', 'the', 'presence', 'of', 'cycloheximide', '.']]\n"
     ]
    }
   ],
   "source": [
    "tags, tokens = f.predictBERTNER_multi_IO(['The HB24 mRNA was absent or present at low levels in normal B and T lymphocytes ; however , with the appropriate activation signal HB24 mRNA was induced within several hours even in the presence of cycloheximide .'], path_model)\n",
    "print('-----------')\n",
    "print(tags)\n",
    "print(tokens)"
   ]
  },
  {
   "cell_type": "code",
   "execution_count": 381,
   "metadata": {},
   "outputs": [],
   "source": [
    "\n",
    "def save_obj(name, obj):\n",
    "    existeDir = os.path.exists('../obj')\n",
    "    if not existeDir:\n",
    "        os.makedirs('../obj')\n",
    "    with open('../obj/'+ name + '.pkl', 'wb') as f:\n",
    "        pickle.dump(obj, f)\n",
    "\n",
    "def load_obj(name):\n",
    "    existeDir = os.path.exists('../obj')\n",
    "    if not existeDir:\n",
    "        os.makedirs('../obj')\n",
    "    try:\n",
    "        with open('../obj/' + name + '.pkl', 'rb') as f:\n",
    "            return pickle.load(f)\n",
    "    except:\n",
    "        print('ERROO')\n",
    "        raise\n",
    "        return None\n",
    "#save_obj('dicEntidadesTesteGenia', dicEntidades)\n",
    "\n",
    "def loadSentencesTest():\n",
    "    # gabarito = dicSentences_new.pkl\n",
    "    #dicSentences_train = load_obj('dic_sentencesTrain.pkl')\n",
    "    #dicSentences_train[32]\n",
    "    # gabarito = dicSentences_new.pkl\n",
    "    print('Pegando sentencas de teste gabarito: dic_sentencesTest.pkl')\n",
    "    dicSentences_new_test = load_obj('dicEntidadesTesteGenia')\n",
    "    return dicSentences_new_test\n",
    "\n",
    "#dicSentences_new_test = loadSentencesTest()\n",
    "#dicSentences_new_test\n"
   ]
  },
  {
   "cell_type": "code",
   "execution_count": 382,
   "metadata": {},
   "outputs": [
    {
     "data": {
      "text/plain": [
       "{0: [' There is a single methionine codon - initiated open reading frame of 1 , 458 nt in frame with a homeobox and a CAX repeat , and the open reading frame is predicted to encode a protein of 51 , 659 daltons .',\n",
       "  [[['methionine codon - initiated open reading frame',\n",
       "     [4, 5, 6, 7, 8, 9, 10],\n",
       "     'DNA'],\n",
       "    ['homeobox', [20], 'DNA'],\n",
       "    ['CAX repeat', [23, 24], 'DNA'],\n",
       "    ['open reading frame', [28, 29, 30], 'DNA']]]],\n",
       " 1: [' When the homeodomain from HB24 was compared to known mammalian and Drosophila homeodomains it was found to be only moderately conserved , but when it was compared to a highly diverged Drosophila homeodomain , H2 . 0 , it was found to be 80 % identical .',\n",
       "  [[['homeodomain', [2], 'DNA'],\n",
       "    ['HB24', [4], 'DNA'],\n",
       "    ['homeodomain', [32], 'DNA']],\n",
       "   [['Drosophila homeodomain', [31, 32], 'DNA']]]],\n",
       " 2: [' The HB24 mRNA was absent or present at low levels in normal B and T lymphocytes ; however , with the appropriate activation signal HB24 mRNA was induced within several hours even in the presence of cycloheximide .',\n",
       "  [[['HB24 mRNA', [1, 2], 'RNA'], ['HB24 mRNA', [24, 25], 'RNA']],\n",
       "   [['T lymphocytes', [14, 15], 'cell_type']]]]}"
      ]
     },
     "execution_count": 382,
     "metadata": {},
     "output_type": "execute_result"
    }
   ],
   "source": [
    "dicSentences_new_test"
   ]
  },
  {
   "cell_type": "code",
   "execution_count": 383,
   "metadata": {},
   "outputs": [
    {
     "name": "stdout",
     "output_type": "stream",
     "text": [
      "Pegando sentencas de teste gabarito: dic_sentencesTest.pkl\n",
      "1854\n",
      "[' There is a single methionine codon - initiated open reading frame of 1 , 458 nt in frame with a homeobox and a CAX repeat , and the open reading frame is predicted to encode a protein of 51 , 659 daltons .', [['methionine codon - initiated open reading frame', [4, 5, 6, 7, 8, 9, 10], 'DNA'], ['homeobox', [20], 'DNA'], ['CAX repeat', [23, 24], 'DNA'], ['open reading frame', [28, 29, 30], 'DNA']]]\n",
      "numero de sentencas no total: 3\n"
     ]
    }
   ],
   "source": [
    "#BATCH=100\n",
    "BATCH=3\n",
    "dicSentences_new_test = loadSentencesTest()\n",
    "print(len(dicSentences_new_test))\n",
    "dicSentences_new_test = {k: v for k, v in dicSentences_new_test.items() if k<BATCH}\n",
    "print(dicSentences_new_test[0])\n",
    "#print(dicSentences_new_test[27])\n",
    "print('numero de sentencas no total:', len(dicSentences_new_test))\n",
    "\n",
    "sentences=list()\n",
    "for key, value in dicSentences_new_test.items():\n",
    "    if key<BATCH:\n",
    "        tokens = value[0]\n",
    "        #tokens = [tok[0] for tok in tokens]\n",
    "        #sentences.append(' '.join(tokens).strip())\n",
    "        sentences.append(tokens)"
   ]
  },
  {
   "cell_type": "code",
   "execution_count": 384,
   "metadata": {},
   "outputs": [
    {
     "data": {
      "text/plain": [
       "[' There is a single methionine codon - initiated open reading frame of 1 , 458 nt in frame with a homeobox and a CAX repeat , and the open reading frame is predicted to encode a protein of 51 , 659 daltons .',\n",
       " ' When the homeodomain from HB24 was compared to known mammalian and Drosophila homeodomains it was found to be only moderately conserved , but when it was compared to a highly diverged Drosophila homeodomain , H2 . 0 , it was found to be 80 % identical .']"
      ]
     },
     "execution_count": 384,
     "metadata": {},
     "output_type": "execute_result"
    }
   ],
   "source": [
    "sentences[:2]"
   ]
  },
  {
   "cell_type": "code",
   "execution_count": 385,
   "metadata": {},
   "outputs": [
    {
     "data": {
      "text/plain": [
       "{0: [' There is a single methionine codon - initiated open reading frame of 1 , 458 nt in frame with a homeobox and a CAX repeat , and the open reading frame is predicted to encode a protein of 51 , 659 daltons .',\n",
       "  [['methionine codon - initiated open reading frame',\n",
       "    [4, 5, 6, 7, 8, 9, 10],\n",
       "    'DNA'],\n",
       "   ['homeobox', [20], 'DNA'],\n",
       "   ['CAX repeat', [23, 24], 'DNA'],\n",
       "   ['open reading frame', [28, 29, 30], 'DNA']]],\n",
       " 1: [' When the homeodomain from HB24 was compared to known mammalian and Drosophila homeodomains it was found to be only moderately conserved , but when it was compared to a highly diverged Drosophila homeodomain , H2 . 0 , it was found to be 80 % identical .',\n",
       "  [['homeodomain', [2], 'DNA'],\n",
       "   ['HB24', [4], 'DNA'],\n",
       "   ['homeodomain', [32], 'DNA'],\n",
       "   ['Drosophila homeodomain', [31, 32], 'DNA']]],\n",
       " 2: [' The HB24 mRNA was absent or present at low levels in normal B and T lymphocytes ; however , with the appropriate activation signal HB24 mRNA was induced within several hours even in the presence of cycloheximide .',\n",
       "  [['HB24 mRNA', [1, 2], 'RNA'],\n",
       "   ['HB24 mRNA', [24, 25], 'RNA'],\n",
       "   ['T lymphocytes', [14, 15], 'cell_type']]]}"
      ]
     },
     "execution_count": 385,
     "metadata": {},
     "output_type": "execute_result"
    }
   ],
   "source": [
    "dicSentences_new_test"
   ]
  },
  {
   "cell_type": "code",
   "execution_count": 347,
   "metadata": {},
   "outputs": [
    {
     "data": {
      "text/plain": [
       "{0: ['FRASE', []],\n",
       " 1: ['FRASE', []],\n",
       " 2: ['FRASE', []],\n",
       " 3: ['FRASE', []],\n",
       " 4: ['FRASE', []],\n",
       " 5: ['FRASE', []],\n",
       " 6: ['FRASE', []],\n",
       " 7: ['FRASE', []],\n",
       " 8: ['FRASE', []],\n",
       " 9: ['FRASE', []],\n",
       " 10: ['FRASE', []],\n",
       " 11: ['FRASE', []],\n",
       " 12: ['FRASE', []],\n",
       " 13: ['FRASE', []],\n",
       " 14: ['FRASE', []],\n",
       " 15: ['FRASE', []],\n",
       " 16: ['FRASE', []],\n",
       " 17: ['FRASE', []],\n",
       " 18: ['FRASE', []],\n",
       " 19: ['FRASE', []],\n",
       " 20: ['FRASE', []],\n",
       " 21: ['FRASE', []],\n",
       " 22: ['FRASE', []],\n",
       " 23: ['FRASE', []],\n",
       " 24: ['FRASE', []],\n",
       " 25: ['FRASE', []],\n",
       " 26: ['FRASE', []],\n",
       " 27: ['FRASE', []],\n",
       " 28: ['FRASE', []],\n",
       " 29: ['FRASE', []],\n",
       " 30: ['FRASE', []],\n",
       " 31: ['FRASE', []],\n",
       " 32: ['FRASE', []],\n",
       " 33: ['FRASE', []],\n",
       " 34: ['FRASE', []],\n",
       " 35: ['FRASE', []],\n",
       " 36: ['FRASE', []],\n",
       " 37: ['FRASE', []],\n",
       " 38: ['FRASE', []],\n",
       " 39: ['FRASE', []],\n",
       " 40: ['FRASE', []],\n",
       " 41: ['FRASE', []],\n",
       " 42: ['FRASE', []],\n",
       " 43: ['FRASE', []],\n",
       " 44: ['FRASE', []],\n",
       " 45: ['FRASE', []],\n",
       " 46: ['FRASE', []],\n",
       " 47: ['FRASE', []],\n",
       " 48: ['FRASE', []],\n",
       " 49: ['FRASE', []],\n",
       " 50: ['FRASE', []],\n",
       " 51: ['FRASE', []],\n",
       " 52: ['FRASE', []],\n",
       " 53: ['FRASE', []],\n",
       " 54: ['FRASE', []],\n",
       " 55: ['FRASE', []],\n",
       " 56: ['FRASE', []],\n",
       " 57: ['FRASE', []],\n",
       " 58: ['FRASE', []],\n",
       " 59: ['FRASE', []],\n",
       " 60: ['FRASE', []],\n",
       " 61: ['FRASE', []],\n",
       " 62: ['FRASE', []],\n",
       " 63: ['FRASE', []],\n",
       " 64: ['FRASE', []],\n",
       " 65: ['FRASE', []],\n",
       " 66: ['FRASE', []],\n",
       " 67: ['FRASE', []],\n",
       " 68: ['FRASE', []],\n",
       " 69: ['FRASE', []],\n",
       " 70: ['FRASE', []],\n",
       " 71: ['FRASE', []],\n",
       " 72: ['FRASE', []],\n",
       " 73: ['FRASE', []],\n",
       " 74: ['FRASE', []],\n",
       " 75: ['FRASE', [[' c', [], 'cell_type']]],\n",
       " 76: ['FRASE', []],\n",
       " 77: ['FRASE', []],\n",
       " 78: ['FRASE', []],\n",
       " 79: ['FRASE', []],\n",
       " 80: ['FRASE', []],\n",
       " 81: ['FRASE', []],\n",
       " 82: ['FRASE', []],\n",
       " 83: ['FRASE', []],\n",
       " 84: ['FRASE', []],\n",
       " 85: ['FRASE', []],\n",
       " 86: ['FRASE', []],\n",
       " 87: ['FRASE', []],\n",
       " 88: ['FRASE', []],\n",
       " 89: ['FRASE', []],\n",
       " 90: ['FRASE', []],\n",
       " 91: ['FRASE', []],\n",
       " 92: ['FRASE', []],\n",
       " 93: ['FRASE', []],\n",
       " 94: ['FRASE', []],\n",
       " 95: ['FRASE', []],\n",
       " 96: ['FRASE', []],\n",
       " 97: ['FRASE', []],\n",
       " 98: ['FRASE', []],\n",
       " 99: ['FRASE', []]}"
      ]
     },
     "execution_count": 347,
     "metadata": {},
     "output_type": "execute_result"
    }
   ],
   "source": [
    "def getDicPredictions(tags, tokens):\n",
    "    listaTags=['DNA', 'RNA','cell_type', 'cell_line','protein']\n",
    "\n",
    "    dic_predictions = {}\n",
    "    i=0\n",
    "    for tags_sentence, tokens_sentence in zip(tags, tokens):\n",
    "        listaEntidades=[]\n",
    "        isEnt=0\n",
    "        labelAnterior=''\n",
    "        entidade=''\n",
    "        label=''\n",
    "        #listaTags\n",
    "        for classe in listaTags:\n",
    "            num_token=0\n",
    "            indices_entidade = list()\n",
    "            for tag, token in zip(tags_sentence, tokens_sentence):\n",
    "                #print(token, tag)\n",
    "                labels = tag.split('-')\n",
    "                if tag!='O' and classe in labels:\n",
    "                    isEnt=1\n",
    "                    indices_entidade.append(num_token)\n",
    "                    #print('---label-->:', label)\n",
    "                    #print('---labelAnterior-->:', labelAnterior)\n",
    "                    #if label == labelAnterior:\n",
    "                    if labelAnterior in classe:\n",
    "                        # continuacao\n",
    "                        entidade = entidade+' '+token\n",
    "                    elif labelAnterior=='': # primeiro token da entidade\n",
    "                        entidade=token\n",
    "                        labelAnterior=classe\n",
    "                    else: # mudou de entidade\n",
    "                        listaEntidades.append([entidade, indices_entidade, labelAnterior])\n",
    "                        indices_entidade=list()\n",
    "                        entidade=token\n",
    "                    labelAnterior = classe\n",
    "                else:\n",
    "                    if isEnt==1:\n",
    "                        if entidade:\n",
    "                            #print('---label-->:', label)\n",
    "                            listaEntidades.append([entidade, indices_entidade, classe])\n",
    "                            indices_entidade=list()\n",
    "                    entidade=''\n",
    "                    labelAnterior=''\n",
    "                    isEnt=0\n",
    "                    label=''\n",
    "                num_token=num_token+1\n",
    "\n",
    "        if len(listaEntidades)>0:\n",
    "            dic_predictions[i]=['FRASE', listaEntidades]\n",
    "        else:\n",
    "            dic_predictions[i]=['FRASE', []]\n",
    "        i=i+1\n",
    "\n",
    "    return dic_predictions\n",
    "dic_predictions = getDicPredictions(tags, tokens)\n",
    "dic_predictions"
   ]
  },
  {
   "cell_type": "code",
   "execution_count": 348,
   "metadata": {},
   "outputs": [
    {
     "name": "stdout",
     "output_type": "stream",
     "text": [
      "idx2tag: {0: 'RNA', 1: 'protein-protein', 2: 'RNA-cell_type', 3: 'protein-cell_line', 4: 'DNA-RNA', 5: 'cell_line-cell_line', 6: 'RNA-RNA', 7: 'cell_type-cell_type', 8: 'protein', 9: 'protein-DNA', 10: 'DNA-cell_line', 11: 'cell_line-RNA', 12: 'protein-cell_type', 13: 'O', 14: 'cell_line-DNA', 15: 'cell_type', 16: 'DNA', 17: 'cell_type-DNA', 18: 'cell_line', 19: 'DNA-DNA', 20: 'protein-RNA', 21: 'cell_type-cell_line', 22: '<pad>'}\n",
      "['FRASE', [[' methionine codon - initiated open reading frame', [4, 5, 6, 7, 8, 9, 10], 'DNA'], [' homeobox', [20], 'DNA'], [' cax repeat', [23, 24], 'DNA'], [' open reading frame', [28, 29, 30], 'DNA']]]\n",
      "len(dic_predictions): 3\n"
     ]
    }
   ],
   "source": [
    "tags, tokens = f.predictBERTNER_multi_IO(sentences, path_model)\n",
    "dic_predictions = getDicPredictions(tags, tokens)\n",
    "print(dic_predictions[0])\n",
    "print('len(dic_predictions):', len(dic_predictions))"
   ]
  },
  {
   "cell_type": "code",
   "execution_count": 370,
   "metadata": {},
   "outputs": [
    {
     "data": {
      "text/plain": [
       "['FRASE',\n",
       " [[' methionine codon - initiated open reading frame',\n",
       "   [4, 5, 6, 7, 8, 9, 10],\n",
       "   'DNA'],\n",
       "  [' homeobox', [20], 'DNA'],\n",
       "  [' cax repeat', [23, 24], 'DNA'],\n",
       "  [' open reading frame', [28, 29, 30], 'DNA']]]"
      ]
     },
     "execution_count": 370,
     "metadata": {},
     "output_type": "execute_result"
    }
   ],
   "source": [
    "dic_predictions[0]"
   ]
  },
  {
   "cell_type": "code",
   "execution_count": 371,
   "metadata": {},
   "outputs": [
    {
     "data": {
      "text/plain": [
       "[' There is a single methionine codon - initiated open reading frame of 1 , 458 nt in frame with a homeobox and a CAX repeat , and the open reading frame is predicted to encode a protein of 51 , 659 daltons .',\n",
       " [[['methionine codon - initiated open reading frame',\n",
       "    [4, 5, 6, 7, 8, 9, 10],\n",
       "    'DNA'],\n",
       "   ['homeobox', [20], 'DNA'],\n",
       "   ['CAX repeat', [23, 24], 'DNA'],\n",
       "   ['open reading frame', [28, 29, 30], 'DNA']]]]"
      ]
     },
     "execution_count": 371,
     "metadata": {},
     "output_type": "execute_result"
    }
   ],
   "source": [
    "dicSentences_new_test[0]"
   ]
  },
  {
   "cell_type": "code",
   "execution_count": 372,
   "metadata": {},
   "outputs": [
    {
     "data": {
      "text/plain": [
       "[['methionine codon - initiated open reading frame',\n",
       "  [4, 5, 6, 7, 8, 9, 10],\n",
       "  'DNA'],\n",
       " ['homeobox', [20], 'DNA'],\n",
       " ['CAX repeat', [23, 24], 'DNA'],\n",
       " ['open reading frame', [28, 29, 30], 'DNA']]"
      ]
     },
     "execution_count": 372,
     "metadata": {},
     "output_type": "execute_result"
    }
   ],
   "source": [
    "dicSentences_new_test[0][1][0]"
   ]
  },
  {
   "cell_type": "code",
   "execution_count": 386,
   "metadata": {},
   "outputs": [
    {
     "name": "stdout",
     "output_type": "stream",
     "text": [
      "achou\n",
      "achou\n",
      "achou\n",
      "achou\n",
      "achou\n",
      "achou\n",
      "achou\n",
      "achou\n",
      "achou\n",
      "numErro1: 2\n",
      "numErro2: 3\n",
      "              precision    recall  f1-score   support\n",
      "\n",
      "         DNA   0.700000  0.875000  0.777778         8\n",
      "           O   0.000000  0.000000  0.000000         3\n",
      "         RNA   1.000000  1.000000  1.000000         2\n",
      "   cell_type   0.000000  0.000000  0.000000         1\n",
      "\n",
      "    accuracy                       0.642857        14\n",
      "   macro avg   0.425000  0.468750  0.444444        14\n",
      "weighted avg   0.542857  0.642857  0.587302        14\n",
      "\n"
     ]
    }
   ],
   "source": [
    "def AvalFinal(dicSentences_new_test, dic_predictions_all, BATCH):\n",
    "\n",
    "    region_true_list, region_pred_list = list(), list() # labels\n",
    "    region_true_count, region_pred_count = 0, 0 # contagem\n",
    "    numErro1=0\n",
    "    numErro2=0\n",
    "\n",
    "    for i in range(0, BATCH, 1):\n",
    "        if i<len(dicSentences_new_test):\n",
    "        #if 1==1:           \n",
    "            #print('\\n---Label vs predicao--------')\n",
    "            #print('frase:', dicSentences_new_test[i][0])\n",
    "            #print('i:', i)\n",
    "            #print(dicSentences_new_test[i][1])\n",
    "            #print(dic_predictions_all[i][1])\n",
    "            entidades_gabarito = dicSentences_new_test[i][1]\n",
    "            try:\n",
    "                #print(dic_predictions_all[i])\n",
    "                entidades_preditas = dic_predictions_all[i][1]\n",
    "            except:\n",
    "                print('erro, caiu no except na AvalFinal:', str(i))\n",
    "                raise\n",
    "            #print('entidades_preditas:', entidades_preditas)\n",
    "            for entidade_gabarito in entidades_gabarito:\n",
    "                #entidade_gabarito=entidade_gabarito[0]\n",
    "                indices_gabarito = entidade_gabarito[1]\n",
    "                tag_gabarito = entidade_gabarito[2]\n",
    "                region_true_count=region_true_count+1\n",
    "                region_true_list.append(tag_gabarito)\n",
    "                # ver se previu essa entidade\n",
    "                previu=0\n",
    "                for entidade_predita in entidades_preditas:\n",
    "                    indices_predita = entidade_predita[1]\n",
    "                    tag_predita = entidade_predita[2]\n",
    "                    if indices_predita == indices_gabarito:\n",
    "                        region_pred_list.append(tag_predita)\n",
    "                        previu=1\n",
    "                        print('achou')\n",
    "                        if tag_predita !='O':\n",
    "                            region_pred_count=region_pred_count+1\n",
    "                        break\n",
    "                if previu==0:\n",
    "                    numErro1=numErro1+1\n",
    "                    region_pred_list.append('O')\n",
    "\n",
    "            # agora o contrario, ver o q previu mas nao era\n",
    "\n",
    "            for entidade_predita in entidades_preditas:\n",
    "                indices_predita = entidade_predita[1]\n",
    "                tag_predita = entidade_predita[2]\n",
    "                # ver se a entidade prevista existe ou é FP\n",
    "                existe=0\n",
    "                for entidade_gabarito in entidades_gabarito:\n",
    "                    #entidade_gabarito=entidade_gabarito[0]\n",
    "                    indices_gabarito = entidade_gabarito[1]\n",
    "                    if indices_predita == indices_gabarito:\n",
    "                        existe=1\n",
    "                        break\n",
    "                if existe==0:\n",
    "                    numErro2 = numErro2+1\n",
    "                    region_true_list.append('O')\n",
    "                    region_pred_list.append(tag_predita)\n",
    "\n",
    "    #print('===resultados====')\n",
    "    #print('region_true_list:', region_true_list)\n",
    "    #print('region_pred_list:', region_pred_list)\n",
    "\n",
    "    print('numErro1:', numErro1)\n",
    "    print('numErro2:', numErro2)\n",
    "    #print(classification_report(region_true_list, region_pred_list, labels=['O', 'PROTEIN', 'DNA', 'RNA', 'CELL_TYPE', 'CELL_LINE'], target_names=['O', 'PROTEIN', 'DNA', 'RNA', 'CELL_TYPE', 'CELL_LINE'], digits=6))\n",
    "    print(classification_report(region_true_list, region_pred_list, digits=6))\n",
    "\n",
    "    return region_true_list, region_pred_list\n",
    "\n",
    "region_true_list, region_pred_list = AvalFinal(dicSentences_new_test, dic_predictions, BATCH)\n"
   ]
  },
  {
   "cell_type": "code",
   "execution_count": 374,
   "metadata": {},
   "outputs": [],
   "source": [
    "#dic_predictions[5]"
   ]
  },
  {
   "cell_type": "code",
   "execution_count": 375,
   "metadata": {},
   "outputs": [
    {
     "data": {
      "text/plain": [
       "['DNA',\n",
       " 'DNA',\n",
       " 'DNA',\n",
       " 'DNA',\n",
       " 'DNA',\n",
       " 'DNA',\n",
       " 'DNA',\n",
       " 'O',\n",
       " 'O',\n",
       " 'RNA',\n",
       " 'RNA',\n",
       " 'O',\n",
       " 'O']"
      ]
     },
     "execution_count": 375,
     "metadata": {},
     "output_type": "execute_result"
    }
   ],
   "source": [
    "region_true_list[0:30]"
   ]
  },
  {
   "cell_type": "code",
   "execution_count": 376,
   "metadata": {},
   "outputs": [
    {
     "data": {
      "text/plain": [
       "['DNA',\n",
       " 'DNA',\n",
       " 'DNA',\n",
       " 'DNA',\n",
       " 'DNA',\n",
       " 'DNA',\n",
       " 'O',\n",
       " 'DNA',\n",
       " 'DNA',\n",
       " 'RNA',\n",
       " 'RNA',\n",
       " 'DNA',\n",
       " 'DNA']"
      ]
     },
     "execution_count": 376,
     "metadata": {},
     "output_type": "execute_result"
    }
   ],
   "source": [
    "region_pred_list[0:30]"
   ]
  },
  {
   "cell_type": "code",
   "execution_count": 380,
   "metadata": {},
   "outputs": [
    {
     "data": {
      "text/plain": [
       "{0: [' There is a single methionine codon - initiated open reading frame of 1 , 458 nt in frame with a homeobox and a CAX repeat , and the open reading frame is predicted to encode a protein of 51 , 659 daltons .',\n",
       "  [[['methionine codon - initiated open reading frame',\n",
       "     [4, 5, 6, 7, 8, 9, 10],\n",
       "     'DNA'],\n",
       "    ['homeobox', [20], 'DNA'],\n",
       "    ['CAX repeat', [23, 24], 'DNA'],\n",
       "    ['open reading frame', [28, 29, 30], 'DNA']]]],\n",
       " 1: [' When the homeodomain from HB24 was compared to known mammalian and Drosophila homeodomains it was found to be only moderately conserved , but when it was compared to a highly diverged Drosophila homeodomain , H2 . 0 , it was found to be 80 % identical .',\n",
       "  [[['homeodomain', [2], 'DNA'],\n",
       "    ['HB24', [4], 'DNA'],\n",
       "    ['homeodomain', [32], 'DNA']],\n",
       "   [['Drosophila homeodomain', [31, 32], 'DNA']]]],\n",
       " 2: [' The HB24 mRNA was absent or present at low levels in normal B and T lymphocytes ; however , with the appropriate activation signal HB24 mRNA was induced within several hours even in the presence of cycloheximide .',\n",
       "  [[['HB24 mRNA', [1, 2], 'RNA'], ['HB24 mRNA', [24, 25], 'RNA']],\n",
       "   [['T lymphocytes', [14, 15], 'cell_type']]]]}"
      ]
     },
     "execution_count": 380,
     "metadata": {},
     "output_type": "execute_result"
    }
   ],
   "source": [
    "dicSentences_new_test"
   ]
  },
  {
   "cell_type": "code",
   "execution_count": 358,
   "metadata": {},
   "outputs": [
    {
     "data": {
      "text/plain": [
       "{0: ['FRASE',\n",
       "  [[' methionine codon - initiated open reading frame',\n",
       "    [4, 5, 6, 7, 8, 9, 10],\n",
       "    'DNA'],\n",
       "   [' homeobox', [20], 'DNA'],\n",
       "   [' cax repeat', [23, 24], 'DNA'],\n",
       "   [' open reading frame', [28, 29, 30], 'DNA']]],\n",
       " 1: ['FRASE',\n",
       "  [[' homeodomain', [2], 'DNA'],\n",
       "   [' hb24', [4], 'DNA'],\n",
       "   [' drosophila homeodomain', [31, 32], 'DNA'],\n",
       "   [' h2 . 0', [34, 35, 36], 'DNA']]],\n",
       " 2: ['FRASE',\n",
       "  [[' hb24', [1], 'DNA'],\n",
       "   [' hb24', [24], 'DNA'],\n",
       "   [' hb24 mrna', [1, 2], 'RNA'],\n",
       "   [' hb24 mrna', [24, 25], 'RNA']]]}"
      ]
     },
     "execution_count": 358,
     "metadata": {},
     "output_type": "execute_result"
    }
   ],
   "source": [
    "dic_predictions"
   ]
  },
  {
   "cell_type": "code",
   "execution_count": null,
   "metadata": {},
   "outputs": [],
   "source": [
    "region_true_list, region_pred_list = AvalFinal(dicSentences_new_test, dic_predictions, BATCH)\n",
    "print(confusion_matrix(region_true_list, region_pred_list))"
   ]
  },
  {
   "cell_type": "code",
   "execution_count": null,
   "metadata": {},
   "outputs": [],
   "source": []
  },
  {
   "cell_type": "code",
   "execution_count": null,
   "metadata": {},
   "outputs": [],
   "source": []
  }
 ],
 "metadata": {
  "kernelspec": {
   "display_name": "Python 3",
   "language": "python",
   "name": "python3"
  },
  "language_info": {
   "codemirror_mode": {
    "name": "ipython",
    "version": 3
   },
   "file_extension": ".py",
   "mimetype": "text/x-python",
   "name": "python",
   "nbconvert_exporter": "python",
   "pygments_lexer": "ipython3",
   "version": "3.8.5"
  }
 },
 "nbformat": 4,
 "nbformat_minor": 4
}
